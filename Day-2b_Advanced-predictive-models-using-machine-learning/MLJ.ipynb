{
 "cells": [
  {
   "cell_type": "markdown",
   "id": "bc301f7c",
   "metadata": {},
   "source": [
    "# Introduction to Julia for Data Science\n",
    "## Advanced predictive models using Machine Learning (13:00-15:00)\n",
    "Day 2 (Wednesday, Jan 18, 2023)"
   ]
  },
  {
   "cell_type": "markdown",
   "id": "562611f3",
   "metadata": {},
   "source": [
    "## 1. Machine Learning Engineering"
   ]
  },
  {
   "cell_type": "markdown",
   "id": "c61e6170",
   "metadata": {},
   "source": [
    "![](img/ML_Workflow.png)\n",
    "<div style=\"text-align: right\">Source: Burkov Andriy, ML Engineering, 2020, CC BY-SA 4.0</div> "
   ]
  },
  {
   "cell_type": "markdown",
   "id": "986bd19b",
   "metadata": {},
   "source": [
    "Lifecycle of Machine Learning project is a complex process involving multiple areas of expertise and set of skills. To succeed with an enterprise-level ML project, we'll need:\n",
    "* project managers, product owners and business analysts with good understanding of business problem and ability to define the goal and manage the execution of the initiative,\n",
    "* data engineers, data analysts and data scientists with in-depth knowledge about the data, technical skills and statistical (modelling) expertise,\n",
    "* DevOps engineers, software engineers, application developers taking care of model deployment in secure, robust and performant manner, often with embedment into a bigger application.\n",
    "\n",
    "Increasing penetration of ML models in the business and advancements in the deployment areas created a new area of **Machine Learning engineering** and corresponding position of **Machine Learning engineer**. Activities related to post-evaluation steps are also often reffered to as **MLOps (Machine Learning Operations)**, similarly to operations term used for ongoing maintanance and monitoring of software applications."
   ]
  },
  {
   "cell_type": "markdown",
   "id": "cc62da5e",
   "metadata": {},
   "source": [
    "Due to the complexity of the process, multiple frameworks, tools and packages are created to handle multiple steps in the Machine Learning pipeline:\n",
    "* data preprocessing and cleaning,\n",
    "* feature engineering,\n",
    "* model evaluation and reporting the model's quality,\n",
    "* training and hyperparameter tuning of multiple models,\n",
    "* model deployment and serving.\n",
    "\n",
    "In Julia one of prominent package for standardizing ML process is [`MLJ`](https://github.com/alan-turing-institute/MLJ.jl/tree/master). We'll use the framework to streamline data preprocessing, model building and evaluation."
   ]
  },
  {
   "cell_type": "markdown",
   "id": "4b9aaf79",
   "metadata": {},
   "source": [
    "## 2. Loading the dataset"
   ]
  },
  {
   "cell_type": "markdown",
   "id": "6123c7d9",
   "metadata": {},
   "source": [
    "Let's load the [Bank Marketing](https://archive.ics.uci.edu/ml/datasets/Bank+Marketing) data and predict if the client will subscribe to a term deposit (variable `y`). \n",
    "\n",
    "The dataset contains attributes related to:\n",
    "* characteristics of the bank's client,\n",
    "* statistics from the ongoing and previous marketing campaigns,\n",
    "* social and economic indicators.\n",
    "\n",
    "Note that `Logging` package is used to turn off the messages on the INFO and DEBUG levels to keep the output in the notebook cleaner - to learn more about logging in Julia check the [standard library documentation](https://docs.julialang.org/en/v1/stdlib/Logging/)."
   ]
  },
  {
   "cell_type": "code",
   "execution_count": 1,
   "id": "e90ba19a",
   "metadata": {},
   "outputs": [
    {
     "data": {
      "text/plain": [
       "LogLevel(1)"
      ]
     },
     "execution_count": 1,
     "metadata": {},
     "output_type": "execute_result"
    }
   ],
   "source": [
    "using MLJ\n",
    "using CSV, DataFrames\n",
    "using Random, Logging\n",
    "using Plots\n",
    "Logging.disable_logging(Logging.Info)"
   ]
  },
  {
   "cell_type": "markdown",
   "id": "6e604360",
   "metadata": {},
   "source": [
    "Using `@warn` macro for logging warn-level messages. For more logging levels check [Log event structure](https://docs.julialang.org/en/v1/stdlib/Logging/#Log-event-structure) section in Julia's documentation."
   ]
  },
  {
   "cell_type": "code",
   "execution_count": 2,
   "id": "3d9ff426",
   "metadata": {},
   "outputs": [
    {
     "name": "stderr",
     "output_type": "stream",
     "text": [
      "\u001b[33m\u001b[1m┌ \u001b[22m\u001b[39m\u001b[33m\u001b[1mWarning: \u001b[22m\u001b[39mYou are warned.\n",
      "\u001b[33m\u001b[1m└ \u001b[22m\u001b[39m\u001b[90m@ Main In[2]:1\u001b[39m\n"
     ]
    }
   ],
   "source": [
    "@warn \"You are warned.\""
   ]
  },
  {
   "cell_type": "markdown",
   "id": "5056e774",
   "metadata": {},
   "source": [
    "Let's load the Bank Marketing data and inspect the data."
   ]
  },
  {
   "cell_type": "code",
   "execution_count": 3,
   "id": "0ecb614c",
   "metadata": {
    "scrolled": true
   },
   "outputs": [
    {
     "data": {
      "text/html": [
       "<div><div style = \"float: left;\"><span>41188×21 DataFrame</span></div><div style = \"float: right;\"><span style = \"font-style: italic;\">41163 rows omitted</span></div><div style = \"clear: both;\"></div></div><div class = \"data-frame\" style = \"overflow-x: scroll;\"><table class = \"data-frame\" style = \"margin-bottom: 6px;\"><thead><tr class = \"header\"><th class = \"rowNumber\" style = \"font-weight: bold; text-align: right;\">Row</th><th style = \"text-align: left;\">age</th><th style = \"text-align: left;\">job</th><th style = \"text-align: left;\">marital</th><th style = \"text-align: left;\">education</th><th style = \"text-align: left;\">default</th><th style = \"text-align: left;\">housing</th><th style = \"text-align: left;\">loan</th><th style = \"text-align: left;\">contact</th><th style = \"text-align: left;\">month</th><th style = \"text-align: left;\">day_of_week</th><th style = \"text-align: left;\">duration</th><th style = \"text-align: left;\">campaign</th><th style = \"text-align: left;\">pdays</th><th style = \"text-align: left;\">previous</th><th style = \"text-align: left;\">poutcome</th><th style = \"text-align: left;\">emp.var.rate</th><th style = \"text-align: left;\">cons.price.idx</th><th style = \"text-align: left;\">cons.conf.idx</th><th style = \"text-align: left;\">euribor3m</th><th style = \"text-align: left;\">nr.employed</th><th style = \"text-align: left;\">y</th></tr><tr class = \"subheader headerLastRow\"><th class = \"rowNumber\" style = \"font-weight: bold; text-align: right;\"></th><th title = \"Int64\" style = \"text-align: left;\">Int64</th><th title = \"String15\" style = \"text-align: left;\">String15</th><th title = \"String15\" style = \"text-align: left;\">String15</th><th title = \"String31\" style = \"text-align: left;\">String31</th><th title = \"String7\" style = \"text-align: left;\">String7</th><th title = \"String7\" style = \"text-align: left;\">String7</th><th title = \"String7\" style = \"text-align: left;\">String7</th><th title = \"String15\" style = \"text-align: left;\">String15</th><th title = \"String3\" style = \"text-align: left;\">String3</th><th title = \"String3\" style = \"text-align: left;\">String3</th><th title = \"Int64\" style = \"text-align: left;\">Int64</th><th title = \"Int64\" style = \"text-align: left;\">Int64</th><th title = \"Int64\" style = \"text-align: left;\">Int64</th><th title = \"Int64\" style = \"text-align: left;\">Int64</th><th title = \"String15\" style = \"text-align: left;\">String15</th><th title = \"Float64\" style = \"text-align: left;\">Float64</th><th title = \"Float64\" style = \"text-align: left;\">Float64</th><th title = \"Float64\" style = \"text-align: left;\">Float64</th><th title = \"Float64\" style = \"text-align: left;\">Float64</th><th title = \"Float64\" style = \"text-align: left;\">Float64</th><th title = \"String3\" style = \"text-align: left;\">String3</th></tr></thead><tbody><tr><td class = \"rowNumber\" style = \"font-weight: bold; text-align: right;\">1</td><td style = \"text-align: right;\">56</td><td style = \"text-align: left;\">housemaid</td><td style = \"text-align: left;\">married</td><td style = \"text-align: left;\">basic.4y</td><td style = \"text-align: left;\">no</td><td style = \"text-align: left;\">no</td><td style = \"text-align: left;\">no</td><td style = \"text-align: left;\">telephone</td><td style = \"text-align: left;\">may</td><td style = \"text-align: left;\">mon</td><td style = \"text-align: right;\">261</td><td style = \"text-align: right;\">1</td><td style = \"text-align: right;\">999</td><td style = \"text-align: right;\">0</td><td style = \"text-align: left;\">nonexistent</td><td style = \"text-align: right;\">1.1</td><td style = \"text-align: right;\">93.994</td><td style = \"text-align: right;\">-36.4</td><td style = \"text-align: right;\">4.857</td><td style = \"text-align: right;\">5191.0</td><td style = \"text-align: left;\">no</td></tr><tr><td class = \"rowNumber\" style = \"font-weight: bold; text-align: right;\">2</td><td style = \"text-align: right;\">57</td><td style = \"text-align: left;\">services</td><td style = \"text-align: left;\">married</td><td style = \"text-align: left;\">high.school</td><td style = \"text-align: left;\">unknown</td><td style = \"text-align: left;\">no</td><td style = \"text-align: left;\">no</td><td style = \"text-align: left;\">telephone</td><td style = \"text-align: left;\">may</td><td style = \"text-align: left;\">mon</td><td style = \"text-align: right;\">149</td><td style = \"text-align: right;\">1</td><td style = \"text-align: right;\">999</td><td style = \"text-align: right;\">0</td><td style = \"text-align: left;\">nonexistent</td><td style = \"text-align: right;\">1.1</td><td style = \"text-align: right;\">93.994</td><td style = \"text-align: right;\">-36.4</td><td style = \"text-align: right;\">4.857</td><td style = \"text-align: right;\">5191.0</td><td style = \"text-align: left;\">no</td></tr><tr><td class = \"rowNumber\" style = \"font-weight: bold; text-align: right;\">3</td><td style = \"text-align: right;\">37</td><td style = \"text-align: left;\">services</td><td style = \"text-align: left;\">married</td><td style = \"text-align: left;\">high.school</td><td style = \"text-align: left;\">no</td><td style = \"text-align: left;\">yes</td><td style = \"text-align: left;\">no</td><td style = \"text-align: left;\">telephone</td><td style = \"text-align: left;\">may</td><td style = \"text-align: left;\">mon</td><td style = \"text-align: right;\">226</td><td style = \"text-align: right;\">1</td><td style = \"text-align: right;\">999</td><td style = \"text-align: right;\">0</td><td style = \"text-align: left;\">nonexistent</td><td style = \"text-align: right;\">1.1</td><td style = \"text-align: right;\">93.994</td><td style = \"text-align: right;\">-36.4</td><td style = \"text-align: right;\">4.857</td><td style = \"text-align: right;\">5191.0</td><td style = \"text-align: left;\">no</td></tr><tr><td class = \"rowNumber\" style = \"font-weight: bold; text-align: right;\">4</td><td style = \"text-align: right;\">40</td><td style = \"text-align: left;\">admin.</td><td style = \"text-align: left;\">married</td><td style = \"text-align: left;\">basic.6y</td><td style = \"text-align: left;\">no</td><td style = \"text-align: left;\">no</td><td style = \"text-align: left;\">no</td><td style = \"text-align: left;\">telephone</td><td style = \"text-align: left;\">may</td><td style = \"text-align: left;\">mon</td><td style = \"text-align: right;\">151</td><td style = \"text-align: right;\">1</td><td style = \"text-align: right;\">999</td><td style = \"text-align: right;\">0</td><td style = \"text-align: left;\">nonexistent</td><td style = \"text-align: right;\">1.1</td><td style = \"text-align: right;\">93.994</td><td style = \"text-align: right;\">-36.4</td><td style = \"text-align: right;\">4.857</td><td style = \"text-align: right;\">5191.0</td><td style = \"text-align: left;\">no</td></tr><tr><td class = \"rowNumber\" style = \"font-weight: bold; text-align: right;\">5</td><td style = \"text-align: right;\">56</td><td style = \"text-align: left;\">services</td><td style = \"text-align: left;\">married</td><td style = \"text-align: left;\">high.school</td><td style = \"text-align: left;\">no</td><td style = \"text-align: left;\">no</td><td style = \"text-align: left;\">yes</td><td style = \"text-align: left;\">telephone</td><td style = \"text-align: left;\">may</td><td style = \"text-align: left;\">mon</td><td style = \"text-align: right;\">307</td><td style = \"text-align: right;\">1</td><td style = \"text-align: right;\">999</td><td style = \"text-align: right;\">0</td><td style = \"text-align: left;\">nonexistent</td><td style = \"text-align: right;\">1.1</td><td style = \"text-align: right;\">93.994</td><td style = \"text-align: right;\">-36.4</td><td style = \"text-align: right;\">4.857</td><td style = \"text-align: right;\">5191.0</td><td style = \"text-align: left;\">no</td></tr><tr><td class = \"rowNumber\" style = \"font-weight: bold; text-align: right;\">6</td><td style = \"text-align: right;\">45</td><td style = \"text-align: left;\">services</td><td style = \"text-align: left;\">married</td><td style = \"text-align: left;\">basic.9y</td><td style = \"text-align: left;\">unknown</td><td style = \"text-align: left;\">no</td><td style = \"text-align: left;\">no</td><td style = \"text-align: left;\">telephone</td><td style = \"text-align: left;\">may</td><td style = \"text-align: left;\">mon</td><td style = \"text-align: right;\">198</td><td style = \"text-align: right;\">1</td><td style = \"text-align: right;\">999</td><td style = \"text-align: right;\">0</td><td style = \"text-align: left;\">nonexistent</td><td style = \"text-align: right;\">1.1</td><td style = \"text-align: right;\">93.994</td><td style = \"text-align: right;\">-36.4</td><td style = \"text-align: right;\">4.857</td><td style = \"text-align: right;\">5191.0</td><td style = \"text-align: left;\">no</td></tr><tr><td class = \"rowNumber\" style = \"font-weight: bold; text-align: right;\">7</td><td style = \"text-align: right;\">59</td><td style = \"text-align: left;\">admin.</td><td style = \"text-align: left;\">married</td><td style = \"text-align: left;\">professional.course</td><td style = \"text-align: left;\">no</td><td style = \"text-align: left;\">no</td><td style = \"text-align: left;\">no</td><td style = \"text-align: left;\">telephone</td><td style = \"text-align: left;\">may</td><td style = \"text-align: left;\">mon</td><td style = \"text-align: right;\">139</td><td style = \"text-align: right;\">1</td><td style = \"text-align: right;\">999</td><td style = \"text-align: right;\">0</td><td style = \"text-align: left;\">nonexistent</td><td style = \"text-align: right;\">1.1</td><td style = \"text-align: right;\">93.994</td><td style = \"text-align: right;\">-36.4</td><td style = \"text-align: right;\">4.857</td><td style = \"text-align: right;\">5191.0</td><td style = \"text-align: left;\">no</td></tr><tr><td class = \"rowNumber\" style = \"font-weight: bold; text-align: right;\">8</td><td style = \"text-align: right;\">41</td><td style = \"text-align: left;\">blue-collar</td><td style = \"text-align: left;\">married</td><td style = \"text-align: left;\">unknown</td><td style = \"text-align: left;\">unknown</td><td style = \"text-align: left;\">no</td><td style = \"text-align: left;\">no</td><td style = \"text-align: left;\">telephone</td><td style = \"text-align: left;\">may</td><td style = \"text-align: left;\">mon</td><td style = \"text-align: right;\">217</td><td style = \"text-align: right;\">1</td><td style = \"text-align: right;\">999</td><td style = \"text-align: right;\">0</td><td style = \"text-align: left;\">nonexistent</td><td style = \"text-align: right;\">1.1</td><td style = \"text-align: right;\">93.994</td><td style = \"text-align: right;\">-36.4</td><td style = \"text-align: right;\">4.857</td><td style = \"text-align: right;\">5191.0</td><td style = \"text-align: left;\">no</td></tr><tr><td class = \"rowNumber\" style = \"font-weight: bold; text-align: right;\">9</td><td style = \"text-align: right;\">24</td><td style = \"text-align: left;\">technician</td><td style = \"text-align: left;\">single</td><td style = \"text-align: left;\">professional.course</td><td style = \"text-align: left;\">no</td><td style = \"text-align: left;\">yes</td><td style = \"text-align: left;\">no</td><td style = \"text-align: left;\">telephone</td><td style = \"text-align: left;\">may</td><td style = \"text-align: left;\">mon</td><td style = \"text-align: right;\">380</td><td style = \"text-align: right;\">1</td><td style = \"text-align: right;\">999</td><td style = \"text-align: right;\">0</td><td style = \"text-align: left;\">nonexistent</td><td style = \"text-align: right;\">1.1</td><td style = \"text-align: right;\">93.994</td><td style = \"text-align: right;\">-36.4</td><td style = \"text-align: right;\">4.857</td><td style = \"text-align: right;\">5191.0</td><td style = \"text-align: left;\">no</td></tr><tr><td class = \"rowNumber\" style = \"font-weight: bold; text-align: right;\">10</td><td style = \"text-align: right;\">25</td><td style = \"text-align: left;\">services</td><td style = \"text-align: left;\">single</td><td style = \"text-align: left;\">high.school</td><td style = \"text-align: left;\">no</td><td style = \"text-align: left;\">yes</td><td style = \"text-align: left;\">no</td><td style = \"text-align: left;\">telephone</td><td style = \"text-align: left;\">may</td><td style = \"text-align: left;\">mon</td><td style = \"text-align: right;\">50</td><td style = \"text-align: right;\">1</td><td style = \"text-align: right;\">999</td><td style = \"text-align: right;\">0</td><td style = \"text-align: left;\">nonexistent</td><td style = \"text-align: right;\">1.1</td><td style = \"text-align: right;\">93.994</td><td style = \"text-align: right;\">-36.4</td><td style = \"text-align: right;\">4.857</td><td style = \"text-align: right;\">5191.0</td><td style = \"text-align: left;\">no</td></tr><tr><td class = \"rowNumber\" style = \"font-weight: bold; text-align: right;\">11</td><td style = \"text-align: right;\">41</td><td style = \"text-align: left;\">blue-collar</td><td style = \"text-align: left;\">married</td><td style = \"text-align: left;\">unknown</td><td style = \"text-align: left;\">unknown</td><td style = \"text-align: left;\">no</td><td style = \"text-align: left;\">no</td><td style = \"text-align: left;\">telephone</td><td style = \"text-align: left;\">may</td><td style = \"text-align: left;\">mon</td><td style = \"text-align: right;\">55</td><td style = \"text-align: right;\">1</td><td style = \"text-align: right;\">999</td><td style = \"text-align: right;\">0</td><td style = \"text-align: left;\">nonexistent</td><td style = \"text-align: right;\">1.1</td><td style = \"text-align: right;\">93.994</td><td style = \"text-align: right;\">-36.4</td><td style = \"text-align: right;\">4.857</td><td style = \"text-align: right;\">5191.0</td><td style = \"text-align: left;\">no</td></tr><tr><td class = \"rowNumber\" style = \"font-weight: bold; text-align: right;\">12</td><td style = \"text-align: right;\">25</td><td style = \"text-align: left;\">services</td><td style = \"text-align: left;\">single</td><td style = \"text-align: left;\">high.school</td><td style = \"text-align: left;\">no</td><td style = \"text-align: left;\">yes</td><td style = \"text-align: left;\">no</td><td style = \"text-align: left;\">telephone</td><td style = \"text-align: left;\">may</td><td style = \"text-align: left;\">mon</td><td style = \"text-align: right;\">222</td><td style = \"text-align: right;\">1</td><td style = \"text-align: right;\">999</td><td style = \"text-align: right;\">0</td><td style = \"text-align: left;\">nonexistent</td><td style = \"text-align: right;\">1.1</td><td style = \"text-align: right;\">93.994</td><td style = \"text-align: right;\">-36.4</td><td style = \"text-align: right;\">4.857</td><td style = \"text-align: right;\">5191.0</td><td style = \"text-align: left;\">no</td></tr><tr><td class = \"rowNumber\" style = \"font-weight: bold; text-align: right;\">13</td><td style = \"text-align: right;\">29</td><td style = \"text-align: left;\">blue-collar</td><td style = \"text-align: left;\">single</td><td style = \"text-align: left;\">high.school</td><td style = \"text-align: left;\">no</td><td style = \"text-align: left;\">no</td><td style = \"text-align: left;\">yes</td><td style = \"text-align: left;\">telephone</td><td style = \"text-align: left;\">may</td><td style = \"text-align: left;\">mon</td><td style = \"text-align: right;\">137</td><td style = \"text-align: right;\">1</td><td style = \"text-align: right;\">999</td><td style = \"text-align: right;\">0</td><td style = \"text-align: left;\">nonexistent</td><td style = \"text-align: right;\">1.1</td><td style = \"text-align: right;\">93.994</td><td style = \"text-align: right;\">-36.4</td><td style = \"text-align: right;\">4.857</td><td style = \"text-align: right;\">5191.0</td><td style = \"text-align: left;\">no</td></tr><tr><td style = \"text-align: right;\">&vellip;</td><td style = \"text-align: right;\">&vellip;</td><td style = \"text-align: right;\">&vellip;</td><td style = \"text-align: right;\">&vellip;</td><td style = \"text-align: right;\">&vellip;</td><td style = \"text-align: right;\">&vellip;</td><td style = \"text-align: right;\">&vellip;</td><td style = \"text-align: right;\">&vellip;</td><td style = \"text-align: right;\">&vellip;</td><td style = \"text-align: right;\">&vellip;</td><td style = \"text-align: right;\">&vellip;</td><td style = \"text-align: right;\">&vellip;</td><td style = \"text-align: right;\">&vellip;</td><td style = \"text-align: right;\">&vellip;</td><td style = \"text-align: right;\">&vellip;</td><td style = \"text-align: right;\">&vellip;</td><td style = \"text-align: right;\">&vellip;</td><td style = \"text-align: right;\">&vellip;</td><td style = \"text-align: right;\">&vellip;</td><td style = \"text-align: right;\">&vellip;</td><td style = \"text-align: right;\">&vellip;</td><td style = \"text-align: right;\">&vellip;</td></tr><tr><td class = \"rowNumber\" style = \"font-weight: bold; text-align: right;\">41177</td><td style = \"text-align: right;\">38</td><td style = \"text-align: left;\">housemaid</td><td style = \"text-align: left;\">divorced</td><td style = \"text-align: left;\">high.school</td><td style = \"text-align: left;\">no</td><td style = \"text-align: left;\">yes</td><td style = \"text-align: left;\">yes</td><td style = \"text-align: left;\">cellular</td><td style = \"text-align: left;\">nov</td><td style = \"text-align: left;\">thu</td><td style = \"text-align: right;\">360</td><td style = \"text-align: right;\">1</td><td style = \"text-align: right;\">999</td><td style = \"text-align: right;\">0</td><td style = \"text-align: left;\">nonexistent</td><td style = \"text-align: right;\">-1.1</td><td style = \"text-align: right;\">94.767</td><td style = \"text-align: right;\">-50.8</td><td style = \"text-align: right;\">1.031</td><td style = \"text-align: right;\">4963.6</td><td style = \"text-align: left;\">no</td></tr><tr><td class = \"rowNumber\" style = \"font-weight: bold; text-align: right;\">41178</td><td style = \"text-align: right;\">57</td><td style = \"text-align: left;\">retired</td><td style = \"text-align: left;\">married</td><td style = \"text-align: left;\">professional.course</td><td style = \"text-align: left;\">no</td><td style = \"text-align: left;\">yes</td><td style = \"text-align: left;\">no</td><td style = \"text-align: left;\">cellular</td><td style = \"text-align: left;\">nov</td><td style = \"text-align: left;\">thu</td><td style = \"text-align: right;\">124</td><td style = \"text-align: right;\">6</td><td style = \"text-align: right;\">999</td><td style = \"text-align: right;\">0</td><td style = \"text-align: left;\">nonexistent</td><td style = \"text-align: right;\">-1.1</td><td style = \"text-align: right;\">94.767</td><td style = \"text-align: right;\">-50.8</td><td style = \"text-align: right;\">1.031</td><td style = \"text-align: right;\">4963.6</td><td style = \"text-align: left;\">no</td></tr><tr><td class = \"rowNumber\" style = \"font-weight: bold; text-align: right;\">41179</td><td style = \"text-align: right;\">62</td><td style = \"text-align: left;\">retired</td><td style = \"text-align: left;\">married</td><td style = \"text-align: left;\">university.degree</td><td style = \"text-align: left;\">no</td><td style = \"text-align: left;\">no</td><td style = \"text-align: left;\">no</td><td style = \"text-align: left;\">cellular</td><td style = \"text-align: left;\">nov</td><td style = \"text-align: left;\">thu</td><td style = \"text-align: right;\">483</td><td style = \"text-align: right;\">2</td><td style = \"text-align: right;\">6</td><td style = \"text-align: right;\">3</td><td style = \"text-align: left;\">success</td><td style = \"text-align: right;\">-1.1</td><td style = \"text-align: right;\">94.767</td><td style = \"text-align: right;\">-50.8</td><td style = \"text-align: right;\">1.031</td><td style = \"text-align: right;\">4963.6</td><td style = \"text-align: left;\">yes</td></tr><tr><td class = \"rowNumber\" style = \"font-weight: bold; text-align: right;\">41180</td><td style = \"text-align: right;\">64</td><td style = \"text-align: left;\">retired</td><td style = \"text-align: left;\">divorced</td><td style = \"text-align: left;\">professional.course</td><td style = \"text-align: left;\">no</td><td style = \"text-align: left;\">yes</td><td style = \"text-align: left;\">no</td><td style = \"text-align: left;\">cellular</td><td style = \"text-align: left;\">nov</td><td style = \"text-align: left;\">fri</td><td style = \"text-align: right;\">151</td><td style = \"text-align: right;\">3</td><td style = \"text-align: right;\">999</td><td style = \"text-align: right;\">0</td><td style = \"text-align: left;\">nonexistent</td><td style = \"text-align: right;\">-1.1</td><td style = \"text-align: right;\">94.767</td><td style = \"text-align: right;\">-50.8</td><td style = \"text-align: right;\">1.028</td><td style = \"text-align: right;\">4963.6</td><td style = \"text-align: left;\">no</td></tr><tr><td class = \"rowNumber\" style = \"font-weight: bold; text-align: right;\">41181</td><td style = \"text-align: right;\">36</td><td style = \"text-align: left;\">admin.</td><td style = \"text-align: left;\">married</td><td style = \"text-align: left;\">university.degree</td><td style = \"text-align: left;\">no</td><td style = \"text-align: left;\">no</td><td style = \"text-align: left;\">no</td><td style = \"text-align: left;\">cellular</td><td style = \"text-align: left;\">nov</td><td style = \"text-align: left;\">fri</td><td style = \"text-align: right;\">254</td><td style = \"text-align: right;\">2</td><td style = \"text-align: right;\">999</td><td style = \"text-align: right;\">0</td><td style = \"text-align: left;\">nonexistent</td><td style = \"text-align: right;\">-1.1</td><td style = \"text-align: right;\">94.767</td><td style = \"text-align: right;\">-50.8</td><td style = \"text-align: right;\">1.028</td><td style = \"text-align: right;\">4963.6</td><td style = \"text-align: left;\">no</td></tr><tr><td class = \"rowNumber\" style = \"font-weight: bold; text-align: right;\">41182</td><td style = \"text-align: right;\">37</td><td style = \"text-align: left;\">admin.</td><td style = \"text-align: left;\">married</td><td style = \"text-align: left;\">university.degree</td><td style = \"text-align: left;\">no</td><td style = \"text-align: left;\">yes</td><td style = \"text-align: left;\">no</td><td style = \"text-align: left;\">cellular</td><td style = \"text-align: left;\">nov</td><td style = \"text-align: left;\">fri</td><td style = \"text-align: right;\">281</td><td style = \"text-align: right;\">1</td><td style = \"text-align: right;\">999</td><td style = \"text-align: right;\">0</td><td style = \"text-align: left;\">nonexistent</td><td style = \"text-align: right;\">-1.1</td><td style = \"text-align: right;\">94.767</td><td style = \"text-align: right;\">-50.8</td><td style = \"text-align: right;\">1.028</td><td style = \"text-align: right;\">4963.6</td><td style = \"text-align: left;\">yes</td></tr><tr><td class = \"rowNumber\" style = \"font-weight: bold; text-align: right;\">41183</td><td style = \"text-align: right;\">29</td><td style = \"text-align: left;\">unemployed</td><td style = \"text-align: left;\">single</td><td style = \"text-align: left;\">basic.4y</td><td style = \"text-align: left;\">no</td><td style = \"text-align: left;\">yes</td><td style = \"text-align: left;\">no</td><td style = \"text-align: left;\">cellular</td><td style = \"text-align: left;\">nov</td><td style = \"text-align: left;\">fri</td><td style = \"text-align: right;\">112</td><td style = \"text-align: right;\">1</td><td style = \"text-align: right;\">9</td><td style = \"text-align: right;\">1</td><td style = \"text-align: left;\">success</td><td style = \"text-align: right;\">-1.1</td><td style = \"text-align: right;\">94.767</td><td style = \"text-align: right;\">-50.8</td><td style = \"text-align: right;\">1.028</td><td style = \"text-align: right;\">4963.6</td><td style = \"text-align: left;\">no</td></tr><tr><td class = \"rowNumber\" style = \"font-weight: bold; text-align: right;\">41184</td><td style = \"text-align: right;\">73</td><td style = \"text-align: left;\">retired</td><td style = \"text-align: left;\">married</td><td style = \"text-align: left;\">professional.course</td><td style = \"text-align: left;\">no</td><td style = \"text-align: left;\">yes</td><td style = \"text-align: left;\">no</td><td style = \"text-align: left;\">cellular</td><td style = \"text-align: left;\">nov</td><td style = \"text-align: left;\">fri</td><td style = \"text-align: right;\">334</td><td style = \"text-align: right;\">1</td><td style = \"text-align: right;\">999</td><td style = \"text-align: right;\">0</td><td style = \"text-align: left;\">nonexistent</td><td style = \"text-align: right;\">-1.1</td><td style = \"text-align: right;\">94.767</td><td style = \"text-align: right;\">-50.8</td><td style = \"text-align: right;\">1.028</td><td style = \"text-align: right;\">4963.6</td><td style = \"text-align: left;\">yes</td></tr><tr><td class = \"rowNumber\" style = \"font-weight: bold; text-align: right;\">41185</td><td style = \"text-align: right;\">46</td><td style = \"text-align: left;\">blue-collar</td><td style = \"text-align: left;\">married</td><td style = \"text-align: left;\">professional.course</td><td style = \"text-align: left;\">no</td><td style = \"text-align: left;\">no</td><td style = \"text-align: left;\">no</td><td style = \"text-align: left;\">cellular</td><td style = \"text-align: left;\">nov</td><td style = \"text-align: left;\">fri</td><td style = \"text-align: right;\">383</td><td style = \"text-align: right;\">1</td><td style = \"text-align: right;\">999</td><td style = \"text-align: right;\">0</td><td style = \"text-align: left;\">nonexistent</td><td style = \"text-align: right;\">-1.1</td><td style = \"text-align: right;\">94.767</td><td style = \"text-align: right;\">-50.8</td><td style = \"text-align: right;\">1.028</td><td style = \"text-align: right;\">4963.6</td><td style = \"text-align: left;\">no</td></tr><tr><td class = \"rowNumber\" style = \"font-weight: bold; text-align: right;\">41186</td><td style = \"text-align: right;\">56</td><td style = \"text-align: left;\">retired</td><td style = \"text-align: left;\">married</td><td style = \"text-align: left;\">university.degree</td><td style = \"text-align: left;\">no</td><td style = \"text-align: left;\">yes</td><td style = \"text-align: left;\">no</td><td style = \"text-align: left;\">cellular</td><td style = \"text-align: left;\">nov</td><td style = \"text-align: left;\">fri</td><td style = \"text-align: right;\">189</td><td style = \"text-align: right;\">2</td><td style = \"text-align: right;\">999</td><td style = \"text-align: right;\">0</td><td style = \"text-align: left;\">nonexistent</td><td style = \"text-align: right;\">-1.1</td><td style = \"text-align: right;\">94.767</td><td style = \"text-align: right;\">-50.8</td><td style = \"text-align: right;\">1.028</td><td style = \"text-align: right;\">4963.6</td><td style = \"text-align: left;\">no</td></tr><tr><td class = \"rowNumber\" style = \"font-weight: bold; text-align: right;\">41187</td><td style = \"text-align: right;\">44</td><td style = \"text-align: left;\">technician</td><td style = \"text-align: left;\">married</td><td style = \"text-align: left;\">professional.course</td><td style = \"text-align: left;\">no</td><td style = \"text-align: left;\">no</td><td style = \"text-align: left;\">no</td><td style = \"text-align: left;\">cellular</td><td style = \"text-align: left;\">nov</td><td style = \"text-align: left;\">fri</td><td style = \"text-align: right;\">442</td><td style = \"text-align: right;\">1</td><td style = \"text-align: right;\">999</td><td style = \"text-align: right;\">0</td><td style = \"text-align: left;\">nonexistent</td><td style = \"text-align: right;\">-1.1</td><td style = \"text-align: right;\">94.767</td><td style = \"text-align: right;\">-50.8</td><td style = \"text-align: right;\">1.028</td><td style = \"text-align: right;\">4963.6</td><td style = \"text-align: left;\">yes</td></tr><tr><td class = \"rowNumber\" style = \"font-weight: bold; text-align: right;\">41188</td><td style = \"text-align: right;\">74</td><td style = \"text-align: left;\">retired</td><td style = \"text-align: left;\">married</td><td style = \"text-align: left;\">professional.course</td><td style = \"text-align: left;\">no</td><td style = \"text-align: left;\">yes</td><td style = \"text-align: left;\">no</td><td style = \"text-align: left;\">cellular</td><td style = \"text-align: left;\">nov</td><td style = \"text-align: left;\">fri</td><td style = \"text-align: right;\">239</td><td style = \"text-align: right;\">3</td><td style = \"text-align: right;\">999</td><td style = \"text-align: right;\">1</td><td style = \"text-align: left;\">failure</td><td style = \"text-align: right;\">-1.1</td><td style = \"text-align: right;\">94.767</td><td style = \"text-align: right;\">-50.8</td><td style = \"text-align: right;\">1.028</td><td style = \"text-align: right;\">4963.6</td><td style = \"text-align: left;\">no</td></tr></tbody></table></div>"
      ],
      "text/latex": [
       "\\begin{tabular}{r|cccccccc}\n",
       "\t& age & job & marital & education & default & housing & loan & \\\\\n",
       "\t\\hline\n",
       "\t& Int64 & String15 & String15 & String31 & String7 & String7 & String7 & \\\\\n",
       "\t\\hline\n",
       "\t1 & 56 & housemaid & married & basic.4y & no & no & no & $\\dots$ \\\\\n",
       "\t2 & 57 & services & married & high.school & unknown & no & no & $\\dots$ \\\\\n",
       "\t3 & 37 & services & married & high.school & no & yes & no & $\\dots$ \\\\\n",
       "\t4 & 40 & admin. & married & basic.6y & no & no & no & $\\dots$ \\\\\n",
       "\t5 & 56 & services & married & high.school & no & no & yes & $\\dots$ \\\\\n",
       "\t6 & 45 & services & married & basic.9y & unknown & no & no & $\\dots$ \\\\\n",
       "\t7 & 59 & admin. & married & professional.course & no & no & no & $\\dots$ \\\\\n",
       "\t8 & 41 & blue-collar & married & unknown & unknown & no & no & $\\dots$ \\\\\n",
       "\t9 & 24 & technician & single & professional.course & no & yes & no & $\\dots$ \\\\\n",
       "\t10 & 25 & services & single & high.school & no & yes & no & $\\dots$ \\\\\n",
       "\t11 & 41 & blue-collar & married & unknown & unknown & no & no & $\\dots$ \\\\\n",
       "\t12 & 25 & services & single & high.school & no & yes & no & $\\dots$ \\\\\n",
       "\t13 & 29 & blue-collar & single & high.school & no & no & yes & $\\dots$ \\\\\n",
       "\t14 & 57 & housemaid & divorced & basic.4y & no & yes & no & $\\dots$ \\\\\n",
       "\t15 & 35 & blue-collar & married & basic.6y & no & yes & no & $\\dots$ \\\\\n",
       "\t16 & 54 & retired & married & basic.9y & unknown & yes & yes & $\\dots$ \\\\\n",
       "\t17 & 35 & blue-collar & married & basic.6y & no & yes & no & $\\dots$ \\\\\n",
       "\t18 & 46 & blue-collar & married & basic.6y & unknown & yes & yes & $\\dots$ \\\\\n",
       "\t19 & 50 & blue-collar & married & basic.9y & no & yes & yes & $\\dots$ \\\\\n",
       "\t20 & 39 & management & single & basic.9y & unknown & no & no & $\\dots$ \\\\\n",
       "\t21 & 30 & unemployed & married & high.school & no & no & no & $\\dots$ \\\\\n",
       "\t22 & 55 & blue-collar & married & basic.4y & unknown & yes & no & $\\dots$ \\\\\n",
       "\t23 & 55 & retired & single & high.school & no & yes & no & $\\dots$ \\\\\n",
       "\t24 & 41 & technician & single & high.school & no & yes & no & $\\dots$ \\\\\n",
       "\t25 & 37 & admin. & married & high.school & no & yes & no & $\\dots$ \\\\\n",
       "\t26 & 35 & technician & married & university.degree & no & no & yes & $\\dots$ \\\\\n",
       "\t27 & 59 & technician & married & unknown & no & yes & no & $\\dots$ \\\\\n",
       "\t28 & 39 & self-employed & married & basic.9y & unknown & no & no & $\\dots$ \\\\\n",
       "\t29 & 54 & technician & single & university.degree & unknown & no & no & $\\dots$ \\\\\n",
       "\t30 & 55 & unknown & married & university.degree & unknown & unknown & unknown & $\\dots$ \\\\\n",
       "\t$\\dots$ & $\\dots$ & $\\dots$ & $\\dots$ & $\\dots$ & $\\dots$ & $\\dots$ & $\\dots$ &  \\\\\n",
       "\\end{tabular}\n"
      ],
      "text/plain": [
       "\u001b[1m41188×21 DataFrame\u001b[0m\n",
       "\u001b[1m   Row \u001b[0m│\u001b[1m age   \u001b[0m\u001b[1m job         \u001b[0m\u001b[1m marital  \u001b[0m\u001b[1m education           \u001b[0m\u001b[1m default \u001b[0m\u001b[1m housing \u001b[0m\u001b[1m \u001b[0m ⋯\n",
       "       │\u001b[90m Int64 \u001b[0m\u001b[90m String15    \u001b[0m\u001b[90m String15 \u001b[0m\u001b[90m String31            \u001b[0m\u001b[90m String7 \u001b[0m\u001b[90m String7 \u001b[0m\u001b[90m \u001b[0m ⋯\n",
       "───────┼────────────────────────────────────────────────────────────────────────\n",
       "     1 │    56  housemaid    married   basic.4y             no       no        ⋯\n",
       "     2 │    57  services     married   high.school          unknown  no\n",
       "     3 │    37  services     married   high.school          no       yes\n",
       "     4 │    40  admin.       married   basic.6y             no       no\n",
       "     5 │    56  services     married   high.school          no       no        ⋯\n",
       "     6 │    45  services     married   basic.9y             unknown  no\n",
       "     7 │    59  admin.       married   professional.course  no       no\n",
       "     8 │    41  blue-collar  married   unknown              unknown  no\n",
       "     9 │    24  technician   single    professional.course  no       yes       ⋯\n",
       "    10 │    25  services     single    high.school          no       yes\n",
       "    11 │    41  blue-collar  married   unknown              unknown  no\n",
       "   ⋮   │   ⋮         ⋮          ⋮               ⋮              ⋮        ⋮      ⋱\n",
       " 41179 │    62  retired      married   university.degree    no       no\n",
       " 41180 │    64  retired      divorced  professional.course  no       yes       ⋯\n",
       " 41181 │    36  admin.       married   university.degree    no       no\n",
       " 41182 │    37  admin.       married   university.degree    no       yes\n",
       " 41183 │    29  unemployed   single    basic.4y             no       yes\n",
       " 41184 │    73  retired      married   professional.course  no       yes       ⋯\n",
       " 41185 │    46  blue-collar  married   professional.course  no       no\n",
       " 41186 │    56  retired      married   university.degree    no       yes\n",
       " 41187 │    44  technician   married   professional.course  no       no\n",
       " 41188 │    74  retired      married   professional.course  no       yes       ⋯\n",
       "\u001b[36m                                               15 columns and 41167 rows omitted\u001b[0m"
      ]
     },
     "execution_count": 3,
     "metadata": {},
     "output_type": "execute_result"
    }
   ],
   "source": [
    "df = CSV.read(\"bank-additional-full.csv\", DataFrame, delim=\";\")"
   ]
  },
  {
   "cell_type": "markdown",
   "id": "764514cd",
   "metadata": {},
   "source": [
    "`MLJ` use the notion of the **scientific types** beside the data types. Scientific types specify how the features should be interpreted by the ML models and the users - the basic types are:\n",
    "* `Continuous`, \n",
    "* `Multiclass{N}`, \n",
    "* `OrderedFactor{N}`, \n",
    "* `Count`,\n",
    "* `Textual`.\n",
    "\n",
    "More information about the scientific types can be found in the [MLJ documentation](https://alan-turing-institute.github.io/MLJ.jl/dev/getting_started/#Data-containers-and-scientific-types). The `schema` function will produce a data type and scientific type for each column in the dataset."
   ]
  },
  {
   "cell_type": "code",
   "execution_count": 4,
   "id": "7cd6f7a8",
   "metadata": {},
   "outputs": [
    {
     "data": {
      "text/plain": [
       "┌────────────────┬────────────┬──────────┐\n",
       "│\u001b[22m names          \u001b[0m│\u001b[22m scitypes   \u001b[0m│\u001b[22m types    \u001b[0m│\n",
       "├────────────────┼────────────┼──────────┤\n",
       "│ age            │ Count      │ Int64    │\n",
       "│ job            │ Textual    │ String15 │\n",
       "│ marital        │ Textual    │ String15 │\n",
       "│ education      │ Textual    │ String31 │\n",
       "│ default        │ Textual    │ String7  │\n",
       "│ housing        │ Textual    │ String7  │\n",
       "│ loan           │ Textual    │ String7  │\n",
       "│ contact        │ Textual    │ String15 │\n",
       "│ month          │ Textual    │ String3  │\n",
       "│ day_of_week    │ Textual    │ String3  │\n",
       "│ duration       │ Count      │ Int64    │\n",
       "│ campaign       │ Count      │ Int64    │\n",
       "│ pdays          │ Count      │ Int64    │\n",
       "│ previous       │ Count      │ Int64    │\n",
       "│ poutcome       │ Textual    │ String15 │\n",
       "│ emp.var.rate   │ Continuous │ Float64  │\n",
       "│ cons.price.idx │ Continuous │ Float64  │\n",
       "│ cons.conf.idx  │ Continuous │ Float64  │\n",
       "│ euribor3m      │ Continuous │ Float64  │\n",
       "│ nr.employed    │ Continuous │ Float64  │\n",
       "│ y              │ Textual    │ String3  │\n",
       "└────────────────┴────────────┴──────────┘\n"
      ]
     },
     "execution_count": 4,
     "metadata": {},
     "output_type": "execute_result"
    }
   ],
   "source": [
    "schema(df)"
   ]
  },
  {
   "cell_type": "markdown",
   "id": "cf930661",
   "metadata": {},
   "source": [
    "The default mapping between the data and scientific types didn't produce the desired outcome. Let's use `coerce` function to change all `Textual` types to `Multiclass` and `age` feature to the `Continuous` type. The binary target variable `y` is also coerced to `OrderedFactor` which will indicate `yes` value to be intepreted as positive class during classification. Note that after the conversion data types changed as well."
   ]
  },
  {
   "cell_type": "code",
   "execution_count": 5,
   "id": "0dfbe9b2",
   "metadata": {},
   "outputs": [
    {
     "data": {
      "text/plain": [
       "┌────────────────┬──────────────────┬────────────────────────────────────┐\n",
       "│\u001b[22m names          \u001b[0m│\u001b[22m scitypes         \u001b[0m│\u001b[22m types                              \u001b[0m│\n",
       "├────────────────┼──────────────────┼────────────────────────────────────┤\n",
       "│ age            │ Continuous       │ Float64                            │\n",
       "│ job            │ Multiclass{12}   │ CategoricalValue{String15, UInt32} │\n",
       "│ marital        │ Multiclass{4}    │ CategoricalValue{String15, UInt32} │\n",
       "│ education      │ Multiclass{8}    │ CategoricalValue{String31, UInt32} │\n",
       "│ default        │ Multiclass{3}    │ CategoricalValue{String7, UInt32}  │\n",
       "│ housing        │ Multiclass{3}    │ CategoricalValue{String7, UInt32}  │\n",
       "│ loan           │ Multiclass{3}    │ CategoricalValue{String7, UInt32}  │\n",
       "│ contact        │ Multiclass{2}    │ CategoricalValue{String15, UInt32} │\n",
       "│ month          │ Multiclass{10}   │ CategoricalValue{String3, UInt32}  │\n",
       "│ day_of_week    │ Multiclass{5}    │ CategoricalValue{String3, UInt32}  │\n",
       "│ duration       │ Count            │ Int64                              │\n",
       "│ campaign       │ Count            │ Int64                              │\n",
       "│ pdays          │ Count            │ Int64                              │\n",
       "│ previous       │ Count            │ Int64                              │\n",
       "│ poutcome       │ Multiclass{3}    │ CategoricalValue{String15, UInt32} │\n",
       "│ emp.var.rate   │ Continuous       │ Float64                            │\n",
       "│ cons.price.idx │ Continuous       │ Float64                            │\n",
       "│ cons.conf.idx  │ Continuous       │ Float64                            │\n",
       "│ euribor3m      │ Continuous       │ Float64                            │\n",
       "│ nr.employed    │ Continuous       │ Float64                            │\n",
       "│ y              │ OrderedFactor{2} │ CategoricalValue{String3, UInt32}  │\n",
       "└────────────────┴──────────────────┴────────────────────────────────────┘\n"
      ]
     },
     "execution_count": 5,
     "metadata": {},
     "output_type": "execute_result"
    }
   ],
   "source": [
    "df = coerce(df, :age => Continuous, Textual => Multiclass);\n",
    "df = coerce(df, :y => OrderedFactor)\n",
    "schema(df)"
   ]
  },
  {
   "cell_type": "code",
   "execution_count": 6,
   "id": "a1fe82c5",
   "metadata": {},
   "outputs": [
    {
     "data": {
      "text/plain": [
       "2-element Vector{String3}:\n",
       " \"no\"\n",
       " \"yes\""
      ]
     },
     "execution_count": 6,
     "metadata": {},
     "output_type": "execute_result"
    }
   ],
   "source": [
    "levels(df.y)\n",
    "#levels!(df.y, [\"yes\",\"no\"]) # changing the default ordering of the `y` column"
   ]
  },
  {
   "cell_type": "markdown",
   "id": "4e499815",
   "metadata": {},
   "source": [
    "## 3. Data preprocsessing"
   ]
  },
  {
   "cell_type": "markdown",
   "id": "18d9b118",
   "metadata": {},
   "source": [
    "After modifying the schema, let's proceed with further preprocessing. `unpack` function splits the dataset into independent variables (`X`) and target variable (`y`). Features can also be removed in the same step - let's remove the `duration` variable as it's highly related to the target and recommended for removal by the dataset owner (for details check the `bank-additional-names.txt`)."
   ]
  },
  {
   "cell_type": "code",
   "execution_count": 7,
   "id": "8555d38c",
   "metadata": {},
   "outputs": [
    {
     "data": {
      "text/html": [
       "<div><div style = \"float: left;\"><span>2×4 DataFrame</span></div><div style = \"clear: both;\"></div></div><div class = \"data-frame\" style = \"overflow-x: scroll;\"><table class = \"data-frame\" style = \"margin-bottom: 6px;\"><thead><tr class = \"header\"><th class = \"rowNumber\" style = \"font-weight: bold; text-align: right;\">Row</th><th style = \"text-align: left;\">y</th><th style = \"text-align: left;\">duration_minimum</th><th style = \"text-align: left;\">duration_median</th><th style = \"text-align: left;\">duration_mean</th></tr><tr class = \"subheader headerLastRow\"><th class = \"rowNumber\" style = \"font-weight: bold; text-align: right;\"></th><th title = \"CategoricalArrays.CategoricalValue{String3, UInt32}\" style = \"text-align: left;\">Cat…</th><th title = \"Int64\" style = \"text-align: left;\">Int64</th><th title = \"Float64\" style = \"text-align: left;\">Float64</th><th title = \"Float64\" style = \"text-align: left;\">Float64</th></tr></thead><tbody><tr><td class = \"rowNumber\" style = \"font-weight: bold; text-align: right;\">1</td><td style = \"text-align: left;\">no</td><td style = \"text-align: right;\">0</td><td style = \"text-align: right;\">163.5</td><td style = \"text-align: right;\">220.845</td></tr><tr><td class = \"rowNumber\" style = \"font-weight: bold; text-align: right;\">2</td><td style = \"text-align: left;\">yes</td><td style = \"text-align: right;\">37</td><td style = \"text-align: right;\">449.0</td><td style = \"text-align: right;\">553.191</td></tr></tbody></table></div>"
      ],
      "text/latex": [
       "\\begin{tabular}{r|cccc}\n",
       "\t& y & duration\\_minimum & duration\\_median & duration\\_mean\\\\\n",
       "\t\\hline\n",
       "\t& Cat… & Int64 & Float64 & Float64\\\\\n",
       "\t\\hline\n",
       "\t1 & no & 0 & 163.5 & 220.845 \\\\\n",
       "\t2 & yes & 37 & 449.0 & 553.191 \\\\\n",
       "\\end{tabular}\n"
      ],
      "text/plain": [
       "\u001b[1m2×4 DataFrame\u001b[0m\n",
       "\u001b[1m Row \u001b[0m│\u001b[1m y    \u001b[0m\u001b[1m duration_minimum \u001b[0m\u001b[1m duration_median \u001b[0m\u001b[1m duration_mean \u001b[0m\n",
       "     │\u001b[90m Cat… \u001b[0m\u001b[90m Int64            \u001b[0m\u001b[90m Float64         \u001b[0m\u001b[90m Float64       \u001b[0m\n",
       "─────┼────────────────────────────────────────────────────────\n",
       "   1 │ no                   0            163.5        220.845\n",
       "   2 │ yes                 37            449.0        553.191"
      ]
     },
     "execution_count": 7,
     "metadata": {},
     "output_type": "execute_result"
    }
   ],
   "source": [
    "combine(groupby(df, :y), :duration .=> [minimum median mean])"
   ]
  },
  {
   "cell_type": "markdown",
   "id": "83050e06",
   "metadata": {},
   "source": [
    "Statistics calculated above confirm close relation between target variable and duration of the call - mean `duration` is significantly higher, when customer subscribed to the term deposit. Let's proceed with splitting the dataset and removal of the `duration` variable."
   ]
  },
  {
   "cell_type": "code",
   "execution_count": 8,
   "id": "63e320f8",
   "metadata": {},
   "outputs": [],
   "source": [
    "y, X = unpack(df, ==(:y), !=(:duration));"
   ]
  },
  {
   "cell_type": "markdown",
   "id": "5798c61f",
   "metadata": {},
   "source": [
    "After the split, `y` is a `CategoricalArray` with two levels: \"no\" and \"yes\"."
   ]
  },
  {
   "cell_type": "code",
   "execution_count": 9,
   "id": "a744109f",
   "metadata": {},
   "outputs": [
    {
     "data": {
      "text/plain": [
       "41188-element CategoricalArrays.CategoricalArray{String3,1,UInt32}:\n",
       " String3(\"no\")\n",
       " String3(\"no\")\n",
       " String3(\"no\")\n",
       " String3(\"no\")\n",
       " String3(\"no\")\n",
       " String3(\"no\")\n",
       " String3(\"no\")\n",
       " String3(\"no\")\n",
       " String3(\"no\")\n",
       " String3(\"no\")\n",
       " String3(\"no\")\n",
       " String3(\"no\")\n",
       " String3(\"no\")\n",
       " ⋮\n",
       " String3(\"no\")\n",
       " String3(\"no\")\n",
       " String3(\"yes\")\n",
       " String3(\"no\")\n",
       " String3(\"no\")\n",
       " String3(\"yes\")\n",
       " String3(\"no\")\n",
       " String3(\"yes\")\n",
       " String3(\"no\")\n",
       " String3(\"no\")\n",
       " String3(\"yes\")\n",
       " String3(\"no\")"
      ]
     },
     "execution_count": 9,
     "metadata": {},
     "output_type": "execute_result"
    }
   ],
   "source": [
    "y"
   ]
  },
  {
   "cell_type": "markdown",
   "id": "6b63c650",
   "metadata": {},
   "source": [
    "`X` remains a `DataFrame` with `duration` and `y` columns gone."
   ]
  },
  {
   "cell_type": "code",
   "execution_count": 10,
   "id": "7cb133f8",
   "metadata": {},
   "outputs": [
    {
     "data": {
      "text/html": [
       "<div><div style = \"float: left;\"><span>41188×19 DataFrame</span></div><div style = \"float: right;\"><span style = \"font-style: italic;\">41163 rows omitted</span></div><div style = \"clear: both;\"></div></div><div class = \"data-frame\" style = \"overflow-x: scroll;\"><table class = \"data-frame\" style = \"margin-bottom: 6px;\"><thead><tr class = \"header\"><th class = \"rowNumber\" style = \"font-weight: bold; text-align: right;\">Row</th><th style = \"text-align: left;\">age</th><th style = \"text-align: left;\">job</th><th style = \"text-align: left;\">marital</th><th style = \"text-align: left;\">education</th><th style = \"text-align: left;\">default</th><th style = \"text-align: left;\">housing</th><th style = \"text-align: left;\">loan</th><th style = \"text-align: left;\">contact</th><th style = \"text-align: left;\">month</th><th style = \"text-align: left;\">day_of_week</th><th style = \"text-align: left;\">campaign</th><th style = \"text-align: left;\">pdays</th><th style = \"text-align: left;\">previous</th><th style = \"text-align: left;\">poutcome</th><th style = \"text-align: left;\">emp.var.rate</th><th style = \"text-align: left;\">cons.price.idx</th><th style = \"text-align: left;\">cons.conf.idx</th><th style = \"text-align: left;\">euribor3m</th><th style = \"text-align: left;\">nr.employed</th></tr><tr class = \"subheader headerLastRow\"><th class = \"rowNumber\" style = \"font-weight: bold; text-align: right;\"></th><th title = \"Float64\" style = \"text-align: left;\">Float64</th><th title = \"CategoricalArrays.CategoricalValue{String15, UInt32}\" style = \"text-align: left;\">Cat…</th><th title = \"CategoricalArrays.CategoricalValue{String15, UInt32}\" style = \"text-align: left;\">Cat…</th><th title = \"CategoricalArrays.CategoricalValue{String31, UInt32}\" style = \"text-align: left;\">Cat…</th><th title = \"CategoricalArrays.CategoricalValue{String7, UInt32}\" style = \"text-align: left;\">Cat…</th><th title = \"CategoricalArrays.CategoricalValue{String7, UInt32}\" style = \"text-align: left;\">Cat…</th><th title = \"CategoricalArrays.CategoricalValue{String7, UInt32}\" style = \"text-align: left;\">Cat…</th><th title = \"CategoricalArrays.CategoricalValue{String15, UInt32}\" style = \"text-align: left;\">Cat…</th><th title = \"CategoricalArrays.CategoricalValue{String3, UInt32}\" style = \"text-align: left;\">Cat…</th><th title = \"CategoricalArrays.CategoricalValue{String3, UInt32}\" style = \"text-align: left;\">Cat…</th><th title = \"Int64\" style = \"text-align: left;\">Int64</th><th title = \"Int64\" style = \"text-align: left;\">Int64</th><th title = \"Int64\" style = \"text-align: left;\">Int64</th><th title = \"CategoricalArrays.CategoricalValue{String15, UInt32}\" style = \"text-align: left;\">Cat…</th><th title = \"Float64\" style = \"text-align: left;\">Float64</th><th title = \"Float64\" style = \"text-align: left;\">Float64</th><th title = \"Float64\" style = \"text-align: left;\">Float64</th><th title = \"Float64\" style = \"text-align: left;\">Float64</th><th title = \"Float64\" style = \"text-align: left;\">Float64</th></tr></thead><tbody><tr><td class = \"rowNumber\" style = \"font-weight: bold; text-align: right;\">1</td><td style = \"text-align: right;\">56.0</td><td style = \"text-align: left;\">housemaid</td><td style = \"text-align: left;\">married</td><td style = \"text-align: left;\">basic.4y</td><td style = \"text-align: left;\">no</td><td style = \"text-align: left;\">no</td><td style = \"text-align: left;\">no</td><td style = \"text-align: left;\">telephone</td><td style = \"text-align: left;\">may</td><td style = \"text-align: left;\">mon</td><td style = \"text-align: right;\">1</td><td style = \"text-align: right;\">999</td><td style = \"text-align: right;\">0</td><td style = \"text-align: left;\">nonexistent</td><td style = \"text-align: right;\">1.1</td><td style = \"text-align: right;\">93.994</td><td style = \"text-align: right;\">-36.4</td><td style = \"text-align: right;\">4.857</td><td style = \"text-align: right;\">5191.0</td></tr><tr><td class = \"rowNumber\" style = \"font-weight: bold; text-align: right;\">2</td><td style = \"text-align: right;\">57.0</td><td style = \"text-align: left;\">services</td><td style = \"text-align: left;\">married</td><td style = \"text-align: left;\">high.school</td><td style = \"text-align: left;\">unknown</td><td style = \"text-align: left;\">no</td><td style = \"text-align: left;\">no</td><td style = \"text-align: left;\">telephone</td><td style = \"text-align: left;\">may</td><td style = \"text-align: left;\">mon</td><td style = \"text-align: right;\">1</td><td style = \"text-align: right;\">999</td><td style = \"text-align: right;\">0</td><td style = \"text-align: left;\">nonexistent</td><td style = \"text-align: right;\">1.1</td><td style = \"text-align: right;\">93.994</td><td style = \"text-align: right;\">-36.4</td><td style = \"text-align: right;\">4.857</td><td style = \"text-align: right;\">5191.0</td></tr><tr><td class = \"rowNumber\" style = \"font-weight: bold; text-align: right;\">3</td><td style = \"text-align: right;\">37.0</td><td style = \"text-align: left;\">services</td><td style = \"text-align: left;\">married</td><td style = \"text-align: left;\">high.school</td><td style = \"text-align: left;\">no</td><td style = \"text-align: left;\">yes</td><td style = \"text-align: left;\">no</td><td style = \"text-align: left;\">telephone</td><td style = \"text-align: left;\">may</td><td style = \"text-align: left;\">mon</td><td style = \"text-align: right;\">1</td><td style = \"text-align: right;\">999</td><td style = \"text-align: right;\">0</td><td style = \"text-align: left;\">nonexistent</td><td style = \"text-align: right;\">1.1</td><td style = \"text-align: right;\">93.994</td><td style = \"text-align: right;\">-36.4</td><td style = \"text-align: right;\">4.857</td><td style = \"text-align: right;\">5191.0</td></tr><tr><td class = \"rowNumber\" style = \"font-weight: bold; text-align: right;\">4</td><td style = \"text-align: right;\">40.0</td><td style = \"text-align: left;\">admin.</td><td style = \"text-align: left;\">married</td><td style = \"text-align: left;\">basic.6y</td><td style = \"text-align: left;\">no</td><td style = \"text-align: left;\">no</td><td style = \"text-align: left;\">no</td><td style = \"text-align: left;\">telephone</td><td style = \"text-align: left;\">may</td><td style = \"text-align: left;\">mon</td><td style = \"text-align: right;\">1</td><td style = \"text-align: right;\">999</td><td style = \"text-align: right;\">0</td><td style = \"text-align: left;\">nonexistent</td><td style = \"text-align: right;\">1.1</td><td style = \"text-align: right;\">93.994</td><td style = \"text-align: right;\">-36.4</td><td style = \"text-align: right;\">4.857</td><td style = \"text-align: right;\">5191.0</td></tr><tr><td class = \"rowNumber\" style = \"font-weight: bold; text-align: right;\">5</td><td style = \"text-align: right;\">56.0</td><td style = \"text-align: left;\">services</td><td style = \"text-align: left;\">married</td><td style = \"text-align: left;\">high.school</td><td style = \"text-align: left;\">no</td><td style = \"text-align: left;\">no</td><td style = \"text-align: left;\">yes</td><td style = \"text-align: left;\">telephone</td><td style = \"text-align: left;\">may</td><td style = \"text-align: left;\">mon</td><td style = \"text-align: right;\">1</td><td style = \"text-align: right;\">999</td><td style = \"text-align: right;\">0</td><td style = \"text-align: left;\">nonexistent</td><td style = \"text-align: right;\">1.1</td><td style = \"text-align: right;\">93.994</td><td style = \"text-align: right;\">-36.4</td><td style = \"text-align: right;\">4.857</td><td style = \"text-align: right;\">5191.0</td></tr><tr><td class = \"rowNumber\" style = \"font-weight: bold; text-align: right;\">6</td><td style = \"text-align: right;\">45.0</td><td style = \"text-align: left;\">services</td><td style = \"text-align: left;\">married</td><td style = \"text-align: left;\">basic.9y</td><td style = \"text-align: left;\">unknown</td><td style = \"text-align: left;\">no</td><td style = \"text-align: left;\">no</td><td style = \"text-align: left;\">telephone</td><td style = \"text-align: left;\">may</td><td style = \"text-align: left;\">mon</td><td style = \"text-align: right;\">1</td><td style = \"text-align: right;\">999</td><td style = \"text-align: right;\">0</td><td style = \"text-align: left;\">nonexistent</td><td style = \"text-align: right;\">1.1</td><td style = \"text-align: right;\">93.994</td><td style = \"text-align: right;\">-36.4</td><td style = \"text-align: right;\">4.857</td><td style = \"text-align: right;\">5191.0</td></tr><tr><td class = \"rowNumber\" style = \"font-weight: bold; text-align: right;\">7</td><td style = \"text-align: right;\">59.0</td><td style = \"text-align: left;\">admin.</td><td style = \"text-align: left;\">married</td><td style = \"text-align: left;\">professional.course</td><td style = \"text-align: left;\">no</td><td style = \"text-align: left;\">no</td><td style = \"text-align: left;\">no</td><td style = \"text-align: left;\">telephone</td><td style = \"text-align: left;\">may</td><td style = \"text-align: left;\">mon</td><td style = \"text-align: right;\">1</td><td style = \"text-align: right;\">999</td><td style = \"text-align: right;\">0</td><td style = \"text-align: left;\">nonexistent</td><td style = \"text-align: right;\">1.1</td><td style = \"text-align: right;\">93.994</td><td style = \"text-align: right;\">-36.4</td><td style = \"text-align: right;\">4.857</td><td style = \"text-align: right;\">5191.0</td></tr><tr><td class = \"rowNumber\" style = \"font-weight: bold; text-align: right;\">8</td><td style = \"text-align: right;\">41.0</td><td style = \"text-align: left;\">blue-collar</td><td style = \"text-align: left;\">married</td><td style = \"text-align: left;\">unknown</td><td style = \"text-align: left;\">unknown</td><td style = \"text-align: left;\">no</td><td style = \"text-align: left;\">no</td><td style = \"text-align: left;\">telephone</td><td style = \"text-align: left;\">may</td><td style = \"text-align: left;\">mon</td><td style = \"text-align: right;\">1</td><td style = \"text-align: right;\">999</td><td style = \"text-align: right;\">0</td><td style = \"text-align: left;\">nonexistent</td><td style = \"text-align: right;\">1.1</td><td style = \"text-align: right;\">93.994</td><td style = \"text-align: right;\">-36.4</td><td style = \"text-align: right;\">4.857</td><td style = \"text-align: right;\">5191.0</td></tr><tr><td class = \"rowNumber\" style = \"font-weight: bold; text-align: right;\">9</td><td style = \"text-align: right;\">24.0</td><td style = \"text-align: left;\">technician</td><td style = \"text-align: left;\">single</td><td style = \"text-align: left;\">professional.course</td><td style = \"text-align: left;\">no</td><td style = \"text-align: left;\">yes</td><td style = \"text-align: left;\">no</td><td style = \"text-align: left;\">telephone</td><td style = \"text-align: left;\">may</td><td style = \"text-align: left;\">mon</td><td style = \"text-align: right;\">1</td><td style = \"text-align: right;\">999</td><td style = \"text-align: right;\">0</td><td style = \"text-align: left;\">nonexistent</td><td style = \"text-align: right;\">1.1</td><td style = \"text-align: right;\">93.994</td><td style = \"text-align: right;\">-36.4</td><td style = \"text-align: right;\">4.857</td><td style = \"text-align: right;\">5191.0</td></tr><tr><td class = \"rowNumber\" style = \"font-weight: bold; text-align: right;\">10</td><td style = \"text-align: right;\">25.0</td><td style = \"text-align: left;\">services</td><td style = \"text-align: left;\">single</td><td style = \"text-align: left;\">high.school</td><td style = \"text-align: left;\">no</td><td style = \"text-align: left;\">yes</td><td style = \"text-align: left;\">no</td><td style = \"text-align: left;\">telephone</td><td style = \"text-align: left;\">may</td><td style = \"text-align: left;\">mon</td><td style = \"text-align: right;\">1</td><td style = \"text-align: right;\">999</td><td style = \"text-align: right;\">0</td><td style = \"text-align: left;\">nonexistent</td><td style = \"text-align: right;\">1.1</td><td style = \"text-align: right;\">93.994</td><td style = \"text-align: right;\">-36.4</td><td style = \"text-align: right;\">4.857</td><td style = \"text-align: right;\">5191.0</td></tr><tr><td class = \"rowNumber\" style = \"font-weight: bold; text-align: right;\">11</td><td style = \"text-align: right;\">41.0</td><td style = \"text-align: left;\">blue-collar</td><td style = \"text-align: left;\">married</td><td style = \"text-align: left;\">unknown</td><td style = \"text-align: left;\">unknown</td><td style = \"text-align: left;\">no</td><td style = \"text-align: left;\">no</td><td style = \"text-align: left;\">telephone</td><td style = \"text-align: left;\">may</td><td style = \"text-align: left;\">mon</td><td style = \"text-align: right;\">1</td><td style = \"text-align: right;\">999</td><td style = \"text-align: right;\">0</td><td style = \"text-align: left;\">nonexistent</td><td style = \"text-align: right;\">1.1</td><td style = \"text-align: right;\">93.994</td><td style = \"text-align: right;\">-36.4</td><td style = \"text-align: right;\">4.857</td><td style = \"text-align: right;\">5191.0</td></tr><tr><td class = \"rowNumber\" style = \"font-weight: bold; text-align: right;\">12</td><td style = \"text-align: right;\">25.0</td><td style = \"text-align: left;\">services</td><td style = \"text-align: left;\">single</td><td style = \"text-align: left;\">high.school</td><td style = \"text-align: left;\">no</td><td style = \"text-align: left;\">yes</td><td style = \"text-align: left;\">no</td><td style = \"text-align: left;\">telephone</td><td style = \"text-align: left;\">may</td><td style = \"text-align: left;\">mon</td><td style = \"text-align: right;\">1</td><td style = \"text-align: right;\">999</td><td style = \"text-align: right;\">0</td><td style = \"text-align: left;\">nonexistent</td><td style = \"text-align: right;\">1.1</td><td style = \"text-align: right;\">93.994</td><td style = \"text-align: right;\">-36.4</td><td style = \"text-align: right;\">4.857</td><td style = \"text-align: right;\">5191.0</td></tr><tr><td class = \"rowNumber\" style = \"font-weight: bold; text-align: right;\">13</td><td style = \"text-align: right;\">29.0</td><td style = \"text-align: left;\">blue-collar</td><td style = \"text-align: left;\">single</td><td style = \"text-align: left;\">high.school</td><td style = \"text-align: left;\">no</td><td style = \"text-align: left;\">no</td><td style = \"text-align: left;\">yes</td><td style = \"text-align: left;\">telephone</td><td style = \"text-align: left;\">may</td><td style = \"text-align: left;\">mon</td><td style = \"text-align: right;\">1</td><td style = \"text-align: right;\">999</td><td style = \"text-align: right;\">0</td><td style = \"text-align: left;\">nonexistent</td><td style = \"text-align: right;\">1.1</td><td style = \"text-align: right;\">93.994</td><td style = \"text-align: right;\">-36.4</td><td style = \"text-align: right;\">4.857</td><td style = \"text-align: right;\">5191.0</td></tr><tr><td style = \"text-align: right;\">&vellip;</td><td style = \"text-align: right;\">&vellip;</td><td style = \"text-align: right;\">&vellip;</td><td style = \"text-align: right;\">&vellip;</td><td style = \"text-align: right;\">&vellip;</td><td style = \"text-align: right;\">&vellip;</td><td style = \"text-align: right;\">&vellip;</td><td style = \"text-align: right;\">&vellip;</td><td style = \"text-align: right;\">&vellip;</td><td style = \"text-align: right;\">&vellip;</td><td style = \"text-align: right;\">&vellip;</td><td style = \"text-align: right;\">&vellip;</td><td style = \"text-align: right;\">&vellip;</td><td style = \"text-align: right;\">&vellip;</td><td style = \"text-align: right;\">&vellip;</td><td style = \"text-align: right;\">&vellip;</td><td style = \"text-align: right;\">&vellip;</td><td style = \"text-align: right;\">&vellip;</td><td style = \"text-align: right;\">&vellip;</td><td style = \"text-align: right;\">&vellip;</td></tr><tr><td class = \"rowNumber\" style = \"font-weight: bold; text-align: right;\">41177</td><td style = \"text-align: right;\">38.0</td><td style = \"text-align: left;\">housemaid</td><td style = \"text-align: left;\">divorced</td><td style = \"text-align: left;\">high.school</td><td style = \"text-align: left;\">no</td><td style = \"text-align: left;\">yes</td><td style = \"text-align: left;\">yes</td><td style = \"text-align: left;\">cellular</td><td style = \"text-align: left;\">nov</td><td style = \"text-align: left;\">thu</td><td style = \"text-align: right;\">1</td><td style = \"text-align: right;\">999</td><td style = \"text-align: right;\">0</td><td style = \"text-align: left;\">nonexistent</td><td style = \"text-align: right;\">-1.1</td><td style = \"text-align: right;\">94.767</td><td style = \"text-align: right;\">-50.8</td><td style = \"text-align: right;\">1.031</td><td style = \"text-align: right;\">4963.6</td></tr><tr><td class = \"rowNumber\" style = \"font-weight: bold; text-align: right;\">41178</td><td style = \"text-align: right;\">57.0</td><td style = \"text-align: left;\">retired</td><td style = \"text-align: left;\">married</td><td style = \"text-align: left;\">professional.course</td><td style = \"text-align: left;\">no</td><td style = \"text-align: left;\">yes</td><td style = \"text-align: left;\">no</td><td style = \"text-align: left;\">cellular</td><td style = \"text-align: left;\">nov</td><td style = \"text-align: left;\">thu</td><td style = \"text-align: right;\">6</td><td style = \"text-align: right;\">999</td><td style = \"text-align: right;\">0</td><td style = \"text-align: left;\">nonexistent</td><td style = \"text-align: right;\">-1.1</td><td style = \"text-align: right;\">94.767</td><td style = \"text-align: right;\">-50.8</td><td style = \"text-align: right;\">1.031</td><td style = \"text-align: right;\">4963.6</td></tr><tr><td class = \"rowNumber\" style = \"font-weight: bold; text-align: right;\">41179</td><td style = \"text-align: right;\">62.0</td><td style = \"text-align: left;\">retired</td><td style = \"text-align: left;\">married</td><td style = \"text-align: left;\">university.degree</td><td style = \"text-align: left;\">no</td><td style = \"text-align: left;\">no</td><td style = \"text-align: left;\">no</td><td style = \"text-align: left;\">cellular</td><td style = \"text-align: left;\">nov</td><td style = \"text-align: left;\">thu</td><td style = \"text-align: right;\">2</td><td style = \"text-align: right;\">6</td><td style = \"text-align: right;\">3</td><td style = \"text-align: left;\">success</td><td style = \"text-align: right;\">-1.1</td><td style = \"text-align: right;\">94.767</td><td style = \"text-align: right;\">-50.8</td><td style = \"text-align: right;\">1.031</td><td style = \"text-align: right;\">4963.6</td></tr><tr><td class = \"rowNumber\" style = \"font-weight: bold; text-align: right;\">41180</td><td style = \"text-align: right;\">64.0</td><td style = \"text-align: left;\">retired</td><td style = \"text-align: left;\">divorced</td><td style = \"text-align: left;\">professional.course</td><td style = \"text-align: left;\">no</td><td style = \"text-align: left;\">yes</td><td style = \"text-align: left;\">no</td><td style = \"text-align: left;\">cellular</td><td style = \"text-align: left;\">nov</td><td style = \"text-align: left;\">fri</td><td style = \"text-align: right;\">3</td><td style = \"text-align: right;\">999</td><td style = \"text-align: right;\">0</td><td style = \"text-align: left;\">nonexistent</td><td style = \"text-align: right;\">-1.1</td><td style = \"text-align: right;\">94.767</td><td style = \"text-align: right;\">-50.8</td><td style = \"text-align: right;\">1.028</td><td style = \"text-align: right;\">4963.6</td></tr><tr><td class = \"rowNumber\" style = \"font-weight: bold; text-align: right;\">41181</td><td style = \"text-align: right;\">36.0</td><td style = \"text-align: left;\">admin.</td><td style = \"text-align: left;\">married</td><td style = \"text-align: left;\">university.degree</td><td style = \"text-align: left;\">no</td><td style = \"text-align: left;\">no</td><td style = \"text-align: left;\">no</td><td style = \"text-align: left;\">cellular</td><td style = \"text-align: left;\">nov</td><td style = \"text-align: left;\">fri</td><td style = \"text-align: right;\">2</td><td style = \"text-align: right;\">999</td><td style = \"text-align: right;\">0</td><td style = \"text-align: left;\">nonexistent</td><td style = \"text-align: right;\">-1.1</td><td style = \"text-align: right;\">94.767</td><td style = \"text-align: right;\">-50.8</td><td style = \"text-align: right;\">1.028</td><td style = \"text-align: right;\">4963.6</td></tr><tr><td class = \"rowNumber\" style = \"font-weight: bold; text-align: right;\">41182</td><td style = \"text-align: right;\">37.0</td><td style = \"text-align: left;\">admin.</td><td style = \"text-align: left;\">married</td><td style = \"text-align: left;\">university.degree</td><td style = \"text-align: left;\">no</td><td style = \"text-align: left;\">yes</td><td style = \"text-align: left;\">no</td><td style = \"text-align: left;\">cellular</td><td style = \"text-align: left;\">nov</td><td style = \"text-align: left;\">fri</td><td style = \"text-align: right;\">1</td><td style = \"text-align: right;\">999</td><td style = \"text-align: right;\">0</td><td style = \"text-align: left;\">nonexistent</td><td style = \"text-align: right;\">-1.1</td><td style = \"text-align: right;\">94.767</td><td style = \"text-align: right;\">-50.8</td><td style = \"text-align: right;\">1.028</td><td style = \"text-align: right;\">4963.6</td></tr><tr><td class = \"rowNumber\" style = \"font-weight: bold; text-align: right;\">41183</td><td style = \"text-align: right;\">29.0</td><td style = \"text-align: left;\">unemployed</td><td style = \"text-align: left;\">single</td><td style = \"text-align: left;\">basic.4y</td><td style = \"text-align: left;\">no</td><td style = \"text-align: left;\">yes</td><td style = \"text-align: left;\">no</td><td style = \"text-align: left;\">cellular</td><td style = \"text-align: left;\">nov</td><td style = \"text-align: left;\">fri</td><td style = \"text-align: right;\">1</td><td style = \"text-align: right;\">9</td><td style = \"text-align: right;\">1</td><td style = \"text-align: left;\">success</td><td style = \"text-align: right;\">-1.1</td><td style = \"text-align: right;\">94.767</td><td style = \"text-align: right;\">-50.8</td><td style = \"text-align: right;\">1.028</td><td style = \"text-align: right;\">4963.6</td></tr><tr><td class = \"rowNumber\" style = \"font-weight: bold; text-align: right;\">41184</td><td style = \"text-align: right;\">73.0</td><td style = \"text-align: left;\">retired</td><td style = \"text-align: left;\">married</td><td style = \"text-align: left;\">professional.course</td><td style = \"text-align: left;\">no</td><td style = \"text-align: left;\">yes</td><td style = \"text-align: left;\">no</td><td style = \"text-align: left;\">cellular</td><td style = \"text-align: left;\">nov</td><td style = \"text-align: left;\">fri</td><td style = \"text-align: right;\">1</td><td style = \"text-align: right;\">999</td><td style = \"text-align: right;\">0</td><td style = \"text-align: left;\">nonexistent</td><td style = \"text-align: right;\">-1.1</td><td style = \"text-align: right;\">94.767</td><td style = \"text-align: right;\">-50.8</td><td style = \"text-align: right;\">1.028</td><td style = \"text-align: right;\">4963.6</td></tr><tr><td class = \"rowNumber\" style = \"font-weight: bold; text-align: right;\">41185</td><td style = \"text-align: right;\">46.0</td><td style = \"text-align: left;\">blue-collar</td><td style = \"text-align: left;\">married</td><td style = \"text-align: left;\">professional.course</td><td style = \"text-align: left;\">no</td><td style = \"text-align: left;\">no</td><td style = \"text-align: left;\">no</td><td style = \"text-align: left;\">cellular</td><td style = \"text-align: left;\">nov</td><td style = \"text-align: left;\">fri</td><td style = \"text-align: right;\">1</td><td style = \"text-align: right;\">999</td><td style = \"text-align: right;\">0</td><td style = \"text-align: left;\">nonexistent</td><td style = \"text-align: right;\">-1.1</td><td style = \"text-align: right;\">94.767</td><td style = \"text-align: right;\">-50.8</td><td style = \"text-align: right;\">1.028</td><td style = \"text-align: right;\">4963.6</td></tr><tr><td class = \"rowNumber\" style = \"font-weight: bold; text-align: right;\">41186</td><td style = \"text-align: right;\">56.0</td><td style = \"text-align: left;\">retired</td><td style = \"text-align: left;\">married</td><td style = \"text-align: left;\">university.degree</td><td style = \"text-align: left;\">no</td><td style = \"text-align: left;\">yes</td><td style = \"text-align: left;\">no</td><td style = \"text-align: left;\">cellular</td><td style = \"text-align: left;\">nov</td><td style = \"text-align: left;\">fri</td><td style = \"text-align: right;\">2</td><td style = \"text-align: right;\">999</td><td style = \"text-align: right;\">0</td><td style = \"text-align: left;\">nonexistent</td><td style = \"text-align: right;\">-1.1</td><td style = \"text-align: right;\">94.767</td><td style = \"text-align: right;\">-50.8</td><td style = \"text-align: right;\">1.028</td><td style = \"text-align: right;\">4963.6</td></tr><tr><td class = \"rowNumber\" style = \"font-weight: bold; text-align: right;\">41187</td><td style = \"text-align: right;\">44.0</td><td style = \"text-align: left;\">technician</td><td style = \"text-align: left;\">married</td><td style = \"text-align: left;\">professional.course</td><td style = \"text-align: left;\">no</td><td style = \"text-align: left;\">no</td><td style = \"text-align: left;\">no</td><td style = \"text-align: left;\">cellular</td><td style = \"text-align: left;\">nov</td><td style = \"text-align: left;\">fri</td><td style = \"text-align: right;\">1</td><td style = \"text-align: right;\">999</td><td style = \"text-align: right;\">0</td><td style = \"text-align: left;\">nonexistent</td><td style = \"text-align: right;\">-1.1</td><td style = \"text-align: right;\">94.767</td><td style = \"text-align: right;\">-50.8</td><td style = \"text-align: right;\">1.028</td><td style = \"text-align: right;\">4963.6</td></tr><tr><td class = \"rowNumber\" style = \"font-weight: bold; text-align: right;\">41188</td><td style = \"text-align: right;\">74.0</td><td style = \"text-align: left;\">retired</td><td style = \"text-align: left;\">married</td><td style = \"text-align: left;\">professional.course</td><td style = \"text-align: left;\">no</td><td style = \"text-align: left;\">yes</td><td style = \"text-align: left;\">no</td><td style = \"text-align: left;\">cellular</td><td style = \"text-align: left;\">nov</td><td style = \"text-align: left;\">fri</td><td style = \"text-align: right;\">3</td><td style = \"text-align: right;\">999</td><td style = \"text-align: right;\">1</td><td style = \"text-align: left;\">failure</td><td style = \"text-align: right;\">-1.1</td><td style = \"text-align: right;\">94.767</td><td style = \"text-align: right;\">-50.8</td><td style = \"text-align: right;\">1.028</td><td style = \"text-align: right;\">4963.6</td></tr></tbody></table></div>"
      ],
      "text/latex": [
       "\\begin{tabular}{r|cccccccc}\n",
       "\t& age & job & marital & education & default & housing & loan & \\\\\n",
       "\t\\hline\n",
       "\t& Float64 & Cat… & Cat… & Cat… & Cat… & Cat… & Cat… & \\\\\n",
       "\t\\hline\n",
       "\t1 & 56.0 & housemaid & married & basic.4y & no & no & no & $\\dots$ \\\\\n",
       "\t2 & 57.0 & services & married & high.school & unknown & no & no & $\\dots$ \\\\\n",
       "\t3 & 37.0 & services & married & high.school & no & yes & no & $\\dots$ \\\\\n",
       "\t4 & 40.0 & admin. & married & basic.6y & no & no & no & $\\dots$ \\\\\n",
       "\t5 & 56.0 & services & married & high.school & no & no & yes & $\\dots$ \\\\\n",
       "\t6 & 45.0 & services & married & basic.9y & unknown & no & no & $\\dots$ \\\\\n",
       "\t7 & 59.0 & admin. & married & professional.course & no & no & no & $\\dots$ \\\\\n",
       "\t8 & 41.0 & blue-collar & married & unknown & unknown & no & no & $\\dots$ \\\\\n",
       "\t9 & 24.0 & technician & single & professional.course & no & yes & no & $\\dots$ \\\\\n",
       "\t10 & 25.0 & services & single & high.school & no & yes & no & $\\dots$ \\\\\n",
       "\t11 & 41.0 & blue-collar & married & unknown & unknown & no & no & $\\dots$ \\\\\n",
       "\t12 & 25.0 & services & single & high.school & no & yes & no & $\\dots$ \\\\\n",
       "\t13 & 29.0 & blue-collar & single & high.school & no & no & yes & $\\dots$ \\\\\n",
       "\t14 & 57.0 & housemaid & divorced & basic.4y & no & yes & no & $\\dots$ \\\\\n",
       "\t15 & 35.0 & blue-collar & married & basic.6y & no & yes & no & $\\dots$ \\\\\n",
       "\t16 & 54.0 & retired & married & basic.9y & unknown & yes & yes & $\\dots$ \\\\\n",
       "\t17 & 35.0 & blue-collar & married & basic.6y & no & yes & no & $\\dots$ \\\\\n",
       "\t18 & 46.0 & blue-collar & married & basic.6y & unknown & yes & yes & $\\dots$ \\\\\n",
       "\t19 & 50.0 & blue-collar & married & basic.9y & no & yes & yes & $\\dots$ \\\\\n",
       "\t20 & 39.0 & management & single & basic.9y & unknown & no & no & $\\dots$ \\\\\n",
       "\t21 & 30.0 & unemployed & married & high.school & no & no & no & $\\dots$ \\\\\n",
       "\t22 & 55.0 & blue-collar & married & basic.4y & unknown & yes & no & $\\dots$ \\\\\n",
       "\t23 & 55.0 & retired & single & high.school & no & yes & no & $\\dots$ \\\\\n",
       "\t24 & 41.0 & technician & single & high.school & no & yes & no & $\\dots$ \\\\\n",
       "\t25 & 37.0 & admin. & married & high.school & no & yes & no & $\\dots$ \\\\\n",
       "\t26 & 35.0 & technician & married & university.degree & no & no & yes & $\\dots$ \\\\\n",
       "\t27 & 59.0 & technician & married & unknown & no & yes & no & $\\dots$ \\\\\n",
       "\t28 & 39.0 & self-employed & married & basic.9y & unknown & no & no & $\\dots$ \\\\\n",
       "\t29 & 54.0 & technician & single & university.degree & unknown & no & no & $\\dots$ \\\\\n",
       "\t30 & 55.0 & unknown & married & university.degree & unknown & unknown & unknown & $\\dots$ \\\\\n",
       "\t$\\dots$ & $\\dots$ & $\\dots$ & $\\dots$ & $\\dots$ & $\\dots$ & $\\dots$ & $\\dots$ &  \\\\\n",
       "\\end{tabular}\n"
      ],
      "text/plain": [
       "\u001b[1m41188×19 DataFrame\u001b[0m\n",
       "\u001b[1m   Row \u001b[0m│\u001b[1m age     \u001b[0m\u001b[1m job         \u001b[0m\u001b[1m marital  \u001b[0m\u001b[1m education           \u001b[0m\u001b[1m default \u001b[0m\u001b[1m housing\u001b[0m ⋯\n",
       "       │\u001b[90m Float64 \u001b[0m\u001b[90m Cat…        \u001b[0m\u001b[90m Cat…     \u001b[0m\u001b[90m Cat…                \u001b[0m\u001b[90m Cat…    \u001b[0m\u001b[90m Cat…   \u001b[0m ⋯\n",
       "───────┼────────────────────────────────────────────────────────────────────────\n",
       "     1 │    56.0  housemaid    married   basic.4y             no       no      ⋯\n",
       "     2 │    57.0  services     married   high.school          unknown  no\n",
       "     3 │    37.0  services     married   high.school          no       yes\n",
       "     4 │    40.0  admin.       married   basic.6y             no       no\n",
       "     5 │    56.0  services     married   high.school          no       no      ⋯\n",
       "     6 │    45.0  services     married   basic.9y             unknown  no\n",
       "     7 │    59.0  admin.       married   professional.course  no       no\n",
       "     8 │    41.0  blue-collar  married   unknown              unknown  no\n",
       "     9 │    24.0  technician   single    professional.course  no       yes     ⋯\n",
       "    10 │    25.0  services     single    high.school          no       yes\n",
       "    11 │    41.0  blue-collar  married   unknown              unknown  no\n",
       "   ⋮   │    ⋮          ⋮          ⋮               ⋮              ⋮        ⋮    ⋱\n",
       " 41179 │    62.0  retired      married   university.degree    no       no\n",
       " 41180 │    64.0  retired      divorced  professional.course  no       yes     ⋯\n",
       " 41181 │    36.0  admin.       married   university.degree    no       no\n",
       " 41182 │    37.0  admin.       married   university.degree    no       yes\n",
       " 41183 │    29.0  unemployed   single    basic.4y             no       yes\n",
       " 41184 │    73.0  retired      married   professional.course  no       yes     ⋯\n",
       " 41185 │    46.0  blue-collar  married   professional.course  no       no\n",
       " 41186 │    56.0  retired      married   university.degree    no       yes\n",
       " 41187 │    44.0  technician   married   professional.course  no       no\n",
       " 41188 │    74.0  retired      married   professional.course  no       yes     ⋯\n",
       "\u001b[36m                                               13 columns and 41167 rows omitted\u001b[0m"
      ]
     },
     "execution_count": 10,
     "metadata": {},
     "output_type": "execute_result"
    }
   ],
   "source": [
    "X"
   ]
  },
  {
   "cell_type": "markdown",
   "id": "46f30fd9",
   "metadata": {},
   "source": [
    "In most cases data needs to be preprocessed to be properly used for ML models training. `MLJ` has multiple transformers to help with common data preparation tasks, in particular:\n",
    "* standardizing the numeric features,\n",
    "* one-hot encoding the nominal features,\n",
    "* transforming skewed numeric features,\n",
    "* imputing the missing values.\n",
    "\n",
    "Let's use `Standardizer` and `OneHotEncoder` transformers on the Bank Marketing data - both [standardization](https://en.wikipedia.org/wiki/Standard_score) and [one-hot encoding](https://en.wikipedia.org/wiki/One-hot#Machine_learning_and_statistics) are common preprocessing steps. By default `Standardizer` standardize only features with `Continuous` scientific type. Similarly, `OneHotEncoder` transforms only `Multiclass` and `OrderedFactor` types. Multiple preparation steps can be combined in **pipelines** by using the `Pipeline` constructor or `|>` symbol - pipelines make repetitive tasks simpler and easier to execute.\n",
    "\n",
    "`MLJ` expose a common interface for managing and manipulating transformers, models and other objects. To run the preprocessing pipeline we'll utilize:\n",
    "* `machine` function which binds an algorithm (model, transformer, pipelines, etc.) to the data,\n",
    "* `fit!` function for training the algorithm,\n",
    "* `transform` function to use trained pipepline to get the standardized and one-hot encoded dataset.\n",
    "\n",
    "The cell below will show a transformed `DataFrame` - look how it differs from the input."
   ]
  },
  {
   "cell_type": "code",
   "execution_count": 11,
   "id": "1809e74c",
   "metadata": {},
   "outputs": [
    {
     "data": {
      "text/latex": [
       "\\begin{verbatim}\n",
       "Standardizer\n",
       "\\end{verbatim}\n",
       "A model type for constructing a standardizer, based on \\href{https://github.com/alan-turing-institute/MLJModels.jl}{MLJModels.jl}, and implementing the MLJ model interface.\n",
       "\n",
       "From MLJ, the type can be imported using\n",
       "\n",
       "\\begin{verbatim}\n",
       "Standardizer = @load Standardizer pkg=MLJModels\n",
       "\\end{verbatim}\n",
       "Do \\texttt{model = Standardizer()} to construct an instance with default hyper-parameters. Provide keyword arguments to override hyper-parameter defaults, as in \\texttt{Standardizer(features=...)}.\n",
       "\n",
       "Use this model to standardize (whiten) a \\texttt{Continuous} vector, or relevant columns of a table. The rescalings applied by this transformer to new data are always those learned during the training phase, which are generally different from what would actually standardize the new data.\n",
       "\n",
       "\\section{Training data}\n",
       "In MLJ or MLJBase, bind an instance \\texttt{model} to data with\n",
       "\n",
       "\\begin{verbatim}\n",
       "mach = machine(model, X)\n",
       "\\end{verbatim}\n",
       "where\n",
       "\n",
       "\\begin{itemize}\n",
       "\\item \\texttt{X}: any Tables.jl compatible table or any abstract vector with \\texttt{Continuous} element scitype (any abstract float vector). Only features in a table with \\texttt{Continuous} scitype can be standardized; check column scitypes with \\texttt{schema(X)}.\n",
       "\n",
       "\\end{itemize}\n",
       "Train the machine using \\texttt{fit!(mach, rows=...)}.\n",
       "\n",
       "\\section{Hyper-parameters}\n",
       "\\begin{itemize}\n",
       "\\item \\texttt{features}: one of the following, with the behavior indicated below:\n",
       "\n",
       "\\begin{itemize}\n",
       "\\item \\texttt{[]} (empty, the default): standardize all features (columns) having \\texttt{Continuous} element scitype\n",
       "\n",
       "\n",
       "\\item non-empty vector of feature names (symbols): standardize only the \\texttt{Continuous} features in the vector (if \\texttt{ignore=false}) or \\texttt{Continuous} features \\emph{not} named in the vector (\\texttt{ignore=true}).\n",
       "\n",
       "\n",
       "\\item function or other callable: standardize a feature if the callable returns \\texttt{true} on its name. For example, \\texttt{Standardizer(features = name -> name in [:x1, :x3], ignore = true, count=true)} has the same effect as \\texttt{Standardizer(features = [:x1, :x3], ignore = true, count=true)}, namely to standardize all \\texttt{Continuous} and \\texttt{Count} features, with the exception of \\texttt{:x1} and \\texttt{:x3}.\n",
       "\n",
       "\\end{itemize}\n",
       "Note this behavior is further modified if the \\texttt{ordered\\_factor} or \\texttt{count} flags are set to \\texttt{true}; see below\n",
       "\n",
       "\n",
       "\\item \\texttt{ignore=false}: whether to ignore or standardize specified \\texttt{features}, as explained above\n",
       "\n",
       "\n",
       "\\item \\texttt{ordered\\_factor=false}: if \\texttt{true}, standardize any \\texttt{OrderedFactor} feature wherever a \\texttt{Continuous} feature would be standardized, as described above\n",
       "\n",
       "\n",
       "\\item \\texttt{count=false}: if \\texttt{true}, standardize any \\texttt{Count} feature wherever a \\texttt{Continuous} feature would be standardized, as described above\n",
       "\n",
       "\\end{itemize}\n",
       "\\section{Operations}\n",
       "\\begin{itemize}\n",
       "\\item \\texttt{transform(mach, Xnew)}: return \\texttt{Xnew} with relevant features standardized according to the rescalings learned during fitting of \\texttt{mach}.\n",
       "\n",
       "\n",
       "\\item \\texttt{inverse\\_transform(mach, Z)}: apply the inverse transformation to \\texttt{Z}, so that \\texttt{inverse\\_transform(mach, transform(mach, Xnew))} is approximately the same as \\texttt{Xnew}; unavailable if \\texttt{ordered\\_factor} or \\texttt{count} flags were set to \\texttt{true}.\n",
       "\n",
       "\\end{itemize}\n",
       "\\section{Fitted parameters}\n",
       "The fields of \\texttt{fitted\\_params(mach)} are:\n",
       "\n",
       "\\begin{itemize}\n",
       "\\item \\texttt{features\\_fit} - the names of features that will be standardized\n",
       "\n",
       "\n",
       "\\item \\texttt{means} - the corresponding untransformed mean values\n",
       "\n",
       "\n",
       "\\item \\texttt{stds} - the corresponding untransformed standard deviations\n",
       "\n",
       "\\end{itemize}\n",
       "\\section{Report}\n",
       "The fields of \\texttt{report(mach)} are:\n",
       "\n",
       "\\begin{itemize}\n",
       "\\item \\texttt{features\\_fit}: the names of features that will be standardized\n",
       "\n",
       "\\end{itemize}\n",
       "\\section{Examples}\n",
       "\\begin{verbatim}\n",
       "using MLJ\n",
       "\n",
       "X = (ordinal1 = [1, 2, 3],\n",
       "     ordinal2 = coerce([:x, :y, :x], OrderedFactor),\n",
       "     ordinal3 = [10.0, 20.0, 30.0],\n",
       "     ordinal4 = [-20.0, -30.0, -40.0],\n",
       "     nominal = coerce([\"Your father\", \"he\", \"is\"], Multiclass));\n",
       "\n",
       "julia> schema(X)\n",
       "┌──────────┬──────────────────┐\n",
       "│ names    │ scitypes         │\n",
       "├──────────┼──────────────────┤\n",
       "│ ordinal1 │ Count            │\n",
       "│ ordinal2 │ OrderedFactor{2} │\n",
       "│ ordinal3 │ Continuous       │\n",
       "│ ordinal4 │ Continuous       │\n",
       "│ nominal  │ Multiclass{3}    │\n",
       "└──────────┴──────────────────┘\n",
       "\n",
       "stand1 = Standardizer();\n",
       "\n",
       "julia> transform(fit!(machine(stand1, X)), X)\n",
       "(ordinal1 = [1, 2, 3],\n",
       " ordinal2 = CategoricalValue{Symbol,UInt32}[:x, :y, :x],\n",
       " ordinal3 = [-1.0, 0.0, 1.0],\n",
       " ordinal4 = [1.0, 0.0, -1.0],\n",
       " nominal = CategoricalValue{String,UInt32}[\"Your father\", \"he\", \"is\"],)\n",
       "\n",
       "stand2 = Standardizer(features=[:ordinal3, ], ignore=true, count=true);\n",
       "\n",
       "julia> transform(fit!(machine(stand2, X)), X)\n",
       "(ordinal1 = [-1.0, 0.0, 1.0],\n",
       " ordinal2 = CategoricalValue{Symbol,UInt32}[:x, :y, :x],\n",
       " ordinal3 = [10.0, 20.0, 30.0],\n",
       " ordinal4 = [1.0, 0.0, -1.0],\n",
       " nominal = CategoricalValue{String,UInt32}[\"Your father\", \"he\", \"is\"],)\n",
       "\\end{verbatim}\n",
       "See also \\href{@ref}{\\texttt{OneHotEncoder}}, \\href{@ref}{\\texttt{ContinuousEncoder}}.\n",
       "\n"
      ],
      "text/markdown": [
       "```\n",
       "Standardizer\n",
       "```\n",
       "\n",
       "A model type for constructing a standardizer, based on [MLJModels.jl](https://github.com/alan-turing-institute/MLJModels.jl), and implementing the MLJ model interface.\n",
       "\n",
       "From MLJ, the type can be imported using\n",
       "\n",
       "```\n",
       "Standardizer = @load Standardizer pkg=MLJModels\n",
       "```\n",
       "\n",
       "Do `model = Standardizer()` to construct an instance with default hyper-parameters. Provide keyword arguments to override hyper-parameter defaults, as in `Standardizer(features=...)`.\n",
       "\n",
       "Use this model to standardize (whiten) a `Continuous` vector, or relevant columns of a table. The rescalings applied by this transformer to new data are always those learned during the training phase, which are generally different from what would actually standardize the new data.\n",
       "\n",
       "# Training data\n",
       "\n",
       "In MLJ or MLJBase, bind an instance `model` to data with\n",
       "\n",
       "```\n",
       "mach = machine(model, X)\n",
       "```\n",
       "\n",
       "where\n",
       "\n",
       "  * `X`: any Tables.jl compatible table or any abstract vector with `Continuous` element scitype (any abstract float vector). Only features in a table with `Continuous` scitype can be standardized; check column scitypes with `schema(X)`.\n",
       "\n",
       "Train the machine using `fit!(mach, rows=...)`.\n",
       "\n",
       "# Hyper-parameters\n",
       "\n",
       "  * `features`: one of the following, with the behavior indicated below:\n",
       "\n",
       "      * `[]` (empty, the default): standardize all features (columns) having `Continuous` element scitype\n",
       "      * non-empty vector of feature names (symbols): standardize only the `Continuous` features in the vector (if `ignore=false`) or `Continuous` features *not* named in the vector (`ignore=true`).\n",
       "      * function or other callable: standardize a feature if the callable returns `true` on its name. For example, `Standardizer(features = name -> name in [:x1, :x3], ignore = true, count=true)` has the same effect as `Standardizer(features = [:x1, :x3], ignore = true, count=true)`, namely to standardize all `Continuous` and `Count` features, with the exception of `:x1` and `:x3`.\n",
       "\n",
       "    Note this behavior is further modified if the `ordered_factor` or `count` flags are set to `true`; see below\n",
       "  * `ignore=false`: whether to ignore or standardize specified `features`, as explained above\n",
       "  * `ordered_factor=false`: if `true`, standardize any `OrderedFactor` feature wherever a `Continuous` feature would be standardized, as described above\n",
       "  * `count=false`: if `true`, standardize any `Count` feature wherever a `Continuous` feature would be standardized, as described above\n",
       "\n",
       "# Operations\n",
       "\n",
       "  * `transform(mach, Xnew)`: return `Xnew` with relevant features standardized according to the rescalings learned during fitting of `mach`.\n",
       "  * `inverse_transform(mach, Z)`: apply the inverse transformation to `Z`, so that `inverse_transform(mach, transform(mach, Xnew))` is approximately the same as `Xnew`; unavailable if `ordered_factor` or `count` flags were set to `true`.\n",
       "\n",
       "# Fitted parameters\n",
       "\n",
       "The fields of `fitted_params(mach)` are:\n",
       "\n",
       "  * `features_fit` - the names of features that will be standardized\n",
       "  * `means` - the corresponding untransformed mean values\n",
       "  * `stds` - the corresponding untransformed standard deviations\n",
       "\n",
       "# Report\n",
       "\n",
       "The fields of `report(mach)` are:\n",
       "\n",
       "  * `features_fit`: the names of features that will be standardized\n",
       "\n",
       "# Examples\n",
       "\n",
       "```\n",
       "using MLJ\n",
       "\n",
       "X = (ordinal1 = [1, 2, 3],\n",
       "     ordinal2 = coerce([:x, :y, :x], OrderedFactor),\n",
       "     ordinal3 = [10.0, 20.0, 30.0],\n",
       "     ordinal4 = [-20.0, -30.0, -40.0],\n",
       "     nominal = coerce([\"Your father\", \"he\", \"is\"], Multiclass));\n",
       "\n",
       "julia> schema(X)\n",
       "┌──────────┬──────────────────┐\n",
       "│ names    │ scitypes         │\n",
       "├──────────┼──────────────────┤\n",
       "│ ordinal1 │ Count            │\n",
       "│ ordinal2 │ OrderedFactor{2} │\n",
       "│ ordinal3 │ Continuous       │\n",
       "│ ordinal4 │ Continuous       │\n",
       "│ nominal  │ Multiclass{3}    │\n",
       "└──────────┴──────────────────┘\n",
       "\n",
       "stand1 = Standardizer();\n",
       "\n",
       "julia> transform(fit!(machine(stand1, X)), X)\n",
       "(ordinal1 = [1, 2, 3],\n",
       " ordinal2 = CategoricalValue{Symbol,UInt32}[:x, :y, :x],\n",
       " ordinal3 = [-1.0, 0.0, 1.0],\n",
       " ordinal4 = [1.0, 0.0, -1.0],\n",
       " nominal = CategoricalValue{String,UInt32}[\"Your father\", \"he\", \"is\"],)\n",
       "\n",
       "stand2 = Standardizer(features=[:ordinal3, ], ignore=true, count=true);\n",
       "\n",
       "julia> transform(fit!(machine(stand2, X)), X)\n",
       "(ordinal1 = [-1.0, 0.0, 1.0],\n",
       " ordinal2 = CategoricalValue{Symbol,UInt32}[:x, :y, :x],\n",
       " ordinal3 = [10.0, 20.0, 30.0],\n",
       " ordinal4 = [1.0, 0.0, -1.0],\n",
       " nominal = CategoricalValue{String,UInt32}[\"Your father\", \"he\", \"is\"],)\n",
       "```\n",
       "\n",
       "See also [`OneHotEncoder`](@ref), [`ContinuousEncoder`](@ref).\n"
      ],
      "text/plain": [
       "\u001b[36m  Standardizer\u001b[39m\n",
       "\n",
       "  A model type for constructing a standardizer, based on MLJModels.jl\n",
       "  (https://github.com/alan-turing-institute/MLJModels.jl), and implementing\n",
       "  the MLJ model interface.\n",
       "\n",
       "  From MLJ, the type can be imported using\n",
       "\n",
       "\u001b[36m  Standardizer = @load Standardizer pkg=MLJModels\u001b[39m\n",
       "\n",
       "  Do \u001b[36mmodel = Standardizer()\u001b[39m to construct an instance with default\n",
       "  hyper-parameters. Provide keyword arguments to override hyper-parameter\n",
       "  defaults, as in \u001b[36mStandardizer(features=...)\u001b[39m.\n",
       "\n",
       "  Use this model to standardize (whiten) a \u001b[36mContinuous\u001b[39m vector, or relevant\n",
       "  columns of a table. The rescalings applied by this transformer to new data\n",
       "  are always those learned during the training phase, which are generally\n",
       "  different from what would actually standardize the new data.\n",
       "\n",
       "\u001b[1m  Training data\u001b[22m\n",
       "\u001b[1m  ≡≡≡≡≡≡≡≡≡≡≡≡≡≡≡\u001b[22m\n",
       "\n",
       "  In MLJ or MLJBase, bind an instance \u001b[36mmodel\u001b[39m to data with\n",
       "\n",
       "\u001b[36m  mach = machine(model, X)\u001b[39m\n",
       "\n",
       "  where\n",
       "\n",
       "    •  \u001b[36mX\u001b[39m: any Tables.jl compatible table or any abstract vector with\n",
       "       \u001b[36mContinuous\u001b[39m element scitype (any abstract float vector). Only\n",
       "       features in a table with \u001b[36mContinuous\u001b[39m scitype can be standardized;\n",
       "       check column scitypes with \u001b[36mschema(X)\u001b[39m.\n",
       "\n",
       "  Train the machine using \u001b[36mfit!(mach, rows=...)\u001b[39m.\n",
       "\n",
       "\u001b[1m  Hyper-parameters\u001b[22m\n",
       "\u001b[1m  ≡≡≡≡≡≡≡≡≡≡≡≡≡≡≡≡≡≡\u001b[22m\n",
       "\n",
       "    •  \u001b[36mfeatures\u001b[39m: one of the following, with the behavior indicated below:\n",
       "       • \u001b[36m[]\u001b[39m (empty, the default): standardize all features\n",
       "       (columns) having \u001b[36mContinuous\u001b[39m element scitype\n",
       "       • non-empty vector of feature names (symbols): standardize\n",
       "       only the \u001b[36mContinuous\u001b[39m features in the vector (if\n",
       "       \u001b[36mignore=false\u001b[39m) or \u001b[36mContinuous\u001b[39m features \u001b[4mnot\u001b[24m named in the\n",
       "       vector (\u001b[36mignore=true\u001b[39m).\n",
       "       • function or other callable: standardize a feature if the\n",
       "       callable returns \u001b[36mtrue\u001b[39m on its name. For example,\n",
       "       \u001b[36mStandardizer(features = name -> name in [:x1, :x3],\n",
       "       ignore = true, count=true)\u001b[39m has the same effect as\n",
       "       \u001b[36mStandardizer(features = [:x1, :x3], ignore = true,\n",
       "       count=true)\u001b[39m, namely to standardize all \u001b[36mContinuous\u001b[39m and\n",
       "       \u001b[36mCount\u001b[39m features, with the exception of \u001b[36m:x1\u001b[39m and \u001b[36m:x3\u001b[39m.\n",
       "       Note this behavior is further modified if the \u001b[36mordered_factor\u001b[39m or\n",
       "       \u001b[36mcount\u001b[39m flags are set to \u001b[36mtrue\u001b[39m; see below\n",
       "\n",
       "    •  \u001b[36mignore=false\u001b[39m: whether to ignore or standardize specified \u001b[36mfeatures\u001b[39m,\n",
       "       as explained above\n",
       "\n",
       "    •  \u001b[36mordered_factor=false\u001b[39m: if \u001b[36mtrue\u001b[39m, standardize any \u001b[36mOrderedFactor\u001b[39m\n",
       "       feature wherever a \u001b[36mContinuous\u001b[39m feature would be standardized, as\n",
       "       described above\n",
       "\n",
       "    •  \u001b[36mcount=false\u001b[39m: if \u001b[36mtrue\u001b[39m, standardize any \u001b[36mCount\u001b[39m feature wherever a\n",
       "       \u001b[36mContinuous\u001b[39m feature would be standardized, as described above\n",
       "\n",
       "\u001b[1m  Operations\u001b[22m\n",
       "\u001b[1m  ≡≡≡≡≡≡≡≡≡≡≡≡\u001b[22m\n",
       "\n",
       "    •  \u001b[36mtransform(mach, Xnew)\u001b[39m: return \u001b[36mXnew\u001b[39m with relevant features\n",
       "       standardized according to the rescalings learned during fitting of\n",
       "       \u001b[36mmach\u001b[39m.\n",
       "\n",
       "    •  \u001b[36minverse_transform(mach, Z)\u001b[39m: apply the inverse transformation to \u001b[36mZ\u001b[39m,\n",
       "       so that \u001b[36minverse_transform(mach, transform(mach, Xnew))\u001b[39m is\n",
       "       approximately the same as \u001b[36mXnew\u001b[39m; unavailable if \u001b[36mordered_factor\u001b[39m or\n",
       "       \u001b[36mcount\u001b[39m flags were set to \u001b[36mtrue\u001b[39m.\n",
       "\n",
       "\u001b[1m  Fitted parameters\u001b[22m\n",
       "\u001b[1m  ≡≡≡≡≡≡≡≡≡≡≡≡≡≡≡≡≡≡≡\u001b[22m\n",
       "\n",
       "  The fields of \u001b[36mfitted_params(mach)\u001b[39m are:\n",
       "\n",
       "    •  \u001b[36mfeatures_fit\u001b[39m - the names of features that will be standardized\n",
       "\n",
       "    •  \u001b[36mmeans\u001b[39m - the corresponding untransformed mean values\n",
       "\n",
       "    •  \u001b[36mstds\u001b[39m - the corresponding untransformed standard deviations\n",
       "\n",
       "\u001b[1m  Report\u001b[22m\n",
       "\u001b[1m  ≡≡≡≡≡≡≡≡\u001b[22m\n",
       "\n",
       "  The fields of \u001b[36mreport(mach)\u001b[39m are:\n",
       "\n",
       "    •  \u001b[36mfeatures_fit\u001b[39m: the names of features that will be standardized\n",
       "\n",
       "\u001b[1m  Examples\u001b[22m\n",
       "\u001b[1m  ≡≡≡≡≡≡≡≡≡≡\u001b[22m\n",
       "\n",
       "\u001b[36m  using MLJ\u001b[39m\n",
       "\u001b[36m  \u001b[39m\n",
       "\u001b[36m  X = (ordinal1 = [1, 2, 3],\u001b[39m\n",
       "\u001b[36m       ordinal2 = coerce([:x, :y, :x], OrderedFactor),\u001b[39m\n",
       "\u001b[36m       ordinal3 = [10.0, 20.0, 30.0],\u001b[39m\n",
       "\u001b[36m       ordinal4 = [-20.0, -30.0, -40.0],\u001b[39m\n",
       "\u001b[36m       nominal = coerce([\"Your father\", \"he\", \"is\"], Multiclass));\u001b[39m\n",
       "\u001b[36m  \u001b[39m\n",
       "\u001b[36m  julia> schema(X)\u001b[39m\n",
       "\u001b[36m  ┌──────────┬──────────────────┐\u001b[39m\n",
       "\u001b[36m  │ names    │ scitypes         │\u001b[39m\n",
       "\u001b[36m  ├──────────┼──────────────────┤\u001b[39m\n",
       "\u001b[36m  │ ordinal1 │ Count            │\u001b[39m\n",
       "\u001b[36m  │ ordinal2 │ OrderedFactor{2} │\u001b[39m\n",
       "\u001b[36m  │ ordinal3 │ Continuous       │\u001b[39m\n",
       "\u001b[36m  │ ordinal4 │ Continuous       │\u001b[39m\n",
       "\u001b[36m  │ nominal  │ Multiclass{3}    │\u001b[39m\n",
       "\u001b[36m  └──────────┴──────────────────┘\u001b[39m\n",
       "\u001b[36m  \u001b[39m\n",
       "\u001b[36m  stand1 = Standardizer();\u001b[39m\n",
       "\u001b[36m  \u001b[39m\n",
       "\u001b[36m  julia> transform(fit!(machine(stand1, X)), X)\u001b[39m\n",
       "\u001b[36m  (ordinal1 = [1, 2, 3],\u001b[39m\n",
       "\u001b[36m   ordinal2 = CategoricalValue{Symbol,UInt32}[:x, :y, :x],\u001b[39m\n",
       "\u001b[36m   ordinal3 = [-1.0, 0.0, 1.0],\u001b[39m\n",
       "\u001b[36m   ordinal4 = [1.0, 0.0, -1.0],\u001b[39m\n",
       "\u001b[36m   nominal = CategoricalValue{String,UInt32}[\"Your father\", \"he\", \"is\"],)\u001b[39m\n",
       "\u001b[36m  \u001b[39m\n",
       "\u001b[36m  stand2 = Standardizer(features=[:ordinal3, ], ignore=true, count=true);\u001b[39m\n",
       "\u001b[36m  \u001b[39m\n",
       "\u001b[36m  julia> transform(fit!(machine(stand2, X)), X)\u001b[39m\n",
       "\u001b[36m  (ordinal1 = [-1.0, 0.0, 1.0],\u001b[39m\n",
       "\u001b[36m   ordinal2 = CategoricalValue{Symbol,UInt32}[:x, :y, :x],\u001b[39m\n",
       "\u001b[36m   ordinal3 = [10.0, 20.0, 30.0],\u001b[39m\n",
       "\u001b[36m   ordinal4 = [1.0, 0.0, -1.0],\u001b[39m\n",
       "\u001b[36m   nominal = CategoricalValue{String,UInt32}[\"Your father\", \"he\", \"is\"],)\u001b[39m\n",
       "\n",
       "  See also \u001b[36mOneHotEncoder\u001b[39m, \u001b[36mContinuousEncoder\u001b[39m."
      ]
     },
     "execution_count": 11,
     "metadata": {},
     "output_type": "execute_result"
    }
   ],
   "source": [
    "?Standardizer()"
   ]
  },
  {
   "cell_type": "code",
   "execution_count": 12,
   "id": "7604c51e",
   "metadata": {},
   "outputs": [
    {
     "data": {
      "text/html": [
       "<div><div style = \"float: left;\"><span>41188×62 DataFrame</span></div><div style = \"float: right;\"><span style = \"font-style: italic;\">41163 rows omitted</span></div><div style = \"clear: both;\"></div></div><div class = \"data-frame\" style = \"overflow-x: scroll;\"><table class = \"data-frame\" style = \"margin-bottom: 6px;\"><thead><tr class = \"header\"><th class = \"rowNumber\" style = \"font-weight: bold; text-align: right;\">Row</th><th style = \"text-align: left;\">age</th><th style = \"text-align: left;\">job__admin.</th><th style = \"text-align: left;\">job__blue-collar</th><th style = \"text-align: left;\">job__entrepreneur</th><th style = \"text-align: left;\">job__housemaid</th><th style = \"text-align: left;\">job__management</th><th style = \"text-align: left;\">job__retired</th><th style = \"text-align: left;\">job__self-employed</th><th style = \"text-align: left;\">job__services</th><th style = \"text-align: left;\">job__student</th><th style = \"text-align: left;\">job__technician</th><th style = \"text-align: left;\">job__unemployed</th><th style = \"text-align: left;\">job__unknown</th><th style = \"text-align: left;\">marital__divorced</th><th style = \"text-align: left;\">marital__married</th><th style = \"text-align: left;\">marital__single</th><th style = \"text-align: left;\">marital__unknown</th><th style = \"text-align: left;\">education__basic.4y</th><th style = \"text-align: left;\">education__basic.6y</th><th style = \"text-align: left;\">education__basic.9y</th><th style = \"text-align: left;\">education__high.school</th><th style = \"text-align: left;\">education__illiterate</th><th style = \"text-align: left;\">education__professional.course</th><th style = \"text-align: left;\">education__university.degree</th><th style = \"text-align: left;\">education__unknown</th><th style = \"text-align: left;\">default__no</th><th style = \"text-align: left;\">default__unknown</th><th style = \"text-align: left;\">default__yes</th><th style = \"text-align: left;\">housing__no</th><th style = \"text-align: left;\">housing__unknown</th><th style = \"text-align: left;\">housing__yes</th><th style = \"text-align: left;\">loan__no</th><th style = \"text-align: left;\">loan__unknown</th><th style = \"text-align: left;\">loan__yes</th><th style = \"text-align: left;\">contact__cellular</th><th style = \"text-align: left;\">contact__telephone</th><th style = \"text-align: left;\">month__apr</th><th style = \"text-align: left;\">month__aug</th><th style = \"text-align: left;\">month__dec</th><th style = \"text-align: left;\">month__jul</th><th style = \"text-align: left;\">month__jun</th><th style = \"text-align: left;\">month__mar</th><th style = \"text-align: left;\">month__may</th><th style = \"text-align: left;\">month__nov</th><th style = \"text-align: left;\">month__oct</th><th style = \"text-align: left;\">month__sep</th><th style = \"text-align: left;\">day_of_week__fri</th><th style = \"text-align: left;\">day_of_week__mon</th><th style = \"text-align: left;\">day_of_week__thu</th><th style = \"text-align: left;\">day_of_week__tue</th><th style = \"text-align: left;\">day_of_week__wed</th><th style = \"text-align: left;\">campaign</th><th style = \"text-align: left;\">pdays</th><th style = \"text-align: left;\">previous</th><th style = \"text-align: left;\">poutcome__failure</th><th style = \"text-align: left;\">poutcome__nonexistent</th><th style = \"text-align: left;\">poutcome__success</th><th style = \"text-align: left;\">emp.var.rate</th><th style = \"text-align: left;\">cons.price.idx</th><th style = \"text-align: left;\">cons.conf.idx</th><th style = \"text-align: left;\">euribor3m</th><th style = \"text-align: left;\">nr.employed</th></tr><tr class = \"subheader headerLastRow\"><th class = \"rowNumber\" style = \"font-weight: bold; text-align: right;\"></th><th title = \"Float64\" style = \"text-align: left;\">Float64</th><th title = \"Float64\" style = \"text-align: left;\">Float64</th><th title = \"Float64\" style = \"text-align: left;\">Float64</th><th title = \"Float64\" style = \"text-align: left;\">Float64</th><th title = \"Float64\" style = \"text-align: left;\">Float64</th><th title = \"Float64\" style = \"text-align: left;\">Float64</th><th title = \"Float64\" style = \"text-align: left;\">Float64</th><th title = \"Float64\" style = \"text-align: left;\">Float64</th><th title = \"Float64\" style = \"text-align: left;\">Float64</th><th title = \"Float64\" style = \"text-align: left;\">Float64</th><th title = \"Float64\" style = \"text-align: left;\">Float64</th><th title = \"Float64\" style = \"text-align: left;\">Float64</th><th title = \"Float64\" style = \"text-align: left;\">Float64</th><th title = \"Float64\" style = \"text-align: left;\">Float64</th><th title = \"Float64\" style = \"text-align: left;\">Float64</th><th title = \"Float64\" style = \"text-align: left;\">Float64</th><th title = \"Float64\" style = \"text-align: left;\">Float64</th><th title = \"Float64\" style = \"text-align: left;\">Float64</th><th title = \"Float64\" style = \"text-align: left;\">Float64</th><th title = \"Float64\" style = \"text-align: left;\">Float64</th><th title = \"Float64\" style = \"text-align: left;\">Float64</th><th title = \"Float64\" style = \"text-align: left;\">Float64</th><th title = \"Float64\" style = \"text-align: left;\">Float64</th><th title = \"Float64\" style = \"text-align: left;\">Float64</th><th title = \"Float64\" style = \"text-align: left;\">Float64</th><th title = \"Float64\" style = \"text-align: left;\">Float64</th><th title = \"Float64\" style = \"text-align: left;\">Float64</th><th title = \"Float64\" style = \"text-align: left;\">Float64</th><th title = \"Float64\" style = \"text-align: left;\">Float64</th><th title = \"Float64\" style = \"text-align: left;\">Float64</th><th title = \"Float64\" style = \"text-align: left;\">Float64</th><th title = \"Float64\" style = \"text-align: left;\">Float64</th><th title = \"Float64\" style = \"text-align: left;\">Float64</th><th title = \"Float64\" style = \"text-align: left;\">Float64</th><th title = \"Float64\" style = \"text-align: left;\">Float64</th><th title = \"Float64\" style = \"text-align: left;\">Float64</th><th title = \"Float64\" style = \"text-align: left;\">Float64</th><th title = \"Float64\" style = \"text-align: left;\">Float64</th><th title = \"Float64\" style = \"text-align: left;\">Float64</th><th title = \"Float64\" style = \"text-align: left;\">Float64</th><th title = \"Float64\" style = \"text-align: left;\">Float64</th><th title = \"Float64\" style = \"text-align: left;\">Float64</th><th title = \"Float64\" style = \"text-align: left;\">Float64</th><th title = \"Float64\" style = \"text-align: left;\">Float64</th><th title = \"Float64\" style = \"text-align: left;\">Float64</th><th title = \"Float64\" style = \"text-align: left;\">Float64</th><th title = \"Float64\" style = \"text-align: left;\">Float64</th><th title = \"Float64\" style = \"text-align: left;\">Float64</th><th title = \"Float64\" style = \"text-align: left;\">Float64</th><th title = \"Float64\" style = \"text-align: left;\">Float64</th><th title = \"Float64\" style = \"text-align: left;\">Float64</th><th title = \"Int64\" style = \"text-align: left;\">Int64</th><th title = \"Int64\" style = \"text-align: left;\">Int64</th><th title = \"Int64\" style = \"text-align: left;\">Int64</th><th title = \"Float64\" style = \"text-align: left;\">Float64</th><th title = \"Float64\" style = \"text-align: left;\">Float64</th><th title = \"Float64\" style = \"text-align: left;\">Float64</th><th title = \"Float64\" style = \"text-align: left;\">Float64</th><th title = \"Float64\" style = \"text-align: left;\">Float64</th><th title = \"Float64\" style = \"text-align: left;\">Float64</th><th title = \"Float64\" style = \"text-align: left;\">Float64</th><th title = \"Float64\" style = \"text-align: left;\">Float64</th></tr></thead><tbody><tr><td class = \"rowNumber\" style = \"font-weight: bold; text-align: right;\">1</td><td style = \"text-align: right;\">1.53302</td><td style = \"text-align: right;\">0.0</td><td style = \"text-align: right;\">0.0</td><td style = \"text-align: right;\">0.0</td><td style = \"text-align: right;\">1.0</td><td style = \"text-align: right;\">0.0</td><td style = \"text-align: right;\">0.0</td><td style = \"text-align: right;\">0.0</td><td style = \"text-align: right;\">0.0</td><td style = \"text-align: right;\">0.0</td><td style = \"text-align: right;\">0.0</td><td style = \"text-align: right;\">0.0</td><td style = \"text-align: right;\">0.0</td><td style = \"text-align: right;\">0.0</td><td style = \"text-align: right;\">1.0</td><td style = \"text-align: right;\">0.0</td><td style = \"text-align: right;\">0.0</td><td style = \"text-align: right;\">1.0</td><td style = \"text-align: right;\">0.0</td><td style = \"text-align: right;\">0.0</td><td style = \"text-align: right;\">0.0</td><td style = \"text-align: right;\">0.0</td><td style = \"text-align: right;\">0.0</td><td style = \"text-align: right;\">0.0</td><td style = \"text-align: right;\">0.0</td><td style = \"text-align: right;\">1.0</td><td style = \"text-align: right;\">0.0</td><td style = \"text-align: right;\">0.0</td><td style = \"text-align: right;\">1.0</td><td style = \"text-align: right;\">0.0</td><td style = \"text-align: right;\">0.0</td><td style = \"text-align: right;\">1.0</td><td style = \"text-align: right;\">0.0</td><td style = \"text-align: right;\">0.0</td><td style = \"text-align: right;\">0.0</td><td style = \"text-align: right;\">1.0</td><td style = \"text-align: right;\">0.0</td><td style = \"text-align: right;\">0.0</td><td style = \"text-align: right;\">0.0</td><td style = \"text-align: right;\">0.0</td><td style = \"text-align: right;\">0.0</td><td style = \"text-align: right;\">0.0</td><td style = \"text-align: right;\">1.0</td><td style = \"text-align: right;\">0.0</td><td style = \"text-align: right;\">0.0</td><td style = \"text-align: right;\">0.0</td><td style = \"text-align: right;\">0.0</td><td style = \"text-align: right;\">1.0</td><td style = \"text-align: right;\">0.0</td><td style = \"text-align: right;\">0.0</td><td style = \"text-align: right;\">0.0</td><td style = \"text-align: right;\">1</td><td style = \"text-align: right;\">999</td><td style = \"text-align: right;\">0</td><td style = \"text-align: right;\">0.0</td><td style = \"text-align: right;\">1.0</td><td style = \"text-align: right;\">0.0</td><td style = \"text-align: right;\">0.648084</td><td style = \"text-align: right;\">0.722714</td><td style = \"text-align: right;\">0.886436</td><td style = \"text-align: right;\">0.712451</td><td style = \"text-align: right;\">0.331676</td></tr><tr><td class = \"rowNumber\" style = \"font-weight: bold; text-align: right;\">2</td><td style = \"text-align: right;\">1.62897</td><td style = \"text-align: right;\">0.0</td><td style = \"text-align: right;\">0.0</td><td style = \"text-align: right;\">0.0</td><td style = \"text-align: right;\">0.0</td><td style = \"text-align: right;\">0.0</td><td style = \"text-align: right;\">0.0</td><td style = \"text-align: right;\">0.0</td><td style = \"text-align: right;\">1.0</td><td style = \"text-align: right;\">0.0</td><td style = \"text-align: right;\">0.0</td><td style = \"text-align: right;\">0.0</td><td style = \"text-align: right;\">0.0</td><td style = \"text-align: right;\">0.0</td><td style = \"text-align: right;\">1.0</td><td style = \"text-align: right;\">0.0</td><td style = \"text-align: right;\">0.0</td><td style = \"text-align: right;\">0.0</td><td style = \"text-align: right;\">0.0</td><td style = \"text-align: right;\">0.0</td><td style = \"text-align: right;\">1.0</td><td style = \"text-align: right;\">0.0</td><td style = \"text-align: right;\">0.0</td><td style = \"text-align: right;\">0.0</td><td style = \"text-align: right;\">0.0</td><td style = \"text-align: right;\">0.0</td><td style = \"text-align: right;\">1.0</td><td style = \"text-align: right;\">0.0</td><td style = \"text-align: right;\">1.0</td><td style = \"text-align: right;\">0.0</td><td style = \"text-align: right;\">0.0</td><td style = \"text-align: right;\">1.0</td><td style = \"text-align: right;\">0.0</td><td style = \"text-align: right;\">0.0</td><td style = \"text-align: right;\">0.0</td><td style = \"text-align: right;\">1.0</td><td style = \"text-align: right;\">0.0</td><td style = \"text-align: right;\">0.0</td><td style = \"text-align: right;\">0.0</td><td style = \"text-align: right;\">0.0</td><td style = \"text-align: right;\">0.0</td><td style = \"text-align: right;\">0.0</td><td style = \"text-align: right;\">1.0</td><td style = \"text-align: right;\">0.0</td><td style = \"text-align: right;\">0.0</td><td style = \"text-align: right;\">0.0</td><td style = \"text-align: right;\">0.0</td><td style = \"text-align: right;\">1.0</td><td style = \"text-align: right;\">0.0</td><td style = \"text-align: right;\">0.0</td><td style = \"text-align: right;\">0.0</td><td style = \"text-align: right;\">1</td><td style = \"text-align: right;\">999</td><td style = \"text-align: right;\">0</td><td style = \"text-align: right;\">0.0</td><td style = \"text-align: right;\">1.0</td><td style = \"text-align: right;\">0.0</td><td style = \"text-align: right;\">0.648084</td><td style = \"text-align: right;\">0.722714</td><td style = \"text-align: right;\">0.886436</td><td style = \"text-align: right;\">0.712451</td><td style = \"text-align: right;\">0.331676</td></tr><tr><td class = \"rowNumber\" style = \"font-weight: bold; text-align: right;\">3</td><td style = \"text-align: right;\">-0.290182</td><td style = \"text-align: right;\">0.0</td><td style = \"text-align: right;\">0.0</td><td style = \"text-align: right;\">0.0</td><td style = \"text-align: right;\">0.0</td><td style = \"text-align: right;\">0.0</td><td style = \"text-align: right;\">0.0</td><td style = \"text-align: right;\">0.0</td><td style = \"text-align: right;\">1.0</td><td style = \"text-align: right;\">0.0</td><td style = \"text-align: right;\">0.0</td><td style = \"text-align: right;\">0.0</td><td style = \"text-align: right;\">0.0</td><td style = \"text-align: right;\">0.0</td><td style = \"text-align: right;\">1.0</td><td style = \"text-align: right;\">0.0</td><td style = \"text-align: right;\">0.0</td><td style = \"text-align: right;\">0.0</td><td style = \"text-align: right;\">0.0</td><td style = \"text-align: right;\">0.0</td><td style = \"text-align: right;\">1.0</td><td style = \"text-align: right;\">0.0</td><td style = \"text-align: right;\">0.0</td><td style = \"text-align: right;\">0.0</td><td style = \"text-align: right;\">0.0</td><td style = \"text-align: right;\">1.0</td><td style = \"text-align: right;\">0.0</td><td style = \"text-align: right;\">0.0</td><td style = \"text-align: right;\">0.0</td><td style = \"text-align: right;\">0.0</td><td style = \"text-align: right;\">1.0</td><td style = \"text-align: right;\">1.0</td><td style = \"text-align: right;\">0.0</td><td style = \"text-align: right;\">0.0</td><td style = \"text-align: right;\">0.0</td><td style = \"text-align: right;\">1.0</td><td style = \"text-align: right;\">0.0</td><td style = \"text-align: right;\">0.0</td><td style = \"text-align: right;\">0.0</td><td style = \"text-align: right;\">0.0</td><td style = \"text-align: right;\">0.0</td><td style = \"text-align: right;\">0.0</td><td style = \"text-align: right;\">1.0</td><td style = \"text-align: right;\">0.0</td><td style = \"text-align: right;\">0.0</td><td style = \"text-align: right;\">0.0</td><td style = \"text-align: right;\">0.0</td><td style = \"text-align: right;\">1.0</td><td style = \"text-align: right;\">0.0</td><td style = \"text-align: right;\">0.0</td><td style = \"text-align: right;\">0.0</td><td style = \"text-align: right;\">1</td><td style = \"text-align: right;\">999</td><td style = \"text-align: right;\">0</td><td style = \"text-align: right;\">0.0</td><td style = \"text-align: right;\">1.0</td><td style = \"text-align: right;\">0.0</td><td style = \"text-align: right;\">0.648084</td><td style = \"text-align: right;\">0.722714</td><td style = \"text-align: right;\">0.886436</td><td style = \"text-align: right;\">0.712451</td><td style = \"text-align: right;\">0.331676</td></tr><tr><td class = \"rowNumber\" style = \"font-weight: bold; text-align: right;\">4</td><td style = \"text-align: right;\">-0.00230878</td><td style = \"text-align: right;\">1.0</td><td style = \"text-align: right;\">0.0</td><td style = \"text-align: right;\">0.0</td><td style = \"text-align: right;\">0.0</td><td style = \"text-align: right;\">0.0</td><td style = \"text-align: right;\">0.0</td><td style = \"text-align: right;\">0.0</td><td style = \"text-align: right;\">0.0</td><td style = \"text-align: right;\">0.0</td><td style = \"text-align: right;\">0.0</td><td style = \"text-align: right;\">0.0</td><td style = \"text-align: right;\">0.0</td><td style = \"text-align: right;\">0.0</td><td style = \"text-align: right;\">1.0</td><td style = \"text-align: right;\">0.0</td><td style = \"text-align: right;\">0.0</td><td style = \"text-align: right;\">0.0</td><td style = \"text-align: right;\">1.0</td><td style = \"text-align: right;\">0.0</td><td style = \"text-align: right;\">0.0</td><td style = \"text-align: right;\">0.0</td><td style = \"text-align: right;\">0.0</td><td style = \"text-align: right;\">0.0</td><td style = \"text-align: right;\">0.0</td><td style = \"text-align: right;\">1.0</td><td style = \"text-align: right;\">0.0</td><td style = \"text-align: right;\">0.0</td><td style = \"text-align: right;\">1.0</td><td style = \"text-align: right;\">0.0</td><td style = \"text-align: right;\">0.0</td><td style = \"text-align: right;\">1.0</td><td style = \"text-align: right;\">0.0</td><td style = \"text-align: right;\">0.0</td><td style = \"text-align: right;\">0.0</td><td style = \"text-align: right;\">1.0</td><td style = \"text-align: right;\">0.0</td><td style = \"text-align: right;\">0.0</td><td style = \"text-align: right;\">0.0</td><td style = \"text-align: right;\">0.0</td><td style = \"text-align: right;\">0.0</td><td style = \"text-align: right;\">0.0</td><td style = \"text-align: right;\">1.0</td><td style = \"text-align: right;\">0.0</td><td style = \"text-align: right;\">0.0</td><td style = \"text-align: right;\">0.0</td><td style = \"text-align: right;\">0.0</td><td style = \"text-align: right;\">1.0</td><td style = \"text-align: right;\">0.0</td><td style = \"text-align: right;\">0.0</td><td style = \"text-align: right;\">0.0</td><td style = \"text-align: right;\">1</td><td style = \"text-align: right;\">999</td><td style = \"text-align: right;\">0</td><td style = \"text-align: right;\">0.0</td><td style = \"text-align: right;\">1.0</td><td style = \"text-align: right;\">0.0</td><td style = \"text-align: right;\">0.648084</td><td style = \"text-align: right;\">0.722714</td><td style = \"text-align: right;\">0.886436</td><td style = \"text-align: right;\">0.712451</td><td style = \"text-align: right;\">0.331676</td></tr><tr><td class = \"rowNumber\" style = \"font-weight: bold; text-align: right;\">5</td><td style = \"text-align: right;\">1.53302</td><td style = \"text-align: right;\">0.0</td><td style = \"text-align: right;\">0.0</td><td style = \"text-align: right;\">0.0</td><td style = \"text-align: right;\">0.0</td><td style = \"text-align: right;\">0.0</td><td style = \"text-align: right;\">0.0</td><td style = \"text-align: right;\">0.0</td><td style = \"text-align: right;\">1.0</td><td style = \"text-align: right;\">0.0</td><td style = \"text-align: right;\">0.0</td><td style = \"text-align: right;\">0.0</td><td style = \"text-align: right;\">0.0</td><td style = \"text-align: right;\">0.0</td><td style = \"text-align: right;\">1.0</td><td style = \"text-align: right;\">0.0</td><td style = \"text-align: right;\">0.0</td><td style = \"text-align: right;\">0.0</td><td style = \"text-align: right;\">0.0</td><td style = \"text-align: right;\">0.0</td><td style = \"text-align: right;\">1.0</td><td style = \"text-align: right;\">0.0</td><td style = \"text-align: right;\">0.0</td><td style = \"text-align: right;\">0.0</td><td style = \"text-align: right;\">0.0</td><td style = \"text-align: right;\">1.0</td><td style = \"text-align: right;\">0.0</td><td style = \"text-align: right;\">0.0</td><td style = \"text-align: right;\">1.0</td><td style = \"text-align: right;\">0.0</td><td style = \"text-align: right;\">0.0</td><td style = \"text-align: right;\">0.0</td><td style = \"text-align: right;\">0.0</td><td style = \"text-align: right;\">1.0</td><td style = \"text-align: right;\">0.0</td><td style = \"text-align: right;\">1.0</td><td style = \"text-align: right;\">0.0</td><td style = \"text-align: right;\">0.0</td><td style = \"text-align: right;\">0.0</td><td style = \"text-align: right;\">0.0</td><td style = \"text-align: right;\">0.0</td><td style = \"text-align: right;\">0.0</td><td style = \"text-align: right;\">1.0</td><td style = \"text-align: right;\">0.0</td><td style = \"text-align: right;\">0.0</td><td style = \"text-align: right;\">0.0</td><td style = \"text-align: right;\">0.0</td><td style = \"text-align: right;\">1.0</td><td style = \"text-align: right;\">0.0</td><td style = \"text-align: right;\">0.0</td><td style = \"text-align: right;\">0.0</td><td style = \"text-align: right;\">1</td><td style = \"text-align: right;\">999</td><td style = \"text-align: right;\">0</td><td style = \"text-align: right;\">0.0</td><td style = \"text-align: right;\">1.0</td><td style = \"text-align: right;\">0.0</td><td style = \"text-align: right;\">0.648084</td><td style = \"text-align: right;\">0.722714</td><td style = \"text-align: right;\">0.886436</td><td style = \"text-align: right;\">0.712451</td><td style = \"text-align: right;\">0.331676</td></tr><tr><td class = \"rowNumber\" style = \"font-weight: bold; text-align: right;\">6</td><td style = \"text-align: right;\">0.47748</td><td style = \"text-align: right;\">0.0</td><td style = \"text-align: right;\">0.0</td><td style = \"text-align: right;\">0.0</td><td style = \"text-align: right;\">0.0</td><td style = \"text-align: right;\">0.0</td><td style = \"text-align: right;\">0.0</td><td style = \"text-align: right;\">0.0</td><td style = \"text-align: right;\">1.0</td><td style = \"text-align: right;\">0.0</td><td style = \"text-align: right;\">0.0</td><td style = \"text-align: right;\">0.0</td><td style = \"text-align: right;\">0.0</td><td style = \"text-align: right;\">0.0</td><td style = \"text-align: right;\">1.0</td><td style = \"text-align: right;\">0.0</td><td style = \"text-align: right;\">0.0</td><td style = \"text-align: right;\">0.0</td><td style = \"text-align: right;\">0.0</td><td style = \"text-align: right;\">1.0</td><td style = \"text-align: right;\">0.0</td><td style = \"text-align: right;\">0.0</td><td style = \"text-align: right;\">0.0</td><td style = \"text-align: right;\">0.0</td><td style = \"text-align: right;\">0.0</td><td style = \"text-align: right;\">0.0</td><td style = \"text-align: right;\">1.0</td><td style = \"text-align: right;\">0.0</td><td style = \"text-align: right;\">1.0</td><td style = \"text-align: right;\">0.0</td><td style = \"text-align: right;\">0.0</td><td style = \"text-align: right;\">1.0</td><td style = \"text-align: right;\">0.0</td><td style = \"text-align: right;\">0.0</td><td style = \"text-align: right;\">0.0</td><td style = \"text-align: right;\">1.0</td><td style = \"text-align: right;\">0.0</td><td style = \"text-align: right;\">0.0</td><td style = \"text-align: right;\">0.0</td><td style = \"text-align: right;\">0.0</td><td style = \"text-align: right;\">0.0</td><td style = \"text-align: right;\">0.0</td><td style = \"text-align: right;\">1.0</td><td style = \"text-align: right;\">0.0</td><td style = \"text-align: right;\">0.0</td><td style = \"text-align: right;\">0.0</td><td style = \"text-align: right;\">0.0</td><td style = \"text-align: right;\">1.0</td><td style = \"text-align: right;\">0.0</td><td style = \"text-align: right;\">0.0</td><td style = \"text-align: right;\">0.0</td><td style = \"text-align: right;\">1</td><td style = \"text-align: right;\">999</td><td style = \"text-align: right;\">0</td><td style = \"text-align: right;\">0.0</td><td style = \"text-align: right;\">1.0</td><td style = \"text-align: right;\">0.0</td><td style = \"text-align: right;\">0.648084</td><td style = \"text-align: right;\">0.722714</td><td style = \"text-align: right;\">0.886436</td><td style = \"text-align: right;\">0.712451</td><td style = \"text-align: right;\">0.331676</td></tr><tr><td class = \"rowNumber\" style = \"font-weight: bold; text-align: right;\">7</td><td style = \"text-align: right;\">1.82089</td><td style = \"text-align: right;\">1.0</td><td style = \"text-align: right;\">0.0</td><td style = \"text-align: right;\">0.0</td><td style = \"text-align: right;\">0.0</td><td style = \"text-align: right;\">0.0</td><td style = \"text-align: right;\">0.0</td><td style = \"text-align: right;\">0.0</td><td style = \"text-align: right;\">0.0</td><td style = \"text-align: right;\">0.0</td><td style = \"text-align: right;\">0.0</td><td style = \"text-align: right;\">0.0</td><td style = \"text-align: right;\">0.0</td><td style = \"text-align: right;\">0.0</td><td style = \"text-align: right;\">1.0</td><td style = \"text-align: right;\">0.0</td><td style = \"text-align: right;\">0.0</td><td style = \"text-align: right;\">0.0</td><td style = \"text-align: right;\">0.0</td><td style = \"text-align: right;\">0.0</td><td style = \"text-align: right;\">0.0</td><td style = \"text-align: right;\">0.0</td><td style = \"text-align: right;\">1.0</td><td style = \"text-align: right;\">0.0</td><td style = \"text-align: right;\">0.0</td><td style = \"text-align: right;\">1.0</td><td style = \"text-align: right;\">0.0</td><td style = \"text-align: right;\">0.0</td><td style = \"text-align: right;\">1.0</td><td style = \"text-align: right;\">0.0</td><td style = \"text-align: right;\">0.0</td><td style = \"text-align: right;\">1.0</td><td style = \"text-align: right;\">0.0</td><td style = \"text-align: right;\">0.0</td><td style = \"text-align: right;\">0.0</td><td style = \"text-align: right;\">1.0</td><td style = \"text-align: right;\">0.0</td><td style = \"text-align: right;\">0.0</td><td style = \"text-align: right;\">0.0</td><td style = \"text-align: right;\">0.0</td><td style = \"text-align: right;\">0.0</td><td style = \"text-align: right;\">0.0</td><td style = \"text-align: right;\">1.0</td><td style = \"text-align: right;\">0.0</td><td style = \"text-align: right;\">0.0</td><td style = \"text-align: right;\">0.0</td><td style = \"text-align: right;\">0.0</td><td style = \"text-align: right;\">1.0</td><td style = \"text-align: right;\">0.0</td><td style = \"text-align: right;\">0.0</td><td style = \"text-align: right;\">0.0</td><td style = \"text-align: right;\">1</td><td style = \"text-align: right;\">999</td><td style = \"text-align: right;\">0</td><td style = \"text-align: right;\">0.0</td><td style = \"text-align: right;\">1.0</td><td style = \"text-align: right;\">0.0</td><td style = \"text-align: right;\">0.648084</td><td style = \"text-align: right;\">0.722714</td><td style = \"text-align: right;\">0.886436</td><td style = \"text-align: right;\">0.712451</td><td style = \"text-align: right;\">0.331676</td></tr><tr><td class = \"rowNumber\" style = \"font-weight: bold; text-align: right;\">8</td><td style = \"text-align: right;\">0.093649</td><td style = \"text-align: right;\">0.0</td><td style = \"text-align: right;\">1.0</td><td style = \"text-align: right;\">0.0</td><td style = \"text-align: right;\">0.0</td><td style = \"text-align: right;\">0.0</td><td style = \"text-align: right;\">0.0</td><td style = \"text-align: right;\">0.0</td><td style = \"text-align: right;\">0.0</td><td style = \"text-align: right;\">0.0</td><td style = \"text-align: right;\">0.0</td><td style = \"text-align: right;\">0.0</td><td style = \"text-align: right;\">0.0</td><td style = \"text-align: right;\">0.0</td><td style = \"text-align: right;\">1.0</td><td style = \"text-align: right;\">0.0</td><td style = \"text-align: right;\">0.0</td><td style = \"text-align: right;\">0.0</td><td style = \"text-align: right;\">0.0</td><td style = \"text-align: right;\">0.0</td><td style = \"text-align: right;\">0.0</td><td style = \"text-align: right;\">0.0</td><td style = \"text-align: right;\">0.0</td><td style = \"text-align: right;\">0.0</td><td style = \"text-align: right;\">1.0</td><td style = \"text-align: right;\">0.0</td><td style = \"text-align: right;\">1.0</td><td style = \"text-align: right;\">0.0</td><td style = \"text-align: right;\">1.0</td><td style = \"text-align: right;\">0.0</td><td style = \"text-align: right;\">0.0</td><td style = \"text-align: right;\">1.0</td><td style = \"text-align: right;\">0.0</td><td style = \"text-align: right;\">0.0</td><td style = \"text-align: right;\">0.0</td><td style = \"text-align: right;\">1.0</td><td style = \"text-align: right;\">0.0</td><td style = \"text-align: right;\">0.0</td><td style = \"text-align: right;\">0.0</td><td style = \"text-align: right;\">0.0</td><td style = \"text-align: right;\">0.0</td><td style = \"text-align: right;\">0.0</td><td style = \"text-align: right;\">1.0</td><td style = \"text-align: right;\">0.0</td><td style = \"text-align: right;\">0.0</td><td style = \"text-align: right;\">0.0</td><td style = \"text-align: right;\">0.0</td><td style = \"text-align: right;\">1.0</td><td style = \"text-align: right;\">0.0</td><td style = \"text-align: right;\">0.0</td><td style = \"text-align: right;\">0.0</td><td style = \"text-align: right;\">1</td><td style = \"text-align: right;\">999</td><td style = \"text-align: right;\">0</td><td style = \"text-align: right;\">0.0</td><td style = \"text-align: right;\">1.0</td><td style = \"text-align: right;\">0.0</td><td style = \"text-align: right;\">0.648084</td><td style = \"text-align: right;\">0.722714</td><td style = \"text-align: right;\">0.886436</td><td style = \"text-align: right;\">0.712451</td><td style = \"text-align: right;\">0.331676</td></tr><tr><td class = \"rowNumber\" style = \"font-weight: bold; text-align: right;\">9</td><td style = \"text-align: right;\">-1.53763</td><td style = \"text-align: right;\">0.0</td><td style = \"text-align: right;\">0.0</td><td style = \"text-align: right;\">0.0</td><td style = \"text-align: right;\">0.0</td><td style = \"text-align: right;\">0.0</td><td style = \"text-align: right;\">0.0</td><td style = \"text-align: right;\">0.0</td><td style = \"text-align: right;\">0.0</td><td style = \"text-align: right;\">0.0</td><td style = \"text-align: right;\">1.0</td><td style = \"text-align: right;\">0.0</td><td style = \"text-align: right;\">0.0</td><td style = \"text-align: right;\">0.0</td><td style = \"text-align: right;\">0.0</td><td style = \"text-align: right;\">1.0</td><td style = \"text-align: right;\">0.0</td><td style = \"text-align: right;\">0.0</td><td style = \"text-align: right;\">0.0</td><td style = \"text-align: right;\">0.0</td><td style = \"text-align: right;\">0.0</td><td style = \"text-align: right;\">0.0</td><td style = \"text-align: right;\">1.0</td><td style = \"text-align: right;\">0.0</td><td style = \"text-align: right;\">0.0</td><td style = \"text-align: right;\">1.0</td><td style = \"text-align: right;\">0.0</td><td style = \"text-align: right;\">0.0</td><td style = \"text-align: right;\">0.0</td><td style = \"text-align: right;\">0.0</td><td style = \"text-align: right;\">1.0</td><td style = \"text-align: right;\">1.0</td><td style = \"text-align: right;\">0.0</td><td style = \"text-align: right;\">0.0</td><td style = \"text-align: right;\">0.0</td><td style = \"text-align: right;\">1.0</td><td style = \"text-align: right;\">0.0</td><td style = \"text-align: right;\">0.0</td><td style = \"text-align: right;\">0.0</td><td style = \"text-align: right;\">0.0</td><td style = \"text-align: right;\">0.0</td><td style = \"text-align: right;\">0.0</td><td style = \"text-align: right;\">1.0</td><td style = \"text-align: right;\">0.0</td><td style = \"text-align: right;\">0.0</td><td style = \"text-align: right;\">0.0</td><td style = \"text-align: right;\">0.0</td><td style = \"text-align: right;\">1.0</td><td style = \"text-align: right;\">0.0</td><td style = \"text-align: right;\">0.0</td><td style = \"text-align: right;\">0.0</td><td style = \"text-align: right;\">1</td><td style = \"text-align: right;\">999</td><td style = \"text-align: right;\">0</td><td style = \"text-align: right;\">0.0</td><td style = \"text-align: right;\">1.0</td><td style = \"text-align: right;\">0.0</td><td style = \"text-align: right;\">0.648084</td><td style = \"text-align: right;\">0.722714</td><td style = \"text-align: right;\">0.886436</td><td style = \"text-align: right;\">0.712451</td><td style = \"text-align: right;\">0.331676</td></tr><tr><td class = \"rowNumber\" style = \"font-weight: bold; text-align: right;\">10</td><td style = \"text-align: right;\">-1.44168</td><td style = \"text-align: right;\">0.0</td><td style = \"text-align: right;\">0.0</td><td style = \"text-align: right;\">0.0</td><td style = \"text-align: right;\">0.0</td><td style = \"text-align: right;\">0.0</td><td style = \"text-align: right;\">0.0</td><td style = \"text-align: right;\">0.0</td><td style = \"text-align: right;\">1.0</td><td style = \"text-align: right;\">0.0</td><td style = \"text-align: right;\">0.0</td><td style = \"text-align: right;\">0.0</td><td style = \"text-align: right;\">0.0</td><td style = \"text-align: right;\">0.0</td><td style = \"text-align: right;\">0.0</td><td style = \"text-align: right;\">1.0</td><td style = \"text-align: right;\">0.0</td><td style = \"text-align: right;\">0.0</td><td style = \"text-align: right;\">0.0</td><td style = \"text-align: right;\">0.0</td><td style = \"text-align: right;\">1.0</td><td style = \"text-align: right;\">0.0</td><td style = \"text-align: right;\">0.0</td><td style = \"text-align: right;\">0.0</td><td style = \"text-align: right;\">0.0</td><td style = \"text-align: right;\">1.0</td><td style = \"text-align: right;\">0.0</td><td style = \"text-align: right;\">0.0</td><td style = \"text-align: right;\">0.0</td><td style = \"text-align: right;\">0.0</td><td style = \"text-align: right;\">1.0</td><td style = \"text-align: right;\">1.0</td><td style = \"text-align: right;\">0.0</td><td style = \"text-align: right;\">0.0</td><td style = \"text-align: right;\">0.0</td><td style = \"text-align: right;\">1.0</td><td style = \"text-align: right;\">0.0</td><td style = \"text-align: right;\">0.0</td><td style = \"text-align: right;\">0.0</td><td style = \"text-align: right;\">0.0</td><td style = \"text-align: right;\">0.0</td><td style = \"text-align: right;\">0.0</td><td style = \"text-align: right;\">1.0</td><td style = \"text-align: right;\">0.0</td><td style = \"text-align: right;\">0.0</td><td style = \"text-align: right;\">0.0</td><td style = \"text-align: right;\">0.0</td><td style = \"text-align: right;\">1.0</td><td style = \"text-align: right;\">0.0</td><td style = \"text-align: right;\">0.0</td><td style = \"text-align: right;\">0.0</td><td style = \"text-align: right;\">1</td><td style = \"text-align: right;\">999</td><td style = \"text-align: right;\">0</td><td style = \"text-align: right;\">0.0</td><td style = \"text-align: right;\">1.0</td><td style = \"text-align: right;\">0.0</td><td style = \"text-align: right;\">0.648084</td><td style = \"text-align: right;\">0.722714</td><td style = \"text-align: right;\">0.886436</td><td style = \"text-align: right;\">0.712451</td><td style = \"text-align: right;\">0.331676</td></tr><tr><td class = \"rowNumber\" style = \"font-weight: bold; text-align: right;\">11</td><td style = \"text-align: right;\">0.093649</td><td style = \"text-align: right;\">0.0</td><td style = \"text-align: right;\">1.0</td><td style = \"text-align: right;\">0.0</td><td style = \"text-align: right;\">0.0</td><td style = \"text-align: right;\">0.0</td><td style = \"text-align: right;\">0.0</td><td style = \"text-align: right;\">0.0</td><td style = \"text-align: right;\">0.0</td><td style = \"text-align: right;\">0.0</td><td style = \"text-align: right;\">0.0</td><td style = \"text-align: right;\">0.0</td><td style = \"text-align: right;\">0.0</td><td style = \"text-align: right;\">0.0</td><td style = \"text-align: right;\">1.0</td><td style = \"text-align: right;\">0.0</td><td style = \"text-align: right;\">0.0</td><td style = \"text-align: right;\">0.0</td><td style = \"text-align: right;\">0.0</td><td style = \"text-align: right;\">0.0</td><td style = \"text-align: right;\">0.0</td><td style = \"text-align: right;\">0.0</td><td style = \"text-align: right;\">0.0</td><td style = \"text-align: right;\">0.0</td><td style = \"text-align: right;\">1.0</td><td style = \"text-align: right;\">0.0</td><td style = \"text-align: right;\">1.0</td><td style = \"text-align: right;\">0.0</td><td style = \"text-align: right;\">1.0</td><td style = \"text-align: right;\">0.0</td><td style = \"text-align: right;\">0.0</td><td style = \"text-align: right;\">1.0</td><td style = \"text-align: right;\">0.0</td><td style = \"text-align: right;\">0.0</td><td style = \"text-align: right;\">0.0</td><td style = \"text-align: right;\">1.0</td><td style = \"text-align: right;\">0.0</td><td style = \"text-align: right;\">0.0</td><td style = \"text-align: right;\">0.0</td><td style = \"text-align: right;\">0.0</td><td style = \"text-align: right;\">0.0</td><td style = \"text-align: right;\">0.0</td><td style = \"text-align: right;\">1.0</td><td style = \"text-align: right;\">0.0</td><td style = \"text-align: right;\">0.0</td><td style = \"text-align: right;\">0.0</td><td style = \"text-align: right;\">0.0</td><td style = \"text-align: right;\">1.0</td><td style = \"text-align: right;\">0.0</td><td style = \"text-align: right;\">0.0</td><td style = \"text-align: right;\">0.0</td><td style = \"text-align: right;\">1</td><td style = \"text-align: right;\">999</td><td style = \"text-align: right;\">0</td><td style = \"text-align: right;\">0.0</td><td style = \"text-align: right;\">1.0</td><td style = \"text-align: right;\">0.0</td><td style = \"text-align: right;\">0.648084</td><td style = \"text-align: right;\">0.722714</td><td style = \"text-align: right;\">0.886436</td><td style = \"text-align: right;\">0.712451</td><td style = \"text-align: right;\">0.331676</td></tr><tr><td class = \"rowNumber\" style = \"font-weight: bold; text-align: right;\">12</td><td style = \"text-align: right;\">-1.44168</td><td style = \"text-align: right;\">0.0</td><td style = \"text-align: right;\">0.0</td><td style = \"text-align: right;\">0.0</td><td style = \"text-align: right;\">0.0</td><td style = \"text-align: right;\">0.0</td><td style = \"text-align: right;\">0.0</td><td style = \"text-align: right;\">0.0</td><td style = \"text-align: right;\">1.0</td><td style = \"text-align: right;\">0.0</td><td style = \"text-align: right;\">0.0</td><td style = \"text-align: right;\">0.0</td><td style = \"text-align: right;\">0.0</td><td style = \"text-align: right;\">0.0</td><td style = \"text-align: right;\">0.0</td><td style = \"text-align: right;\">1.0</td><td style = \"text-align: right;\">0.0</td><td style = \"text-align: right;\">0.0</td><td style = \"text-align: right;\">0.0</td><td style = \"text-align: right;\">0.0</td><td style = \"text-align: right;\">1.0</td><td style = \"text-align: right;\">0.0</td><td style = \"text-align: right;\">0.0</td><td style = \"text-align: right;\">0.0</td><td style = \"text-align: right;\">0.0</td><td style = \"text-align: right;\">1.0</td><td style = \"text-align: right;\">0.0</td><td style = \"text-align: right;\">0.0</td><td style = \"text-align: right;\">0.0</td><td style = \"text-align: right;\">0.0</td><td style = \"text-align: right;\">1.0</td><td style = \"text-align: right;\">1.0</td><td style = \"text-align: right;\">0.0</td><td style = \"text-align: right;\">0.0</td><td style = \"text-align: right;\">0.0</td><td style = \"text-align: right;\">1.0</td><td style = \"text-align: right;\">0.0</td><td style = \"text-align: right;\">0.0</td><td style = \"text-align: right;\">0.0</td><td style = \"text-align: right;\">0.0</td><td style = \"text-align: right;\">0.0</td><td style = \"text-align: right;\">0.0</td><td style = \"text-align: right;\">1.0</td><td style = \"text-align: right;\">0.0</td><td style = \"text-align: right;\">0.0</td><td style = \"text-align: right;\">0.0</td><td style = \"text-align: right;\">0.0</td><td style = \"text-align: right;\">1.0</td><td style = \"text-align: right;\">0.0</td><td style = \"text-align: right;\">0.0</td><td style = \"text-align: right;\">0.0</td><td style = \"text-align: right;\">1</td><td style = \"text-align: right;\">999</td><td style = \"text-align: right;\">0</td><td style = \"text-align: right;\">0.0</td><td style = \"text-align: right;\">1.0</td><td style = \"text-align: right;\">0.0</td><td style = \"text-align: right;\">0.648084</td><td style = \"text-align: right;\">0.722714</td><td style = \"text-align: right;\">0.886436</td><td style = \"text-align: right;\">0.712451</td><td style = \"text-align: right;\">0.331676</td></tr><tr><td class = \"rowNumber\" style = \"font-weight: bold; text-align: right;\">13</td><td style = \"text-align: right;\">-1.05784</td><td style = \"text-align: right;\">0.0</td><td style = \"text-align: right;\">1.0</td><td style = \"text-align: right;\">0.0</td><td style = \"text-align: right;\">0.0</td><td style = \"text-align: right;\">0.0</td><td style = \"text-align: right;\">0.0</td><td style = \"text-align: right;\">0.0</td><td style = \"text-align: right;\">0.0</td><td style = \"text-align: right;\">0.0</td><td style = \"text-align: right;\">0.0</td><td style = \"text-align: right;\">0.0</td><td style = \"text-align: right;\">0.0</td><td style = \"text-align: right;\">0.0</td><td style = \"text-align: right;\">0.0</td><td style = \"text-align: right;\">1.0</td><td style = \"text-align: right;\">0.0</td><td style = \"text-align: right;\">0.0</td><td style = \"text-align: right;\">0.0</td><td style = \"text-align: right;\">0.0</td><td style = \"text-align: right;\">1.0</td><td style = \"text-align: right;\">0.0</td><td style = \"text-align: right;\">0.0</td><td style = \"text-align: right;\">0.0</td><td style = \"text-align: right;\">0.0</td><td style = \"text-align: right;\">1.0</td><td style = \"text-align: right;\">0.0</td><td style = \"text-align: right;\">0.0</td><td style = \"text-align: right;\">1.0</td><td style = \"text-align: right;\">0.0</td><td style = \"text-align: right;\">0.0</td><td style = \"text-align: right;\">0.0</td><td style = \"text-align: right;\">0.0</td><td style = \"text-align: right;\">1.0</td><td style = \"text-align: right;\">0.0</td><td style = \"text-align: right;\">1.0</td><td style = \"text-align: right;\">0.0</td><td style = \"text-align: right;\">0.0</td><td style = \"text-align: right;\">0.0</td><td style = \"text-align: right;\">0.0</td><td style = \"text-align: right;\">0.0</td><td style = \"text-align: right;\">0.0</td><td style = \"text-align: right;\">1.0</td><td style = \"text-align: right;\">0.0</td><td style = \"text-align: right;\">0.0</td><td style = \"text-align: right;\">0.0</td><td style = \"text-align: right;\">0.0</td><td style = \"text-align: right;\">1.0</td><td style = \"text-align: right;\">0.0</td><td style = \"text-align: right;\">0.0</td><td style = \"text-align: right;\">0.0</td><td style = \"text-align: right;\">1</td><td style = \"text-align: right;\">999</td><td style = \"text-align: right;\">0</td><td style = \"text-align: right;\">0.0</td><td style = \"text-align: right;\">1.0</td><td style = \"text-align: right;\">0.0</td><td style = \"text-align: right;\">0.648084</td><td style = \"text-align: right;\">0.722714</td><td style = \"text-align: right;\">0.886436</td><td style = \"text-align: right;\">0.712451</td><td style = \"text-align: right;\">0.331676</td></tr><tr><td style = \"text-align: right;\">&vellip;</td><td style = \"text-align: right;\">&vellip;</td><td style = \"text-align: right;\">&vellip;</td><td style = \"text-align: right;\">&vellip;</td><td style = \"text-align: right;\">&vellip;</td><td style = \"text-align: right;\">&vellip;</td><td style = \"text-align: right;\">&vellip;</td><td style = \"text-align: right;\">&vellip;</td><td style = \"text-align: right;\">&vellip;</td><td style = \"text-align: right;\">&vellip;</td><td style = \"text-align: right;\">&vellip;</td><td style = \"text-align: right;\">&vellip;</td><td style = \"text-align: right;\">&vellip;</td><td style = \"text-align: right;\">&vellip;</td><td style = \"text-align: right;\">&vellip;</td><td style = \"text-align: right;\">&vellip;</td><td style = \"text-align: right;\">&vellip;</td><td style = \"text-align: right;\">&vellip;</td><td style = \"text-align: right;\">&vellip;</td><td style = \"text-align: right;\">&vellip;</td><td style = \"text-align: right;\">&vellip;</td><td style = \"text-align: right;\">&vellip;</td><td style = \"text-align: right;\">&vellip;</td><td style = \"text-align: right;\">&vellip;</td><td style = \"text-align: right;\">&vellip;</td><td style = \"text-align: right;\">&vellip;</td><td style = \"text-align: right;\">&vellip;</td><td style = \"text-align: right;\">&vellip;</td><td style = \"text-align: right;\">&vellip;</td><td style = \"text-align: right;\">&vellip;</td><td style = \"text-align: right;\">&vellip;</td><td style = \"text-align: right;\">&vellip;</td><td style = \"text-align: right;\">&vellip;</td><td style = \"text-align: right;\">&vellip;</td><td style = \"text-align: right;\">&vellip;</td><td style = \"text-align: right;\">&vellip;</td><td style = \"text-align: right;\">&vellip;</td><td style = \"text-align: right;\">&vellip;</td><td style = \"text-align: right;\">&vellip;</td><td style = \"text-align: right;\">&vellip;</td><td style = \"text-align: right;\">&vellip;</td><td style = \"text-align: right;\">&vellip;</td><td style = \"text-align: right;\">&vellip;</td><td style = \"text-align: right;\">&vellip;</td><td style = \"text-align: right;\">&vellip;</td><td style = \"text-align: right;\">&vellip;</td><td style = \"text-align: right;\">&vellip;</td><td style = \"text-align: right;\">&vellip;</td><td style = \"text-align: right;\">&vellip;</td><td style = \"text-align: right;\">&vellip;</td><td style = \"text-align: right;\">&vellip;</td><td style = \"text-align: right;\">&vellip;</td><td style = \"text-align: right;\">&vellip;</td><td style = \"text-align: right;\">&vellip;</td><td style = \"text-align: right;\">&vellip;</td><td style = \"text-align: right;\">&vellip;</td><td style = \"text-align: right;\">&vellip;</td><td style = \"text-align: right;\">&vellip;</td><td style = \"text-align: right;\">&vellip;</td><td style = \"text-align: right;\">&vellip;</td><td style = \"text-align: right;\">&vellip;</td><td style = \"text-align: right;\">&vellip;</td><td style = \"text-align: right;\">&vellip;</td></tr><tr><td class = \"rowNumber\" style = \"font-weight: bold; text-align: right;\">41177</td><td style = \"text-align: right;\">-0.194224</td><td style = \"text-align: right;\">0.0</td><td style = \"text-align: right;\">0.0</td><td style = \"text-align: right;\">0.0</td><td style = \"text-align: right;\">1.0</td><td style = \"text-align: right;\">0.0</td><td style = \"text-align: right;\">0.0</td><td style = \"text-align: right;\">0.0</td><td style = \"text-align: right;\">0.0</td><td style = \"text-align: right;\">0.0</td><td style = \"text-align: right;\">0.0</td><td style = \"text-align: right;\">0.0</td><td style = \"text-align: right;\">0.0</td><td style = \"text-align: right;\">1.0</td><td style = \"text-align: right;\">0.0</td><td style = \"text-align: right;\">0.0</td><td style = \"text-align: right;\">0.0</td><td style = \"text-align: right;\">0.0</td><td style = \"text-align: right;\">0.0</td><td style = \"text-align: right;\">0.0</td><td style = \"text-align: right;\">1.0</td><td style = \"text-align: right;\">0.0</td><td style = \"text-align: right;\">0.0</td><td style = \"text-align: right;\">0.0</td><td style = \"text-align: right;\">0.0</td><td style = \"text-align: right;\">1.0</td><td style = \"text-align: right;\">0.0</td><td style = \"text-align: right;\">0.0</td><td style = \"text-align: right;\">0.0</td><td style = \"text-align: right;\">0.0</td><td style = \"text-align: right;\">1.0</td><td style = \"text-align: right;\">0.0</td><td style = \"text-align: right;\">0.0</td><td style = \"text-align: right;\">1.0</td><td style = \"text-align: right;\">1.0</td><td style = \"text-align: right;\">0.0</td><td style = \"text-align: right;\">0.0</td><td style = \"text-align: right;\">0.0</td><td style = \"text-align: right;\">0.0</td><td style = \"text-align: right;\">0.0</td><td style = \"text-align: right;\">0.0</td><td style = \"text-align: right;\">0.0</td><td style = \"text-align: right;\">0.0</td><td style = \"text-align: right;\">1.0</td><td style = \"text-align: right;\">0.0</td><td style = \"text-align: right;\">0.0</td><td style = \"text-align: right;\">0.0</td><td style = \"text-align: right;\">0.0</td><td style = \"text-align: right;\">1.0</td><td style = \"text-align: right;\">0.0</td><td style = \"text-align: right;\">0.0</td><td style = \"text-align: right;\">1</td><td style = \"text-align: right;\">999</td><td style = \"text-align: right;\">0</td><td style = \"text-align: right;\">0.0</td><td style = \"text-align: right;\">1.0</td><td style = \"text-align: right;\">0.0</td><td style = \"text-align: right;\">-0.752333</td><td style = \"text-align: right;\">2.05814</td><td style = \"text-align: right;\">-2.22493</td><td style = \"text-align: right;\">-1.49344</td><td style = \"text-align: right;\">-2.81566</td></tr><tr><td class = \"rowNumber\" style = \"font-weight: bold; text-align: right;\">41178</td><td style = \"text-align: right;\">1.62897</td><td style = \"text-align: right;\">0.0</td><td style = \"text-align: right;\">0.0</td><td style = \"text-align: right;\">0.0</td><td style = \"text-align: right;\">0.0</td><td style = \"text-align: right;\">0.0</td><td style = \"text-align: right;\">1.0</td><td style = \"text-align: right;\">0.0</td><td style = \"text-align: right;\">0.0</td><td style = \"text-align: right;\">0.0</td><td style = \"text-align: right;\">0.0</td><td style = \"text-align: right;\">0.0</td><td style = \"text-align: right;\">0.0</td><td style = \"text-align: right;\">0.0</td><td style = \"text-align: right;\">1.0</td><td style = \"text-align: right;\">0.0</td><td style = \"text-align: right;\">0.0</td><td style = \"text-align: right;\">0.0</td><td style = \"text-align: right;\">0.0</td><td style = \"text-align: right;\">0.0</td><td style = \"text-align: right;\">0.0</td><td style = \"text-align: right;\">0.0</td><td style = \"text-align: right;\">1.0</td><td style = \"text-align: right;\">0.0</td><td style = \"text-align: right;\">0.0</td><td style = \"text-align: right;\">1.0</td><td style = \"text-align: right;\">0.0</td><td style = \"text-align: right;\">0.0</td><td style = \"text-align: right;\">0.0</td><td style = \"text-align: right;\">0.0</td><td style = \"text-align: right;\">1.0</td><td style = \"text-align: right;\">1.0</td><td style = \"text-align: right;\">0.0</td><td style = \"text-align: right;\">0.0</td><td style = \"text-align: right;\">1.0</td><td style = \"text-align: right;\">0.0</td><td style = \"text-align: right;\">0.0</td><td style = \"text-align: right;\">0.0</td><td style = \"text-align: right;\">0.0</td><td style = \"text-align: right;\">0.0</td><td style = \"text-align: right;\">0.0</td><td style = \"text-align: right;\">0.0</td><td style = \"text-align: right;\">0.0</td><td style = \"text-align: right;\">1.0</td><td style = \"text-align: right;\">0.0</td><td style = \"text-align: right;\">0.0</td><td style = \"text-align: right;\">0.0</td><td style = \"text-align: right;\">0.0</td><td style = \"text-align: right;\">1.0</td><td style = \"text-align: right;\">0.0</td><td style = \"text-align: right;\">0.0</td><td style = \"text-align: right;\">6</td><td style = \"text-align: right;\">999</td><td style = \"text-align: right;\">0</td><td style = \"text-align: right;\">0.0</td><td style = \"text-align: right;\">1.0</td><td style = \"text-align: right;\">0.0</td><td style = \"text-align: right;\">-0.752333</td><td style = \"text-align: right;\">2.05814</td><td style = \"text-align: right;\">-2.22493</td><td style = \"text-align: right;\">-1.49344</td><td style = \"text-align: right;\">-2.81566</td></tr><tr><td class = \"rowNumber\" style = \"font-weight: bold; text-align: right;\">41179</td><td style = \"text-align: right;\">2.10876</td><td style = \"text-align: right;\">0.0</td><td style = \"text-align: right;\">0.0</td><td style = \"text-align: right;\">0.0</td><td style = \"text-align: right;\">0.0</td><td style = \"text-align: right;\">0.0</td><td style = \"text-align: right;\">1.0</td><td style = \"text-align: right;\">0.0</td><td style = \"text-align: right;\">0.0</td><td style = \"text-align: right;\">0.0</td><td style = \"text-align: right;\">0.0</td><td style = \"text-align: right;\">0.0</td><td style = \"text-align: right;\">0.0</td><td style = \"text-align: right;\">0.0</td><td style = \"text-align: right;\">1.0</td><td style = \"text-align: right;\">0.0</td><td style = \"text-align: right;\">0.0</td><td style = \"text-align: right;\">0.0</td><td style = \"text-align: right;\">0.0</td><td style = \"text-align: right;\">0.0</td><td style = \"text-align: right;\">0.0</td><td style = \"text-align: right;\">0.0</td><td style = \"text-align: right;\">0.0</td><td style = \"text-align: right;\">1.0</td><td style = \"text-align: right;\">0.0</td><td style = \"text-align: right;\">1.0</td><td style = \"text-align: right;\">0.0</td><td style = \"text-align: right;\">0.0</td><td style = \"text-align: right;\">1.0</td><td style = \"text-align: right;\">0.0</td><td style = \"text-align: right;\">0.0</td><td style = \"text-align: right;\">1.0</td><td style = \"text-align: right;\">0.0</td><td style = \"text-align: right;\">0.0</td><td style = \"text-align: right;\">1.0</td><td style = \"text-align: right;\">0.0</td><td style = \"text-align: right;\">0.0</td><td style = \"text-align: right;\">0.0</td><td style = \"text-align: right;\">0.0</td><td style = \"text-align: right;\">0.0</td><td style = \"text-align: right;\">0.0</td><td style = \"text-align: right;\">0.0</td><td style = \"text-align: right;\">0.0</td><td style = \"text-align: right;\">1.0</td><td style = \"text-align: right;\">0.0</td><td style = \"text-align: right;\">0.0</td><td style = \"text-align: right;\">0.0</td><td style = \"text-align: right;\">0.0</td><td style = \"text-align: right;\">1.0</td><td style = \"text-align: right;\">0.0</td><td style = \"text-align: right;\">0.0</td><td style = \"text-align: right;\">2</td><td style = \"text-align: right;\">6</td><td style = \"text-align: right;\">3</td><td style = \"text-align: right;\">0.0</td><td style = \"text-align: right;\">0.0</td><td style = \"text-align: right;\">1.0</td><td style = \"text-align: right;\">-0.752333</td><td style = \"text-align: right;\">2.05814</td><td style = \"text-align: right;\">-2.22493</td><td style = \"text-align: right;\">-1.49344</td><td style = \"text-align: right;\">-2.81566</td></tr><tr><td class = \"rowNumber\" style = \"font-weight: bold; text-align: right;\">41180</td><td style = \"text-align: right;\">2.30068</td><td style = \"text-align: right;\">0.0</td><td style = \"text-align: right;\">0.0</td><td style = \"text-align: right;\">0.0</td><td style = \"text-align: right;\">0.0</td><td style = \"text-align: right;\">0.0</td><td style = \"text-align: right;\">1.0</td><td style = \"text-align: right;\">0.0</td><td style = \"text-align: right;\">0.0</td><td style = \"text-align: right;\">0.0</td><td style = \"text-align: right;\">0.0</td><td style = \"text-align: right;\">0.0</td><td style = \"text-align: right;\">0.0</td><td style = \"text-align: right;\">1.0</td><td style = \"text-align: right;\">0.0</td><td style = \"text-align: right;\">0.0</td><td style = \"text-align: right;\">0.0</td><td style = \"text-align: right;\">0.0</td><td style = \"text-align: right;\">0.0</td><td style = \"text-align: right;\">0.0</td><td style = \"text-align: right;\">0.0</td><td style = \"text-align: right;\">0.0</td><td style = \"text-align: right;\">1.0</td><td style = \"text-align: right;\">0.0</td><td style = \"text-align: right;\">0.0</td><td style = \"text-align: right;\">1.0</td><td style = \"text-align: right;\">0.0</td><td style = \"text-align: right;\">0.0</td><td style = \"text-align: right;\">0.0</td><td style = \"text-align: right;\">0.0</td><td style = \"text-align: right;\">1.0</td><td style = \"text-align: right;\">1.0</td><td style = \"text-align: right;\">0.0</td><td style = \"text-align: right;\">0.0</td><td style = \"text-align: right;\">1.0</td><td style = \"text-align: right;\">0.0</td><td style = \"text-align: right;\">0.0</td><td style = \"text-align: right;\">0.0</td><td style = \"text-align: right;\">0.0</td><td style = \"text-align: right;\">0.0</td><td style = \"text-align: right;\">0.0</td><td style = \"text-align: right;\">0.0</td><td style = \"text-align: right;\">0.0</td><td style = \"text-align: right;\">1.0</td><td style = \"text-align: right;\">0.0</td><td style = \"text-align: right;\">0.0</td><td style = \"text-align: right;\">1.0</td><td style = \"text-align: right;\">0.0</td><td style = \"text-align: right;\">0.0</td><td style = \"text-align: right;\">0.0</td><td style = \"text-align: right;\">0.0</td><td style = \"text-align: right;\">3</td><td style = \"text-align: right;\">999</td><td style = \"text-align: right;\">0</td><td style = \"text-align: right;\">0.0</td><td style = \"text-align: right;\">1.0</td><td style = \"text-align: right;\">0.0</td><td style = \"text-align: right;\">-0.752333</td><td style = \"text-align: right;\">2.05814</td><td style = \"text-align: right;\">-2.22493</td><td style = \"text-align: right;\">-1.49517</td><td style = \"text-align: right;\">-2.81566</td></tr><tr><td class = \"rowNumber\" style = \"font-weight: bold; text-align: right;\">41181</td><td style = \"text-align: right;\">-0.38614</td><td style = \"text-align: right;\">1.0</td><td style = \"text-align: right;\">0.0</td><td style = \"text-align: right;\">0.0</td><td style = \"text-align: right;\">0.0</td><td style = \"text-align: right;\">0.0</td><td style = \"text-align: right;\">0.0</td><td style = \"text-align: right;\">0.0</td><td style = \"text-align: right;\">0.0</td><td style = \"text-align: right;\">0.0</td><td style = \"text-align: right;\">0.0</td><td style = \"text-align: right;\">0.0</td><td style = \"text-align: right;\">0.0</td><td style = \"text-align: right;\">0.0</td><td style = \"text-align: right;\">1.0</td><td style = \"text-align: right;\">0.0</td><td style = \"text-align: right;\">0.0</td><td style = \"text-align: right;\">0.0</td><td style = \"text-align: right;\">0.0</td><td style = \"text-align: right;\">0.0</td><td style = \"text-align: right;\">0.0</td><td style = \"text-align: right;\">0.0</td><td style = \"text-align: right;\">0.0</td><td style = \"text-align: right;\">1.0</td><td style = \"text-align: right;\">0.0</td><td style = \"text-align: right;\">1.0</td><td style = \"text-align: right;\">0.0</td><td style = \"text-align: right;\">0.0</td><td style = \"text-align: right;\">1.0</td><td style = \"text-align: right;\">0.0</td><td style = \"text-align: right;\">0.0</td><td style = \"text-align: right;\">1.0</td><td style = \"text-align: right;\">0.0</td><td style = \"text-align: right;\">0.0</td><td style = \"text-align: right;\">1.0</td><td style = \"text-align: right;\">0.0</td><td style = \"text-align: right;\">0.0</td><td style = \"text-align: right;\">0.0</td><td style = \"text-align: right;\">0.0</td><td style = \"text-align: right;\">0.0</td><td style = \"text-align: right;\">0.0</td><td style = \"text-align: right;\">0.0</td><td style = \"text-align: right;\">0.0</td><td style = \"text-align: right;\">1.0</td><td style = \"text-align: right;\">0.0</td><td style = \"text-align: right;\">0.0</td><td style = \"text-align: right;\">1.0</td><td style = \"text-align: right;\">0.0</td><td style = \"text-align: right;\">0.0</td><td style = \"text-align: right;\">0.0</td><td style = \"text-align: right;\">0.0</td><td style = \"text-align: right;\">2</td><td style = \"text-align: right;\">999</td><td style = \"text-align: right;\">0</td><td style = \"text-align: right;\">0.0</td><td style = \"text-align: right;\">1.0</td><td style = \"text-align: right;\">0.0</td><td style = \"text-align: right;\">-0.752333</td><td style = \"text-align: right;\">2.05814</td><td style = \"text-align: right;\">-2.22493</td><td style = \"text-align: right;\">-1.49517</td><td style = \"text-align: right;\">-2.81566</td></tr><tr><td class = \"rowNumber\" style = \"font-weight: bold; text-align: right;\">41182</td><td style = \"text-align: right;\">-0.290182</td><td style = \"text-align: right;\">1.0</td><td style = \"text-align: right;\">0.0</td><td style = \"text-align: right;\">0.0</td><td style = \"text-align: right;\">0.0</td><td style = \"text-align: right;\">0.0</td><td style = \"text-align: right;\">0.0</td><td style = \"text-align: right;\">0.0</td><td style = \"text-align: right;\">0.0</td><td style = \"text-align: right;\">0.0</td><td style = \"text-align: right;\">0.0</td><td style = \"text-align: right;\">0.0</td><td style = \"text-align: right;\">0.0</td><td style = \"text-align: right;\">0.0</td><td style = \"text-align: right;\">1.0</td><td style = \"text-align: right;\">0.0</td><td style = \"text-align: right;\">0.0</td><td style = \"text-align: right;\">0.0</td><td style = \"text-align: right;\">0.0</td><td style = \"text-align: right;\">0.0</td><td style = \"text-align: right;\">0.0</td><td style = \"text-align: right;\">0.0</td><td style = \"text-align: right;\">0.0</td><td style = \"text-align: right;\">1.0</td><td style = \"text-align: right;\">0.0</td><td style = \"text-align: right;\">1.0</td><td style = \"text-align: right;\">0.0</td><td style = \"text-align: right;\">0.0</td><td style = \"text-align: right;\">0.0</td><td style = \"text-align: right;\">0.0</td><td style = \"text-align: right;\">1.0</td><td style = \"text-align: right;\">1.0</td><td style = \"text-align: right;\">0.0</td><td style = \"text-align: right;\">0.0</td><td style = \"text-align: right;\">1.0</td><td style = \"text-align: right;\">0.0</td><td style = \"text-align: right;\">0.0</td><td style = \"text-align: right;\">0.0</td><td style = \"text-align: right;\">0.0</td><td style = \"text-align: right;\">0.0</td><td style = \"text-align: right;\">0.0</td><td style = \"text-align: right;\">0.0</td><td style = \"text-align: right;\">0.0</td><td style = \"text-align: right;\">1.0</td><td style = \"text-align: right;\">0.0</td><td style = \"text-align: right;\">0.0</td><td style = \"text-align: right;\">1.0</td><td style = \"text-align: right;\">0.0</td><td style = \"text-align: right;\">0.0</td><td style = \"text-align: right;\">0.0</td><td style = \"text-align: right;\">0.0</td><td style = \"text-align: right;\">1</td><td style = \"text-align: right;\">999</td><td style = \"text-align: right;\">0</td><td style = \"text-align: right;\">0.0</td><td style = \"text-align: right;\">1.0</td><td style = \"text-align: right;\">0.0</td><td style = \"text-align: right;\">-0.752333</td><td style = \"text-align: right;\">2.05814</td><td style = \"text-align: right;\">-2.22493</td><td style = \"text-align: right;\">-1.49517</td><td style = \"text-align: right;\">-2.81566</td></tr><tr><td class = \"rowNumber\" style = \"font-weight: bold; text-align: right;\">41183</td><td style = \"text-align: right;\">-1.05784</td><td style = \"text-align: right;\">0.0</td><td style = \"text-align: right;\">0.0</td><td style = \"text-align: right;\">0.0</td><td style = \"text-align: right;\">0.0</td><td style = \"text-align: right;\">0.0</td><td style = \"text-align: right;\">0.0</td><td style = \"text-align: right;\">0.0</td><td style = \"text-align: right;\">0.0</td><td style = \"text-align: right;\">0.0</td><td style = \"text-align: right;\">0.0</td><td style = \"text-align: right;\">1.0</td><td style = \"text-align: right;\">0.0</td><td style = \"text-align: right;\">0.0</td><td style = \"text-align: right;\">0.0</td><td style = \"text-align: right;\">1.0</td><td style = \"text-align: right;\">0.0</td><td style = \"text-align: right;\">1.0</td><td style = \"text-align: right;\">0.0</td><td style = \"text-align: right;\">0.0</td><td style = \"text-align: right;\">0.0</td><td style = \"text-align: right;\">0.0</td><td style = \"text-align: right;\">0.0</td><td style = \"text-align: right;\">0.0</td><td style = \"text-align: right;\">0.0</td><td style = \"text-align: right;\">1.0</td><td style = \"text-align: right;\">0.0</td><td style = \"text-align: right;\">0.0</td><td style = \"text-align: right;\">0.0</td><td style = \"text-align: right;\">0.0</td><td style = \"text-align: right;\">1.0</td><td style = \"text-align: right;\">1.0</td><td style = \"text-align: right;\">0.0</td><td style = \"text-align: right;\">0.0</td><td style = \"text-align: right;\">1.0</td><td style = \"text-align: right;\">0.0</td><td style = \"text-align: right;\">0.0</td><td style = \"text-align: right;\">0.0</td><td style = \"text-align: right;\">0.0</td><td style = \"text-align: right;\">0.0</td><td style = \"text-align: right;\">0.0</td><td style = \"text-align: right;\">0.0</td><td style = \"text-align: right;\">0.0</td><td style = \"text-align: right;\">1.0</td><td style = \"text-align: right;\">0.0</td><td style = \"text-align: right;\">0.0</td><td style = \"text-align: right;\">1.0</td><td style = \"text-align: right;\">0.0</td><td style = \"text-align: right;\">0.0</td><td style = \"text-align: right;\">0.0</td><td style = \"text-align: right;\">0.0</td><td style = \"text-align: right;\">1</td><td style = \"text-align: right;\">9</td><td style = \"text-align: right;\">1</td><td style = \"text-align: right;\">0.0</td><td style = \"text-align: right;\">0.0</td><td style = \"text-align: right;\">1.0</td><td style = \"text-align: right;\">-0.752333</td><td style = \"text-align: right;\">2.05814</td><td style = \"text-align: right;\">-2.22493</td><td style = \"text-align: right;\">-1.49517</td><td style = \"text-align: right;\">-2.81566</td></tr><tr><td class = \"rowNumber\" style = \"font-weight: bold; text-align: right;\">41184</td><td style = \"text-align: right;\">3.1643</td><td style = \"text-align: right;\">0.0</td><td style = \"text-align: right;\">0.0</td><td style = \"text-align: right;\">0.0</td><td style = \"text-align: right;\">0.0</td><td style = \"text-align: right;\">0.0</td><td style = \"text-align: right;\">1.0</td><td style = \"text-align: right;\">0.0</td><td style = \"text-align: right;\">0.0</td><td style = \"text-align: right;\">0.0</td><td style = \"text-align: right;\">0.0</td><td style = \"text-align: right;\">0.0</td><td style = \"text-align: right;\">0.0</td><td style = \"text-align: right;\">0.0</td><td style = \"text-align: right;\">1.0</td><td style = \"text-align: right;\">0.0</td><td style = \"text-align: right;\">0.0</td><td style = \"text-align: right;\">0.0</td><td style = \"text-align: right;\">0.0</td><td style = \"text-align: right;\">0.0</td><td style = \"text-align: right;\">0.0</td><td style = \"text-align: right;\">0.0</td><td style = \"text-align: right;\">1.0</td><td style = \"text-align: right;\">0.0</td><td style = \"text-align: right;\">0.0</td><td style = \"text-align: right;\">1.0</td><td style = \"text-align: right;\">0.0</td><td style = \"text-align: right;\">0.0</td><td style = \"text-align: right;\">0.0</td><td style = \"text-align: right;\">0.0</td><td style = \"text-align: right;\">1.0</td><td style = \"text-align: right;\">1.0</td><td style = \"text-align: right;\">0.0</td><td style = \"text-align: right;\">0.0</td><td style = \"text-align: right;\">1.0</td><td style = \"text-align: right;\">0.0</td><td style = \"text-align: right;\">0.0</td><td style = \"text-align: right;\">0.0</td><td style = \"text-align: right;\">0.0</td><td style = \"text-align: right;\">0.0</td><td style = \"text-align: right;\">0.0</td><td style = \"text-align: right;\">0.0</td><td style = \"text-align: right;\">0.0</td><td style = \"text-align: right;\">1.0</td><td style = \"text-align: right;\">0.0</td><td style = \"text-align: right;\">0.0</td><td style = \"text-align: right;\">1.0</td><td style = \"text-align: right;\">0.0</td><td style = \"text-align: right;\">0.0</td><td style = \"text-align: right;\">0.0</td><td style = \"text-align: right;\">0.0</td><td style = \"text-align: right;\">1</td><td style = \"text-align: right;\">999</td><td style = \"text-align: right;\">0</td><td style = \"text-align: right;\">0.0</td><td style = \"text-align: right;\">1.0</td><td style = \"text-align: right;\">0.0</td><td style = \"text-align: right;\">-0.752333</td><td style = \"text-align: right;\">2.05814</td><td style = \"text-align: right;\">-2.22493</td><td style = \"text-align: right;\">-1.49517</td><td style = \"text-align: right;\">-2.81566</td></tr><tr><td class = \"rowNumber\" style = \"font-weight: bold; text-align: right;\">41185</td><td style = \"text-align: right;\">0.573438</td><td style = \"text-align: right;\">0.0</td><td style = \"text-align: right;\">1.0</td><td style = \"text-align: right;\">0.0</td><td style = \"text-align: right;\">0.0</td><td style = \"text-align: right;\">0.0</td><td style = \"text-align: right;\">0.0</td><td style = \"text-align: right;\">0.0</td><td style = \"text-align: right;\">0.0</td><td style = \"text-align: right;\">0.0</td><td style = \"text-align: right;\">0.0</td><td style = \"text-align: right;\">0.0</td><td style = \"text-align: right;\">0.0</td><td style = \"text-align: right;\">0.0</td><td style = \"text-align: right;\">1.0</td><td style = \"text-align: right;\">0.0</td><td style = \"text-align: right;\">0.0</td><td style = \"text-align: right;\">0.0</td><td style = \"text-align: right;\">0.0</td><td style = \"text-align: right;\">0.0</td><td style = \"text-align: right;\">0.0</td><td style = \"text-align: right;\">0.0</td><td style = \"text-align: right;\">1.0</td><td style = \"text-align: right;\">0.0</td><td style = \"text-align: right;\">0.0</td><td style = \"text-align: right;\">1.0</td><td style = \"text-align: right;\">0.0</td><td style = \"text-align: right;\">0.0</td><td style = \"text-align: right;\">1.0</td><td style = \"text-align: right;\">0.0</td><td style = \"text-align: right;\">0.0</td><td style = \"text-align: right;\">1.0</td><td style = \"text-align: right;\">0.0</td><td style = \"text-align: right;\">0.0</td><td style = \"text-align: right;\">1.0</td><td style = \"text-align: right;\">0.0</td><td style = \"text-align: right;\">0.0</td><td style = \"text-align: right;\">0.0</td><td style = \"text-align: right;\">0.0</td><td style = \"text-align: right;\">0.0</td><td style = \"text-align: right;\">0.0</td><td style = \"text-align: right;\">0.0</td><td style = \"text-align: right;\">0.0</td><td style = \"text-align: right;\">1.0</td><td style = \"text-align: right;\">0.0</td><td style = \"text-align: right;\">0.0</td><td style = \"text-align: right;\">1.0</td><td style = \"text-align: right;\">0.0</td><td style = \"text-align: right;\">0.0</td><td style = \"text-align: right;\">0.0</td><td style = \"text-align: right;\">0.0</td><td style = \"text-align: right;\">1</td><td style = \"text-align: right;\">999</td><td style = \"text-align: right;\">0</td><td style = \"text-align: right;\">0.0</td><td style = \"text-align: right;\">1.0</td><td style = \"text-align: right;\">0.0</td><td style = \"text-align: right;\">-0.752333</td><td style = \"text-align: right;\">2.05814</td><td style = \"text-align: right;\">-2.22493</td><td style = \"text-align: right;\">-1.49517</td><td style = \"text-align: right;\">-2.81566</td></tr><tr><td class = \"rowNumber\" style = \"font-weight: bold; text-align: right;\">41186</td><td style = \"text-align: right;\">1.53302</td><td style = \"text-align: right;\">0.0</td><td style = \"text-align: right;\">0.0</td><td style = \"text-align: right;\">0.0</td><td style = \"text-align: right;\">0.0</td><td style = \"text-align: right;\">0.0</td><td style = \"text-align: right;\">1.0</td><td style = \"text-align: right;\">0.0</td><td style = \"text-align: right;\">0.0</td><td style = \"text-align: right;\">0.0</td><td style = \"text-align: right;\">0.0</td><td style = \"text-align: right;\">0.0</td><td style = \"text-align: right;\">0.0</td><td style = \"text-align: right;\">0.0</td><td style = \"text-align: right;\">1.0</td><td style = \"text-align: right;\">0.0</td><td style = \"text-align: right;\">0.0</td><td style = \"text-align: right;\">0.0</td><td style = \"text-align: right;\">0.0</td><td style = \"text-align: right;\">0.0</td><td style = \"text-align: right;\">0.0</td><td style = \"text-align: right;\">0.0</td><td style = \"text-align: right;\">0.0</td><td style = \"text-align: right;\">1.0</td><td style = \"text-align: right;\">0.0</td><td style = \"text-align: right;\">1.0</td><td style = \"text-align: right;\">0.0</td><td style = \"text-align: right;\">0.0</td><td style = \"text-align: right;\">0.0</td><td style = \"text-align: right;\">0.0</td><td style = \"text-align: right;\">1.0</td><td style = \"text-align: right;\">1.0</td><td style = \"text-align: right;\">0.0</td><td style = \"text-align: right;\">0.0</td><td style = \"text-align: right;\">1.0</td><td style = \"text-align: right;\">0.0</td><td style = \"text-align: right;\">0.0</td><td style = \"text-align: right;\">0.0</td><td style = \"text-align: right;\">0.0</td><td style = \"text-align: right;\">0.0</td><td style = \"text-align: right;\">0.0</td><td style = \"text-align: right;\">0.0</td><td style = \"text-align: right;\">0.0</td><td style = \"text-align: right;\">1.0</td><td style = \"text-align: right;\">0.0</td><td style = \"text-align: right;\">0.0</td><td style = \"text-align: right;\">1.0</td><td style = \"text-align: right;\">0.0</td><td style = \"text-align: right;\">0.0</td><td style = \"text-align: right;\">0.0</td><td style = \"text-align: right;\">0.0</td><td style = \"text-align: right;\">2</td><td style = \"text-align: right;\">999</td><td style = \"text-align: right;\">0</td><td style = \"text-align: right;\">0.0</td><td style = \"text-align: right;\">1.0</td><td style = \"text-align: right;\">0.0</td><td style = \"text-align: right;\">-0.752333</td><td style = \"text-align: right;\">2.05814</td><td style = \"text-align: right;\">-2.22493</td><td style = \"text-align: right;\">-1.49517</td><td style = \"text-align: right;\">-2.81566</td></tr><tr><td class = \"rowNumber\" style = \"font-weight: bold; text-align: right;\">41187</td><td style = \"text-align: right;\">0.381522</td><td style = \"text-align: right;\">0.0</td><td style = \"text-align: right;\">0.0</td><td style = \"text-align: right;\">0.0</td><td style = \"text-align: right;\">0.0</td><td style = \"text-align: right;\">0.0</td><td style = \"text-align: right;\">0.0</td><td style = \"text-align: right;\">0.0</td><td style = \"text-align: right;\">0.0</td><td style = \"text-align: right;\">0.0</td><td style = \"text-align: right;\">1.0</td><td style = \"text-align: right;\">0.0</td><td style = \"text-align: right;\">0.0</td><td style = \"text-align: right;\">0.0</td><td style = \"text-align: right;\">1.0</td><td style = \"text-align: right;\">0.0</td><td style = \"text-align: right;\">0.0</td><td style = \"text-align: right;\">0.0</td><td style = \"text-align: right;\">0.0</td><td style = \"text-align: right;\">0.0</td><td style = \"text-align: right;\">0.0</td><td style = \"text-align: right;\">0.0</td><td style = \"text-align: right;\">1.0</td><td style = \"text-align: right;\">0.0</td><td style = \"text-align: right;\">0.0</td><td style = \"text-align: right;\">1.0</td><td style = \"text-align: right;\">0.0</td><td style = \"text-align: right;\">0.0</td><td style = \"text-align: right;\">1.0</td><td style = \"text-align: right;\">0.0</td><td style = \"text-align: right;\">0.0</td><td style = \"text-align: right;\">1.0</td><td style = \"text-align: right;\">0.0</td><td style = \"text-align: right;\">0.0</td><td style = \"text-align: right;\">1.0</td><td style = \"text-align: right;\">0.0</td><td style = \"text-align: right;\">0.0</td><td style = \"text-align: right;\">0.0</td><td style = \"text-align: right;\">0.0</td><td style = \"text-align: right;\">0.0</td><td style = \"text-align: right;\">0.0</td><td style = \"text-align: right;\">0.0</td><td style = \"text-align: right;\">0.0</td><td style = \"text-align: right;\">1.0</td><td style = \"text-align: right;\">0.0</td><td style = \"text-align: right;\">0.0</td><td style = \"text-align: right;\">1.0</td><td style = \"text-align: right;\">0.0</td><td style = \"text-align: right;\">0.0</td><td style = \"text-align: right;\">0.0</td><td style = \"text-align: right;\">0.0</td><td style = \"text-align: right;\">1</td><td style = \"text-align: right;\">999</td><td style = \"text-align: right;\">0</td><td style = \"text-align: right;\">0.0</td><td style = \"text-align: right;\">1.0</td><td style = \"text-align: right;\">0.0</td><td style = \"text-align: right;\">-0.752333</td><td style = \"text-align: right;\">2.05814</td><td style = \"text-align: right;\">-2.22493</td><td style = \"text-align: right;\">-1.49517</td><td style = \"text-align: right;\">-2.81566</td></tr><tr><td class = \"rowNumber\" style = \"font-weight: bold; text-align: right;\">41188</td><td style = \"text-align: right;\">3.26026</td><td style = \"text-align: right;\">0.0</td><td style = \"text-align: right;\">0.0</td><td style = \"text-align: right;\">0.0</td><td style = \"text-align: right;\">0.0</td><td style = \"text-align: right;\">0.0</td><td style = \"text-align: right;\">1.0</td><td style = \"text-align: right;\">0.0</td><td style = \"text-align: right;\">0.0</td><td style = \"text-align: right;\">0.0</td><td style = \"text-align: right;\">0.0</td><td style = \"text-align: right;\">0.0</td><td style = \"text-align: right;\">0.0</td><td style = \"text-align: right;\">0.0</td><td style = \"text-align: right;\">1.0</td><td style = \"text-align: right;\">0.0</td><td style = \"text-align: right;\">0.0</td><td style = \"text-align: right;\">0.0</td><td style = \"text-align: right;\">0.0</td><td style = \"text-align: right;\">0.0</td><td style = \"text-align: right;\">0.0</td><td style = \"text-align: right;\">0.0</td><td style = \"text-align: right;\">1.0</td><td style = \"text-align: right;\">0.0</td><td style = \"text-align: right;\">0.0</td><td style = \"text-align: right;\">1.0</td><td style = \"text-align: right;\">0.0</td><td style = \"text-align: right;\">0.0</td><td style = \"text-align: right;\">0.0</td><td style = \"text-align: right;\">0.0</td><td style = \"text-align: right;\">1.0</td><td style = \"text-align: right;\">1.0</td><td style = \"text-align: right;\">0.0</td><td style = \"text-align: right;\">0.0</td><td style = \"text-align: right;\">1.0</td><td style = \"text-align: right;\">0.0</td><td style = \"text-align: right;\">0.0</td><td style = \"text-align: right;\">0.0</td><td style = \"text-align: right;\">0.0</td><td style = \"text-align: right;\">0.0</td><td style = \"text-align: right;\">0.0</td><td style = \"text-align: right;\">0.0</td><td style = \"text-align: right;\">0.0</td><td style = \"text-align: right;\">1.0</td><td style = \"text-align: right;\">0.0</td><td style = \"text-align: right;\">0.0</td><td style = \"text-align: right;\">1.0</td><td style = \"text-align: right;\">0.0</td><td style = \"text-align: right;\">0.0</td><td style = \"text-align: right;\">0.0</td><td style = \"text-align: right;\">0.0</td><td style = \"text-align: right;\">3</td><td style = \"text-align: right;\">999</td><td style = \"text-align: right;\">1</td><td style = \"text-align: right;\">1.0</td><td style = \"text-align: right;\">0.0</td><td style = \"text-align: right;\">0.0</td><td style = \"text-align: right;\">-0.752333</td><td style = \"text-align: right;\">2.05814</td><td style = \"text-align: right;\">-2.22493</td><td style = \"text-align: right;\">-1.49517</td><td style = \"text-align: right;\">-2.81566</td></tr></tbody></table></div>"
      ],
      "text/latex": [
       "\\begin{tabular}{r|ccccccc}\n",
       "\t& age & job\\_\\_admin. & job\\_\\_blue-collar & job\\_\\_entrepreneur & job\\_\\_housemaid & job\\_\\_management & \\\\\n",
       "\t\\hline\n",
       "\t& Float64 & Float64 & Float64 & Float64 & Float64 & Float64 & \\\\\n",
       "\t\\hline\n",
       "\t1 & 1.53302 & 0.0 & 0.0 & 0.0 & 1.0 & 0.0 & $\\dots$ \\\\\n",
       "\t2 & 1.62897 & 0.0 & 0.0 & 0.0 & 0.0 & 0.0 & $\\dots$ \\\\\n",
       "\t3 & -0.290182 & 0.0 & 0.0 & 0.0 & 0.0 & 0.0 & $\\dots$ \\\\\n",
       "\t4 & -0.00230878 & 1.0 & 0.0 & 0.0 & 0.0 & 0.0 & $\\dots$ \\\\\n",
       "\t5 & 1.53302 & 0.0 & 0.0 & 0.0 & 0.0 & 0.0 & $\\dots$ \\\\\n",
       "\t6 & 0.47748 & 0.0 & 0.0 & 0.0 & 0.0 & 0.0 & $\\dots$ \\\\\n",
       "\t7 & 1.82089 & 1.0 & 0.0 & 0.0 & 0.0 & 0.0 & $\\dots$ \\\\\n",
       "\t8 & 0.093649 & 0.0 & 1.0 & 0.0 & 0.0 & 0.0 & $\\dots$ \\\\\n",
       "\t9 & -1.53763 & 0.0 & 0.0 & 0.0 & 0.0 & 0.0 & $\\dots$ \\\\\n",
       "\t10 & -1.44168 & 0.0 & 0.0 & 0.0 & 0.0 & 0.0 & $\\dots$ \\\\\n",
       "\t11 & 0.093649 & 0.0 & 1.0 & 0.0 & 0.0 & 0.0 & $\\dots$ \\\\\n",
       "\t12 & -1.44168 & 0.0 & 0.0 & 0.0 & 0.0 & 0.0 & $\\dots$ \\\\\n",
       "\t13 & -1.05784 & 0.0 & 1.0 & 0.0 & 0.0 & 0.0 & $\\dots$ \\\\\n",
       "\t14 & 1.62897 & 0.0 & 0.0 & 0.0 & 1.0 & 0.0 & $\\dots$ \\\\\n",
       "\t15 & -0.482098 & 0.0 & 1.0 & 0.0 & 0.0 & 0.0 & $\\dots$ \\\\\n",
       "\t16 & 1.3411 & 0.0 & 0.0 & 0.0 & 0.0 & 0.0 & $\\dots$ \\\\\n",
       "\t17 & -0.482098 & 0.0 & 1.0 & 0.0 & 0.0 & 0.0 & $\\dots$ \\\\\n",
       "\t18 & 0.573438 & 0.0 & 1.0 & 0.0 & 0.0 & 0.0 & $\\dots$ \\\\\n",
       "\t19 & 0.957269 & 0.0 & 1.0 & 0.0 & 0.0 & 0.0 & $\\dots$ \\\\\n",
       "\t20 & -0.0982666 & 0.0 & 0.0 & 0.0 & 0.0 & 1.0 & $\\dots$ \\\\\n",
       "\t21 & -0.961887 & 0.0 & 0.0 & 0.0 & 0.0 & 0.0 & $\\dots$ \\\\\n",
       "\t22 & 1.43706 & 0.0 & 1.0 & 0.0 & 0.0 & 0.0 & $\\dots$ \\\\\n",
       "\t23 & 1.43706 & 0.0 & 0.0 & 0.0 & 0.0 & 0.0 & $\\dots$ \\\\\n",
       "\t24 & 0.093649 & 0.0 & 0.0 & 0.0 & 0.0 & 0.0 & $\\dots$ \\\\\n",
       "\t25 & -0.290182 & 1.0 & 0.0 & 0.0 & 0.0 & 0.0 & $\\dots$ \\\\\n",
       "\t26 & -0.482098 & 0.0 & 0.0 & 0.0 & 0.0 & 0.0 & $\\dots$ \\\\\n",
       "\t27 & 1.82089 & 0.0 & 0.0 & 0.0 & 0.0 & 0.0 & $\\dots$ \\\\\n",
       "\t28 & -0.0982666 & 0.0 & 0.0 & 0.0 & 0.0 & 0.0 & $\\dots$ \\\\\n",
       "\t29 & 1.3411 & 0.0 & 0.0 & 0.0 & 0.0 & 0.0 & $\\dots$ \\\\\n",
       "\t30 & 1.43706 & 0.0 & 0.0 & 0.0 & 0.0 & 0.0 & $\\dots$ \\\\\n",
       "\t$\\dots$ & $\\dots$ & $\\dots$ & $\\dots$ & $\\dots$ & $\\dots$ & $\\dots$ &  \\\\\n",
       "\\end{tabular}\n"
      ],
      "text/plain": [
       "\u001b[1m41188×62 DataFrame\u001b[0m\n",
       "\u001b[1m   Row \u001b[0m│\u001b[1m age         \u001b[0m\u001b[1m job__admin. \u001b[0m\u001b[1m job__blue-collar \u001b[0m\u001b[1m job__entrepreneur \u001b[0m\u001b[1m job__h\u001b[0m ⋯\n",
       "       │\u001b[90m Float64     \u001b[0m\u001b[90m Float64     \u001b[0m\u001b[90m Float64          \u001b[0m\u001b[90m Float64           \u001b[0m\u001b[90m Float6\u001b[0m ⋯\n",
       "───────┼────────────────────────────────────────────────────────────────────────\n",
       "     1 │  1.53302             0.0               0.0                0.0         ⋯\n",
       "     2 │  1.62897             0.0               0.0                0.0\n",
       "     3 │ -0.290182            0.0               0.0                0.0\n",
       "     4 │ -0.00230878          1.0               0.0                0.0\n",
       "     5 │  1.53302             0.0               0.0                0.0         ⋯\n",
       "     6 │  0.47748             0.0               0.0                0.0\n",
       "     7 │  1.82089             1.0               0.0                0.0\n",
       "     8 │  0.093649            0.0               1.0                0.0\n",
       "     9 │ -1.53763             0.0               0.0                0.0         ⋯\n",
       "    10 │ -1.44168             0.0               0.0                0.0\n",
       "    11 │  0.093649            0.0               1.0                0.0\n",
       "   ⋮   │      ⋮            ⋮              ⋮                  ⋮                 ⋱\n",
       " 41179 │  2.10876             0.0               0.0                0.0\n",
       " 41180 │  2.30068             0.0               0.0                0.0         ⋯\n",
       " 41181 │ -0.38614             1.0               0.0                0.0\n",
       " 41182 │ -0.290182            1.0               0.0                0.0\n",
       " 41183 │ -1.05784             0.0               0.0                0.0\n",
       " 41184 │  3.1643              0.0               0.0                0.0         ⋯\n",
       " 41185 │  0.573438            0.0               1.0                0.0\n",
       " 41186 │  1.53302             0.0               0.0                0.0\n",
       " 41187 │  0.381522            0.0               0.0                0.0\n",
       " 41188 │  3.26026             0.0               0.0                0.0         ⋯\n",
       "\u001b[36m                                               58 columns and 41167 rows omitted\u001b[0m"
      ]
     },
     "execution_count": 12,
     "metadata": {},
     "output_type": "execute_result"
    }
   ],
   "source": [
    "preproc_pipe = Standardizer() |> OneHotEncoder()\n",
    "preproc_wrapped = machine(preproc_pipe, X)\n",
    "X_prepared = MLJ.transform(fit!(preproc_wrapped), X)"
   ]
  },
  {
   "cell_type": "markdown",
   "id": "d63eaf6f",
   "metadata": {},
   "source": [
    "Using another element from the common interface - `fitted_params` function - we can inspect the parameters learned by the `Standardizer` while running `fit!`."
   ]
  },
  {
   "cell_type": "code",
   "execution_count": 13,
   "id": "decf922b",
   "metadata": {},
   "outputs": [
    {
     "data": {
      "text/plain": [
       "(features_fit = [:euribor3m, Symbol(\"cons.price.idx\"), :age, Symbol(\"nr.employed\"), Symbol(\"cons.conf.idx\"), Symbol(\"emp.var.rate\")],\n",
       " means = (3.6212908128581147, 93.57566436826264, 40.02406040594348, 5167.035910944927, -40.502600271923846, 0.08188550063125229),\n",
       " stds = (1.7344474048512668, 0.5788400489541262, 10.421249980934048, 72.25152766826103, 4.628197856174543, 1.5709597405170248),)"
      ]
     },
     "execution_count": 13,
     "metadata": {},
     "output_type": "execute_result"
    }
   ],
   "source": [
    "fitted_params(preproc_wrapped).standardizer"
   ]
  },
  {
   "cell_type": "markdown",
   "id": "dc2be744",
   "metadata": {},
   "source": [
    "## 4. MLJ as repository of models"
   ]
  },
  {
   "cell_type": "markdown",
   "id": "dbec4eb3",
   "metadata": {},
   "source": [
    "`MLJ` framework also works as a repository and wrapper of ML models built in various Julia packages. Using `models` function, let's check which models will be suited to the posed classification task considering types of predictors and target variable. Additionally, let's find only models fully implemented in Julia."
   ]
  },
  {
   "cell_type": "markdown",
   "id": "a51f3bb2",
   "metadata": {},
   "source": [
    "Before a particular model will be used in the `MLJ` workflow, it must be available in the environment. `load_path` function returns a package need for each model. \n",
    "\n",
    "For further work let's use:\n",
    "* `RandomForestClassifier` from `DecisionTree` package,\n",
    "* `EvoTreeClassifier` from `EvoTrees` package,\n",
    "* `LinearPerceptron` from `BetaML` package.\n",
    "\n",
    "Required packages are listed below (but you don't need to worry about that - packages are already loaded from the `Project.toml`)."
   ]
  },
  {
   "cell_type": "code",
   "execution_count": 14,
   "id": "f50e7be7",
   "metadata": {},
   "outputs": [
    {
     "data": {
      "text/plain": [
       "12-element Vector{NamedTuple{(:name, :package_name, :is_supervised, :abstract_type, :deep_properties, :docstring, :fit_data_scitype, :human_name, :hyperparameter_ranges, :hyperparameter_types, :hyperparameters, :implemented_methods, :inverse_transform_scitype, :is_pure_julia, :is_wrapper, :iteration_parameter, :load_path, :package_license, :package_url, :package_uuid, :predict_scitype, :prediction_type, :reporting_operations, :reports_feature_importances, :supports_class_weights, :supports_online, :supports_training_losses, :supports_weights, :transform_scitype, :input_scitype, :target_scitype, :output_scitype)}}:\n",
       " (name = AdaBoostStumpClassifier, package_name = DecisionTree, ... )\n",
       " (name = ConstantClassifier, package_name = MLJModels, ... )\n",
       " (name = DecisionTreeClassifier, package_name = BetaML, ... )\n",
       " (name = DecisionTreeClassifier, package_name = DecisionTree, ... )\n",
       " (name = DeterministicConstantClassifier, package_name = MLJModels, ... )\n",
       " (name = EvoTreeClassifier, package_name = EvoTrees, ... )\n",
       " (name = KernelPerceptron, package_name = BetaML, ... )\n",
       " (name = LinearPerceptron, package_name = BetaML, ... )\n",
       " (name = NeuralNetworkClassifier, package_name = BetaML, ... )\n",
       " (name = Pegasos, package_name = BetaML, ... )\n",
       " (name = RandomForestClassifier, package_name = BetaML, ... )\n",
       " (name = RandomForestClassifier, package_name = DecisionTree, ... )"
      ]
     },
     "execution_count": 14,
     "metadata": {},
     "output_type": "execute_result"
    }
   ],
   "source": [
    "condition = m-> (matching(m, X_prepared, y) && m.is_pure_julia)\n",
    "models(condition)"
   ]
  },
  {
   "cell_type": "code",
   "execution_count": 15,
   "id": "1c784b88",
   "metadata": {},
   "outputs": [
    {
     "name": "stdout",
     "output_type": "stream",
     "text": [
      "MLJDecisionTreeInterface.RandomForestClassifier\n",
      "EvoTrees.EvoTreeClassifier\n",
      "BetaML.Perceptron.LinearPerceptron\n"
     ]
    }
   ],
   "source": [
    "for (model, pkg) in [(\"RandomForestClassifier\", \"DecisionTree\"),\n",
    "                     (\"EvoTreeClassifier\", \"EvoTrees\"),\n",
    "                     (\"LinearPerceptron\", \"BetaML\")]\n",
    "println(load_path(model, pkg=pkg))\n",
    "end"
   ]
  },
  {
   "cell_type": "markdown",
   "id": "72093377",
   "metadata": {},
   "source": [
    "We can load the models with the `@load` macro. If the model name appears in more than one package, the package name must be explicitly stated."
   ]
  },
  {
   "cell_type": "code",
   "execution_count": 16,
   "id": "9673fcde",
   "metadata": {},
   "outputs": [
    {
     "name": "stdout",
     "output_type": "stream",
     "text": [
      "import MLJDecisionTreeInterface ✔\n",
      "import EvoTrees ✔\n",
      "import BetaML ✔\n"
     ]
    },
    {
     "data": {
      "text/plain": [
       "BetaML.Perceptron.LinearPerceptron"
      ]
     },
     "execution_count": 16,
     "metadata": {},
     "output_type": "execute_result"
    }
   ],
   "source": [
    "Forest = @load RandomForestClassifier pkg=\"DecisionTree\"\n",
    "Evo = @load EvoTreeClassifier\n",
    "Perc = @load LinearPerceptron"
   ]
  },
  {
   "cell_type": "markdown",
   "id": "513d91a8",
   "metadata": {},
   "source": [
    "## 5. Training and evaluating the models"
   ]
  },
  {
   "cell_type": "markdown",
   "id": "aa4cf708",
   "metadata": {},
   "source": [
    "We are ready to train the loaded models - let's streamline the training and evaluation process with `MLJ`. The models with the default hyperparameter values are wrapped in the `evaluate` function which will do the following:\n",
    "* split the provided data according to the resampling strategy - in the case below the `Holdout` specifies the data split into train/test subsets with 80/20 ratio and random seed equal to 42,\n",
    "* fit the model on the training data and evaluate it on the test data calculating each measure specified in the `measure` parameter,\n",
    "* return the evaluation report with relevant information."
   ]
  },
  {
   "cell_type": "code",
   "execution_count": 17,
   "id": "5e236278",
   "metadata": {},
   "outputs": [
    {
     "data": {
      "text/html": [
       "<div><div style = \"float: left;\"><span>2×2 DataFrame</span></div><div style = \"clear: both;\"></div></div><div class = \"data-frame\" style = \"overflow-x: scroll;\"><table class = \"data-frame\" style = \"margin-bottom: 6px;\"><thead><tr class = \"header\"><th class = \"rowNumber\" style = \"font-weight: bold; text-align: right;\">Row</th><th style = \"text-align: left;\">y</th><th style = \"text-align: left;\">count</th></tr><tr class = \"subheader headerLastRow\"><th class = \"rowNumber\" style = \"font-weight: bold; text-align: right;\"></th><th title = \"CategoricalArrays.CategoricalValue{String3, UInt32}\" style = \"text-align: left;\">Cat…</th><th title = \"Int64\" style = \"text-align: left;\">Int64</th></tr></thead><tbody><tr><td class = \"rowNumber\" style = \"font-weight: bold; text-align: right;\">1</td><td style = \"text-align: left;\">no</td><td style = \"text-align: right;\">36548</td></tr><tr><td class = \"rowNumber\" style = \"font-weight: bold; text-align: right;\">2</td><td style = \"text-align: left;\">yes</td><td style = \"text-align: right;\">4640</td></tr></tbody></table></div>"
      ],
      "text/latex": [
       "\\begin{tabular}{r|cc}\n",
       "\t& y & count\\\\\n",
       "\t\\hline\n",
       "\t& Cat… & Int64\\\\\n",
       "\t\\hline\n",
       "\t1 & no & 36548 \\\\\n",
       "\t2 & yes & 4640 \\\\\n",
       "\\end{tabular}\n"
      ],
      "text/plain": [
       "\u001b[1m2×2 DataFrame\u001b[0m\n",
       "\u001b[1m Row \u001b[0m│\u001b[1m y    \u001b[0m\u001b[1m count \u001b[0m\n",
       "     │\u001b[90m Cat… \u001b[0m\u001b[90m Int64 \u001b[0m\n",
       "─────┼─────────────\n",
       "   1 │ no    36548\n",
       "   2 │ yes    4640"
      ]
     },
     "execution_count": 17,
     "metadata": {},
     "output_type": "execute_result"
    }
   ],
   "source": [
    "combine(groupby(df, :y), nrow=>:count)"
   ]
  },
  {
   "cell_type": "markdown",
   "id": "3c732c49",
   "metadata": {},
   "source": [
    "How the training and evaluation steps are done step-by-step."
   ]
  },
  {
   "cell_type": "markdown",
   "id": "c151c708",
   "metadata": {},
   "source": [
    "1. Split the data into the training and test dataset"
   ]
  },
  {
   "cell_type": "code",
   "execution_count": 18,
   "id": "9244833b",
   "metadata": {},
   "outputs": [],
   "source": [
    "(X_train, X_test), (y_train, y_test) = partition((X_prepared,y), 0.8, rng=42, multi=true);"
   ]
  },
  {
   "cell_type": "markdown",
   "id": "df1c66c9",
   "metadata": {},
   "source": [
    "2. Train the model"
   ]
  },
  {
   "cell_type": "code",
   "execution_count": 19,
   "id": "610f9276",
   "metadata": {},
   "outputs": [
    {
     "data": {
      "text/plain": [
       "trained Machine; caches model-specific representations of data\n",
       "  model: RandomForestClassifier(max_depth = -1, …)\n",
       "  args: \n",
       "    1:\tSource @991 ⏎ Table{Union{AbstractVector{Continuous}, AbstractVector{Count}}}\n",
       "    2:\tSource @975 ⏎ AbstractVector{OrderedFactor{2}}\n"
      ]
     },
     "execution_count": 19,
     "metadata": {},
     "output_type": "execute_result"
    }
   ],
   "source": [
    "mach = machine(Forest(), X_train, y_train)\n",
    "fit!(mach)"
   ]
  },
  {
   "cell_type": "markdown",
   "id": "a3f23f17",
   "metadata": {},
   "source": [
    "3. Make a prediction on the test data"
   ]
  },
  {
   "cell_type": "code",
   "execution_count": 20,
   "id": "1a7a3ac2",
   "metadata": {},
   "outputs": [],
   "source": [
    "ŷ = predict_mode(mach, X_test);"
   ]
  },
  {
   "cell_type": "markdown",
   "id": "893539b2",
   "metadata": {},
   "source": [
    "4. Evaluate or assess the model"
   ]
  },
  {
   "cell_type": "code",
   "execution_count": 21,
   "id": "38ba5829",
   "metadata": {},
   "outputs": [
    {
     "data": {
      "text/plain": [
       "0.895241563486283"
      ]
     },
     "execution_count": 21,
     "metadata": {},
     "output_type": "execute_result"
    }
   ],
   "source": [
    "accuracy(ŷ, y_test)"
   ]
  },
  {
   "cell_type": "markdown",
   "id": "95fe9143",
   "metadata": {},
   "source": [
    "The same steps can be performed with `evaluate` function."
   ]
  },
  {
   "cell_type": "code",
   "execution_count": 22,
   "id": "cc7b1322",
   "metadata": {},
   "outputs": [
    {
     "name": "stdout",
     "output_type": "stream",
     "text": [
      "MLJDecisionTreeInterface.RandomForestClassifier\n",
      "Accuracy(): 0.892\n",
      "AreaUnderCurve(): 0.753\n",
      "FScore(β = 1.0, …): 0.352\n",
      "\n",
      "EvoTrees.EvoTreeClassifier\n",
      "Accuracy(): 0.896\n",
      "AreaUnderCurve(): 0.74\n",
      "FScore(β = 1.0, …): 0.27\n",
      "\n"
     ]
    },
    {
     "name": "stderr",
     "output_type": "stream",
     "text": [
      "\u001b[32mTraining Perceptron... 100%|█████████████████████████████| Time: 0:00:12\u001b[39m\n"
     ]
    },
    {
     "name": "stdout",
     "output_type": "stream",
     "text": [
      "BetaML.Perceptron.LinearPerceptron\n",
      "Accuracy(): 0.466\n",
      "AreaUnderCurve(): 0.625\n",
      "FScore(β = 1.0, …): 0.254\n",
      "\n"
     ]
    }
   ],
   "source": [
    "measures = [accuracy, auc, f1score]\n",
    "split = Holdout(fraction_train=0.8, rng=42)\n",
    "rng_mt = MersenneTwister(42)\n",
    "for m in [Forest, Evo, Perc]\n",
    "    eval_report = evaluate(m(rng=rng_mt), X_prepared, y, resampling=split, measure=measures)\n",
    "    println(m)\n",
    "    println.(eval_report.measure, \": \", round.(eval_report.measurement, digits=3))\n",
    "    println()\n",
    "end"
   ]
  },
  {
   "cell_type": "markdown",
   "id": "ffda8f02",
   "metadata": {},
   "source": [
    "To list all available metrics, use `measures` function similar to the `models`. "
   ]
  },
  {
   "cell_type": "code",
   "execution_count": 23,
   "id": "322bd11a",
   "metadata": {},
   "outputs": [
    {
     "data": {
      "text/plain": [
       "63-element Vector{NamedTuple{(:name, :instances, :human_name, :target_scitype, :supports_weights, :supports_class_weights, :prediction_type, :orientation, :reports_each_observation, :aggregation, :is_feature_dependent, :docstring, :distribution_type)}}:\n",
       " (name = BrierLoss, instances = [brier_loss], ...)\n",
       " (name = BrierScore, instances = [brier_score], ...)\n",
       " (name = LPLoss, instances = [l1, l2], ...)\n",
       " (name = LogCoshLoss, instances = [log_cosh, log_cosh_loss], ...)\n",
       " (name = LogLoss, instances = [log_loss, cross_entropy], ...)\n",
       " (name = LogScore, instances = [log_score], ...)\n",
       " (name = SphericalScore, instances = [spherical_score], ...)\n",
       " (name = Accuracy, instances = [accuracy], ...)\n",
       " (name = AreaUnderCurve, instances = [area_under_curve, auc], ...)\n",
       " (name = BalancedAccuracy, instances = [balanced_accuracy, bacc, bac], ...)\n",
       " (name = ConfusionMatrix, instances = [confusion_matrix, confmat], ...)\n",
       " (name = FScore, instances = [f1score], ...)\n",
       " (name = FalseDiscoveryRate, instances = [false_discovery_rate, falsediscovery_rate, fdr], ...)\n",
       " ⋮\n",
       " (name = ModifiedHuberLoss, instances = [modified_huber_loss], ...)\n",
       " (name = PerceptronLoss, instances = [perceptron_loss], ...)\n",
       " (name = SigmoidLoss, instances = [sigmoid_loss], ...)\n",
       " (name = SmoothedL1HingeLoss, instances = [smoothed_l1_hinge_loss], ...)\n",
       " (name = ZeroOneLoss, instances = [zero_one_loss], ...)\n",
       " (name = HuberLoss, instances = [huber_loss], ...)\n",
       " (name = L1EpsilonInsLoss, instances = [l1_epsilon_ins_loss], ...)\n",
       " (name = L2EpsilonInsLoss, instances = [l2_epsilon_ins_loss], ...)\n",
       " (name = LPDistLoss, instances = [lp_dist_loss], ...)\n",
       " (name = LogitDistLoss, instances = [logit_dist_loss], ...)\n",
       " (name = PeriodicLoss, instances = [periodic_loss], ...)\n",
       " (name = QuantileLoss, instances = [quantile_loss], ...)"
      ]
     },
     "execution_count": 23,
     "metadata": {},
     "output_type": "execute_result"
    }
   ],
   "source": [
    "MLJ.measures()"
   ]
  },
  {
   "cell_type": "markdown",
   "id": "a396d8e1",
   "metadata": {},
   "source": [
    "To check the details on the given metric use `@doc` macro or a standard `?` operator."
   ]
  },
  {
   "cell_type": "code",
   "execution_count": 24,
   "id": "985bb359",
   "metadata": {},
   "outputs": [
    {
     "data": {
      "text/latex": [
       "\\begin{verbatim}\n",
       "MLJBase.QuantileLoss\n",
       "\\end{verbatim}\n",
       "A measure type for quantile loss, which includes the instance(s): \\texttt{quantile\\_loss}.\n",
       "\n",
       "\\begin{verbatim}\n",
       "QuantileLoss()(ŷ, y)\n",
       "QuantileLoss()(ŷ, y, w)\n",
       "\\end{verbatim}\n",
       "Evaluate the default instance of QuantileLoss on predictions \\texttt{ŷ}, given ground truth observations \\texttt{y}. Optionally specify per-sample weights, \\texttt{w}. \n",
       "\n",
       "For more detail, see the original LossFunctions.jl documentation \\emph{but note differences in the signature.}\n",
       "\n",
       "Losses from LossFunctions.jl do not support \\texttt{missing} values. To use with \\texttt{missing} values, replace \\texttt{(ŷ, y)} with \\texttt{skipinvalid(ŷ, y))}.\n",
       "\n",
       "Requires \\texttt{scitype(y)} to be a subtype of \\texttt{Union\\{AbstractVector\\{ScientificTypesBase.Continuous\\}, AbstractVector\\{ScientificTypesBase.Count\\}\\}}; \\texttt{ŷ} must be an array of \\texttt{deterministic} predictions. \n",
       "\n",
       "Constructor signature: \\texttt{QuantileLoss(; τ=0.7)}\n",
       "\n",
       "For more information, run \\texttt{info(QuantileLoss)}. \n",
       "\n"
      ],
      "text/markdown": [
       "```\n",
       "MLJBase.QuantileLoss\n",
       "```\n",
       "\n",
       "A measure type for quantile loss, which includes the instance(s): `quantile_loss`.\n",
       "\n",
       "```\n",
       "QuantileLoss()(ŷ, y)\n",
       "QuantileLoss()(ŷ, y, w)\n",
       "```\n",
       "\n",
       "Evaluate the default instance of QuantileLoss on predictions `ŷ`, given ground truth observations `y`. Optionally specify per-sample weights, `w`. \n",
       "\n",
       "For more detail, see the original LossFunctions.jl documentation *but note differences in the signature.*\n",
       "\n",
       "Losses from LossFunctions.jl do not support `missing` values. To use with `missing` values, replace `(ŷ, y)` with `skipinvalid(ŷ, y))`.\n",
       "\n",
       "Requires `scitype(y)` to be a subtype of `Union{AbstractVector{ScientificTypesBase.Continuous}, AbstractVector{ScientificTypesBase.Count}}`; `ŷ` must be an array of `deterministic` predictions. \n",
       "\n",
       "Constructor signature: `QuantileLoss(; τ=0.7)`\n",
       "\n",
       "For more information, run `info(QuantileLoss)`. \n"
      ],
      "text/plain": [
       "\u001b[36m  MLJBase.QuantileLoss\u001b[39m\n",
       "\n",
       "  A measure type for quantile loss, which includes the instance(s):\n",
       "  \u001b[36mquantile_loss\u001b[39m.\n",
       "\n",
       "\u001b[36m  QuantileLoss()(ŷ, y)\u001b[39m\n",
       "\u001b[36m  QuantileLoss()(ŷ, y, w)\u001b[39m\n",
       "\n",
       "  Evaluate the default instance of QuantileLoss on predictions \u001b[36mŷ\u001b[39m, given\n",
       "  ground truth observations \u001b[36my\u001b[39m. Optionally specify per-sample weights, \u001b[36mw\u001b[39m.\n",
       "\n",
       "  For more detail, see the original LossFunctions.jl documentation \u001b[4mbut note\n",
       "  differences in the signature.\u001b[24m\n",
       "\n",
       "  Losses from LossFunctions.jl do not support \u001b[36mmissing\u001b[39m values. To use with\n",
       "  \u001b[36mmissing\u001b[39m values, replace \u001b[36m(ŷ, y)\u001b[39m with \u001b[36mskipinvalid(ŷ, y))\u001b[39m.\n",
       "\n",
       "  Requires \u001b[36mscitype(y)\u001b[39m to be a subtype of\n",
       "  \u001b[36mUnion{AbstractVector{ScientificTypesBase.Continuous},\n",
       "  AbstractVector{ScientificTypesBase.Count}}\u001b[39m; \u001b[36mŷ\u001b[39m must be an array of\n",
       "  \u001b[36mdeterministic\u001b[39m predictions.\n",
       "\n",
       "  Constructor signature: \u001b[36mQuantileLoss(; τ=0.7)\u001b[39m\n",
       "\n",
       "  For more information, run \u001b[36minfo(QuantileLoss)\u001b[39m."
      ]
     },
     "execution_count": 24,
     "metadata": {},
     "output_type": "execute_result"
    }
   ],
   "source": [
    "@doc(QuantileLoss)"
   ]
  },
  {
   "cell_type": "markdown",
   "id": "37e0362a",
   "metadata": {},
   "source": [
    "Three ML models with the default hyperparameters values were built and evaluated. Out of the trained models `RandomForestClassifier` achieved the best AUC and F1-score. Let's tune the hyperparameters of the Random Forest  based on the AUC metric. \n",
    "\n",
    "The list of available hyperparemeters and their default values is displayed when the instance of the Random Forest is called. "
   ]
  },
  {
   "cell_type": "code",
   "execution_count": 25,
   "id": "bb32e2df",
   "metadata": {},
   "outputs": [
    {
     "data": {
      "text/plain": [
       "RandomForestClassifier(\n",
       "  max_depth = -1, \n",
       "  min_samples_leaf = 1, \n",
       "  min_samples_split = 2, \n",
       "  min_purity_increase = 0.0, \n",
       "  n_subfeatures = -1, \n",
       "  n_trees = 10, \n",
       "  sampling_fraction = 0.7, \n",
       "  feature_importance = :impurity, \n",
       "  rng = MersenneTwister(42, (0, 46171206, 46170204, 441, 38874, 939)))"
      ]
     },
     "execution_count": 25,
     "metadata": {},
     "output_type": "execute_result"
    }
   ],
   "source": [
    "forest = Forest(rng=rng_mt)"
   ]
  },
  {
   "cell_type": "markdown",
   "id": "af87feee",
   "metadata": {},
   "source": [
    "To learn more about each hyperparameter review documentation for `RandomForestClassifier` by calling `?Forest()`. "
   ]
  },
  {
   "cell_type": "code",
   "execution_count": 26,
   "id": "b919b889",
   "metadata": {
    "scrolled": true
   },
   "outputs": [
    {
     "data": {
      "text/latex": [
       "\\begin{verbatim}\n",
       "RandomForestClassifier\n",
       "\\end{verbatim}\n",
       "A model type for constructing a CART random forest classifier, based on \\href{https://github.com/bensadeghi/DecisionTree.jl}{DecisionTree.jl}, and implementing the MLJ model interface.\n",
       "\n",
       "From MLJ, the type can be imported using\n",
       "\n",
       "\\begin{verbatim}\n",
       "RandomForestClassifier = @load RandomForestClassifier pkg=DecisionTree\n",
       "\\end{verbatim}\n",
       "Do \\texttt{model = RandomForestClassifier()} to construct an instance with default hyper-parameters. Provide keyword arguments to override hyper-parameter defaults, as in \\texttt{RandomForestClassifier(max\\_depth=...)}.\n",
       "\n",
       "\\texttt{RandomForestClassifier} implements the standard \\href{https://en.wikipedia.org/wiki/Random_forest}{Random Forest algorithm}, originally published in Breiman, L. (2001): \"Random Forests.\", \\emph{Machine Learning}, vol. 45, pp. 5–32.\n",
       "\n",
       "\\section{Training data}\n",
       "In MLJ or MLJBase, bind an instance \\texttt{model} to data with\n",
       "\n",
       "\\begin{verbatim}\n",
       "mach = machine(model, X, y)\n",
       "\\end{verbatim}\n",
       "where\n",
       "\n",
       "\\begin{itemize}\n",
       "\\item \\texttt{X}: any table of input features (eg, a \\texttt{DataFrame}) whose columns each have one of the following element scitypes: \\texttt{Continuous}, \\texttt{Count}, or \\texttt{<:OrderedFactor}; check column scitypes with \\texttt{schema(X)}\n",
       "\n",
       "\n",
       "\\item \\texttt{y}: the target, which can be any \\texttt{AbstractVector} whose element scitype is \\texttt{<:OrderedFactor} or \\texttt{<:Multiclass}; check the scitype with \\texttt{scitype(y)}\n",
       "\n",
       "\\end{itemize}\n",
       "Train the machine with \\texttt{fit!(mach, rows=...)}.\n",
       "\n",
       "\\section{Hyper-parameters}\n",
       "\\begin{itemize}\n",
       "\\item \\texttt{max\\_depth=-1}:          max depth of the decision tree (-1=any)\n",
       "\n",
       "\n",
       "\\item \\texttt{min\\_samples\\_leaf=1}:    min number of samples each leaf needs to have\n",
       "\n",
       "\n",
       "\\item \\texttt{min\\_samples\\_split=2}:   min number of samples needed for a split\n",
       "\n",
       "\n",
       "\\item \\texttt{min\\_purity\\_increase=0}: min purity needed for a split\n",
       "\n",
       "\n",
       "\\item \\texttt{n\\_subfeatures=-1}: number of features to select at random (0 for all, -1 for square root of number of features)\n",
       "\n",
       "\n",
       "\\item \\texttt{n\\_trees=10}:            number of trees to train\n",
       "\n",
       "\n",
       "\\item \\texttt{sampling\\_fraction=0.7}  fraction of samples to train each tree on\n",
       "\n",
       "\n",
       "\\item \\texttt{feature\\_importance}: method to use for computing feature importances. One of \\texttt{(:impurity, :split)}\n",
       "\n",
       "\n",
       "\\item \\texttt{rng=Random.GLOBAL\\_RNG}: random number generator or seed\n",
       "\n",
       "\\end{itemize}\n",
       "\\section{Operations}\n",
       "\\begin{itemize}\n",
       "\\item \\texttt{predict(mach, Xnew)}: return predictions of the target given features \\texttt{Xnew} having the same scitype as \\texttt{X} above. Predictions are probabilistic, but uncalibrated.\n",
       "\n",
       "\n",
       "\\item \\texttt{predict\\_mode(mach, Xnew)}: instead return the mode of each prediction above.\n",
       "\n",
       "\\end{itemize}\n",
       "\\section{Fitted parameters}\n",
       "The fields of \\texttt{fitted\\_params(mach)} are:\n",
       "\n",
       "\\begin{itemize}\n",
       "\\item \\texttt{forest}: the \\texttt{Ensemble} object returned by the core DecisionTree.jl algorithm\n",
       "\n",
       "\\end{itemize}\n",
       "\\section{Report}\n",
       "\\begin{itemize}\n",
       "\\item \\texttt{features}: the names of the features encountered in training\n",
       "\n",
       "\\end{itemize}\n",
       "\\section{Examples}\n",
       "\\begin{verbatim}\n",
       "using MLJ\n",
       "Forest = @load RandomForestClassifier pkg=DecisionTree\n",
       "forest = Forest(min_samples_split=6, n_subfeatures=3)\n",
       "\n",
       "X, y = @load_iris\n",
       "mach = machine(forest, X, y) |> fit!\n",
       "\n",
       "Xnew = (sepal_length = [6.4, 7.2, 7.4],\n",
       "        sepal_width = [2.8, 3.0, 2.8],\n",
       "        petal_length = [5.6, 5.8, 6.1],\n",
       "        petal_width = [2.1, 1.6, 1.9],)\n",
       "yhat = predict(mach, Xnew) # probabilistic predictions\n",
       "predict_mode(mach, Xnew)   # point predictions\n",
       "pdf.(yhat, \"virginica\")    # probabilities for the \"verginica\" class\n",
       "\n",
       "fitted_params(mach).forest # raw `Ensemble` object from DecisionTrees.jl\n",
       "\n",
       "feature_importances(mach)  # `:impurity` feature importances\n",
       "forest.feature_importance = :split\n",
       "feature_importance(mach)   # `:split` feature importances\n",
       "\n",
       "\\end{verbatim}\n",
       "See also \\href{https://github.com/bensadeghi/DecisionTree.jl}{DecisionTree.jl} and the unwrapped model type \\href{@ref}{\\texttt{MLJDecisionTreeInterface.DecisionTree.RandomForestClassifier}}.\n",
       "\n"
      ],
      "text/markdown": [
       "```\n",
       "RandomForestClassifier\n",
       "```\n",
       "\n",
       "A model type for constructing a CART random forest classifier, based on [DecisionTree.jl](https://github.com/bensadeghi/DecisionTree.jl), and implementing the MLJ model interface.\n",
       "\n",
       "From MLJ, the type can be imported using\n",
       "\n",
       "```\n",
       "RandomForestClassifier = @load RandomForestClassifier pkg=DecisionTree\n",
       "```\n",
       "\n",
       "Do `model = RandomForestClassifier()` to construct an instance with default hyper-parameters. Provide keyword arguments to override hyper-parameter defaults, as in `RandomForestClassifier(max_depth=...)`.\n",
       "\n",
       "`RandomForestClassifier` implements the standard [Random Forest algorithm](https://en.wikipedia.org/wiki/Random_forest), originally published in Breiman, L. (2001): \"Random Forests.\", *Machine Learning*, vol. 45, pp. 5–32.\n",
       "\n",
       "# Training data\n",
       "\n",
       "In MLJ or MLJBase, bind an instance `model` to data with\n",
       "\n",
       "```\n",
       "mach = machine(model, X, y)\n",
       "```\n",
       "\n",
       "where\n",
       "\n",
       "  * `X`: any table of input features (eg, a `DataFrame`) whose columns each have one of the following element scitypes: `Continuous`, `Count`, or `<:OrderedFactor`; check column scitypes with `schema(X)`\n",
       "  * `y`: the target, which can be any `AbstractVector` whose element scitype is `<:OrderedFactor` or `<:Multiclass`; check the scitype with `scitype(y)`\n",
       "\n",
       "Train the machine with `fit!(mach, rows=...)`.\n",
       "\n",
       "# Hyper-parameters\n",
       "\n",
       "  * `max_depth=-1`:          max depth of the decision tree (-1=any)\n",
       "  * `min_samples_leaf=1`:    min number of samples each leaf needs to have\n",
       "  * `min_samples_split=2`:   min number of samples needed for a split\n",
       "  * `min_purity_increase=0`: min purity needed for a split\n",
       "  * `n_subfeatures=-1`: number of features to select at random (0 for all, -1 for square root of number of features)\n",
       "  * `n_trees=10`:            number of trees to train\n",
       "  * `sampling_fraction=0.7`  fraction of samples to train each tree on\n",
       "  * `feature_importance`: method to use for computing feature importances. One of `(:impurity, :split)`\n",
       "  * `rng=Random.GLOBAL_RNG`: random number generator or seed\n",
       "\n",
       "# Operations\n",
       "\n",
       "  * `predict(mach, Xnew)`: return predictions of the target given features `Xnew` having the same scitype as `X` above. Predictions are probabilistic, but uncalibrated.\n",
       "  * `predict_mode(mach, Xnew)`: instead return the mode of each prediction above.\n",
       "\n",
       "# Fitted parameters\n",
       "\n",
       "The fields of `fitted_params(mach)` are:\n",
       "\n",
       "  * `forest`: the `Ensemble` object returned by the core DecisionTree.jl algorithm\n",
       "\n",
       "# Report\n",
       "\n",
       "  * `features`: the names of the features encountered in training\n",
       "\n",
       "# Examples\n",
       "\n",
       "```\n",
       "using MLJ\n",
       "Forest = @load RandomForestClassifier pkg=DecisionTree\n",
       "forest = Forest(min_samples_split=6, n_subfeatures=3)\n",
       "\n",
       "X, y = @load_iris\n",
       "mach = machine(forest, X, y) |> fit!\n",
       "\n",
       "Xnew = (sepal_length = [6.4, 7.2, 7.4],\n",
       "        sepal_width = [2.8, 3.0, 2.8],\n",
       "        petal_length = [5.6, 5.8, 6.1],\n",
       "        petal_width = [2.1, 1.6, 1.9],)\n",
       "yhat = predict(mach, Xnew) # probabilistic predictions\n",
       "predict_mode(mach, Xnew)   # point predictions\n",
       "pdf.(yhat, \"virginica\")    # probabilities for the \"verginica\" class\n",
       "\n",
       "fitted_params(mach).forest # raw `Ensemble` object from DecisionTrees.jl\n",
       "\n",
       "feature_importances(mach)  # `:impurity` feature importances\n",
       "forest.feature_importance = :split\n",
       "feature_importance(mach)   # `:split` feature importances\n",
       "\n",
       "```\n",
       "\n",
       "See also [DecisionTree.jl](https://github.com/bensadeghi/DecisionTree.jl) and the unwrapped model type [`MLJDecisionTreeInterface.DecisionTree.RandomForestClassifier`](@ref).\n"
      ],
      "text/plain": [
       "\u001b[36m  RandomForestClassifier\u001b[39m\n",
       "\n",
       "  A model type for constructing a CART random forest classifier, based on\n",
       "  DecisionTree.jl (https://github.com/bensadeghi/DecisionTree.jl), and\n",
       "  implementing the MLJ model interface.\n",
       "\n",
       "  From MLJ, the type can be imported using\n",
       "\n",
       "\u001b[36m  RandomForestClassifier = @load RandomForestClassifier pkg=DecisionTree\u001b[39m\n",
       "\n",
       "  Do \u001b[36mmodel = RandomForestClassifier()\u001b[39m to construct an instance with default\n",
       "  hyper-parameters. Provide keyword arguments to override hyper-parameter\n",
       "  defaults, as in \u001b[36mRandomForestClassifier(max_depth=...)\u001b[39m.\n",
       "\n",
       "  \u001b[36mRandomForestClassifier\u001b[39m implements the standard Random Forest algorithm\n",
       "  (https://en.wikipedia.org/wiki/Random_forest), originally published in\n",
       "  Breiman, L. (2001): \"Random Forests.\", \u001b[4mMachine Learning\u001b[24m, vol. 45, pp. 5–32.\n",
       "\n",
       "\u001b[1m  Training data\u001b[22m\n",
       "\u001b[1m  ≡≡≡≡≡≡≡≡≡≡≡≡≡≡≡\u001b[22m\n",
       "\n",
       "  In MLJ or MLJBase, bind an instance \u001b[36mmodel\u001b[39m to data with\n",
       "\n",
       "\u001b[36m  mach = machine(model, X, y)\u001b[39m\n",
       "\n",
       "  where\n",
       "\n",
       "    •  \u001b[36mX\u001b[39m: any table of input features (eg, a \u001b[36mDataFrame\u001b[39m) whose columns\n",
       "       each have one of the following element scitypes: \u001b[36mContinuous\u001b[39m,\n",
       "       \u001b[36mCount\u001b[39m, or \u001b[36m<:OrderedFactor\u001b[39m; check column scitypes with \u001b[36mschema(X)\u001b[39m\n",
       "\n",
       "    •  \u001b[36my\u001b[39m: the target, which can be any \u001b[36mAbstractVector\u001b[39m whose element\n",
       "       scitype is \u001b[36m<:OrderedFactor\u001b[39m or \u001b[36m<:Multiclass\u001b[39m; check the scitype with\n",
       "       \u001b[36mscitype(y)\u001b[39m\n",
       "\n",
       "  Train the machine with \u001b[36mfit!(mach, rows=...)\u001b[39m.\n",
       "\n",
       "\u001b[1m  Hyper-parameters\u001b[22m\n",
       "\u001b[1m  ≡≡≡≡≡≡≡≡≡≡≡≡≡≡≡≡≡≡\u001b[22m\n",
       "\n",
       "    •  \u001b[36mmax_depth=-1\u001b[39m: max depth of the decision tree (-1=any)\n",
       "\n",
       "    •  \u001b[36mmin_samples_leaf=1\u001b[39m: min number of samples each leaf needs to have\n",
       "\n",
       "    •  \u001b[36mmin_samples_split=2\u001b[39m: min number of samples needed for a split\n",
       "\n",
       "    •  \u001b[36mmin_purity_increase=0\u001b[39m: min purity needed for a split\n",
       "\n",
       "    •  \u001b[36mn_subfeatures=-1\u001b[39m: number of features to select at random (0 for\n",
       "       all, -1 for square root of number of features)\n",
       "\n",
       "    •  \u001b[36mn_trees=10\u001b[39m: number of trees to train\n",
       "\n",
       "    •  \u001b[36msampling_fraction=0.7\u001b[39m fraction of samples to train each tree on\n",
       "\n",
       "    •  \u001b[36mfeature_importance\u001b[39m: method to use for computing feature\n",
       "       importances. One of \u001b[36m(:impurity, :split)\u001b[39m\n",
       "\n",
       "    •  \u001b[36mrng=Random.GLOBAL_RNG\u001b[39m: random number generator or seed\n",
       "\n",
       "\u001b[1m  Operations\u001b[22m\n",
       "\u001b[1m  ≡≡≡≡≡≡≡≡≡≡≡≡\u001b[22m\n",
       "\n",
       "    •  \u001b[36mpredict(mach, Xnew)\u001b[39m: return predictions of the target given\n",
       "       features \u001b[36mXnew\u001b[39m having the same scitype as \u001b[36mX\u001b[39m above. Predictions are\n",
       "       probabilistic, but uncalibrated.\n",
       "\n",
       "    •  \u001b[36mpredict_mode(mach, Xnew)\u001b[39m: instead return the mode of each\n",
       "       prediction above.\n",
       "\n",
       "\u001b[1m  Fitted parameters\u001b[22m\n",
       "\u001b[1m  ≡≡≡≡≡≡≡≡≡≡≡≡≡≡≡≡≡≡≡\u001b[22m\n",
       "\n",
       "  The fields of \u001b[36mfitted_params(mach)\u001b[39m are:\n",
       "\n",
       "    •  \u001b[36mforest\u001b[39m: the \u001b[36mEnsemble\u001b[39m object returned by the core DecisionTree.jl\n",
       "       algorithm\n",
       "\n",
       "\u001b[1m  Report\u001b[22m\n",
       "\u001b[1m  ≡≡≡≡≡≡≡≡\u001b[22m\n",
       "\n",
       "    •  \u001b[36mfeatures\u001b[39m: the names of the features encountered in training\n",
       "\n",
       "\u001b[1m  Examples\u001b[22m\n",
       "\u001b[1m  ≡≡≡≡≡≡≡≡≡≡\u001b[22m\n",
       "\n",
       "\u001b[36m  using MLJ\u001b[39m\n",
       "\u001b[36m  Forest = @load RandomForestClassifier pkg=DecisionTree\u001b[39m\n",
       "\u001b[36m  forest = Forest(min_samples_split=6, n_subfeatures=3)\u001b[39m\n",
       "\u001b[36m  \u001b[39m\n",
       "\u001b[36m  X, y = @load_iris\u001b[39m\n",
       "\u001b[36m  mach = machine(forest, X, y) |> fit!\u001b[39m\n",
       "\u001b[36m  \u001b[39m\n",
       "\u001b[36m  Xnew = (sepal_length = [6.4, 7.2, 7.4],\u001b[39m\n",
       "\u001b[36m          sepal_width = [2.8, 3.0, 2.8],\u001b[39m\n",
       "\u001b[36m          petal_length = [5.6, 5.8, 6.1],\u001b[39m\n",
       "\u001b[36m          petal_width = [2.1, 1.6, 1.9],)\u001b[39m\n",
       "\u001b[36m  yhat = predict(mach, Xnew) # probabilistic predictions\u001b[39m\n",
       "\u001b[36m  predict_mode(mach, Xnew)   # point predictions\u001b[39m\n",
       "\u001b[36m  pdf.(yhat, \"virginica\")    # probabilities for the \"verginica\" class\u001b[39m\n",
       "\u001b[36m  \u001b[39m\n",
       "\u001b[36m  fitted_params(mach).forest # raw `Ensemble` object from DecisionTrees.jl\u001b[39m\n",
       "\u001b[36m  \u001b[39m\n",
       "\u001b[36m  feature_importances(mach)  # `:impurity` feature importances\u001b[39m\n",
       "\u001b[36m  forest.feature_importance = :split\u001b[39m\n",
       "\u001b[36m  feature_importance(mach)   # `:split` feature importances\u001b[39m\n",
       "\u001b[36m  \u001b[39m\n",
       "\n",
       "  See also DecisionTree.jl (https://github.com/bensadeghi/DecisionTree.jl) and\n",
       "  the unwrapped model type\n",
       "  \u001b[36mMLJDecisionTreeInterface.DecisionTree.RandomForestClassifier\u001b[39m."
      ]
     },
     "execution_count": 26,
     "metadata": {},
     "output_type": "execute_result"
    }
   ],
   "source": [
    "?Forest()"
   ]
  },
  {
   "cell_type": "markdown",
   "id": "2d7cc0ae",
   "metadata": {},
   "source": [
    "## 6. Cross-validation and hyperparameter tuning"
   ]
  },
  {
   "cell_type": "markdown",
   "id": "6d034d24",
   "metadata": {},
   "source": [
    "Tuning all hyperparameters of `RandomForestClassifier` would be computionally demanding. To finish within a reasonable time, we'll tune two arbitrary picked hyperparameters: `max_depth` and `n_trees`. `max_depth` limits the growth of each tree in the ensemble - deep trees may be overfitted, while shallow trees may be biased. `n_trees` determines number of trees in the ensemble - the predictive power of the forest should initially increase with the number of trees and then saturate."
   ]
  },
  {
   "cell_type": "markdown",
   "id": "171167cc",
   "metadata": {},
   "source": [
    "Tuning in `MLJ` can be performed easily with `TunedModel` interface. The tuning specification includes:\n",
    "* `model` - the model to be tuned, in our case an instance of `RandomForestClassifier`,\n",
    "* `resampling` - mechanism for splitting the data into training and validation subsets, e.g. cross-validation (below 4-fold cross-validation specified in `CV` resampling strategy),\n",
    "* `tuning` - tuning strategy for searching the hyperparameters space, in the example below `Grid(resolution=6)` constructs grid search with cartesian product of six evenly spaced values for each tuned hyperparameter (36 models for two tuned hyperparameters),\n",
    "* `range` - specification of tuned hyperparameters including hyperparameter names and their extreme values,\n",
    "* `measure` - metric used for models evaluation - as specfied above, AUC is used.\n",
    "\n",
    "Please note the tuning is computationally intensive excercise and may take few minutes to complete. The progress bar will indicate how many models are already evaluated."
   ]
  },
  {
   "cell_type": "markdown",
   "id": "3e4427dd",
   "metadata": {},
   "source": [
    "<img src=\"img/cross_val.png\" alt=\"cross_val\" width=\"60%\"/>\n",
    "<div style=\"text-align: right\">Source: <a href=\"https://scikit-learn.org/stable/modules/cross_validation.html\">Scikit-Learn documentation</a>, BSD-3 License</div> "
   ]
  },
  {
   "cell_type": "code",
   "execution_count": 27,
   "id": "7290c9d2",
   "metadata": {},
   "outputs": [
    {
     "name": "stderr",
     "output_type": "stream",
     "text": [
      "\u001b[33mEvaluating over 36 metamodels: 100%[=========================] Time: 0:02:54\u001b[39m\n"
     ]
    },
    {
     "data": {
      "text/plain": [
       "trained Machine; does not cache data\n",
       "  model: ProbabilisticTunedModel(model = RandomForestClassifier(max_depth = -1, …), …)\n",
       "  args: \n",
       "    1:\tSource @767 ⏎ Table{Union{AbstractVector{Continuous}, AbstractVector{Count}}}\n",
       "    2:\tSource @052 ⏎ AbstractVector{OrderedFactor{2}}\n"
      ]
     },
     "execution_count": 27,
     "metadata": {},
     "output_type": "execute_result"
    }
   ],
   "source": [
    "hyperparam_range = [range(forest, :n_trees, lower=10, upper=80),\n",
    "                    range(forest, :max_depth, lower=2, upper=30)]\n",
    "self_tuning_forest = TunedModel(\n",
    "    model=forest,\n",
    "    resampling=CV(nfolds=4, rng=rng_mt),\n",
    "    tuning=Grid(resolution=6),\n",
    "    range=hyperparam_range,\n",
    "    measure=auc)\n",
    "mach = machine(self_tuning_forest, X_prepared, y)\n",
    "fit!(mach, verbosity=1)"
   ]
  },
  {
   "cell_type": "markdown",
   "id": "d85f3fd1",
   "metadata": {},
   "source": [
    "Inspect the results of the tuning on the plots with `plot` function. As expected, the AUC was raising with increasing number of trees and stabilised around 60 trees. Optimal value of `max_depth` is close to 25 - deeper models are overfitted, while smaller underfitted."
   ]
  },
  {
   "cell_type": "code",
   "execution_count": 28,
   "id": "55dcfedc",
   "metadata": {},
   "outputs": [
    {
     "data": {
      "image/svg+xml": [
       "<?xml version=\"1.0\" encoding=\"utf-8\"?>\n",
       "<svg xmlns=\"http://www.w3.org/2000/svg\" xmlns:xlink=\"http://www.w3.org/1999/xlink\" width=\"550\" height=\"500\" viewBox=\"0 0 2200 2000\">\n",
       "<defs>\n",
       "  <clipPath id=\"clip180\">\n",
       "    <rect x=\"0\" y=\"0\" width=\"2200\" height=\"2000\"/>\n",
       "  </clipPath>\n",
       "</defs>\n",
       "<path clip-path=\"url(#clip180)\" d=\"\n",
       "M0 2000 L2200 2000 L2200 0 L0 0  Z\n",
       "  \" fill=\"#ffffff\" fill-rule=\"evenodd\" fill-opacity=\"1\"/>\n",
       "<defs>\n",
       "  <clipPath id=\"clip181\">\n",
       "    <rect x=\"440\" y=\"20\" width=\"1541\" height=\"1541\"/>\n",
       "  </clipPath>\n",
       "</defs>\n",
       "<path clip-path=\"url(#clip180)\" d=\"\n",
       "M294.984 829.607 L1052.76 829.607 L1052.76 47.2441 L294.984 47.2441  Z\n",
       "  \" fill=\"#ffffff\" fill-rule=\"evenodd\" fill-opacity=\"1\"/>\n",
       "<defs>\n",
       "  <clipPath id=\"clip182\">\n",
       "    <rect x=\"294\" y=\"47\" width=\"759\" height=\"783\"/>\n",
       "  </clipPath>\n",
       "</defs>\n",
       "<polyline clip-path=\"url(#clip182)\" style=\"stroke:#000000; stroke-linecap:round; stroke-linejoin:round; stroke-width:2; stroke-opacity:0.1; fill:none\" points=\"\n",
       "  418.556,829.607 418.556,47.2441 \n",
       "  \"/>\n",
       "<polyline clip-path=\"url(#clip182)\" style=\"stroke:#000000; stroke-linecap:round; stroke-linejoin:round; stroke-width:2; stroke-opacity:0.1; fill:none\" points=\"\n",
       "  622.807,829.607 622.807,47.2441 \n",
       "  \"/>\n",
       "<polyline clip-path=\"url(#clip182)\" style=\"stroke:#000000; stroke-linecap:round; stroke-linejoin:round; stroke-width:2; stroke-opacity:0.1; fill:none\" points=\"\n",
       "  827.058,829.607 827.058,47.2441 \n",
       "  \"/>\n",
       "<polyline clip-path=\"url(#clip182)\" style=\"stroke:#000000; stroke-linecap:round; stroke-linejoin:round; stroke-width:2; stroke-opacity:0.1; fill:none\" points=\"\n",
       "  1031.31,829.607 1031.31,47.2441 \n",
       "  \"/>\n",
       "<polyline clip-path=\"url(#clip180)\" style=\"stroke:#000000; stroke-linecap:round; stroke-linejoin:round; stroke-width:4; stroke-opacity:1; fill:none\" points=\"\n",
       "  294.984,829.607 1052.76,829.607 \n",
       "  \"/>\n",
       "<polyline clip-path=\"url(#clip180)\" style=\"stroke:#000000; stroke-linecap:round; stroke-linejoin:round; stroke-width:4; stroke-opacity:1; fill:none\" points=\"\n",
       "  294.984,47.2441 1052.76,47.2441 \n",
       "  \"/>\n",
       "<polyline clip-path=\"url(#clip180)\" style=\"stroke:#000000; stroke-linecap:round; stroke-linejoin:round; stroke-width:4; stroke-opacity:1; fill:none\" points=\"\n",
       "  418.556,829.607 418.556,810.709 \n",
       "  \"/>\n",
       "<polyline clip-path=\"url(#clip180)\" style=\"stroke:#000000; stroke-linecap:round; stroke-linejoin:round; stroke-width:4; stroke-opacity:1; fill:none\" points=\"\n",
       "  622.807,829.607 622.807,810.709 \n",
       "  \"/>\n",
       "<polyline clip-path=\"url(#clip180)\" style=\"stroke:#000000; stroke-linecap:round; stroke-linejoin:round; stroke-width:4; stroke-opacity:1; fill:none\" points=\"\n",
       "  827.058,829.607 827.058,810.709 \n",
       "  \"/>\n",
       "<polyline clip-path=\"url(#clip180)\" style=\"stroke:#000000; stroke-linecap:round; stroke-linejoin:round; stroke-width:4; stroke-opacity:1; fill:none\" points=\"\n",
       "  1031.31,829.607 1031.31,810.709 \n",
       "  \"/>\n",
       "<path clip-path=\"url(#clip180)\" d=\"M397.329 886.471 L413.649 886.471 L413.649 890.407 L391.704 890.407 L391.704 886.471 Q394.366 883.717 398.95 879.087 Q403.556 874.434 404.737 873.092 Q406.982 870.569 407.862 868.833 Q408.764 867.073 408.764 865.384 Q408.764 862.629 406.82 860.893 Q404.899 859.157 401.797 859.157 Q399.598 859.157 397.144 859.921 Q394.713 860.685 391.936 862.235 L391.936 857.513 Q394.76 856.379 397.213 855.8 Q399.667 855.222 401.704 855.222 Q407.074 855.222 410.269 857.907 Q413.463 860.592 413.463 865.083 Q413.463 867.212 412.653 869.134 Q411.866 871.032 409.76 873.624 Q409.181 874.296 406.079 877.513 Q402.977 880.708 397.329 886.471 Z\" fill=\"#000000\" fill-rule=\"evenodd\" fill-opacity=\"1\" /><path clip-path=\"url(#clip180)\" d=\"M433.463 858.925 Q429.852 858.925 428.023 862.49 Q426.218 866.032 426.218 873.161 Q426.218 880.268 428.023 883.833 Q429.852 887.374 433.463 887.374 Q437.097 887.374 438.903 883.833 Q440.732 880.268 440.732 873.161 Q440.732 866.032 438.903 862.49 Q437.097 858.925 433.463 858.925 M433.463 855.222 Q439.273 855.222 442.329 859.828 Q445.408 864.411 445.408 873.161 Q445.408 881.888 442.329 886.495 Q439.273 891.078 433.463 891.078 Q427.653 891.078 424.574 886.495 Q421.519 881.888 421.519 873.161 Q421.519 864.411 424.574 859.828 Q427.653 855.222 433.463 855.222 Z\" fill=\"#000000\" fill-rule=\"evenodd\" fill-opacity=\"1\" /><path clip-path=\"url(#clip180)\" d=\"M610.978 859.921 L599.173 878.37 L610.978 878.37 L610.978 859.921 M609.752 855.847 L615.631 855.847 L615.631 878.37 L620.562 878.37 L620.562 882.258 L615.631 882.258 L615.631 890.407 L610.978 890.407 L610.978 882.258 L595.377 882.258 L595.377 877.745 L609.752 855.847 Z\" fill=\"#000000\" fill-rule=\"evenodd\" fill-opacity=\"1\" /><path clip-path=\"url(#clip180)\" d=\"M638.293 858.925 Q634.682 858.925 632.853 862.49 Q631.048 866.032 631.048 873.161 Q631.048 880.268 632.853 883.833 Q634.682 887.374 638.293 887.374 Q641.927 887.374 643.733 883.833 Q645.562 880.268 645.562 873.161 Q645.562 866.032 643.733 862.49 Q641.927 858.925 638.293 858.925 M638.293 855.222 Q644.103 855.222 647.159 859.828 Q650.238 864.411 650.238 873.161 Q650.238 881.888 647.159 886.495 Q644.103 891.078 638.293 891.078 Q632.483 891.078 629.404 886.495 Q626.349 881.888 626.349 873.161 Q626.349 864.411 629.404 859.828 Q632.483 855.222 638.293 855.222 Z\" fill=\"#000000\" fill-rule=\"evenodd\" fill-opacity=\"1\" /><path clip-path=\"url(#clip180)\" d=\"M812.463 871.263 Q809.315 871.263 807.464 873.416 Q805.635 875.569 805.635 879.319 Q805.635 883.046 807.464 885.221 Q809.315 887.374 812.463 887.374 Q815.612 887.374 817.44 885.221 Q819.292 883.046 819.292 879.319 Q819.292 875.569 817.44 873.416 Q815.612 871.263 812.463 871.263 M821.746 856.61 L821.746 860.87 Q819.987 860.036 818.181 859.597 Q816.399 859.157 814.639 859.157 Q810.01 859.157 807.556 862.282 Q805.126 865.407 804.778 871.726 Q806.144 869.712 808.204 868.647 Q810.264 867.559 812.741 867.559 Q817.95 867.559 820.959 870.731 Q823.991 873.879 823.991 879.319 Q823.991 884.643 820.843 887.86 Q817.695 891.078 812.463 891.078 Q806.468 891.078 803.297 886.495 Q800.126 881.888 800.126 873.161 Q800.126 864.967 804.014 860.106 Q807.903 855.222 814.454 855.222 Q816.213 855.222 817.996 855.569 Q819.801 855.916 821.746 856.61 Z\" fill=\"#000000\" fill-rule=\"evenodd\" fill-opacity=\"1\" /><path clip-path=\"url(#clip180)\" d=\"M842.047 858.925 Q838.436 858.925 836.607 862.49 Q834.801 866.032 834.801 873.161 Q834.801 880.268 836.607 883.833 Q838.436 887.374 842.047 887.374 Q845.681 887.374 847.486 883.833 Q849.315 880.268 849.315 873.161 Q849.315 866.032 847.486 862.49 Q845.681 858.925 842.047 858.925 M842.047 855.222 Q847.857 855.222 850.912 859.828 Q853.991 864.411 853.991 873.161 Q853.991 881.888 850.912 886.495 Q847.857 891.078 842.047 891.078 Q836.237 891.078 833.158 886.495 Q830.102 881.888 830.102 873.161 Q830.102 864.411 833.158 859.828 Q836.237 855.222 842.047 855.222 Z\" fill=\"#000000\" fill-rule=\"evenodd\" fill-opacity=\"1\" /><path clip-path=\"url(#clip180)\" d=\"M1016.18 873.995 Q1012.85 873.995 1010.93 875.777 Q1009.03 877.559 1009.03 880.684 Q1009.03 883.809 1010.93 885.592 Q1012.85 887.374 1016.18 887.374 Q1019.52 887.374 1021.44 885.592 Q1023.36 883.786 1023.36 880.684 Q1023.36 877.559 1021.44 875.777 Q1019.54 873.995 1016.18 873.995 M1011.51 872.004 Q1008.5 871.263 1006.81 869.203 Q1005.14 867.143 1005.14 864.18 Q1005.14 860.036 1008.08 857.629 Q1011.04 855.222 1016.18 855.222 Q1021.34 855.222 1024.28 857.629 Q1027.22 860.036 1027.22 864.18 Q1027.22 867.143 1025.53 869.203 Q1023.87 871.263 1020.88 872.004 Q1024.26 872.791 1026.14 875.083 Q1028.03 877.374 1028.03 880.684 Q1028.03 885.708 1024.96 888.393 Q1021.9 891.078 1016.18 891.078 Q1010.46 891.078 1007.39 888.393 Q1004.33 885.708 1004.33 880.684 Q1004.33 877.374 1006.23 875.083 Q1008.13 872.791 1011.51 872.004 M1009.79 864.62 Q1009.79 867.305 1011.46 868.809 Q1013.15 870.314 1016.18 870.314 Q1019.19 870.314 1020.88 868.809 Q1022.59 867.305 1022.59 864.62 Q1022.59 861.935 1020.88 860.43 Q1019.19 858.925 1016.18 858.925 Q1013.15 858.925 1011.46 860.43 Q1009.79 861.935 1009.79 864.62 Z\" fill=\"#000000\" fill-rule=\"evenodd\" fill-opacity=\"1\" /><path clip-path=\"url(#clip180)\" d=\"M1046.34 858.925 Q1042.73 858.925 1040.9 862.49 Q1039.1 866.032 1039.1 873.161 Q1039.1 880.268 1040.9 883.833 Q1042.73 887.374 1046.34 887.374 Q1049.98 887.374 1051.78 883.833 Q1053.61 880.268 1053.61 873.161 Q1053.61 866.032 1051.78 862.49 Q1049.98 858.925 1046.34 858.925 M1046.34 855.222 Q1052.15 855.222 1055.21 859.828 Q1058.29 864.411 1058.29 873.161 Q1058.29 881.888 1055.21 886.495 Q1052.15 891.078 1046.34 891.078 Q1040.53 891.078 1037.46 886.495 Q1034.4 881.888 1034.4 873.161 Q1034.4 864.411 1037.46 859.828 Q1040.53 855.222 1046.34 855.222 Z\" fill=\"#000000\" fill-rule=\"evenodd\" fill-opacity=\"1\" /><polyline clip-path=\"url(#clip182)\" style=\"stroke:#000000; stroke-linecap:round; stroke-linejoin:round; stroke-width:2; stroke-opacity:0.1; fill:none\" points=\"\n",
       "  294.984,712.782 1052.76,712.782 \n",
       "  \"/>\n",
       "<polyline clip-path=\"url(#clip182)\" style=\"stroke:#000000; stroke-linecap:round; stroke-linejoin:round; stroke-width:2; stroke-opacity:0.1; fill:none\" points=\"\n",
       "  294.984,558.528 1052.76,558.528 \n",
       "  \"/>\n",
       "<polyline clip-path=\"url(#clip182)\" style=\"stroke:#000000; stroke-linecap:round; stroke-linejoin:round; stroke-width:2; stroke-opacity:0.1; fill:none\" points=\"\n",
       "  294.984,404.274 1052.76,404.274 \n",
       "  \"/>\n",
       "<polyline clip-path=\"url(#clip182)\" style=\"stroke:#000000; stroke-linecap:round; stroke-linejoin:round; stroke-width:2; stroke-opacity:0.1; fill:none\" points=\"\n",
       "  294.984,250.02 1052.76,250.02 \n",
       "  \"/>\n",
       "<polyline clip-path=\"url(#clip182)\" style=\"stroke:#000000; stroke-linecap:round; stroke-linejoin:round; stroke-width:2; stroke-opacity:0.1; fill:none\" points=\"\n",
       "  294.984,95.7664 1052.76,95.7664 \n",
       "  \"/>\n",
       "<polyline clip-path=\"url(#clip180)\" style=\"stroke:#000000; stroke-linecap:round; stroke-linejoin:round; stroke-width:4; stroke-opacity:1; fill:none\" points=\"\n",
       "  294.984,829.607 294.984,47.2441 \n",
       "  \"/>\n",
       "<polyline clip-path=\"url(#clip180)\" style=\"stroke:#000000; stroke-linecap:round; stroke-linejoin:round; stroke-width:4; stroke-opacity:1; fill:none\" points=\"\n",
       "  1052.76,829.607 1052.76,47.2441 \n",
       "  \"/>\n",
       "<polyline clip-path=\"url(#clip180)\" style=\"stroke:#000000; stroke-linecap:round; stroke-linejoin:round; stroke-width:4; stroke-opacity:1; fill:none\" points=\"\n",
       "  294.984,712.782 313.882,712.782 \n",
       "  \"/>\n",
       "<polyline clip-path=\"url(#clip180)\" style=\"stroke:#000000; stroke-linecap:round; stroke-linejoin:round; stroke-width:4; stroke-opacity:1; fill:none\" points=\"\n",
       "  294.984,558.528 313.882,558.528 \n",
       "  \"/>\n",
       "<polyline clip-path=\"url(#clip180)\" style=\"stroke:#000000; stroke-linecap:round; stroke-linejoin:round; stroke-width:4; stroke-opacity:1; fill:none\" points=\"\n",
       "  294.984,404.274 313.882,404.274 \n",
       "  \"/>\n",
       "<polyline clip-path=\"url(#clip180)\" style=\"stroke:#000000; stroke-linecap:round; stroke-linejoin:round; stroke-width:4; stroke-opacity:1; fill:none\" points=\"\n",
       "  294.984,250.02 313.882,250.02 \n",
       "  \"/>\n",
       "<polyline clip-path=\"url(#clip180)\" style=\"stroke:#000000; stroke-linecap:round; stroke-linejoin:round; stroke-width:4; stroke-opacity:1; fill:none\" points=\"\n",
       "  294.984,95.7664 313.882,95.7664 \n",
       "  \"/>\n",
       "<path clip-path=\"url(#clip180)\" d=\"M145.48 698.58 Q141.869 698.58 140.04 702.145 Q138.235 705.687 138.235 712.816 Q138.235 719.923 140.04 723.488 Q141.869 727.029 145.48 727.029 Q149.114 727.029 150.92 723.488 Q152.748 719.923 152.748 712.816 Q152.748 705.687 150.92 702.145 Q149.114 698.58 145.48 698.58 M145.48 694.877 Q151.29 694.877 154.346 699.483 Q157.424 704.066 157.424 712.816 Q157.424 721.543 154.346 726.15 Q151.29 730.733 145.48 730.733 Q139.67 730.733 136.591 726.15 Q133.536 721.543 133.536 712.816 Q133.536 704.066 136.591 699.483 Q139.67 694.877 145.48 694.877 Z\" fill=\"#000000\" fill-rule=\"evenodd\" fill-opacity=\"1\" /><path clip-path=\"url(#clip180)\" d=\"M165.642 724.182 L170.526 724.182 L170.526 730.062 L165.642 730.062 L165.642 724.182 Z\" fill=\"#000000\" fill-rule=\"evenodd\" fill-opacity=\"1\" /><path clip-path=\"url(#clip180)\" d=\"M191.29 710.918 Q188.142 710.918 186.29 713.071 Q184.461 715.224 184.461 718.974 Q184.461 722.701 186.29 724.877 Q188.142 727.029 191.29 727.029 Q194.438 727.029 196.267 724.877 Q198.119 722.701 198.119 718.974 Q198.119 715.224 196.267 713.071 Q194.438 710.918 191.29 710.918 M200.572 696.266 L200.572 700.525 Q198.813 699.692 197.007 699.252 Q195.225 698.812 193.466 698.812 Q188.836 698.812 186.382 701.937 Q183.952 705.062 183.605 711.381 Q184.97 709.367 187.031 708.303 Q189.091 707.215 191.568 707.215 Q196.776 707.215 199.785 710.386 Q202.818 713.534 202.818 718.974 Q202.818 724.298 199.669 727.515 Q196.521 730.733 191.29 730.733 Q185.295 730.733 182.123 726.15 Q178.952 721.543 178.952 712.816 Q178.952 704.622 182.841 699.761 Q186.73 694.877 193.281 694.877 Q195.04 694.877 196.822 695.224 Q198.628 695.571 200.572 696.266 Z\" fill=\"#000000\" fill-rule=\"evenodd\" fill-opacity=\"1\" /><path clip-path=\"url(#clip180)\" d=\"M209.693 695.502 L231.915 695.502 L231.915 697.492 L219.368 730.062 L214.484 730.062 L226.29 699.437 L209.693 699.437 L209.693 695.502 Z\" fill=\"#000000\" fill-rule=\"evenodd\" fill-opacity=\"1\" /><path clip-path=\"url(#clip180)\" d=\"M241.081 695.502 L259.438 695.502 L259.438 699.437 L245.364 699.437 L245.364 707.909 Q246.382 707.562 247.401 707.4 Q248.419 707.215 249.438 707.215 Q255.225 707.215 258.604 710.386 Q261.984 713.557 261.984 718.974 Q261.984 724.552 258.512 727.654 Q255.04 730.733 248.72 730.733 Q246.544 730.733 244.276 730.363 Q242.03 729.992 239.623 729.252 L239.623 724.552 Q241.706 725.687 243.928 726.242 Q246.151 726.798 248.627 726.798 Q252.632 726.798 254.97 724.691 Q257.308 722.585 257.308 718.974 Q257.308 715.363 254.97 713.256 Q252.632 711.15 248.627 711.15 Q246.753 711.15 244.878 711.566 Q243.026 711.983 241.081 712.863 L241.081 695.502 Z\" fill=\"#000000\" fill-rule=\"evenodd\" fill-opacity=\"1\" /><path clip-path=\"url(#clip180)\" d=\"M144.485 544.327 Q140.873 544.327 139.045 547.891 Q137.239 551.433 137.239 558.563 Q137.239 565.669 139.045 569.234 Q140.873 572.775 144.485 572.775 Q148.119 572.775 149.924 569.234 Q151.753 565.669 151.753 558.563 Q151.753 551.433 149.924 547.891 Q148.119 544.327 144.485 544.327 M144.485 540.623 Q150.295 540.623 153.35 545.229 Q156.429 549.813 156.429 558.563 Q156.429 567.289 153.35 571.896 Q150.295 576.479 144.485 576.479 Q138.674 576.479 135.596 571.896 Q132.54 567.289 132.54 558.563 Q132.54 549.813 135.596 545.229 Q138.674 540.623 144.485 540.623 Z\" fill=\"#000000\" fill-rule=\"evenodd\" fill-opacity=\"1\" /><path clip-path=\"url(#clip180)\" d=\"M164.646 569.928 L169.531 569.928 L169.531 575.808 L164.646 575.808 L164.646 569.928 Z\" fill=\"#000000\" fill-rule=\"evenodd\" fill-opacity=\"1\" /><path clip-path=\"url(#clip180)\" d=\"M178.535 541.248 L200.757 541.248 L200.757 543.239 L188.211 575.808 L183.327 575.808 L195.132 545.183 L178.535 545.183 L178.535 541.248 Z\" fill=\"#000000\" fill-rule=\"evenodd\" fill-opacity=\"1\" /><path clip-path=\"url(#clip180)\" d=\"M219.878 544.327 Q216.267 544.327 214.438 547.891 Q212.632 551.433 212.632 558.563 Q212.632 565.669 214.438 569.234 Q216.267 572.775 219.878 572.775 Q223.512 572.775 225.317 569.234 Q227.146 565.669 227.146 558.563 Q227.146 551.433 225.317 547.891 Q223.512 544.327 219.878 544.327 M219.878 540.623 Q225.688 540.623 228.743 545.229 Q231.822 549.813 231.822 558.563 Q231.822 567.289 228.743 571.896 Q225.688 576.479 219.878 576.479 Q214.067 576.479 210.989 571.896 Q207.933 567.289 207.933 558.563 Q207.933 549.813 210.989 545.229 Q214.067 540.623 219.878 540.623 Z\" fill=\"#000000\" fill-rule=\"evenodd\" fill-opacity=\"1\" /><path clip-path=\"url(#clip180)\" d=\"M250.04 544.327 Q246.428 544.327 244.6 547.891 Q242.794 551.433 242.794 558.563 Q242.794 565.669 244.6 569.234 Q246.428 572.775 250.04 572.775 Q253.674 572.775 255.479 569.234 Q257.308 565.669 257.308 558.563 Q257.308 551.433 255.479 547.891 Q253.674 544.327 250.04 544.327 M250.04 540.623 Q255.85 540.623 258.905 545.229 Q261.984 549.813 261.984 558.563 Q261.984 567.289 258.905 571.896 Q255.85 576.479 250.04 576.479 Q244.229 576.479 241.151 571.896 Q238.095 567.289 238.095 558.563 Q238.095 549.813 241.151 545.229 Q244.229 540.623 250.04 540.623 Z\" fill=\"#000000\" fill-rule=\"evenodd\" fill-opacity=\"1\" /><path clip-path=\"url(#clip180)\" d=\"M145.48 390.073 Q141.869 390.073 140.04 393.638 Q138.235 397.179 138.235 404.309 Q138.235 411.415 140.04 414.98 Q141.869 418.522 145.48 418.522 Q149.114 418.522 150.92 414.98 Q152.748 411.415 152.748 404.309 Q152.748 397.179 150.92 393.638 Q149.114 390.073 145.48 390.073 M145.48 386.369 Q151.29 386.369 154.346 390.976 Q157.424 395.559 157.424 404.309 Q157.424 413.036 154.346 417.642 Q151.29 422.225 145.48 422.225 Q139.67 422.225 136.591 417.642 Q133.536 413.036 133.536 404.309 Q133.536 395.559 136.591 390.976 Q139.67 386.369 145.48 386.369 Z\" fill=\"#000000\" fill-rule=\"evenodd\" fill-opacity=\"1\" /><path clip-path=\"url(#clip180)\" d=\"M165.642 415.674 L170.526 415.674 L170.526 421.554 L165.642 421.554 L165.642 415.674 Z\" fill=\"#000000\" fill-rule=\"evenodd\" fill-opacity=\"1\" /><path clip-path=\"url(#clip180)\" d=\"M179.531 386.994 L201.753 386.994 L201.753 388.985 L189.207 421.554 L184.322 421.554 L196.128 390.929 L179.531 390.929 L179.531 386.994 Z\" fill=\"#000000\" fill-rule=\"evenodd\" fill-opacity=\"1\" /><path clip-path=\"url(#clip180)\" d=\"M214.901 417.619 L231.22 417.619 L231.22 421.554 L209.276 421.554 L209.276 417.619 Q211.938 414.864 216.521 410.235 Q221.128 405.582 222.308 404.239 Q224.554 401.716 225.433 399.98 Q226.336 398.221 226.336 396.531 Q226.336 393.776 224.392 392.04 Q222.47 390.304 219.368 390.304 Q217.169 390.304 214.716 391.068 Q212.285 391.832 209.507 393.383 L209.507 388.661 Q212.331 387.526 214.785 386.948 Q217.239 386.369 219.276 386.369 Q224.646 386.369 227.841 389.054 Q231.035 391.739 231.035 396.23 Q231.035 398.36 230.225 400.281 Q229.438 402.179 227.331 404.772 Q226.753 405.443 223.651 408.661 Q220.549 411.855 214.901 417.619 Z\" fill=\"#000000\" fill-rule=\"evenodd\" fill-opacity=\"1\" /><path clip-path=\"url(#clip180)\" d=\"M241.081 386.994 L259.438 386.994 L259.438 390.929 L245.364 390.929 L245.364 399.401 Q246.382 399.054 247.401 398.892 Q248.419 398.707 249.438 398.707 Q255.225 398.707 258.604 401.878 Q261.984 405.05 261.984 410.466 Q261.984 416.045 258.512 419.147 Q255.04 422.225 248.72 422.225 Q246.544 422.225 244.276 421.855 Q242.03 421.485 239.623 420.744 L239.623 416.045 Q241.706 417.179 243.928 417.735 Q246.151 418.29 248.627 418.29 Q252.632 418.29 254.97 416.184 Q257.308 414.077 257.308 410.466 Q257.308 406.855 254.97 404.749 Q252.632 402.642 248.627 402.642 Q246.753 402.642 244.878 403.059 Q243.026 403.475 241.081 404.355 L241.081 386.994 Z\" fill=\"#000000\" fill-rule=\"evenodd\" fill-opacity=\"1\" /><path clip-path=\"url(#clip180)\" d=\"M144.485 235.819 Q140.873 235.819 139.045 239.384 Q137.239 242.925 137.239 250.055 Q137.239 257.161 139.045 260.726 Q140.873 264.268 144.485 264.268 Q148.119 264.268 149.924 260.726 Q151.753 257.161 151.753 250.055 Q151.753 242.925 149.924 239.384 Q148.119 235.819 144.485 235.819 M144.485 232.115 Q150.295 232.115 153.35 236.722 Q156.429 241.305 156.429 250.055 Q156.429 258.782 153.35 263.388 Q150.295 267.972 144.485 267.972 Q138.674 267.972 135.596 263.388 Q132.54 258.782 132.54 250.055 Q132.54 241.305 135.596 236.722 Q138.674 232.115 144.485 232.115 Z\" fill=\"#000000\" fill-rule=\"evenodd\" fill-opacity=\"1\" /><path clip-path=\"url(#clip180)\" d=\"M164.646 261.421 L169.531 261.421 L169.531 267.3 L164.646 267.3 L164.646 261.421 Z\" fill=\"#000000\" fill-rule=\"evenodd\" fill-opacity=\"1\" /><path clip-path=\"url(#clip180)\" d=\"M178.535 232.74 L200.757 232.74 L200.757 234.731 L188.211 267.3 L183.327 267.3 L195.132 236.675 L178.535 236.675 L178.535 232.74 Z\" fill=\"#000000\" fill-rule=\"evenodd\" fill-opacity=\"1\" /><path clip-path=\"url(#clip180)\" d=\"M209.924 232.74 L228.28 232.74 L228.28 236.675 L214.206 236.675 L214.206 245.148 Q215.225 244.8 216.243 244.638 Q217.262 244.453 218.28 244.453 Q224.067 244.453 227.447 247.624 Q230.827 250.796 230.827 256.212 Q230.827 261.791 227.354 264.893 Q223.882 267.972 217.563 267.972 Q215.387 267.972 213.118 267.601 Q210.873 267.231 208.466 266.49 L208.466 261.791 Q210.549 262.925 212.771 263.481 Q214.993 264.036 217.47 264.036 Q221.475 264.036 223.813 261.93 Q226.151 259.823 226.151 256.212 Q226.151 252.601 223.813 250.495 Q221.475 248.388 217.47 248.388 Q215.595 248.388 213.72 248.805 Q211.868 249.222 209.924 250.101 L209.924 232.74 Z\" fill=\"#000000\" fill-rule=\"evenodd\" fill-opacity=\"1\" /><path clip-path=\"url(#clip180)\" d=\"M250.04 235.819 Q246.428 235.819 244.6 239.384 Q242.794 242.925 242.794 250.055 Q242.794 257.161 244.6 260.726 Q246.428 264.268 250.04 264.268 Q253.674 264.268 255.479 260.726 Q257.308 257.161 257.308 250.055 Q257.308 242.925 255.479 239.384 Q253.674 235.819 250.04 235.819 M250.04 232.115 Q255.85 232.115 258.905 236.722 Q261.984 241.305 261.984 250.055 Q261.984 258.782 258.905 263.388 Q255.85 267.972 250.04 267.972 Q244.229 267.972 241.151 263.388 Q238.095 258.782 238.095 250.055 Q238.095 241.305 241.151 236.722 Q244.229 232.115 250.04 232.115 Z\" fill=\"#000000\" fill-rule=\"evenodd\" fill-opacity=\"1\" /><path clip-path=\"url(#clip180)\" d=\"M145.48 81.5651 Q141.869 81.5651 140.04 85.1299 Q138.235 88.6716 138.235 95.8012 Q138.235 102.908 140.04 106.472 Q141.869 110.014 145.48 110.014 Q149.114 110.014 150.92 106.472 Q152.748 102.908 152.748 95.8012 Q152.748 88.6716 150.92 85.1299 Q149.114 81.5651 145.48 81.5651 M145.48 77.8614 Q151.29 77.8614 154.346 82.4679 Q157.424 87.0512 157.424 95.8012 Q157.424 104.528 154.346 109.134 Q151.29 113.718 145.48 113.718 Q139.67 113.718 136.591 109.134 Q133.536 104.528 133.536 95.8012 Q133.536 87.0512 136.591 82.4679 Q139.67 77.8614 145.48 77.8614 Z\" fill=\"#000000\" fill-rule=\"evenodd\" fill-opacity=\"1\" /><path clip-path=\"url(#clip180)\" d=\"M165.642 107.167 L170.526 107.167 L170.526 113.046 L165.642 113.046 L165.642 107.167 Z\" fill=\"#000000\" fill-rule=\"evenodd\" fill-opacity=\"1\" /><path clip-path=\"url(#clip180)\" d=\"M179.531 78.4864 L201.753 78.4864 L201.753 80.4772 L189.207 113.046 L184.322 113.046 L196.128 82.4216 L179.531 82.4216 L179.531 78.4864 Z\" fill=\"#000000\" fill-rule=\"evenodd\" fill-opacity=\"1\" /><path clip-path=\"url(#clip180)\" d=\"M209.693 78.4864 L231.915 78.4864 L231.915 80.4772 L219.368 113.046 L214.484 113.046 L226.29 82.4216 L209.693 82.4216 L209.693 78.4864 Z\" fill=\"#000000\" fill-rule=\"evenodd\" fill-opacity=\"1\" /><path clip-path=\"url(#clip180)\" d=\"M241.081 78.4864 L259.438 78.4864 L259.438 82.4216 L245.364 82.4216 L245.364 90.8938 Q246.382 90.5466 247.401 90.3845 Q248.419 90.1993 249.438 90.1993 Q255.225 90.1993 258.604 93.3706 Q261.984 96.5419 261.984 101.959 Q261.984 107.537 258.512 110.639 Q255.04 113.718 248.72 113.718 Q246.544 113.718 244.276 113.347 Q242.03 112.977 239.623 112.236 L239.623 107.537 Q241.706 108.671 243.928 109.227 Q246.151 109.783 248.627 109.783 Q252.632 109.783 254.97 107.676 Q257.308 105.57 257.308 101.959 Q257.308 98.3474 254.97 96.241 Q252.632 94.1345 248.627 94.1345 Q246.753 94.1345 244.878 94.5512 Q243.026 94.9678 241.081 95.8475 L241.081 78.4864 Z\" fill=\"#000000\" fill-rule=\"evenodd\" fill-opacity=\"1\" /><path clip-path=\"url(#clip180)\" d=\"M44.098 684.476 L67.7466 693.197 L67.7466 675.723 L44.098 684.476 M37.7642 688.104 L37.7642 680.816 L85.2842 662.705 L85.2842 669.389 L73.0938 673.718 L73.0938 695.138 L85.2842 699.467 L85.2842 706.247 L37.7642 688.104 Z\" fill=\"#000000\" fill-rule=\"evenodd\" fill-opacity=\"1\" /><path clip-path=\"url(#clip180)\" d=\"M55.1107 635.364 Q54.5378 636.351 54.2832 637.529 Q53.9967 638.675 53.9967 640.075 Q53.9967 645.04 57.2432 647.714 Q60.4579 650.356 66.5053 650.356 L85.2842 650.356 L85.2842 656.244 L49.6362 656.244 L49.6362 650.356 L55.1744 650.356 Q51.9279 648.51 50.3683 645.55 Q48.7768 642.589 48.7768 638.356 Q48.7768 637.752 48.8723 637.019 Q48.936 636.287 49.0951 635.396 L55.1107 635.364 Z\" fill=\"#000000\" fill-rule=\"evenodd\" fill-opacity=\"1\" /><path clip-path=\"url(#clip180)\" d=\"M65.9961 600.162 L68.8606 600.162 L68.8606 627.089 Q74.9081 626.707 78.0909 623.461 Q81.2419 620.182 81.2419 614.358 Q81.2419 610.984 80.4144 607.833 Q79.5869 604.65 77.9318 601.531 L83.4699 601.531 Q84.8067 604.682 85.507 607.992 Q86.2072 611.302 86.2072 614.708 Q86.2072 623.238 81.2419 628.235 Q76.2767 633.2 67.8103 633.2 Q59.0574 633.2 53.9331 628.489 Q48.7768 623.747 48.7768 615.726 Q48.7768 608.533 53.4238 604.363 Q58.0389 600.162 65.9961 600.162 M64.2773 606.018 Q59.4712 606.082 56.6066 608.724 Q53.7421 611.334 53.7421 615.663 Q53.7421 620.564 56.5112 623.524 Q59.2802 626.452 64.3092 626.898 L64.2773 606.018 Z\" fill=\"#000000\" fill-rule=\"evenodd\" fill-opacity=\"1\" /><path clip-path=\"url(#clip180)\" d=\"M67.3647 574.349 Q67.3647 581.447 68.9879 584.184 Q70.6112 586.921 74.5261 586.921 Q77.6453 586.921 79.4914 584.884 Q81.3056 582.815 81.3056 579.283 Q81.3056 574.413 77.8681 571.485 Q74.3988 568.524 68.6697 568.524 L67.3647 568.524 L67.3647 574.349 M64.9457 562.668 L85.2842 562.668 L85.2842 568.524 L79.8733 568.524 Q83.1198 570.53 84.6794 573.522 Q86.2072 576.513 86.2072 580.842 Q86.2072 586.317 83.1516 589.563 Q80.0643 592.778 74.9081 592.778 Q68.8925 592.778 65.8369 588.767 Q62.7814 584.725 62.7814 576.736 L62.7814 568.524 L62.2085 568.524 Q58.1662 568.524 55.9701 571.198 Q53.7421 573.84 53.7421 578.646 Q53.7421 581.701 54.4741 584.598 Q55.2062 587.494 56.6703 590.168 L51.2595 590.168 Q50.0181 586.953 49.4134 583.929 Q48.7768 580.906 48.7768 578.041 Q48.7768 570.307 52.7872 566.487 Q56.7976 562.668 64.9457 562.668 Z\" fill=\"#000000\" fill-rule=\"evenodd\" fill-opacity=\"1\" /><path clip-path=\"url(#clip180)\" d=\"M37.7642 551.082 L37.7642 544.621 L66.6326 544.621 Q74.2715 544.621 77.6453 541.852 Q80.9873 539.083 80.9873 532.877 Q80.9873 526.702 77.6453 523.933 Q74.2715 521.164 66.6326 521.164 L37.7642 521.164 L37.7642 514.702 L67.4284 514.702 Q76.7223 514.702 81.4647 519.318 Q86.2072 523.901 86.2072 532.877 Q86.2072 541.884 81.4647 546.499 Q76.7223 551.082 67.4284 551.082 L37.7642 551.082 Z\" fill=\"#000000\" fill-rule=\"evenodd\" fill-opacity=\"1\" /><path clip-path=\"url(#clip180)\" d=\"M63.7681 473.262 L85.2842 473.262 L85.2842 479.118 L63.959 479.118 Q58.8983 479.118 56.3838 481.091 Q53.8694 483.065 53.8694 487.012 Q53.8694 491.754 56.8931 494.491 Q59.9168 497.229 65.1367 497.229 L85.2842 497.229 L85.2842 503.117 L49.6362 503.117 L49.6362 497.229 L55.1744 497.229 Q51.9597 495.128 50.3683 492.295 Q48.7768 489.431 48.7768 485.707 Q48.7768 479.564 52.5963 476.413 Q56.3838 473.262 63.7681 473.262 Z\" fill=\"#000000\" fill-rule=\"evenodd\" fill-opacity=\"1\" /><path clip-path=\"url(#clip180)\" d=\"M55.0471 438.123 L35.759 438.123 L35.759 432.267 L85.2842 432.267 L85.2842 438.123 L79.937 438.123 Q83.1198 439.969 84.6794 442.802 Q86.2072 445.603 86.2072 449.549 Q86.2072 456.011 81.051 460.085 Q75.8947 464.127 67.492 464.127 Q59.0893 464.127 53.9331 460.085 Q48.7768 456.011 48.7768 449.549 Q48.7768 445.603 50.3364 442.802 Q51.8642 439.969 55.0471 438.123 M67.492 458.079 Q73.9532 458.079 77.6453 455.438 Q81.3056 452.764 81.3056 448.117 Q81.3056 443.47 77.6453 440.797 Q73.9532 438.123 67.492 438.123 Q61.0308 438.123 57.3705 440.797 Q53.6784 443.47 53.6784 448.117 Q53.6784 452.764 57.3705 455.438 Q61.0308 458.079 67.492 458.079 Z\" fill=\"#000000\" fill-rule=\"evenodd\" fill-opacity=\"1\" /><path clip-path=\"url(#clip180)\" d=\"M65.9961 389.712 L68.8606 389.712 L68.8606 416.639 Q74.9081 416.257 78.0909 413.01 Q81.2419 409.732 81.2419 403.907 Q81.2419 400.533 80.4144 397.382 Q79.5869 394.2 77.9318 391.08 L83.4699 391.08 Q84.8067 394.231 85.507 397.542 Q86.2072 400.852 86.2072 404.257 Q86.2072 412.787 81.2419 417.785 Q76.2767 422.75 67.8103 422.75 Q59.0574 422.75 53.9331 418.039 Q48.7768 413.297 48.7768 405.276 Q48.7768 398.083 53.4238 393.913 Q58.0389 389.712 65.9961 389.712 M64.2773 395.568 Q59.4712 395.632 56.6066 398.274 Q53.7421 400.884 53.7421 405.212 Q53.7421 410.114 56.5112 413.074 Q59.2802 416.002 64.3092 416.448 L64.2773 395.568 Z\" fill=\"#000000\" fill-rule=\"evenodd\" fill-opacity=\"1\" /><path clip-path=\"url(#clip180)\" d=\"M55.1107 359.443 Q54.5378 360.43 54.2832 361.607 Q53.9967 362.753 53.9967 364.153 Q53.9967 369.119 57.2432 371.792 Q60.4579 374.434 66.5053 374.434 L85.2842 374.434 L85.2842 380.322 L49.6362 380.322 L49.6362 374.434 L55.1744 374.434 Q51.9279 372.588 50.3683 369.628 Q48.7768 366.668 48.7768 362.435 Q48.7768 361.83 48.8723 361.098 Q48.936 360.366 49.0951 359.475 L55.1107 359.443 Z\" fill=\"#000000\" fill-rule=\"evenodd\" fill-opacity=\"1\" /><path clip-path=\"url(#clip180)\" d=\"M41.4244 317.461 L48.2039 317.461 Q45.1802 320.708 43.6843 324.4 Q42.1883 328.06 42.1883 332.198 Q42.1883 340.346 47.1854 344.674 Q52.1507 349.003 61.5719 349.003 Q70.9613 349.003 75.9584 344.674 Q80.9236 340.346 80.9236 332.198 Q80.9236 328.06 79.4277 324.4 Q77.9318 320.708 74.9081 317.461 L81.6239 317.461 Q83.9155 320.835 85.0614 324.622 Q86.2072 328.378 86.2072 332.58 Q86.2072 343.369 79.6187 349.576 Q72.9983 355.783 61.5719 355.783 Q50.1136 355.783 43.5251 349.576 Q36.9048 343.369 36.9048 332.58 Q36.9048 328.315 38.0506 324.559 Q39.1646 320.771 41.4244 317.461 Z\" fill=\"#000000\" fill-rule=\"evenodd\" fill-opacity=\"1\" /><path clip-path=\"url(#clip180)\" d=\"M71.2159 308.39 L49.6362 308.39 L49.6362 302.533 L70.9931 302.533 Q76.0539 302.533 78.6002 300.56 Q81.1146 298.587 81.1146 294.64 Q81.1146 289.897 78.0909 287.16 Q75.0672 284.391 69.8473 284.391 L49.6362 284.391 L49.6362 278.535 L85.2842 278.535 L85.2842 284.391 L79.8096 284.391 Q83.0562 286.524 84.6476 289.356 Q86.2072 292.157 86.2072 295.881 Q86.2072 302.024 82.3878 305.207 Q78.5683 308.39 71.2159 308.39 M48.7768 293.653 L48.7768 293.653 Z\" fill=\"#000000\" fill-rule=\"evenodd\" fill-opacity=\"1\" /><path clip-path=\"url(#clip180)\" d=\"M55.1107 245.815 Q54.5378 246.802 54.2832 247.979 Q53.9967 249.125 53.9967 250.526 Q53.9967 255.491 57.2432 258.164 Q60.4579 260.806 66.5053 260.806 L85.2842 260.806 L85.2842 266.694 L49.6362 266.694 L49.6362 260.806 L55.1744 260.806 Q51.9279 258.96 50.3683 256 Q48.7768 253.04 48.7768 248.807 Q48.7768 248.202 48.8723 247.47 Q48.936 246.738 49.0951 245.847 L55.1107 245.815 Z\" fill=\"#000000\" fill-rule=\"evenodd\" fill-opacity=\"1\" /><path clip-path=\"url(#clip180)\" d=\"M49.6362 243.873 L49.6362 237.667 L79.555 226.527 L49.6362 215.387 L49.6362 209.18 L85.2842 222.548 L85.2842 230.505 L49.6362 243.873 Z\" fill=\"#000000\" fill-rule=\"evenodd\" fill-opacity=\"1\" /><path clip-path=\"url(#clip180)\" d=\"M65.9961 170.604 L68.8606 170.604 L68.8606 197.531 Q74.9081 197.149 78.0909 193.903 Q81.2419 190.624 81.2419 184.8 Q81.2419 181.426 80.4144 178.275 Q79.5869 175.092 77.9318 171.973 L83.4699 171.973 Q84.8067 175.124 85.507 178.434 Q86.2072 181.744 86.2072 185.15 Q86.2072 193.68 81.2419 198.677 Q76.2767 203.642 67.8103 203.642 Q59.0574 203.642 53.9331 198.932 Q48.7768 194.189 48.7768 186.168 Q48.7768 178.975 53.4238 174.806 Q58.0389 170.604 65.9961 170.604 M64.2773 176.461 Q59.4712 176.524 56.6066 179.166 Q53.7421 181.776 53.7421 186.105 Q53.7421 191.006 56.5112 193.966 Q59.2802 196.895 64.3092 197.34 L64.2773 176.461 Z\" fill=\"#000000\" fill-rule=\"evenodd\" fill-opacity=\"1\" /><circle clip-path=\"url(#clip182)\" cx=\"459.406\" cy=\"135.216\" r=\"14.4\" fill=\"#009af9\" fill-rule=\"evenodd\" fill-opacity=\"1\" stroke=\"#000000\" stroke-opacity=\"1\" stroke-width=\"4\"/>\n",
       "<circle clip-path=\"url(#clip182)\" cx=\"1031.31\" cy=\"521.262\" r=\"14.4\" fill=\"#009af9\" fill-rule=\"evenodd\" fill-opacity=\"1\" stroke=\"#000000\" stroke-opacity=\"1\" stroke-width=\"4\"/>\n",
       "<circle clip-path=\"url(#clip182)\" cx=\"745.358\" cy=\"85.8908\" r=\"14.4\" fill=\"#009af9\" fill-rule=\"evenodd\" fill-opacity=\"1\" stroke=\"#000000\" stroke-opacity=\"1\" stroke-width=\"4\"/>\n",
       "<circle clip-path=\"url(#clip182)\" cx=\"745.358\" cy=\"251.017\" r=\"14.4\" fill=\"#009af9\" fill-rule=\"evenodd\" fill-opacity=\"1\" stroke=\"#000000\" stroke-opacity=\"1\" stroke-width=\"4\"/>\n",
       "<circle clip-path=\"url(#clip182)\" cx=\"602.382\" cy=\"98.9958\" r=\"14.4\" fill=\"#009af9\" fill-rule=\"evenodd\" fill-opacity=\"1\" stroke=\"#000000\" stroke-opacity=\"1\" stroke-width=\"4\"/>\n",
       "<circle clip-path=\"url(#clip182)\" cx=\"745.358\" cy=\"99.0499\" r=\"14.4\" fill=\"#009af9\" fill-rule=\"evenodd\" fill-opacity=\"1\" stroke=\"#000000\" stroke-opacity=\"1\" stroke-width=\"4\"/>\n",
       "<circle clip-path=\"url(#clip182)\" cx=\"888.334\" cy=\"69.3864\" r=\"14.4\" fill=\"#009af9\" fill-rule=\"evenodd\" fill-opacity=\"1\" stroke=\"#000000\" stroke-opacity=\"1\" stroke-width=\"4\"/>\n",
       "<circle clip-path=\"url(#clip182)\" cx=\"1031.31\" cy=\"82.5251\" r=\"14.4\" fill=\"#009af9\" fill-rule=\"evenodd\" fill-opacity=\"1\" stroke=\"#000000\" stroke-opacity=\"1\" stroke-width=\"4\"/>\n",
       "<circle clip-path=\"url(#clip182)\" cx=\"745.358\" cy=\"83.7025\" r=\"14.4\" fill=\"#009af9\" fill-rule=\"evenodd\" fill-opacity=\"1\" stroke=\"#000000\" stroke-opacity=\"1\" stroke-width=\"4\"/>\n",
       "<circle clip-path=\"url(#clip182)\" cx=\"316.43\" cy=\"245.002\" r=\"14.4\" fill=\"#009af9\" fill-rule=\"evenodd\" fill-opacity=\"1\" stroke=\"#000000\" stroke-opacity=\"1\" stroke-width=\"4\"/>\n",
       "<circle clip-path=\"url(#clip182)\" cx=\"888.334\" cy=\"90.9272\" r=\"14.4\" fill=\"#009af9\" fill-rule=\"evenodd\" fill-opacity=\"1\" stroke=\"#000000\" stroke-opacity=\"1\" stroke-width=\"4\"/>\n",
       "<circle clip-path=\"url(#clip182)\" cx=\"459.406\" cy=\"113.221\" r=\"14.4\" fill=\"#009af9\" fill-rule=\"evenodd\" fill-opacity=\"1\" stroke=\"#000000\" stroke-opacity=\"1\" stroke-width=\"4\"/>\n",
       "<circle clip-path=\"url(#clip182)\" cx=\"459.406\" cy=\"190.064\" r=\"14.4\" fill=\"#009af9\" fill-rule=\"evenodd\" fill-opacity=\"1\" stroke=\"#000000\" stroke-opacity=\"1\" stroke-width=\"4\"/>\n",
       "<circle clip-path=\"url(#clip182)\" cx=\"888.334\" cy=\"550.916\" r=\"14.4\" fill=\"#009af9\" fill-rule=\"evenodd\" fill-opacity=\"1\" stroke=\"#000000\" stroke-opacity=\"1\" stroke-width=\"4\"/>\n",
       "<circle clip-path=\"url(#clip182)\" cx=\"459.406\" cy=\"637.59\" r=\"14.4\" fill=\"#009af9\" fill-rule=\"evenodd\" fill-opacity=\"1\" stroke=\"#000000\" stroke-opacity=\"1\" stroke-width=\"4\"/>\n",
       "<circle clip-path=\"url(#clip182)\" cx=\"888.334\" cy=\"234.575\" r=\"14.4\" fill=\"#009af9\" fill-rule=\"evenodd\" fill-opacity=\"1\" stroke=\"#000000\" stroke-opacity=\"1\" stroke-width=\"4\"/>\n",
       "<circle clip-path=\"url(#clip182)\" cx=\"1031.31\" cy=\"72.5206\" r=\"14.4\" fill=\"#009af9\" fill-rule=\"evenodd\" fill-opacity=\"1\" stroke=\"#000000\" stroke-opacity=\"1\" stroke-width=\"4\"/>\n",
       "<circle clip-path=\"url(#clip182)\" cx=\"316.43\" cy=\"495.137\" r=\"14.4\" fill=\"#009af9\" fill-rule=\"evenodd\" fill-opacity=\"1\" stroke=\"#000000\" stroke-opacity=\"1\" stroke-width=\"4\"/>\n",
       "<circle clip-path=\"url(#clip182)\" cx=\"459.406\" cy=\"350.575\" r=\"14.4\" fill=\"#009af9\" fill-rule=\"evenodd\" fill-opacity=\"1\" stroke=\"#000000\" stroke-opacity=\"1\" stroke-width=\"4\"/>\n",
       "<circle clip-path=\"url(#clip182)\" cx=\"1031.31\" cy=\"220.505\" r=\"14.4\" fill=\"#009af9\" fill-rule=\"evenodd\" fill-opacity=\"1\" stroke=\"#000000\" stroke-opacity=\"1\" stroke-width=\"4\"/>\n",
       "<circle clip-path=\"url(#clip182)\" cx=\"602.382\" cy=\"93.5149\" r=\"14.4\" fill=\"#009af9\" fill-rule=\"evenodd\" fill-opacity=\"1\" stroke=\"#000000\" stroke-opacity=\"1\" stroke-width=\"4\"/>\n",
       "<circle clip-path=\"url(#clip182)\" cx=\"602.382\" cy=\"283.35\" r=\"14.4\" fill=\"#009af9\" fill-rule=\"evenodd\" fill-opacity=\"1\" stroke=\"#000000\" stroke-opacity=\"1\" stroke-width=\"4\"/>\n",
       "<circle clip-path=\"url(#clip182)\" cx=\"602.382\" cy=\"149.325\" r=\"14.4\" fill=\"#009af9\" fill-rule=\"evenodd\" fill-opacity=\"1\" stroke=\"#000000\" stroke-opacity=\"1\" stroke-width=\"4\"/>\n",
       "<circle clip-path=\"url(#clip182)\" cx=\"316.43\" cy=\"209.292\" r=\"14.4\" fill=\"#009af9\" fill-rule=\"evenodd\" fill-opacity=\"1\" stroke=\"#000000\" stroke-opacity=\"1\" stroke-width=\"4\"/>\n",
       "<circle clip-path=\"url(#clip182)\" cx=\"1031.31\" cy=\"78.5797\" r=\"14.4\" fill=\"#009af9\" fill-rule=\"evenodd\" fill-opacity=\"1\" stroke=\"#000000\" stroke-opacity=\"1\" stroke-width=\"4\"/>\n",
       "<circle clip-path=\"url(#clip182)\" cx=\"602.382\" cy=\"97.374\" r=\"14.4\" fill=\"#009af9\" fill-rule=\"evenodd\" fill-opacity=\"1\" stroke=\"#000000\" stroke-opacity=\"1\" stroke-width=\"4\"/>\n",
       "<circle clip-path=\"url(#clip182)\" cx=\"888.334\" cy=\"81.3908\" r=\"14.4\" fill=\"#009af9\" fill-rule=\"evenodd\" fill-opacity=\"1\" stroke=\"#000000\" stroke-opacity=\"1\" stroke-width=\"4\"/>\n",
       "<circle clip-path=\"url(#clip182)\" cx=\"745.358\" cy=\"141.627\" r=\"14.4\" fill=\"#009af9\" fill-rule=\"evenodd\" fill-opacity=\"1\" stroke=\"#000000\" stroke-opacity=\"1\" stroke-width=\"4\"/>\n",
       "<circle clip-path=\"url(#clip182)\" cx=\"316.43\" cy=\"807.464\" r=\"14.4\" fill=\"#009af9\" fill-rule=\"evenodd\" fill-opacity=\"1\" stroke=\"#000000\" stroke-opacity=\"1\" stroke-width=\"4\"/>\n",
       "<circle clip-path=\"url(#clip182)\" cx=\"1031.31\" cy=\"123.171\" r=\"14.4\" fill=\"#009af9\" fill-rule=\"evenodd\" fill-opacity=\"1\" stroke=\"#000000\" stroke-opacity=\"1\" stroke-width=\"4\"/>\n",
       "<circle clip-path=\"url(#clip182)\" cx=\"316.43\" cy=\"243.46\" r=\"14.4\" fill=\"#009af9\" fill-rule=\"evenodd\" fill-opacity=\"1\" stroke=\"#000000\" stroke-opacity=\"1\" stroke-width=\"4\"/>\n",
       "<circle clip-path=\"url(#clip182)\" cx=\"602.382\" cy=\"566.095\" r=\"14.4\" fill=\"#009af9\" fill-rule=\"evenodd\" fill-opacity=\"1\" stroke=\"#000000\" stroke-opacity=\"1\" stroke-width=\"4\"/>\n",
       "<circle clip-path=\"url(#clip182)\" cx=\"745.358\" cy=\"561.527\" r=\"14.4\" fill=\"#009af9\" fill-rule=\"evenodd\" fill-opacity=\"1\" stroke=\"#000000\" stroke-opacity=\"1\" stroke-width=\"4\"/>\n",
       "<circle clip-path=\"url(#clip182)\" cx=\"316.43\" cy=\"301.295\" r=\"14.4\" fill=\"#009af9\" fill-rule=\"evenodd\" fill-opacity=\"1\" stroke=\"#000000\" stroke-opacity=\"1\" stroke-width=\"4\"/>\n",
       "<circle clip-path=\"url(#clip182)\" cx=\"888.334\" cy=\"131.847\" r=\"14.4\" fill=\"#009af9\" fill-rule=\"evenodd\" fill-opacity=\"1\" stroke=\"#000000\" stroke-opacity=\"1\" stroke-width=\"4\"/>\n",
       "<circle clip-path=\"url(#clip182)\" cx=\"459.406\" cy=\"129.917\" r=\"14.4\" fill=\"#009af9\" fill-rule=\"evenodd\" fill-opacity=\"1\" stroke=\"#000000\" stroke-opacity=\"1\" stroke-width=\"4\"/>\n",
       "<path clip-path=\"url(#clip180)\" d=\"\n",
       "M1394.98 829.607 L2152.76 829.607 L2152.76 47.2441 L1394.98 47.2441  Z\n",
       "  \" fill=\"#ffffff\" fill-rule=\"evenodd\" fill-opacity=\"1\"/>\n",
       "<defs>\n",
       "  <clipPath id=\"clip183\">\n",
       "    <rect x=\"1394\" y=\"47\" width=\"759\" height=\"783\"/>\n",
       "  </clipPath>\n",
       "</defs>\n",
       "<path clip-path=\"url(#clip180)\" d=\"\n",
       "M294.984 1789.33 L1052.76 1789.33 L1052.76 1006.97 L294.984 1006.97  Z\n",
       "  \" fill=\"#ffffff\" fill-rule=\"evenodd\" fill-opacity=\"1\"/>\n",
       "<defs>\n",
       "  <clipPath id=\"clip184\">\n",
       "    <rect x=\"294\" y=\"1006\" width=\"759\" height=\"783\"/>\n",
       "  </clipPath>\n",
       "</defs>\n",
       "<polyline clip-path=\"url(#clip184)\" style=\"stroke:#000000; stroke-linecap:round; stroke-linejoin:round; stroke-width:2; stroke-opacity:0.1; fill:none\" points=\"\n",
       "  418.556,1789.33 418.556,1006.97 \n",
       "  \"/>\n",
       "<polyline clip-path=\"url(#clip184)\" style=\"stroke:#000000; stroke-linecap:round; stroke-linejoin:round; stroke-width:2; stroke-opacity:0.1; fill:none\" points=\"\n",
       "  622.807,1789.33 622.807,1006.97 \n",
       "  \"/>\n",
       "<polyline clip-path=\"url(#clip184)\" style=\"stroke:#000000; stroke-linecap:round; stroke-linejoin:round; stroke-width:2; stroke-opacity:0.1; fill:none\" points=\"\n",
       "  827.058,1789.33 827.058,1006.97 \n",
       "  \"/>\n",
       "<polyline clip-path=\"url(#clip184)\" style=\"stroke:#000000; stroke-linecap:round; stroke-linejoin:round; stroke-width:2; stroke-opacity:0.1; fill:none\" points=\"\n",
       "  1031.31,1789.33 1031.31,1006.97 \n",
       "  \"/>\n",
       "<polyline clip-path=\"url(#clip180)\" style=\"stroke:#000000; stroke-linecap:round; stroke-linejoin:round; stroke-width:4; stroke-opacity:1; fill:none\" points=\"\n",
       "  294.984,1789.33 1052.76,1789.33 \n",
       "  \"/>\n",
       "<polyline clip-path=\"url(#clip180)\" style=\"stroke:#000000; stroke-linecap:round; stroke-linejoin:round; stroke-width:4; stroke-opacity:1; fill:none\" points=\"\n",
       "  294.984,1006.97 1052.76,1006.97 \n",
       "  \"/>\n",
       "<polyline clip-path=\"url(#clip180)\" style=\"stroke:#000000; stroke-linecap:round; stroke-linejoin:round; stroke-width:4; stroke-opacity:1; fill:none\" points=\"\n",
       "  418.556,1789.33 418.556,1770.43 \n",
       "  \"/>\n",
       "<polyline clip-path=\"url(#clip180)\" style=\"stroke:#000000; stroke-linecap:round; stroke-linejoin:round; stroke-width:4; stroke-opacity:1; fill:none\" points=\"\n",
       "  622.807,1789.33 622.807,1770.43 \n",
       "  \"/>\n",
       "<polyline clip-path=\"url(#clip180)\" style=\"stroke:#000000; stroke-linecap:round; stroke-linejoin:round; stroke-width:4; stroke-opacity:1; fill:none\" points=\"\n",
       "  827.058,1789.33 827.058,1770.43 \n",
       "  \"/>\n",
       "<polyline clip-path=\"url(#clip180)\" style=\"stroke:#000000; stroke-linecap:round; stroke-linejoin:round; stroke-width:4; stroke-opacity:1; fill:none\" points=\"\n",
       "  1031.31,1789.33 1031.31,1770.43 \n",
       "  \"/>\n",
       "<path clip-path=\"url(#clip180)\" d=\"M397.329 1846.2 L413.649 1846.2 L413.649 1850.13 L391.704 1850.13 L391.704 1846.2 Q394.366 1843.44 398.95 1838.81 Q403.556 1834.16 404.737 1832.82 Q406.982 1830.29 407.862 1828.56 Q408.764 1826.8 408.764 1825.11 Q408.764 1822.35 406.82 1820.62 Q404.899 1818.88 401.797 1818.88 Q399.598 1818.88 397.144 1819.65 Q394.713 1820.41 391.936 1821.96 L391.936 1817.24 Q394.76 1816.1 397.213 1815.53 Q399.667 1814.95 401.704 1814.95 Q407.074 1814.95 410.269 1817.63 Q413.463 1820.32 413.463 1824.81 Q413.463 1826.94 412.653 1828.86 Q411.866 1830.76 409.76 1833.35 Q409.181 1834.02 406.079 1837.24 Q402.977 1840.43 397.329 1846.2 Z\" fill=\"#000000\" fill-rule=\"evenodd\" fill-opacity=\"1\" /><path clip-path=\"url(#clip180)\" d=\"M433.463 1818.65 Q429.852 1818.65 428.023 1822.22 Q426.218 1825.76 426.218 1832.89 Q426.218 1839.99 428.023 1843.56 Q429.852 1847.1 433.463 1847.1 Q437.097 1847.1 438.903 1843.56 Q440.732 1839.99 440.732 1832.89 Q440.732 1825.76 438.903 1822.22 Q437.097 1818.65 433.463 1818.65 M433.463 1814.95 Q439.273 1814.95 442.329 1819.55 Q445.408 1824.14 445.408 1832.89 Q445.408 1841.61 442.329 1846.22 Q439.273 1850.8 433.463 1850.8 Q427.653 1850.8 424.574 1846.22 Q421.519 1841.61 421.519 1832.89 Q421.519 1824.14 424.574 1819.55 Q427.653 1814.95 433.463 1814.95 Z\" fill=\"#000000\" fill-rule=\"evenodd\" fill-opacity=\"1\" /><path clip-path=\"url(#clip180)\" d=\"M610.978 1819.65 L599.173 1838.1 L610.978 1838.1 L610.978 1819.65 M609.752 1815.57 L615.631 1815.57 L615.631 1838.1 L620.562 1838.1 L620.562 1841.98 L615.631 1841.98 L615.631 1850.13 L610.978 1850.13 L610.978 1841.98 L595.377 1841.98 L595.377 1837.47 L609.752 1815.57 Z\" fill=\"#000000\" fill-rule=\"evenodd\" fill-opacity=\"1\" /><path clip-path=\"url(#clip180)\" d=\"M638.293 1818.65 Q634.682 1818.65 632.853 1822.22 Q631.048 1825.76 631.048 1832.89 Q631.048 1839.99 632.853 1843.56 Q634.682 1847.1 638.293 1847.1 Q641.927 1847.1 643.733 1843.56 Q645.562 1839.99 645.562 1832.89 Q645.562 1825.76 643.733 1822.22 Q641.927 1818.65 638.293 1818.65 M638.293 1814.95 Q644.103 1814.95 647.159 1819.55 Q650.238 1824.14 650.238 1832.89 Q650.238 1841.61 647.159 1846.22 Q644.103 1850.8 638.293 1850.8 Q632.483 1850.8 629.404 1846.22 Q626.349 1841.61 626.349 1832.89 Q626.349 1824.14 629.404 1819.55 Q632.483 1814.95 638.293 1814.95 Z\" fill=\"#000000\" fill-rule=\"evenodd\" fill-opacity=\"1\" /><path clip-path=\"url(#clip180)\" d=\"M812.463 1830.99 Q809.315 1830.99 807.464 1833.14 Q805.635 1835.29 805.635 1839.04 Q805.635 1842.77 807.464 1844.95 Q809.315 1847.1 812.463 1847.1 Q815.612 1847.1 817.44 1844.95 Q819.292 1842.77 819.292 1839.04 Q819.292 1835.29 817.44 1833.14 Q815.612 1830.99 812.463 1830.99 M821.746 1816.34 L821.746 1820.6 Q819.987 1819.76 818.181 1819.32 Q816.399 1818.88 814.639 1818.88 Q810.01 1818.88 807.556 1822.01 Q805.126 1825.13 804.778 1831.45 Q806.144 1829.44 808.204 1828.37 Q810.264 1827.29 812.741 1827.29 Q817.95 1827.29 820.959 1830.46 Q823.991 1833.6 823.991 1839.04 Q823.991 1844.37 820.843 1847.59 Q817.695 1850.8 812.463 1850.8 Q806.468 1850.8 803.297 1846.22 Q800.126 1841.61 800.126 1832.89 Q800.126 1824.69 804.014 1819.83 Q807.903 1814.95 814.454 1814.95 Q816.213 1814.95 817.996 1815.29 Q819.801 1815.64 821.746 1816.34 Z\" fill=\"#000000\" fill-rule=\"evenodd\" fill-opacity=\"1\" /><path clip-path=\"url(#clip180)\" d=\"M842.047 1818.65 Q838.436 1818.65 836.607 1822.22 Q834.801 1825.76 834.801 1832.89 Q834.801 1839.99 836.607 1843.56 Q838.436 1847.1 842.047 1847.1 Q845.681 1847.1 847.486 1843.56 Q849.315 1839.99 849.315 1832.89 Q849.315 1825.76 847.486 1822.22 Q845.681 1818.65 842.047 1818.65 M842.047 1814.95 Q847.857 1814.95 850.912 1819.55 Q853.991 1824.14 853.991 1832.89 Q853.991 1841.61 850.912 1846.22 Q847.857 1850.8 842.047 1850.8 Q836.237 1850.8 833.158 1846.22 Q830.102 1841.61 830.102 1832.89 Q830.102 1824.14 833.158 1819.55 Q836.237 1814.95 842.047 1814.95 Z\" fill=\"#000000\" fill-rule=\"evenodd\" fill-opacity=\"1\" /><path clip-path=\"url(#clip180)\" d=\"M1016.18 1833.72 Q1012.85 1833.72 1010.93 1835.5 Q1009.03 1837.29 1009.03 1840.41 Q1009.03 1843.54 1010.93 1845.32 Q1012.85 1847.1 1016.18 1847.1 Q1019.52 1847.1 1021.44 1845.32 Q1023.36 1843.51 1023.36 1840.41 Q1023.36 1837.29 1021.44 1835.5 Q1019.54 1833.72 1016.18 1833.72 M1011.51 1831.73 Q1008.5 1830.99 1006.81 1828.93 Q1005.14 1826.87 1005.14 1823.91 Q1005.14 1819.76 1008.08 1817.35 Q1011.04 1814.95 1016.18 1814.95 Q1021.34 1814.95 1024.28 1817.35 Q1027.22 1819.76 1027.22 1823.91 Q1027.22 1826.87 1025.53 1828.93 Q1023.87 1830.99 1020.88 1831.73 Q1024.26 1832.52 1026.14 1834.81 Q1028.03 1837.1 1028.03 1840.41 Q1028.03 1845.43 1024.96 1848.12 Q1021.9 1850.8 1016.18 1850.8 Q1010.46 1850.8 1007.39 1848.12 Q1004.33 1845.43 1004.33 1840.41 Q1004.33 1837.1 1006.23 1834.81 Q1008.13 1832.52 1011.51 1831.73 M1009.79 1824.35 Q1009.79 1827.03 1011.46 1828.54 Q1013.15 1830.04 1016.18 1830.04 Q1019.19 1830.04 1020.88 1828.54 Q1022.59 1827.03 1022.59 1824.35 Q1022.59 1821.66 1020.88 1820.16 Q1019.19 1818.65 1016.18 1818.65 Q1013.15 1818.65 1011.46 1820.16 Q1009.79 1821.66 1009.79 1824.35 Z\" fill=\"#000000\" fill-rule=\"evenodd\" fill-opacity=\"1\" /><path clip-path=\"url(#clip180)\" d=\"M1046.34 1818.65 Q1042.73 1818.65 1040.9 1822.22 Q1039.1 1825.76 1039.1 1832.89 Q1039.1 1839.99 1040.9 1843.56 Q1042.73 1847.1 1046.34 1847.1 Q1049.98 1847.1 1051.78 1843.56 Q1053.61 1839.99 1053.61 1832.89 Q1053.61 1825.76 1051.78 1822.22 Q1049.98 1818.65 1046.34 1818.65 M1046.34 1814.95 Q1052.15 1814.95 1055.21 1819.55 Q1058.29 1824.14 1058.29 1832.89 Q1058.29 1841.61 1055.21 1846.22 Q1052.15 1850.8 1046.34 1850.8 Q1040.53 1850.8 1037.46 1846.22 Q1034.4 1841.61 1034.4 1832.89 Q1034.4 1824.14 1037.46 1819.55 Q1040.53 1814.95 1046.34 1814.95 Z\" fill=\"#000000\" fill-rule=\"evenodd\" fill-opacity=\"1\" /><path clip-path=\"url(#clip180)\" d=\"M588.776 1909.68 L588.776 1931.2 L582.92 1931.2 L582.92 1909.87 Q582.92 1904.81 580.947 1902.3 Q578.973 1899.78 575.026 1899.78 Q570.284 1899.78 567.547 1902.81 Q564.809 1905.83 564.809 1911.05 L564.809 1931.2 L558.921 1931.2 L558.921 1895.55 L564.809 1895.55 L564.809 1901.09 Q566.91 1897.87 569.743 1896.28 Q572.607 1894.69 576.331 1894.69 Q582.474 1894.69 585.625 1898.51 Q588.776 1902.3 588.776 1909.68 Z\" fill=\"#000000\" fill-rule=\"evenodd\" fill-opacity=\"1\" /><path clip-path=\"url(#clip180)\" d=\"M627.543 1942.02 L627.543 1946.57 L593.678 1946.57 L593.678 1942.02 L627.543 1942.02 Z\" fill=\"#000000\" fill-rule=\"evenodd\" fill-opacity=\"1\" /><path clip-path=\"url(#clip180)\" d=\"M638.843 1885.43 L638.843 1895.55 L650.906 1895.55 L650.906 1900.1 L638.843 1900.1 L638.843 1919.45 Q638.843 1923.81 640.02 1925.05 Q641.23 1926.29 644.89 1926.29 L650.906 1926.29 L650.906 1931.2 L644.89 1931.2 Q638.111 1931.2 635.532 1928.68 Q632.954 1926.14 632.954 1919.45 L632.954 1900.1 L628.657 1900.1 L628.657 1895.55 L632.954 1895.55 L632.954 1885.43 L638.843 1885.43 Z\" fill=\"#000000\" fill-rule=\"evenodd\" fill-opacity=\"1\" /><path clip-path=\"url(#clip180)\" d=\"M679.265 1901.02 Q678.278 1900.45 677.101 1900.2 Q675.955 1899.91 674.554 1899.91 Q669.589 1899.91 666.915 1903.16 Q664.274 1906.37 664.274 1912.42 L664.274 1931.2 L658.385 1931.2 L658.385 1895.55 L664.274 1895.55 L664.274 1901.09 Q666.12 1897.84 669.08 1896.28 Q672.04 1894.69 676.273 1894.69 Q676.878 1894.69 677.61 1894.78 Q678.342 1894.85 679.233 1895.01 L679.265 1901.02 Z\" fill=\"#000000\" fill-rule=\"evenodd\" fill-opacity=\"1\" /><path clip-path=\"url(#clip180)\" d=\"M714.467 1911.91 L714.467 1914.77 L687.54 1914.77 Q687.922 1920.82 691.169 1924 Q694.447 1927.15 700.272 1927.15 Q703.645 1927.15 706.797 1926.33 Q709.979 1925.5 713.099 1923.84 L713.099 1929.38 Q709.948 1930.72 706.637 1931.42 Q703.327 1932.12 699.922 1932.12 Q691.392 1932.12 686.394 1927.15 Q681.429 1922.19 681.429 1913.72 Q681.429 1904.97 686.14 1899.85 Q690.882 1894.69 698.903 1894.69 Q706.096 1894.69 710.266 1899.34 Q714.467 1903.95 714.467 1911.91 M708.611 1910.19 Q708.547 1905.38 705.905 1902.52 Q703.295 1899.65 698.967 1899.65 Q694.065 1899.65 691.105 1902.42 Q688.177 1905.19 687.731 1910.22 L708.611 1910.19 Z\" fill=\"#000000\" fill-rule=\"evenodd\" fill-opacity=\"1\" /><path clip-path=\"url(#clip180)\" d=\"M754.571 1911.91 L754.571 1914.77 L727.644 1914.77 Q728.026 1920.82 731.273 1924 Q734.551 1927.15 740.376 1927.15 Q743.749 1927.15 746.9 1926.33 Q750.083 1925.5 753.203 1923.84 L753.203 1929.38 Q750.052 1930.72 746.741 1931.42 Q743.431 1932.12 740.026 1932.12 Q731.495 1932.12 726.498 1927.15 Q721.533 1922.19 721.533 1913.72 Q721.533 1904.97 726.244 1899.85 Q730.986 1894.69 739.007 1894.69 Q746.2 1894.69 750.37 1899.34 Q754.571 1903.95 754.571 1911.91 M748.715 1910.19 Q748.651 1905.38 746.009 1902.52 Q743.399 1899.65 739.071 1899.65 Q734.169 1899.65 731.209 1902.42 Q728.281 1905.19 727.835 1910.22 L748.715 1910.19 Z\" fill=\"#000000\" fill-rule=\"evenodd\" fill-opacity=\"1\" /><path clip-path=\"url(#clip180)\" d=\"M786.909 1896.6 L786.909 1902.14 Q784.426 1900.86 781.753 1900.23 Q779.079 1899.59 776.215 1899.59 Q771.854 1899.59 769.658 1900.93 Q767.494 1902.26 767.494 1904.94 Q767.494 1906.98 769.053 1908.15 Q770.613 1909.3 775.323 1910.35 L777.329 1910.79 Q783.567 1912.13 786.177 1914.58 Q788.819 1917 788.819 1921.36 Q788.819 1926.33 784.872 1929.22 Q780.957 1932.12 774.082 1932.12 Q771.217 1932.12 768.098 1931.55 Q765.011 1931.01 761.573 1929.89 L761.573 1923.84 Q764.82 1925.53 767.971 1926.39 Q771.122 1927.22 774.209 1927.22 Q778.347 1927.22 780.575 1925.82 Q782.803 1924.39 782.803 1921.81 Q782.803 1919.42 781.18 1918.15 Q779.588 1916.87 774.146 1915.7 L772.109 1915.22 Q766.666 1914.07 764.247 1911.72 Q761.828 1909.33 761.828 1905.19 Q761.828 1900.16 765.393 1897.43 Q768.958 1894.69 775.514 1894.69 Q778.761 1894.69 781.625 1895.17 Q784.49 1895.64 786.909 1896.6 Z\" fill=\"#000000\" fill-rule=\"evenodd\" fill-opacity=\"1\" /><polyline clip-path=\"url(#clip184)\" style=\"stroke:#000000; stroke-linecap:round; stroke-linejoin:round; stroke-width:2; stroke-opacity:0.1; fill:none\" points=\"\n",
       "  294.984,1688.11 1052.76,1688.11 \n",
       "  \"/>\n",
       "<polyline clip-path=\"url(#clip184)\" style=\"stroke:#000000; stroke-linecap:round; stroke-linejoin:round; stroke-width:2; stroke-opacity:0.1; fill:none\" points=\"\n",
       "  294.984,1556.31 1052.76,1556.31 \n",
       "  \"/>\n",
       "<polyline clip-path=\"url(#clip184)\" style=\"stroke:#000000; stroke-linecap:round; stroke-linejoin:round; stroke-width:2; stroke-opacity:0.1; fill:none\" points=\"\n",
       "  294.984,1424.51 1052.76,1424.51 \n",
       "  \"/>\n",
       "<polyline clip-path=\"url(#clip184)\" style=\"stroke:#000000; stroke-linecap:round; stroke-linejoin:round; stroke-width:2; stroke-opacity:0.1; fill:none\" points=\"\n",
       "  294.984,1292.71 1052.76,1292.71 \n",
       "  \"/>\n",
       "<polyline clip-path=\"url(#clip184)\" style=\"stroke:#000000; stroke-linecap:round; stroke-linejoin:round; stroke-width:2; stroke-opacity:0.1; fill:none\" points=\"\n",
       "  294.984,1160.91 1052.76,1160.91 \n",
       "  \"/>\n",
       "<polyline clip-path=\"url(#clip184)\" style=\"stroke:#000000; stroke-linecap:round; stroke-linejoin:round; stroke-width:2; stroke-opacity:0.1; fill:none\" points=\"\n",
       "  294.984,1029.11 1052.76,1029.11 \n",
       "  \"/>\n",
       "<polyline clip-path=\"url(#clip180)\" style=\"stroke:#000000; stroke-linecap:round; stroke-linejoin:round; stroke-width:4; stroke-opacity:1; fill:none\" points=\"\n",
       "  294.984,1789.33 294.984,1006.97 \n",
       "  \"/>\n",
       "<polyline clip-path=\"url(#clip180)\" style=\"stroke:#000000; stroke-linecap:round; stroke-linejoin:round; stroke-width:4; stroke-opacity:1; fill:none\" points=\"\n",
       "  1052.76,1789.33 1052.76,1006.97 \n",
       "  \"/>\n",
       "<polyline clip-path=\"url(#clip180)\" style=\"stroke:#000000; stroke-linecap:round; stroke-linejoin:round; stroke-width:4; stroke-opacity:1; fill:none\" points=\"\n",
       "  294.984,1688.11 313.882,1688.11 \n",
       "  \"/>\n",
       "<polyline clip-path=\"url(#clip180)\" style=\"stroke:#000000; stroke-linecap:round; stroke-linejoin:round; stroke-width:4; stroke-opacity:1; fill:none\" points=\"\n",
       "  294.984,1556.31 313.882,1556.31 \n",
       "  \"/>\n",
       "<polyline clip-path=\"url(#clip180)\" style=\"stroke:#000000; stroke-linecap:round; stroke-linejoin:round; stroke-width:4; stroke-opacity:1; fill:none\" points=\"\n",
       "  294.984,1424.51 313.882,1424.51 \n",
       "  \"/>\n",
       "<polyline clip-path=\"url(#clip180)\" style=\"stroke:#000000; stroke-linecap:round; stroke-linejoin:round; stroke-width:4; stroke-opacity:1; fill:none\" points=\"\n",
       "  294.984,1292.71 313.882,1292.71 \n",
       "  \"/>\n",
       "<polyline clip-path=\"url(#clip180)\" style=\"stroke:#000000; stroke-linecap:round; stroke-linejoin:round; stroke-width:4; stroke-opacity:1; fill:none\" points=\"\n",
       "  294.984,1160.91 313.882,1160.91 \n",
       "  \"/>\n",
       "<polyline clip-path=\"url(#clip180)\" style=\"stroke:#000000; stroke-linecap:round; stroke-linejoin:round; stroke-width:4; stroke-opacity:1; fill:none\" points=\"\n",
       "  294.984,1029.11 313.882,1029.11 \n",
       "  \"/>\n",
       "<path clip-path=\"url(#clip180)\" d=\"M241.081 1670.83 L259.438 1670.83 L259.438 1674.77 L245.364 1674.77 L245.364 1683.24 Q246.382 1682.89 247.401 1682.73 Q248.419 1682.54 249.438 1682.54 Q255.225 1682.54 258.604 1685.71 Q261.984 1688.89 261.984 1694.3 Q261.984 1699.88 258.512 1702.98 Q255.04 1706.06 248.72 1706.06 Q246.544 1706.06 244.276 1705.69 Q242.03 1705.32 239.623 1704.58 L239.623 1699.88 Q241.706 1701.02 243.928 1701.57 Q246.151 1702.13 248.627 1702.13 Q252.632 1702.13 254.97 1700.02 Q257.308 1697.91 257.308 1694.3 Q257.308 1690.69 254.97 1688.59 Q252.632 1686.48 248.627 1686.48 Q246.753 1686.48 244.878 1686.9 Q243.026 1687.31 241.081 1688.19 L241.081 1670.83 Z\" fill=\"#000000\" fill-rule=\"evenodd\" fill-opacity=\"1\" /><path clip-path=\"url(#clip180)\" d=\"M210.688 1569.66 L218.327 1569.66 L218.327 1543.29 L210.017 1544.96 L210.017 1540.7 L218.28 1539.03 L222.956 1539.03 L222.956 1569.66 L230.595 1569.66 L230.595 1573.59 L210.688 1573.59 L210.688 1569.66 Z\" fill=\"#000000\" fill-rule=\"evenodd\" fill-opacity=\"1\" /><path clip-path=\"url(#clip180)\" d=\"M250.04 1542.11 Q246.428 1542.11 244.6 1545.67 Q242.794 1549.22 242.794 1556.35 Q242.794 1563.45 244.6 1567.02 Q246.428 1570.56 250.04 1570.56 Q253.674 1570.56 255.479 1567.02 Q257.308 1563.45 257.308 1556.35 Q257.308 1549.22 255.479 1545.67 Q253.674 1542.11 250.04 1542.11 M250.04 1538.41 Q255.85 1538.41 258.905 1543.01 Q261.984 1547.6 261.984 1556.35 Q261.984 1565.07 258.905 1569.68 Q255.85 1574.26 250.04 1574.26 Q244.229 1574.26 241.151 1569.68 Q238.095 1565.07 238.095 1556.35 Q238.095 1547.6 241.151 1543.01 Q244.229 1538.41 250.04 1538.41 Z\" fill=\"#000000\" fill-rule=\"evenodd\" fill-opacity=\"1\" /><path clip-path=\"url(#clip180)\" d=\"M211.683 1437.86 L219.322 1437.86 L219.322 1411.49 L211.012 1413.16 L211.012 1408.9 L219.276 1407.23 L223.952 1407.23 L223.952 1437.86 L231.591 1437.86 L231.591 1441.79 L211.683 1441.79 L211.683 1437.86 Z\" fill=\"#000000\" fill-rule=\"evenodd\" fill-opacity=\"1\" /><path clip-path=\"url(#clip180)\" d=\"M241.081 1407.23 L259.438 1407.23 L259.438 1411.17 L245.364 1411.17 L245.364 1419.64 Q246.382 1419.29 247.401 1419.13 Q248.419 1418.94 249.438 1418.94 Q255.225 1418.94 258.604 1422.12 Q261.984 1425.29 261.984 1430.7 Q261.984 1436.28 258.512 1439.38 Q255.04 1442.46 248.72 1442.46 Q246.544 1442.46 244.276 1442.09 Q242.03 1441.72 239.623 1440.98 L239.623 1436.28 Q241.706 1437.42 243.928 1437.97 Q246.151 1438.53 248.627 1438.53 Q252.632 1438.53 254.97 1436.42 Q257.308 1434.31 257.308 1430.7 Q257.308 1427.09 254.97 1424.99 Q252.632 1422.88 248.627 1422.88 Q246.753 1422.88 244.878 1423.3 Q243.026 1423.71 241.081 1424.59 L241.081 1407.23 Z\" fill=\"#000000\" fill-rule=\"evenodd\" fill-opacity=\"1\" /><path clip-path=\"url(#clip180)\" d=\"M213.905 1306.06 L230.225 1306.06 L230.225 1309.99 L208.28 1309.99 L208.28 1306.06 Q210.943 1303.3 215.526 1298.67 Q220.132 1294.02 221.313 1292.68 Q223.558 1290.15 224.438 1288.42 Q225.341 1286.66 225.341 1284.97 Q225.341 1282.21 223.396 1280.48 Q221.475 1278.74 218.373 1278.74 Q216.174 1278.74 213.72 1279.51 Q211.29 1280.27 208.512 1281.82 L208.512 1277.1 Q211.336 1275.96 213.79 1275.39 Q216.243 1274.81 218.28 1274.81 Q223.651 1274.81 226.845 1277.49 Q230.04 1280.18 230.04 1284.67 Q230.04 1286.8 229.229 1288.72 Q228.442 1290.62 226.336 1293.21 Q225.757 1293.88 222.655 1297.1 Q219.554 1300.29 213.905 1306.06 Z\" fill=\"#000000\" fill-rule=\"evenodd\" fill-opacity=\"1\" /><path clip-path=\"url(#clip180)\" d=\"M250.04 1278.51 Q246.428 1278.51 244.6 1282.08 Q242.794 1285.62 242.794 1292.75 Q242.794 1299.85 244.6 1303.42 Q246.428 1306.96 250.04 1306.96 Q253.674 1306.96 255.479 1303.42 Q257.308 1299.85 257.308 1292.75 Q257.308 1285.62 255.479 1282.08 Q253.674 1278.51 250.04 1278.51 M250.04 1274.81 Q255.85 1274.81 258.905 1279.41 Q261.984 1284 261.984 1292.75 Q261.984 1301.47 258.905 1306.08 Q255.85 1310.66 250.04 1310.66 Q244.229 1310.66 241.151 1306.08 Q238.095 1301.47 238.095 1292.75 Q238.095 1284 241.151 1279.41 Q244.229 1274.81 250.04 1274.81 Z\" fill=\"#000000\" fill-rule=\"evenodd\" fill-opacity=\"1\" /><path clip-path=\"url(#clip180)\" d=\"M214.901 1174.26 L231.22 1174.26 L231.22 1178.19 L209.276 1178.19 L209.276 1174.26 Q211.938 1171.5 216.521 1166.87 Q221.128 1162.22 222.308 1160.88 Q224.554 1158.35 225.433 1156.62 Q226.336 1154.86 226.336 1153.17 Q226.336 1150.41 224.392 1148.68 Q222.47 1146.94 219.368 1146.94 Q217.169 1146.94 214.716 1147.71 Q212.285 1148.47 209.507 1150.02 L209.507 1145.3 Q212.331 1144.16 214.785 1143.59 Q217.239 1143.01 219.276 1143.01 Q224.646 1143.01 227.841 1145.69 Q231.035 1148.38 231.035 1152.87 Q231.035 1155 230.225 1156.92 Q229.438 1158.82 227.331 1161.41 Q226.753 1162.08 223.651 1165.3 Q220.549 1168.49 214.901 1174.26 Z\" fill=\"#000000\" fill-rule=\"evenodd\" fill-opacity=\"1\" /><path clip-path=\"url(#clip180)\" d=\"M241.081 1143.63 L259.438 1143.63 L259.438 1147.57 L245.364 1147.57 L245.364 1156.04 Q246.382 1155.69 247.401 1155.53 Q248.419 1155.34 249.438 1155.34 Q255.225 1155.34 258.604 1158.52 Q261.984 1161.69 261.984 1167.1 Q261.984 1172.68 258.512 1175.78 Q255.04 1178.86 248.72 1178.86 Q246.544 1178.86 244.276 1178.49 Q242.03 1178.12 239.623 1177.38 L239.623 1172.68 Q241.706 1173.82 243.928 1174.37 Q246.151 1174.93 248.627 1174.93 Q252.632 1174.93 254.97 1172.82 Q257.308 1170.72 257.308 1167.1 Q257.308 1163.49 254.97 1161.39 Q252.632 1159.28 248.627 1159.28 Q246.753 1159.28 244.878 1159.7 Q243.026 1160.11 241.081 1160.99 L241.081 1143.63 Z\" fill=\"#000000\" fill-rule=\"evenodd\" fill-opacity=\"1\" /><path clip-path=\"url(#clip180)\" d=\"M224.044 1027.76 Q227.401 1028.48 229.276 1030.74 Q231.174 1033.01 231.174 1036.35 Q231.174 1041.46 227.655 1044.26 Q224.137 1047.06 217.655 1047.06 Q215.48 1047.06 213.165 1046.62 Q210.873 1046.21 208.419 1045.35 L208.419 1040.84 Q210.364 1041.97 212.679 1042.55 Q214.993 1043.13 217.517 1043.13 Q221.915 1043.13 224.206 1041.39 Q226.521 1039.66 226.521 1036.35 Q226.521 1033.29 224.368 1031.58 Q222.239 1029.84 218.419 1029.84 L214.392 1029.84 L214.392 1026 L218.605 1026 Q222.054 1026 223.882 1024.63 Q225.711 1023.24 225.711 1020.65 Q225.711 1017.99 223.813 1016.58 Q221.938 1015.14 218.419 1015.14 Q216.498 1015.14 214.299 1015.56 Q212.1 1015.98 209.461 1016.86 L209.461 1012.69 Q212.123 1011.95 214.438 1011.58 Q216.776 1011.21 218.836 1011.21 Q224.16 1011.21 227.262 1013.64 Q230.364 1016.05 230.364 1020.17 Q230.364 1023.04 228.72 1025.03 Q227.077 1026.99 224.044 1027.76 Z\" fill=\"#000000\" fill-rule=\"evenodd\" fill-opacity=\"1\" /><path clip-path=\"url(#clip180)\" d=\"M250.04 1014.91 Q246.428 1014.91 244.6 1018.48 Q242.794 1022.02 242.794 1029.15 Q242.794 1036.25 244.6 1039.82 Q246.428 1043.36 250.04 1043.36 Q253.674 1043.36 255.479 1039.82 Q257.308 1036.25 257.308 1029.15 Q257.308 1022.02 255.479 1018.48 Q253.674 1014.91 250.04 1014.91 M250.04 1011.21 Q255.85 1011.21 258.905 1015.81 Q261.984 1020.4 261.984 1029.15 Q261.984 1037.87 258.905 1042.48 Q255.85 1047.06 250.04 1047.06 Q244.229 1047.06 241.151 1042.48 Q238.095 1037.87 238.095 1029.15 Q238.095 1020.4 241.151 1015.81 Q244.229 1011.21 250.04 1011.21 Z\" fill=\"#000000\" fill-rule=\"evenodd\" fill-opacity=\"1\" /><path clip-path=\"url(#clip180)\" d=\"M132.22 1546.62 Q128.273 1544.42 126.395 1541.36 Q124.517 1538.31 124.517 1534.17 Q124.517 1528.6 128.432 1525.58 Q132.315 1522.55 139.508 1522.55 L161.024 1522.55 L161.024 1528.44 L139.699 1528.44 Q134.575 1528.44 132.092 1530.26 Q129.61 1532.07 129.61 1535.79 Q129.61 1540.35 132.633 1542.99 Q135.657 1545.63 140.877 1545.63 L161.024 1545.63 L161.024 1551.52 L139.699 1551.52 Q134.543 1551.52 132.092 1553.33 Q129.61 1555.15 129.61 1558.93 Q129.61 1563.42 132.665 1566.06 Q135.689 1568.7 140.877 1568.7 L161.024 1568.7 L161.024 1574.59 L125.377 1574.59 L125.377 1568.7 L130.915 1568.7 Q127.636 1566.7 126.077 1563.9 Q124.517 1561.1 124.517 1557.25 Q124.517 1553.36 126.491 1550.66 Q128.464 1547.92 132.22 1546.62 Z\" fill=\"#000000\" fill-rule=\"evenodd\" fill-opacity=\"1\" /><path clip-path=\"url(#clip180)\" d=\"M143.105 1494.67 Q143.105 1501.77 144.728 1504.51 Q146.352 1507.24 150.266 1507.24 Q153.386 1507.24 155.232 1505.21 Q157.046 1503.14 157.046 1499.6 Q157.046 1494.74 153.608 1491.81 Q150.139 1488.85 144.41 1488.85 L143.105 1488.85 L143.105 1494.67 M140.686 1482.99 L161.024 1482.99 L161.024 1488.85 L155.614 1488.85 Q158.86 1490.85 160.42 1493.84 Q161.948 1496.84 161.948 1501.16 Q161.948 1506.64 158.892 1509.89 Q155.805 1513.1 150.648 1513.1 Q144.633 1513.1 141.577 1509.09 Q138.522 1505.05 138.522 1497.06 L138.522 1488.85 L137.949 1488.85 Q133.907 1488.85 131.71 1491.52 Q129.482 1494.16 129.482 1498.97 Q129.482 1502.02 130.214 1504.92 Q130.947 1507.82 132.411 1510.49 L127 1510.49 Q125.758 1507.28 125.154 1504.25 Q124.517 1501.23 124.517 1498.36 Q124.517 1490.63 128.528 1486.81 Q132.538 1482.99 140.686 1482.99 Z\" fill=\"#000000\" fill-rule=\"evenodd\" fill-opacity=\"1\" /><path clip-path=\"url(#clip180)\" d=\"M125.377 1441.29 L142.723 1454.19 L161.024 1440.63 L161.024 1447.53 L147.02 1457.91 L161.024 1468.29 L161.024 1475.19 L142.373 1461.35 L125.377 1474.01 L125.377 1467.11 L138.076 1457.65 L125.377 1448.2 L125.377 1441.29 Z\" fill=\"#000000\" fill-rule=\"evenodd\" fill-opacity=\"1\" /><path clip-path=\"url(#clip180)\" d=\"M171.846 1405.27 L176.398 1405.27 L176.398 1439.13 L171.846 1439.13 L171.846 1405.27 Z\" fill=\"#000000\" fill-rule=\"evenodd\" fill-opacity=\"1\" /><path clip-path=\"url(#clip180)\" d=\"M130.787 1376.3 L111.499 1376.3 L111.499 1370.44 L161.024 1370.44 L161.024 1376.3 L155.677 1376.3 Q158.86 1378.15 160.42 1380.98 Q161.948 1383.78 161.948 1387.73 Q161.948 1394.19 156.791 1398.26 Q151.635 1402.3 143.232 1402.3 Q134.83 1402.3 129.673 1398.26 Q124.517 1394.19 124.517 1387.73 Q124.517 1383.78 126.077 1380.98 Q127.605 1378.15 130.787 1376.3 M143.232 1396.26 Q149.694 1396.26 153.386 1393.62 Q157.046 1390.94 157.046 1386.3 Q157.046 1381.65 153.386 1378.97 Q149.694 1376.3 143.232 1376.3 Q136.771 1376.3 133.111 1378.97 Q129.419 1381.65 129.419 1386.3 Q129.419 1390.94 133.111 1393.62 Q136.771 1396.26 143.232 1396.26 Z\" fill=\"#000000\" fill-rule=\"evenodd\" fill-opacity=\"1\" /><path clip-path=\"url(#clip180)\" d=\"M141.736 1327.89 L144.601 1327.89 L144.601 1354.82 Q150.648 1354.43 153.831 1351.19 Q156.982 1347.91 156.982 1342.09 Q156.982 1338.71 156.155 1335.56 Q155.327 1332.38 153.672 1329.26 L159.21 1329.26 Q160.547 1332.41 161.247 1335.72 Q161.948 1339.03 161.948 1342.44 Q161.948 1350.97 156.982 1355.96 Q152.017 1360.93 143.551 1360.93 Q134.798 1360.93 129.673 1356.22 Q124.517 1351.47 124.517 1343.45 Q124.517 1336.26 129.164 1332.09 Q133.779 1327.89 141.736 1327.89 M140.018 1333.75 Q135.212 1333.81 132.347 1336.45 Q129.482 1339.06 129.482 1343.39 Q129.482 1348.29 132.251 1351.25 Q135.021 1354.18 140.049 1354.63 L140.018 1333.75 Z\" fill=\"#000000\" fill-rule=\"evenodd\" fill-opacity=\"1\" /><path clip-path=\"url(#clip180)\" d=\"M155.677 1312.61 L174.583 1312.61 L174.583 1318.5 L125.377 1318.5 L125.377 1312.61 L130.787 1312.61 Q127.605 1310.77 126.077 1307.97 Q124.517 1305.13 124.517 1301.22 Q124.517 1294.72 129.673 1290.68 Q134.83 1286.61 143.232 1286.61 Q151.635 1286.61 156.791 1290.68 Q161.948 1294.72 161.948 1301.22 Q161.948 1305.13 160.42 1307.97 Q158.86 1310.77 155.677 1312.61 M143.232 1292.69 Q136.771 1292.69 133.111 1295.36 Q129.419 1298 129.419 1302.65 Q129.419 1307.3 133.111 1309.97 Q136.771 1312.61 143.232 1312.61 Q149.694 1312.61 153.386 1309.97 Q157.046 1307.3 157.046 1302.65 Q157.046 1298 153.386 1295.36 Q149.694 1292.69 143.232 1292.69 Z\" fill=\"#000000\" fill-rule=\"evenodd\" fill-opacity=\"1\" /><path clip-path=\"url(#clip180)\" d=\"M115.255 1271.11 L125.377 1271.11 L125.377 1259.04 L129.928 1259.04 L129.928 1271.11 L149.28 1271.11 Q153.64 1271.11 154.882 1269.93 Q156.123 1268.72 156.123 1265.06 L156.123 1259.04 L161.024 1259.04 L161.024 1265.06 Q161.024 1271.84 158.51 1274.42 Q155.964 1277 149.28 1277 L129.928 1277 L129.928 1281.29 L125.377 1281.29 L125.377 1277 L115.255 1277 L115.255 1271.11 Z\" fill=\"#000000\" fill-rule=\"evenodd\" fill-opacity=\"1\" /><path clip-path=\"url(#clip180)\" d=\"M139.508 1221.71 L161.024 1221.71 L161.024 1227.57 L139.699 1227.57 Q134.639 1227.57 132.124 1229.54 Q129.61 1231.51 129.61 1235.46 Q129.61 1240.2 132.633 1242.94 Q135.657 1245.68 140.877 1245.68 L161.024 1245.68 L161.024 1251.57 L111.499 1251.57 L111.499 1245.68 L130.915 1245.68 Q127.7 1243.58 126.109 1240.74 Q124.517 1237.88 124.517 1234.15 Q124.517 1228.01 128.337 1224.86 Q132.124 1221.71 139.508 1221.71 Z\" fill=\"#000000\" fill-rule=\"evenodd\" fill-opacity=\"1\" /><circle clip-path=\"url(#clip184)\" cx=\"459.406\" cy=\"1319.07\" r=\"56.251\" fill=\"#f4db4c\" fill-rule=\"evenodd\" fill-opacity=\"1\" stroke=\"#000000\" stroke-opacity=\"1\" stroke-width=\"4\"/>\n",
       "<circle clip-path=\"url(#clip184)\" cx=\"1031.31\" cy=\"1767.19\" r=\"26.5099\" fill=\"#8e2368\" fill-rule=\"evenodd\" fill-opacity=\"1\" stroke=\"#000000\" stroke-opacity=\"1\" stroke-width=\"4\"/>\n",
       "<circle clip-path=\"url(#clip184)\" cx=\"745.358\" cy=\"1029.11\" r=\"59.9624\" fill=\"#f4f78f\" fill-rule=\"evenodd\" fill-opacity=\"1\" stroke=\"#000000\" stroke-opacity=\"1\" stroke-width=\"4\"/>\n",
       "<circle clip-path=\"url(#clip184)\" cx=\"745.358\" cy=\"1609.03\" r=\"47.461\" fill=\"#f98e08\" fill-rule=\"evenodd\" fill-opacity=\"1\" stroke=\"#000000\" stroke-opacity=\"1\" stroke-width=\"4\"/>\n",
       "<circle clip-path=\"url(#clip184)\" cx=\"602.382\" cy=\"1319.07\" r=\"58.9782\" fill=\"#f1f17c\" fill-rule=\"evenodd\" fill-opacity=\"1\" stroke=\"#000000\" stroke-opacity=\"1\" stroke-width=\"4\"/>\n",
       "<circle clip-path=\"url(#clip184)\" cx=\"745.358\" cy=\"1319.07\" r=\"58.9741\" fill=\"#f1f17c\" fill-rule=\"evenodd\" fill-opacity=\"1\" stroke=\"#000000\" stroke-opacity=\"1\" stroke-width=\"4\"/>\n",
       "<circle clip-path=\"url(#clip184)\" cx=\"888.334\" cy=\"1187.27\" r=\"61.2\" fill=\"#fcfea4\" fill-rule=\"evenodd\" fill-opacity=\"1\" stroke=\"#000000\" stroke-opacity=\"1\" stroke-width=\"4\"/>\n",
       "<circle clip-path=\"url(#clip184)\" cx=\"1031.31\" cy=\"1319.07\" r=\"60.215\" fill=\"#f5f993\" fill-rule=\"evenodd\" fill-opacity=\"1\" stroke=\"#000000\" stroke-opacity=\"1\" stroke-width=\"4\"/>\n",
       "<circle clip-path=\"url(#clip184)\" cx=\"745.358\" cy=\"1187.27\" r=\"60.1266\" fill=\"#f5f892\" fill-rule=\"evenodd\" fill-opacity=\"1\" stroke=\"#000000\" stroke-opacity=\"1\" stroke-width=\"4\"/>\n",
       "<circle clip-path=\"url(#clip184)\" cx=\"316.43\" cy=\"1319.07\" r=\"47.9203\" fill=\"#fa9207\" fill-rule=\"evenodd\" fill-opacity=\"1\" stroke=\"#000000\" stroke-opacity=\"1\" stroke-width=\"4\"/>\n",
       "<circle clip-path=\"url(#clip184)\" cx=\"888.334\" cy=\"1319.07\" r=\"59.5843\" fill=\"#f3f587\" fill-rule=\"evenodd\" fill-opacity=\"1\" stroke=\"#000000\" stroke-opacity=\"1\" stroke-width=\"4\"/>\n",
       "<circle clip-path=\"url(#clip184)\" cx=\"459.406\" cy=\"1187.27\" r=\"57.9083\" fill=\"#f1e968\" fill-rule=\"evenodd\" fill-opacity=\"1\" stroke=\"#000000\" stroke-opacity=\"1\" stroke-width=\"4\"/>\n",
       "<circle clip-path=\"url(#clip184)\" cx=\"459.406\" cy=\"1477.23\" r=\"52.1013\" fill=\"#fbb61b\" fill-rule=\"evenodd\" fill-opacity=\"1\" stroke=\"#000000\" stroke-opacity=\"1\" stroke-width=\"4\"/>\n",
       "<circle clip-path=\"url(#clip184)\" cx=\"888.334\" cy=\"1767.19\" r=\"24.1718\" fill=\"#7e1e6c\" fill-rule=\"evenodd\" fill-opacity=\"1\" stroke=\"#000000\" stroke-opacity=\"1\" stroke-width=\"4\"/>\n",
       "<circle clip-path=\"url(#clip184)\" cx=\"459.406\" cy=\"1767.19\" r=\"17.2917\" fill=\"#4e0c6b\" fill-rule=\"evenodd\" fill-opacity=\"1\" stroke=\"#000000\" stroke-opacity=\"1\" stroke-width=\"4\"/>\n",
       "<circle clip-path=\"url(#clip184)\" cx=\"888.334\" cy=\"1609.03\" r=\"48.7158\" fill=\"#fb9906\" fill-rule=\"evenodd\" fill-opacity=\"1\" stroke=\"#000000\" stroke-opacity=\"1\" stroke-width=\"4\"/>\n",
       "<circle clip-path=\"url(#clip184)\" cx=\"1031.31\" cy=\"1187.27\" r=\"60.9651\" fill=\"#fafda0\" fill-rule=\"evenodd\" fill-opacity=\"1\" stroke=\"#000000\" stroke-opacity=\"1\" stroke-width=\"4\"/>\n",
       "<circle clip-path=\"url(#clip184)\" cx=\"316.43\" cy=\"1609.03\" r=\"28.5631\" fill=\"#9c2963\" fill-rule=\"evenodd\" fill-opacity=\"1\" stroke=\"#000000\" stroke-opacity=\"1\" stroke-width=\"4\"/>\n",
       "<circle clip-path=\"url(#clip184)\" cx=\"459.406\" cy=\"1609.03\" r=\"39.8158\" fill=\"#e15733\" fill-rule=\"evenodd\" fill-opacity=\"1\" stroke=\"#000000\" stroke-opacity=\"1\" stroke-width=\"4\"/>\n",
       "<circle clip-path=\"url(#clip184)\" cx=\"1031.31\" cy=\"1609.03\" r=\"49.7876\" fill=\"#fba208\" fill-rule=\"evenodd\" fill-opacity=\"1\" stroke=\"#000000\" stroke-opacity=\"1\" stroke-width=\"4\"/>\n",
       "<circle clip-path=\"url(#clip184)\" cx=\"602.382\" cy=\"1029.11\" r=\"59.39\" fill=\"#f2f484\" fill-rule=\"evenodd\" fill-opacity=\"1\" stroke=\"#000000\" stroke-opacity=\"1\" stroke-width=\"4\"/>\n",
       "<circle clip-path=\"url(#clip184)\" cx=\"602.382\" cy=\"1609.03\" r=\"44.9872\" fill=\"#f47b16\" fill-rule=\"evenodd\" fill-opacity=\"1\" stroke=\"#000000\" stroke-opacity=\"1\" stroke-width=\"4\"/>\n",
       "<circle clip-path=\"url(#clip184)\" cx=\"602.382\" cy=\"1477.23\" r=\"55.1858\" fill=\"#f7d23d\" fill-rule=\"evenodd\" fill-opacity=\"1\" stroke=\"#000000\" stroke-opacity=\"1\" stroke-width=\"4\"/>\n",
       "<circle clip-path=\"url(#clip184)\" cx=\"316.43\" cy=\"1187.27\" r=\"50.6407\" fill=\"#fba90e\" fill-rule=\"evenodd\" fill-opacity=\"1\" stroke=\"#000000\" stroke-opacity=\"1\" stroke-width=\"4\"/>\n",
       "<circle clip-path=\"url(#clip184)\" cx=\"1031.31\" cy=\"1029.11\" r=\"60.5109\" fill=\"#f7fb98\" fill-rule=\"evenodd\" fill-opacity=\"1\" stroke=\"#000000\" stroke-opacity=\"1\" stroke-width=\"4\"/>\n",
       "<circle clip-path=\"url(#clip184)\" cx=\"602.382\" cy=\"1187.27\" r=\"59.1001\" fill=\"#f1f27e\" fill-rule=\"evenodd\" fill-opacity=\"1\" stroke=\"#000000\" stroke-opacity=\"1\" stroke-width=\"4\"/>\n",
       "<circle clip-path=\"url(#clip184)\" cx=\"888.334\" cy=\"1029.11\" r=\"60.3001\" fill=\"#f6f995\" fill-rule=\"evenodd\" fill-opacity=\"1\" stroke=\"#000000\" stroke-opacity=\"1\" stroke-width=\"4\"/>\n",
       "<circle clip-path=\"url(#clip184)\" cx=\"745.358\" cy=\"1477.23\" r=\"55.7671\" fill=\"#f5d745\" fill-rule=\"evenodd\" fill-opacity=\"1\" stroke=\"#000000\" stroke-opacity=\"1\" stroke-width=\"4\"/>\n",
       "<circle clip-path=\"url(#clip184)\" cx=\"316.43\" cy=\"1767.19\" r=\"3.6\" fill=\"#000003\" fill-rule=\"evenodd\" fill-opacity=\"1\" stroke=\"#000000\" stroke-opacity=\"1\" stroke-width=\"4\"/>\n",
       "<circle clip-path=\"url(#clip184)\" cx=\"1031.31\" cy=\"1477.23\" r=\"57.159\" fill=\"#f2e35b\" fill-rule=\"evenodd\" fill-opacity=\"1\" stroke=\"#000000\" stroke-opacity=\"1\" stroke-width=\"4\"/>\n",
       "<circle clip-path=\"url(#clip184)\" cx=\"316.43\" cy=\"1029.11\" r=\"48.038\" fill=\"#fa9306\" fill-rule=\"evenodd\" fill-opacity=\"1\" stroke=\"#000000\" stroke-opacity=\"1\" stroke-width=\"4\"/>\n",
       "<circle clip-path=\"url(#clip184)\" cx=\"602.382\" cy=\"1767.19\" r=\"22.9719\" fill=\"#751b6d\" fill-rule=\"evenodd\" fill-opacity=\"1\" stroke=\"#000000\" stroke-opacity=\"1\" stroke-width=\"4\"/>\n",
       "<circle clip-path=\"url(#clip184)\" cx=\"745.358\" cy=\"1767.19\" r=\"23.3332\" fill=\"#781c6d\" fill-rule=\"evenodd\" fill-opacity=\"1\" stroke=\"#000000\" stroke-opacity=\"1\" stroke-width=\"4\"/>\n",
       "<circle clip-path=\"url(#clip184)\" cx=\"316.43\" cy=\"1477.23\" r=\"43.6105\" fill=\"#f0701e\" fill-rule=\"evenodd\" fill-opacity=\"1\" stroke=\"#000000\" stroke-opacity=\"1\" stroke-width=\"4\"/>\n",
       "<circle clip-path=\"url(#clip184)\" cx=\"888.334\" cy=\"1477.23\" r=\"56.5051\" fill=\"#f4dd50\" fill-rule=\"evenodd\" fill-opacity=\"1\" stroke=\"#000000\" stroke-opacity=\"1\" stroke-width=\"4\"/>\n",
       "<circle clip-path=\"url(#clip184)\" cx=\"459.406\" cy=\"1029.11\" r=\"56.6506\" fill=\"#f3df52\" fill-rule=\"evenodd\" fill-opacity=\"1\" stroke=\"#000000\" stroke-opacity=\"1\" stroke-width=\"4\"/>\n",
       "<path clip-path=\"url(#clip180)\" d=\"\n",
       "M1394.98 1789.33 L2152.76 1789.33 L2152.76 1006.97 L1394.98 1006.97  Z\n",
       "  \" fill=\"#ffffff\" fill-rule=\"evenodd\" fill-opacity=\"1\"/>\n",
       "<defs>\n",
       "  <clipPath id=\"clip185\">\n",
       "    <rect x=\"1394\" y=\"1006\" width=\"759\" height=\"783\"/>\n",
       "  </clipPath>\n",
       "</defs>\n",
       "<polyline clip-path=\"url(#clip185)\" style=\"stroke:#000000; stroke-linecap:round; stroke-linejoin:round; stroke-width:2; stroke-opacity:0.1; fill:none\" points=\"\n",
       "  1493.02,1789.33 1493.02,1006.97 \n",
       "  \"/>\n",
       "<polyline clip-path=\"url(#clip185)\" style=\"stroke:#000000; stroke-linecap:round; stroke-linejoin:round; stroke-width:2; stroke-opacity:0.1; fill:none\" points=\"\n",
       "  1620.68,1789.33 1620.68,1006.97 \n",
       "  \"/>\n",
       "<polyline clip-path=\"url(#clip185)\" style=\"stroke:#000000; stroke-linecap:round; stroke-linejoin:round; stroke-width:2; stroke-opacity:0.1; fill:none\" points=\"\n",
       "  1748.34,1789.33 1748.34,1006.97 \n",
       "  \"/>\n",
       "<polyline clip-path=\"url(#clip185)\" style=\"stroke:#000000; stroke-linecap:round; stroke-linejoin:round; stroke-width:2; stroke-opacity:0.1; fill:none\" points=\"\n",
       "  1876,1789.33 1876,1006.97 \n",
       "  \"/>\n",
       "<polyline clip-path=\"url(#clip185)\" style=\"stroke:#000000; stroke-linecap:round; stroke-linejoin:round; stroke-width:2; stroke-opacity:0.1; fill:none\" points=\"\n",
       "  2003.65,1789.33 2003.65,1006.97 \n",
       "  \"/>\n",
       "<polyline clip-path=\"url(#clip185)\" style=\"stroke:#000000; stroke-linecap:round; stroke-linejoin:round; stroke-width:2; stroke-opacity:0.1; fill:none\" points=\"\n",
       "  2131.31,1789.33 2131.31,1006.97 \n",
       "  \"/>\n",
       "<polyline clip-path=\"url(#clip180)\" style=\"stroke:#000000; stroke-linecap:round; stroke-linejoin:round; stroke-width:4; stroke-opacity:1; fill:none\" points=\"\n",
       "  1394.98,1789.33 2152.76,1789.33 \n",
       "  \"/>\n",
       "<polyline clip-path=\"url(#clip180)\" style=\"stroke:#000000; stroke-linecap:round; stroke-linejoin:round; stroke-width:4; stroke-opacity:1; fill:none\" points=\"\n",
       "  1394.98,1006.97 2152.76,1006.97 \n",
       "  \"/>\n",
       "<polyline clip-path=\"url(#clip180)\" style=\"stroke:#000000; stroke-linecap:round; stroke-linejoin:round; stroke-width:4; stroke-opacity:1; fill:none\" points=\"\n",
       "  1493.02,1789.33 1493.02,1770.43 \n",
       "  \"/>\n",
       "<polyline clip-path=\"url(#clip180)\" style=\"stroke:#000000; stroke-linecap:round; stroke-linejoin:round; stroke-width:4; stroke-opacity:1; fill:none\" points=\"\n",
       "  1620.68,1789.33 1620.68,1770.43 \n",
       "  \"/>\n",
       "<polyline clip-path=\"url(#clip180)\" style=\"stroke:#000000; stroke-linecap:round; stroke-linejoin:round; stroke-width:4; stroke-opacity:1; fill:none\" points=\"\n",
       "  1748.34,1789.33 1748.34,1770.43 \n",
       "  \"/>\n",
       "<polyline clip-path=\"url(#clip180)\" style=\"stroke:#000000; stroke-linecap:round; stroke-linejoin:round; stroke-width:4; stroke-opacity:1; fill:none\" points=\"\n",
       "  1876,1789.33 1876,1770.43 \n",
       "  \"/>\n",
       "<polyline clip-path=\"url(#clip180)\" style=\"stroke:#000000; stroke-linecap:round; stroke-linejoin:round; stroke-width:4; stroke-opacity:1; fill:none\" points=\"\n",
       "  2003.65,1789.33 2003.65,1770.43 \n",
       "  \"/>\n",
       "<polyline clip-path=\"url(#clip180)\" style=\"stroke:#000000; stroke-linecap:round; stroke-linejoin:round; stroke-width:4; stroke-opacity:1; fill:none\" points=\"\n",
       "  2131.31,1789.33 2131.31,1770.43 \n",
       "  \"/>\n",
       "<path clip-path=\"url(#clip180)\" d=\"M1483.3 1815.57 L1501.66 1815.57 L1501.66 1819.51 L1487.58 1819.51 L1487.58 1827.98 Q1488.6 1827.63 1489.62 1827.47 Q1490.64 1827.29 1491.66 1827.29 Q1497.45 1827.29 1500.83 1830.46 Q1504.2 1833.63 1504.2 1839.04 Q1504.2 1844.62 1500.73 1847.73 Q1497.26 1850.8 1490.94 1850.8 Q1488.77 1850.8 1486.5 1850.43 Q1484.25 1850.06 1481.84 1849.32 L1481.84 1844.62 Q1483.93 1845.76 1486.15 1846.31 Q1488.37 1846.87 1490.85 1846.87 Q1494.85 1846.87 1497.19 1844.76 Q1499.53 1842.66 1499.53 1839.04 Q1499.53 1835.43 1497.19 1833.33 Q1494.85 1831.22 1490.85 1831.22 Q1488.97 1831.22 1487.1 1831.64 Q1485.25 1832.05 1483.3 1832.93 L1483.3 1815.57 Z\" fill=\"#000000\" fill-rule=\"evenodd\" fill-opacity=\"1\" /><path clip-path=\"url(#clip180)\" d=\"M1595.37 1846.2 L1603.01 1846.2 L1603.01 1819.83 L1594.7 1821.5 L1594.7 1817.24 L1602.96 1815.57 L1607.64 1815.57 L1607.64 1846.2 L1615.28 1846.2 L1615.28 1850.13 L1595.37 1850.13 L1595.37 1846.2 Z\" fill=\"#000000\" fill-rule=\"evenodd\" fill-opacity=\"1\" /><path clip-path=\"url(#clip180)\" d=\"M1634.72 1818.65 Q1631.11 1818.65 1629.28 1822.22 Q1627.48 1825.76 1627.48 1832.89 Q1627.48 1839.99 1629.28 1843.56 Q1631.11 1847.1 1634.72 1847.1 Q1638.36 1847.1 1640.16 1843.56 Q1641.99 1839.99 1641.99 1832.89 Q1641.99 1825.76 1640.16 1822.22 Q1638.36 1818.65 1634.72 1818.65 M1634.72 1814.95 Q1640.53 1814.95 1643.59 1819.55 Q1646.67 1824.14 1646.67 1832.89 Q1646.67 1841.61 1643.59 1846.22 Q1640.53 1850.8 1634.72 1850.8 Q1628.91 1850.8 1625.83 1846.22 Q1622.78 1841.61 1622.78 1832.89 Q1622.78 1824.14 1625.83 1819.55 Q1628.91 1814.95 1634.72 1814.95 Z\" fill=\"#000000\" fill-rule=\"evenodd\" fill-opacity=\"1\" /><path clip-path=\"url(#clip180)\" d=\"M1723.52 1846.2 L1731.16 1846.2 L1731.16 1819.83 L1722.85 1821.5 L1722.85 1817.24 L1731.12 1815.57 L1735.79 1815.57 L1735.79 1846.2 L1743.43 1846.2 L1743.43 1850.13 L1723.52 1850.13 L1723.52 1846.2 Z\" fill=\"#000000\" fill-rule=\"evenodd\" fill-opacity=\"1\" /><path clip-path=\"url(#clip180)\" d=\"M1752.92 1815.57 L1771.28 1815.57 L1771.28 1819.51 L1757.2 1819.51 L1757.2 1827.98 Q1758.22 1827.63 1759.24 1827.47 Q1760.26 1827.29 1761.28 1827.29 Q1767.07 1827.29 1770.44 1830.46 Q1773.82 1833.63 1773.82 1839.04 Q1773.82 1844.62 1770.35 1847.73 Q1766.88 1850.8 1760.56 1850.8 Q1758.38 1850.8 1756.12 1850.43 Q1753.87 1850.06 1751.46 1849.32 L1751.46 1844.62 Q1753.55 1845.76 1755.77 1846.31 Q1757.99 1846.87 1760.47 1846.87 Q1764.47 1846.87 1766.81 1844.76 Q1769.15 1842.66 1769.15 1839.04 Q1769.15 1835.43 1766.81 1833.33 Q1764.47 1831.22 1760.47 1831.22 Q1758.59 1831.22 1756.72 1831.64 Q1754.87 1832.05 1752.92 1832.93 L1752.92 1815.57 Z\" fill=\"#000000\" fill-rule=\"evenodd\" fill-opacity=\"1\" /><path clip-path=\"url(#clip180)\" d=\"M1854.77 1846.2 L1871.09 1846.2 L1871.09 1850.13 L1849.14 1850.13 L1849.14 1846.2 Q1851.81 1843.44 1856.39 1838.81 Q1861 1834.16 1862.18 1832.82 Q1864.42 1830.29 1865.3 1828.56 Q1866.2 1826.8 1866.2 1825.11 Q1866.2 1822.35 1864.26 1820.62 Q1862.34 1818.88 1859.24 1818.88 Q1857.04 1818.88 1854.58 1819.65 Q1852.15 1820.41 1849.38 1821.96 L1849.38 1817.24 Q1852.2 1816.1 1854.65 1815.53 Q1857.11 1814.95 1859.14 1814.95 Q1864.51 1814.95 1867.71 1817.63 Q1870.9 1820.32 1870.9 1824.81 Q1870.9 1826.94 1870.09 1828.86 Q1869.31 1830.76 1867.2 1833.35 Q1866.62 1834.02 1863.52 1837.24 Q1860.42 1840.43 1854.77 1846.2 Z\" fill=\"#000000\" fill-rule=\"evenodd\" fill-opacity=\"1\" /><path clip-path=\"url(#clip180)\" d=\"M1890.9 1818.65 Q1887.29 1818.65 1885.46 1822.22 Q1883.66 1825.76 1883.66 1832.89 Q1883.66 1839.99 1885.46 1843.56 Q1887.29 1847.1 1890.9 1847.1 Q1894.54 1847.1 1896.34 1843.56 Q1898.17 1839.99 1898.17 1832.89 Q1898.17 1825.76 1896.34 1822.22 Q1894.54 1818.65 1890.9 1818.65 M1890.9 1814.95 Q1896.71 1814.95 1899.77 1819.55 Q1902.85 1824.14 1902.85 1832.89 Q1902.85 1841.61 1899.77 1846.22 Q1896.71 1850.8 1890.9 1850.8 Q1885.09 1850.8 1882.01 1846.22 Q1878.96 1841.61 1878.96 1832.89 Q1878.96 1824.14 1882.01 1819.55 Q1885.09 1814.95 1890.9 1814.95 Z\" fill=\"#000000\" fill-rule=\"evenodd\" fill-opacity=\"1\" /><path clip-path=\"url(#clip180)\" d=\"M1982.92 1846.2 L1999.24 1846.2 L1999.24 1850.13 L1977.3 1850.13 L1977.3 1846.2 Q1979.96 1843.44 1984.54 1838.81 Q1989.15 1834.16 1990.33 1832.82 Q1992.58 1830.29 1993.46 1828.56 Q1994.36 1826.8 1994.36 1825.11 Q1994.36 1822.35 1992.41 1820.62 Q1990.49 1818.88 1987.39 1818.88 Q1985.19 1818.88 1982.74 1819.65 Q1980.31 1820.41 1977.53 1821.96 L1977.53 1817.24 Q1980.35 1816.1 1982.81 1815.53 Q1985.26 1814.95 1987.3 1814.95 Q1992.67 1814.95 1995.86 1817.63 Q1999.06 1820.32 1999.06 1824.81 Q1999.06 1826.94 1998.25 1828.86 Q1997.46 1830.76 1995.35 1833.35 Q1994.78 1834.02 1991.67 1837.24 Q1988.57 1840.43 1982.92 1846.2 Z\" fill=\"#000000\" fill-rule=\"evenodd\" fill-opacity=\"1\" /><path clip-path=\"url(#clip180)\" d=\"M2009.1 1815.57 L2027.46 1815.57 L2027.46 1819.51 L2013.39 1819.51 L2013.39 1827.98 Q2014.4 1827.63 2015.42 1827.47 Q2016.44 1827.29 2017.46 1827.29 Q2023.25 1827.29 2026.63 1830.46 Q2030.01 1833.63 2030.01 1839.04 Q2030.01 1844.62 2026.53 1847.73 Q2023.06 1850.8 2016.74 1850.8 Q2014.57 1850.8 2012.3 1850.43 Q2010.05 1850.06 2007.65 1849.32 L2007.65 1844.62 Q2009.73 1845.76 2011.95 1846.31 Q2014.17 1846.87 2016.65 1846.87 Q2020.65 1846.87 2022.99 1844.76 Q2025.33 1842.66 2025.33 1839.04 Q2025.33 1835.43 2022.99 1833.33 Q2020.65 1831.22 2016.65 1831.22 Q2014.78 1831.22 2012.9 1831.64 Q2011.05 1832.05 2009.1 1832.93 L2009.1 1815.57 Z\" fill=\"#000000\" fill-rule=\"evenodd\" fill-opacity=\"1\" /><path clip-path=\"url(#clip180)\" d=\"M2120.15 1831.5 Q2123.51 1832.22 2125.38 1834.48 Q2127.28 1836.75 2127.28 1840.09 Q2127.28 1845.2 2123.76 1848 Q2120.24 1850.8 2113.76 1850.8 Q2111.59 1850.8 2109.27 1850.36 Q2106.98 1849.95 2104.53 1849.09 L2104.53 1844.58 Q2106.47 1845.71 2108.79 1846.29 Q2111.1 1846.87 2113.62 1846.87 Q2118.02 1846.87 2120.31 1845.13 Q2122.63 1843.4 2122.63 1840.09 Q2122.63 1837.03 2120.48 1835.32 Q2118.35 1833.58 2114.53 1833.58 L2110.5 1833.58 L2110.5 1829.74 L2114.71 1829.74 Q2118.16 1829.74 2119.99 1828.37 Q2121.82 1826.98 2121.82 1824.39 Q2121.82 1821.73 2119.92 1820.32 Q2118.05 1818.88 2114.53 1818.88 Q2112.61 1818.88 2110.41 1819.3 Q2108.21 1819.72 2105.57 1820.6 L2105.57 1816.43 Q2108.23 1815.69 2110.55 1815.32 Q2112.88 1814.95 2114.94 1814.95 Q2120.27 1814.95 2123.37 1817.38 Q2126.47 1819.79 2126.47 1823.91 Q2126.47 1826.78 2124.83 1828.77 Q2123.18 1830.73 2120.15 1831.5 Z\" fill=\"#000000\" fill-rule=\"evenodd\" fill-opacity=\"1\" /><path clip-path=\"url(#clip180)\" d=\"M2146.15 1818.65 Q2142.54 1818.65 2140.71 1822.22 Q2138.9 1825.76 2138.9 1832.89 Q2138.9 1839.99 2140.71 1843.56 Q2142.54 1847.1 2146.15 1847.1 Q2149.78 1847.1 2151.59 1843.56 Q2153.42 1839.99 2153.42 1832.89 Q2153.42 1825.76 2151.59 1822.22 Q2149.78 1818.65 2146.15 1818.65 M2146.15 1814.95 Q2151.96 1814.95 2155.01 1819.55 Q2158.09 1824.14 2158.09 1832.89 Q2158.09 1841.61 2155.01 1846.22 Q2151.96 1850.8 2146.15 1850.8 Q2140.34 1850.8 2137.26 1846.22 Q2134.2 1841.61 2134.2 1832.89 Q2134.2 1824.14 2137.26 1819.55 Q2140.34 1814.95 2146.15 1814.95 Z\" fill=\"#000000\" fill-rule=\"evenodd\" fill-opacity=\"1\" /><path clip-path=\"url(#clip180)\" d=\"M1625.41 1902.39 Q1627.6 1898.45 1630.66 1896.57 Q1633.71 1894.69 1637.85 1894.69 Q1643.42 1894.69 1646.44 1898.6 Q1649.47 1902.49 1649.47 1909.68 L1649.47 1931.2 L1643.58 1931.2 L1643.58 1909.87 Q1643.58 1904.75 1641.77 1902.26 Q1639.95 1899.78 1636.23 1899.78 Q1631.68 1899.78 1629.03 1902.81 Q1626.39 1905.83 1626.39 1911.05 L1626.39 1931.2 L1620.5 1931.2 L1620.5 1909.87 Q1620.5 1904.72 1618.69 1902.26 Q1616.88 1899.78 1613.09 1899.78 Q1608.6 1899.78 1605.96 1902.84 Q1603.32 1905.86 1603.32 1911.05 L1603.32 1931.2 L1597.43 1931.2 L1597.43 1895.55 L1603.32 1895.55 L1603.32 1901.09 Q1605.32 1897.81 1608.12 1896.25 Q1610.92 1894.69 1614.77 1894.69 Q1618.66 1894.69 1621.36 1896.66 Q1624.1 1898.64 1625.41 1902.39 Z\" fill=\"#000000\" fill-rule=\"evenodd\" fill-opacity=\"1\" /><path clip-path=\"url(#clip180)\" d=\"M1677.35 1913.28 Q1670.25 1913.28 1667.51 1914.9 Q1664.78 1916.52 1664.78 1920.44 Q1664.78 1923.56 1666.81 1925.4 Q1668.88 1927.22 1672.42 1927.22 Q1677.29 1927.22 1680.21 1923.78 Q1683.17 1920.31 1683.17 1914.58 L1683.17 1913.28 L1677.35 1913.28 M1689.03 1910.86 L1689.03 1931.2 L1683.17 1931.2 L1683.17 1925.79 Q1681.17 1929.03 1678.18 1930.59 Q1675.19 1932.12 1670.86 1932.12 Q1665.38 1932.12 1662.14 1929.06 Q1658.92 1925.98 1658.92 1920.82 Q1658.92 1914.8 1662.93 1911.75 Q1666.97 1908.69 1674.96 1908.69 L1683.17 1908.69 L1683.17 1908.12 Q1683.17 1904.08 1680.5 1901.88 Q1677.86 1899.65 1673.05 1899.65 Q1670 1899.65 1667.1 1900.39 Q1664.2 1901.12 1661.53 1902.58 L1661.53 1897.17 Q1664.75 1895.93 1667.77 1895.33 Q1670.79 1894.69 1673.66 1894.69 Q1681.39 1894.69 1685.21 1898.7 Q1689.03 1902.71 1689.03 1910.86 Z\" fill=\"#000000\" fill-rule=\"evenodd\" fill-opacity=\"1\" /><path clip-path=\"url(#clip180)\" d=\"M1730.73 1895.55 L1717.84 1912.9 L1731.39 1931.2 L1724.49 1931.2 L1714.11 1917.19 L1703.74 1931.2 L1696.83 1931.2 L1710.67 1912.55 L1698.01 1895.55 L1704.91 1895.55 L1714.37 1908.25 L1723.82 1895.55 L1730.73 1895.55 Z\" fill=\"#000000\" fill-rule=\"evenodd\" fill-opacity=\"1\" /><path clip-path=\"url(#clip180)\" d=\"M1766.76 1942.02 L1766.76 1946.57 L1732.89 1946.57 L1732.89 1942.02 L1766.76 1942.02 Z\" fill=\"#000000\" fill-rule=\"evenodd\" fill-opacity=\"1\" /><path clip-path=\"url(#clip180)\" d=\"M1795.72 1900.96 L1795.72 1881.67 L1801.58 1881.67 L1801.58 1931.2 L1795.72 1931.2 L1795.72 1925.85 Q1793.87 1929.03 1791.04 1930.59 Q1788.24 1932.12 1784.29 1932.12 Q1777.83 1932.12 1773.76 1926.96 Q1769.72 1921.81 1769.72 1913.4 Q1769.72 1905 1773.76 1899.85 Q1777.83 1894.69 1784.29 1894.69 Q1788.24 1894.69 1791.04 1896.25 Q1793.87 1897.78 1795.72 1900.96 M1775.76 1913.4 Q1775.76 1919.87 1778.41 1923.56 Q1781.08 1927.22 1785.73 1927.22 Q1790.37 1927.22 1793.05 1923.56 Q1795.72 1919.87 1795.72 1913.4 Q1795.72 1906.94 1793.05 1903.28 Q1790.37 1899.59 1785.73 1899.59 Q1781.08 1899.59 1778.41 1903.28 Q1775.76 1906.94 1775.76 1913.4 Z\" fill=\"#000000\" fill-rule=\"evenodd\" fill-opacity=\"1\" /><path clip-path=\"url(#clip180)\" d=\"M1844.13 1911.91 L1844.13 1914.77 L1817.2 1914.77 Q1817.59 1920.82 1820.83 1924 Q1824.11 1927.15 1829.94 1927.15 Q1833.31 1927.15 1836.46 1926.33 Q1839.64 1925.5 1842.76 1923.84 L1842.76 1929.38 Q1839.61 1930.72 1836.3 1931.42 Q1832.99 1932.12 1829.59 1932.12 Q1821.06 1932.12 1816.06 1927.15 Q1811.09 1922.19 1811.09 1913.72 Q1811.09 1904.97 1815.8 1899.85 Q1820.55 1894.69 1828.57 1894.69 Q1835.76 1894.69 1839.93 1899.34 Q1844.13 1903.95 1844.13 1911.91 M1838.27 1910.19 Q1838.21 1905.38 1835.57 1902.52 Q1832.96 1899.65 1828.63 1899.65 Q1823.73 1899.65 1820.77 1902.42 Q1817.84 1905.19 1817.4 1910.22 L1838.27 1910.19 Z\" fill=\"#000000\" fill-rule=\"evenodd\" fill-opacity=\"1\" /><path clip-path=\"url(#clip180)\" d=\"M1859.41 1925.85 L1859.41 1944.76 L1853.52 1944.76 L1853.52 1895.55 L1859.41 1895.55 L1859.41 1900.96 Q1861.26 1897.78 1864.06 1896.25 Q1866.89 1894.69 1870.8 1894.69 Q1877.3 1894.69 1881.34 1899.85 Q1885.41 1905 1885.41 1913.4 Q1885.41 1921.81 1881.34 1926.96 Q1877.3 1932.12 1870.8 1932.12 Q1866.89 1932.12 1864.06 1930.59 Q1861.26 1929.03 1859.41 1925.85 M1879.33 1913.4 Q1879.33 1906.94 1876.66 1903.28 Q1874.02 1899.59 1869.37 1899.59 Q1864.72 1899.59 1862.05 1903.28 Q1859.41 1906.94 1859.41 1913.4 Q1859.41 1919.87 1862.05 1923.56 Q1864.72 1927.22 1869.37 1927.22 Q1874.02 1927.22 1876.66 1923.56 Q1879.33 1919.87 1879.33 1913.4 Z\" fill=\"#000000\" fill-rule=\"evenodd\" fill-opacity=\"1\" /><path clip-path=\"url(#clip180)\" d=\"M1900.91 1885.43 L1900.91 1895.55 L1912.98 1895.55 L1912.98 1900.1 L1900.91 1900.1 L1900.91 1919.45 Q1900.91 1923.81 1902.09 1925.05 Q1903.3 1926.29 1906.96 1926.29 L1912.98 1926.29 L1912.98 1931.2 L1906.96 1931.2 Q1900.18 1931.2 1897.6 1928.68 Q1895.03 1926.14 1895.03 1919.45 L1895.03 1900.1 L1890.73 1900.1 L1890.73 1895.55 L1895.03 1895.55 L1895.03 1885.43 L1900.91 1885.43 Z\" fill=\"#000000\" fill-rule=\"evenodd\" fill-opacity=\"1\" /><path clip-path=\"url(#clip180)\" d=\"M1950.31 1909.68 L1950.31 1931.2 L1944.45 1931.2 L1944.45 1909.87 Q1944.45 1904.81 1942.48 1902.3 Q1940.51 1899.78 1936.56 1899.78 Q1931.82 1899.78 1929.08 1902.81 Q1926.34 1905.83 1926.34 1911.05 L1926.34 1931.2 L1920.46 1931.2 L1920.46 1881.67 L1926.34 1881.67 L1926.34 1901.09 Q1928.45 1897.87 1931.28 1896.28 Q1934.14 1894.69 1937.87 1894.69 Q1944.01 1894.69 1947.16 1898.51 Q1950.31 1902.3 1950.31 1909.68 Z\" fill=\"#000000\" fill-rule=\"evenodd\" fill-opacity=\"1\" /><polyline clip-path=\"url(#clip185)\" style=\"stroke:#000000; stroke-linecap:round; stroke-linejoin:round; stroke-width:2; stroke-opacity:0.1; fill:none\" points=\"\n",
       "  1394.98,1672.51 2152.76,1672.51 \n",
       "  \"/>\n",
       "<polyline clip-path=\"url(#clip185)\" style=\"stroke:#000000; stroke-linecap:round; stroke-linejoin:round; stroke-width:2; stroke-opacity:0.1; fill:none\" points=\"\n",
       "  1394.98,1518.25 2152.76,1518.25 \n",
       "  \"/>\n",
       "<polyline clip-path=\"url(#clip185)\" style=\"stroke:#000000; stroke-linecap:round; stroke-linejoin:round; stroke-width:2; stroke-opacity:0.1; fill:none\" points=\"\n",
       "  1394.98,1364 2152.76,1364 \n",
       "  \"/>\n",
       "<polyline clip-path=\"url(#clip185)\" style=\"stroke:#000000; stroke-linecap:round; stroke-linejoin:round; stroke-width:2; stroke-opacity:0.1; fill:none\" points=\"\n",
       "  1394.98,1209.75 2152.76,1209.75 \n",
       "  \"/>\n",
       "<polyline clip-path=\"url(#clip185)\" style=\"stroke:#000000; stroke-linecap:round; stroke-linejoin:round; stroke-width:2; stroke-opacity:0.1; fill:none\" points=\"\n",
       "  1394.98,1055.49 2152.76,1055.49 \n",
       "  \"/>\n",
       "<polyline clip-path=\"url(#clip180)\" style=\"stroke:#000000; stroke-linecap:round; stroke-linejoin:round; stroke-width:4; stroke-opacity:1; fill:none\" points=\"\n",
       "  1394.98,1789.33 1394.98,1006.97 \n",
       "  \"/>\n",
       "<polyline clip-path=\"url(#clip180)\" style=\"stroke:#000000; stroke-linecap:round; stroke-linejoin:round; stroke-width:4; stroke-opacity:1; fill:none\" points=\"\n",
       "  2152.76,1789.33 2152.76,1006.97 \n",
       "  \"/>\n",
       "<polyline clip-path=\"url(#clip180)\" style=\"stroke:#000000; stroke-linecap:round; stroke-linejoin:round; stroke-width:4; stroke-opacity:1; fill:none\" points=\"\n",
       "  1394.98,1672.51 1413.88,1672.51 \n",
       "  \"/>\n",
       "<polyline clip-path=\"url(#clip180)\" style=\"stroke:#000000; stroke-linecap:round; stroke-linejoin:round; stroke-width:4; stroke-opacity:1; fill:none\" points=\"\n",
       "  1394.98,1518.25 1413.88,1518.25 \n",
       "  \"/>\n",
       "<polyline clip-path=\"url(#clip180)\" style=\"stroke:#000000; stroke-linecap:round; stroke-linejoin:round; stroke-width:4; stroke-opacity:1; fill:none\" points=\"\n",
       "  1394.98,1364 1413.88,1364 \n",
       "  \"/>\n",
       "<polyline clip-path=\"url(#clip180)\" style=\"stroke:#000000; stroke-linecap:round; stroke-linejoin:round; stroke-width:4; stroke-opacity:1; fill:none\" points=\"\n",
       "  1394.98,1209.75 1413.88,1209.75 \n",
       "  \"/>\n",
       "<polyline clip-path=\"url(#clip180)\" style=\"stroke:#000000; stroke-linecap:round; stroke-linejoin:round; stroke-width:4; stroke-opacity:1; fill:none\" points=\"\n",
       "  1394.98,1055.49 1413.88,1055.49 \n",
       "  \"/>\n",
       "<path clip-path=\"url(#clip180)\" d=\"M1245.48 1658.31 Q1241.87 1658.31 1240.04 1661.87 Q1238.23 1665.41 1238.23 1672.54 Q1238.23 1679.65 1240.04 1683.21 Q1241.87 1686.76 1245.48 1686.76 Q1249.11 1686.76 1250.92 1683.21 Q1252.75 1679.65 1252.75 1672.54 Q1252.75 1665.41 1250.92 1661.87 Q1249.11 1658.31 1245.48 1658.31 M1245.48 1654.6 Q1251.29 1654.6 1254.35 1659.21 Q1257.42 1663.79 1257.42 1672.54 Q1257.42 1681.27 1254.35 1685.88 Q1251.29 1690.46 1245.48 1690.46 Q1239.67 1690.46 1236.59 1685.88 Q1233.54 1681.27 1233.54 1672.54 Q1233.54 1663.79 1236.59 1659.21 Q1239.67 1654.6 1245.48 1654.6 Z\" fill=\"#000000\" fill-rule=\"evenodd\" fill-opacity=\"1\" /><path clip-path=\"url(#clip180)\" d=\"M1265.64 1683.91 L1270.53 1683.91 L1270.53 1689.79 L1265.64 1689.79 L1265.64 1683.91 Z\" fill=\"#000000\" fill-rule=\"evenodd\" fill-opacity=\"1\" /><path clip-path=\"url(#clip180)\" d=\"M1291.29 1670.64 Q1288.14 1670.64 1286.29 1672.8 Q1284.46 1674.95 1284.46 1678.7 Q1284.46 1682.43 1286.29 1684.6 Q1288.14 1686.76 1291.29 1686.76 Q1294.44 1686.76 1296.27 1684.6 Q1298.12 1682.43 1298.12 1678.7 Q1298.12 1674.95 1296.27 1672.8 Q1294.44 1670.64 1291.29 1670.64 M1300.57 1655.99 L1300.57 1660.25 Q1298.81 1659.42 1297.01 1658.98 Q1295.23 1658.54 1293.47 1658.54 Q1288.84 1658.54 1286.38 1661.66 Q1283.95 1664.79 1283.6 1671.11 Q1284.97 1669.09 1287.03 1668.03 Q1289.09 1666.94 1291.57 1666.94 Q1296.78 1666.94 1299.79 1670.11 Q1302.82 1673.26 1302.82 1678.7 Q1302.82 1684.02 1299.67 1687.24 Q1296.52 1690.46 1291.29 1690.46 Q1285.29 1690.46 1282.12 1685.88 Q1278.95 1681.27 1278.95 1672.54 Q1278.95 1664.35 1282.84 1659.49 Q1286.73 1654.6 1293.28 1654.6 Q1295.04 1654.6 1296.82 1654.95 Q1298.63 1655.3 1300.57 1655.99 Z\" fill=\"#000000\" fill-rule=\"evenodd\" fill-opacity=\"1\" /><path clip-path=\"url(#clip180)\" d=\"M1309.69 1655.23 L1331.91 1655.23 L1331.91 1657.22 L1319.37 1689.79 L1314.48 1689.79 L1326.29 1659.16 L1309.69 1659.16 L1309.69 1655.23 Z\" fill=\"#000000\" fill-rule=\"evenodd\" fill-opacity=\"1\" /><path clip-path=\"url(#clip180)\" d=\"M1341.08 1655.23 L1359.44 1655.23 L1359.44 1659.16 L1345.36 1659.16 L1345.36 1667.64 Q1346.38 1667.29 1347.4 1667.13 Q1348.42 1666.94 1349.44 1666.94 Q1355.22 1666.94 1358.6 1670.11 Q1361.98 1673.28 1361.98 1678.7 Q1361.98 1684.28 1358.51 1687.38 Q1355.04 1690.46 1348.72 1690.46 Q1346.54 1690.46 1344.28 1690.09 Q1342.03 1689.72 1339.62 1688.98 L1339.62 1684.28 Q1341.71 1685.41 1343.93 1685.97 Q1346.15 1686.52 1348.63 1686.52 Q1352.63 1686.52 1354.97 1684.42 Q1357.31 1682.31 1357.31 1678.7 Q1357.31 1675.09 1354.97 1672.98 Q1352.63 1670.88 1348.63 1670.88 Q1346.75 1670.88 1344.88 1671.29 Q1343.03 1671.71 1341.08 1672.59 L1341.08 1655.23 Z\" fill=\"#000000\" fill-rule=\"evenodd\" fill-opacity=\"1\" /><path clip-path=\"url(#clip180)\" d=\"M1244.48 1504.05 Q1240.87 1504.05 1239.04 1507.62 Q1237.24 1511.16 1237.24 1518.29 Q1237.24 1525.4 1239.04 1528.96 Q1240.87 1532.5 1244.48 1532.5 Q1248.12 1532.5 1249.92 1528.96 Q1251.75 1525.4 1251.75 1518.29 Q1251.75 1511.16 1249.92 1507.62 Q1248.12 1504.05 1244.48 1504.05 M1244.48 1500.35 Q1250.29 1500.35 1253.35 1504.96 Q1256.43 1509.54 1256.43 1518.29 Q1256.43 1527.02 1253.35 1531.62 Q1250.29 1536.21 1244.48 1536.21 Q1238.67 1536.21 1235.6 1531.62 Q1232.54 1527.02 1232.54 1518.29 Q1232.54 1509.54 1235.6 1504.96 Q1238.67 1500.35 1244.48 1500.35 Z\" fill=\"#000000\" fill-rule=\"evenodd\" fill-opacity=\"1\" /><path clip-path=\"url(#clip180)\" d=\"M1264.65 1529.65 L1269.53 1529.65 L1269.53 1535.53 L1264.65 1535.53 L1264.65 1529.65 Z\" fill=\"#000000\" fill-rule=\"evenodd\" fill-opacity=\"1\" /><path clip-path=\"url(#clip180)\" d=\"M1278.54 1500.97 L1300.76 1500.97 L1300.76 1502.96 L1288.21 1535.53 L1283.33 1535.53 L1295.13 1504.91 L1278.54 1504.91 L1278.54 1500.97 Z\" fill=\"#000000\" fill-rule=\"evenodd\" fill-opacity=\"1\" /><path clip-path=\"url(#clip180)\" d=\"M1319.88 1504.05 Q1316.27 1504.05 1314.44 1507.62 Q1312.63 1511.16 1312.63 1518.29 Q1312.63 1525.4 1314.44 1528.96 Q1316.27 1532.5 1319.88 1532.5 Q1323.51 1532.5 1325.32 1528.96 Q1327.15 1525.4 1327.15 1518.29 Q1327.15 1511.16 1325.32 1507.62 Q1323.51 1504.05 1319.88 1504.05 M1319.88 1500.35 Q1325.69 1500.35 1328.74 1504.96 Q1331.82 1509.54 1331.82 1518.29 Q1331.82 1527.02 1328.74 1531.62 Q1325.69 1536.21 1319.88 1536.21 Q1314.07 1536.21 1310.99 1531.62 Q1307.93 1527.02 1307.93 1518.29 Q1307.93 1509.54 1310.99 1504.96 Q1314.07 1500.35 1319.88 1500.35 Z\" fill=\"#000000\" fill-rule=\"evenodd\" fill-opacity=\"1\" /><path clip-path=\"url(#clip180)\" d=\"M1350.04 1504.05 Q1346.43 1504.05 1344.6 1507.62 Q1342.79 1511.16 1342.79 1518.29 Q1342.79 1525.4 1344.6 1528.96 Q1346.43 1532.5 1350.04 1532.5 Q1353.67 1532.5 1355.48 1528.96 Q1357.31 1525.4 1357.31 1518.29 Q1357.31 1511.16 1355.48 1507.62 Q1353.67 1504.05 1350.04 1504.05 M1350.04 1500.35 Q1355.85 1500.35 1358.91 1504.96 Q1361.98 1509.54 1361.98 1518.29 Q1361.98 1527.02 1358.91 1531.62 Q1355.85 1536.21 1350.04 1536.21 Q1344.23 1536.21 1341.15 1531.62 Q1338.1 1527.02 1338.1 1518.29 Q1338.1 1509.54 1341.15 1504.96 Q1344.23 1500.35 1350.04 1500.35 Z\" fill=\"#000000\" fill-rule=\"evenodd\" fill-opacity=\"1\" /><path clip-path=\"url(#clip180)\" d=\"M1245.48 1349.8 Q1241.87 1349.8 1240.04 1353.36 Q1238.23 1356.91 1238.23 1364.03 Q1238.23 1371.14 1240.04 1374.71 Q1241.87 1378.25 1245.48 1378.25 Q1249.11 1378.25 1250.92 1374.71 Q1252.75 1371.14 1252.75 1364.03 Q1252.75 1356.91 1250.92 1353.36 Q1249.11 1349.8 1245.48 1349.8 M1245.48 1346.1 Q1251.29 1346.1 1254.35 1350.7 Q1257.42 1355.28 1257.42 1364.03 Q1257.42 1372.76 1254.35 1377.37 Q1251.29 1381.95 1245.48 1381.95 Q1239.67 1381.95 1236.59 1377.37 Q1233.54 1372.76 1233.54 1364.03 Q1233.54 1355.28 1236.59 1350.7 Q1239.67 1346.1 1245.48 1346.1 Z\" fill=\"#000000\" fill-rule=\"evenodd\" fill-opacity=\"1\" /><path clip-path=\"url(#clip180)\" d=\"M1265.64 1375.4 L1270.53 1375.4 L1270.53 1381.28 L1265.64 1381.28 L1265.64 1375.4 Z\" fill=\"#000000\" fill-rule=\"evenodd\" fill-opacity=\"1\" /><path clip-path=\"url(#clip180)\" d=\"M1279.53 1346.72 L1301.75 1346.72 L1301.75 1348.71 L1289.21 1381.28 L1284.32 1381.28 L1296.13 1350.66 L1279.53 1350.66 L1279.53 1346.72 Z\" fill=\"#000000\" fill-rule=\"evenodd\" fill-opacity=\"1\" /><path clip-path=\"url(#clip180)\" d=\"M1314.9 1377.34 L1331.22 1377.34 L1331.22 1381.28 L1309.28 1381.28 L1309.28 1377.34 Q1311.94 1374.59 1316.52 1369.96 Q1321.13 1365.31 1322.31 1363.97 Q1324.55 1361.44 1325.43 1359.71 Q1326.34 1357.95 1326.34 1356.26 Q1326.34 1353.5 1324.39 1351.77 Q1322.47 1350.03 1319.37 1350.03 Q1317.17 1350.03 1314.72 1350.79 Q1312.29 1351.56 1309.51 1353.11 L1309.51 1348.39 Q1312.33 1347.25 1314.79 1346.67 Q1317.24 1346.1 1319.28 1346.1 Q1324.65 1346.1 1327.84 1348.78 Q1331.04 1351.47 1331.04 1355.96 Q1331.04 1358.09 1330.22 1360.01 Q1329.44 1361.91 1327.33 1364.5 Q1326.75 1365.17 1323.65 1368.39 Q1320.55 1371.58 1314.9 1377.34 Z\" fill=\"#000000\" fill-rule=\"evenodd\" fill-opacity=\"1\" /><path clip-path=\"url(#clip180)\" d=\"M1341.08 1346.72 L1359.44 1346.72 L1359.44 1350.66 L1345.36 1350.66 L1345.36 1359.13 Q1346.38 1358.78 1347.4 1358.62 Q1348.42 1358.43 1349.44 1358.43 Q1355.22 1358.43 1358.6 1361.6 Q1361.98 1364.78 1361.98 1370.19 Q1361.98 1375.77 1358.51 1378.87 Q1355.04 1381.95 1348.72 1381.95 Q1346.54 1381.95 1344.28 1381.58 Q1342.03 1381.21 1339.62 1380.47 L1339.62 1375.77 Q1341.71 1376.91 1343.93 1377.46 Q1346.15 1378.02 1348.63 1378.02 Q1352.63 1378.02 1354.97 1375.91 Q1357.31 1373.8 1357.31 1370.19 Q1357.31 1366.58 1354.97 1364.47 Q1352.63 1362.37 1348.63 1362.37 Q1346.75 1362.37 1344.88 1362.78 Q1343.03 1363.2 1341.08 1364.08 L1341.08 1346.72 Z\" fill=\"#000000\" fill-rule=\"evenodd\" fill-opacity=\"1\" /><path clip-path=\"url(#clip180)\" d=\"M1244.48 1195.54 Q1240.87 1195.54 1239.04 1199.11 Q1237.24 1202.65 1237.24 1209.78 Q1237.24 1216.89 1239.04 1220.45 Q1240.87 1223.99 1244.48 1223.99 Q1248.12 1223.99 1249.92 1220.45 Q1251.75 1216.89 1251.75 1209.78 Q1251.75 1202.65 1249.92 1199.11 Q1248.12 1195.54 1244.48 1195.54 M1244.48 1191.84 Q1250.29 1191.84 1253.35 1196.45 Q1256.43 1201.03 1256.43 1209.78 Q1256.43 1218.51 1253.35 1223.11 Q1250.29 1227.7 1244.48 1227.7 Q1238.67 1227.7 1235.6 1223.11 Q1232.54 1218.51 1232.54 1209.78 Q1232.54 1201.03 1235.6 1196.45 Q1238.67 1191.84 1244.48 1191.84 Z\" fill=\"#000000\" fill-rule=\"evenodd\" fill-opacity=\"1\" /><path clip-path=\"url(#clip180)\" d=\"M1264.65 1221.15 L1269.53 1221.15 L1269.53 1227.03 L1264.65 1227.03 L1264.65 1221.15 Z\" fill=\"#000000\" fill-rule=\"evenodd\" fill-opacity=\"1\" /><path clip-path=\"url(#clip180)\" d=\"M1278.54 1192.47 L1300.76 1192.47 L1300.76 1194.46 L1288.21 1227.03 L1283.33 1227.03 L1295.13 1196.4 L1278.54 1196.4 L1278.54 1192.47 Z\" fill=\"#000000\" fill-rule=\"evenodd\" fill-opacity=\"1\" /><path clip-path=\"url(#clip180)\" d=\"M1309.92 1192.47 L1328.28 1192.47 L1328.28 1196.4 L1314.21 1196.4 L1314.21 1204.87 Q1315.22 1204.53 1316.24 1204.36 Q1317.26 1204.18 1318.28 1204.18 Q1324.07 1204.18 1327.45 1207.35 Q1330.83 1210.52 1330.83 1215.94 Q1330.83 1221.52 1327.35 1224.62 Q1323.88 1227.7 1317.56 1227.7 Q1315.39 1227.7 1313.12 1227.33 Q1310.87 1226.96 1308.47 1226.22 L1308.47 1221.52 Q1310.55 1222.65 1312.77 1223.21 Q1314.99 1223.76 1317.47 1223.76 Q1321.47 1223.76 1323.81 1221.66 Q1326.15 1219.55 1326.15 1215.94 Q1326.15 1212.33 1323.81 1210.22 Q1321.47 1208.11 1317.47 1208.11 Q1315.6 1208.11 1313.72 1208.53 Q1311.87 1208.95 1309.92 1209.83 L1309.92 1192.47 Z\" fill=\"#000000\" fill-rule=\"evenodd\" fill-opacity=\"1\" /><path clip-path=\"url(#clip180)\" d=\"M1350.04 1195.54 Q1346.43 1195.54 1344.6 1199.11 Q1342.79 1202.65 1342.79 1209.78 Q1342.79 1216.89 1344.6 1220.45 Q1346.43 1223.99 1350.04 1223.99 Q1353.67 1223.99 1355.48 1220.45 Q1357.31 1216.89 1357.31 1209.78 Q1357.31 1202.65 1355.48 1199.11 Q1353.67 1195.54 1350.04 1195.54 M1350.04 1191.84 Q1355.85 1191.84 1358.91 1196.45 Q1361.98 1201.03 1361.98 1209.78 Q1361.98 1218.51 1358.91 1223.11 Q1355.85 1227.7 1350.04 1227.7 Q1344.23 1227.7 1341.15 1223.11 Q1338.1 1218.51 1338.1 1209.78 Q1338.1 1201.03 1341.15 1196.45 Q1344.23 1191.84 1350.04 1191.84 Z\" fill=\"#000000\" fill-rule=\"evenodd\" fill-opacity=\"1\" /><path clip-path=\"url(#clip180)\" d=\"M1245.48 1041.29 Q1241.87 1041.29 1240.04 1044.86 Q1238.23 1048.4 1238.23 1055.53 Q1238.23 1062.63 1240.04 1066.2 Q1241.87 1069.74 1245.48 1069.74 Q1249.11 1069.74 1250.92 1066.2 Q1252.75 1062.63 1252.75 1055.53 Q1252.75 1048.4 1250.92 1044.86 Q1249.11 1041.29 1245.48 1041.29 M1245.48 1037.59 Q1251.29 1037.59 1254.35 1042.19 Q1257.42 1046.78 1257.42 1055.53 Q1257.42 1064.25 1254.35 1068.86 Q1251.29 1073.44 1245.48 1073.44 Q1239.67 1073.44 1236.59 1068.86 Q1233.54 1064.25 1233.54 1055.53 Q1233.54 1046.78 1236.59 1042.19 Q1239.67 1037.59 1245.48 1037.59 Z\" fill=\"#000000\" fill-rule=\"evenodd\" fill-opacity=\"1\" /><path clip-path=\"url(#clip180)\" d=\"M1265.64 1066.89 L1270.53 1066.89 L1270.53 1072.77 L1265.64 1072.77 L1265.64 1066.89 Z\" fill=\"#000000\" fill-rule=\"evenodd\" fill-opacity=\"1\" /><path clip-path=\"url(#clip180)\" d=\"M1279.53 1038.21 L1301.75 1038.21 L1301.75 1040.2 L1289.21 1072.77 L1284.32 1072.77 L1296.13 1042.15 L1279.53 1042.15 L1279.53 1038.21 Z\" fill=\"#000000\" fill-rule=\"evenodd\" fill-opacity=\"1\" /><path clip-path=\"url(#clip180)\" d=\"M1309.69 1038.21 L1331.91 1038.21 L1331.91 1040.2 L1319.37 1072.77 L1314.48 1072.77 L1326.29 1042.15 L1309.69 1042.15 L1309.69 1038.21 Z\" fill=\"#000000\" fill-rule=\"evenodd\" fill-opacity=\"1\" /><path clip-path=\"url(#clip180)\" d=\"M1341.08 1038.21 L1359.44 1038.21 L1359.44 1042.15 L1345.36 1042.15 L1345.36 1050.62 Q1346.38 1050.27 1347.4 1050.11 Q1348.42 1049.93 1349.44 1049.93 Q1355.22 1049.93 1358.6 1053.1 Q1361.98 1056.27 1361.98 1061.68 Q1361.98 1067.26 1358.51 1070.37 Q1355.04 1073.44 1348.72 1073.44 Q1346.54 1073.44 1344.28 1073.07 Q1342.03 1072.7 1339.62 1071.96 L1339.62 1067.26 Q1341.71 1068.4 1343.93 1068.95 Q1346.15 1069.51 1348.63 1069.51 Q1352.63 1069.51 1354.97 1067.4 Q1357.31 1065.3 1357.31 1061.68 Q1357.31 1058.07 1354.97 1055.97 Q1352.63 1053.86 1348.63 1053.86 Q1346.75 1053.86 1344.88 1054.28 Q1343.03 1054.69 1341.08 1055.57 L1341.08 1038.21 Z\" fill=\"#000000\" fill-rule=\"evenodd\" fill-opacity=\"1\" /><path clip-path=\"url(#clip180)\" d=\"M1144.1 1644.2 L1167.75 1652.92 L1167.75 1635.45 L1144.1 1644.2 M1137.76 1647.83 L1137.76 1640.54 L1185.28 1622.43 L1185.28 1629.12 L1173.09 1633.44 L1173.09 1654.86 L1185.28 1659.19 L1185.28 1665.97 L1137.76 1647.83 Z\" fill=\"#000000\" fill-rule=\"evenodd\" fill-opacity=\"1\" /><path clip-path=\"url(#clip180)\" d=\"M1155.11 1595.09 Q1154.54 1596.08 1154.28 1597.25 Q1154 1598.4 1154 1599.8 Q1154 1604.77 1157.24 1607.44 Q1160.46 1610.08 1166.51 1610.08 L1185.28 1610.08 L1185.28 1615.97 L1149.64 1615.97 L1149.64 1610.08 L1155.17 1610.08 Q1151.93 1608.24 1150.37 1605.28 Q1148.78 1602.32 1148.78 1598.08 Q1148.78 1597.48 1148.87 1596.75 Q1148.94 1596.01 1149.1 1595.12 L1155.11 1595.09 Z\" fill=\"#000000\" fill-rule=\"evenodd\" fill-opacity=\"1\" /><path clip-path=\"url(#clip180)\" d=\"M1166 1559.89 L1168.86 1559.89 L1168.86 1586.81 Q1174.91 1586.43 1178.09 1583.19 Q1181.24 1579.91 1181.24 1574.08 Q1181.24 1570.71 1180.41 1567.56 Q1179.59 1564.38 1177.93 1561.26 L1183.47 1561.26 Q1184.81 1564.41 1185.51 1567.72 Q1186.21 1571.03 1186.21 1574.43 Q1186.21 1582.96 1181.24 1587.96 Q1176.28 1592.93 1167.81 1592.93 Q1159.06 1592.93 1153.93 1588.22 Q1148.78 1583.47 1148.78 1575.45 Q1148.78 1568.26 1153.42 1564.09 Q1158.04 1559.89 1166 1559.89 M1164.28 1565.74 Q1159.47 1565.81 1156.61 1568.45 Q1153.74 1571.06 1153.74 1575.39 Q1153.74 1580.29 1156.51 1583.25 Q1159.28 1586.18 1164.31 1586.62 L1164.28 1565.74 Z\" fill=\"#000000\" fill-rule=\"evenodd\" fill-opacity=\"1\" /><path clip-path=\"url(#clip180)\" d=\"M1167.36 1534.08 Q1167.36 1541.17 1168.99 1543.91 Q1170.61 1546.65 1174.53 1546.65 Q1177.65 1546.65 1179.49 1544.61 Q1181.31 1542.54 1181.31 1539.01 Q1181.31 1534.14 1177.87 1531.21 Q1174.4 1528.25 1168.67 1528.25 L1167.36 1528.25 L1167.36 1534.08 M1164.95 1522.39 L1185.28 1522.39 L1185.28 1528.25 L1179.87 1528.25 Q1183.12 1530.26 1184.68 1533.25 Q1186.21 1536.24 1186.21 1540.57 Q1186.21 1546.04 1183.15 1549.29 Q1180.06 1552.5 1174.91 1552.5 Q1168.89 1552.5 1165.84 1548.49 Q1162.78 1544.45 1162.78 1536.46 L1162.78 1528.25 L1162.21 1528.25 Q1158.17 1528.25 1155.97 1530.92 Q1153.74 1533.57 1153.74 1538.37 Q1153.74 1541.43 1154.47 1544.32 Q1155.21 1547.22 1156.67 1549.89 L1151.26 1549.89 Q1150.02 1546.68 1149.41 1543.66 Q1148.78 1540.63 1148.78 1537.77 Q1148.78 1530.03 1152.79 1526.21 Q1156.8 1522.39 1164.95 1522.39 Z\" fill=\"#000000\" fill-rule=\"evenodd\" fill-opacity=\"1\" /><path clip-path=\"url(#clip180)\" d=\"M1137.76 1510.81 L1137.76 1504.35 L1166.63 1504.35 Q1174.27 1504.35 1177.65 1501.58 Q1180.99 1498.81 1180.99 1492.6 Q1180.99 1486.43 1177.65 1483.66 Q1174.27 1480.89 1166.63 1480.89 L1137.76 1480.89 L1137.76 1474.43 L1167.43 1474.43 Q1176.72 1474.43 1181.46 1479.04 Q1186.21 1483.63 1186.21 1492.6 Q1186.21 1501.61 1181.46 1506.23 Q1176.72 1510.81 1167.43 1510.81 L1137.76 1510.81 Z\" fill=\"#000000\" fill-rule=\"evenodd\" fill-opacity=\"1\" /><path clip-path=\"url(#clip180)\" d=\"M1163.77 1432.99 L1185.28 1432.99 L1185.28 1438.84 L1163.96 1438.84 Q1158.9 1438.84 1156.38 1440.82 Q1153.87 1442.79 1153.87 1446.74 Q1153.87 1451.48 1156.89 1454.22 Q1159.92 1456.95 1165.14 1456.95 L1185.28 1456.95 L1185.28 1462.84 L1149.64 1462.84 L1149.64 1456.95 L1155.17 1456.95 Q1151.96 1454.85 1150.37 1452.02 Q1148.78 1449.16 1148.78 1445.43 Q1148.78 1439.29 1152.6 1436.14 Q1156.38 1432.99 1163.77 1432.99 Z\" fill=\"#000000\" fill-rule=\"evenodd\" fill-opacity=\"1\" /><path clip-path=\"url(#clip180)\" d=\"M1155.05 1397.85 L1135.76 1397.85 L1135.76 1391.99 L1185.28 1391.99 L1185.28 1397.85 L1179.94 1397.85 Q1183.12 1399.7 1184.68 1402.53 Q1186.21 1405.33 1186.21 1409.28 Q1186.21 1415.74 1181.05 1419.81 Q1175.89 1423.85 1167.49 1423.85 Q1159.09 1423.85 1153.93 1419.81 Q1148.78 1415.74 1148.78 1409.28 Q1148.78 1405.33 1150.34 1402.53 Q1151.86 1399.7 1155.05 1397.85 M1167.49 1417.81 Q1173.95 1417.81 1177.65 1415.16 Q1181.31 1412.49 1181.31 1407.84 Q1181.31 1403.2 1177.65 1400.52 Q1173.95 1397.85 1167.49 1397.85 Q1161.03 1397.85 1157.37 1400.52 Q1153.68 1403.2 1153.68 1407.84 Q1153.68 1412.49 1157.37 1415.16 Q1161.03 1417.81 1167.49 1417.81 Z\" fill=\"#000000\" fill-rule=\"evenodd\" fill-opacity=\"1\" /><path clip-path=\"url(#clip180)\" d=\"M1166 1349.44 L1168.86 1349.44 L1168.86 1376.36 Q1174.91 1375.98 1178.09 1372.74 Q1181.24 1369.46 1181.24 1363.63 Q1181.24 1360.26 1180.41 1357.11 Q1179.59 1353.93 1177.93 1350.81 L1183.47 1350.81 Q1184.81 1353.96 1185.51 1357.27 Q1186.21 1360.58 1186.21 1363.98 Q1186.21 1372.51 1181.24 1377.51 Q1176.28 1382.48 1167.81 1382.48 Q1159.06 1382.48 1153.93 1377.77 Q1148.78 1373.02 1148.78 1365 Q1148.78 1357.81 1153.42 1353.64 Q1158.04 1349.44 1166 1349.44 M1164.28 1355.29 Q1159.47 1355.36 1156.61 1358 Q1153.74 1360.61 1153.74 1364.94 Q1153.74 1369.84 1156.51 1372.8 Q1159.28 1375.73 1164.31 1376.17 L1164.28 1355.29 Z\" fill=\"#000000\" fill-rule=\"evenodd\" fill-opacity=\"1\" /><path clip-path=\"url(#clip180)\" d=\"M1155.11 1319.17 Q1154.54 1320.16 1154.28 1321.33 Q1154 1322.48 1154 1323.88 Q1154 1328.84 1157.24 1331.52 Q1160.46 1334.16 1166.51 1334.16 L1185.28 1334.16 L1185.28 1340.05 L1149.64 1340.05 L1149.64 1334.16 L1155.17 1334.16 Q1151.93 1332.31 1150.37 1329.35 Q1148.78 1326.39 1148.78 1322.16 Q1148.78 1321.56 1148.87 1320.82 Q1148.94 1320.09 1149.1 1319.2 L1155.11 1319.17 Z\" fill=\"#000000\" fill-rule=\"evenodd\" fill-opacity=\"1\" /><path clip-path=\"url(#clip180)\" d=\"M1141.42 1277.19 L1148.2 1277.19 Q1145.18 1280.43 1143.68 1284.13 Q1142.19 1287.79 1142.19 1291.92 Q1142.19 1300.07 1147.19 1304.4 Q1152.15 1308.73 1161.57 1308.73 Q1170.96 1308.73 1175.96 1304.4 Q1180.92 1300.07 1180.92 1291.92 Q1180.92 1287.79 1179.43 1284.13 Q1177.93 1280.43 1174.91 1277.19 L1181.62 1277.19 Q1183.92 1280.56 1185.06 1284.35 Q1186.21 1288.1 1186.21 1292.31 Q1186.21 1303.1 1179.62 1309.3 Q1173 1315.51 1161.57 1315.51 Q1150.11 1315.51 1143.53 1309.3 Q1136.9 1303.1 1136.9 1292.31 Q1136.9 1288.04 1138.05 1284.28 Q1139.16 1280.5 1141.42 1277.19 Z\" fill=\"#000000\" fill-rule=\"evenodd\" fill-opacity=\"1\" /><path clip-path=\"url(#clip180)\" d=\"M1171.22 1268.12 L1149.64 1268.12 L1149.64 1262.26 L1170.99 1262.26 Q1176.05 1262.26 1178.6 1260.29 Q1181.11 1258.31 1181.11 1254.37 Q1181.11 1249.62 1178.09 1246.89 Q1175.07 1244.12 1169.85 1244.12 L1149.64 1244.12 L1149.64 1238.26 L1185.28 1238.26 L1185.28 1244.12 L1179.81 1244.12 Q1183.06 1246.25 1184.65 1249.08 Q1186.21 1251.88 1186.21 1255.61 Q1186.21 1261.75 1182.39 1264.93 Q1178.57 1268.12 1171.22 1268.12 M1148.78 1253.38 L1148.78 1253.38 Z\" fill=\"#000000\" fill-rule=\"evenodd\" fill-opacity=\"1\" /><path clip-path=\"url(#clip180)\" d=\"M1155.11 1205.54 Q1154.54 1206.53 1154.28 1207.71 Q1154 1208.85 1154 1210.25 Q1154 1215.22 1157.24 1217.89 Q1160.46 1220.53 1166.51 1220.53 L1185.28 1220.53 L1185.28 1226.42 L1149.64 1226.42 L1149.64 1220.53 L1155.17 1220.53 Q1151.93 1218.69 1150.37 1215.73 Q1148.78 1212.77 1148.78 1208.53 Q1148.78 1207.93 1148.87 1207.2 Q1148.94 1206.46 1149.1 1205.57 L1155.11 1205.54 Z\" fill=\"#000000\" fill-rule=\"evenodd\" fill-opacity=\"1\" /><path clip-path=\"url(#clip180)\" d=\"M1149.64 1203.6 L1149.64 1197.39 L1179.56 1186.25 L1149.64 1175.11 L1149.64 1168.91 L1185.28 1182.27 L1185.28 1190.23 L1149.64 1203.6 Z\" fill=\"#000000\" fill-rule=\"evenodd\" fill-opacity=\"1\" /><path clip-path=\"url(#clip180)\" d=\"M1166 1130.33 L1168.86 1130.33 L1168.86 1157.26 Q1174.91 1156.88 1178.09 1153.63 Q1181.24 1150.35 1181.24 1144.53 Q1181.24 1141.15 1180.41 1138 Q1179.59 1134.82 1177.93 1131.7 L1183.47 1131.7 Q1184.81 1134.85 1185.51 1138.16 Q1186.21 1141.47 1186.21 1144.88 Q1186.21 1153.41 1181.24 1158.4 Q1176.28 1163.37 1167.81 1163.37 Q1159.06 1163.37 1153.93 1158.66 Q1148.78 1153.92 1148.78 1145.89 Q1148.78 1138.7 1153.42 1134.53 Q1158.04 1130.33 1166 1130.33 M1164.28 1136.19 Q1159.47 1136.25 1156.61 1138.89 Q1153.74 1141.5 1153.74 1145.83 Q1153.74 1150.73 1156.51 1153.69 Q1159.28 1156.62 1164.31 1157.07 L1164.28 1136.19 Z\" fill=\"#000000\" fill-rule=\"evenodd\" fill-opacity=\"1\" /><circle clip-path=\"url(#clip185)\" cx=\"1850.46\" cy=\"1094.94\" r=\"14.4\" fill=\"#009af9\" fill-rule=\"evenodd\" fill-opacity=\"1\" stroke=\"#000000\" stroke-opacity=\"1\" stroke-width=\"4\"/>\n",
       "<circle clip-path=\"url(#clip185)\" cx=\"1416.43\" cy=\"1480.99\" r=\"14.4\" fill=\"#009af9\" fill-rule=\"evenodd\" fill-opacity=\"1\" stroke=\"#000000\" stroke-opacity=\"1\" stroke-width=\"4\"/>\n",
       "<circle clip-path=\"url(#clip185)\" cx=\"2131.31\" cy=\"1045.62\" r=\"14.4\" fill=\"#009af9\" fill-rule=\"evenodd\" fill-opacity=\"1\" stroke=\"#000000\" stroke-opacity=\"1\" stroke-width=\"4\"/>\n",
       "<circle clip-path=\"url(#clip185)\" cx=\"1569.62\" cy=\"1210.74\" r=\"14.4\" fill=\"#009af9\" fill-rule=\"evenodd\" fill-opacity=\"1\" stroke=\"#000000\" stroke-opacity=\"1\" stroke-width=\"4\"/>\n",
       "<circle clip-path=\"url(#clip185)\" cx=\"1850.46\" cy=\"1058.72\" r=\"14.4\" fill=\"#009af9\" fill-rule=\"evenodd\" fill-opacity=\"1\" stroke=\"#000000\" stroke-opacity=\"1\" stroke-width=\"4\"/>\n",
       "<circle clip-path=\"url(#clip185)\" cx=\"1850.46\" cy=\"1058.78\" r=\"14.4\" fill=\"#009af9\" fill-rule=\"evenodd\" fill-opacity=\"1\" stroke=\"#000000\" stroke-opacity=\"1\" stroke-width=\"4\"/>\n",
       "<circle clip-path=\"url(#clip185)\" cx=\"1978.12\" cy=\"1029.11\" r=\"14.4\" fill=\"#009af9\" fill-rule=\"evenodd\" fill-opacity=\"1\" stroke=\"#000000\" stroke-opacity=\"1\" stroke-width=\"4\"/>\n",
       "<circle clip-path=\"url(#clip185)\" cx=\"1850.46\" cy=\"1042.25\" r=\"14.4\" fill=\"#009af9\" fill-rule=\"evenodd\" fill-opacity=\"1\" stroke=\"#000000\" stroke-opacity=\"1\" stroke-width=\"4\"/>\n",
       "<circle clip-path=\"url(#clip185)\" cx=\"1978.12\" cy=\"1043.43\" r=\"14.4\" fill=\"#009af9\" fill-rule=\"evenodd\" fill-opacity=\"1\" stroke=\"#000000\" stroke-opacity=\"1\" stroke-width=\"4\"/>\n",
       "<circle clip-path=\"url(#clip185)\" cx=\"1850.46\" cy=\"1204.73\" r=\"14.4\" fill=\"#009af9\" fill-rule=\"evenodd\" fill-opacity=\"1\" stroke=\"#000000\" stroke-opacity=\"1\" stroke-width=\"4\"/>\n",
       "<circle clip-path=\"url(#clip185)\" cx=\"1850.46\" cy=\"1050.65\" r=\"14.4\" fill=\"#009af9\" fill-rule=\"evenodd\" fill-opacity=\"1\" stroke=\"#000000\" stroke-opacity=\"1\" stroke-width=\"4\"/>\n",
       "<circle clip-path=\"url(#clip185)\" cx=\"1978.12\" cy=\"1072.95\" r=\"14.4\" fill=\"#009af9\" fill-rule=\"evenodd\" fill-opacity=\"1\" stroke=\"#000000\" stroke-opacity=\"1\" stroke-width=\"4\"/>\n",
       "<circle clip-path=\"url(#clip185)\" cx=\"1697.28\" cy=\"1149.79\" r=\"14.4\" fill=\"#009af9\" fill-rule=\"evenodd\" fill-opacity=\"1\" stroke=\"#000000\" stroke-opacity=\"1\" stroke-width=\"4\"/>\n",
       "<circle clip-path=\"url(#clip185)\" cx=\"1416.43\" cy=\"1510.64\" r=\"14.4\" fill=\"#009af9\" fill-rule=\"evenodd\" fill-opacity=\"1\" stroke=\"#000000\" stroke-opacity=\"1\" stroke-width=\"4\"/>\n",
       "<circle clip-path=\"url(#clip185)\" cx=\"1416.43\" cy=\"1597.32\" r=\"14.4\" fill=\"#009af9\" fill-rule=\"evenodd\" fill-opacity=\"1\" stroke=\"#000000\" stroke-opacity=\"1\" stroke-width=\"4\"/>\n",
       "<circle clip-path=\"url(#clip185)\" cx=\"1569.62\" cy=\"1194.3\" r=\"14.4\" fill=\"#009af9\" fill-rule=\"evenodd\" fill-opacity=\"1\" stroke=\"#000000\" stroke-opacity=\"1\" stroke-width=\"4\"/>\n",
       "<circle clip-path=\"url(#clip185)\" cx=\"1978.12\" cy=\"1032.25\" r=\"14.4\" fill=\"#009af9\" fill-rule=\"evenodd\" fill-opacity=\"1\" stroke=\"#000000\" stroke-opacity=\"1\" stroke-width=\"4\"/>\n",
       "<circle clip-path=\"url(#clip185)\" cx=\"1569.62\" cy=\"1454.86\" r=\"14.4\" fill=\"#009af9\" fill-rule=\"evenodd\" fill-opacity=\"1\" stroke=\"#000000\" stroke-opacity=\"1\" stroke-width=\"4\"/>\n",
       "<circle clip-path=\"url(#clip185)\" cx=\"1569.62\" cy=\"1310.3\" r=\"14.4\" fill=\"#009af9\" fill-rule=\"evenodd\" fill-opacity=\"1\" stroke=\"#000000\" stroke-opacity=\"1\" stroke-width=\"4\"/>\n",
       "<circle clip-path=\"url(#clip185)\" cx=\"1569.62\" cy=\"1180.23\" r=\"14.4\" fill=\"#009af9\" fill-rule=\"evenodd\" fill-opacity=\"1\" stroke=\"#000000\" stroke-opacity=\"1\" stroke-width=\"4\"/>\n",
       "<circle clip-path=\"url(#clip185)\" cx=\"2131.31\" cy=\"1053.24\" r=\"14.4\" fill=\"#009af9\" fill-rule=\"evenodd\" fill-opacity=\"1\" stroke=\"#000000\" stroke-opacity=\"1\" stroke-width=\"4\"/>\n",
       "<circle clip-path=\"url(#clip185)\" cx=\"1569.62\" cy=\"1243.08\" r=\"14.4\" fill=\"#009af9\" fill-rule=\"evenodd\" fill-opacity=\"1\" stroke=\"#000000\" stroke-opacity=\"1\" stroke-width=\"4\"/>\n",
       "<circle clip-path=\"url(#clip185)\" cx=\"1697.28\" cy=\"1109.05\" r=\"14.4\" fill=\"#009af9\" fill-rule=\"evenodd\" fill-opacity=\"1\" stroke=\"#000000\" stroke-opacity=\"1\" stroke-width=\"4\"/>\n",
       "<circle clip-path=\"url(#clip185)\" cx=\"1978.12\" cy=\"1169.02\" r=\"14.4\" fill=\"#009af9\" fill-rule=\"evenodd\" fill-opacity=\"1\" stroke=\"#000000\" stroke-opacity=\"1\" stroke-width=\"4\"/>\n",
       "<circle clip-path=\"url(#clip185)\" cx=\"2131.31\" cy=\"1038.31\" r=\"14.4\" fill=\"#009af9\" fill-rule=\"evenodd\" fill-opacity=\"1\" stroke=\"#000000\" stroke-opacity=\"1\" stroke-width=\"4\"/>\n",
       "<circle clip-path=\"url(#clip185)\" cx=\"1978.12\" cy=\"1057.1\" r=\"14.4\" fill=\"#009af9\" fill-rule=\"evenodd\" fill-opacity=\"1\" stroke=\"#000000\" stroke-opacity=\"1\" stroke-width=\"4\"/>\n",
       "<circle clip-path=\"url(#clip185)\" cx=\"2131.31\" cy=\"1041.12\" r=\"14.4\" fill=\"#009af9\" fill-rule=\"evenodd\" fill-opacity=\"1\" stroke=\"#000000\" stroke-opacity=\"1\" stroke-width=\"4\"/>\n",
       "<circle clip-path=\"url(#clip185)\" cx=\"1697.28\" cy=\"1101.35\" r=\"14.4\" fill=\"#009af9\" fill-rule=\"evenodd\" fill-opacity=\"1\" stroke=\"#000000\" stroke-opacity=\"1\" stroke-width=\"4\"/>\n",
       "<circle clip-path=\"url(#clip185)\" cx=\"1416.43\" cy=\"1767.19\" r=\"14.4\" fill=\"#009af9\" fill-rule=\"evenodd\" fill-opacity=\"1\" stroke=\"#000000\" stroke-opacity=\"1\" stroke-width=\"4\"/>\n",
       "<circle clip-path=\"url(#clip185)\" cx=\"1697.28\" cy=\"1082.9\" r=\"14.4\" fill=\"#009af9\" fill-rule=\"evenodd\" fill-opacity=\"1\" stroke=\"#000000\" stroke-opacity=\"1\" stroke-width=\"4\"/>\n",
       "<circle clip-path=\"url(#clip185)\" cx=\"2131.31\" cy=\"1203.19\" r=\"14.4\" fill=\"#009af9\" fill-rule=\"evenodd\" fill-opacity=\"1\" stroke=\"#000000\" stroke-opacity=\"1\" stroke-width=\"4\"/>\n",
       "<circle clip-path=\"url(#clip185)\" cx=\"1416.43\" cy=\"1525.82\" r=\"14.4\" fill=\"#009af9\" fill-rule=\"evenodd\" fill-opacity=\"1\" stroke=\"#000000\" stroke-opacity=\"1\" stroke-width=\"4\"/>\n",
       "<circle clip-path=\"url(#clip185)\" cx=\"1416.43\" cy=\"1521.25\" r=\"14.4\" fill=\"#009af9\" fill-rule=\"evenodd\" fill-opacity=\"1\" stroke=\"#000000\" stroke-opacity=\"1\" stroke-width=\"4\"/>\n",
       "<circle clip-path=\"url(#clip185)\" cx=\"1697.28\" cy=\"1261.02\" r=\"14.4\" fill=\"#009af9\" fill-rule=\"evenodd\" fill-opacity=\"1\" stroke=\"#000000\" stroke-opacity=\"1\" stroke-width=\"4\"/>\n",
       "<circle clip-path=\"url(#clip185)\" cx=\"1697.28\" cy=\"1091.57\" r=\"14.4\" fill=\"#009af9\" fill-rule=\"evenodd\" fill-opacity=\"1\" stroke=\"#000000\" stroke-opacity=\"1\" stroke-width=\"4\"/>\n",
       "<circle clip-path=\"url(#clip185)\" cx=\"2131.31\" cy=\"1089.64\" r=\"14.4\" fill=\"#009af9\" fill-rule=\"evenodd\" fill-opacity=\"1\" stroke=\"#000000\" stroke-opacity=\"1\" stroke-width=\"4\"/>\n",
       "</svg>\n"
      ]
     },
     "execution_count": 28,
     "metadata": {},
     "output_type": "execute_result"
    }
   ],
   "source": [
    "plot(mach)"
   ]
  },
  {
   "cell_type": "markdown",
   "id": "67efc227",
   "metadata": {},
   "source": [
    "Let's see the specification of the best model - `max_depth` is set to 24 and `n_trees` to 66, while other hyperparameters retained default values."
   ]
  },
  {
   "cell_type": "code",
   "execution_count": 29,
   "id": "35713e35",
   "metadata": {},
   "outputs": [
    {
     "data": {
      "text/plain": [
       "RandomForestClassifier(\n",
       "  max_depth = 24, \n",
       "  min_samples_leaf = 1, \n",
       "  min_samples_split = 2, \n",
       "  min_purity_increase = 0.0, \n",
       "  n_subfeatures = -1, \n",
       "  n_trees = 66, \n",
       "  sampling_fraction = 0.7, \n",
       "  feature_importance = :impurity, \n",
       "  rng = MersenneTwister(42, (0, 46171206, 46170204, 441, 38874, 944)))"
      ]
     },
     "execution_count": 29,
     "metadata": {},
     "output_type": "execute_result"
    }
   ],
   "source": [
    "best_model = fitted_params(mach).best_model"
   ]
  },
  {
   "cell_type": "markdown",
   "id": "778b44c8",
   "metadata": {},
   "source": [
    "Using initial `evaluate` call we can easily compare tuned model performance to the default forest."
   ]
  },
  {
   "cell_type": "code",
   "execution_count": 30,
   "id": "250d8a31",
   "metadata": {},
   "outputs": [
    {
     "data": {
      "text/plain": [
       "PerformanceEvaluation object with these fields:\n",
       "  measure, operation, measurement, per_fold,\n",
       "  per_observation, fitted_params_per_fold,\n",
       "  report_per_fold, train_test_rows\n",
       "Extract:\n",
       "┌──────────────────┬──────────────┬─────────────┬──────────┐\n",
       "│\u001b[22m measure          \u001b[0m│\u001b[22m operation    \u001b[0m│\u001b[22m measurement \u001b[0m│\u001b[22m per_fold \u001b[0m│\n",
       "├──────────────────┼──────────────┼─────────────┼──────────┤\n",
       "│ Accuracy()       │ predict_mode │ 0.9         │ [0.9]    │\n",
       "│ AreaUnderCurve() │ predict      │ 0.795       │ [0.795]  │\n",
       "│ FScore(          │ predict_mode │ 0.396       │ [0.396]  │\n",
       "│   β = 1.0,       │              │             │          │\n",
       "│   rev = nothing) │              │             │          │\n",
       "└──────────────────┴──────────────┴─────────────┴──────────┘\n"
      ]
     },
     "execution_count": 30,
     "metadata": {},
     "output_type": "execute_result"
    }
   ],
   "source": [
    "evaluate(best_model, X_prepared, y, resampling=split, measure=measures)"
   ]
  },
  {
   "cell_type": "markdown",
   "id": "2d9a4049",
   "metadata": {},
   "source": [
    "In the usual ML workflow, all candidate models (in our example those were: `RandomForestClassifier`, `EvoTreeClassifier`, `LinearPerceptron`) would be tuned and the best model from each class would be assessed on the holdout set to pick the best overall model. We didn't follow the approach as it would be time consuming and the additional tuning steps are analogous to the one performed."
   ]
  },
  {
   "cell_type": "code",
   "execution_count": 31,
   "id": "bb00fa0e",
   "metadata": {},
   "outputs": [
    {
     "data": {
      "text/plain": [
       "10-element CategoricalArrays.CategoricalArray{String3,1,UInt32}:\n",
       " String3(\"no\")\n",
       " String3(\"no\")\n",
       " String3(\"no\")\n",
       " String3(\"no\")\n",
       " String3(\"no\")\n",
       " String3(\"no\")\n",
       " String3(\"no\")\n",
       " String3(\"no\")\n",
       " String3(\"no\")\n",
       " String3(\"no\")"
      ]
     },
     "execution_count": 31,
     "metadata": {},
     "output_type": "execute_result"
    }
   ],
   "source": [
    "predict_mode(mach, X_prepared[1:10,:])"
   ]
  },
  {
   "cell_type": "markdown",
   "id": "c80723a2",
   "metadata": {},
   "source": [
    "For the model deployment `MLJ` models can be saved to disk with `save` function - for details check the [Saving machines section in the documentation](https://alan-turing-institute.github.io/MLJ.jl/dev/machines/#Saving-machines)."
   ]
  },
  {
   "cell_type": "code",
   "execution_count": 32,
   "id": "22a1e9fe",
   "metadata": {},
   "outputs": [],
   "source": [
    "MLJ.save(\"forest.mlj\", mach)"
   ]
  },
  {
   "cell_type": "code",
   "execution_count": 33,
   "id": "0ef74613",
   "metadata": {},
   "outputs": [
    {
     "data": {
      "text/plain": [
       "trained Machine; does not cache data\n",
       "  model: ProbabilisticTunedModel(model = RandomForestClassifier(max_depth = -1, …), …)\n",
       "  args: \n"
      ]
     },
     "execution_count": 33,
     "metadata": {},
     "output_type": "execute_result"
    }
   ],
   "source": [
    "mach_predict_only = machine(\"forest.mlj\")"
   ]
  },
  {
   "cell_type": "code",
   "execution_count": 34,
   "id": "37589c8d",
   "metadata": {},
   "outputs": [
    {
     "data": {
      "text/plain": [
       "10-element CategoricalDistributions.UnivariateFiniteVector{OrderedFactor{2}, String3, UInt32, Float64}:\n",
       " UnivariateFinite{OrderedFactor{2}}(no=>1.0, yes=>0.0)\n",
       " UnivariateFinite{OrderedFactor{2}}(no=>1.0, yes=>0.0)\n",
       " UnivariateFinite{OrderedFactor{2}}(no=>1.0, yes=>0.0)\n",
       " UnivariateFinite{OrderedFactor{2}}(no=>1.0, yes=>0.0)\n",
       " UnivariateFinite{OrderedFactor{2}}(no=>1.0, yes=>0.0)\n",
       " UnivariateFinite{OrderedFactor{2}}(no=>0.985, yes=>0.0152)\n",
       " UnivariateFinite{OrderedFactor{2}}(no=>1.0, yes=>0.0)\n",
       " UnivariateFinite{OrderedFactor{2}}(no=>1.0, yes=>0.0)\n",
       " UnivariateFinite{OrderedFactor{2}}(no=>0.955, yes=>0.0455)\n",
       " UnivariateFinite{OrderedFactor{2}}(no=>0.97, yes=>0.0303)"
      ]
     },
     "execution_count": 34,
     "metadata": {},
     "output_type": "execute_result"
    }
   ],
   "source": [
    "predict(mach_predict_only, X_prepared[1:10,:])"
   ]
  },
  {
   "cell_type": "markdown",
   "id": "069f4311",
   "metadata": {},
   "source": [
    "*Preparation of this workshop has been supported by the Polish National Agency for Academic Exchange under the Strategic Partnerships programme, grant number BPI/PST/2021/1/00069/U/00001.*\n",
    "\n",
    "![SGH & NAWA](img/logo.png)"
   ]
  },
  {
   "cell_type": "code",
   "execution_count": null,
   "id": "5c603b3a",
   "metadata": {},
   "outputs": [],
   "source": []
  }
 ],
 "metadata": {
  "kernelspec": {
   "display_name": "Julia 1.8.5",
   "language": "julia",
   "name": "julia-1.8"
  },
  "language_info": {
   "file_extension": ".jl",
   "mimetype": "application/julia",
   "name": "julia",
   "version": "1.8.5"
  }
 },
 "nbformat": 4,
 "nbformat_minor": 5
}
