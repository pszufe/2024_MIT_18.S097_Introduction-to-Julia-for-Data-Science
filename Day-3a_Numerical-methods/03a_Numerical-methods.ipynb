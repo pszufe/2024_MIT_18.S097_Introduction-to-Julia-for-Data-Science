{
 "cells": [
  {
   "cell_type": "markdown",
   "metadata": {},
   "source": [
    "# Numerical methods with Julia\n",
    "\n",
    "## Michał Bernardelli"
   ]
  },
  {
   "cell_type": "markdown",
   "metadata": {},
   "source": [
    "#### Julia packages"
   ]
  },
  {
   "cell_type": "code",
   "execution_count": null,
   "metadata": {},
   "outputs": [],
   "source": [
    "using LinearAlgebra\n",
    "using SpecialMatrices\n",
    "using Plots"
   ]
  },
  {
   "cell_type": "markdown",
   "metadata": {},
   "source": [
    "#### How small is zero?"
   ]
  },
  {
   "cell_type": "code",
   "execution_count": null,
   "metadata": {},
   "outputs": [],
   "source": [
    "# Float32 data type\n",
    "i = 1\n",
    "x = Float32(1)\n",
    "while i < 50\n",
    "    x = x/10\n",
    "    println(\"(\", i, \") \", x)\n",
    "    i += 1\n",
    "end"
   ]
  },
  {
   "cell_type": "code",
   "execution_count": null,
   "metadata": {},
   "outputs": [],
   "source": [
    "# Float64 data type\n",
    "i = 1\n",
    "x = Float64(1)\n",
    "while i < 350\n",
    "    x = x/10\n",
    "    println(\"(\", i, \") \", x)\n",
    "    i += 1\n",
    "end"
   ]
  },
  {
   "cell_type": "code",
   "execution_count": null,
   "metadata": {},
   "outputs": [],
   "source": [
    "# arithmetic precision\n",
    "@show eps(Float32);\n",
    "@show eps(Float64);"
   ]
  },
  {
   "cell_type": "markdown",
   "metadata": {},
   "source": [
    "#### Binary system and roundings"
   ]
  },
  {
   "cell_type": "code",
   "execution_count": null,
   "metadata": {},
   "outputs": [],
   "source": [
    "# binary expansion of 1/2\n",
    "bitstring(0.5)"
   ]
  },
  {
   "cell_type": "code",
   "execution_count": null,
   "metadata": {},
   "outputs": [],
   "source": [
    "# binary expansion of 1/10\n",
    "bitstring(0.1)"
   ]
  },
  {
   "cell_type": "code",
   "execution_count": null,
   "metadata": {},
   "outputs": [],
   "source": [
    "function arithmetic_operations(iter, term)\n",
    "    result = 1\n",
    "    \n",
    "    for i in 1:iter\n",
    "        result += term\n",
    "    end\n",
    "    for i in 1:iter\n",
    "        result -= term\n",
    "    end\n",
    "    println(\"Result for term \", term, \" (\", iter, \" times) is equal \", result)\n",
    "    return result\n",
    "end"
   ]
  },
  {
   "cell_type": "code",
   "execution_count": null,
   "metadata": {},
   "outputs": [],
   "source": [
    "arithmetic_operations(100, 1/2);\n",
    "arithmetic_operations(1000, 1/2);\n",
    "arithmetic_operations(10000, 1/2);\n",
    "arithmetic_operations(100, 1/3);\n",
    "arithmetic_operations(1000, 1/3);\n",
    "arithmetic_operations(10000, 1/3);\n",
    "arithmetic_operations(100, 1/10);\n",
    "arithmetic_operations(1000, 1/10);\n",
    "arithmetic_operations(10000, 1/10);"
   ]
  },
  {
   "cell_type": "markdown",
   "metadata": {},
   "source": [
    "#### Determining the value of sine"
   ]
  },
  {
   "cell_type": "code",
   "execution_count": null,
   "metadata": {},
   "outputs": [],
   "source": [
    "pi"
   ]
  },
  {
   "cell_type": "code",
   "execution_count": null,
   "metadata": {},
   "outputs": [],
   "source": [
    "@show Float64(pi);\n",
    "@show sin(0);\n",
    "@show sin(2*pi);\n",
    "@show sin(20*pi);\n",
    "@show sin(2000*pi);\n",
    "@show sin(2e6*pi);\n",
    "@show sin(2e19*pi);"
   ]
  },
  {
   "cell_type": "markdown",
   "metadata": {},
   "source": [
    "#### Commutative property of addition (in floating point arithmetics)"
   ]
  },
  {
   "cell_type": "code",
   "execution_count": null,
   "metadata": {},
   "outputs": [],
   "source": [
    "# adding numbers in different order\n",
    "@show 53.54 + 104.44 - 158.98;\n",
    "@show 104.44 - 158.98 + 53.54;"
   ]
  },
  {
   "cell_type": "markdown",
   "metadata": {},
   "source": [
    "#### Inverse of a matrix"
   ]
  },
  {
   "cell_type": "markdown",
   "metadata": {},
   "source": [
    "![MATRIX_INVERSE](excel_inverse_matrix.png)"
   ]
  },
  {
   "cell_type": "code",
   "execution_count": null,
   "metadata": {
    "scrolled": true
   },
   "outputs": [],
   "source": [
    "# matrix\n",
    "A = [1.0 2 3; 4 5 6; 7 8 9];\n",
    "\n",
    "# inverse of a matrix\n",
    "@show inv(A);"
   ]
  },
  {
   "cell_type": "markdown",
   "metadata": {},
   "source": [
    "#### Solving system of linear equations"
   ]
  },
  {
   "cell_type": "code",
   "execution_count": null,
   "metadata": {},
   "outputs": [],
   "source": [
    "A = [1.2969 0.8648; 0.2161 0.1441];\n",
    "b = [0.8642; 0.144];\n",
    "x_given = [0.9911; -0.4870];\n",
    "@show A;\n",
    "@show b;"
   ]
  },
  {
   "cell_type": "code",
   "execution_count": null,
   "metadata": {},
   "outputs": [],
   "source": [
    "# check\n",
    "@show b-A*x_given;"
   ]
  },
  {
   "cell_type": "code",
   "execution_count": null,
   "metadata": {},
   "outputs": [],
   "source": [
    "# solve with inv\n",
    "x_inv = inv(A)*b;\n",
    "@show b-A*x_inv;"
   ]
  },
  {
   "cell_type": "code",
   "execution_count": null,
   "metadata": {},
   "outputs": [],
   "source": [
    "# solve with \\\n",
    "x_sol = A\\b;\n",
    "@show b-A*x_sol;"
   ]
  },
  {
   "cell_type": "code",
   "execution_count": null,
   "metadata": {},
   "outputs": [],
   "source": [
    "# actual solution\n",
    "x_actual = [2; -2];\n",
    "@show b-A*x_actual;"
   ]
  },
  {
   "cell_type": "code",
   "execution_count": null,
   "metadata": {},
   "outputs": [],
   "source": [
    "# comparison\n",
    "@show x_given;\n",
    "@show x_inv;\n",
    "@show x_sol;\n",
    "@show x_actual;"
   ]
  },
  {
   "cell_type": "markdown",
   "metadata": {},
   "source": [
    "#### Hilbert's matrix"
   ]
  },
  {
   "cell_type": "code",
   "execution_count": null,
   "metadata": {},
   "outputs": [],
   "source": [
    "# own implementation of Hilbert's matrix\n",
    "function hilb(n::Int) \n",
    "    return [1/(i+j-1) for i in 1:n, j in 1:n]\n",
    "end"
   ]
  },
  {
   "cell_type": "code",
   "execution_count": null,
   "metadata": {},
   "outputs": [],
   "source": [
    "function hilb_solve(n)\n",
    "    H = hilb(n);\n",
    "    b = ones(n,1);\n",
    "    x = inv(H)*b;\n",
    "    @show (H*x)[1:5];\n",
    "    @show norm(b-H*x,2);\n",
    "    @show norm(b-H*x,Inf);\n",
    "end"
   ]
  },
  {
   "cell_type": "code",
   "execution_count": null,
   "metadata": {},
   "outputs": [],
   "source": [
    "println(\"-------- n = 5 ---------\")\n",
    "hilb_solve(5);\n",
    "println(\"\\n-------- n = 20 ---------\")\n",
    "hilb_solve(20);\n",
    "println(\"\\n-------- n = 40 ---------\")\n",
    "hilb_solve(40);"
   ]
  },
  {
   "cell_type": "code",
   "execution_count": null,
   "metadata": {},
   "outputs": [],
   "source": [
    "# inverse f Hilbert's matrix - Float64\n",
    "H = hilb(5);\n",
    "display(inv(H)*H);"
   ]
  },
  {
   "cell_type": "code",
   "execution_count": null,
   "metadata": {},
   "outputs": [],
   "source": [
    "# inverse f Hilbert's matrix - Rational{Int64}\n",
    "H = Hilbert(5);\n",
    "display(H);\n",
    "display(inv(H)*H);"
   ]
  },
  {
   "cell_type": "code",
   "execution_count": null,
   "metadata": {},
   "outputs": [],
   "source": [
    "function hilb_solve_better(n)\n",
    "    H = hilb(n);\n",
    "    b = ones(n,1);\n",
    "    x = H\\b;\n",
    "    @show (H*x)[1:5];\n",
    "    @show norm(b-H*x,2);\n",
    "    @show norm(b-H*x,Inf);\n",
    "end"
   ]
  },
  {
   "cell_type": "code",
   "execution_count": null,
   "metadata": {},
   "outputs": [],
   "source": [
    "println(\"-------- n = 5 ---------\")\n",
    "hilb_solve_better(5);\n",
    "println(\"\\n-------- n = 20 ---------\")\n",
    "hilb_solve_better(20);\n",
    "println(\"\\n-------- n = 40 ---------\")\n",
    "hilb_solve_better(40);"
   ]
  },
  {
   "cell_type": "markdown",
   "metadata": {},
   "source": [
    "#### Matrix condition number"
   ]
  },
  {
   "cell_type": "code",
   "execution_count": null,
   "metadata": {},
   "outputs": [],
   "source": [
    "# condition number of the tridiagonal matrix\n",
    "n = 20;\n",
    "cond_tridiagonal = zeros(n);\n",
    "for i in 1:n\n",
    "    A = Array(Tridiagonal(-1*ones(i-1), 2*ones(i), -1*ones(i-1)));\n",
    "    cond_tridiagonal[i] = cond(A);\n",
    "end\n",
    "plot(cond_tridiagonal, label = \"matrix condition number\")"
   ]
  },
  {
   "cell_type": "code",
   "execution_count": null,
   "metadata": {},
   "outputs": [],
   "source": [
    "# condition number of the Hilbert's matrix\n",
    "n = 10;\n",
    "cond_hilbert = zeros(n);\n",
    "for i in 1:n\n",
    "    cond_hilbert[i] = cond(hilb(i));\n",
    "end\n",
    "plot(cond_hilbert, label = \"matrix condition number\")"
   ]
  },
  {
   "cell_type": "markdown",
   "metadata": {},
   "source": [
    "#### Calculating exp"
   ]
  },
  {
   "cell_type": "code",
   "execution_count": null,
   "metadata": {},
   "outputs": [],
   "source": [
    "# first draft of the solution\n",
    "function my_exp(x, max_iter = 1000)\n",
    "    result = 1;\n",
    "    tmp = 1;\n",
    "    for k = 1:max_iter\n",
    "        tmp *= x/k;\n",
    "        result += tmp;\n",
    "    end\n",
    "    println(\"\\nexp for x = \", x)\n",
    "    @show exp(x);\n",
    "    @show result;\n",
    "    @show (exp(x) - result);\n",
    "    return result\n",
    "end"
   ]
  },
  {
   "cell_type": "code",
   "execution_count": null,
   "metadata": {},
   "outputs": [],
   "source": [
    "my_exp(0, 10);\n",
    "my_exp(1, 100);\n",
    "my_exp(10, 1000);\n",
    "my_exp(25, 1000);\n",
    "my_exp(50, 10000);\n",
    "my_exp(100, 10000);\n",
    "my_exp(-10, 1000);\n",
    "my_exp(-25, 1000);\n",
    "my_exp(-50, 10000);\n",
    "my_exp(-100, 10000);"
   ]
  },
  {
   "cell_type": "code",
   "execution_count": null,
   "metadata": {},
   "outputs": [],
   "source": [
    "# first draft of the solution\n",
    "function my_exp_better(x, max_iter = 1000)\n",
    "    result = 1;\n",
    "    tmp = 1;\n",
    "    for k = 1:max_iter\n",
    "        tmp *= abs(x)/k;\n",
    "        result += tmp;\n",
    "    end\n",
    "    if (x < 0)\n",
    "        result = 1/result;\n",
    "    end\n",
    "    println(\"\\nexp for x = \", x)\n",
    "    @show exp(x);\n",
    "    @show result;\n",
    "    @show (exp(x) - result);\n",
    "    return result\n",
    "end"
   ]
  },
  {
   "cell_type": "code",
   "execution_count": null,
   "metadata": {},
   "outputs": [],
   "source": [
    "my_exp_better(-25, 1000);\n",
    "my_exp_better(-50, 10000);\n",
    "my_exp_better(-100, 10000);"
   ]
  },
  {
   "cell_type": "markdown",
   "metadata": {},
   "source": [
    "*Preparation of this workshop has been supported by the Polish National Agency for Academic Exchange under the Strategic Partnerships programme, grant number BPI/PST/2021/1/00069/U/00001.*\n",
    "\n",
    "![SGH & NAWA](logo.png)"
   ]
  }
 ],
 "metadata": {
  "kernelspec": {
   "display_name": "Julia 1.8.3",
   "language": "julia",
   "name": "julia-1.8"
  },
  "language_info": {
   "file_extension": ".jl",
   "mimetype": "application/julia",
   "name": "julia",
   "version": "1.8.3"
  }
 },
 "nbformat": 4,
 "nbformat_minor": 4
}
