{
 "cells": [
  {
   "cell_type": "markdown",
   "metadata": {},
   "source": [
    "# Numerical methods with Julia\n",
    "\n",
    "## Michał Bernardelli"
   ]
  },
  {
   "cell_type": "markdown",
   "metadata": {},
   "source": [
    "#### Julia packages"
   ]
  },
  {
   "cell_type": "code",
   "execution_count": 1,
   "metadata": {},
   "outputs": [],
   "source": [
    "using LinearAlgebra\n",
    "using SpecialMatrices\n",
    "using Plots\n",
    "using DataFrames"
   ]
  },
  {
   "cell_type": "markdown",
   "metadata": {},
   "source": [
    "#### How small is zero?"
   ]
  },
  {
   "cell_type": "code",
   "execution_count": 2,
   "metadata": {},
   "outputs": [
    {
     "name": "stdout",
     "output_type": "stream",
     "text": [
      "(1) 0.1\n",
      "(2) 0.01\n",
      "(3) 0.0009999999\n",
      "(4) 9.999999e-5\n",
      "(5) 9.999999e-6\n",
      "(6) 9.999999e-7\n",
      "(7) 9.999999e-8\n",
      "(8) 9.999999e-9\n",
      "(9) 9.999999e-10\n",
      "(10) 9.999999e-11\n",
      "(11) 9.999999e-12\n",
      "(12) 9.999999e-13\n",
      "(13) 9.999999e-14\n",
      "(14) 9.999999e-15\n",
      "(15) 9.999999e-16\n",
      "(16) 9.999999e-17\n",
      "(17) 9.999999e-18\n",
      "(18) 9.999999e-19\n",
      "(19) 1.0e-19\n",
      "(20) 1.0e-20\n",
      "(21) 1.0e-21\n",
      "(22) 9.9999997e-23\n",
      "(23) 1.0e-23\n",
      "(24) 1.0e-24\n",
      "(25) 1.0e-25\n",
      "(26) 1.0e-26\n",
      "(27) 1.0e-27\n",
      "(28) 1.0e-28\n",
      "(29) 1.0e-29\n",
      "(30) 1.0e-30\n",
      "(31) 1.0e-31\n",
      "(32) 9.9999995e-33\n",
      "(33) 9.999999e-34\n",
      "(34) 9.999999e-35\n",
      "(35) 9.9999995e-36\n",
      "(36) 9.9999995e-37\n",
      "(37) 1.0e-37\n",
      "(38) 1.0e-38\n",
      "(39) 1.0e-39\n",
      "(40) 1.0e-40\n",
      "(41) 1.0e-41\n",
      "(42) 1.0e-42\n",
      "(43) 1.0e-43\n",
      "(44) 1.0e-44\n",
      "(45) 1.0e-45\n",
      "(46) 0.0\n",
      "(47) 0.0\n",
      "(48) 0.0\n",
      "(49) 0.0\n"
     ]
    }
   ],
   "source": [
    "# Float32 data type\n",
    "i = 1\n",
    "x = Float32(1)\n",
    "while i < 50\n",
    "    x = x/10\n",
    "    println(\"(\", i, \") \", x)\n",
    "    i += 1\n",
    "end"
   ]
  },
  {
   "cell_type": "code",
   "execution_count": 3,
   "metadata": {},
   "outputs": [
    {
     "name": "stdout",
     "output_type": "stream",
     "text": [
      "(1) 0.1\n",
      "(2) 0.01\n",
      "(3) 0.001\n",
      "(4) 0.0001\n",
      "(5) 1.0e-5\n",
      "(6) 1.0000000000000002e-6\n",
      "(7) 1.0000000000000002e-7\n",
      "(8) 1.0000000000000002e-8\n",
      "(9) 1.0000000000000003e-9\n",
      "(10) 1.0000000000000003e-10\n",
      "(11) 1.0000000000000003e-11\n",
      "(12) 1.0000000000000002e-12\n",
      "(13) 1.0000000000000002e-13\n",
      "(14) 1.0000000000000002e-14\n",
      "(15) 1.0e-15\n",
      "(16) 1.0000000000000001e-16\n",
      "(17) 1.0e-17\n",
      "(18) 1.0e-18\n",
      "(19) 1.0000000000000001e-19\n",
      "(20) 1.0000000000000001e-20\n",
      "(21) 1.0000000000000001e-21\n",
      "(22) 1.0e-22\n",
      "(23) 1.0000000000000001e-23\n",
      "(24) 1.0000000000000001e-24\n",
      "(25) 1.0000000000000002e-25\n",
      "(26) 1.0000000000000002e-26\n",
      "(27) 1.0000000000000002e-27\n",
      "(28) 1.0000000000000002e-28\n",
      "(29) 1.0000000000000002e-29\n",
      "(30) 1.0000000000000003e-30\n",
      "(31) 1.0000000000000003e-31\n",
      "(32) 1.0000000000000003e-32\n",
      "(33) 1.0000000000000004e-33\n",
      "(34) 1.0000000000000004e-34\n",
      "(35) 1.0000000000000004e-35\n",
      "(36) 1.0000000000000004e-36\n",
      "(37) 1.0000000000000005e-37\n",
      "(38) 1.0000000000000005e-38\n",
      "(39) 1.0000000000000004e-39\n",
      "(40) 1.0000000000000003e-40\n",
      "(41) 1.0000000000000004e-41\n",
      "(42) 1.0000000000000004e-42\n",
      "(43) 1.0000000000000003e-43\n",
      "(44) 1.0000000000000003e-44\n",
      "(45) 1.0000000000000003e-45\n",
      "(46) 1.0000000000000002e-46\n",
      "(47) 1.0000000000000002e-47\n",
      "(48) 1.0000000000000003e-48\n",
      "(49) 1.0000000000000003e-49\n",
      "(50) 1.0000000000000004e-50\n",
      "(51) 1.0000000000000003e-51\n",
      "(52) 1.0000000000000004e-52\n",
      "(53) 1.0000000000000004e-53\n",
      "(54) 1.0000000000000003e-54\n",
      "(55) 1.0000000000000004e-55\n",
      "(56) 1.0000000000000004e-56\n",
      "(57) 1.0000000000000004e-57\n",
      "(58) 1.0000000000000004e-58\n",
      "(59) 1.0000000000000005e-59\n",
      "(60) 1.0000000000000005e-60\n",
      "(61) 1.0000000000000006e-61\n",
      "(62) 1.0000000000000005e-62\n",
      "(63) 1.0000000000000005e-63\n",
      "(64) 1.0000000000000005e-64\n",
      "(65) 1.0000000000000006e-65\n",
      "(66) 1.0000000000000005e-66\n",
      "(67) 1.0000000000000004e-67\n",
      "(68) 1.0000000000000005e-68\n",
      "(69) 1.0000000000000005e-69\n",
      "(70) 1.0000000000000005e-70\n",
      "(71) 1.0000000000000005e-71\n",
      "(72) 1.0000000000000005e-72\n",
      "(73) 1.0000000000000005e-73\n",
      "(74) 1.0000000000000005e-74\n",
      "(75) 1.0000000000000006e-75\n",
      "(76) 1.0000000000000005e-76\n",
      "(77) 1.0000000000000005e-77\n",
      "(78) 1.0000000000000005e-78\n",
      "(79) 1.0000000000000004e-79\n",
      "(80) 1.0000000000000005e-80\n",
      "(81) 1.0000000000000005e-81\n",
      "(82) 1.0000000000000005e-82\n",
      "(83) 1.0000000000000006e-83\n",
      "(84) 1.0000000000000006e-84\n",
      "(85) 1.0000000000000005e-85\n",
      "(86) 1.0000000000000006e-86\n",
      "(87) 1.0000000000000006e-87\n",
      "(88) 1.0000000000000006e-88\n",
      "(89) 1.0000000000000006e-89\n",
      "(90) 1.0000000000000006e-90\n",
      "(91) 1.0000000000000007e-91\n",
      "(92) 1.0000000000000007e-92\n",
      "(93) 1.0000000000000008e-93\n",
      "(94) 1.0000000000000008e-94\n",
      "(95) 1.0000000000000008e-95\n",
      "(96) 1.0000000000000007e-96\n",
      "(97) 1.0000000000000007e-97\n",
      "(98) 1.0000000000000008e-98\n",
      "(99) 1.0000000000000008e-99\n",
      "(100) 1.0000000000000008e-100\n",
      "(101) 1.0000000000000008e-101\n",
      "(102) 1.000000000000001e-102\n",
      "(103) 1.000000000000001e-103\n",
      "(104) 1.000000000000001e-104\n",
      "(105) 1.000000000000001e-105\n",
      "(106) 1.0000000000000009e-106\n",
      "(107) 1.0000000000000009e-107\n",
      "(108) 1.000000000000001e-108\n",
      "(109) 1.0000000000000009e-109\n",
      "(110) 1.000000000000001e-110\n",
      "(111) 1.000000000000001e-111\n",
      "(112) 1.000000000000001e-112\n",
      "(113) 1.000000000000001e-113\n",
      "(114) 1.000000000000001e-114\n",
      "(115) 1.000000000000001e-115\n",
      "(116) 1.000000000000001e-116\n",
      "(117) 1.0000000000000009e-117\n",
      "(118) 1.0000000000000009e-118\n",
      "(119) 1.0000000000000008e-119\n",
      "(120) 1.0000000000000008e-120\n",
      "(121) 1.0000000000000008e-121\n",
      "(122) 1.0000000000000009e-122\n",
      "(123) 1.0000000000000009e-123\n",
      "(124) 1.000000000000001e-124\n",
      "(125) 1.0000000000000009e-125\n",
      "(126) 1.000000000000001e-126\n",
      "(127) 1.0000000000000008e-127\n",
      "(128) 1.0000000000000008e-128\n",
      "(129) 1.0000000000000009e-129\n",
      "(130) 1.0000000000000009e-130\n",
      "(131) 1.0000000000000009e-131\n",
      "(132) 1.000000000000001e-132\n",
      "(133) 1.0000000000000008e-133\n",
      "(134) 1.0000000000000009e-134\n",
      "(135) 1.000000000000001e-135\n",
      "(136) 1.000000000000001e-136\n",
      "(137) 1.0000000000000009e-137\n",
      "(138) 1.000000000000001e-138\n",
      "(139) 1.000000000000001e-139\n",
      "(140) 1.0000000000000009e-140\n",
      "(141) 1.0000000000000009e-141\n",
      "(142) 1.000000000000001e-142\n",
      "(143) 1.000000000000001e-143\n",
      "(144) 1.000000000000001e-144\n",
      "(145) 1.000000000000001e-145\n",
      "(146) 1.000000000000001e-146\n",
      "(147) 1.0000000000000011e-147\n",
      "(148) 1.0000000000000012e-148\n",
      "(149) 1.000000000000001e-149\n",
      "(150) 1.0000000000000011e-150\n",
      "(151) 1.0000000000000011e-151\n",
      "(152) 1.0000000000000011e-152\n",
      "(153) 1.0000000000000011e-153\n",
      "(154) 1.0000000000000011e-154\n",
      "(155) 1.000000000000001e-155\n",
      "(156) 1.0000000000000011e-156\n",
      "(157) 1.000000000000001e-157\n",
      "(158) 1.000000000000001e-158\n",
      "(159) 1.0000000000000011e-159\n",
      "(160) 1.0000000000000011e-160\n",
      "(161) 1.000000000000001e-161\n",
      "(162) 1.0000000000000011e-162\n",
      "(163) 1.000000000000001e-163\n",
      "(164) 1.000000000000001e-164\n",
      "(165) 1.000000000000001e-165\n",
      "(166) 1.000000000000001e-166\n",
      "(167) 1.000000000000001e-167\n",
      "(168) 1.000000000000001e-168\n",
      "(169) 1.000000000000001e-169\n",
      "(170) 1.000000000000001e-170\n",
      "(171) 1.0000000000000011e-171\n",
      "(172) 1.0000000000000012e-172\n",
      "(173) 1.0000000000000011e-173\n",
      "(174) 1.0000000000000011e-174\n",
      "(175) 1.0000000000000011e-175\n",
      "(176) 1.000000000000001e-176\n",
      "(177) 1.000000000000001e-177\n",
      "(178) 1.000000000000001e-178\n",
      "(179) 1.000000000000001e-179\n",
      "(180) 1.000000000000001e-180\n",
      "(181) 1.0000000000000011e-181\n",
      "(182) 1.000000000000001e-182\n",
      "(183) 1.000000000000001e-183\n",
      "(184) 1.0000000000000011e-184\n",
      "(185) 1.0000000000000011e-185\n",
      "(186) 1.0000000000000011e-186\n",
      "(187) 1.0000000000000012e-187\n",
      "(188) 1.0000000000000012e-188\n",
      "(189) 1.0000000000000013e-189\n",
      "(190) 1.0000000000000013e-190\n",
      "(191) 1.0000000000000013e-191\n",
      "(192) 1.0000000000000013e-192\n",
      "(193) 1.0000000000000013e-193\n",
      "(194) 1.0000000000000012e-194\n",
      "(195) 1.0000000000000012e-195\n",
      "(196) 1.0000000000000012e-196\n",
      "(197) 1.0000000000000012e-197\n",
      "(198) 1.0000000000000012e-198\n",
      "(199) 1.0000000000000013e-199\n",
      "(200) 1.0000000000000013e-200\n",
      "(201) 1.0000000000000012e-201\n",
      "(202) 1.0000000000000012e-202\n",
      "(203) 1.0000000000000012e-203\n",
      "(204) 1.0000000000000012e-204\n",
      "(205) 1.0000000000000013e-205\n",
      "(206) 1.0000000000000013e-206\n",
      "(207) 1.0000000000000013e-207\n",
      "(208) 1.0000000000000014e-208\n",
      "(209) 1.0000000000000014e-209\n",
      "(210) 1.0000000000000014e-210\n",
      "(211) 1.0000000000000014e-211\n",
      "(212) 1.0000000000000014e-212\n",
      "(213) 1.0000000000000014e-213\n",
      "(214) 1.0000000000000014e-214\n",
      "(215) 1.0000000000000013e-215\n",
      "(216) 1.0000000000000013e-216\n",
      "(217) 1.0000000000000013e-217\n",
      "(218) 1.0000000000000013e-218\n",
      "(219) 1.0000000000000013e-219\n",
      "(220) 1.0000000000000014e-220\n",
      "(221) 1.0000000000000014e-221\n",
      "(222) 1.0000000000000014e-222\n",
      "(223) 1.0000000000000015e-223\n",
      "(224) 1.0000000000000015e-224\n",
      "(225) 1.0000000000000015e-225\n",
      "(226) 1.0000000000000014e-226\n",
      "(227) 1.0000000000000015e-227\n",
      "(228) 1.0000000000000015e-228\n",
      "(229) 1.0000000000000015e-229\n",
      "(230) 1.0000000000000015e-230\n",
      "(231) 1.0000000000000016e-231\n",
      "(232) 1.0000000000000016e-232\n",
      "(233) 1.0000000000000016e-233\n",
      "(234) 1.0000000000000016e-234\n",
      "(235) 1.0000000000000017e-235\n",
      "(236) 1.0000000000000018e-236\n",
      "(237) 1.0000000000000018e-237\n",
      "(238) 1.0000000000000017e-238\n",
      "(239) 1.0000000000000018e-239\n",
      "(240) 1.0000000000000018e-240\n",
      "(241) 1.0000000000000018e-241\n",
      "(242) 1.0000000000000018e-242\n",
      "(243) 1.0000000000000018e-243\n",
      "(244) 1.0000000000000019e-244\n",
      "(245) 1.000000000000002e-245\n",
      "(246) 1.000000000000002e-246\n",
      "(247) 1.000000000000002e-247\n",
      "(248) 1.000000000000002e-248\n",
      "(249) 1.0000000000000019e-249\n",
      "(250) 1.0000000000000019e-250\n",
      "(251) 1.000000000000002e-251\n",
      "(252) 1.000000000000002e-252\n",
      "(253) 1.000000000000002e-253\n",
      "(254) 1.000000000000002e-254\n",
      "(255) 1.000000000000002e-255\n",
      "(256) 1.000000000000002e-256\n",
      "(257) 1.000000000000002e-257\n",
      "(258) 1.000000000000002e-258\n",
      "(259) 1.0000000000000021e-259\n",
      "(260) 1.0000000000000021e-260\n",
      "(261) 1.0000000000000021e-261\n",
      "(262) 1.0000000000000021e-262\n",
      "(263) 1.0000000000000021e-263\n",
      "(264) 1.0000000000000022e-264\n",
      "(265) 1.0000000000000022e-265\n",
      "(266) 1.0000000000000022e-266\n",
      "(267) 1.0000000000000021e-267\n",
      "(268) 1.0000000000000021e-268\n",
      "(269) 1.0000000000000021e-269\n",
      "(270) 1.0000000000000021e-270\n",
      "(271) 1.0000000000000022e-271\n",
      "(272) 1.0000000000000022e-272\n",
      "(273) 1.0000000000000021e-273\n",
      "(274) 1.0000000000000021e-274\n",
      "(275) 1.0000000000000022e-275\n",
      "(276) 1.000000000000002e-276\n",
      "(277) 1.0000000000000021e-277\n",
      "(278) 1.0000000000000021e-278\n",
      "(279) 1.0000000000000022e-279\n",
      "(280) 1.0000000000000022e-280\n",
      "(281) 1.0000000000000022e-281\n",
      "(282) 1.0000000000000021e-282\n",
      "(283) 1.0000000000000021e-283\n",
      "(284) 1.0000000000000021e-284\n",
      "(285) 1.0000000000000021e-285\n",
      "(286) 1.0000000000000022e-286\n",
      "(287) 1.0000000000000022e-287\n",
      "(288) 1.0000000000000022e-288\n",
      "(289) 1.0000000000000023e-289\n",
      "(290) 1.0000000000000023e-290\n",
      "(291) 1.0000000000000023e-291\n",
      "(292) 1.0000000000000023e-292\n",
      "(293) 1.0000000000000023e-293\n",
      "(294) 1.0000000000000023e-294\n",
      "(295) 1.0000000000000022e-295\n",
      "(296) 1.0000000000000022e-296\n",
      "(297) 1.0000000000000022e-297\n",
      "(298) 1.0000000000000022e-298\n",
      "(299) 1.0000000000000022e-299\n",
      "(300) 1.0000000000000022e-300\n",
      "(301) 1.0000000000000021e-301\n",
      "(302) 1.0000000000000022e-302\n",
      "(303) 1.0000000000000022e-303\n",
      "(304) 1.0000000000000022e-304\n",
      "(305) 1.0000000000000021e-305\n",
      "(306) 1.0000000000000021e-306\n",
      "(307) 1.000000000000002e-307\n",
      "(308) 1.000000000000002e-308\n",
      "(309) 1.0e-309\n",
      "(310) 1.0e-310\n",
      "(311) 1.0e-311\n",
      "(312) 1.0e-312\n",
      "(313) 1.0e-313\n",
      "(314) 1.0e-314\n",
      "(315) 1.0e-315\n",
      "(316) 1.0e-316\n",
      "(317) 9.999997e-318\n",
      "(318) 1.0e-318\n",
      "(319) 1.0e-319\n",
      "(320) 1.0e-320\n",
      "(321) 1.0e-321\n",
      "(322) 1.0e-322\n",
      "(323) 1.0e-323\n",
      "(324) 0.0\n",
      "(325) 0.0\n",
      "(326) 0.0\n",
      "(327) 0.0\n",
      "(328) 0.0\n",
      "(329) 0.0\n",
      "(330) 0.0\n",
      "(331) 0.0\n",
      "(332) 0.0\n",
      "(333) 0.0\n",
      "(334) 0.0\n",
      "(335) 0.0\n",
      "(336) 0.0\n",
      "(337) 0.0\n",
      "(338) 0.0\n",
      "(339) 0.0\n",
      "(340) 0.0\n",
      "(341) 0.0\n",
      "(342) 0.0\n",
      "(343) 0.0\n",
      "(344) 0.0\n",
      "(345) 0.0\n",
      "(346) 0.0\n",
      "(347) 0.0\n",
      "(348) 0.0\n",
      "(349) 0.0\n"
     ]
    }
   ],
   "source": [
    "# Float64 data type\n",
    "i = 1\n",
    "x = Float64(1)\n",
    "while i < 350\n",
    "    x = x/10\n",
    "    println(\"(\", i, \") \", x)\n",
    "    i += 1\n",
    "end"
   ]
  },
  {
   "cell_type": "code",
   "execution_count": 4,
   "metadata": {},
   "outputs": [
    {
     "name": "stdout",
     "output_type": "stream",
     "text": [
      "eps(Float32) = 1.1920929f-7\n",
      "eps(Float64) = 2.220446049250313e-16\n",
      "floatmin(Float32) = 1.1754944f-38\n",
      "floatmin(Float64) = 2.2250738585072014e-308\n",
      "floatmax(Float32) = 3.4028235f38\n",
      "floatmax(Float64) = 1.7976931348623157e308\n"
     ]
    }
   ],
   "source": [
    "# arithmetic precision\n",
    "@show eps(Float32);\n",
    "@show eps(Float64);\n",
    "# smallest absolute and highest finite value of the given floating-point data type\n",
    "@show floatmin(Float32);\n",
    "@show floatmin(Float64);\n",
    "# highest finite value of the given floating-point data type\n",
    "@show floatmax(Float32);\n",
    "@show floatmax(Float64);"
   ]
  },
  {
   "cell_type": "markdown",
   "metadata": {},
   "source": [
    "#### Binary system and roundings"
   ]
  },
  {
   "cell_type": "code",
   "execution_count": 5,
   "metadata": {},
   "outputs": [
    {
     "data": {
      "text/plain": [
       "\"0011111111100000000000000000000000000000000000000000000000000000\""
      ]
     },
     "execution_count": 5,
     "metadata": {},
     "output_type": "execute_result"
    }
   ],
   "source": [
    "# binary expansion of 1/2\n",
    "bitstring(0.5)"
   ]
  },
  {
   "cell_type": "code",
   "execution_count": 6,
   "metadata": {},
   "outputs": [
    {
     "data": {
      "text/plain": [
       "\"0011111110111001100110011001100110011001100110011001100110011010\""
      ]
     },
     "execution_count": 6,
     "metadata": {},
     "output_type": "execute_result"
    }
   ],
   "source": [
    "# binary expansion of 1/10\n",
    "bitstring(0.1)"
   ]
  },
  {
   "cell_type": "code",
   "execution_count": 7,
   "metadata": {},
   "outputs": [
    {
     "data": {
      "text/plain": [
       "arithmetic_operations (generic function with 1 method)"
      ]
     },
     "execution_count": 7,
     "metadata": {},
     "output_type": "execute_result"
    }
   ],
   "source": [
    "function arithmetic_operations(iter, term)\n",
    "    result = 1\n",
    "    \n",
    "    for i in 1:iter\n",
    "        result += term\n",
    "    end\n",
    "    for i in 1:iter\n",
    "        result -= term\n",
    "    end\n",
    "    println(\"Result for term \", term, \" (\", iter, \" times) is equal \", result)\n",
    "    return result\n",
    "end"
   ]
  },
  {
   "cell_type": "code",
   "execution_count": 8,
   "metadata": {},
   "outputs": [
    {
     "name": "stdout",
     "output_type": "stream",
     "text": [
      "Result for term 0.5 (100 times) is equal 1.0\n",
      "Result for term 0.5 (1000 times) is equal 1.0\n",
      "Result for term 0.5 (10000 times) is equal 1.0\n",
      "Result for term 0.3333333333333333 (100 times) is equal 1.0000000000000002\n",
      "Result for term 0.3333333333333333 (1000 times) is equal 1.0000000000000064\n",
      "Result for term 0.3333333333333333 (10000 times) is equal 1.0000000000001166\n",
      "Result for term 0.1 (100 times) is equal 1.0000000000000009\n",
      "Result for term 0.1 (1000 times) is equal 0.9999999999999992\n",
      "Result for term 0.1 (10000 times) is equal 0.9999999999999561\n"
     ]
    }
   ],
   "source": [
    "arithmetic_operations(100, 1/2);\n",
    "arithmetic_operations(1000, 1/2);\n",
    "arithmetic_operations(10000, 1/2);\n",
    "arithmetic_operations(100, 1/3);\n",
    "arithmetic_operations(1000, 1/3);\n",
    "arithmetic_operations(10000, 1/3);\n",
    "arithmetic_operations(100, 1/10);\n",
    "arithmetic_operations(1000, 1/10);\n",
    "arithmetic_operations(10000, 1/10);"
   ]
  },
  {
   "cell_type": "markdown",
   "metadata": {},
   "source": [
    "#### Determining the value of sine"
   ]
  },
  {
   "cell_type": "code",
   "execution_count": 9,
   "metadata": {},
   "outputs": [
    {
     "data": {
      "text/plain": [
       "π = 3.1415926535897..."
      ]
     },
     "execution_count": 9,
     "metadata": {},
     "output_type": "execute_result"
    }
   ],
   "source": [
    "pi"
   ]
  },
  {
   "cell_type": "code",
   "execution_count": 10,
   "metadata": {},
   "outputs": [
    {
     "name": "stdout",
     "output_type": "stream",
     "text": [
      "Float64(pi) = 3.141592653589793\n",
      "sin(0) = 0.0\n",
      "sin(2pi) = -2.4492935982947064e-16\n",
      "sin(20pi) = -2.4492935982947065e-15\n",
      "sin(2000pi) = -6.428332918551267e-13\n",
      "sin(2.0e6pi) = -4.463824362721742e-10\n",
      "sin(2.0e19pi) = 0.9934765057914389\n"
     ]
    }
   ],
   "source": [
    "@show Float64(pi);\n",
    "@show sin(0);\n",
    "@show sin(2*pi);\n",
    "@show sin(20*pi);\n",
    "@show sin(2000*pi);\n",
    "@show sin(2e6*pi);\n",
    "@show sin(2e19*pi);"
   ]
  },
  {
   "cell_type": "markdown",
   "metadata": {},
   "source": [
    "#### Accurate computations"
   ]
  },
  {
   "cell_type": "code",
   "execution_count": 11,
   "metadata": {},
   "outputs": [
    {
     "name": "stdout",
     "output_type": "stream",
     "text": [
      "expm1(1) = 1.7182818284590453\n",
      "exp(1) - 1 = 1.718281828459045\n",
      "log1p(0.1) = 0.09531017980432487\n",
      "log(1.1) = 0.09531017980432493\n"
     ]
    }
   ],
   "source": [
    "# Accurately compute eˣ-1.\n",
    "@show expm1(1);\n",
    "@show exp(1)-1;\n",
    "# Accurate natural logarithm of 1+x.\n",
    "@show log1p(0.1);\n",
    "@show log(1.1);"
   ]
  },
  {
   "cell_type": "markdown",
   "metadata": {},
   "source": [
    "#### Commutative property of addition (in floating point arithmetics)"
   ]
  },
  {
   "cell_type": "code",
   "execution_count": 12,
   "metadata": {},
   "outputs": [
    {
     "name": "stdout",
     "output_type": "stream",
     "text": [
      "(53.54 + 104.44) - 158.98 = -1.0\n",
      "(104.44 - 158.98) + 53.54 = -0.9999999999999929\n"
     ]
    }
   ],
   "source": [
    "# adding numbers in different order\n",
    "@show 53.54 + 104.44 - 158.98;\n",
    "@show 104.44 - 158.98 + 53.54;"
   ]
  },
  {
   "cell_type": "markdown",
   "metadata": {},
   "source": [
    "#### Inverse of a matrix (in MS Excel)"
   ]
  },
  {
   "cell_type": "markdown",
   "metadata": {},
   "source": [
    "![MATRIX_INVERSE](excel_inverse_matrix.png)"
   ]
  },
  {
   "cell_type": "code",
   "execution_count": 13,
   "metadata": {
    "scrolled": true
   },
   "outputs": [
    {
     "name": "stdout",
     "output_type": "stream",
     "text": [
      "SingularException(3)\n"
     ]
    }
   ],
   "source": [
    "# matrix\n",
    "A = [1.0 2 3; 4 5 6; 7 8 9];\n",
    "\n",
    "# inverse of a matrix\n",
    "try\n",
    "    @show inv(A);\n",
    "catch err\n",
    "    println(err)\n",
    "end"
   ]
  },
  {
   "cell_type": "markdown",
   "metadata": {},
   "source": [
    "#### Solving system of linear equations"
   ]
  },
  {
   "cell_type": "code",
   "execution_count": 14,
   "metadata": {},
   "outputs": [
    {
     "name": "stdout",
     "output_type": "stream",
     "text": [
      "A = [1.2969 0.8648; 0.2161 0.1441]\n",
      "b = [0.8642, 0.144]\n"
     ]
    }
   ],
   "source": [
    "A = [1.2969 0.8648; 0.2161 0.1441];\n",
    "b = [0.8642; 0.144];\n",
    "x_given = [0.9911; -0.4870];\n",
    "@show A;\n",
    "@show b;"
   ]
  },
  {
   "cell_type": "code",
   "execution_count": 15,
   "metadata": {},
   "outputs": [
    {
     "name": "stdout",
     "output_type": "stream",
     "text": [
      "b - A * x_given = [1.0000000161269895e-8, -1.0000000022492017e-8]\n"
     ]
    }
   ],
   "source": [
    "# check\n",
    "@show b-A*x_given;"
   ]
  },
  {
   "cell_type": "code",
   "execution_count": 16,
   "metadata": {},
   "outputs": [
    {
     "name": "stdout",
     "output_type": "stream",
     "text": [
      "b - A * x_inv = [4.027597699796104e-9, 6.711110833723666e-10]\n"
     ]
    }
   ],
   "source": [
    "# solve with inv\n",
    "x_inv = inv(A)*b;\n",
    "@show b-A*x_inv;"
   ]
  },
  {
   "cell_type": "code",
   "execution_count": 17,
   "metadata": {},
   "outputs": [
    {
     "name": "stdout",
     "output_type": "stream",
     "text": [
      "b - A * x_sol = [3.3306690738754696e-16, 8.326672684688674e-17]\n"
     ]
    }
   ],
   "source": [
    "# solve with \\\n",
    "x_sol = A\\b;\n",
    "@show b-A*x_sol;"
   ]
  },
  {
   "cell_type": "code",
   "execution_count": 18,
   "metadata": {},
   "outputs": [
    {
     "name": "stdout",
     "output_type": "stream",
     "text": [
      "b - A * x_actual = [1.1102230246251565e-16, 2.7755575615628914e-17]\n"
     ]
    }
   ],
   "source": [
    "# actual solution\n",
    "x_actual = [2; -2];\n",
    "@show b-A*x_actual;"
   ]
  },
  {
   "cell_type": "code",
   "execution_count": 19,
   "metadata": {},
   "outputs": [
    {
     "name": "stdout",
     "output_type": "stream",
     "text": [
      "x_given = [0.9911, -0.487]\n",
      "x_inv = [2.000000001862645, -2.0000000074505806]\n",
      "x_sol = [2.000000002400302, -2.0000000035996206]\n",
      "x_actual = [2, -2]\n"
     ]
    }
   ],
   "source": [
    "# comparison\n",
    "@show x_given;\n",
    "@show x_inv;\n",
    "@show x_sol;\n",
    "@show x_actual;"
   ]
  },
  {
   "cell_type": "markdown",
   "metadata": {},
   "source": [
    "#### Hilbert's matrix"
   ]
  },
  {
   "cell_type": "code",
   "execution_count": 20,
   "metadata": {},
   "outputs": [
    {
     "data": {
      "text/plain": [
       "hilb (generic function with 1 method)"
      ]
     },
     "execution_count": 20,
     "metadata": {},
     "output_type": "execute_result"
    }
   ],
   "source": [
    "# own implementation of Hilbert's matrix\n",
    "function hilb(n::Int) \n",
    "    return [1/(i+j-1) for i in 1:n, j in 1:n]\n",
    "end"
   ]
  },
  {
   "cell_type": "code",
   "execution_count": 21,
   "metadata": {},
   "outputs": [
    {
     "data": {
      "text/plain": [
       "hilb_solve (generic function with 1 method)"
      ]
     },
     "execution_count": 21,
     "metadata": {},
     "output_type": "execute_result"
    }
   ],
   "source": [
    "function hilb_solve(n)\n",
    "    H = hilb(n);\n",
    "    b = ones(n,1);\n",
    "    x = inv(H)*b;\n",
    "    @show (H*x)[1:5];\n",
    "    @show norm(b-H*x,2);\n",
    "    @show norm(b-H*x,Inf);\n",
    "end"
   ]
  },
  {
   "cell_type": "code",
   "execution_count": 22,
   "metadata": {},
   "outputs": [
    {
     "name": "stdout",
     "output_type": "stream",
     "text": [
      "-------- n = 5 ---------\n",
      "(H * x)[1:5] = [0.9999999999953345, 0.9999999999964462, 0.9999999999971183, 0.9999999999975273, 0.9999999999979008]\n",
      "norm(b - H * x, 2) = 7.295306678478712e-12\n",
      "norm(b - H * x, Inf) = 4.665490216382295e-12\n",
      "\n",
      "-------- n = 20 ---------\n",
      "(H * x)[1:5] = [23.43481858074665, 21.352082148194313, 19.642749831080437, 18.212073266506195, 16.99516624212265]\n",
      "norm(b - H * x, 2) = 60.060799378819674\n",
      "norm(b - H * x, Inf) = 22.43481858074665\n",
      "\n",
      "-------- n = 40 ---------\n",
      "(H * x)[1:5] = [-56.408382833004, -51.82222217321396, -48.020774841308594, -44.80644088983536, -42.044527530670166]\n",
      "norm(b - H * x, 2) = 183.84017335556325\n",
      "norm(b - H * x, Inf) = 57.408382833004\n"
     ]
    }
   ],
   "source": [
    "println(\"-------- n = 5 ---------\")\n",
    "hilb_solve(5);\n",
    "println(\"\\n-------- n = 20 ---------\")\n",
    "hilb_solve(20);\n",
    "println(\"\\n-------- n = 40 ---------\")\n",
    "hilb_solve(40);"
   ]
  },
  {
   "cell_type": "code",
   "execution_count": 23,
   "metadata": {},
   "outputs": [
    {
     "data": {
      "text/plain": [
       "5×5 Matrix{Float64}:\n",
       "  1.0          -1.05656e-14   1.73353e-14  -5.68434e-14  -2.12546e-14\n",
       "  5.87708e-13   1.0          -9.71984e-13   4.54747e-13  -9.91306e-14\n",
       " -5.91887e-12  -3.55623e-12   1.0          -4.54747e-12  -1.76449e-12\n",
       "  1.93117e-12  -1.00298e-12  -3.97796e-12   1.0           5.44009e-13\n",
       "  3.76379e-12   1.10782e-12   3.80797e-12  -1.81899e-12   1.0"
      ]
     },
     "metadata": {},
     "output_type": "display_data"
    }
   ],
   "source": [
    "# inverse f Hilbert's matrix - Float64\n",
    "H = hilb(5);\n",
    "display(inv(H)*H);"
   ]
  },
  {
   "cell_type": "code",
   "execution_count": 24,
   "metadata": {},
   "outputs": [
    {
     "data": {
      "text/plain": [
       "5×5 Hilbert{Rational{Int64}}:\n",
       "  1    1//2  1//3  1//4  1//5\n",
       " 1//2  1//3  1//4  1//5  1//6\n",
       " 1//3  1//4  1//5  1//6  1//7\n",
       " 1//4  1//5  1//6  1//7  1//8\n",
       " 1//5  1//6  1//7  1//8  1//9"
      ]
     },
     "metadata": {},
     "output_type": "display_data"
    },
    {
     "data": {
      "text/plain": [
       "5×5 Matrix{Rational{Int64}}:\n",
       " 1  0  0  0  0\n",
       " 0  1  0  0  0\n",
       " 0  0  1  0  0\n",
       " 0  0  0  1  0\n",
       " 0  0  0  0  1"
      ]
     },
     "metadata": {},
     "output_type": "display_data"
    }
   ],
   "source": [
    "# inverse f Hilbert's matrix - Rational{Int64}\n",
    "H = Hilbert(5);\n",
    "display(H);\n",
    "display(inv(H)*H);"
   ]
  },
  {
   "cell_type": "code",
   "execution_count": 25,
   "metadata": {},
   "outputs": [
    {
     "data": {
      "text/plain": [
       "hilb_solve_better (generic function with 1 method)"
      ]
     },
     "execution_count": 25,
     "metadata": {},
     "output_type": "execute_result"
    }
   ],
   "source": [
    "function hilb_solve_better(n)\n",
    "    H = hilb(n);\n",
    "    b = ones(n,1);\n",
    "    x = H\\b;\n",
    "    @show (H*x)[1:5];\n",
    "    @show norm(b-H*x,2);\n",
    "    @show norm(b-H*x,Inf);\n",
    "end"
   ]
  },
  {
   "cell_type": "code",
   "execution_count": 26,
   "metadata": {},
   "outputs": [
    {
     "name": "stdout",
     "output_type": "stream",
     "text": [
      "-------- n = 5 ---------\n",
      "(H * x)[1:5] = [0.9999999999999842, 0.9999999999999847, 0.9999999999999909, 0.9999999999999716, 0.9999999999999992]\n",
      "norm(b - H * x, 2) = 3.707496661485592e-14\n",
      "norm(b - H * x, Inf) = 2.842170943040401e-14\n",
      "\n",
      "-------- n = 20 ---------\n",
      "(H * x)[1:5] = [0.9999999552965164, 1.0000000596046448, 1.0000000298023224, 1.0000000596046448, 1.0000000298023224]\n",
      "norm(b - H * x, 2) = 1.883391240204057e-7\n",
      "norm(b - H * x, Inf) = 7.450580596923828e-8\n",
      "\n",
      "-------- n = 40 ---------\n",
      "(H * x)[1:5] = [1.0, 1.0, 0.9999999403953552, 0.9999999403953552, 1.0]\n",
      "norm(b - H * x, 2) = 2.05938144938428e-7\n",
      "norm(b - H * x, Inf) = 5.960464477539063e-8\n"
     ]
    }
   ],
   "source": [
    "println(\"-------- n = 5 ---------\")\n",
    "hilb_solve_better(5);\n",
    "println(\"\\n-------- n = 20 ---------\")\n",
    "hilb_solve_better(20);\n",
    "println(\"\\n-------- n = 40 ---------\")\n",
    "hilb_solve_better(40);"
   ]
  },
  {
   "cell_type": "markdown",
   "metadata": {},
   "source": [
    "#### Matrix condition number"
   ]
  },
  {
   "cell_type": "code",
   "execution_count": 27,
   "metadata": {},
   "outputs": [
    {
     "data": {
      "image/png": "[encoded data removed]",
      "image/svg+xml": [
       "<?xml version=\"1.0\" encoding=\"utf-8\"?>\n",
       "<svg xmlns=\"http://www.w3.org/2000/svg\" xmlns:xlink=\"http://www.w3.org/1999/xlink\" width=\"600\" height=\"400\" viewBox=\"0 0 2400 1600\">\n",
       "<defs>\n",
       "  <clipPath id=\"clip420\">\n",
       "    <rect x=\"0\" y=\"0\" width=\"2400\" height=\"1600\"/>\n",
       "  </clipPath>\n",
       "</defs>\n",
       "<path clip-path=\"url(#clip420)\" d=\"M0 1600 L2400 1600 L2400 0 L0 0  Z\" fill=\"#ffffff\" fill-rule=\"evenodd\" fill-opacity=\"1\"/>\n",
       "<defs>\n",
       "  <clipPath id=\"clip421\">\n",
       "    <rect x=\"480\" y=\"0\" width=\"1681\" height=\"1600\"/>\n",
       "  </clipPath>\n",
       "</defs>\n",
       "<path clip-path=\"url(#clip420)\" d=\"M169.121 1486.45 L2352.76 1486.45 L2352.76 47.2441 L169.121 47.2441  Z\" fill=\"#ffffff\" fill-rule=\"evenodd\" fill-opacity=\"1\"/>\n",
       "<defs>\n",
       "  <clipPath id=\"clip422\">\n",
       "    <rect x=\"169\" y=\"47\" width=\"2185\" height=\"1440\"/>\n",
       "  </clipPath>\n",
       "</defs>\n",
       "<polyline clip-path=\"url(#clip422)\" style=\"stroke:#000000; stroke-linecap:round; stroke-linejoin:round; stroke-width:2; stroke-opacity:0.1; fill:none\" points=\"664.613,1486.45 664.613,47.2441 \"/>\n",
       "<polyline clip-path=\"url(#clip422)\" style=\"stroke:#000000; stroke-linecap:round; stroke-linejoin:round; stroke-width:2; stroke-opacity:0.1; fill:none\" points=\"1206.73,1486.45 1206.73,47.2441 \"/>\n",
       "<polyline clip-path=\"url(#clip422)\" style=\"stroke:#000000; stroke-linecap:round; stroke-linejoin:round; stroke-width:2; stroke-opacity:0.1; fill:none\" points=\"1748.84,1486.45 1748.84,47.2441 \"/>\n",
       "<polyline clip-path=\"url(#clip422)\" style=\"stroke:#000000; stroke-linecap:round; stroke-linejoin:round; stroke-width:2; stroke-opacity:0.1; fill:none\" points=\"2290.95,1486.45 2290.95,47.2441 \"/>\n",
       "<polyline clip-path=\"url(#clip420)\" style=\"stroke:#000000; stroke-linecap:round; stroke-linejoin:round; stroke-width:4; stroke-opacity:1; fill:none\" points=\"169.121,1486.45 2352.76,1486.45 \"/>\n",
       "<polyline clip-path=\"url(#clip420)\" style=\"stroke:#000000; stroke-linecap:round; stroke-linejoin:round; stroke-width:4; stroke-opacity:1; fill:none\" points=\"664.613,1486.45 664.613,1467.55 \"/>\n",
       "<polyline clip-path=\"url(#clip420)\" style=\"stroke:#000000; stroke-linecap:round; stroke-linejoin:round; stroke-width:4; stroke-opacity:1; fill:none\" points=\"1206.73,1486.45 1206.73,1467.55 \"/>\n",
       "<polyline clip-path=\"url(#clip420)\" style=\"stroke:#000000; stroke-linecap:round; stroke-linejoin:round; stroke-width:4; stroke-opacity:1; fill:none\" points=\"1748.84,1486.45 1748.84,1467.55 \"/>\n",
       "<polyline clip-path=\"url(#clip420)\" style=\"stroke:#000000; stroke-linecap:round; stroke-linejoin:round; stroke-width:4; stroke-opacity:1; fill:none\" points=\"2290.95,1486.45 2290.95,1467.55 \"/>\n",
       "<path clip-path=\"url(#clip420)\" d=\"M654.891 1514.29 L673.248 1514.29 L673.248 1518.22 L659.174 1518.22 L659.174 1526.7 Q660.192 1526.35 661.211 1526.19 Q662.229 1526 663.248 1526 Q669.035 1526 672.414 1529.17 Q675.794 1532.34 675.794 1537.76 Q675.794 1543.34 672.322 1546.44 Q668.849 1549.52 662.53 1549.52 Q660.354 1549.52 658.086 1549.15 Q655.84 1548.78 653.433 1548.04 L653.433 1543.34 Q655.516 1544.47 657.738 1545.03 Q659.961 1545.58 662.437 1545.58 Q666.442 1545.58 668.78 1543.48 Q671.118 1541.37 671.118 1537.76 Q671.118 1534.15 668.78 1532.04 Q666.442 1529.94 662.437 1529.94 Q660.562 1529.94 658.687 1530.35 Q656.836 1530.77 654.891 1531.65 L654.891 1514.29 Z\" fill=\"#000000\" fill-rule=\"nonzero\" fill-opacity=\"1\" /><path clip-path=\"url(#clip420)\" d=\"M1181.41 1544.91 L1189.05 1544.91 L1189.05 1518.55 L1180.74 1520.21 L1180.74 1515.95 L1189.01 1514.29 L1193.68 1514.29 L1193.68 1544.91 L1201.32 1544.91 L1201.32 1548.85 L1181.41 1548.85 L1181.41 1544.91 Z\" fill=\"#000000\" fill-rule=\"nonzero\" fill-opacity=\"1\" /><path clip-path=\"url(#clip420)\" d=\"M1220.77 1517.37 Q1217.16 1517.37 1215.33 1520.93 Q1213.52 1524.47 1213.52 1531.6 Q1213.52 1538.71 1215.33 1542.27 Q1217.16 1545.82 1220.77 1545.82 Q1224.4 1545.82 1226.21 1542.27 Q1228.03 1538.71 1228.03 1531.6 Q1228.03 1524.47 1226.21 1520.93 Q1224.4 1517.37 1220.77 1517.37 M1220.77 1513.66 Q1226.58 1513.66 1229.63 1518.27 Q1232.71 1522.85 1232.71 1531.6 Q1232.71 1540.33 1229.63 1544.94 Q1226.58 1549.52 1220.77 1549.52 Q1214.96 1549.52 1211.88 1544.94 Q1208.82 1540.33 1208.82 1531.6 Q1208.82 1522.85 1211.88 1518.27 Q1214.96 1513.66 1220.77 1513.66 Z\" fill=\"#000000\" fill-rule=\"nonzero\" fill-opacity=\"1\" /><path clip-path=\"url(#clip420)\" d=\"M1724.03 1544.91 L1731.67 1544.91 L1731.67 1518.55 L1723.36 1520.21 L1723.36 1515.95 L1731.62 1514.29 L1736.29 1514.29 L1736.29 1544.91 L1743.93 1544.91 L1743.93 1548.85 L1724.03 1548.85 L1724.03 1544.91 Z\" fill=\"#000000\" fill-rule=\"nonzero\" fill-opacity=\"1\" /><path clip-path=\"url(#clip420)\" d=\"M1753.42 1514.29 L1771.78 1514.29 L1771.78 1518.22 L1757.71 1518.22 L1757.71 1526.7 Q1758.73 1526.35 1759.74 1526.19 Q1760.76 1526 1761.78 1526 Q1767.57 1526 1770.95 1529.17 Q1774.33 1532.34 1774.33 1537.76 Q1774.33 1543.34 1770.85 1546.44 Q1767.38 1549.52 1761.06 1549.52 Q1758.89 1549.52 1756.62 1549.15 Q1754.37 1548.78 1751.97 1548.04 L1751.97 1543.34 Q1754.05 1544.47 1756.27 1545.03 Q1758.49 1545.58 1760.97 1545.58 Q1764.98 1545.58 1767.31 1543.48 Q1769.65 1541.37 1769.65 1537.76 Q1769.65 1534.15 1767.31 1532.04 Q1764.98 1529.94 1760.97 1529.94 Q1759.1 1529.94 1757.22 1530.35 Q1755.37 1530.77 1753.42 1531.65 L1753.42 1514.29 Z\" fill=\"#000000\" fill-rule=\"nonzero\" fill-opacity=\"1\" /><path clip-path=\"url(#clip420)\" d=\"M2269.73 1544.91 L2286.05 1544.91 L2286.05 1548.85 L2264.1 1548.85 L2264.1 1544.91 Q2266.77 1542.16 2271.35 1537.53 Q2275.96 1532.88 2277.14 1531.53 Q2279.38 1529.01 2280.26 1527.27 Q2281.16 1525.51 2281.16 1523.82 Q2281.16 1521.07 2279.22 1519.33 Q2277.3 1517.6 2274.2 1517.6 Q2272 1517.6 2269.54 1518.36 Q2267.11 1519.13 2264.33 1520.68 L2264.33 1515.95 Q2267.16 1514.82 2269.61 1514.24 Q2272.07 1513.66 2274.1 1513.66 Q2279.47 1513.66 2282.67 1516.35 Q2285.86 1519.03 2285.86 1523.52 Q2285.86 1525.65 2285.05 1527.57 Q2284.27 1529.47 2282.16 1532.07 Q2281.58 1532.74 2278.48 1535.95 Q2275.38 1539.15 2269.73 1544.91 Z\" fill=\"#000000\" fill-rule=\"nonzero\" fill-opacity=\"1\" /><path clip-path=\"url(#clip420)\" d=\"M2305.86 1517.37 Q2302.25 1517.37 2300.42 1520.93 Q2298.62 1524.47 2298.62 1531.6 Q2298.62 1538.71 2300.42 1542.27 Q2302.25 1545.82 2305.86 1545.82 Q2309.5 1545.82 2311.3 1542.27 Q2313.13 1538.71 2313.13 1531.6 Q2313.13 1524.47 2311.3 1520.93 Q2309.5 1517.37 2305.86 1517.37 M2305.86 1513.66 Q2311.67 1513.66 2314.73 1518.27 Q2317.81 1522.85 2317.81 1531.6 Q2317.81 1540.33 2314.73 1544.94 Q2311.67 1549.52 2305.86 1549.52 Q2300.05 1549.52 2296.97 1544.94 Q2293.92 1540.33 2293.92 1531.6 Q2293.92 1522.85 2296.97 1518.27 Q2300.05 1513.66 2305.86 1513.66 Z\" fill=\"#000000\" fill-rule=\"nonzero\" fill-opacity=\"1\" /><polyline clip-path=\"url(#clip422)\" style=\"stroke:#000000; stroke-linecap:round; stroke-linejoin:round; stroke-width:2; stroke-opacity:0.1; fill:none\" points=\"169.121,1453.38 2352.76,1453.38 \"/>\n",
       "<polyline clip-path=\"url(#clip422)\" style=\"stroke:#000000; stroke-linecap:round; stroke-linejoin:round; stroke-width:2; stroke-opacity:0.1; fill:none\" points=\"169.121,1069.98 2352.76,1069.98 \"/>\n",
       "<polyline clip-path=\"url(#clip422)\" style=\"stroke:#000000; stroke-linecap:round; stroke-linejoin:round; stroke-width:2; stroke-opacity:0.1; fill:none\" points=\"169.121,686.578 2352.76,686.578 \"/>\n",
       "<polyline clip-path=\"url(#clip422)\" style=\"stroke:#000000; stroke-linecap:round; stroke-linejoin:round; stroke-width:2; stroke-opacity:0.1; fill:none\" points=\"169.121,303.175 2352.76,303.175 \"/>\n",
       "<polyline clip-path=\"url(#clip420)\" style=\"stroke:#000000; stroke-linecap:round; stroke-linejoin:round; stroke-width:4; stroke-opacity:1; fill:none\" points=\"169.121,1486.45 169.121,47.2441 \"/>\n",
       "<polyline clip-path=\"url(#clip420)\" style=\"stroke:#000000; stroke-linecap:round; stroke-linejoin:round; stroke-width:4; stroke-opacity:1; fill:none\" points=\"169.121,1453.38 188.019,1453.38 \"/>\n",
       "<polyline clip-path=\"url(#clip420)\" style=\"stroke:#000000; stroke-linecap:round; stroke-linejoin:round; stroke-width:4; stroke-opacity:1; fill:none\" points=\"169.121,1069.98 188.019,1069.98 \"/>\n",
       "<polyline clip-path=\"url(#clip420)\" style=\"stroke:#000000; stroke-linecap:round; stroke-linejoin:round; stroke-width:4; stroke-opacity:1; fill:none\" points=\"169.121,686.578 188.019,686.578 \"/>\n",
       "<polyline clip-path=\"url(#clip420)\" style=\"stroke:#000000; stroke-linecap:round; stroke-linejoin:round; stroke-width:4; stroke-opacity:1; fill:none\" points=\"169.121,303.175 188.019,303.175 \"/>\n",
       "<path clip-path=\"url(#clip420)\" d=\"M121.177 1439.18 Q117.566 1439.18 115.737 1442.75 Q113.932 1446.29 113.932 1453.42 Q113.932 1460.52 115.737 1464.09 Q117.566 1467.63 121.177 1467.63 Q124.811 1467.63 126.617 1464.09 Q128.445 1460.52 128.445 1453.42 Q128.445 1446.29 126.617 1442.75 Q124.811 1439.18 121.177 1439.18 M121.177 1435.48 Q126.987 1435.48 130.043 1440.09 Q133.121 1444.67 133.121 1453.42 Q133.121 1462.15 130.043 1466.75 Q126.987 1471.34 121.177 1471.34 Q115.367 1471.34 112.288 1466.75 Q109.233 1462.15 109.233 1453.42 Q109.233 1444.67 112.288 1440.09 Q115.367 1435.48 121.177 1435.48 Z\" fill=\"#000000\" fill-rule=\"nonzero\" fill-opacity=\"1\" /><path clip-path=\"url(#clip420)\" d=\"M81.0614 1052.7 L99.4178 1052.7 L99.4178 1056.64 L85.3438 1056.64 L85.3438 1065.11 Q86.3623 1064.76 87.3808 1064.6 Q88.3993 1064.41 89.4178 1064.41 Q95.2049 1064.41 98.5845 1067.58 Q101.964 1070.76 101.964 1076.17 Q101.964 1081.75 98.4919 1084.85 Q95.0197 1087.93 88.7003 1087.93 Q86.5243 1087.93 84.2558 1087.56 Q82.0105 1087.19 79.6031 1086.45 L79.6031 1081.75 Q81.6864 1082.89 83.9086 1083.44 Q86.1308 1084 88.6077 1084 Q92.6123 1084 94.9502 1081.89 Q97.2882 1079.78 97.2882 1076.17 Q97.2882 1072.56 94.9502 1070.46 Q92.6123 1068.35 88.6077 1068.35 Q86.7327 1068.35 84.8577 1068.77 Q83.0058 1069.18 81.0614 1070.06 L81.0614 1052.7 Z\" fill=\"#000000\" fill-rule=\"nonzero\" fill-opacity=\"1\" /><path clip-path=\"url(#clip420)\" d=\"M121.177 1055.78 Q117.566 1055.78 115.737 1059.34 Q113.932 1062.89 113.932 1070.02 Q113.932 1077.12 115.737 1080.69 Q117.566 1084.23 121.177 1084.23 Q124.811 1084.23 126.617 1080.69 Q128.445 1077.12 128.445 1070.02 Q128.445 1062.89 126.617 1059.34 Q124.811 1055.78 121.177 1055.78 M121.177 1052.08 Q126.987 1052.08 130.043 1056.68 Q133.121 1061.27 133.121 1070.02 Q133.121 1078.74 130.043 1083.35 Q126.987 1087.93 121.177 1087.93 Q115.367 1087.93 112.288 1083.35 Q109.233 1078.74 109.233 1070.02 Q109.233 1061.27 112.288 1056.68 Q115.367 1052.08 121.177 1052.08 Z\" fill=\"#000000\" fill-rule=\"nonzero\" fill-opacity=\"1\" /><path clip-path=\"url(#clip420)\" d=\"M51.6634 699.923 L59.3023 699.923 L59.3023 673.557 L50.9921 675.224 L50.9921 670.964 L59.256 669.298 L63.9319 669.298 L63.9319 699.923 L71.5707 699.923 L71.5707 703.858 L51.6634 703.858 L51.6634 699.923 Z\" fill=\"#000000\" fill-rule=\"nonzero\" fill-opacity=\"1\" /><path clip-path=\"url(#clip420)\" d=\"M91.0151 672.376 Q87.404 672.376 85.5753 675.941 Q83.7697 679.483 83.7697 686.613 Q83.7697 693.719 85.5753 697.284 Q87.404 700.825 91.0151 700.825 Q94.6493 700.825 96.4548 697.284 Q98.2835 693.719 98.2835 686.613 Q98.2835 679.483 96.4548 675.941 Q94.6493 672.376 91.0151 672.376 M91.0151 668.673 Q96.8252 668.673 99.8808 673.279 Q102.959 677.863 102.959 686.613 Q102.959 695.339 99.8808 699.946 Q96.8252 704.529 91.0151 704.529 Q85.2049 704.529 82.1262 699.946 Q79.0707 695.339 79.0707 686.613 Q79.0707 677.863 82.1262 673.279 Q85.2049 668.673 91.0151 668.673 Z\" fill=\"#000000\" fill-rule=\"nonzero\" fill-opacity=\"1\" /><path clip-path=\"url(#clip420)\" d=\"M121.177 672.376 Q117.566 672.376 115.737 675.941 Q113.932 679.483 113.932 686.613 Q113.932 693.719 115.737 697.284 Q117.566 700.825 121.177 700.825 Q124.811 700.825 126.617 697.284 Q128.445 693.719 128.445 686.613 Q128.445 679.483 126.617 675.941 Q124.811 672.376 121.177 672.376 M121.177 668.673 Q126.987 668.673 130.043 673.279 Q133.121 677.863 133.121 686.613 Q133.121 695.339 130.043 699.946 Q126.987 704.529 121.177 704.529 Q115.367 704.529 112.288 699.946 Q109.233 695.339 109.233 686.613 Q109.233 677.863 112.288 673.279 Q115.367 668.673 121.177 668.673 Z\" fill=\"#000000\" fill-rule=\"nonzero\" fill-opacity=\"1\" /><path clip-path=\"url(#clip420)\" d=\"M51.6634 316.52 L59.3023 316.52 L59.3023 290.154 L50.9921 291.821 L50.9921 287.561 L59.256 285.895 L63.9319 285.895 L63.9319 316.52 L71.5707 316.52 L71.5707 320.455 L51.6634 320.455 L51.6634 316.52 Z\" fill=\"#000000\" fill-rule=\"nonzero\" fill-opacity=\"1\" /><path clip-path=\"url(#clip420)\" d=\"M81.0614 285.895 L99.4178 285.895 L99.4178 289.83 L85.3438 289.83 L85.3438 298.302 Q86.3623 297.955 87.3808 297.793 Q88.3993 297.608 89.4178 297.608 Q95.2049 297.608 98.5845 300.779 Q101.964 303.95 101.964 309.367 Q101.964 314.946 98.4919 318.047 Q95.0197 321.126 88.7003 321.126 Q86.5243 321.126 84.2558 320.756 Q82.0105 320.385 79.6031 319.645 L79.6031 314.946 Q81.6864 316.08 83.9086 316.635 Q86.1308 317.191 88.6077 317.191 Q92.6123 317.191 94.9502 315.084 Q97.2882 312.978 97.2882 309.367 Q97.2882 305.756 94.9502 303.649 Q92.6123 301.543 88.6077 301.543 Q86.7327 301.543 84.8577 301.96 Q83.0058 302.376 81.0614 303.256 L81.0614 285.895 Z\" fill=\"#000000\" fill-rule=\"nonzero\" fill-opacity=\"1\" /><path clip-path=\"url(#clip420)\" d=\"M121.177 288.973 Q117.566 288.973 115.737 292.538 Q113.932 296.08 113.932 303.21 Q113.932 310.316 115.737 313.881 Q117.566 317.422 121.177 317.422 Q124.811 317.422 126.617 313.881 Q128.445 310.316 128.445 303.21 Q128.445 296.08 126.617 292.538 Q124.811 288.973 121.177 288.973 M121.177 285.27 Q126.987 285.27 130.043 289.876 Q133.121 294.46 133.121 303.21 Q133.121 311.936 130.043 316.543 Q126.987 321.126 121.177 321.126 Q115.367 321.126 112.288 316.543 Q109.233 311.936 109.233 303.21 Q109.233 294.46 112.288 289.876 Q115.367 285.27 121.177 285.27 Z\" fill=\"#000000\" fill-rule=\"nonzero\" fill-opacity=\"1\" /><polyline clip-path=\"url(#clip422)\" style=\"stroke:#009af9; stroke-linecap:round; stroke-linejoin:round; stroke-width:4; stroke-opacity:1; fill:none\" points=\"230.922,1445.72 339.345,1430.38 447.768,1408.69 556.191,1380.75 664.613,1346.58 773.036,1306.19 881.459,1259.58 989.882,1206.75 1098.3,1147.71 1206.73,1082.45 1315.15,1010.97 1423.57,933.279 1532,849.371 1640.42,759.247 1748.84,662.907 1857.26,560.352 1965.69,451.582 2074.11,336.595 2182.53,215.394 2290.95,87.9763 \"/>\n",
       "<path clip-path=\"url(#clip420)\" d=\"M241.909 198.898 L1044.85 198.898 L1044.85 95.2176 L241.909 95.2176  Z\" fill=\"#ffffff\" fill-rule=\"evenodd\" fill-opacity=\"1\"/>\n",
       "<polyline clip-path=\"url(#clip420)\" style=\"stroke:#000000; stroke-linecap:round; stroke-linejoin:round; stroke-width:4; stroke-opacity:1; fill:none\" points=\"241.909,198.898 1044.85,198.898 1044.85,95.2176 241.909,95.2176 241.909,198.898 \"/>\n",
       "<polyline clip-path=\"url(#clip420)\" style=\"stroke:#009af9; stroke-linecap:round; stroke-linejoin:round; stroke-width:4; stroke-opacity:1; fill:none\" points=\"266.172,147.058 411.747,147.058 \"/>\n",
       "<path clip-path=\"url(#clip420)\" d=\"M456.357 143.389 Q457.954 140.518 460.177 139.153 Q462.399 137.787 465.408 137.787 Q469.459 137.787 471.658 140.634 Q473.857 143.458 473.857 148.689 L473.857 164.338 L469.575 164.338 L469.575 148.828 Q469.575 145.102 468.255 143.296 Q466.936 141.49 464.227 141.49 Q460.917 141.49 458.996 143.69 Q457.075 145.889 457.075 149.685 L457.075 164.338 L452.792 164.338 L452.792 148.828 Q452.792 145.078 451.473 143.296 Q450.153 141.49 447.399 141.49 Q444.135 141.49 442.214 143.713 Q440.292 145.912 440.292 149.685 L440.292 164.338 L436.01 164.338 L436.01 138.412 L440.292 138.412 L440.292 142.44 Q441.751 140.055 443.788 138.921 Q445.825 137.787 448.626 137.787 Q451.45 137.787 453.417 139.222 Q455.408 140.657 456.357 143.389 Z\" fill=\"#000000\" fill-rule=\"nonzero\" fill-opacity=\"1\" /><path clip-path=\"url(#clip420)\" d=\"M494.135 151.305 Q488.973 151.305 486.982 152.486 Q484.991 153.666 484.991 156.514 Q484.991 158.782 486.473 160.125 Q487.977 161.444 490.547 161.444 Q494.088 161.444 496.218 158.944 Q498.371 156.421 498.371 152.254 L498.371 151.305 L494.135 151.305 M502.63 149.546 L502.63 164.338 L498.371 164.338 L498.371 160.402 Q496.912 162.763 494.737 163.898 Q492.561 165.009 489.412 165.009 Q485.431 165.009 483.07 162.787 Q480.732 160.541 480.732 156.791 Q480.732 152.416 483.649 150.194 Q486.588 147.972 492.399 147.972 L498.371 147.972 L498.371 147.555 Q498.371 144.615 496.426 143.018 Q494.505 141.398 491.01 141.398 Q488.787 141.398 486.681 141.93 Q484.575 142.463 482.63 143.527 L482.63 139.592 Q484.968 138.69 487.167 138.25 Q489.366 137.787 491.45 137.787 Q497.074 137.787 499.852 140.703 Q502.63 143.62 502.63 149.546 Z\" fill=\"#000000\" fill-rule=\"nonzero\" fill-opacity=\"1\" /><path clip-path=\"url(#clip420)\" d=\"M515.616 131.051 L515.616 138.412 L524.389 138.412 L524.389 141.722 L515.616 141.722 L515.616 155.796 Q515.616 158.967 516.473 159.87 Q517.352 160.773 520.014 160.773 L524.389 160.773 L524.389 164.338 L520.014 164.338 Q515.084 164.338 513.209 162.509 Q511.334 160.657 511.334 155.796 L511.334 141.722 L508.209 141.722 L508.209 138.412 L511.334 138.412 L511.334 131.051 L515.616 131.051 Z\" fill=\"#000000\" fill-rule=\"nonzero\" fill-opacity=\"1\" /><path clip-path=\"url(#clip420)\" d=\"M545.014 142.393 Q544.296 141.977 543.44 141.791 Q542.607 141.583 541.588 141.583 Q537.977 141.583 536.033 143.944 Q534.111 146.282 534.111 150.68 L534.111 164.338 L529.829 164.338 L529.829 138.412 L534.111 138.412 L534.111 142.44 Q535.454 140.078 537.607 138.944 Q539.759 137.787 542.838 137.787 Q543.278 137.787 543.81 137.856 Q544.343 137.903 544.991 138.018 L545.014 142.393 Z\" fill=\"#000000\" fill-rule=\"nonzero\" fill-opacity=\"1\" /><path clip-path=\"url(#clip420)\" d=\"M549.482 138.412 L553.741 138.412 L553.741 164.338 L549.482 164.338 L549.482 138.412 M549.482 128.319 L553.741 128.319 L553.741 133.713 L549.482 133.713 L549.482 128.319 Z\" fill=\"#000000\" fill-rule=\"nonzero\" fill-opacity=\"1\" /><path clip-path=\"url(#clip420)\" d=\"M584.204 138.412 L574.829 151.027 L584.69 164.338 L579.667 164.338 L572.12 154.152 L564.574 164.338 L559.551 164.338 L569.62 150.773 L560.407 138.412 L565.431 138.412 L572.306 147.648 L579.181 138.412 L584.204 138.412 Z\" fill=\"#000000\" fill-rule=\"nonzero\" fill-opacity=\"1\" /><path clip-path=\"url(#clip420)\" d=\"M624.435 139.407 L624.435 143.389 Q622.629 142.393 620.801 141.907 Q618.995 141.398 617.143 141.398 Q613 141.398 610.708 144.037 Q608.416 146.652 608.416 151.398 Q608.416 156.143 610.708 158.782 Q613 161.398 617.143 161.398 Q618.995 161.398 620.801 160.912 Q622.629 160.402 624.435 159.407 L624.435 163.342 Q622.653 164.176 620.731 164.592 Q618.833 165.009 616.68 165.009 Q610.824 165.009 607.375 161.328 Q603.926 157.648 603.926 151.398 Q603.926 145.055 607.398 141.421 Q610.893 137.787 616.958 137.787 Q618.926 137.787 620.801 138.203 Q622.676 138.597 624.435 139.407 Z\" fill=\"#000000\" fill-rule=\"nonzero\" fill-opacity=\"1\" /><path clip-path=\"url(#clip420)\" d=\"M641.889 141.398 Q638.463 141.398 636.472 144.083 Q634.481 146.745 634.481 151.398 Q634.481 156.051 636.449 158.736 Q638.439 161.398 641.889 161.398 Q645.291 161.398 647.282 158.713 Q649.273 156.027 649.273 151.398 Q649.273 146.791 647.282 144.106 Q645.291 141.398 641.889 141.398 M641.889 137.787 Q647.444 137.787 650.615 141.398 Q653.787 145.009 653.787 151.398 Q653.787 157.764 650.615 161.398 Q647.444 165.009 641.889 165.009 Q636.31 165.009 633.139 161.398 Q629.99 157.764 629.99 151.398 Q629.99 145.009 633.139 141.398 Q636.31 137.787 641.889 137.787 Z\" fill=\"#000000\" fill-rule=\"nonzero\" fill-opacity=\"1\" /><path clip-path=\"url(#clip420)\" d=\"M682.398 148.689 L682.398 164.338 L678.138 164.338 L678.138 148.828 Q678.138 145.148 676.703 143.319 Q675.268 141.49 672.398 141.49 Q668.949 141.49 666.958 143.69 Q664.967 145.889 664.967 149.685 L664.967 164.338 L660.685 164.338 L660.685 138.412 L664.967 138.412 L664.967 142.44 Q666.495 140.102 668.555 138.944 Q670.638 137.787 673.347 137.787 Q677.814 137.787 680.106 140.565 Q682.398 143.319 682.398 148.689 Z\" fill=\"#000000\" fill-rule=\"nonzero\" fill-opacity=\"1\" /><path clip-path=\"url(#clip420)\" d=\"M707.953 142.347 L707.953 128.319 L712.212 128.319 L712.212 164.338 L707.953 164.338 L707.953 160.449 Q706.61 162.763 704.55 163.898 Q702.513 165.009 699.643 165.009 Q694.944 165.009 691.981 161.259 Q689.041 157.509 689.041 151.398 Q689.041 145.287 691.981 141.537 Q694.944 137.787 699.643 137.787 Q702.513 137.787 704.55 138.921 Q706.61 140.032 707.953 142.347 M693.439 151.398 Q693.439 156.097 695.36 158.782 Q697.305 161.444 700.684 161.444 Q704.064 161.444 706.009 158.782 Q707.953 156.097 707.953 151.398 Q707.953 146.699 706.009 144.037 Q704.064 141.352 700.684 141.352 Q697.305 141.352 695.36 144.037 Q693.439 146.699 693.439 151.398 Z\" fill=\"#000000\" fill-rule=\"nonzero\" fill-opacity=\"1\" /><path clip-path=\"url(#clip420)\" d=\"M720.985 138.412 L725.245 138.412 L725.245 164.338 L720.985 164.338 L720.985 138.412 M720.985 128.319 L725.245 128.319 L725.245 133.713 L720.985 133.713 L720.985 128.319 Z\" fill=\"#000000\" fill-rule=\"nonzero\" fill-opacity=\"1\" /><path clip-path=\"url(#clip420)\" d=\"M738.369 131.051 L738.369 138.412 L747.143 138.412 L747.143 141.722 L738.369 141.722 L738.369 155.796 Q738.369 158.967 739.226 159.87 Q740.106 160.773 742.768 160.773 L747.143 160.773 L747.143 164.338 L742.768 164.338 Q737.837 164.338 735.962 162.509 Q734.087 160.657 734.087 155.796 L734.087 141.722 L730.962 141.722 L730.962 138.412 L734.087 138.412 L734.087 131.051 L738.369 131.051 Z\" fill=\"#000000\" fill-rule=\"nonzero\" fill-opacity=\"1\" /><path clip-path=\"url(#clip420)\" d=\"M752.744 138.412 L757.004 138.412 L757.004 164.338 L752.744 164.338 L752.744 138.412 M752.744 128.319 L757.004 128.319 L757.004 133.713 L752.744 133.713 L752.744 128.319 Z\" fill=\"#000000\" fill-rule=\"nonzero\" fill-opacity=\"1\" /><path clip-path=\"url(#clip420)\" d=\"M775.962 141.398 Q772.536 141.398 770.545 144.083 Q768.555 146.745 768.555 151.398 Q768.555 156.051 770.522 158.736 Q772.513 161.398 775.962 161.398 Q779.365 161.398 781.355 158.713 Q783.346 156.027 783.346 151.398 Q783.346 146.791 781.355 144.106 Q779.365 141.398 775.962 141.398 M775.962 137.787 Q781.517 137.787 784.689 141.398 Q787.86 145.009 787.86 151.398 Q787.86 157.764 784.689 161.398 Q781.517 165.009 775.962 165.009 Q770.383 165.009 767.212 161.398 Q764.064 157.764 764.064 151.398 Q764.064 145.009 767.212 141.398 Q770.383 137.787 775.962 137.787 Z\" fill=\"#000000\" fill-rule=\"nonzero\" fill-opacity=\"1\" /><path clip-path=\"url(#clip420)\" d=\"M816.471 148.689 L816.471 164.338 L812.212 164.338 L812.212 148.828 Q812.212 145.148 810.776 143.319 Q809.341 141.49 806.471 141.49 Q803.022 141.49 801.031 143.69 Q799.04 145.889 799.04 149.685 L799.04 164.338 L794.758 164.338 L794.758 138.412 L799.04 138.412 L799.04 142.44 Q800.568 140.102 802.628 138.944 Q804.712 137.787 807.42 137.787 Q811.888 137.787 814.179 140.565 Q816.471 143.319 816.471 148.689 Z\" fill=\"#000000\" fill-rule=\"nonzero\" fill-opacity=\"1\" /><path clip-path=\"url(#clip420)\" d=\"M861.586 148.689 L861.586 164.338 L857.327 164.338 L857.327 148.828 Q857.327 145.148 855.892 143.319 Q854.457 141.49 851.586 141.49 Q848.137 141.49 846.147 143.69 Q844.156 145.889 844.156 149.685 L844.156 164.338 L839.874 164.338 L839.874 138.412 L844.156 138.412 L844.156 142.44 Q845.684 140.102 847.744 138.944 Q849.827 137.787 852.536 137.787 Q857.003 137.787 859.295 140.565 Q861.586 143.319 861.586 148.689 Z\" fill=\"#000000\" fill-rule=\"nonzero\" fill-opacity=\"1\" /><path clip-path=\"url(#clip420)\" d=\"M869.642 154.106 L869.642 138.412 L873.901 138.412 L873.901 153.944 Q873.901 157.625 875.336 159.476 Q876.772 161.305 879.642 161.305 Q883.091 161.305 885.082 159.106 Q887.096 156.907 887.096 153.111 L887.096 138.412 L891.355 138.412 L891.355 164.338 L887.096 164.338 L887.096 160.356 Q885.545 162.717 883.484 163.875 Q881.447 165.009 878.739 165.009 Q874.272 165.009 871.957 162.231 Q869.642 159.453 869.642 154.106 M880.359 137.787 L880.359 137.787 Z\" fill=\"#000000\" fill-rule=\"nonzero\" fill-opacity=\"1\" /><path clip-path=\"url(#clip420)\" d=\"M920.313 143.389 Q921.91 140.518 924.132 139.153 Q926.355 137.787 929.364 137.787 Q933.415 137.787 935.614 140.634 Q937.813 143.458 937.813 148.689 L937.813 164.338 L933.53 164.338 L933.53 148.828 Q933.53 145.102 932.211 143.296 Q930.892 141.49 928.183 141.49 Q924.873 141.49 922.952 143.69 Q921.031 145.889 921.031 149.685 L921.031 164.338 L916.748 164.338 L916.748 148.828 Q916.748 145.078 915.429 143.296 Q914.109 141.49 911.355 141.49 Q908.091 141.49 906.17 143.713 Q904.248 145.912 904.248 149.685 L904.248 164.338 L899.966 164.338 L899.966 138.412 L904.248 138.412 L904.248 142.44 Q905.707 140.055 907.744 138.921 Q909.781 137.787 912.582 137.787 Q915.406 137.787 917.373 139.222 Q919.364 140.657 920.313 143.389 Z\" fill=\"#000000\" fill-rule=\"nonzero\" fill-opacity=\"1\" /><path clip-path=\"url(#clip420)\" d=\"M964.919 151.398 Q964.919 146.699 962.975 144.037 Q961.053 141.352 957.674 141.352 Q954.294 141.352 952.35 144.037 Q950.429 146.699 950.429 151.398 Q950.429 156.097 952.35 158.782 Q954.294 161.444 957.674 161.444 Q961.053 161.444 962.975 158.782 Q964.919 156.097 964.919 151.398 M950.429 142.347 Q951.771 140.032 953.808 138.921 Q955.868 137.787 958.716 137.787 Q963.438 137.787 966.378 141.537 Q969.34 145.287 969.34 151.398 Q969.34 157.509 966.378 161.259 Q963.438 165.009 958.716 165.009 Q955.868 165.009 953.808 163.898 Q951.771 162.763 950.429 160.449 L950.429 164.338 L946.146 164.338 L946.146 128.319 L950.429 128.319 L950.429 142.347 Z\" fill=\"#000000\" fill-rule=\"nonzero\" fill-opacity=\"1\" /><path clip-path=\"url(#clip420)\" d=\"M998.576 150.31 L998.576 152.393 L978.993 152.393 Q979.271 156.791 981.632 159.106 Q984.016 161.398 988.252 161.398 Q990.706 161.398 992.998 160.796 Q995.313 160.194 997.581 158.99 L997.581 163.018 Q995.289 163.99 992.882 164.5 Q990.475 165.009 987.998 165.009 Q981.794 165.009 978.16 161.398 Q974.549 157.787 974.549 151.629 Q974.549 145.264 977.975 141.537 Q981.424 137.787 987.257 137.787 Q992.488 137.787 995.521 141.166 Q998.576 144.523 998.576 150.31 M994.317 149.06 Q994.271 145.565 992.35 143.481 Q990.451 141.398 987.303 141.398 Q983.739 141.398 981.586 143.412 Q979.456 145.426 979.132 149.083 L994.317 149.06 Z\" fill=\"#000000\" fill-rule=\"nonzero\" fill-opacity=\"1\" /><path clip-path=\"url(#clip420)\" d=\"M1020.59 142.393 Q1019.87 141.977 1019.02 141.791 Q1018.18 141.583 1017.16 141.583 Q1013.55 141.583 1011.61 143.944 Q1009.69 146.282 1009.69 150.68 L1009.69 164.338 L1005.41 164.338 L1005.41 138.412 L1009.69 138.412 L1009.69 142.44 Q1011.03 140.078 1013.18 138.944 Q1015.34 137.787 1018.41 137.787 Q1018.85 137.787 1019.39 137.856 Q1019.92 137.903 1020.57 138.018 L1020.59 142.393 Z\" fill=\"#000000\" fill-rule=\"nonzero\" fill-opacity=\"1\" /></svg>\n"
      ],
      "text/html": [
       "<?xml version=\"1.0\" encoding=\"utf-8\"?>\n",
       "<svg xmlns=\"http://www.w3.org/2000/svg\" xmlns:xlink=\"http://www.w3.org/1999/xlink\" width=\"600\" height=\"400\" viewBox=\"0 0 2400 1600\">\n",
       "<defs>\n",
       "  <clipPath id=\"clip470\">\n",
       "    <rect x=\"0\" y=\"0\" width=\"2400\" height=\"1600\"/>\n",
       "  </clipPath>\n",
       "</defs>\n",
       "<path clip-path=\"url(#clip470)\" d=\"M0 1600 L2400 1600 L2400 0 L0 0  Z\" fill=\"#ffffff\" fill-rule=\"evenodd\" fill-opacity=\"1\"/>\n",
       "<defs>\n",
       "  <clipPath id=\"clip471\">\n",
       "    <rect x=\"480\" y=\"0\" width=\"1681\" height=\"1600\"/>\n",
       "  </clipPath>\n",
       "</defs>\n",
       "<path clip-path=\"url(#clip470)\" d=\"M169.121 1486.45 L2352.76 1486.45 L2352.76 47.2441 L169.121 47.2441  Z\" fill=\"#ffffff\" fill-rule=\"evenodd\" fill-opacity=\"1\"/>\n",
       "<defs>\n",
       "  <clipPath id=\"clip472\">\n",
       "    <rect x=\"169\" y=\"47\" width=\"2185\" height=\"1440\"/>\n",
       "  </clipPath>\n",
       "</defs>\n",
       "<polyline clip-path=\"url(#clip472)\" style=\"stroke:#000000; stroke-linecap:round; stroke-linejoin:round; stroke-width:2; stroke-opacity:0.1; fill:none\" points=\"664.613,1486.45 664.613,47.2441 \"/>\n",
       "<polyline clip-path=\"url(#clip472)\" style=\"stroke:#000000; stroke-linecap:round; stroke-linejoin:round; stroke-width:2; stroke-opacity:0.1; fill:none\" points=\"1206.73,1486.45 1206.73,47.2441 \"/>\n",
       "<polyline clip-path=\"url(#clip472)\" style=\"stroke:#000000; stroke-linecap:round; stroke-linejoin:round; stroke-width:2; stroke-opacity:0.1; fill:none\" points=\"1748.84,1486.45 1748.84,47.2441 \"/>\n",
       "<polyline clip-path=\"url(#clip472)\" style=\"stroke:#000000; stroke-linecap:round; stroke-linejoin:round; stroke-width:2; stroke-opacity:0.1; fill:none\" points=\"2290.95,1486.45 2290.95,47.2441 \"/>\n",
       "<polyline clip-path=\"url(#clip470)\" style=\"stroke:#000000; stroke-linecap:round; stroke-linejoin:round; stroke-width:4; stroke-opacity:1; fill:none\" points=\"169.121,1486.45 2352.76,1486.45 \"/>\n",
       "<polyline clip-path=\"url(#clip470)\" style=\"stroke:#000000; stroke-linecap:round; stroke-linejoin:round; stroke-width:4; stroke-opacity:1; fill:none\" points=\"664.613,1486.45 664.613,1467.55 \"/>\n",
       "<polyline clip-path=\"url(#clip470)\" style=\"stroke:#000000; stroke-linecap:round; stroke-linejoin:round; stroke-width:4; stroke-opacity:1; fill:none\" points=\"1206.73,1486.45 1206.73,1467.55 \"/>\n",
       "<polyline clip-path=\"url(#clip470)\" style=\"stroke:#000000; stroke-linecap:round; stroke-linejoin:round; stroke-width:4; stroke-opacity:1; fill:none\" points=\"1748.84,1486.45 1748.84,1467.55 \"/>\n",
       "<polyline clip-path=\"url(#clip470)\" style=\"stroke:#000000; stroke-linecap:round; stroke-linejoin:round; stroke-width:4; stroke-opacity:1; fill:none\" points=\"2290.95,1486.45 2290.95,1467.55 \"/>\n",
       "<path clip-path=\"url(#clip470)\" d=\"M654.891 1514.29 L673.248 1514.29 L673.248 1518.22 L659.174 1518.22 L659.174 1526.7 Q660.192 1526.35 661.211 1526.19 Q662.229 1526 663.248 1526 Q669.035 1526 672.414 1529.17 Q675.794 1532.34 675.794 1537.76 Q675.794 1543.34 672.322 1546.44 Q668.849 1549.52 662.53 1549.52 Q660.354 1549.52 658.086 1549.15 Q655.84 1548.78 653.433 1548.04 L653.433 1543.34 Q655.516 1544.47 657.738 1545.03 Q659.961 1545.58 662.437 1545.58 Q666.442 1545.58 668.78 1543.48 Q671.118 1541.37 671.118 1537.76 Q671.118 1534.15 668.78 1532.04 Q666.442 1529.94 662.437 1529.94 Q660.562 1529.94 658.687 1530.35 Q656.836 1530.77 654.891 1531.65 L654.891 1514.29 Z\" fill=\"#000000\" fill-rule=\"nonzero\" fill-opacity=\"1\" /><path clip-path=\"url(#clip470)\" d=\"M1181.41 1544.91 L1189.05 1544.91 L1189.05 1518.55 L1180.74 1520.21 L1180.74 1515.95 L1189.01 1514.29 L1193.68 1514.29 L1193.68 1544.91 L1201.32 1544.91 L1201.32 1548.85 L1181.41 1548.85 L1181.41 1544.91 Z\" fill=\"#000000\" fill-rule=\"nonzero\" fill-opacity=\"1\" /><path clip-path=\"url(#clip470)\" d=\"M1220.77 1517.37 Q1217.16 1517.37 1215.33 1520.93 Q1213.52 1524.47 1213.52 1531.6 Q1213.52 1538.71 1215.33 1542.27 Q1217.16 1545.82 1220.77 1545.82 Q1224.4 1545.82 1226.21 1542.27 Q1228.03 1538.71 1228.03 1531.6 Q1228.03 1524.47 1226.21 1520.93 Q1224.4 1517.37 1220.77 1517.37 M1220.77 1513.66 Q1226.58 1513.66 1229.63 1518.27 Q1232.71 1522.85 1232.71 1531.6 Q1232.71 1540.33 1229.63 1544.94 Q1226.58 1549.52 1220.77 1549.52 Q1214.96 1549.52 1211.88 1544.94 Q1208.82 1540.33 1208.82 1531.6 Q1208.82 1522.85 1211.88 1518.27 Q1214.96 1513.66 1220.77 1513.66 Z\" fill=\"#000000\" fill-rule=\"nonzero\" fill-opacity=\"1\" /><path clip-path=\"url(#clip470)\" d=\"M1724.03 1544.91 L1731.67 1544.91 L1731.67 1518.55 L1723.36 1520.21 L1723.36 1515.95 L1731.62 1514.29 L1736.29 1514.29 L1736.29 1544.91 L1743.93 1544.91 L1743.93 1548.85 L1724.03 1548.85 L1724.03 1544.91 Z\" fill=\"#000000\" fill-rule=\"nonzero\" fill-opacity=\"1\" /><path clip-path=\"url(#clip470)\" d=\"M1753.42 1514.29 L1771.78 1514.29 L1771.78 1518.22 L1757.71 1518.22 L1757.71 1526.7 Q1758.73 1526.35 1759.74 1526.19 Q1760.76 1526 1761.78 1526 Q1767.57 1526 1770.95 1529.17 Q1774.33 1532.34 1774.33 1537.76 Q1774.33 1543.34 1770.85 1546.44 Q1767.38 1549.52 1761.06 1549.52 Q1758.89 1549.52 1756.62 1549.15 Q1754.37 1548.78 1751.97 1548.04 L1751.97 1543.34 Q1754.05 1544.47 1756.27 1545.03 Q1758.49 1545.58 1760.97 1545.58 Q1764.98 1545.58 1767.31 1543.48 Q1769.65 1541.37 1769.65 1537.76 Q1769.65 1534.15 1767.31 1532.04 Q1764.98 1529.94 1760.97 1529.94 Q1759.1 1529.94 1757.22 1530.35 Q1755.37 1530.77 1753.42 1531.65 L1753.42 1514.29 Z\" fill=\"#000000\" fill-rule=\"nonzero\" fill-opacity=\"1\" /><path clip-path=\"url(#clip470)\" d=\"M2269.73 1544.91 L2286.05 1544.91 L2286.05 1548.85 L2264.1 1548.85 L2264.1 1544.91 Q2266.77 1542.16 2271.35 1537.53 Q2275.96 1532.88 2277.14 1531.53 Q2279.38 1529.01 2280.26 1527.27 Q2281.16 1525.51 2281.16 1523.82 Q2281.16 1521.07 2279.22 1519.33 Q2277.3 1517.6 2274.2 1517.6 Q2272 1517.6 2269.54 1518.36 Q2267.11 1519.13 2264.33 1520.68 L2264.33 1515.95 Q2267.16 1514.82 2269.61 1514.24 Q2272.07 1513.66 2274.1 1513.66 Q2279.47 1513.66 2282.67 1516.35 Q2285.86 1519.03 2285.86 1523.52 Q2285.86 1525.65 2285.05 1527.57 Q2284.27 1529.47 2282.16 1532.07 Q2281.58 1532.74 2278.48 1535.95 Q2275.38 1539.15 2269.73 1544.91 Z\" fill=\"#000000\" fill-rule=\"nonzero\" fill-opacity=\"1\" /><path clip-path=\"url(#clip470)\" d=\"M2305.86 1517.37 Q2302.25 1517.37 2300.42 1520.93 Q2298.62 1524.47 2298.62 1531.6 Q2298.62 1538.71 2300.42 1542.27 Q2302.25 1545.82 2305.86 1545.82 Q2309.5 1545.82 2311.3 1542.27 Q2313.13 1538.71 2313.13 1531.6 Q2313.13 1524.47 2311.3 1520.93 Q2309.5 1517.37 2305.86 1517.37 M2305.86 1513.66 Q2311.67 1513.66 2314.73 1518.27 Q2317.81 1522.85 2317.81 1531.6 Q2317.81 1540.33 2314.73 1544.94 Q2311.67 1549.52 2305.86 1549.52 Q2300.05 1549.52 2296.97 1544.94 Q2293.92 1540.33 2293.92 1531.6 Q2293.92 1522.85 2296.97 1518.27 Q2300.05 1513.66 2305.86 1513.66 Z\" fill=\"#000000\" fill-rule=\"nonzero\" fill-opacity=\"1\" /><polyline clip-path=\"url(#clip472)\" style=\"stroke:#000000; stroke-linecap:round; stroke-linejoin:round; stroke-width:2; stroke-opacity:0.1; fill:none\" points=\"169.121,1453.38 2352.76,1453.38 \"/>\n",
       "<polyline clip-path=\"url(#clip472)\" style=\"stroke:#000000; stroke-linecap:round; stroke-linejoin:round; stroke-width:2; stroke-opacity:0.1; fill:none\" points=\"169.121,1069.98 2352.76,1069.98 \"/>\n",
       "<polyline clip-path=\"url(#clip472)\" style=\"stroke:#000000; stroke-linecap:round; stroke-linejoin:round; stroke-width:2; stroke-opacity:0.1; fill:none\" points=\"169.121,686.578 2352.76,686.578 \"/>\n",
       "<polyline clip-path=\"url(#clip472)\" style=\"stroke:#000000; stroke-linecap:round; stroke-linejoin:round; stroke-width:2; stroke-opacity:0.1; fill:none\" points=\"169.121,303.175 2352.76,303.175 \"/>\n",
       "<polyline clip-path=\"url(#clip470)\" style=\"stroke:#000000; stroke-linecap:round; stroke-linejoin:round; stroke-width:4; stroke-opacity:1; fill:none\" points=\"169.121,1486.45 169.121,47.2441 \"/>\n",
       "<polyline clip-path=\"url(#clip470)\" style=\"stroke:#000000; stroke-linecap:round; stroke-linejoin:round; stroke-width:4; stroke-opacity:1; fill:none\" points=\"169.121,1453.38 188.019,1453.38 \"/>\n",
       "<polyline clip-path=\"url(#clip470)\" style=\"stroke:#000000; stroke-linecap:round; stroke-linejoin:round; stroke-width:4; stroke-opacity:1; fill:none\" points=\"169.121,1069.98 188.019,1069.98 \"/>\n",
       "<polyline clip-path=\"url(#clip470)\" style=\"stroke:#000000; stroke-linecap:round; stroke-linejoin:round; stroke-width:4; stroke-opacity:1; fill:none\" points=\"169.121,686.578 188.019,686.578 \"/>\n",
       "<polyline clip-path=\"url(#clip470)\" style=\"stroke:#000000; stroke-linecap:round; stroke-linejoin:round; stroke-width:4; stroke-opacity:1; fill:none\" points=\"169.121,303.175 188.019,303.175 \"/>\n",
       "<path clip-path=\"url(#clip470)\" d=\"M121.177 1439.18 Q117.566 1439.18 115.737 1442.75 Q113.932 1446.29 113.932 1453.42 Q113.932 1460.52 115.737 1464.09 Q117.566 1467.63 121.177 1467.63 Q124.811 1467.63 126.617 1464.09 Q128.445 1460.52 128.445 1453.42 Q128.445 1446.29 126.617 1442.75 Q124.811 1439.18 121.177 1439.18 M121.177 1435.48 Q126.987 1435.48 130.043 1440.09 Q133.121 1444.67 133.121 1453.42 Q133.121 1462.15 130.043 1466.75 Q126.987 1471.34 121.177 1471.34 Q115.367 1471.34 112.288 1466.75 Q109.233 1462.15 109.233 1453.42 Q109.233 1444.67 112.288 1440.09 Q115.367 1435.48 121.177 1435.48 Z\" fill=\"#000000\" fill-rule=\"nonzero\" fill-opacity=\"1\" /><path clip-path=\"url(#clip470)\" d=\"M81.0614 1052.7 L99.4178 1052.7 L99.4178 1056.64 L85.3438 1056.64 L85.3438 1065.11 Q86.3623 1064.76 87.3808 1064.6 Q88.3993 1064.41 89.4178 1064.41 Q95.2049 1064.41 98.5845 1067.58 Q101.964 1070.76 101.964 1076.17 Q101.964 1081.75 98.4919 1084.85 Q95.0197 1087.93 88.7003 1087.93 Q86.5243 1087.93 84.2558 1087.56 Q82.0105 1087.19 79.6031 1086.45 L79.6031 1081.75 Q81.6864 1082.89 83.9086 1083.44 Q86.1308 1084 88.6077 1084 Q92.6123 1084 94.9502 1081.89 Q97.2882 1079.78 97.2882 1076.17 Q97.2882 1072.56 94.9502 1070.46 Q92.6123 1068.35 88.6077 1068.35 Q86.7327 1068.35 84.8577 1068.77 Q83.0058 1069.18 81.0614 1070.06 L81.0614 1052.7 Z\" fill=\"#000000\" fill-rule=\"nonzero\" fill-opacity=\"1\" /><path clip-path=\"url(#clip470)\" d=\"M121.177 1055.78 Q117.566 1055.78 115.737 1059.34 Q113.932 1062.89 113.932 1070.02 Q113.932 1077.12 115.737 1080.69 Q117.566 1084.23 121.177 1084.23 Q124.811 1084.23 126.617 1080.69 Q128.445 1077.12 128.445 1070.02 Q128.445 1062.89 126.617 1059.34 Q124.811 1055.78 121.177 1055.78 M121.177 1052.08 Q126.987 1052.08 130.043 1056.68 Q133.121 1061.27 133.121 1070.02 Q133.121 1078.74 130.043 1083.35 Q126.987 1087.93 121.177 1087.93 Q115.367 1087.93 112.288 1083.35 Q109.233 1078.74 109.233 1070.02 Q109.233 1061.27 112.288 1056.68 Q115.367 1052.08 121.177 1052.08 Z\" fill=\"#000000\" fill-rule=\"nonzero\" fill-opacity=\"1\" /><path clip-path=\"url(#clip470)\" d=\"M51.6634 699.923 L59.3023 699.923 L59.3023 673.557 L50.9921 675.224 L50.9921 670.964 L59.256 669.298 L63.9319 669.298 L63.9319 699.923 L71.5707 699.923 L71.5707 703.858 L51.6634 703.858 L51.6634 699.923 Z\" fill=\"#000000\" fill-rule=\"nonzero\" fill-opacity=\"1\" /><path clip-path=\"url(#clip470)\" d=\"M91.0151 672.376 Q87.404 672.376 85.5753 675.941 Q83.7697 679.483 83.7697 686.613 Q83.7697 693.719 85.5753 697.284 Q87.404 700.825 91.0151 700.825 Q94.6493 700.825 96.4548 697.284 Q98.2835 693.719 98.2835 686.613 Q98.2835 679.483 96.4548 675.941 Q94.6493 672.376 91.0151 672.376 M91.0151 668.673 Q96.8252 668.673 99.8808 673.279 Q102.959 677.863 102.959 686.613 Q102.959 695.339 99.8808 699.946 Q96.8252 704.529 91.0151 704.529 Q85.2049 704.529 82.1262 699.946 Q79.0707 695.339 79.0707 686.613 Q79.0707 677.863 82.1262 673.279 Q85.2049 668.673 91.0151 668.673 Z\" fill=\"#000000\" fill-rule=\"nonzero\" fill-opacity=\"1\" /><path clip-path=\"url(#clip470)\" d=\"M121.177 672.376 Q117.566 672.376 115.737 675.941 Q113.932 679.483 113.932 686.613 Q113.932 693.719 115.737 697.284 Q117.566 700.825 121.177 700.825 Q124.811 700.825 126.617 697.284 Q128.445 693.719 128.445 686.613 Q128.445 679.483 126.617 675.941 Q124.811 672.376 121.177 672.376 M121.177 668.673 Q126.987 668.673 130.043 673.279 Q133.121 677.863 133.121 686.613 Q133.121 695.339 130.043 699.946 Q126.987 704.529 121.177 704.529 Q115.367 704.529 112.288 699.946 Q109.233 695.339 109.233 686.613 Q109.233 677.863 112.288 673.279 Q115.367 668.673 121.177 668.673 Z\" fill=\"#000000\" fill-rule=\"nonzero\" fill-opacity=\"1\" /><path clip-path=\"url(#clip470)\" d=\"M51.6634 316.52 L59.3023 316.52 L59.3023 290.154 L50.9921 291.821 L50.9921 287.561 L59.256 285.895 L63.9319 285.895 L63.9319 316.52 L71.5707 316.52 L71.5707 320.455 L51.6634 320.455 L51.6634 316.52 Z\" fill=\"#000000\" fill-rule=\"nonzero\" fill-opacity=\"1\" /><path clip-path=\"url(#clip470)\" d=\"M81.0614 285.895 L99.4178 285.895 L99.4178 289.83 L85.3438 289.83 L85.3438 298.302 Q86.3623 297.955 87.3808 297.793 Q88.3993 297.608 89.4178 297.608 Q95.2049 297.608 98.5845 300.779 Q101.964 303.95 101.964 309.367 Q101.964 314.946 98.4919 318.047 Q95.0197 321.126 88.7003 321.126 Q86.5243 321.126 84.2558 320.756 Q82.0105 320.385 79.6031 319.645 L79.6031 314.946 Q81.6864 316.08 83.9086 316.635 Q86.1308 317.191 88.6077 317.191 Q92.6123 317.191 94.9502 315.084 Q97.2882 312.978 97.2882 309.367 Q97.2882 305.756 94.9502 303.649 Q92.6123 301.543 88.6077 301.543 Q86.7327 301.543 84.8577 301.96 Q83.0058 302.376 81.0614 303.256 L81.0614 285.895 Z\" fill=\"#000000\" fill-rule=\"nonzero\" fill-opacity=\"1\" /><path clip-path=\"url(#clip470)\" d=\"M121.177 288.973 Q117.566 288.973 115.737 292.538 Q113.932 296.08 113.932 303.21 Q113.932 310.316 115.737 313.881 Q117.566 317.422 121.177 317.422 Q124.811 317.422 126.617 313.881 Q128.445 310.316 128.445 303.21 Q128.445 296.08 126.617 292.538 Q124.811 288.973 121.177 288.973 M121.177 285.27 Q126.987 285.27 130.043 289.876 Q133.121 294.46 133.121 303.21 Q133.121 311.936 130.043 316.543 Q126.987 321.126 121.177 321.126 Q115.367 321.126 112.288 316.543 Q109.233 311.936 109.233 303.21 Q109.233 294.46 112.288 289.876 Q115.367 285.27 121.177 285.27 Z\" fill=\"#000000\" fill-rule=\"nonzero\" fill-opacity=\"1\" /><polyline clip-path=\"url(#clip472)\" style=\"stroke:#009af9; stroke-linecap:round; stroke-linejoin:round; stroke-width:4; stroke-opacity:1; fill:none\" points=\"230.922,1445.72 339.345,1430.38 447.768,1408.69 556.191,1380.75 664.613,1346.58 773.036,1306.19 881.459,1259.58 989.882,1206.75 1098.3,1147.71 1206.73,1082.45 1315.15,1010.97 1423.57,933.279 1532,849.371 1640.42,759.247 1748.84,662.907 1857.26,560.352 1965.69,451.582 2074.11,336.595 2182.53,215.394 2290.95,87.9763 \"/>\n",
       "<path clip-path=\"url(#clip470)\" d=\"M241.909 198.898 L1044.85 198.898 L1044.85 95.2176 L241.909 95.2176  Z\" fill=\"#ffffff\" fill-rule=\"evenodd\" fill-opacity=\"1\"/>\n",
       "<polyline clip-path=\"url(#clip470)\" style=\"stroke:#000000; stroke-linecap:round; stroke-linejoin:round; stroke-width:4; stroke-opacity:1; fill:none\" points=\"241.909,198.898 1044.85,198.898 1044.85,95.2176 241.909,95.2176 241.909,198.898 \"/>\n",
       "<polyline clip-path=\"url(#clip470)\" style=\"stroke:#009af9; stroke-linecap:round; stroke-linejoin:round; stroke-width:4; stroke-opacity:1; fill:none\" points=\"266.172,147.058 411.747,147.058 \"/>\n",
       "<path clip-path=\"url(#clip470)\" d=\"M456.357 143.389 Q457.954 140.518 460.177 139.153 Q462.399 137.787 465.408 137.787 Q469.459 137.787 471.658 140.634 Q473.857 143.458 473.857 148.689 L473.857 164.338 L469.575 164.338 L469.575 148.828 Q469.575 145.102 468.255 143.296 Q466.936 141.49 464.227 141.49 Q460.917 141.49 458.996 143.69 Q457.075 145.889 457.075 149.685 L457.075 164.338 L452.792 164.338 L452.792 148.828 Q452.792 145.078 451.473 143.296 Q450.153 141.49 447.399 141.49 Q444.135 141.49 442.214 143.713 Q440.292 145.912 440.292 149.685 L440.292 164.338 L436.01 164.338 L436.01 138.412 L440.292 138.412 L440.292 142.44 Q441.751 140.055 443.788 138.921 Q445.825 137.787 448.626 137.787 Q451.45 137.787 453.417 139.222 Q455.408 140.657 456.357 143.389 Z\" fill=\"#000000\" fill-rule=\"nonzero\" fill-opacity=\"1\" /><path clip-path=\"url(#clip470)\" d=\"M494.135 151.305 Q488.973 151.305 486.982 152.486 Q484.991 153.666 484.991 156.514 Q484.991 158.782 486.473 160.125 Q487.977 161.444 490.547 161.444 Q494.088 161.444 496.218 158.944 Q498.371 156.421 498.371 152.254 L498.371 151.305 L494.135 151.305 M502.63 149.546 L502.63 164.338 L498.371 164.338 L498.371 160.402 Q496.912 162.763 494.737 163.898 Q492.561 165.009 489.412 165.009 Q485.431 165.009 483.07 162.787 Q480.732 160.541 480.732 156.791 Q480.732 152.416 483.649 150.194 Q486.588 147.972 492.399 147.972 L498.371 147.972 L498.371 147.555 Q498.371 144.615 496.426 143.018 Q494.505 141.398 491.01 141.398 Q488.787 141.398 486.681 141.93 Q484.575 142.463 482.63 143.527 L482.63 139.592 Q484.968 138.69 487.167 138.25 Q489.366 137.787 491.45 137.787 Q497.074 137.787 499.852 140.703 Q502.63 143.62 502.63 149.546 Z\" fill=\"#000000\" fill-rule=\"nonzero\" fill-opacity=\"1\" /><path clip-path=\"url(#clip470)\" d=\"M515.616 131.051 L515.616 138.412 L524.389 138.412 L524.389 141.722 L515.616 141.722 L515.616 155.796 Q515.616 158.967 516.473 159.87 Q517.352 160.773 520.014 160.773 L524.389 160.773 L524.389 164.338 L520.014 164.338 Q515.084 164.338 513.209 162.509 Q511.334 160.657 511.334 155.796 L511.334 141.722 L508.209 141.722 L508.209 138.412 L511.334 138.412 L511.334 131.051 L515.616 131.051 Z\" fill=\"#000000\" fill-rule=\"nonzero\" fill-opacity=\"1\" /><path clip-path=\"url(#clip470)\" d=\"M545.014 142.393 Q544.296 141.977 543.44 141.791 Q542.607 141.583 541.588 141.583 Q537.977 141.583 536.033 143.944 Q534.111 146.282 534.111 150.68 L534.111 164.338 L529.829 164.338 L529.829 138.412 L534.111 138.412 L534.111 142.44 Q535.454 140.078 537.607 138.944 Q539.759 137.787 542.838 137.787 Q543.278 137.787 543.81 137.856 Q544.343 137.903 544.991 138.018 L545.014 142.393 Z\" fill=\"#000000\" fill-rule=\"nonzero\" fill-opacity=\"1\" /><path clip-path=\"url(#clip470)\" d=\"M549.482 138.412 L553.741 138.412 L553.741 164.338 L549.482 164.338 L549.482 138.412 M549.482 128.319 L553.741 128.319 L553.741 133.713 L549.482 133.713 L549.482 128.319 Z\" fill=\"#000000\" fill-rule=\"nonzero\" fill-opacity=\"1\" /><path clip-path=\"url(#clip470)\" d=\"M584.204 138.412 L574.829 151.027 L584.69 164.338 L579.667 164.338 L572.12 154.152 L564.574 164.338 L559.551 164.338 L569.62 150.773 L560.407 138.412 L565.431 138.412 L572.306 147.648 L579.181 138.412 L584.204 138.412 Z\" fill=\"#000000\" fill-rule=\"nonzero\" fill-opacity=\"1\" /><path clip-path=\"url(#clip470)\" d=\"M624.435 139.407 L624.435 143.389 Q622.629 142.393 620.801 141.907 Q618.995 141.398 617.143 141.398 Q613 141.398 610.708 144.037 Q608.416 146.652 608.416 151.398 Q608.416 156.143 610.708 158.782 Q613 161.398 617.143 161.398 Q618.995 161.398 620.801 160.912 Q622.629 160.402 624.435 159.407 L624.435 163.342 Q622.653 164.176 620.731 164.592 Q618.833 165.009 616.68 165.009 Q610.824 165.009 607.375 161.328 Q603.926 157.648 603.926 151.398 Q603.926 145.055 607.398 141.421 Q610.893 137.787 616.958 137.787 Q618.926 137.787 620.801 138.203 Q622.676 138.597 624.435 139.407 Z\" fill=\"#000000\" fill-rule=\"nonzero\" fill-opacity=\"1\" /><path clip-path=\"url(#clip470)\" d=\"M641.889 141.398 Q638.463 141.398 636.472 144.083 Q634.481 146.745 634.481 151.398 Q634.481 156.051 636.449 158.736 Q638.439 161.398 641.889 161.398 Q645.291 161.398 647.282 158.713 Q649.273 156.027 649.273 151.398 Q649.273 146.791 647.282 144.106 Q645.291 141.398 641.889 141.398 M641.889 137.787 Q647.444 137.787 650.615 141.398 Q653.787 145.009 653.787 151.398 Q653.787 157.764 650.615 161.398 Q647.444 165.009 641.889 165.009 Q636.31 165.009 633.139 161.398 Q629.99 157.764 629.99 151.398 Q629.99 145.009 633.139 141.398 Q636.31 137.787 641.889 137.787 Z\" fill=\"#000000\" fill-rule=\"nonzero\" fill-opacity=\"1\" /><path clip-path=\"url(#clip470)\" d=\"M682.398 148.689 L682.398 164.338 L678.138 164.338 L678.138 148.828 Q678.138 145.148 676.703 143.319 Q675.268 141.49 672.398 141.49 Q668.949 141.49 666.958 143.69 Q664.967 145.889 664.967 149.685 L664.967 164.338 L660.685 164.338 L660.685 138.412 L664.967 138.412 L664.967 142.44 Q666.495 140.102 668.555 138.944 Q670.638 137.787 673.347 137.787 Q677.814 137.787 680.106 140.565 Q682.398 143.319 682.398 148.689 Z\" fill=\"#000000\" fill-rule=\"nonzero\" fill-opacity=\"1\" /><path clip-path=\"url(#clip470)\" d=\"M707.953 142.347 L707.953 128.319 L712.212 128.319 L712.212 164.338 L707.953 164.338 L707.953 160.449 Q706.61 162.763 704.55 163.898 Q702.513 165.009 699.643 165.009 Q694.944 165.009 691.981 161.259 Q689.041 157.509 689.041 151.398 Q689.041 145.287 691.981 141.537 Q694.944 137.787 699.643 137.787 Q702.513 137.787 704.55 138.921 Q706.61 140.032 707.953 142.347 M693.439 151.398 Q693.439 156.097 695.36 158.782 Q697.305 161.444 700.684 161.444 Q704.064 161.444 706.009 158.782 Q707.953 156.097 707.953 151.398 Q707.953 146.699 706.009 144.037 Q704.064 141.352 700.684 141.352 Q697.305 141.352 695.36 144.037 Q693.439 146.699 693.439 151.398 Z\" fill=\"#000000\" fill-rule=\"nonzero\" fill-opacity=\"1\" /><path clip-path=\"url(#clip470)\" d=\"M720.985 138.412 L725.245 138.412 L725.245 164.338 L720.985 164.338 L720.985 138.412 M720.985 128.319 L725.245 128.319 L725.245 133.713 L720.985 133.713 L720.985 128.319 Z\" fill=\"#000000\" fill-rule=\"nonzero\" fill-opacity=\"1\" /><path clip-path=\"url(#clip470)\" d=\"M738.369 131.051 L738.369 138.412 L747.143 138.412 L747.143 141.722 L738.369 141.722 L738.369 155.796 Q738.369 158.967 739.226 159.87 Q740.106 160.773 742.768 160.773 L747.143 160.773 L747.143 164.338 L742.768 164.338 Q737.837 164.338 735.962 162.509 Q734.087 160.657 734.087 155.796 L734.087 141.722 L730.962 141.722 L730.962 138.412 L734.087 138.412 L734.087 131.051 L738.369 131.051 Z\" fill=\"#000000\" fill-rule=\"nonzero\" fill-opacity=\"1\" /><path clip-path=\"url(#clip470)\" d=\"M752.744 138.412 L757.004 138.412 L757.004 164.338 L752.744 164.338 L752.744 138.412 M752.744 128.319 L757.004 128.319 L757.004 133.713 L752.744 133.713 L752.744 128.319 Z\" fill=\"#000000\" fill-rule=\"nonzero\" fill-opacity=\"1\" /><path clip-path=\"url(#clip470)\" d=\"M775.962 141.398 Q772.536 141.398 770.545 144.083 Q768.555 146.745 768.555 151.398 Q768.555 156.051 770.522 158.736 Q772.513 161.398 775.962 161.398 Q779.365 161.398 781.355 158.713 Q783.346 156.027 783.346 151.398 Q783.346 146.791 781.355 144.106 Q779.365 141.398 775.962 141.398 M775.962 137.787 Q781.517 137.787 784.689 141.398 Q787.86 145.009 787.86 151.398 Q787.86 157.764 784.689 161.398 Q781.517 165.009 775.962 165.009 Q770.383 165.009 767.212 161.398 Q764.064 157.764 764.064 151.398 Q764.064 145.009 767.212 141.398 Q770.383 137.787 775.962 137.787 Z\" fill=\"#000000\" fill-rule=\"nonzero\" fill-opacity=\"1\" /><path clip-path=\"url(#clip470)\" d=\"M816.471 148.689 L816.471 164.338 L812.212 164.338 L812.212 148.828 Q812.212 145.148 810.776 143.319 Q809.341 141.49 806.471 141.49 Q803.022 141.49 801.031 143.69 Q799.04 145.889 799.04 149.685 L799.04 164.338 L794.758 164.338 L794.758 138.412 L799.04 138.412 L799.04 142.44 Q800.568 140.102 802.628 138.944 Q804.712 137.787 807.42 137.787 Q811.888 137.787 814.179 140.565 Q816.471 143.319 816.471 148.689 Z\" fill=\"#000000\" fill-rule=\"nonzero\" fill-opacity=\"1\" /><path clip-path=\"url(#clip470)\" d=\"M861.586 148.689 L861.586 164.338 L857.327 164.338 L857.327 148.828 Q857.327 145.148 855.892 143.319 Q854.457 141.49 851.586 141.49 Q848.137 141.49 846.147 143.69 Q844.156 145.889 844.156 149.685 L844.156 164.338 L839.874 164.338 L839.874 138.412 L844.156 138.412 L844.156 142.44 Q845.684 140.102 847.744 138.944 Q849.827 137.787 852.536 137.787 Q857.003 137.787 859.295 140.565 Q861.586 143.319 861.586 148.689 Z\" fill=\"#000000\" fill-rule=\"nonzero\" fill-opacity=\"1\" /><path clip-path=\"url(#clip470)\" d=\"M869.642 154.106 L869.642 138.412 L873.901 138.412 L873.901 153.944 Q873.901 157.625 875.336 159.476 Q876.772 161.305 879.642 161.305 Q883.091 161.305 885.082 159.106 Q887.096 156.907 887.096 153.111 L887.096 138.412 L891.355 138.412 L891.355 164.338 L887.096 164.338 L887.096 160.356 Q885.545 162.717 883.484 163.875 Q881.447 165.009 878.739 165.009 Q874.272 165.009 871.957 162.231 Q869.642 159.453 869.642 154.106 M880.359 137.787 L880.359 137.787 Z\" fill=\"#000000\" fill-rule=\"nonzero\" fill-opacity=\"1\" /><path clip-path=\"url(#clip470)\" d=\"M920.313 143.389 Q921.91 140.518 924.132 139.153 Q926.355 137.787 929.364 137.787 Q933.415 137.787 935.614 140.634 Q937.813 143.458 937.813 148.689 L937.813 164.338 L933.53 164.338 L933.53 148.828 Q933.53 145.102 932.211 143.296 Q930.892 141.49 928.183 141.49 Q924.873 141.49 922.952 143.69 Q921.031 145.889 921.031 149.685 L921.031 164.338 L916.748 164.338 L916.748 148.828 Q916.748 145.078 915.429 143.296 Q914.109 141.49 911.355 141.49 Q908.091 141.49 906.17 143.713 Q904.248 145.912 904.248 149.685 L904.248 164.338 L899.966 164.338 L899.966 138.412 L904.248 138.412 L904.248 142.44 Q905.707 140.055 907.744 138.921 Q909.781 137.787 912.582 137.787 Q915.406 137.787 917.373 139.222 Q919.364 140.657 920.313 143.389 Z\" fill=\"#000000\" fill-rule=\"nonzero\" fill-opacity=\"1\" /><path clip-path=\"url(#clip470)\" d=\"M964.919 151.398 Q964.919 146.699 962.975 144.037 Q961.053 141.352 957.674 141.352 Q954.294 141.352 952.35 144.037 Q950.429 146.699 950.429 151.398 Q950.429 156.097 952.35 158.782 Q954.294 161.444 957.674 161.444 Q961.053 161.444 962.975 158.782 Q964.919 156.097 964.919 151.398 M950.429 142.347 Q951.771 140.032 953.808 138.921 Q955.868 137.787 958.716 137.787 Q963.438 137.787 966.378 141.537 Q969.34 145.287 969.34 151.398 Q969.34 157.509 966.378 161.259 Q963.438 165.009 958.716 165.009 Q955.868 165.009 953.808 163.898 Q951.771 162.763 950.429 160.449 L950.429 164.338 L946.146 164.338 L946.146 128.319 L950.429 128.319 L950.429 142.347 Z\" fill=\"#000000\" fill-rule=\"nonzero\" fill-opacity=\"1\" /><path clip-path=\"url(#clip470)\" d=\"M998.576 150.31 L998.576 152.393 L978.993 152.393 Q979.271 156.791 981.632 159.106 Q984.016 161.398 988.252 161.398 Q990.706 161.398 992.998 160.796 Q995.313 160.194 997.581 158.99 L997.581 163.018 Q995.289 163.99 992.882 164.5 Q990.475 165.009 987.998 165.009 Q981.794 165.009 978.16 161.398 Q974.549 157.787 974.549 151.629 Q974.549 145.264 977.975 141.537 Q981.424 137.787 987.257 137.787 Q992.488 137.787 995.521 141.166 Q998.576 144.523 998.576 150.31 M994.317 149.06 Q994.271 145.565 992.35 143.481 Q990.451 141.398 987.303 141.398 Q983.739 141.398 981.586 143.412 Q979.456 145.426 979.132 149.083 L994.317 149.06 Z\" fill=\"#000000\" fill-rule=\"nonzero\" fill-opacity=\"1\" /><path clip-path=\"url(#clip470)\" d=\"M1020.59 142.393 Q1019.87 141.977 1019.02 141.791 Q1018.18 141.583 1017.16 141.583 Q1013.55 141.583 1011.61 143.944 Q1009.69 146.282 1009.69 150.68 L1009.69 164.338 L1005.41 164.338 L1005.41 138.412 L1009.69 138.412 L1009.69 142.44 Q1011.03 140.078 1013.18 138.944 Q1015.34 137.787 1018.41 137.787 Q1018.85 137.787 1019.39 137.856 Q1019.92 137.903 1020.57 138.018 L1020.59 142.393 Z\" fill=\"#000000\" fill-rule=\"nonzero\" fill-opacity=\"1\" /></svg>\n"
      ]
     },
     "execution_count": 27,
     "metadata": {},
     "output_type": "execute_result"
    }
   ],
   "source": [
    "# condition number of the tridiagonal matrix\n",
    "n = 20;\n",
    "cond_tridiagonal = zeros(n);\n",
    "for i in 1:n\n",
    "    A = Array(Tridiagonal(-1*ones(i-1), 2*ones(i), -1*ones(i-1)));\n",
    "    cond_tridiagonal[i] = cond(A);\n",
    "end\n",
    "plot(cond_tridiagonal, label = \"matrix condition number\")"
   ]
  },
  {
   "cell_type": "code",
   "execution_count": 28,
   "metadata": {},
   "outputs": [
    {
     "data": {
      "image/png": "[encoded data removed]",
      "image/svg+xml": [
       "<?xml version=\"1.0\" encoding=\"utf-8\"?>\n",
       "<svg xmlns=\"http://www.w3.org/2000/svg\" xmlns:xlink=\"http://www.w3.org/1999/xlink\" width=\"600\" height=\"400\" viewBox=\"0 0 2400 1600\">\n",
       "<defs>\n",
       "  <clipPath id=\"clip510\">\n",
       "    <rect x=\"0\" y=\"0\" width=\"2400\" height=\"1600\"/>\n",
       "  </clipPath>\n",
       "</defs>\n",
       "<path clip-path=\"url(#clip510)\" d=\"M0 1600 L2400 1600 L2400 0 L0 0  Z\" fill=\"#ffffff\" fill-rule=\"evenodd\" fill-opacity=\"1\"/>\n",
       "<defs>\n",
       "  <clipPath id=\"clip511\">\n",
       "    <rect x=\"480\" y=\"0\" width=\"1681\" height=\"1600\"/>\n",
       "  </clipPath>\n",
       "</defs>\n",
       "<path clip-path=\"url(#clip510)\" d=\"M326.713 1486.45 L2352.76 1486.45 L2352.76 47.2441 L326.713 47.2441  Z\" fill=\"#ffffff\" fill-rule=\"evenodd\" fill-opacity=\"1\"/>\n",
       "<defs>\n",
       "  <clipPath id=\"clip512\">\n",
       "    <rect x=\"326\" y=\"47\" width=\"2027\" height=\"1440\"/>\n",
       "  </clipPath>\n",
       "</defs>\n",
       "<polyline clip-path=\"url(#clip512)\" style=\"stroke:#000000; stroke-linecap:round; stroke-linejoin:round; stroke-width:2; stroke-opacity:0.1; fill:none\" points=\"596.427,1486.45 596.427,47.2441 \"/>\n",
       "<polyline clip-path=\"url(#clip512)\" style=\"stroke:#000000; stroke-linecap:round; stroke-linejoin:round; stroke-width:2; stroke-opacity:0.1; fill:none\" points=\"1021.17,1486.45 1021.17,47.2441 \"/>\n",
       "<polyline clip-path=\"url(#clip512)\" style=\"stroke:#000000; stroke-linecap:round; stroke-linejoin:round; stroke-width:2; stroke-opacity:0.1; fill:none\" points=\"1445.92,1486.45 1445.92,47.2441 \"/>\n",
       "<polyline clip-path=\"url(#clip512)\" style=\"stroke:#000000; stroke-linecap:round; stroke-linejoin:round; stroke-width:2; stroke-opacity:0.1; fill:none\" points=\"1870.67,1486.45 1870.67,47.2441 \"/>\n",
       "<polyline clip-path=\"url(#clip512)\" style=\"stroke:#000000; stroke-linecap:round; stroke-linejoin:round; stroke-width:2; stroke-opacity:0.1; fill:none\" points=\"2295.42,1486.45 2295.42,47.2441 \"/>\n",
       "<polyline clip-path=\"url(#clip510)\" style=\"stroke:#000000; stroke-linecap:round; stroke-linejoin:round; stroke-width:4; stroke-opacity:1; fill:none\" points=\"326.713,1486.45 2352.76,1486.45 \"/>\n",
       "<polyline clip-path=\"url(#clip510)\" style=\"stroke:#000000; stroke-linecap:round; stroke-linejoin:round; stroke-width:4; stroke-opacity:1; fill:none\" points=\"596.427,1486.45 596.427,1467.55 \"/>\n",
       "<polyline clip-path=\"url(#clip510)\" style=\"stroke:#000000; stroke-linecap:round; stroke-linejoin:round; stroke-width:4; stroke-opacity:1; fill:none\" points=\"1021.17,1486.45 1021.17,1467.55 \"/>\n",
       "<polyline clip-path=\"url(#clip510)\" style=\"stroke:#000000; stroke-linecap:round; stroke-linejoin:round; stroke-width:4; stroke-opacity:1; fill:none\" points=\"1445.92,1486.45 1445.92,1467.55 \"/>\n",
       "<polyline clip-path=\"url(#clip510)\" style=\"stroke:#000000; stroke-linecap:round; stroke-linejoin:round; stroke-width:4; stroke-opacity:1; fill:none\" points=\"1870.67,1486.45 1870.67,1467.55 \"/>\n",
       "<polyline clip-path=\"url(#clip510)\" style=\"stroke:#000000; stroke-linecap:round; stroke-linejoin:round; stroke-width:4; stroke-opacity:1; fill:none\" points=\"2295.42,1486.45 2295.42,1467.55 \"/>\n",
       "<path clip-path=\"url(#clip510)\" d=\"M591.08 1544.91 L607.4 1544.91 L607.4 1548.85 L585.455 1548.85 L585.455 1544.91 Q588.117 1542.16 592.701 1537.53 Q597.307 1532.88 598.488 1531.53 Q600.733 1529.01 601.613 1527.27 Q602.515 1525.51 602.515 1523.82 Q602.515 1521.07 600.571 1519.33 Q598.65 1517.6 595.548 1517.6 Q593.349 1517.6 590.895 1518.36 Q588.464 1519.13 585.687 1520.68 L585.687 1515.95 Q588.511 1514.82 590.964 1514.24 Q593.418 1513.66 595.455 1513.66 Q600.825 1513.66 604.02 1516.35 Q607.214 1519.03 607.214 1523.52 Q607.214 1525.65 606.404 1527.57 Q605.617 1529.47 603.511 1532.07 Q602.932 1532.74 599.83 1535.95 Q596.728 1539.15 591.08 1544.91 Z\" fill=\"#000000\" fill-rule=\"nonzero\" fill-opacity=\"1\" /><path clip-path=\"url(#clip510)\" d=\"M1024.18 1518.36 L1012.38 1536.81 L1024.18 1536.81 L1024.18 1518.36 M1022.96 1514.29 L1028.84 1514.29 L1028.84 1536.81 L1033.77 1536.81 L1033.77 1540.7 L1028.84 1540.7 L1028.84 1548.85 L1024.18 1548.85 L1024.18 1540.7 L1008.58 1540.7 L1008.58 1536.19 L1022.96 1514.29 Z\" fill=\"#000000\" fill-rule=\"nonzero\" fill-opacity=\"1\" /><path clip-path=\"url(#clip510)\" d=\"M1446.33 1529.7 Q1443.18 1529.7 1441.33 1531.86 Q1439.5 1534.01 1439.5 1537.76 Q1439.5 1541.49 1441.33 1543.66 Q1443.18 1545.82 1446.33 1545.82 Q1449.47 1545.82 1451.3 1543.66 Q1453.15 1541.49 1453.15 1537.76 Q1453.15 1534.01 1451.3 1531.86 Q1449.47 1529.7 1446.33 1529.7 M1455.61 1515.05 L1455.61 1519.31 Q1453.85 1518.48 1452.04 1518.04 Q1450.26 1517.6 1448.5 1517.6 Q1443.87 1517.6 1441.42 1520.72 Q1438.99 1523.85 1438.64 1530.17 Q1440.01 1528.15 1442.07 1527.09 Q1444.13 1526 1446.6 1526 Q1451.81 1526 1454.82 1529.17 Q1457.85 1532.32 1457.85 1537.76 Q1457.85 1543.08 1454.71 1546.3 Q1451.56 1549.52 1446.33 1549.52 Q1440.33 1549.52 1437.16 1544.94 Q1433.99 1540.33 1433.99 1531.6 Q1433.99 1523.41 1437.88 1518.55 Q1441.77 1513.66 1448.32 1513.66 Q1450.08 1513.66 1451.86 1514.01 Q1453.66 1514.36 1455.61 1515.05 Z\" fill=\"#000000\" fill-rule=\"nonzero\" fill-opacity=\"1\" /><path clip-path=\"url(#clip510)\" d=\"M1870.67 1532.44 Q1867.33 1532.44 1865.41 1534.22 Q1863.52 1536 1863.52 1539.13 Q1863.52 1542.25 1865.41 1544.03 Q1867.33 1545.82 1870.67 1545.82 Q1874 1545.82 1875.92 1544.03 Q1877.84 1542.23 1877.84 1539.13 Q1877.84 1536 1875.92 1534.22 Q1874.02 1532.44 1870.67 1532.44 M1865.99 1530.45 Q1862.98 1529.7 1861.29 1527.64 Q1859.63 1525.58 1859.63 1522.62 Q1859.63 1518.48 1862.57 1516.07 Q1865.53 1513.66 1870.67 1513.66 Q1875.83 1513.66 1878.77 1516.07 Q1881.71 1518.48 1881.71 1522.62 Q1881.71 1525.58 1880.02 1527.64 Q1878.35 1529.7 1875.37 1530.45 Q1878.75 1531.23 1880.62 1533.52 Q1882.52 1535.82 1882.52 1539.13 Q1882.52 1544.15 1879.44 1546.83 Q1876.39 1549.52 1870.67 1549.52 Q1864.95 1549.52 1861.87 1546.83 Q1858.82 1544.15 1858.82 1539.13 Q1858.82 1535.82 1860.71 1533.52 Q1862.61 1531.23 1865.99 1530.45 M1864.28 1523.06 Q1864.28 1525.75 1865.95 1527.25 Q1867.64 1528.76 1870.67 1528.76 Q1873.68 1528.76 1875.37 1527.25 Q1877.08 1525.75 1877.08 1523.06 Q1877.08 1520.38 1875.37 1518.87 Q1873.68 1517.37 1870.67 1517.37 Q1867.64 1517.37 1865.95 1518.87 Q1864.28 1520.38 1864.28 1523.06 Z\" fill=\"#000000\" fill-rule=\"nonzero\" fill-opacity=\"1\" /><path clip-path=\"url(#clip510)\" d=\"M2270.1 1544.91 L2277.74 1544.91 L2277.74 1518.55 L2269.43 1520.21 L2269.43 1515.95 L2277.7 1514.29 L2282.37 1514.29 L2282.37 1544.91 L2290.01 1544.91 L2290.01 1548.85 L2270.1 1548.85 L2270.1 1544.91 Z\" fill=\"#000000\" fill-rule=\"nonzero\" fill-opacity=\"1\" /><path clip-path=\"url(#clip510)\" d=\"M2309.45 1517.37 Q2305.84 1517.37 2304.01 1520.93 Q2302.21 1524.47 2302.21 1531.6 Q2302.21 1538.71 2304.01 1542.27 Q2305.84 1545.82 2309.45 1545.82 Q2313.09 1545.82 2314.89 1542.27 Q2316.72 1538.71 2316.72 1531.6 Q2316.72 1524.47 2314.89 1520.93 Q2313.09 1517.37 2309.45 1517.37 M2309.45 1513.66 Q2315.26 1513.66 2318.32 1518.27 Q2321.4 1522.85 2321.4 1531.6 Q2321.4 1540.33 2318.32 1544.94 Q2315.26 1549.52 2309.45 1549.52 Q2303.64 1549.52 2300.57 1544.94 Q2297.51 1540.33 2297.51 1531.6 Q2297.51 1522.85 2300.57 1518.27 Q2303.64 1513.66 2309.45 1513.66 Z\" fill=\"#000000\" fill-rule=\"nonzero\" fill-opacity=\"1\" /><polyline clip-path=\"url(#clip512)\" style=\"stroke:#000000; stroke-linecap:round; stroke-linejoin:round; stroke-width:2; stroke-opacity:0.1; fill:none\" points=\"326.713,1445.72 2352.76,1445.72 \"/>\n",
       "<polyline clip-path=\"url(#clip512)\" style=\"stroke:#000000; stroke-linecap:round; stroke-linejoin:round; stroke-width:2; stroke-opacity:0.1; fill:none\" points=\"326.713,1022.07 2352.76,1022.07 \"/>\n",
       "<polyline clip-path=\"url(#clip512)\" style=\"stroke:#000000; stroke-linecap:round; stroke-linejoin:round; stroke-width:2; stroke-opacity:0.1; fill:none\" points=\"326.713,598.421 2352.76,598.421 \"/>\n",
       "<polyline clip-path=\"url(#clip512)\" style=\"stroke:#000000; stroke-linecap:round; stroke-linejoin:round; stroke-width:2; stroke-opacity:0.1; fill:none\" points=\"326.713,174.774 2352.76,174.774 \"/>\n",
       "<polyline clip-path=\"url(#clip510)\" style=\"stroke:#000000; stroke-linecap:round; stroke-linejoin:round; stroke-width:4; stroke-opacity:1; fill:none\" points=\"326.713,1486.45 326.713,47.2441 \"/>\n",
       "<polyline clip-path=\"url(#clip510)\" style=\"stroke:#000000; stroke-linecap:round; stroke-linejoin:round; stroke-width:4; stroke-opacity:1; fill:none\" points=\"326.713,1445.72 345.611,1445.72 \"/>\n",
       "<polyline clip-path=\"url(#clip510)\" style=\"stroke:#000000; stroke-linecap:round; stroke-linejoin:round; stroke-width:4; stroke-opacity:1; fill:none\" points=\"326.713,1022.07 345.611,1022.07 \"/>\n",
       "<polyline clip-path=\"url(#clip510)\" style=\"stroke:#000000; stroke-linecap:round; stroke-linejoin:round; stroke-width:4; stroke-opacity:1; fill:none\" points=\"326.713,598.421 345.611,598.421 \"/>\n",
       "<polyline clip-path=\"url(#clip510)\" style=\"stroke:#000000; stroke-linecap:round; stroke-linejoin:round; stroke-width:4; stroke-opacity:1; fill:none\" points=\"326.713,174.774 345.611,174.774 \"/>\n",
       "<path clip-path=\"url(#clip510)\" d=\"M278.769 1431.51 Q275.158 1431.51 273.329 1435.08 Q271.523 1438.62 271.523 1445.75 Q271.523 1452.86 273.329 1456.42 Q275.158 1459.96 278.769 1459.96 Q282.403 1459.96 284.208 1456.42 Q286.037 1452.86 286.037 1445.75 Q286.037 1438.62 284.208 1435.08 Q282.403 1431.51 278.769 1431.51 M278.769 1427.81 Q284.579 1427.81 287.634 1432.42 Q290.713 1437 290.713 1445.75 Q290.713 1454.48 287.634 1459.08 Q284.579 1463.67 278.769 1463.67 Q272.959 1463.67 269.88 1459.08 Q266.824 1454.48 266.824 1445.75 Q266.824 1437 269.88 1432.42 Q272.959 1427.81 278.769 1427.81 Z\" fill=\"#000000\" fill-rule=\"nonzero\" fill-opacity=\"1\" /><path clip-path=\"url(#clip510)\" d=\"M52.4505 1011.24 L70.8068 1011.24 L70.8068 1015.17 L56.7328 1015.17 L56.7328 1023.64 Q57.7513 1023.3 58.7699 1023.13 Q59.7884 1022.95 60.8069 1022.95 Q66.5939 1022.95 69.9735 1026.12 Q73.3531 1029.29 73.3531 1034.71 Q73.3531 1040.29 69.8809 1043.39 Q66.4087 1046.47 60.0893 1046.47 Q57.9134 1046.47 55.6449 1046.1 Q53.3995 1045.73 50.9921 1044.99 L50.9921 1040.29 Q53.0754 1041.42 55.2977 1041.98 Q57.5199 1042.53 59.9967 1042.53 Q64.0013 1042.53 66.3393 1040.43 Q68.6772 1038.32 68.6772 1034.71 Q68.6772 1031.1 66.3393 1028.99 Q64.0013 1026.88 59.9967 1026.88 Q58.1217 1026.88 56.2467 1027.3 Q54.3949 1027.72 52.4505 1028.6 L52.4505 1011.24 Z\" fill=\"#000000\" fill-rule=\"nonzero\" fill-opacity=\"1\" /><path clip-path=\"url(#clip510)\" d=\"M82.566 1039.92 L87.4503 1039.92 L87.4503 1045.8 L82.566 1045.8 L82.566 1039.92 Z\" fill=\"#000000\" fill-rule=\"nonzero\" fill-opacity=\"1\" /><path clip-path=\"url(#clip510)\" d=\"M107.635 1014.31 Q104.024 1014.31 102.196 1017.88 Q100.39 1021.42 100.39 1028.55 Q100.39 1035.66 102.196 1039.22 Q104.024 1042.76 107.635 1042.76 Q111.27 1042.76 113.075 1039.22 Q114.904 1035.66 114.904 1028.55 Q114.904 1021.42 113.075 1017.88 Q111.27 1014.31 107.635 1014.31 M107.635 1010.61 Q113.445 1010.61 116.501 1015.22 Q119.58 1019.8 119.58 1028.55 Q119.58 1037.28 116.501 1041.88 Q113.445 1046.47 107.635 1046.47 Q101.825 1046.47 98.7465 1041.88 Q95.691 1037.28 95.691 1028.55 Q95.691 1019.8 98.7465 1015.22 Q101.825 1010.61 107.635 1010.61 Z\" fill=\"#000000\" fill-rule=\"nonzero\" fill-opacity=\"1\" /><path clip-path=\"url(#clip510)\" d=\"M137.797 1014.31 Q134.186 1014.31 132.357 1017.88 Q130.552 1021.42 130.552 1028.55 Q130.552 1035.66 132.357 1039.22 Q134.186 1042.76 137.797 1042.76 Q141.431 1042.76 143.237 1039.22 Q145.066 1035.66 145.066 1028.55 Q145.066 1021.42 143.237 1017.88 Q141.431 1014.31 137.797 1014.31 M137.797 1010.61 Q143.607 1010.61 146.663 1015.22 Q149.742 1019.8 149.742 1028.55 Q149.742 1037.28 146.663 1041.88 Q143.607 1046.47 137.797 1046.47 Q131.987 1046.47 128.908 1041.88 Q125.853 1037.28 125.853 1028.55 Q125.853 1019.8 128.908 1015.22 Q131.987 1010.61 137.797 1010.61 Z\" fill=\"#000000\" fill-rule=\"nonzero\" fill-opacity=\"1\" /><path clip-path=\"url(#clip510)\" d=\"M186.13 1020.33 L175.552 1030.96 L186.13 1041.54 L183.376 1044.34 L172.751 1033.71 L162.126 1044.34 L159.394 1041.54 L169.95 1030.96 L159.394 1020.33 L162.126 1017.53 L172.751 1028.16 L183.376 1017.53 L186.13 1020.33 Z\" fill=\"#000000\" fill-rule=\"nonzero\" fill-opacity=\"1\" /><path clip-path=\"url(#clip510)\" d=\"M198.491 1041.86 L206.13 1041.86 L206.13 1015.5 L197.82 1017.16 L197.82 1012.9 L206.084 1011.24 L210.76 1011.24 L210.76 1041.86 L218.399 1041.86 L218.399 1045.8 L198.491 1045.8 L198.491 1041.86 Z\" fill=\"#000000\" fill-rule=\"nonzero\" fill-opacity=\"1\" /><path clip-path=\"url(#clip510)\" d=\"M237.843 1014.31 Q234.232 1014.31 232.403 1017.88 Q230.598 1021.42 230.598 1028.55 Q230.598 1035.66 232.403 1039.22 Q234.232 1042.76 237.843 1042.76 Q241.477 1042.76 243.283 1039.22 Q245.111 1035.66 245.111 1028.55 Q245.111 1021.42 243.283 1017.88 Q241.477 1014.31 237.843 1014.31 M237.843 1010.61 Q243.653 1010.61 246.709 1015.22 Q249.787 1019.8 249.787 1028.55 Q249.787 1037.28 246.709 1041.88 Q243.653 1046.47 237.843 1046.47 Q232.033 1046.47 228.954 1041.88 Q225.899 1037.28 225.899 1028.55 Q225.899 1019.8 228.954 1015.22 Q232.033 1010.61 237.843 1010.61 Z\" fill=\"#000000\" fill-rule=\"nonzero\" fill-opacity=\"1\" /><path clip-path=\"url(#clip510)\" d=\"M250.333 1015.19 L256.539 1015.19 L256.539 993.766 L249.787 995.121 L249.787 991.66 L256.502 990.306 L260.301 990.306 L260.301 1015.19 L266.507 1015.19 L266.507 1018.39 L250.333 1018.39 L250.333 1015.19 Z\" fill=\"#000000\" fill-rule=\"nonzero\" fill-opacity=\"1\" /><path clip-path=\"url(#clip510)\" d=\"M277.454 1015.19 L290.713 1015.19 L290.713 1018.39 L272.883 1018.39 L272.883 1015.19 Q275.046 1012.95 278.77 1009.19 Q282.513 1005.41 283.472 1004.32 Q285.296 1002.27 286.011 1000.86 Q286.745 999.428 286.745 998.055 Q286.745 995.816 285.165 994.406 Q283.604 992.995 281.083 992.995 Q279.297 992.995 277.303 993.616 Q275.328 994.237 273.071 995.497 L273.071 991.66 Q275.366 990.738 277.36 990.268 Q279.353 989.798 281.008 989.798 Q285.372 989.798 287.967 991.98 Q290.563 994.161 290.563 997.81 Q290.563 999.54 289.904 1001.1 Q289.265 1002.64 287.553 1004.75 Q287.083 1005.3 284.563 1007.91 Q282.043 1010.51 277.454 1015.19 Z\" fill=\"#000000\" fill-rule=\"nonzero\" fill-opacity=\"1\" /><path clip-path=\"url(#clip510)\" d=\"M52.4432 618.214 L60.0821 618.214 L60.0821 591.848 L51.7719 593.515 L51.7719 589.256 L60.0358 587.589 L64.7117 587.589 L64.7117 618.214 L72.3505 618.214 L72.3505 622.149 L52.4432 622.149 L52.4432 618.214 Z\" fill=\"#000000\" fill-rule=\"nonzero\" fill-opacity=\"1\" /><path clip-path=\"url(#clip510)\" d=\"M81.7949 616.269 L86.6791 616.269 L86.6791 622.149 L81.7949 622.149 L81.7949 616.269 Z\" fill=\"#000000\" fill-rule=\"nonzero\" fill-opacity=\"1\" /><path clip-path=\"url(#clip510)\" d=\"M106.864 590.668 Q103.253 590.668 101.424 594.232 Q99.6189 597.774 99.6189 604.904 Q99.6189 612.01 101.424 615.575 Q103.253 619.117 106.864 619.117 Q110.498 619.117 112.304 615.575 Q114.133 612.01 114.133 604.904 Q114.133 597.774 112.304 594.232 Q110.498 590.668 106.864 590.668 M106.864 586.964 Q112.674 586.964 115.73 591.57 Q118.809 596.154 118.809 604.904 Q118.809 613.631 115.73 618.237 Q112.674 622.82 106.864 622.82 Q101.054 622.82 97.9754 618.237 Q94.9198 613.631 94.9198 604.904 Q94.9198 596.154 97.9754 591.57 Q101.054 586.964 106.864 586.964 Z\" fill=\"#000000\" fill-rule=\"nonzero\" fill-opacity=\"1\" /><path clip-path=\"url(#clip510)\" d=\"M137.026 590.668 Q133.415 590.668 131.586 594.232 Q129.781 597.774 129.781 604.904 Q129.781 612.01 131.586 615.575 Q133.415 619.117 137.026 619.117 Q140.66 619.117 142.466 615.575 Q144.295 612.01 144.295 604.904 Q144.295 597.774 142.466 594.232 Q140.66 590.668 137.026 590.668 M137.026 586.964 Q142.836 586.964 145.892 591.57 Q148.97 596.154 148.97 604.904 Q148.97 613.631 145.892 618.237 Q142.836 622.82 137.026 622.82 Q131.216 622.82 128.137 618.237 Q125.082 613.631 125.082 604.904 Q125.082 596.154 128.137 591.57 Q131.216 586.964 137.026 586.964 Z\" fill=\"#000000\" fill-rule=\"nonzero\" fill-opacity=\"1\" /><path clip-path=\"url(#clip510)\" d=\"M185.359 596.686 L174.781 607.311 L185.359 617.89 L182.605 620.691 L171.98 610.066 L161.355 620.691 L158.623 617.89 L169.179 607.311 L158.623 596.686 L161.355 593.885 L171.98 604.51 L182.605 593.885 L185.359 596.686 Z\" fill=\"#000000\" fill-rule=\"nonzero\" fill-opacity=\"1\" /><path clip-path=\"url(#clip510)\" d=\"M197.72 618.214 L205.359 618.214 L205.359 591.848 L197.049 593.515 L197.049 589.256 L205.313 587.589 L209.989 587.589 L209.989 618.214 L217.628 618.214 L217.628 622.149 L197.72 622.149 L197.72 618.214 Z\" fill=\"#000000\" fill-rule=\"nonzero\" fill-opacity=\"1\" /><path clip-path=\"url(#clip510)\" d=\"M237.072 590.668 Q233.461 590.668 231.632 594.232 Q229.827 597.774 229.827 604.904 Q229.827 612.01 231.632 615.575 Q233.461 619.117 237.072 619.117 Q240.706 619.117 242.512 615.575 Q244.34 612.01 244.34 604.904 Q244.34 597.774 242.512 594.232 Q240.706 590.668 237.072 590.668 M237.072 586.964 Q242.882 586.964 245.938 591.57 Q249.016 596.154 249.016 604.904 Q249.016 613.631 245.938 618.237 Q242.882 622.82 237.072 622.82 Q231.262 622.82 228.183 618.237 Q225.127 613.631 225.127 604.904 Q225.127 596.154 228.183 591.57 Q231.262 586.964 237.072 586.964 Z\" fill=\"#000000\" fill-rule=\"nonzero\" fill-opacity=\"1\" /><path clip-path=\"url(#clip510)\" d=\"M249.562 591.541 L255.768 591.541 L255.768 570.119 L249.016 571.473 L249.016 568.013 L255.731 566.659 L259.53 566.659 L259.53 591.541 L265.736 591.541 L265.736 594.739 L249.562 594.739 L249.562 591.541 Z\" fill=\"#000000\" fill-rule=\"nonzero\" fill-opacity=\"1\" /><path clip-path=\"url(#clip510)\" d=\"M284.92 579.598 Q287.647 580.181 289.171 582.025 Q290.713 583.868 290.713 586.576 Q290.713 590.733 287.854 593.008 Q284.996 595.284 279.729 595.284 Q277.961 595.284 276.081 594.927 Q274.219 594.588 272.225 593.892 L272.225 590.225 Q273.805 591.146 275.686 591.617 Q277.566 592.087 279.616 592.087 Q283.19 592.087 285.052 590.676 Q286.933 589.266 286.933 586.576 Q286.933 584.093 285.184 582.702 Q283.453 581.291 280.35 581.291 L277.077 581.291 L277.077 578.169 L280.5 578.169 Q283.303 578.169 284.789 577.059 Q286.274 575.931 286.274 573.824 Q286.274 571.661 284.732 570.514 Q283.209 569.348 280.35 569.348 Q278.789 569.348 277.002 569.687 Q275.215 570.025 273.071 570.74 L273.071 567.354 Q275.234 566.753 277.115 566.452 Q279.015 566.151 280.689 566.151 Q285.014 566.151 287.535 568.126 Q290.055 570.082 290.055 573.429 Q290.055 575.762 288.719 577.379 Q287.384 578.978 284.92 579.598 Z\" fill=\"#000000\" fill-rule=\"nonzero\" fill-opacity=\"1\" /><path clip-path=\"url(#clip510)\" d=\"M52.4432 194.567 L60.0821 194.567 L60.0821 168.201 L51.7719 169.868 L51.7719 165.609 L60.0358 163.942 L64.7117 163.942 L64.7117 194.567 L72.3505 194.567 L72.3505 198.502 L52.4432 198.502 L52.4432 194.567 Z\" fill=\"#000000\" fill-rule=\"nonzero\" fill-opacity=\"1\" /><path clip-path=\"url(#clip510)\" d=\"M81.7949 192.622 L86.6791 192.622 L86.6791 198.502 L81.7949 198.502 L81.7949 192.622 Z\" fill=\"#000000\" fill-rule=\"nonzero\" fill-opacity=\"1\" /><path clip-path=\"url(#clip510)\" d=\"M96.9106 163.942 L115.267 163.942 L115.267 167.877 L101.193 167.877 L101.193 176.349 Q102.211 176.002 103.23 175.84 Q104.248 175.655 105.267 175.655 Q111.054 175.655 114.434 178.826 Q117.813 181.997 117.813 187.414 Q117.813 192.993 114.341 196.094 Q110.869 199.173 104.549 199.173 Q102.374 199.173 100.105 198.803 Q97.8596 198.432 95.4522 197.692 L95.4522 192.993 Q97.5356 194.127 99.7578 194.682 Q101.98 195.238 104.457 195.238 Q108.461 195.238 110.799 193.132 Q113.137 191.025 113.137 187.414 Q113.137 183.803 110.799 181.696 Q108.461 179.59 104.457 179.59 Q102.582 179.59 100.707 180.007 Q98.855 180.423 96.9106 181.303 L96.9106 163.942 Z\" fill=\"#000000\" fill-rule=\"nonzero\" fill-opacity=\"1\" /><path clip-path=\"url(#clip510)\" d=\"M137.026 167.021 Q133.415 167.021 131.586 170.585 Q129.781 174.127 129.781 181.257 Q129.781 188.363 131.586 191.928 Q133.415 195.469 137.026 195.469 Q140.66 195.469 142.466 191.928 Q144.295 188.363 144.295 181.257 Q144.295 174.127 142.466 170.585 Q140.66 167.021 137.026 167.021 M137.026 163.317 Q142.836 163.317 145.892 167.923 Q148.97 172.507 148.97 181.257 Q148.97 189.983 145.892 194.59 Q142.836 199.173 137.026 199.173 Q131.216 199.173 128.137 194.59 Q125.082 189.983 125.082 181.257 Q125.082 172.507 128.137 167.923 Q131.216 163.317 137.026 163.317 Z\" fill=\"#000000\" fill-rule=\"nonzero\" fill-opacity=\"1\" /><path clip-path=\"url(#clip510)\" d=\"M185.359 173.039 L174.781 183.664 L185.359 194.243 L182.605 197.044 L171.98 186.419 L161.355 197.044 L158.623 194.243 L169.179 183.664 L158.623 173.039 L161.355 170.238 L171.98 180.863 L182.605 170.238 L185.359 173.039 Z\" fill=\"#000000\" fill-rule=\"nonzero\" fill-opacity=\"1\" /><path clip-path=\"url(#clip510)\" d=\"M197.72 194.567 L205.359 194.567 L205.359 168.201 L197.049 169.868 L197.049 165.609 L205.313 163.942 L209.989 163.942 L209.989 194.567 L217.628 194.567 L217.628 198.502 L197.72 198.502 L197.72 194.567 Z\" fill=\"#000000\" fill-rule=\"nonzero\" fill-opacity=\"1\" /><path clip-path=\"url(#clip510)\" d=\"M237.072 167.021 Q233.461 167.021 231.632 170.585 Q229.827 174.127 229.827 181.257 Q229.827 188.363 231.632 191.928 Q233.461 195.469 237.072 195.469 Q240.706 195.469 242.512 191.928 Q244.34 188.363 244.34 181.257 Q244.34 174.127 242.512 170.585 Q240.706 167.021 237.072 167.021 M237.072 163.317 Q242.882 163.317 245.938 167.923 Q249.016 172.507 249.016 181.257 Q249.016 189.983 245.938 194.59 Q242.882 199.173 237.072 199.173 Q231.262 199.173 228.183 194.59 Q225.127 189.983 225.127 181.257 Q225.127 172.507 228.183 167.923 Q231.262 163.317 237.072 163.317 Z\" fill=\"#000000\" fill-rule=\"nonzero\" fill-opacity=\"1\" /><path clip-path=\"url(#clip510)\" d=\"M249.562 167.894 L255.768 167.894 L255.768 146.472 L249.016 147.826 L249.016 144.366 L255.731 143.011 L259.53 143.011 L259.53 167.894 L265.736 167.894 L265.736 171.091 L249.562 171.091 L249.562 167.894 Z\" fill=\"#000000\" fill-rule=\"nonzero\" fill-opacity=\"1\" /><path clip-path=\"url(#clip510)\" d=\"M284.92 155.951 Q287.647 156.534 289.171 158.377 Q290.713 160.221 290.713 162.929 Q290.713 167.085 287.854 169.361 Q284.996 171.637 279.729 171.637 Q277.961 171.637 276.081 171.28 Q274.219 170.941 272.225 170.245 L272.225 166.578 Q273.805 167.499 275.686 167.969 Q277.566 168.44 279.616 168.44 Q283.19 168.44 285.052 167.029 Q286.933 165.618 286.933 162.929 Q286.933 160.446 285.184 159.054 Q283.453 157.644 280.35 157.644 L277.077 157.644 L277.077 154.522 L280.5 154.522 Q283.303 154.522 284.789 153.412 Q286.274 152.284 286.274 150.177 Q286.274 148.014 284.732 146.867 Q283.209 145.701 280.35 145.701 Q278.789 145.701 277.002 146.039 Q275.215 146.378 273.071 147.093 L273.071 143.707 Q275.234 143.105 277.115 142.805 Q279.015 142.504 280.689 142.504 Q285.014 142.504 287.535 144.478 Q290.055 146.434 290.055 149.782 Q290.055 152.114 288.719 153.732 Q287.384 155.331 284.92 155.951 Z\" fill=\"#000000\" fill-rule=\"nonzero\" fill-opacity=\"1\" /><polyline clip-path=\"url(#clip512)\" style=\"stroke:#009af9; stroke-linecap:round; stroke-linejoin:round; stroke-width:4; stroke-opacity:1; fill:none\" points=\"384.054,1445.72 596.427,1445.72 808.801,1445.72 1021.17,1445.72 1233.55,1445.72 1445.92,1445.71 1658.29,1445.68 1870.67,1444.42 2083.04,1403.93 2295.42,87.9763 \"/>\n",
       "<path clip-path=\"url(#clip510)\" d=\"M394.248 198.898 L1181.43 198.898 L1181.43 95.2176 L394.248 95.2176  Z\" fill=\"#ffffff\" fill-rule=\"evenodd\" fill-opacity=\"1\"/>\n",
       "<polyline clip-path=\"url(#clip510)\" style=\"stroke:#000000; stroke-linecap:round; stroke-linejoin:round; stroke-width:4; stroke-opacity:1; fill:none\" points=\"394.248,198.898 1181.43,198.898 1181.43,95.2176 394.248,95.2176 394.248,198.898 \"/>\n",
       "<polyline clip-path=\"url(#clip510)\" style=\"stroke:#009af9; stroke-linecap:round; stroke-linejoin:round; stroke-width:4; stroke-opacity:1; fill:none\" points=\"416.759,147.058 551.829,147.058 \"/>\n",
       "<path clip-path=\"url(#clip510)\" d=\"M594.688 143.389 Q596.285 140.518 598.507 139.153 Q600.729 137.787 603.739 137.787 Q607.789 137.787 609.988 140.634 Q612.188 143.458 612.188 148.689 L612.188 164.338 L607.905 164.338 L607.905 148.828 Q607.905 145.102 606.586 143.296 Q605.266 141.49 602.558 141.49 Q599.248 141.49 597.327 143.69 Q595.405 145.889 595.405 149.685 L595.405 164.338 L591.123 164.338 L591.123 148.828 Q591.123 145.078 589.803 143.296 Q588.484 141.49 585.729 141.49 Q582.465 141.49 580.544 143.713 Q578.623 145.912 578.623 149.685 L578.623 164.338 L574.341 164.338 L574.341 138.412 L578.623 138.412 L578.623 142.44 Q580.081 140.055 582.118 138.921 Q584.155 137.787 586.956 137.787 Q589.78 137.787 591.748 139.222 Q593.739 140.657 594.688 143.389 Z\" fill=\"#000000\" fill-rule=\"nonzero\" fill-opacity=\"1\" /><path clip-path=\"url(#clip510)\" d=\"M632.465 151.305 Q627.303 151.305 625.312 152.486 Q623.322 153.666 623.322 156.514 Q623.322 158.782 624.803 160.125 Q626.308 161.444 628.877 161.444 Q632.419 161.444 634.549 158.944 Q636.701 156.421 636.701 152.254 L636.701 151.305 L632.465 151.305 M640.961 149.546 L640.961 164.338 L636.701 164.338 L636.701 160.402 Q635.243 162.763 633.067 163.898 Q630.891 165.009 627.743 165.009 Q623.762 165.009 621.4 162.787 Q619.063 160.541 619.063 156.791 Q619.063 152.416 621.979 150.194 Q624.919 147.972 630.729 147.972 L636.701 147.972 L636.701 147.555 Q636.701 144.615 634.757 143.018 Q632.836 141.398 629.34 141.398 Q627.118 141.398 625.012 141.93 Q622.905 142.463 620.961 143.527 L620.961 139.592 Q623.299 138.69 625.498 138.25 Q627.697 137.787 629.78 137.787 Q635.405 137.787 638.183 140.703 Q640.961 143.62 640.961 149.546 Z\" fill=\"#000000\" fill-rule=\"nonzero\" fill-opacity=\"1\" /><path clip-path=\"url(#clip510)\" d=\"M653.947 131.051 L653.947 138.412 L662.72 138.412 L662.72 141.722 L653.947 141.722 L653.947 155.796 Q653.947 158.967 654.803 159.87 Q655.683 160.773 658.345 160.773 L662.72 160.773 L662.72 164.338 L658.345 164.338 Q653.414 164.338 651.539 162.509 Q649.664 160.657 649.664 155.796 L649.664 141.722 L646.539 141.722 L646.539 138.412 L649.664 138.412 L649.664 131.051 L653.947 131.051 Z\" fill=\"#000000\" fill-rule=\"nonzero\" fill-opacity=\"1\" /><path clip-path=\"url(#clip510)\" d=\"M683.345 142.393 Q682.627 141.977 681.771 141.791 Q680.937 141.583 679.919 141.583 Q676.308 141.583 674.363 143.944 Q672.442 146.282 672.442 150.68 L672.442 164.338 L668.159 164.338 L668.159 138.412 L672.442 138.412 L672.442 142.44 Q673.784 140.078 675.937 138.944 Q678.09 137.787 681.169 137.787 Q681.608 137.787 682.141 137.856 Q682.673 137.903 683.321 138.018 L683.345 142.393 Z\" fill=\"#000000\" fill-rule=\"nonzero\" fill-opacity=\"1\" /><path clip-path=\"url(#clip510)\" d=\"M687.812 138.412 L692.071 138.412 L692.071 164.338 L687.812 164.338 L687.812 138.412 M687.812 128.319 L692.071 128.319 L692.071 133.713 L687.812 133.713 L687.812 128.319 Z\" fill=\"#000000\" fill-rule=\"nonzero\" fill-opacity=\"1\" /><path clip-path=\"url(#clip510)\" d=\"M722.534 138.412 L713.159 151.027 L723.02 164.338 L717.997 164.338 L710.451 154.152 L702.905 164.338 L697.882 164.338 L707.951 150.773 L698.738 138.412 L703.761 138.412 L710.636 147.648 L717.511 138.412 L722.534 138.412 Z\" fill=\"#000000\" fill-rule=\"nonzero\" fill-opacity=\"1\" /><path clip-path=\"url(#clip510)\" d=\"M762.765 139.407 L762.765 143.389 Q760.96 142.393 759.131 141.907 Q757.326 141.398 755.474 141.398 Q751.33 141.398 749.039 144.037 Q746.747 146.652 746.747 151.398 Q746.747 156.143 749.039 158.782 Q751.33 161.398 755.474 161.398 Q757.326 161.398 759.131 160.912 Q760.96 160.402 762.765 159.407 L762.765 163.342 Q760.983 164.176 759.062 164.592 Q757.164 165.009 755.011 165.009 Q749.154 165.009 745.705 161.328 Q742.256 157.648 742.256 151.398 Q742.256 145.055 745.728 141.421 Q749.224 137.787 755.289 137.787 Q757.256 137.787 759.131 138.203 Q761.006 138.597 762.765 139.407 Z\" fill=\"#000000\" fill-rule=\"nonzero\" fill-opacity=\"1\" /><path clip-path=\"url(#clip510)\" d=\"M780.219 141.398 Q776.793 141.398 774.802 144.083 Q772.812 146.745 772.812 151.398 Q772.812 156.051 774.779 158.736 Q776.77 161.398 780.219 161.398 Q783.622 161.398 785.613 158.713 Q787.603 156.027 787.603 151.398 Q787.603 146.791 785.613 144.106 Q783.622 141.398 780.219 141.398 M780.219 137.787 Q785.775 137.787 788.946 141.398 Q792.117 145.009 792.117 151.398 Q792.117 157.764 788.946 161.398 Q785.775 165.009 780.219 165.009 Q774.64 165.009 771.469 161.398 Q768.321 157.764 768.321 151.398 Q768.321 145.009 771.469 141.398 Q774.64 137.787 780.219 137.787 Z\" fill=\"#000000\" fill-rule=\"nonzero\" fill-opacity=\"1\" /><path clip-path=\"url(#clip510)\" d=\"M820.728 148.689 L820.728 164.338 L816.469 164.338 L816.469 148.828 Q816.469 145.148 815.034 143.319 Q813.598 141.49 810.728 141.49 Q807.279 141.49 805.288 143.69 Q803.298 145.889 803.298 149.685 L803.298 164.338 L799.015 164.338 L799.015 138.412 L803.298 138.412 L803.298 142.44 Q804.825 140.102 806.886 138.944 Q808.969 137.787 811.677 137.787 Q816.145 137.787 818.436 140.565 Q820.728 143.319 820.728 148.689 Z\" fill=\"#000000\" fill-rule=\"nonzero\" fill-opacity=\"1\" /><path clip-path=\"url(#clip510)\" d=\"M846.284 142.347 L846.284 128.319 L850.543 128.319 L850.543 164.338 L846.284 164.338 L846.284 160.449 Q844.941 162.763 842.881 163.898 Q840.844 165.009 837.973 165.009 Q833.274 165.009 830.311 161.259 Q827.372 157.509 827.372 151.398 Q827.372 145.287 830.311 141.537 Q833.274 137.787 837.973 137.787 Q840.844 137.787 842.881 138.921 Q844.941 140.032 846.284 142.347 M831.77 151.398 Q831.77 156.097 833.691 158.782 Q835.635 161.444 839.015 161.444 Q842.395 161.444 844.339 158.782 Q846.284 156.097 846.284 151.398 Q846.284 146.699 844.339 144.037 Q842.395 141.352 839.015 141.352 Q835.635 141.352 833.691 144.037 Q831.77 146.699 831.77 151.398 Z\" fill=\"#000000\" fill-rule=\"nonzero\" fill-opacity=\"1\" /><path clip-path=\"url(#clip510)\" d=\"M859.316 138.412 L863.575 138.412 L863.575 164.338 L859.316 164.338 L859.316 138.412 M859.316 128.319 L863.575 128.319 L863.575 133.713 L859.316 133.713 L859.316 128.319 Z\" fill=\"#000000\" fill-rule=\"nonzero\" fill-opacity=\"1\" /><path clip-path=\"url(#clip510)\" d=\"M876.7 131.051 L876.7 138.412 L885.473 138.412 L885.473 141.722 L876.7 141.722 L876.7 155.796 Q876.7 158.967 877.556 159.87 Q878.436 160.773 881.098 160.773 L885.473 160.773 L885.473 164.338 L881.098 164.338 Q876.168 164.338 874.293 162.509 Q872.418 160.657 872.418 155.796 L872.418 141.722 L869.293 141.722 L869.293 138.412 L872.418 138.412 L872.418 131.051 L876.7 131.051 Z\" fill=\"#000000\" fill-rule=\"nonzero\" fill-opacity=\"1\" /><path clip-path=\"url(#clip510)\" d=\"M891.075 138.412 L895.334 138.412 L895.334 164.338 L891.075 164.338 L891.075 138.412 M891.075 128.319 L895.334 128.319 L895.334 133.713 L891.075 133.713 L891.075 128.319 Z\" fill=\"#000000\" fill-rule=\"nonzero\" fill-opacity=\"1\" /><path clip-path=\"url(#clip510)\" d=\"M914.292 141.398 Q910.866 141.398 908.876 144.083 Q906.885 146.745 906.885 151.398 Q906.885 156.051 908.853 158.736 Q910.843 161.398 914.292 161.398 Q917.695 161.398 919.686 158.713 Q921.677 156.027 921.677 151.398 Q921.677 146.791 919.686 144.106 Q917.695 141.398 914.292 141.398 M914.292 137.787 Q919.848 137.787 923.019 141.398 Q926.19 145.009 926.19 151.398 Q926.19 157.764 923.019 161.398 Q919.848 165.009 914.292 165.009 Q908.714 165.009 905.542 161.398 Q902.394 157.764 902.394 151.398 Q902.394 145.009 905.542 141.398 Q908.714 137.787 914.292 137.787 Z\" fill=\"#000000\" fill-rule=\"nonzero\" fill-opacity=\"1\" /><path clip-path=\"url(#clip510)\" d=\"M954.801 148.689 L954.801 164.338 L950.542 164.338 L950.542 148.828 Q950.542 145.148 949.107 143.319 Q947.672 141.49 944.802 141.49 Q941.352 141.49 939.362 143.69 Q937.371 145.889 937.371 149.685 L937.371 164.338 L933.089 164.338 L933.089 138.412 L937.371 138.412 L937.371 142.44 Q938.899 140.102 940.959 138.944 Q943.042 137.787 945.751 137.787 Q950.218 137.787 952.51 140.565 Q954.801 143.319 954.801 148.689 Z\" fill=\"#000000\" fill-rule=\"nonzero\" fill-opacity=\"1\" /><path clip-path=\"url(#clip510)\" d=\"M999.917 148.689 L999.917 164.338 L995.658 164.338 L995.658 148.828 Q995.658 145.148 994.223 143.319 Q992.787 141.49 989.917 141.49 Q986.468 141.49 984.477 143.69 Q982.486 145.889 982.486 149.685 L982.486 164.338 L978.204 164.338 L978.204 138.412 L982.486 138.412 L982.486 142.44 Q984.014 140.102 986.074 138.944 Q988.158 137.787 990.866 137.787 Q995.334 137.787 997.625 140.565 Q999.917 143.319 999.917 148.689 Z\" fill=\"#000000\" fill-rule=\"nonzero\" fill-opacity=\"1\" /><path clip-path=\"url(#clip510)\" d=\"M1007.97 154.106 L1007.97 138.412 L1012.23 138.412 L1012.23 153.944 Q1012.23 157.625 1013.67 159.476 Q1015.1 161.305 1017.97 161.305 Q1021.42 161.305 1023.41 159.106 Q1025.43 156.907 1025.43 153.111 L1025.43 138.412 L1029.69 138.412 L1029.69 164.338 L1025.43 164.338 L1025.43 160.356 Q1023.88 162.717 1021.81 163.875 Q1019.78 165.009 1017.07 165.009 Q1012.6 165.009 1010.29 162.231 Q1007.97 159.453 1007.97 154.106 M1018.69 137.787 L1018.69 137.787 Z\" fill=\"#000000\" fill-rule=\"nonzero\" fill-opacity=\"1\" /><path clip-path=\"url(#clip510)\" d=\"M1058.64 143.389 Q1060.24 140.518 1062.46 139.153 Q1064.69 137.787 1067.69 137.787 Q1071.75 137.787 1073.94 140.634 Q1076.14 143.458 1076.14 148.689 L1076.14 164.338 L1071.86 164.338 L1071.86 148.828 Q1071.86 145.102 1070.54 143.296 Q1069.22 141.49 1066.51 141.49 Q1063.2 141.49 1061.28 143.69 Q1059.36 145.889 1059.36 149.685 L1059.36 164.338 L1055.08 164.338 L1055.08 148.828 Q1055.08 145.078 1053.76 143.296 Q1052.44 141.49 1049.69 141.49 Q1046.42 141.49 1044.5 143.713 Q1042.58 145.912 1042.58 149.685 L1042.58 164.338 L1038.3 164.338 L1038.3 138.412 L1042.58 138.412 L1042.58 142.44 Q1044.04 140.055 1046.07 138.921 Q1048.11 137.787 1050.91 137.787 Q1053.74 137.787 1055.7 139.222 Q1057.69 140.657 1058.64 143.389 Z\" fill=\"#000000\" fill-rule=\"nonzero\" fill-opacity=\"1\" /><path clip-path=\"url(#clip510)\" d=\"M1103.25 151.398 Q1103.25 146.699 1101.31 144.037 Q1099.38 141.352 1096 141.352 Q1092.62 141.352 1090.68 144.037 Q1088.76 146.699 1088.76 151.398 Q1088.76 156.097 1090.68 158.782 Q1092.62 161.444 1096 161.444 Q1099.38 161.444 1101.31 158.782 Q1103.25 156.097 1103.25 151.398 M1088.76 142.347 Q1090.1 140.032 1092.14 138.921 Q1094.2 137.787 1097.05 137.787 Q1101.77 137.787 1104.71 141.537 Q1107.67 145.287 1107.67 151.398 Q1107.67 157.509 1104.71 161.259 Q1101.77 165.009 1097.05 165.009 Q1094.2 165.009 1092.14 163.898 Q1090.1 162.763 1088.76 160.449 L1088.76 164.338 L1084.48 164.338 L1084.48 128.319 L1088.76 128.319 L1088.76 142.347 Z\" fill=\"#000000\" fill-rule=\"nonzero\" fill-opacity=\"1\" /><path clip-path=\"url(#clip510)\" d=\"M1136.91 150.31 L1136.91 152.393 L1117.32 152.393 Q1117.6 156.791 1119.96 159.106 Q1122.35 161.398 1126.58 161.398 Q1129.04 161.398 1131.33 160.796 Q1133.64 160.194 1135.91 158.99 L1135.91 163.018 Q1133.62 163.99 1131.21 164.5 Q1128.81 165.009 1126.33 165.009 Q1120.12 165.009 1116.49 161.398 Q1112.88 157.787 1112.88 151.629 Q1112.88 145.264 1116.31 141.537 Q1119.75 137.787 1125.59 137.787 Q1130.82 137.787 1133.85 141.166 Q1136.91 144.523 1136.91 150.31 M1132.65 149.06 Q1132.6 145.565 1130.68 143.481 Q1128.78 141.398 1125.63 141.398 Q1122.07 141.398 1119.92 143.412 Q1117.79 145.426 1117.46 149.083 L1132.65 149.06 Z\" fill=\"#000000\" fill-rule=\"nonzero\" fill-opacity=\"1\" /><path clip-path=\"url(#clip510)\" d=\"M1158.92 142.393 Q1158.2 141.977 1157.35 141.791 Q1156.51 141.583 1155.49 141.583 Q1151.88 141.583 1149.94 143.944 Q1148.02 146.282 1148.02 150.68 L1148.02 164.338 L1143.74 164.338 L1143.74 138.412 L1148.02 138.412 L1148.02 142.44 Q1149.36 140.078 1151.51 138.944 Q1153.67 137.787 1156.74 137.787 Q1157.18 137.787 1157.72 137.856 Q1158.25 137.903 1158.9 138.018 L1158.92 142.393 Z\" fill=\"#000000\" fill-rule=\"nonzero\" fill-opacity=\"1\" /></svg>\n"
      ],
      "text/html": [
       "<?xml version=\"1.0\" encoding=\"utf-8\"?>\n",
       "<svg xmlns=\"http://www.w3.org/2000/svg\" xmlns:xlink=\"http://www.w3.org/1999/xlink\" width=\"600\" height=\"400\" viewBox=\"0 0 2400 1600\">\n",
       "<defs>\n",
       "  <clipPath id=\"clip560\">\n",
       "    <rect x=\"0\" y=\"0\" width=\"2400\" height=\"1600\"/>\n",
       "  </clipPath>\n",
       "</defs>\n",
       "<path clip-path=\"url(#clip560)\" d=\"M0 1600 L2400 1600 L2400 0 L0 0  Z\" fill=\"#ffffff\" fill-rule=\"evenodd\" fill-opacity=\"1\"/>\n",
       "<defs>\n",
       "  <clipPath id=\"clip561\">\n",
       "    <rect x=\"480\" y=\"0\" width=\"1681\" height=\"1600\"/>\n",
       "  </clipPath>\n",
       "</defs>\n",
       "<path clip-path=\"url(#clip560)\" d=\"M326.713 1486.45 L2352.76 1486.45 L2352.76 47.2441 L326.713 47.2441  Z\" fill=\"#ffffff\" fill-rule=\"evenodd\" fill-opacity=\"1\"/>\n",
       "<defs>\n",
       "  <clipPath id=\"clip562\">\n",
       "    <rect x=\"326\" y=\"47\" width=\"2027\" height=\"1440\"/>\n",
       "  </clipPath>\n",
       "</defs>\n",
       "<polyline clip-path=\"url(#clip562)\" style=\"stroke:#000000; stroke-linecap:round; stroke-linejoin:round; stroke-width:2; stroke-opacity:0.1; fill:none\" points=\"596.427,1486.45 596.427,47.2441 \"/>\n",
       "<polyline clip-path=\"url(#clip562)\" style=\"stroke:#000000; stroke-linecap:round; stroke-linejoin:round; stroke-width:2; stroke-opacity:0.1; fill:none\" points=\"1021.17,1486.45 1021.17,47.2441 \"/>\n",
       "<polyline clip-path=\"url(#clip562)\" style=\"stroke:#000000; stroke-linecap:round; stroke-linejoin:round; stroke-width:2; stroke-opacity:0.1; fill:none\" points=\"1445.92,1486.45 1445.92,47.2441 \"/>\n",
       "<polyline clip-path=\"url(#clip562)\" style=\"stroke:#000000; stroke-linecap:round; stroke-linejoin:round; stroke-width:2; stroke-opacity:0.1; fill:none\" points=\"1870.67,1486.45 1870.67,47.2441 \"/>\n",
       "<polyline clip-path=\"url(#clip562)\" style=\"stroke:#000000; stroke-linecap:round; stroke-linejoin:round; stroke-width:2; stroke-opacity:0.1; fill:none\" points=\"2295.42,1486.45 2295.42,47.2441 \"/>\n",
       "<polyline clip-path=\"url(#clip560)\" style=\"stroke:#000000; stroke-linecap:round; stroke-linejoin:round; stroke-width:4; stroke-opacity:1; fill:none\" points=\"326.713,1486.45 2352.76,1486.45 \"/>\n",
       "<polyline clip-path=\"url(#clip560)\" style=\"stroke:#000000; stroke-linecap:round; stroke-linejoin:round; stroke-width:4; stroke-opacity:1; fill:none\" points=\"596.427,1486.45 596.427,1467.55 \"/>\n",
       "<polyline clip-path=\"url(#clip560)\" style=\"stroke:#000000; stroke-linecap:round; stroke-linejoin:round; stroke-width:4; stroke-opacity:1; fill:none\" points=\"1021.17,1486.45 1021.17,1467.55 \"/>\n",
       "<polyline clip-path=\"url(#clip560)\" style=\"stroke:#000000; stroke-linecap:round; stroke-linejoin:round; stroke-width:4; stroke-opacity:1; fill:none\" points=\"1445.92,1486.45 1445.92,1467.55 \"/>\n",
       "<polyline clip-path=\"url(#clip560)\" style=\"stroke:#000000; stroke-linecap:round; stroke-linejoin:round; stroke-width:4; stroke-opacity:1; fill:none\" points=\"1870.67,1486.45 1870.67,1467.55 \"/>\n",
       "<polyline clip-path=\"url(#clip560)\" style=\"stroke:#000000; stroke-linecap:round; stroke-linejoin:round; stroke-width:4; stroke-opacity:1; fill:none\" points=\"2295.42,1486.45 2295.42,1467.55 \"/>\n",
       "<path clip-path=\"url(#clip560)\" d=\"M591.08 1544.91 L607.4 1544.91 L607.4 1548.85 L585.455 1548.85 L585.455 1544.91 Q588.117 1542.16 592.701 1537.53 Q597.307 1532.88 598.488 1531.53 Q600.733 1529.01 601.613 1527.27 Q602.515 1525.51 602.515 1523.82 Q602.515 1521.07 600.571 1519.33 Q598.65 1517.6 595.548 1517.6 Q593.349 1517.6 590.895 1518.36 Q588.464 1519.13 585.687 1520.68 L585.687 1515.95 Q588.511 1514.82 590.964 1514.24 Q593.418 1513.66 595.455 1513.66 Q600.825 1513.66 604.02 1516.35 Q607.214 1519.03 607.214 1523.52 Q607.214 1525.65 606.404 1527.57 Q605.617 1529.47 603.511 1532.07 Q602.932 1532.74 599.83 1535.95 Q596.728 1539.15 591.08 1544.91 Z\" fill=\"#000000\" fill-rule=\"nonzero\" fill-opacity=\"1\" /><path clip-path=\"url(#clip560)\" d=\"M1024.18 1518.36 L1012.38 1536.81 L1024.18 1536.81 L1024.18 1518.36 M1022.96 1514.29 L1028.84 1514.29 L1028.84 1536.81 L1033.77 1536.81 L1033.77 1540.7 L1028.84 1540.7 L1028.84 1548.85 L1024.18 1548.85 L1024.18 1540.7 L1008.58 1540.7 L1008.58 1536.19 L1022.96 1514.29 Z\" fill=\"#000000\" fill-rule=\"nonzero\" fill-opacity=\"1\" /><path clip-path=\"url(#clip560)\" d=\"M1446.33 1529.7 Q1443.18 1529.7 1441.33 1531.86 Q1439.5 1534.01 1439.5 1537.76 Q1439.5 1541.49 1441.33 1543.66 Q1443.18 1545.82 1446.33 1545.82 Q1449.47 1545.82 1451.3 1543.66 Q1453.15 1541.49 1453.15 1537.76 Q1453.15 1534.01 1451.3 1531.86 Q1449.47 1529.7 1446.33 1529.7 M1455.61 1515.05 L1455.61 1519.31 Q1453.85 1518.48 1452.04 1518.04 Q1450.26 1517.6 1448.5 1517.6 Q1443.87 1517.6 1441.42 1520.72 Q1438.99 1523.85 1438.64 1530.17 Q1440.01 1528.15 1442.07 1527.09 Q1444.13 1526 1446.6 1526 Q1451.81 1526 1454.82 1529.17 Q1457.85 1532.32 1457.85 1537.76 Q1457.85 1543.08 1454.71 1546.3 Q1451.56 1549.52 1446.33 1549.52 Q1440.33 1549.52 1437.16 1544.94 Q1433.99 1540.33 1433.99 1531.6 Q1433.99 1523.41 1437.88 1518.55 Q1441.77 1513.66 1448.32 1513.66 Q1450.08 1513.66 1451.86 1514.01 Q1453.66 1514.36 1455.61 1515.05 Z\" fill=\"#000000\" fill-rule=\"nonzero\" fill-opacity=\"1\" /><path clip-path=\"url(#clip560)\" d=\"M1870.67 1532.44 Q1867.33 1532.44 1865.41 1534.22 Q1863.52 1536 1863.52 1539.13 Q1863.52 1542.25 1865.41 1544.03 Q1867.33 1545.82 1870.67 1545.82 Q1874 1545.82 1875.92 1544.03 Q1877.84 1542.23 1877.84 1539.13 Q1877.84 1536 1875.92 1534.22 Q1874.02 1532.44 1870.67 1532.44 M1865.99 1530.45 Q1862.98 1529.7 1861.29 1527.64 Q1859.63 1525.58 1859.63 1522.62 Q1859.63 1518.48 1862.57 1516.07 Q1865.53 1513.66 1870.67 1513.66 Q1875.83 1513.66 1878.77 1516.07 Q1881.71 1518.48 1881.71 1522.62 Q1881.71 1525.58 1880.02 1527.64 Q1878.35 1529.7 1875.37 1530.45 Q1878.75 1531.23 1880.62 1533.52 Q1882.52 1535.82 1882.52 1539.13 Q1882.52 1544.15 1879.44 1546.83 Q1876.39 1549.52 1870.67 1549.52 Q1864.95 1549.52 1861.87 1546.83 Q1858.82 1544.15 1858.82 1539.13 Q1858.82 1535.82 1860.71 1533.52 Q1862.61 1531.23 1865.99 1530.45 M1864.28 1523.06 Q1864.28 1525.75 1865.95 1527.25 Q1867.64 1528.76 1870.67 1528.76 Q1873.68 1528.76 1875.37 1527.25 Q1877.08 1525.75 1877.08 1523.06 Q1877.08 1520.38 1875.37 1518.87 Q1873.68 1517.37 1870.67 1517.37 Q1867.64 1517.37 1865.95 1518.87 Q1864.28 1520.38 1864.28 1523.06 Z\" fill=\"#000000\" fill-rule=\"nonzero\" fill-opacity=\"1\" /><path clip-path=\"url(#clip560)\" d=\"M2270.1 1544.91 L2277.74 1544.91 L2277.74 1518.55 L2269.43 1520.21 L2269.43 1515.95 L2277.7 1514.29 L2282.37 1514.29 L2282.37 1544.91 L2290.01 1544.91 L2290.01 1548.85 L2270.1 1548.85 L2270.1 1544.91 Z\" fill=\"#000000\" fill-rule=\"nonzero\" fill-opacity=\"1\" /><path clip-path=\"url(#clip560)\" d=\"M2309.45 1517.37 Q2305.84 1517.37 2304.01 1520.93 Q2302.21 1524.47 2302.21 1531.6 Q2302.21 1538.71 2304.01 1542.27 Q2305.84 1545.82 2309.45 1545.82 Q2313.09 1545.82 2314.89 1542.27 Q2316.72 1538.71 2316.72 1531.6 Q2316.72 1524.47 2314.89 1520.93 Q2313.09 1517.37 2309.45 1517.37 M2309.45 1513.66 Q2315.26 1513.66 2318.32 1518.27 Q2321.4 1522.85 2321.4 1531.6 Q2321.4 1540.33 2318.32 1544.94 Q2315.26 1549.52 2309.45 1549.52 Q2303.64 1549.52 2300.57 1544.94 Q2297.51 1540.33 2297.51 1531.6 Q2297.51 1522.85 2300.57 1518.27 Q2303.64 1513.66 2309.45 1513.66 Z\" fill=\"#000000\" fill-rule=\"nonzero\" fill-opacity=\"1\" /><polyline clip-path=\"url(#clip562)\" style=\"stroke:#000000; stroke-linecap:round; stroke-linejoin:round; stroke-width:2; stroke-opacity:0.1; fill:none\" points=\"326.713,1445.72 2352.76,1445.72 \"/>\n",
       "<polyline clip-path=\"url(#clip562)\" style=\"stroke:#000000; stroke-linecap:round; stroke-linejoin:round; stroke-width:2; stroke-opacity:0.1; fill:none\" points=\"326.713,1022.07 2352.76,1022.07 \"/>\n",
       "<polyline clip-path=\"url(#clip562)\" style=\"stroke:#000000; stroke-linecap:round; stroke-linejoin:round; stroke-width:2; stroke-opacity:0.1; fill:none\" points=\"326.713,598.421 2352.76,598.421 \"/>\n",
       "<polyline clip-path=\"url(#clip562)\" style=\"stroke:#000000; stroke-linecap:round; stroke-linejoin:round; stroke-width:2; stroke-opacity:0.1; fill:none\" points=\"326.713,174.774 2352.76,174.774 \"/>\n",
       "<polyline clip-path=\"url(#clip560)\" style=\"stroke:#000000; stroke-linecap:round; stroke-linejoin:round; stroke-width:4; stroke-opacity:1; fill:none\" points=\"326.713,1486.45 326.713,47.2441 \"/>\n",
       "<polyline clip-path=\"url(#clip560)\" style=\"stroke:#000000; stroke-linecap:round; stroke-linejoin:round; stroke-width:4; stroke-opacity:1; fill:none\" points=\"326.713,1445.72 345.611,1445.72 \"/>\n",
       "<polyline clip-path=\"url(#clip560)\" style=\"stroke:#000000; stroke-linecap:round; stroke-linejoin:round; stroke-width:4; stroke-opacity:1; fill:none\" points=\"326.713,1022.07 345.611,1022.07 \"/>\n",
       "<polyline clip-path=\"url(#clip560)\" style=\"stroke:#000000; stroke-linecap:round; stroke-linejoin:round; stroke-width:4; stroke-opacity:1; fill:none\" points=\"326.713,598.421 345.611,598.421 \"/>\n",
       "<polyline clip-path=\"url(#clip560)\" style=\"stroke:#000000; stroke-linecap:round; stroke-linejoin:round; stroke-width:4; stroke-opacity:1; fill:none\" points=\"326.713,174.774 345.611,174.774 \"/>\n",
       "<path clip-path=\"url(#clip560)\" d=\"M278.769 1431.51 Q275.158 1431.51 273.329 1435.08 Q271.523 1438.62 271.523 1445.75 Q271.523 1452.86 273.329 1456.42 Q275.158 1459.96 278.769 1459.96 Q282.403 1459.96 284.208 1456.42 Q286.037 1452.86 286.037 1445.75 Q286.037 1438.62 284.208 1435.08 Q282.403 1431.51 278.769 1431.51 M278.769 1427.81 Q284.579 1427.81 287.634 1432.42 Q290.713 1437 290.713 1445.75 Q290.713 1454.48 287.634 1459.08 Q284.579 1463.67 278.769 1463.67 Q272.959 1463.67 269.88 1459.08 Q266.824 1454.48 266.824 1445.75 Q266.824 1437 269.88 1432.42 Q272.959 1427.81 278.769 1427.81 Z\" fill=\"#000000\" fill-rule=\"nonzero\" fill-opacity=\"1\" /><path clip-path=\"url(#clip560)\" d=\"M52.4505 1011.24 L70.8068 1011.24 L70.8068 1015.17 L56.7328 1015.17 L56.7328 1023.64 Q57.7513 1023.3 58.7699 1023.13 Q59.7884 1022.95 60.8069 1022.95 Q66.5939 1022.95 69.9735 1026.12 Q73.3531 1029.29 73.3531 1034.71 Q73.3531 1040.29 69.8809 1043.39 Q66.4087 1046.47 60.0893 1046.47 Q57.9134 1046.47 55.6449 1046.1 Q53.3995 1045.73 50.9921 1044.99 L50.9921 1040.29 Q53.0754 1041.42 55.2977 1041.98 Q57.5199 1042.53 59.9967 1042.53 Q64.0013 1042.53 66.3393 1040.43 Q68.6772 1038.32 68.6772 1034.71 Q68.6772 1031.1 66.3393 1028.99 Q64.0013 1026.88 59.9967 1026.88 Q58.1217 1026.88 56.2467 1027.3 Q54.3949 1027.72 52.4505 1028.6 L52.4505 1011.24 Z\" fill=\"#000000\" fill-rule=\"nonzero\" fill-opacity=\"1\" /><path clip-path=\"url(#clip560)\" d=\"M82.566 1039.92 L87.4503 1039.92 L87.4503 1045.8 L82.566 1045.8 L82.566 1039.92 Z\" fill=\"#000000\" fill-rule=\"nonzero\" fill-opacity=\"1\" /><path clip-path=\"url(#clip560)\" d=\"M107.635 1014.31 Q104.024 1014.31 102.196 1017.88 Q100.39 1021.42 100.39 1028.55 Q100.39 1035.66 102.196 1039.22 Q104.024 1042.76 107.635 1042.76 Q111.27 1042.76 113.075 1039.22 Q114.904 1035.66 114.904 1028.55 Q114.904 1021.42 113.075 1017.88 Q111.27 1014.31 107.635 1014.31 M107.635 1010.61 Q113.445 1010.61 116.501 1015.22 Q119.58 1019.8 119.58 1028.55 Q119.58 1037.28 116.501 1041.88 Q113.445 1046.47 107.635 1046.47 Q101.825 1046.47 98.7465 1041.88 Q95.691 1037.28 95.691 1028.55 Q95.691 1019.8 98.7465 1015.22 Q101.825 1010.61 107.635 1010.61 Z\" fill=\"#000000\" fill-rule=\"nonzero\" fill-opacity=\"1\" /><path clip-path=\"url(#clip560)\" d=\"M137.797 1014.31 Q134.186 1014.31 132.357 1017.88 Q130.552 1021.42 130.552 1028.55 Q130.552 1035.66 132.357 1039.22 Q134.186 1042.76 137.797 1042.76 Q141.431 1042.76 143.237 1039.22 Q145.066 1035.66 145.066 1028.55 Q145.066 1021.42 143.237 1017.88 Q141.431 1014.31 137.797 1014.31 M137.797 1010.61 Q143.607 1010.61 146.663 1015.22 Q149.742 1019.8 149.742 1028.55 Q149.742 1037.28 146.663 1041.88 Q143.607 1046.47 137.797 1046.47 Q131.987 1046.47 128.908 1041.88 Q125.853 1037.28 125.853 1028.55 Q125.853 1019.8 128.908 1015.22 Q131.987 1010.61 137.797 1010.61 Z\" fill=\"#000000\" fill-rule=\"nonzero\" fill-opacity=\"1\" /><path clip-path=\"url(#clip560)\" d=\"M186.13 1020.33 L175.552 1030.96 L186.13 1041.54 L183.376 1044.34 L172.751 1033.71 L162.126 1044.34 L159.394 1041.54 L169.95 1030.96 L159.394 1020.33 L162.126 1017.53 L172.751 1028.16 L183.376 1017.53 L186.13 1020.33 Z\" fill=\"#000000\" fill-rule=\"nonzero\" fill-opacity=\"1\" /><path clip-path=\"url(#clip560)\" d=\"M198.491 1041.86 L206.13 1041.86 L206.13 1015.5 L197.82 1017.16 L197.82 1012.9 L206.084 1011.24 L210.76 1011.24 L210.76 1041.86 L218.399 1041.86 L218.399 1045.8 L198.491 1045.8 L198.491 1041.86 Z\" fill=\"#000000\" fill-rule=\"nonzero\" fill-opacity=\"1\" /><path clip-path=\"url(#clip560)\" d=\"M237.843 1014.31 Q234.232 1014.31 232.403 1017.88 Q230.598 1021.42 230.598 1028.55 Q230.598 1035.66 232.403 1039.22 Q234.232 1042.76 237.843 1042.76 Q241.477 1042.76 243.283 1039.22 Q245.111 1035.66 245.111 1028.55 Q245.111 1021.42 243.283 1017.88 Q241.477 1014.31 237.843 1014.31 M237.843 1010.61 Q243.653 1010.61 246.709 1015.22 Q249.787 1019.8 249.787 1028.55 Q249.787 1037.28 246.709 1041.88 Q243.653 1046.47 237.843 1046.47 Q232.033 1046.47 228.954 1041.88 Q225.899 1037.28 225.899 1028.55 Q225.899 1019.8 228.954 1015.22 Q232.033 1010.61 237.843 1010.61 Z\" fill=\"#000000\" fill-rule=\"nonzero\" fill-opacity=\"1\" /><path clip-path=\"url(#clip560)\" d=\"M250.333 1015.19 L256.539 1015.19 L256.539 993.766 L249.787 995.121 L249.787 991.66 L256.502 990.306 L260.301 990.306 L260.301 1015.19 L266.507 1015.19 L266.507 1018.39 L250.333 1018.39 L250.333 1015.19 Z\" fill=\"#000000\" fill-rule=\"nonzero\" fill-opacity=\"1\" /><path clip-path=\"url(#clip560)\" d=\"M277.454 1015.19 L290.713 1015.19 L290.713 1018.39 L272.883 1018.39 L272.883 1015.19 Q275.046 1012.95 278.77 1009.19 Q282.513 1005.41 283.472 1004.32 Q285.296 1002.27 286.011 1000.86 Q286.745 999.428 286.745 998.055 Q286.745 995.816 285.165 994.406 Q283.604 992.995 281.083 992.995 Q279.297 992.995 277.303 993.616 Q275.328 994.237 273.071 995.497 L273.071 991.66 Q275.366 990.738 277.36 990.268 Q279.353 989.798 281.008 989.798 Q285.372 989.798 287.967 991.98 Q290.563 994.161 290.563 997.81 Q290.563 999.54 289.904 1001.1 Q289.265 1002.64 287.553 1004.75 Q287.083 1005.3 284.563 1007.91 Q282.043 1010.51 277.454 1015.19 Z\" fill=\"#000000\" fill-rule=\"nonzero\" fill-opacity=\"1\" /><path clip-path=\"url(#clip560)\" d=\"M52.4432 618.214 L60.0821 618.214 L60.0821 591.848 L51.7719 593.515 L51.7719 589.256 L60.0358 587.589 L64.7117 587.589 L64.7117 618.214 L72.3505 618.214 L72.3505 622.149 L52.4432 622.149 L52.4432 618.214 Z\" fill=\"#000000\" fill-rule=\"nonzero\" fill-opacity=\"1\" /><path clip-path=\"url(#clip560)\" d=\"M81.7949 616.269 L86.6791 616.269 L86.6791 622.149 L81.7949 622.149 L81.7949 616.269 Z\" fill=\"#000000\" fill-rule=\"nonzero\" fill-opacity=\"1\" /><path clip-path=\"url(#clip560)\" d=\"M106.864 590.668 Q103.253 590.668 101.424 594.232 Q99.6189 597.774 99.6189 604.904 Q99.6189 612.01 101.424 615.575 Q103.253 619.117 106.864 619.117 Q110.498 619.117 112.304 615.575 Q114.133 612.01 114.133 604.904 Q114.133 597.774 112.304 594.232 Q110.498 590.668 106.864 590.668 M106.864 586.964 Q112.674 586.964 115.73 591.57 Q118.809 596.154 118.809 604.904 Q118.809 613.631 115.73 618.237 Q112.674 622.82 106.864 622.82 Q101.054 622.82 97.9754 618.237 Q94.9198 613.631 94.9198 604.904 Q94.9198 596.154 97.9754 591.57 Q101.054 586.964 106.864 586.964 Z\" fill=\"#000000\" fill-rule=\"nonzero\" fill-opacity=\"1\" /><path clip-path=\"url(#clip560)\" d=\"M137.026 590.668 Q133.415 590.668 131.586 594.232 Q129.781 597.774 129.781 604.904 Q129.781 612.01 131.586 615.575 Q133.415 619.117 137.026 619.117 Q140.66 619.117 142.466 615.575 Q144.295 612.01 144.295 604.904 Q144.295 597.774 142.466 594.232 Q140.66 590.668 137.026 590.668 M137.026 586.964 Q142.836 586.964 145.892 591.57 Q148.97 596.154 148.97 604.904 Q148.97 613.631 145.892 618.237 Q142.836 622.82 137.026 622.82 Q131.216 622.82 128.137 618.237 Q125.082 613.631 125.082 604.904 Q125.082 596.154 128.137 591.57 Q131.216 586.964 137.026 586.964 Z\" fill=\"#000000\" fill-rule=\"nonzero\" fill-opacity=\"1\" /><path clip-path=\"url(#clip560)\" d=\"M185.359 596.686 L174.781 607.311 L185.359 617.89 L182.605 620.691 L171.98 610.066 L161.355 620.691 L158.623 617.89 L169.179 607.311 L158.623 596.686 L161.355 593.885 L171.98 604.51 L182.605 593.885 L185.359 596.686 Z\" fill=\"#000000\" fill-rule=\"nonzero\" fill-opacity=\"1\" /><path clip-path=\"url(#clip560)\" d=\"M197.72 618.214 L205.359 618.214 L205.359 591.848 L197.049 593.515 L197.049 589.256 L205.313 587.589 L209.989 587.589 L209.989 618.214 L217.628 618.214 L217.628 622.149 L197.72 622.149 L197.72 618.214 Z\" fill=\"#000000\" fill-rule=\"nonzero\" fill-opacity=\"1\" /><path clip-path=\"url(#clip560)\" d=\"M237.072 590.668 Q233.461 590.668 231.632 594.232 Q229.827 597.774 229.827 604.904 Q229.827 612.01 231.632 615.575 Q233.461 619.117 237.072 619.117 Q240.706 619.117 242.512 615.575 Q244.34 612.01 244.34 604.904 Q244.34 597.774 242.512 594.232 Q240.706 590.668 237.072 590.668 M237.072 586.964 Q242.882 586.964 245.938 591.57 Q249.016 596.154 249.016 604.904 Q249.016 613.631 245.938 618.237 Q242.882 622.82 237.072 622.82 Q231.262 622.82 228.183 618.237 Q225.127 613.631 225.127 604.904 Q225.127 596.154 228.183 591.57 Q231.262 586.964 237.072 586.964 Z\" fill=\"#000000\" fill-rule=\"nonzero\" fill-opacity=\"1\" /><path clip-path=\"url(#clip560)\" d=\"M249.562 591.541 L255.768 591.541 L255.768 570.119 L249.016 571.473 L249.016 568.013 L255.731 566.659 L259.53 566.659 L259.53 591.541 L265.736 591.541 L265.736 594.739 L249.562 594.739 L249.562 591.541 Z\" fill=\"#000000\" fill-rule=\"nonzero\" fill-opacity=\"1\" /><path clip-path=\"url(#clip560)\" d=\"M284.92 579.598 Q287.647 580.181 289.171 582.025 Q290.713 583.868 290.713 586.576 Q290.713 590.733 287.854 593.008 Q284.996 595.284 279.729 595.284 Q277.961 595.284 276.081 594.927 Q274.219 594.588 272.225 593.892 L272.225 590.225 Q273.805 591.146 275.686 591.617 Q277.566 592.087 279.616 592.087 Q283.19 592.087 285.052 590.676 Q286.933 589.266 286.933 586.576 Q286.933 584.093 285.184 582.702 Q283.453 581.291 280.35 581.291 L277.077 581.291 L277.077 578.169 L280.5 578.169 Q283.303 578.169 284.789 577.059 Q286.274 575.931 286.274 573.824 Q286.274 571.661 284.732 570.514 Q283.209 569.348 280.35 569.348 Q278.789 569.348 277.002 569.687 Q275.215 570.025 273.071 570.74 L273.071 567.354 Q275.234 566.753 277.115 566.452 Q279.015 566.151 280.689 566.151 Q285.014 566.151 287.535 568.126 Q290.055 570.082 290.055 573.429 Q290.055 575.762 288.719 577.379 Q287.384 578.978 284.92 579.598 Z\" fill=\"#000000\" fill-rule=\"nonzero\" fill-opacity=\"1\" /><path clip-path=\"url(#clip560)\" d=\"M52.4432 194.567 L60.0821 194.567 L60.0821 168.201 L51.7719 169.868 L51.7719 165.609 L60.0358 163.942 L64.7117 163.942 L64.7117 194.567 L72.3505 194.567 L72.3505 198.502 L52.4432 198.502 L52.4432 194.567 Z\" fill=\"#000000\" fill-rule=\"nonzero\" fill-opacity=\"1\" /><path clip-path=\"url(#clip560)\" d=\"M81.7949 192.622 L86.6791 192.622 L86.6791 198.502 L81.7949 198.502 L81.7949 192.622 Z\" fill=\"#000000\" fill-rule=\"nonzero\" fill-opacity=\"1\" /><path clip-path=\"url(#clip560)\" d=\"M96.9106 163.942 L115.267 163.942 L115.267 167.877 L101.193 167.877 L101.193 176.349 Q102.211 176.002 103.23 175.84 Q104.248 175.655 105.267 175.655 Q111.054 175.655 114.434 178.826 Q117.813 181.997 117.813 187.414 Q117.813 192.993 114.341 196.094 Q110.869 199.173 104.549 199.173 Q102.374 199.173 100.105 198.803 Q97.8596 198.432 95.4522 197.692 L95.4522 192.993 Q97.5356 194.127 99.7578 194.682 Q101.98 195.238 104.457 195.238 Q108.461 195.238 110.799 193.132 Q113.137 191.025 113.137 187.414 Q113.137 183.803 110.799 181.696 Q108.461 179.59 104.457 179.59 Q102.582 179.59 100.707 180.007 Q98.855 180.423 96.9106 181.303 L96.9106 163.942 Z\" fill=\"#000000\" fill-rule=\"nonzero\" fill-opacity=\"1\" /><path clip-path=\"url(#clip560)\" d=\"M137.026 167.021 Q133.415 167.021 131.586 170.585 Q129.781 174.127 129.781 181.257 Q129.781 188.363 131.586 191.928 Q133.415 195.469 137.026 195.469 Q140.66 195.469 142.466 191.928 Q144.295 188.363 144.295 181.257 Q144.295 174.127 142.466 170.585 Q140.66 167.021 137.026 167.021 M137.026 163.317 Q142.836 163.317 145.892 167.923 Q148.97 172.507 148.97 181.257 Q148.97 189.983 145.892 194.59 Q142.836 199.173 137.026 199.173 Q131.216 199.173 128.137 194.59 Q125.082 189.983 125.082 181.257 Q125.082 172.507 128.137 167.923 Q131.216 163.317 137.026 163.317 Z\" fill=\"#000000\" fill-rule=\"nonzero\" fill-opacity=\"1\" /><path clip-path=\"url(#clip560)\" d=\"M185.359 173.039 L174.781 183.664 L185.359 194.243 L182.605 197.044 L171.98 186.419 L161.355 197.044 L158.623 194.243 L169.179 183.664 L158.623 173.039 L161.355 170.238 L171.98 180.863 L182.605 170.238 L185.359 173.039 Z\" fill=\"#000000\" fill-rule=\"nonzero\" fill-opacity=\"1\" /><path clip-path=\"url(#clip560)\" d=\"M197.72 194.567 L205.359 194.567 L205.359 168.201 L197.049 169.868 L197.049 165.609 L205.313 163.942 L209.989 163.942 L209.989 194.567 L217.628 194.567 L217.628 198.502 L197.72 198.502 L197.72 194.567 Z\" fill=\"#000000\" fill-rule=\"nonzero\" fill-opacity=\"1\" /><path clip-path=\"url(#clip560)\" d=\"M237.072 167.021 Q233.461 167.021 231.632 170.585 Q229.827 174.127 229.827 181.257 Q229.827 188.363 231.632 191.928 Q233.461 195.469 237.072 195.469 Q240.706 195.469 242.512 191.928 Q244.34 188.363 244.34 181.257 Q244.34 174.127 242.512 170.585 Q240.706 167.021 237.072 167.021 M237.072 163.317 Q242.882 163.317 245.938 167.923 Q249.016 172.507 249.016 181.257 Q249.016 189.983 245.938 194.59 Q242.882 199.173 237.072 199.173 Q231.262 199.173 228.183 194.59 Q225.127 189.983 225.127 181.257 Q225.127 172.507 228.183 167.923 Q231.262 163.317 237.072 163.317 Z\" fill=\"#000000\" fill-rule=\"nonzero\" fill-opacity=\"1\" /><path clip-path=\"url(#clip560)\" d=\"M249.562 167.894 L255.768 167.894 L255.768 146.472 L249.016 147.826 L249.016 144.366 L255.731 143.011 L259.53 143.011 L259.53 167.894 L265.736 167.894 L265.736 171.091 L249.562 171.091 L249.562 167.894 Z\" fill=\"#000000\" fill-rule=\"nonzero\" fill-opacity=\"1\" /><path clip-path=\"url(#clip560)\" d=\"M284.92 155.951 Q287.647 156.534 289.171 158.377 Q290.713 160.221 290.713 162.929 Q290.713 167.085 287.854 169.361 Q284.996 171.637 279.729 171.637 Q277.961 171.637 276.081 171.28 Q274.219 170.941 272.225 170.245 L272.225 166.578 Q273.805 167.499 275.686 167.969 Q277.566 168.44 279.616 168.44 Q283.19 168.44 285.052 167.029 Q286.933 165.618 286.933 162.929 Q286.933 160.446 285.184 159.054 Q283.453 157.644 280.35 157.644 L277.077 157.644 L277.077 154.522 L280.5 154.522 Q283.303 154.522 284.789 153.412 Q286.274 152.284 286.274 150.177 Q286.274 148.014 284.732 146.867 Q283.209 145.701 280.35 145.701 Q278.789 145.701 277.002 146.039 Q275.215 146.378 273.071 147.093 L273.071 143.707 Q275.234 143.105 277.115 142.805 Q279.015 142.504 280.689 142.504 Q285.014 142.504 287.535 144.478 Q290.055 146.434 290.055 149.782 Q290.055 152.114 288.719 153.732 Q287.384 155.331 284.92 155.951 Z\" fill=\"#000000\" fill-rule=\"nonzero\" fill-opacity=\"1\" /><polyline clip-path=\"url(#clip562)\" style=\"stroke:#009af9; stroke-linecap:round; stroke-linejoin:round; stroke-width:4; stroke-opacity:1; fill:none\" points=\"384.054,1445.72 596.427,1445.72 808.801,1445.72 1021.17,1445.72 1233.55,1445.72 1445.92,1445.71 1658.29,1445.68 1870.67,1444.42 2083.04,1403.93 2295.42,87.9763 \"/>\n",
       "<path clip-path=\"url(#clip560)\" d=\"M394.248 198.898 L1181.43 198.898 L1181.43 95.2176 L394.248 95.2176  Z\" fill=\"#ffffff\" fill-rule=\"evenodd\" fill-opacity=\"1\"/>\n",
       "<polyline clip-path=\"url(#clip560)\" style=\"stroke:#000000; stroke-linecap:round; stroke-linejoin:round; stroke-width:4; stroke-opacity:1; fill:none\" points=\"394.248,198.898 1181.43,198.898 1181.43,95.2176 394.248,95.2176 394.248,198.898 \"/>\n",
       "<polyline clip-path=\"url(#clip560)\" style=\"stroke:#009af9; stroke-linecap:round; stroke-linejoin:round; stroke-width:4; stroke-opacity:1; fill:none\" points=\"416.759,147.058 551.829,147.058 \"/>\n",
       "<path clip-path=\"url(#clip560)\" d=\"M594.688 143.389 Q596.285 140.518 598.507 139.153 Q600.729 137.787 603.739 137.787 Q607.789 137.787 609.988 140.634 Q612.188 143.458 612.188 148.689 L612.188 164.338 L607.905 164.338 L607.905 148.828 Q607.905 145.102 606.586 143.296 Q605.266 141.49 602.558 141.49 Q599.248 141.49 597.327 143.69 Q595.405 145.889 595.405 149.685 L595.405 164.338 L591.123 164.338 L591.123 148.828 Q591.123 145.078 589.803 143.296 Q588.484 141.49 585.729 141.49 Q582.465 141.49 580.544 143.713 Q578.623 145.912 578.623 149.685 L578.623 164.338 L574.341 164.338 L574.341 138.412 L578.623 138.412 L578.623 142.44 Q580.081 140.055 582.118 138.921 Q584.155 137.787 586.956 137.787 Q589.78 137.787 591.748 139.222 Q593.739 140.657 594.688 143.389 Z\" fill=\"#000000\" fill-rule=\"nonzero\" fill-opacity=\"1\" /><path clip-path=\"url(#clip560)\" d=\"M632.465 151.305 Q627.303 151.305 625.312 152.486 Q623.322 153.666 623.322 156.514 Q623.322 158.782 624.803 160.125 Q626.308 161.444 628.877 161.444 Q632.419 161.444 634.549 158.944 Q636.701 156.421 636.701 152.254 L636.701 151.305 L632.465 151.305 M640.961 149.546 L640.961 164.338 L636.701 164.338 L636.701 160.402 Q635.243 162.763 633.067 163.898 Q630.891 165.009 627.743 165.009 Q623.762 165.009 621.4 162.787 Q619.063 160.541 619.063 156.791 Q619.063 152.416 621.979 150.194 Q624.919 147.972 630.729 147.972 L636.701 147.972 L636.701 147.555 Q636.701 144.615 634.757 143.018 Q632.836 141.398 629.34 141.398 Q627.118 141.398 625.012 141.93 Q622.905 142.463 620.961 143.527 L620.961 139.592 Q623.299 138.69 625.498 138.25 Q627.697 137.787 629.78 137.787 Q635.405 137.787 638.183 140.703 Q640.961 143.62 640.961 149.546 Z\" fill=\"#000000\" fill-rule=\"nonzero\" fill-opacity=\"1\" /><path clip-path=\"url(#clip560)\" d=\"M653.947 131.051 L653.947 138.412 L662.72 138.412 L662.72 141.722 L653.947 141.722 L653.947 155.796 Q653.947 158.967 654.803 159.87 Q655.683 160.773 658.345 160.773 L662.72 160.773 L662.72 164.338 L658.345 164.338 Q653.414 164.338 651.539 162.509 Q649.664 160.657 649.664 155.796 L649.664 141.722 L646.539 141.722 L646.539 138.412 L649.664 138.412 L649.664 131.051 L653.947 131.051 Z\" fill=\"#000000\" fill-rule=\"nonzero\" fill-opacity=\"1\" /><path clip-path=\"url(#clip560)\" d=\"M683.345 142.393 Q682.627 141.977 681.771 141.791 Q680.937 141.583 679.919 141.583 Q676.308 141.583 674.363 143.944 Q672.442 146.282 672.442 150.68 L672.442 164.338 L668.159 164.338 L668.159 138.412 L672.442 138.412 L672.442 142.44 Q673.784 140.078 675.937 138.944 Q678.09 137.787 681.169 137.787 Q681.608 137.787 682.141 137.856 Q682.673 137.903 683.321 138.018 L683.345 142.393 Z\" fill=\"#000000\" fill-rule=\"nonzero\" fill-opacity=\"1\" /><path clip-path=\"url(#clip560)\" d=\"M687.812 138.412 L692.071 138.412 L692.071 164.338 L687.812 164.338 L687.812 138.412 M687.812 128.319 L692.071 128.319 L692.071 133.713 L687.812 133.713 L687.812 128.319 Z\" fill=\"#000000\" fill-rule=\"nonzero\" fill-opacity=\"1\" /><path clip-path=\"url(#clip560)\" d=\"M722.534 138.412 L713.159 151.027 L723.02 164.338 L717.997 164.338 L710.451 154.152 L702.905 164.338 L697.882 164.338 L707.951 150.773 L698.738 138.412 L703.761 138.412 L710.636 147.648 L717.511 138.412 L722.534 138.412 Z\" fill=\"#000000\" fill-rule=\"nonzero\" fill-opacity=\"1\" /><path clip-path=\"url(#clip560)\" d=\"M762.765 139.407 L762.765 143.389 Q760.96 142.393 759.131 141.907 Q757.326 141.398 755.474 141.398 Q751.33 141.398 749.039 144.037 Q746.747 146.652 746.747 151.398 Q746.747 156.143 749.039 158.782 Q751.33 161.398 755.474 161.398 Q757.326 161.398 759.131 160.912 Q760.96 160.402 762.765 159.407 L762.765 163.342 Q760.983 164.176 759.062 164.592 Q757.164 165.009 755.011 165.009 Q749.154 165.009 745.705 161.328 Q742.256 157.648 742.256 151.398 Q742.256 145.055 745.728 141.421 Q749.224 137.787 755.289 137.787 Q757.256 137.787 759.131 138.203 Q761.006 138.597 762.765 139.407 Z\" fill=\"#000000\" fill-rule=\"nonzero\" fill-opacity=\"1\" /><path clip-path=\"url(#clip560)\" d=\"M780.219 141.398 Q776.793 141.398 774.802 144.083 Q772.812 146.745 772.812 151.398 Q772.812 156.051 774.779 158.736 Q776.77 161.398 780.219 161.398 Q783.622 161.398 785.613 158.713 Q787.603 156.027 787.603 151.398 Q787.603 146.791 785.613 144.106 Q783.622 141.398 780.219 141.398 M780.219 137.787 Q785.775 137.787 788.946 141.398 Q792.117 145.009 792.117 151.398 Q792.117 157.764 788.946 161.398 Q785.775 165.009 780.219 165.009 Q774.64 165.009 771.469 161.398 Q768.321 157.764 768.321 151.398 Q768.321 145.009 771.469 141.398 Q774.64 137.787 780.219 137.787 Z\" fill=\"#000000\" fill-rule=\"nonzero\" fill-opacity=\"1\" /><path clip-path=\"url(#clip560)\" d=\"M820.728 148.689 L820.728 164.338 L816.469 164.338 L816.469 148.828 Q816.469 145.148 815.034 143.319 Q813.598 141.49 810.728 141.49 Q807.279 141.49 805.288 143.69 Q803.298 145.889 803.298 149.685 L803.298 164.338 L799.015 164.338 L799.015 138.412 L803.298 138.412 L803.298 142.44 Q804.825 140.102 806.886 138.944 Q808.969 137.787 811.677 137.787 Q816.145 137.787 818.436 140.565 Q820.728 143.319 820.728 148.689 Z\" fill=\"#000000\" fill-rule=\"nonzero\" fill-opacity=\"1\" /><path clip-path=\"url(#clip560)\" d=\"M846.284 142.347 L846.284 128.319 L850.543 128.319 L850.543 164.338 L846.284 164.338 L846.284 160.449 Q844.941 162.763 842.881 163.898 Q840.844 165.009 837.973 165.009 Q833.274 165.009 830.311 161.259 Q827.372 157.509 827.372 151.398 Q827.372 145.287 830.311 141.537 Q833.274 137.787 837.973 137.787 Q840.844 137.787 842.881 138.921 Q844.941 140.032 846.284 142.347 M831.77 151.398 Q831.77 156.097 833.691 158.782 Q835.635 161.444 839.015 161.444 Q842.395 161.444 844.339 158.782 Q846.284 156.097 846.284 151.398 Q846.284 146.699 844.339 144.037 Q842.395 141.352 839.015 141.352 Q835.635 141.352 833.691 144.037 Q831.77 146.699 831.77 151.398 Z\" fill=\"#000000\" fill-rule=\"nonzero\" fill-opacity=\"1\" /><path clip-path=\"url(#clip560)\" d=\"M859.316 138.412 L863.575 138.412 L863.575 164.338 L859.316 164.338 L859.316 138.412 M859.316 128.319 L863.575 128.319 L863.575 133.713 L859.316 133.713 L859.316 128.319 Z\" fill=\"#000000\" fill-rule=\"nonzero\" fill-opacity=\"1\" /><path clip-path=\"url(#clip560)\" d=\"M876.7 131.051 L876.7 138.412 L885.473 138.412 L885.473 141.722 L876.7 141.722 L876.7 155.796 Q876.7 158.967 877.556 159.87 Q878.436 160.773 881.098 160.773 L885.473 160.773 L885.473 164.338 L881.098 164.338 Q876.168 164.338 874.293 162.509 Q872.418 160.657 872.418 155.796 L872.418 141.722 L869.293 141.722 L869.293 138.412 L872.418 138.412 L872.418 131.051 L876.7 131.051 Z\" fill=\"#000000\" fill-rule=\"nonzero\" fill-opacity=\"1\" /><path clip-path=\"url(#clip560)\" d=\"M891.075 138.412 L895.334 138.412 L895.334 164.338 L891.075 164.338 L891.075 138.412 M891.075 128.319 L895.334 128.319 L895.334 133.713 L891.075 133.713 L891.075 128.319 Z\" fill=\"#000000\" fill-rule=\"nonzero\" fill-opacity=\"1\" /><path clip-path=\"url(#clip560)\" d=\"M914.292 141.398 Q910.866 141.398 908.876 144.083 Q906.885 146.745 906.885 151.398 Q906.885 156.051 908.853 158.736 Q910.843 161.398 914.292 161.398 Q917.695 161.398 919.686 158.713 Q921.677 156.027 921.677 151.398 Q921.677 146.791 919.686 144.106 Q917.695 141.398 914.292 141.398 M914.292 137.787 Q919.848 137.787 923.019 141.398 Q926.19 145.009 926.19 151.398 Q926.19 157.764 923.019 161.398 Q919.848 165.009 914.292 165.009 Q908.714 165.009 905.542 161.398 Q902.394 157.764 902.394 151.398 Q902.394 145.009 905.542 141.398 Q908.714 137.787 914.292 137.787 Z\" fill=\"#000000\" fill-rule=\"nonzero\" fill-opacity=\"1\" /><path clip-path=\"url(#clip560)\" d=\"M954.801 148.689 L954.801 164.338 L950.542 164.338 L950.542 148.828 Q950.542 145.148 949.107 143.319 Q947.672 141.49 944.802 141.49 Q941.352 141.49 939.362 143.69 Q937.371 145.889 937.371 149.685 L937.371 164.338 L933.089 164.338 L933.089 138.412 L937.371 138.412 L937.371 142.44 Q938.899 140.102 940.959 138.944 Q943.042 137.787 945.751 137.787 Q950.218 137.787 952.51 140.565 Q954.801 143.319 954.801 148.689 Z\" fill=\"#000000\" fill-rule=\"nonzero\" fill-opacity=\"1\" /><path clip-path=\"url(#clip560)\" d=\"M999.917 148.689 L999.917 164.338 L995.658 164.338 L995.658 148.828 Q995.658 145.148 994.223 143.319 Q992.787 141.49 989.917 141.49 Q986.468 141.49 984.477 143.69 Q982.486 145.889 982.486 149.685 L982.486 164.338 L978.204 164.338 L978.204 138.412 L982.486 138.412 L982.486 142.44 Q984.014 140.102 986.074 138.944 Q988.158 137.787 990.866 137.787 Q995.334 137.787 997.625 140.565 Q999.917 143.319 999.917 148.689 Z\" fill=\"#000000\" fill-rule=\"nonzero\" fill-opacity=\"1\" /><path clip-path=\"url(#clip560)\" d=\"M1007.97 154.106 L1007.97 138.412 L1012.23 138.412 L1012.23 153.944 Q1012.23 157.625 1013.67 159.476 Q1015.1 161.305 1017.97 161.305 Q1021.42 161.305 1023.41 159.106 Q1025.43 156.907 1025.43 153.111 L1025.43 138.412 L1029.69 138.412 L1029.69 164.338 L1025.43 164.338 L1025.43 160.356 Q1023.88 162.717 1021.81 163.875 Q1019.78 165.009 1017.07 165.009 Q1012.6 165.009 1010.29 162.231 Q1007.97 159.453 1007.97 154.106 M1018.69 137.787 L1018.69 137.787 Z\" fill=\"#000000\" fill-rule=\"nonzero\" fill-opacity=\"1\" /><path clip-path=\"url(#clip560)\" d=\"M1058.64 143.389 Q1060.24 140.518 1062.46 139.153 Q1064.69 137.787 1067.69 137.787 Q1071.75 137.787 1073.94 140.634 Q1076.14 143.458 1076.14 148.689 L1076.14 164.338 L1071.86 164.338 L1071.86 148.828 Q1071.86 145.102 1070.54 143.296 Q1069.22 141.49 1066.51 141.49 Q1063.2 141.49 1061.28 143.69 Q1059.36 145.889 1059.36 149.685 L1059.36 164.338 L1055.08 164.338 L1055.08 148.828 Q1055.08 145.078 1053.76 143.296 Q1052.44 141.49 1049.69 141.49 Q1046.42 141.49 1044.5 143.713 Q1042.58 145.912 1042.58 149.685 L1042.58 164.338 L1038.3 164.338 L1038.3 138.412 L1042.58 138.412 L1042.58 142.44 Q1044.04 140.055 1046.07 138.921 Q1048.11 137.787 1050.91 137.787 Q1053.74 137.787 1055.7 139.222 Q1057.69 140.657 1058.64 143.389 Z\" fill=\"#000000\" fill-rule=\"nonzero\" fill-opacity=\"1\" /><path clip-path=\"url(#clip560)\" d=\"M1103.25 151.398 Q1103.25 146.699 1101.31 144.037 Q1099.38 141.352 1096 141.352 Q1092.62 141.352 1090.68 144.037 Q1088.76 146.699 1088.76 151.398 Q1088.76 156.097 1090.68 158.782 Q1092.62 161.444 1096 161.444 Q1099.38 161.444 1101.31 158.782 Q1103.25 156.097 1103.25 151.398 M1088.76 142.347 Q1090.1 140.032 1092.14 138.921 Q1094.2 137.787 1097.05 137.787 Q1101.77 137.787 1104.71 141.537 Q1107.67 145.287 1107.67 151.398 Q1107.67 157.509 1104.71 161.259 Q1101.77 165.009 1097.05 165.009 Q1094.2 165.009 1092.14 163.898 Q1090.1 162.763 1088.76 160.449 L1088.76 164.338 L1084.48 164.338 L1084.48 128.319 L1088.76 128.319 L1088.76 142.347 Z\" fill=\"#000000\" fill-rule=\"nonzero\" fill-opacity=\"1\" /><path clip-path=\"url(#clip560)\" d=\"M1136.91 150.31 L1136.91 152.393 L1117.32 152.393 Q1117.6 156.791 1119.96 159.106 Q1122.35 161.398 1126.58 161.398 Q1129.04 161.398 1131.33 160.796 Q1133.64 160.194 1135.91 158.99 L1135.91 163.018 Q1133.62 163.99 1131.21 164.5 Q1128.81 165.009 1126.33 165.009 Q1120.12 165.009 1116.49 161.398 Q1112.88 157.787 1112.88 151.629 Q1112.88 145.264 1116.31 141.537 Q1119.75 137.787 1125.59 137.787 Q1130.82 137.787 1133.85 141.166 Q1136.91 144.523 1136.91 150.31 M1132.65 149.06 Q1132.6 145.565 1130.68 143.481 Q1128.78 141.398 1125.63 141.398 Q1122.07 141.398 1119.92 143.412 Q1117.79 145.426 1117.46 149.083 L1132.65 149.06 Z\" fill=\"#000000\" fill-rule=\"nonzero\" fill-opacity=\"1\" /><path clip-path=\"url(#clip560)\" d=\"M1158.92 142.393 Q1158.2 141.977 1157.35 141.791 Q1156.51 141.583 1155.49 141.583 Q1151.88 141.583 1149.94 143.944 Q1148.02 146.282 1148.02 150.68 L1148.02 164.338 L1143.74 164.338 L1143.74 138.412 L1148.02 138.412 L1148.02 142.44 Q1149.36 140.078 1151.51 138.944 Q1153.67 137.787 1156.74 137.787 Q1157.18 137.787 1157.72 137.856 Q1158.25 137.903 1158.9 138.018 L1158.92 142.393 Z\" fill=\"#000000\" fill-rule=\"nonzero\" fill-opacity=\"1\" /></svg>\n"
      ]
     },
     "execution_count": 28,
     "metadata": {},
     "output_type": "execute_result"
    }
   ],
   "source": [
    "# condition number of the Hilbert's matrix\n",
    "n = 10;\n",
    "cond_hilbert = zeros(n);\n",
    "for i in 1:n\n",
    "    cond_hilbert[i] = cond(hilb(i));\n",
    "end\n",
    "plot(cond_hilbert, label = \"matrix condition number\")"
   ]
  },
  {
   "cell_type": "markdown",
   "metadata": {},
   "source": [
    "#### Calculating exp"
   ]
  },
  {
   "cell_type": "code",
   "execution_count": 29,
   "metadata": {},
   "outputs": [
    {
     "data": {
      "text/plain": [
       "my_exp (generic function with 2 methods)"
      ]
     },
     "execution_count": 29,
     "metadata": {},
     "output_type": "execute_result"
    }
   ],
   "source": [
    "# first draft of the solution\n",
    "function my_exp(x, max_iter = 1000)\n",
    "    result = 1;\n",
    "    tmp = 1;\n",
    "    for k = 1:max_iter\n",
    "        tmp *= x/k;\n",
    "        result += tmp;\n",
    "    end\n",
    "    println(\"\\nexp for x = \", x)\n",
    "    @show exp(x);\n",
    "    @show result;\n",
    "    @show (exp(x) - result);\n",
    "    return result\n",
    "end"
   ]
  },
  {
   "cell_type": "code",
   "execution_count": 30,
   "metadata": {},
   "outputs": [
    {
     "data": {
      "text/plain": [
       "my_exp (generic function with 2 methods)"
      ]
     },
     "execution_count": 30,
     "metadata": {},
     "output_type": "execute_result"
    }
   ],
   "source": [
    "# first draft of the solution\n",
    "function my_exp(x, max_iter = 1000)\n",
    "    result = 1;\n",
    "    tmp = 1;\n",
    "    for k = 1:max_iter\n",
    "        tmp *= x/k;\n",
    "        result += tmp;\n",
    "    end\n",
    "    result_tuple = (x, max_iter, eˣ=exp(x), result, diff=(exp(x) - result))\n",
    "    return result_tuple\n",
    "end"
   ]
  },
  {
   "cell_type": "code",
   "execution_count": 31,
   "metadata": {
    "scrolled": true
   },
   "outputs": [
    {
     "data": {
      "text/html": [
       "<div><div style = \"float: left;\"><span>10×5 DataFrame</span></div><div style = \"clear: both;\"></div></div><div class = \"data-frame\" style = \"overflow-x: scroll;\"><table class = \"data-frame\" style = \"margin-bottom: 6px;\"><thead><tr class = \"header\"><th class = \"rowNumber\" style = \"font-weight: bold; text-align: right;\">Row</th><th style = \"text-align: left;\">x</th><th style = \"text-align: left;\">max_iter</th><th style = \"text-align: left;\">eˣ</th><th style = \"text-align: left;\">result</th><th style = \"text-align: left;\">diff</th></tr><tr class = \"subheader headerLastRow\"><th class = \"rowNumber\" style = \"font-weight: bold; text-align: right;\"></th><th title = \"Int64\" style = \"text-align: left;\">Int64</th><th title = \"Int64\" style = \"text-align: left;\">Int64</th><th title = \"Float64\" style = \"text-align: left;\">Float64</th><th title = \"Float64\" style = \"text-align: left;\">Float64</th><th title = \"Float64\" style = \"text-align: left;\">Float64</th></tr></thead><tbody><tr><td class = \"rowNumber\" style = \"font-weight: bold; text-align: right;\">1</td><td style = \"text-align: right;\">0</td><td style = \"text-align: right;\">10</td><td style = \"text-align: right;\">1.0</td><td style = \"text-align: right;\">1.0</td><td style = \"text-align: right;\">0.0</td></tr><tr><td class = \"rowNumber\" style = \"font-weight: bold; text-align: right;\">2</td><td style = \"text-align: right;\">1</td><td style = \"text-align: right;\">100</td><td style = \"text-align: right;\">2.71828</td><td style = \"text-align: right;\">2.71828</td><td style = \"text-align: right;\">-4.44089e-16</td></tr><tr><td class = \"rowNumber\" style = \"font-weight: bold; text-align: right;\">3</td><td style = \"text-align: right;\">10</td><td style = \"text-align: right;\">1000</td><td style = \"text-align: right;\">22026.5</td><td style = \"text-align: right;\">22026.5</td><td style = \"text-align: right;\">3.63798e-12</td></tr><tr><td class = \"rowNumber\" style = \"font-weight: bold; text-align: right;\">4</td><td style = \"text-align: right;\">25</td><td style = \"text-align: right;\">1000</td><td style = \"text-align: right;\">7.20049e10</td><td style = \"text-align: right;\">7.20049e10</td><td style = \"text-align: right;\">-3.05176e-5</td></tr><tr><td class = \"rowNumber\" style = \"font-weight: bold; text-align: right;\">5</td><td style = \"text-align: right;\">50</td><td style = \"text-align: right;\">10000</td><td style = \"text-align: right;\">5.18471e21</td><td style = \"text-align: right;\">5.18471e21</td><td style = \"text-align: right;\">-9.43718e6</td></tr><tr><td class = \"rowNumber\" style = \"font-weight: bold; text-align: right;\">6</td><td style = \"text-align: right;\">100</td><td style = \"text-align: right;\">10000</td><td style = \"text-align: right;\">2.68812e43</td><td style = \"text-align: right;\">2.68812e43</td><td style = \"text-align: right;\">-1.48553e28</td></tr><tr><td class = \"rowNumber\" style = \"font-weight: bold; text-align: right;\">7</td><td style = \"text-align: right;\">-10</td><td style = \"text-align: right;\">1000</td><td style = \"text-align: right;\">4.53999e-5</td><td style = \"text-align: right;\">4.53999e-5</td><td style = \"text-align: right;\">9.20846e-14</td></tr><tr><td class = \"rowNumber\" style = \"font-weight: bold; text-align: right;\">8</td><td style = \"text-align: right;\">-25</td><td style = \"text-align: right;\">1000</td><td style = \"text-align: right;\">1.38879e-11</td><td style = \"text-align: right;\">8.18128e-7</td><td style = \"text-align: right;\">-8.18114e-7</td></tr><tr><td class = \"rowNumber\" style = \"font-weight: bold; text-align: right;\">9</td><td style = \"text-align: right;\">-50</td><td style = \"text-align: right;\">10000</td><td style = \"text-align: right;\">1.92875e-22</td><td style = \"text-align: right;\">2041.83</td><td style = \"text-align: right;\">-2041.83</td></tr><tr><td class = \"rowNumber\" style = \"font-weight: bold; text-align: right;\">10</td><td style = \"text-align: right;\">-100</td><td style = \"text-align: right;\">10000</td><td style = \"text-align: right;\">3.72008e-44</td><td style = \"text-align: right;\">8.14465e25</td><td style = \"text-align: right;\">-8.14465e25</td></tr></tbody></table></div>"
      ],
      "text/latex": [
       "\\begin{tabular}{r|ccccc}\n",
       "\t& x & max\\_iter & eˣ & result & diff\\\\\n",
       "\t\\hline\n",
       "\t& Int64 & Int64 & Float64 & Float64 & Float64\\\\\n",
       "\t\\hline\n",
       "\t1 & 0 & 10 & 1.0 & 1.0 & 0.0 \\\\\n",
       "\t2 & 1 & 100 & 2.71828 & 2.71828 & -4.44089e-16 \\\\\n",
       "\t3 & 10 & 1000 & 22026.5 & 22026.5 & 3.63798e-12 \\\\\n",
       "\t4 & 25 & 1000 & 7.20049e10 & 7.20049e10 & -3.05176e-5 \\\\\n",
       "\t5 & 50 & 10000 & 5.18471e21 & 5.18471e21 & -9.43718e6 \\\\\n",
       "\t6 & 100 & 10000 & 2.68812e43 & 2.68812e43 & -1.48553e28 \\\\\n",
       "\t7 & -10 & 1000 & 4.53999e-5 & 4.53999e-5 & 9.20846e-14 \\\\\n",
       "\t8 & -25 & 1000 & 1.38879e-11 & 8.18128e-7 & -8.18114e-7 \\\\\n",
       "\t9 & -50 & 10000 & 1.92875e-22 & 2041.83 & -2041.83 \\\\\n",
       "\t10 & -100 & 10000 & 3.72008e-44 & 8.14465e25 & -8.14465e25 \\\\\n",
       "\\end{tabular}\n"
      ],
      "text/plain": [
       "\u001b[1m10×5 DataFrame\u001b[0m\n",
       "\u001b[1m Row \u001b[0m│\u001b[1m x     \u001b[0m\u001b[1m max_iter \u001b[0m\u001b[1m eˣ              \u001b[0m\u001b[1m result         \u001b[0m\u001b[1m diff            \u001b[0m\n",
       "     │\u001b[90m Int64 \u001b[0m\u001b[90m Int64    \u001b[0m\u001b[90m Float64         \u001b[0m\u001b[90m Float64        \u001b[0m\u001b[90m Float64         \u001b[0m\n",
       "─────┼───────────────────────────────────────────────────────────────────\n",
       "   1 │     0        10      1.0              1.0             0.0\n",
       "   2 │     1       100      2.71828          2.71828        -4.44089e-16\n",
       "   3 │    10      1000  22026.5          22026.5             3.63798e-12\n",
       "   4 │    25      1000      7.20049e10       7.20049e10     -3.05176e-5\n",
       "   5 │    50     10000      5.18471e21       5.18471e21     -9.43718e6\n",
       "   6 │   100     10000      2.68812e43       2.68812e43     -1.48553e28\n",
       "   7 │   -10      1000      4.53999e-5       4.53999e-5      9.20846e-14\n",
       "   8 │   -25      1000      1.38879e-11      8.18128e-7     -8.18114e-7\n",
       "   9 │   -50     10000      1.92875e-22   2041.83        -2041.83\n",
       "  10 │  -100     10000      3.72008e-44      8.14465e25     -8.14465e25"
      ]
     },
     "execution_count": 31,
     "metadata": {},
     "output_type": "execute_result"
    }
   ],
   "source": [
    "DataFrame(my_exp.([0,1,10,25,50,100,-10,-25,-50,-100],[10,100,1000,1000,10000,10000,1000,1000,10000,10000]))"
   ]
  },
  {
   "cell_type": "code",
   "execution_count": 32,
   "metadata": {},
   "outputs": [
    {
     "data": {
      "text/plain": [
       "my_exp_better (generic function with 2 methods)"
      ]
     },
     "execution_count": 32,
     "metadata": {},
     "output_type": "execute_result"
    }
   ],
   "source": [
    "# better solution\n",
    "function my_exp_better(x, max_iter = 1000)\n",
    "    result = 1;\n",
    "    tmp = 1;\n",
    "    for k = 1:max_iter\n",
    "        tmp *= abs(x)/k;\n",
    "        result += tmp;\n",
    "    end\n",
    "    if (x < 0)\n",
    "        result = 1/result;\n",
    "    end\n",
    "    result_tuple = (x, max_iter, eˣ=exp(x), result, diff=(exp(x) - result))\n",
    "    return result_tuple\n",
    "end"
   ]
  },
  {
   "cell_type": "code",
   "execution_count": 33,
   "metadata": {},
   "outputs": [
    {
     "data": {
      "text/html": [
       "<div><div style = \"float: left;\"><span>10×5 DataFrame</span></div><div style = \"clear: both;\"></div></div><div class = \"data-frame\" style = \"overflow-x: scroll;\"><table class = \"data-frame\" style = \"margin-bottom: 6px;\"><thead><tr class = \"header\"><th class = \"rowNumber\" style = \"font-weight: bold; text-align: right;\">Row</th><th style = \"text-align: left;\">x</th><th style = \"text-align: left;\">max_iter</th><th style = \"text-align: left;\">eˣ</th><th style = \"text-align: left;\">result</th><th style = \"text-align: left;\">diff</th></tr><tr class = \"subheader headerLastRow\"><th class = \"rowNumber\" style = \"font-weight: bold; text-align: right;\"></th><th title = \"Int64\" style = \"text-align: left;\">Int64</th><th title = \"Int64\" style = \"text-align: left;\">Int64</th><th title = \"Float64\" style = \"text-align: left;\">Float64</th><th title = \"Float64\" style = \"text-align: left;\">Float64</th><th title = \"Float64\" style = \"text-align: left;\">Float64</th></tr></thead><tbody><tr><td class = \"rowNumber\" style = \"font-weight: bold; text-align: right;\">1</td><td style = \"text-align: right;\">0</td><td style = \"text-align: right;\">10</td><td style = \"text-align: right;\">1.0</td><td style = \"text-align: right;\">1.0</td><td style = \"text-align: right;\">0.0</td></tr><tr><td class = \"rowNumber\" style = \"font-weight: bold; text-align: right;\">2</td><td style = \"text-align: right;\">1</td><td style = \"text-align: right;\">100</td><td style = \"text-align: right;\">2.71828</td><td style = \"text-align: right;\">2.71828</td><td style = \"text-align: right;\">-4.44089e-16</td></tr><tr><td class = \"rowNumber\" style = \"font-weight: bold; text-align: right;\">3</td><td style = \"text-align: right;\">10</td><td style = \"text-align: right;\">1000</td><td style = \"text-align: right;\">22026.5</td><td style = \"text-align: right;\">22026.5</td><td style = \"text-align: right;\">3.63798e-12</td></tr><tr><td class = \"rowNumber\" style = \"font-weight: bold; text-align: right;\">4</td><td style = \"text-align: right;\">25</td><td style = \"text-align: right;\">1000</td><td style = \"text-align: right;\">7.20049e10</td><td style = \"text-align: right;\">7.20049e10</td><td style = \"text-align: right;\">-3.05176e-5</td></tr><tr><td class = \"rowNumber\" style = \"font-weight: bold; text-align: right;\">5</td><td style = \"text-align: right;\">50</td><td style = \"text-align: right;\">10000</td><td style = \"text-align: right;\">5.18471e21</td><td style = \"text-align: right;\">5.18471e21</td><td style = \"text-align: right;\">-9.43718e6</td></tr><tr><td class = \"rowNumber\" style = \"font-weight: bold; text-align: right;\">6</td><td style = \"text-align: right;\">100</td><td style = \"text-align: right;\">10000</td><td style = \"text-align: right;\">2.68812e43</td><td style = \"text-align: right;\">2.68812e43</td><td style = \"text-align: right;\">-1.48553e28</td></tr><tr><td class = \"rowNumber\" style = \"font-weight: bold; text-align: right;\">7</td><td style = \"text-align: right;\">-10</td><td style = \"text-align: right;\">1000</td><td style = \"text-align: right;\">4.53999e-5</td><td style = \"text-align: right;\">4.53999e-5</td><td style = \"text-align: right;\">0.0</td></tr><tr><td class = \"rowNumber\" style = \"font-weight: bold; text-align: right;\">8</td><td style = \"text-align: right;\">-25</td><td style = \"text-align: right;\">1000</td><td style = \"text-align: right;\">1.38879e-11</td><td style = \"text-align: right;\">1.38879e-11</td><td style = \"text-align: right;\">8.07794e-27</td></tr><tr><td class = \"rowNumber\" style = \"font-weight: bold; text-align: right;\">9</td><td style = \"text-align: right;\">-50</td><td style = \"text-align: right;\">10000</td><td style = \"text-align: right;\">1.92875e-22</td><td style = \"text-align: right;\">1.92875e-22</td><td style = \"text-align: right;\">3.29138e-37</td></tr><tr><td class = \"rowNumber\" style = \"font-weight: bold; text-align: right;\">10</td><td style = \"text-align: right;\">-100</td><td style = \"text-align: right;\">10000</td><td style = \"text-align: right;\">3.72008e-44</td><td style = \"text-align: right;\">3.72008e-44</td><td style = \"text-align: right;\">2.48921e-59</td></tr></tbody></table></div>"
      ],
      "text/latex": [
       "\\begin{tabular}{r|ccccc}\n",
       "\t& x & max\\_iter & eˣ & result & diff\\\\\n",
       "\t\\hline\n",
       "\t& Int64 & Int64 & Float64 & Float64 & Float64\\\\\n",
       "\t\\hline\n",
       "\t1 & 0 & 10 & 1.0 & 1.0 & 0.0 \\\\\n",
       "\t2 & 1 & 100 & 2.71828 & 2.71828 & -4.44089e-16 \\\\\n",
       "\t3 & 10 & 1000 & 22026.5 & 22026.5 & 3.63798e-12 \\\\\n",
       "\t4 & 25 & 1000 & 7.20049e10 & 7.20049e10 & -3.05176e-5 \\\\\n",
       "\t5 & 50 & 10000 & 5.18471e21 & 5.18471e21 & -9.43718e6 \\\\\n",
       "\t6 & 100 & 10000 & 2.68812e43 & 2.68812e43 & -1.48553e28 \\\\\n",
       "\t7 & -10 & 1000 & 4.53999e-5 & 4.53999e-5 & 0.0 \\\\\n",
       "\t8 & -25 & 1000 & 1.38879e-11 & 1.38879e-11 & 8.07794e-27 \\\\\n",
       "\t9 & -50 & 10000 & 1.92875e-22 & 1.92875e-22 & 3.29138e-37 \\\\\n",
       "\t10 & -100 & 10000 & 3.72008e-44 & 3.72008e-44 & 2.48921e-59 \\\\\n",
       "\\end{tabular}\n"
      ],
      "text/plain": [
       "\u001b[1m10×5 DataFrame\u001b[0m\n",
       "\u001b[1m Row \u001b[0m│\u001b[1m x     \u001b[0m\u001b[1m max_iter \u001b[0m\u001b[1m eˣ              \u001b[0m\u001b[1m result          \u001b[0m\u001b[1m diff         \u001b[0m\n",
       "     │\u001b[90m Int64 \u001b[0m\u001b[90m Int64    \u001b[0m\u001b[90m Float64         \u001b[0m\u001b[90m Float64         \u001b[0m\u001b[90m Float64      \u001b[0m\n",
       "─────┼─────────────────────────────────────────────────────────────────\n",
       "   1 │     0        10      1.0              1.0           0.0\n",
       "   2 │     1       100      2.71828          2.71828      -4.44089e-16\n",
       "   3 │    10      1000  22026.5          22026.5           3.63798e-12\n",
       "   4 │    25      1000      7.20049e10       7.20049e10   -3.05176e-5\n",
       "   5 │    50     10000      5.18471e21       5.18471e21   -9.43718e6\n",
       "   6 │   100     10000      2.68812e43       2.68812e43   -1.48553e28\n",
       "   7 │   -10      1000      4.53999e-5       4.53999e-5    0.0\n",
       "   8 │   -25      1000      1.38879e-11      1.38879e-11   8.07794e-27\n",
       "   9 │   -50     10000      1.92875e-22      1.92875e-22   3.29138e-37\n",
       "  10 │  -100     10000      3.72008e-44      3.72008e-44   2.48921e-59"
      ]
     },
     "execution_count": 33,
     "metadata": {},
     "output_type": "execute_result"
    }
   ],
   "source": [
    "DataFrame(my_exp_better.([0,1,10,25,50,100,-10,-25,-50,-100],[10,100,1000,1000,10000,10000,1000,1000,10000,10000]))"
   ]
  },
  {
   "cell_type": "markdown",
   "metadata": {},
   "source": [
    "*Preparation of this workshop has been supported by the Polish National Agency for Academic Exchange under the Strategic Partnerships programme, grant number BPI/PST/2021/1/00069/U/00001.*\n",
    "\n",
    "![SGH & NAWA](logo.png)"
   ]
  }
 ],
 "metadata": {
  "kernelspec": {
   "display_name": "Julia 1.10.0",
   "language": "julia",
   "name": "julia-1.10"
  },
  "language_info": {
   "file_extension": ".jl",
   "mimetype": "application/julia",
   "name": "julia",
   "version": "1.10.0"
  }
 },
 "nbformat": 4,
 "nbformat_minor": 4
}
