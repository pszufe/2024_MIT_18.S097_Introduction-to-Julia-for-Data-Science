{
 "cells": [
  {
   "cell_type": "markdown",
   "id": "86e83182",
   "metadata": {},
   "source": [
    "# Solving Optimization Problems\n",
    "\n",
    "## Przemysław Szufel"
   ]
  },
  {
   "cell_type": "code",
   "execution_count": 53,
   "id": "a42f729f",
   "metadata": {},
   "outputs": [
    {
     "name": "stdout",
     "output_type": "stream",
     "text": [
      "Julia Version 1.8.5\n",
      "Commit 17cfb8e65e (2023-01-08 06:45 UTC)\n",
      "Platform Info:\n",
      "  OS: Windows (x86_64-w64-mingw32)\n",
      "  CPU: 16 × 12th Gen Intel(R) Core(TM) i7-1260P\n",
      "  WORD_SIZE: 64\n",
      "  LIBM: libopenlibm\n",
      "  LLVM: libLLVM-13.0.1 (ORCJIT, goldmont)\n",
      "  Threads: 1 on 16 virtual cores\n",
      "Environment:\n",
      "  JULIA_DEPOT_PATH = C:\\JuliaPkg\\Julia-1.8.5\n",
      "  JULIA_HOME = c:\\Julia-1.8.5\n",
      "  JULIA_VER = Julia-1.8.5\n"
     ]
    }
   ],
   "source": [
    "versioninfo()"
   ]
  },
  {
   "cell_type": "code",
   "execution_count": 54,
   "id": "df2ead98",
   "metadata": {
    "scrolled": true
   },
   "outputs": [
    {
     "name": "stdout",
     "output_type": "stream",
     "text": [
      "Min 50 x₁ + 70 x₂\n",
      "Subject to\n",
      " 200 x₁ + 2000 x₂ >= 9000.0\n",
      " 100 x₁ + 30 x₂ >= 300.0\n",
      " 9 x₁ + 11 x₂ >= 60.0\n",
      " x₁ >= 0.0\n",
      " x₂ >= 0.0\n",
      "\n"
     ]
    }
   ],
   "source": [
    "using JuMP, HiGHS\n",
    "m = Model(HiGHS.Optimizer)\n",
    "@variable(m,  x₁ >= 0)\n",
    "@variable(m,  x₂ >= 0)\n",
    "@objective(m, Min, 50x₁ + 70x₂)\n",
    "@constraint(m, 200x₁ + 2000x₂ >= 9000)\n",
    "@constraint(m, 100x₁ +   30x₂ >=  300)\n",
    "@constraint(m, 9x₁   +   11x₂ >=   60)\n",
    "println(m)"
   ]
  },
  {
   "cell_type": "code",
   "execution_count": 55,
   "id": "e9b80c7f",
   "metadata": {},
   "outputs": [
    {
     "data": {
      "text/plain": [
       "A JuMP Model\n",
       "Minimization problem with:\n",
       "Variables: 2\n",
       "Objective function type: AffExpr\n",
       "`AffExpr`-in-`MathOptInterface.GreaterThan{Float64}`: 3 constraints\n",
       "`VariableRef`-in-`MathOptInterface.GreaterThan{Float64}`: 2 constraints\n",
       "Model mode: AUTOMATIC\n",
       "CachingOptimizer state: EMPTY_OPTIMIZER\n",
       "Solver name: HiGHS\n",
       "Names registered in the model: x₁, x₂"
      ]
     },
     "execution_count": 55,
     "metadata": {},
     "output_type": "execute_result"
    }
   ],
   "source": [
    "m"
   ]
  },
  {
   "cell_type": "code",
   "execution_count": 56,
   "id": "198aa3e7",
   "metadata": {
    "scrolled": true
   },
   "outputs": [
    {
     "name": "stdout",
     "output_type": "stream",
     "text": [
      "Running HiGHS 1.4.0 [date: 1970-01-01, git hash: bcf6c0b22]\n",
      "Copyright (c) 2022 ERGO-Code under MIT licence terms\n",
      "Presolving model\n",
      "3 rows, 2 cols, 6 nonzeros\n",
      "3 rows, 2 cols, 6 nonzeros\n",
      "Presolve : Reductions: rows 3(-0); columns 2(-0); elements 6(-0) - Not reduced\n",
      "Problem not reduced by presolve: solving the LP\n",
      "Using EKK dual simplex solver - serial\n",
      "  Iteration        Objective     Infeasibilities num(sum)\n",
      "          0     0.0000000000e+00 Pr: 3(2205) 0s\n",
      "          2     3.8814432990e+02 Pr: 0(0) 0s\n",
      "Model   status      : Optimal\n",
      "Simplex   iterations: 2\n",
      "Objective value     :  3.8814432990e+02\n",
      "HiGHS run time      :          0.01\n"
     ]
    },
    {
     "data": {
      "text/plain": [
       "2-element Vector{Float64}:\n",
       " 1.7010309278350515\n",
       " 4.329896907216495"
      ]
     },
     "execution_count": 56,
     "metadata": {},
     "output_type": "execute_result"
    }
   ],
   "source": [
    "optimize!(m)"
   ]
  },
  {
   "cell_type": "code",
   "execution_count": 57,
   "id": "c80dc637",
   "metadata": {},
   "outputs": [
    {
     "data": {
      "text/plain": [
       "2-element Vector{Float64}:\n",
       " 1.7010309278350515\n",
       " 4.329896907216495"
      ]
     },
     "execution_count": 57,
     "metadata": {},
     "output_type": "execute_result"
    }
   ],
   "source": [
    "value.([x₁,x₂])"
   ]
  },
  {
   "cell_type": "markdown",
   "id": "186a3d22",
   "metadata": {},
   "source": [
    "The same model as above but now the decision variables are expected to be integers"
   ]
  },
  {
   "cell_type": "code",
   "execution_count": 58,
   "id": "54ec101b",
   "metadata": {},
   "outputs": [
    {
     "name": "stdout",
     "output_type": "stream",
     "text": [
      "Min 50 x₁ + 70 x₂\n",
      "Subject to\n",
      " 200 x₁ + 2000 x₂ >= 9000.0\n",
      " 100 x₁ + 30 x₂ >= 300.0\n",
      " 9 x₁ + 11 x₂ >= 60.0\n",
      " x₁ >= 0.0\n",
      " x₂ >= 0.0\n",
      " x₁ <= 100.0\n",
      " x₂ <= 110.0\n",
      " x₁ integer\n",
      " x₂ integer\n",
      "\n"
     ]
    }
   ],
   "source": [
    "m = Model(HiGHS.Optimizer)\n",
    "@variable(m, 100 >= x₁ >= 0, Int)\n",
    "@variable(m, 110 >= x₂ >= 0, Int)\n",
    "@objective(m, Min, 50x₁ + 70x₂)\n",
    "@constraint(m, 200x₁ + 2000x₂ >= 9000)\n",
    "@constraint(m, 100x₁ +   30x₂ >=  300)\n",
    "@constraint(m, 9x₁   +   11x₂ >=   60)\n",
    "println(m)"
   ]
  },
  {
   "cell_type": "code",
   "execution_count": 59,
   "id": "34102baa",
   "metadata": {},
   "outputs": [
    {
     "name": "stdout",
     "output_type": "stream",
     "text": [
      "Running HiGHS 1.4.0 [date: 1970-01-01, git hash: bcf6c0b22]\n",
      "Copyright (c) 2022 ERGO-Code under MIT licence terms\n",
      "Presolving model\n",
      "3 rows, 2 cols, 6 nonzeros\n",
      "3 rows, 2 cols, 6 nonzeros\n",
      "Objective function is integral with scale 0.1\n",
      "\n",
      "Solving MIP model with:\n",
      "   3 rows\n",
      "   2 cols (0 binary, 2 integer, 0 implied int., 0 continuous)\n",
      "   6 nonzeros\n",
      "\n",
      "        Nodes      |    B&B Tree     |            Objective Bounds              |  Dynamic Constraints |       Work      \n",
      "     Proc. InQueue |  Leaves   Expl. | BestBound       BestSol              Gap |   Cuts   InLp Confl. | LpIters     Time\n",
      "\n",
      "         0       0         0   0.00%   0               inf                  inf        0      0      0         0     0.0s\n",
      "\n",
      "Solving report\n",
      "  Status            Optimal\n",
      "  Primal bound      450\n",
      "  Dual bound        450\n",
      "  Gap               0% (tolerance: 0.01%)\n",
      "  Solution status   feasible\n",
      "                    450 (objective)\n",
      "                    0 (bound viol.)\n",
      "                    0 (int. viol.)\n",
      "                    0 (row viol.)\n",
      "  Timing            0.00 (total)\n",
      "                    0.00 (presolve)\n",
      "                    0.00 (postsolve)\n",
      "  Nodes             1\n",
      "  LP iterations     2 (total)\n",
      "                    0 (strong br.)\n",
      "                    0 (separation)\n",
      "                    0 (heuristics)\n"
     ]
    }
   ],
   "source": [
    "optimize!(m)\n"
   ]
  },
  {
   "cell_type": "code",
   "execution_count": 60,
   "id": "a368bc9c",
   "metadata": {},
   "outputs": [
    {
     "data": {
      "text/plain": [
       "2-element Vector{Float64}:\n",
       " 2.0\n",
       " 5.0"
      ]
     },
     "execution_count": 60,
     "metadata": {},
     "output_type": "execute_result"
    }
   ],
   "source": [
    "JuMP.value.([x₁,x₂])\n",
    "\n"
   ]
  },
  {
   "cell_type": "code",
   "execution_count": 61,
   "id": "35d60dee",
   "metadata": {},
   "outputs": [
    {
     "data": {
      "text/plain": [
       "2-element Vector{Int64}:\n",
       " 2\n",
       " 5"
      ]
     },
     "execution_count": 61,
     "metadata": {},
     "output_type": "execute_result"
    }
   ],
   "source": [
    "#1.9999999999999\n",
    "round.(Int, value.([x₁,x₂]))"
   ]
  },
  {
   "cell_type": "markdown",
   "id": "fc5ad00c",
   "metadata": {},
   "source": [
    "What are those `@` macros we are seeing around?"
   ]
  },
  {
   "cell_type": "code",
   "execution_count": 62,
   "id": "de2d3bdc",
   "metadata": {
    "scrolled": true
   },
   "outputs": [
    {
     "data": {
      "text/plain": [
       ":(x = 5)"
      ]
     },
     "execution_count": 62,
     "metadata": {},
     "output_type": "execute_result"
    }
   ],
   "source": [
    "code = Meta.parse(\"x=5\")"
   ]
  },
  {
   "cell_type": "code",
   "execution_count": 63,
   "id": "bbe59b0f",
   "metadata": {},
   "outputs": [
    {
     "name": "stdout",
     "output_type": "stream",
     "text": [
      "Expr\n",
      "  head: Symbol =\n",
      "  args: Array{Any}((2,))\n",
      "    1: Symbol x\n",
      "    2: Int64 5\n"
     ]
    }
   ],
   "source": [
    "dump(code)"
   ]
  },
  {
   "cell_type": "code",
   "execution_count": null,
   "id": "2a7a78fa",
   "metadata": {},
   "outputs": [],
   "source": [
    ":somysymbolname"
   ]
  },
  {
   "cell_type": "code",
   "execution_count": null,
   "id": "1026cb07",
   "metadata": {},
   "outputs": [],
   "source": [
    "dump(code)"
   ]
  },
  {
   "cell_type": "code",
   "execution_count": 64,
   "id": "a41abf0c",
   "metadata": {},
   "outputs": [
    {
     "data": {
      "text/plain": [
       "5"
      ]
     },
     "execution_count": 64,
     "metadata": {},
     "output_type": "execute_result"
    }
   ],
   "source": [
    "eval(code)"
   ]
  },
  {
   "cell_type": "code",
   "execution_count": 65,
   "id": "614bd7d7",
   "metadata": {},
   "outputs": [
    {
     "data": {
      "text/plain": [
       "5"
      ]
     },
     "execution_count": 65,
     "metadata": {},
     "output_type": "execute_result"
    }
   ],
   "source": [
    "x"
   ]
  },
  {
   "cell_type": "code",
   "execution_count": 66,
   "id": "33d4266a",
   "metadata": {},
   "outputs": [
    {
     "data": {
      "text/plain": [
       "@sayhello (macro with 1 method)"
      ]
     },
     "execution_count": 66,
     "metadata": {},
     "output_type": "execute_result"
    }
   ],
   "source": [
    "macro sayhello(name)\n",
    "    println(\"Code is being generated\")\n",
    "    return :( println(\"Hello, \", $name) )\n",
    "end"
   ]
  },
  {
   "cell_type": "code",
   "execution_count": 67,
   "id": "2dc3ff16",
   "metadata": {},
   "outputs": [
    {
     "name": "stdout",
     "output_type": "stream",
     "text": [
      "Code is being generated\n",
      "Hello, John\n",
      "  0.000737 seconds (130 allocations: 9.633 KiB)\n"
     ]
    }
   ],
   "source": [
    "@time @sayhello(\"John\")"
   ]
  },
  {
   "cell_type": "code",
   "execution_count": 68,
   "id": "033ad0bd",
   "metadata": {},
   "outputs": [
    {
     "name": "stdout",
     "output_type": "stream",
     "text": [
      "Code is being generated\n",
      "Hello, John\n",
      "  0.000640 seconds (22 allocations: 672 bytes)\n"
     ]
    }
   ],
   "source": [
    "@time @sayhello(\"John\")"
   ]
  },
  {
   "cell_type": "code",
   "execution_count": 69,
   "id": "0c420460",
   "metadata": {
    "scrolled": true
   },
   "outputs": [
    {
     "name": "stdout",
     "output_type": "stream",
     "text": [
      "Code is being generated\n"
     ]
    },
    {
     "data": {
      "text/plain": [
       ":(Main.println(\"Hello, \", \"John\"))"
      ]
     },
     "execution_count": 69,
     "metadata": {},
     "output_type": "execute_result"
    }
   ],
   "source": [
    "@macroexpand @sayhello(\"John\")"
   ]
  },
  {
   "cell_type": "code",
   "execution_count": 70,
   "id": "d235fb4a",
   "metadata": {},
   "outputs": [
    {
     "name": "stdout",
     "output_type": "stream",
     "text": [
      "Code is being generated\n",
      "Main.println(\"Hello, \", \"John\")\n"
     ]
    }
   ],
   "source": [
    "println(@macroexpand @sayhello(\"John\"))"
   ]
  },
  {
   "cell_type": "code",
   "execution_count": null,
   "id": "4d84d144",
   "metadata": {},
   "outputs": [],
   "source": [
    "@sayhello(\"John\")"
   ]
  },
  {
   "cell_type": "code",
   "execution_count": 71,
   "id": "ed64558b",
   "metadata": {},
   "outputs": [
    {
     "name": "stdout",
     "output_type": "stream",
     "text": [
      "begin\n",
      "    \u001b[90m#= In[71]:1 =#\u001b[39m\n",
      "    JuMP._valid_model(m, :m)\n",
      "    begin\n",
      "        \u001b[90m#= C:\\JuliaPkg\\Julia-1.8.5\\packages\\JuMP\\vuP7I\\src\\macros.jl:130 =#\u001b[39m\n",
      "        JuMP._error_if_cannot_register(m, :x₁)\n",
      "        \u001b[90m#= C:\\JuliaPkg\\Julia-1.8.5\\packages\\JuMP\\vuP7I\\src\\macros.jl:138 =#\u001b[39m\n",
      "        var\"#765###577\" = JuMP.add_variable(m, JuMP.build_variable(JuMP.var\"#_error#127\"{LineNumberNode}(:(\u001b[90m#= In[71]:1 =#\u001b[39m), Core.Box((:m, :(x₁ >= 0)))), JuMP.VariableInfo(true, 0, false, NaN, false, NaN, false, NaN, false, false)), if JuMP.set_string_names_on_creation(m)\n",
      "                    \"x₁\"\n",
      "                else\n",
      "                    \"\"\n",
      "                end)\n",
      "        \u001b[90m#= C:\\JuliaPkg\\Julia-1.8.5\\packages\\JuMP\\vuP7I\\src\\macros.jl:139 =#\u001b[39m\n",
      "        m[:x₁] = var\"#765###577\"\n",
      "        \u001b[90m#= C:\\JuliaPkg\\Julia-1.8.5\\packages\\JuMP\\vuP7I\\src\\macros.jl:145 =#\u001b[39m\n",
      "        x₁ = var\"#765###577\"\n",
      "    end\n",
      "end\n"
     ]
    }
   ],
   "source": [
    "println(@macroexpand @variable(m, x₁ >= 0));"
   ]
  },
  {
   "cell_type": "code",
   "execution_count": 72,
   "id": "ced14b04",
   "metadata": {},
   "outputs": [],
   "source": [
    "using Calculus"
   ]
  },
  {
   "cell_type": "code",
   "execution_count": 74,
   "id": "4e6e619f",
   "metadata": {},
   "outputs": [
    {
     "data": {
      "text/plain": [
       ":(sin(x) + x * x + 5x)"
      ]
     },
     "execution_count": 74,
     "metadata": {},
     "output_type": "execute_result"
    }
   ],
   "source": [
    "Meta.parse(\"(sin(x) + x*x+5x)\")"
   ]
  },
  {
   "cell_type": "code",
   "execution_count": 76,
   "id": "1f3b63ce",
   "metadata": {},
   "outputs": [
    {
     "name": "stdout",
     "output_type": "stream",
     "text": [
      ":(sin(x) + x * x + 5x)\n",
      "├─ :+\n",
      "├─ :(sin(x))\n",
      "│  ├─ :sin\n",
      "│  └─ :x\n",
      "├─ :(x * x)\n",
      "│  ├─ :*\n",
      "│  ├─ :x\n",
      "│  └─ :x\n",
      "└─ :(5x)\n",
      "   ├─ :*\n",
      "   ├─ 5\n",
      "   └─ :x\n"
     ]
    }
   ],
   "source": [
    "using AbstractTrees\n",
    "AbstractTrees.print_tree(:(sin(x) + x*x+5x))"
   ]
  },
  {
   "cell_type": "code",
   "execution_count": 77,
   "id": "03ed659a",
   "metadata": {},
   "outputs": [
    {
     "name": "stdout",
     "output_type": "stream",
     "text": [
      ":(1 * cos(x) + (1x + x * 1) + (0 * x + 5 * 1))\n",
      "├─ :+\n",
      "├─ :(1 * cos(x))\n",
      "│  ├─ :*\n",
      "│  ├─ 1\n",
      "│  └─ :(cos(x))\n",
      "│     ├─ :cos\n",
      "│     └─ :x\n",
      "├─ :(1x + x * 1)\n",
      "│  ├─ :+\n",
      "│  ├─ :(1x)\n",
      "│  │  ├─ :*\n",
      "│  │  ├─ 1\n",
      "│  │  └─ :x\n",
      "│  └─ :(x * 1)\n",
      "│     ├─ :*\n",
      "│     ├─ :x\n",
      "│     └─ 1\n",
      "└─ :(0 * x + 5 * 1)\n",
      "   ├─ :+\n",
      "   ├─ :(0 * x)\n",
      "   │  ├─ :*\n",
      "   │  ├─ 0\n",
      "   │  └─ :x\n",
      "   └─ :(5 * 1)\n",
      "      ├─ :*\n",
      "      ├─ 5\n",
      "      └─ 1\n"
     ]
    }
   ],
   "source": [
    "AbstractTrees.print_tree(differentiate(:(sin(x) + x*x+5x)))"
   ]
  },
  {
   "cell_type": "markdown",
   "id": "1eaa4d4f",
   "metadata": {},
   "source": [
    "### Subway optimization"
   ]
  },
  {
   "cell_type": "code",
   "execution_count": 78,
   "id": "371dfca6",
   "metadata": {},
   "outputs": [],
   "source": [
    "using JuMP, HiGHS\n",
    "using DelimitedFiles"
   ]
  },
  {
   "cell_type": "code",
   "execution_count": 79,
   "id": "55f06020",
   "metadata": {},
   "outputs": [],
   "source": [
    "S = 18   # number of warehouses\n",
    "D = 100  # number of restaurants\n",
    "supply = fill(100,S)\n",
    "demand = fill(15,D);"
   ]
  },
  {
   "cell_type": "code",
   "execution_count": 80,
   "id": "e81870c2",
   "metadata": {},
   "outputs": [],
   "source": [
    "dat=\"\"\"21328\t7901\t16774\t24413\t14131\t21551\t15742\t21091\t25167\t3266\t19312\t14878\t22914\t18392\t14514\t21072\t11535\t12965\t12952\t12952\t15839\t27836\t16816\t13527\t13769\t4924\t23891\t26532\t10245\t15446\t16834\t11421\t27231\t20285\t25810\t12477\t16499\t26958\t23770\t32327\t23572\t26475\t23894\t2054\t22156\t28491\t2392\t21051\t18793\t14598\t9413\t8004\t14286\t8717\t24919\t27581\t21829\t26135\t33450\t4905\t18558\t23046\t9212\t20923\t6426\t20020\t24644\t10862\t12351\t16446\t7751\t19819\t17406\t16768\t9319\t17584\t8191\t18776\t22432\t20389\t25377\t3129\t22425\t6899\t16830\t12305\t3393\t24579\t16727\t21086\t30660\t26999\t29664\t26436\t26138\t28183\t20874\t30143\t30419\t29718\n",
    "5195\t15055\t4216\t9295\t6050\t4779\t3641\t15102\t8395\t16829\t5224\t3595\t14177\t1684\t2753\t4300\t5469\t4233\t3962\t3962\t3039\t13176\t12595\t4764\t5428\t12767\t7119\t11115\t6960\t1597\t1173\t5848\t26351\t10941\t19927\t7174\t13542\t11015\t6998\t18198\t18270\t9703\t7376\t15867\t21981\t12387\t19029\t6936\t9170\t15206\t7748\t8933\t11906\t12823\t24031\t21698\t8083\t11432\t18205\t18548\t17558\t25919\t10027\t7178\t10521\t19897\t29294\t15136\t13659\t10764\t18656\t7135\t9574\t19550\t13973\t11620\t17524\t10944\t9910\t9940\t26373\t13762\t11058\t16154\t22702\t19728\t14022\t13212\t4280\t7563\t22298\t13152\t15728\t12308\t17068\t19554\t12880\t16313\t18674\t20915\n",
    "24025\t13295\t22003\t22254\t20379\t26418\t22859\t10495\t28761\t12735\t29656\t23437\t36220\t24616\t24042\t28477\t24395\t24758\t25121\t25121\t26548\t22646\t30633\t22842\t26491\t16326\t27452\t24373\t23067\t25325\t26551\t21542\t15677\t33471\t14651\t19634\t30316\t26735\t29375\t24969\t12413\t28023\t29753\t17066\t10602\t28267\t17790\t19925\t31979\t11657\t20017\t21593\t15001\t22657\t12101\t16422\t32830\t33810\t28260\t19918\t7961\t10227\t17414\t32204\t20070\t8789\t9898\t25254\t26654\t15742\t22269\t18946\t30636\t6105\t14423\t31182\t22709\t32007\t34792\t15723\t12559\t17643\t34786\t12754\t2900\t26823\t15171\t36939\t28008\t19237\t19501\t18955\t20687\t20740\t15099\t17024\t13131\t22051\t19380\t18559\n",
    "22508\t22014\t17954\t25593\t16490\t22230\t16922\t24989\t25524\t22994\t19299\t15807\t6155\t19098\t15443\t21468\t12730\t13765\t13698\t13698\t16518\t29016\t5152\t14712\t12407\t19272\t24570\t27712\t12077\t16125\t17442\t13516\t36239\t9317\t29815\t14836\t4483\t28138\t23911\t33506\t28157\t27086\t24005\t18712\t31869\t29670\t18413\t22231\t11140\t22962\t14736\t13031\t19351\t12074\t33919\t31585\t16632\t23191\t34630\t15865\t26772\t35807\t17273\t14708\t14646\t29784\t39182\t9608\t8373\t18948\t12547\t20876\t8411\t28622\t21042\t6315\t12007\t7728\t12270\t22466\t36261\t17719\t9635\t23113\t31385\t8204\t20527\t7661\t15899\t22181\t34494\t28057\t30721\t27616\t29264\t31749\t23716\t31201\t32314\t33111\n",
    "12913\t5006\t10217\t14089\t7574\t15206\t10375\t9595\t18453\t9762\t18403\t10736\t23395\t12829\t11221\t17256\t11328\t11937\t12300\t12300\t13779\t17052\t17405\t10020\t13666\t7932\t17144\t16209\t9839\t13158\t14563\t8314\t17138\t20646\t14521\t6406\t17088\t16684\t19067\t21542\t12283\t17714\t19445\t11789\t12768\t18217\t15071\t10777\t19154\t2717\t6596\t8172\t2025\t9318\t14805\t16292\t20943\t23502\t22666\t14640\t7256\t16706\t3917\t20037\t6821\t10026\t20081\t11915\t13233\t4235\t14855\t9053\t17812\t8378\t3697\t18089\t14029\t19182\t22625\t8169\t17147\t9683\t22619\t6321\t11174\t17884\t9520\t24772\t15841\t10116\t19371\t16003\t18668\t15652\t14502\t16894\t8883\t19148\t18556\t18349\n",
    "6281\t16514\t5753\t10410\t7509\t5795\t5099\t16782\t9308\t18288\t3312\t4999\t12625\t2798\t4158\t5230\t4648\t3949\t3341\t3341\t2010\t14262\t11741\t5686\t4491\t14172\t8135\t12202\t6139\t1903\t833\t7252\t28032\t9390\t21608\t8633\t12688\t12061\t7800\t19313\t19950\t10719\t7894\t15046\t23662\t13403\t18173\t8050\t7618\t16665\t9152\t8112\t13364\t11967\t25712\t23378\t6171\t10135\t19220\t17692\t19239\t27600\t11486\t5266\t9700\t21577\t30975\t14265\t12788\t12222\t17785\t8823\t8548\t21230\t15432\t10622\t16653\t9685\t7998\t11620\t28054\t12940\t9507\t17612\t24382\t18873\t15427\t11660\t3003\t8736\t23737\t14267\t16842\t13422\t18513\t21173\t14561\t17427\t19876\t22534\n",
    "4656\t19128\t9008\t4124\t11894\t5115\t10216\t15084\t4473\t23560\t7924\t11296\t21642\t8036\t12133\t5794\t14532\t13370\t13273\t13273\t12492\t5169\t21810\t12436\t14643\t21431\t3145\t2102\t16062\t11050\t9979\t14704\t26333\t18420\t19909\t13545\t22757\t1361\t5712\t10225\t18252\t3044\t6090\t24906\t21963\t2893\t28161\t5968\t16648\t16074\t16577\t18035\t13324\t21984\t24014\t21680\t11094\t10146\t8657\t27685\t17540\t25902\t17061\t12978\t19586\t19879\t29276\t24306\t22830\t12163\t27827\t7636\t18788\t19532\t17819\t20835\t26694\t20159\t15710\t9922\t26355\t22801\t18447\t20443\t22684\t28942\t22852\t20547\t13660\t6657\t21239\t9808\t12248\t7988\t16401\t19061\t12862\t10557\t16997\t20422\n",
    "16446\t6905\t14412\t14675\t11772\t18839\t14588\t7393\t21182\t11243\t22077\t14949\t27612\t17024\t15434\t20898\t15787\t16151\t16513\t16513\t17993\t16064\t22025\t14234\t17883\t9936\t19873\t16795\t14459\t17371\t18776\t12934\t14600\t24863\t12201\t11026\t21708\t19156\t21796\t20555\t9963\t20444\t22174\t13463\t10230\t20688\t16645\t12347\t23371\t2861\t11340\t12916\t6325\t14030\t12267\t13972\t25156\t26231\t21678\t16314\t4936\t12206\t8733\t24250\t11443\t6518\t15339\t16627\t17978\t7135\t16968\t11368\t22029\t3256\t5796\t22574\t17408\t23399\t26839\t8145\t14538\t11797\t26832\t8220\t6019\t21522\t11470\t28986\t20054\t11658\t17050\t15108\t17399\t14664\t12468\t14574\t6924\t18252\t16749\t16109\n",
    "12070\t11940\t10048\t10299\t8061\t14463\t10878\t2839\t16806\t16286\t17701\t11239\t23901\t12661\t11724\t16522\t12122\t12440\t12803\t12803\t14282\t11080\t18749\t10523\t14172\t14959\t15497\t12419\t11183\t13370\t14597\t9658\t14089\t21152\t7665\t7700\t18432\t14780\t17420\t15539\t6007\t16068\t17798\t18505\t9719\t16312\t21688\t7971\t19661\t5094\t10528\t12139\t5548\t16015\t11769\t9435\t20875\t21855\t16694\t21357\t5295\t13657\t10644\t20249\t13538\t7634\t17032\t18604\t17127\t3353\t21847\t6992\t18318\t7287\t10724\t18909\t20725\t19688\t22837\t3769\t14111\t16676\t22831\t13254\t10342\t24395\t16513\t24984\t16053\t7282\t12491\t9848\t12040\t9648\t7426\t9830\t1565\t12993\t11480\t11273\n",
    "10329\t23462\t13628\t6311\t16247\t10788\t14836\t14910\t7331\t27913\t13481\t15916\t27214\t13710\t16784\t11351\t19112\t17990\t17893\t17893\t18028\t2647\t26430\t16997\t19262\t25789\t8815\t4323\t20625\t16722\t15636\t19217\t26160\t23992\t19703\t17898\t27377\t4669\t9312\t5419\t18078\t5880\t9548\t29264\t21790\t5165\t32546\t9541\t22221\t17837\t20935\t22545\t17686\t26421\t23840\t21156\t16651\t13619\t3334\t32102\t17366\t25728\t21419\t18550\t23944\t19705\t29103\t28886\t27409\t15635\t32264\t11041\t23408\t19358\t22153\t25455\t31131\t24779\t21282\t11857\t26182\t27159\t24019\t24777\t22510\t33562\t27210\t26120\t19317\t9710\t19225\t7343\t9606\t5523\t14848\t17430\t12203\t7915\t14982\t18439\n",
    "9046\t7229\t6350\t10918\t3587\t11339\t6397\t7802\t14626\t11985\t14424\t6758\t19420\t8962\t7243\t13389\t7493\t7959\t8322\t8322\t9801\t14306\t13857\t6042\t9691\t10151\t13317\t13037\t6291\t9180\t10585\t4767\t19051\t16671\t12628\t2808\t13541\t13463\t15240\t18797\t10970\t13888\t15618\t13923\t14681\t14996\t17205\t7556\t15180\t6200\t5636\t7247\t2636\t11123\t16732\t14398\t16964\t19675\t19921\t16774\t9996\t18620\t5807\t16059\t8646\t12597\t21994\t13712\t12236\t1761\t16966\t5969\t13837\t11847\t5920\t14279\t15834\t15208\t18647\t5814\t19073\t11817\t18641\t8544\t14609\t19504\t11740\t20794\t11863\t7254\t17377\t13258\t15923\t12907\t12147\t14632\t6528\t16403\t16201\t15994\n",
    "4657\t14007\t4438\t3771\t6792\t7050\t5646\t9018\t9393\t18458\t10288\t6726\t19802\t5879\t7594\t9109\t9647\t8800\t8703\t8703\t8838\t7010\t17078\t7532\t10073\t16334\t8084\t5890\t11170\t7533\t8037\t9762\t20267\t16877\t13843\t8443\t18024\t7499\t10007\t11501\t12186\t8655\t10385\t19810\t15897\t9032\t23092\t475\t15105\t10063\t11480\t13090\t8130\t16966\t17948\t15614\t13462\t14442\t12625\t22647\t11474\t19836\t11964\t13509\t14489\t13813\t23210\t19421\t17945\t6236\t22809\t1641\t14219\t13466\t12699\t15994\t21677\t15589\t16241\t3856\t20289\t17704\t16993\t15322\t16618\t24210\t17755\t19147\t10215\t239\t15528\t6455\t8962\t5611\t10304\t12964\t6796\t9616\t11742\t14325\n",
    "16168\t26420\t17376\t13468\t19205\t18438\t18584\t14330\t20479\t30871\t21676\t19664\t32739\t18651\t20532\t20497\t22329\t21738\t21641\t21641\t21776\t11708\t29491\t20520\t23011\t28747\t19444\t14693\t23583\t20470\t20809\t22175\t13538\t29815\t9415\t20856\t30437\t17221\t21396\t8872\t12092\t19047\t21773\t32223\t13988\t18752\t35504\t13302\t28043\t20840\t23893\t25503\t20740\t29379\t14349\t9468\t24851\t25830\t16745\t35060\t16582\t17173\t24377\t25029\t26902\t15501\t19174\t31968\t30491\t18559\t35222\t13999\t27156\t18554\t25111\t28487\t34089\t28527\t27761\t14815\t16400\t30117\t29931\t27735\t21545\t36623\t30168\t32085\t23153\t13264\t6197\t7925\t4260\t9841\t9124\t7119\t14589\t5954\t5049\t5752\n",
    "3485\t11419\t1299\t6632\t4185\t5779\t2507\t10988\t9414\t15851\t9008\t3586\t16662\t3402\t4455\t7829\t6823\t5661\t5564\t5564\t5416\t10055\t14101\t4742\t6933\t13733\t8106\t8751\t8353\t4111\t5337\t6995\t22238\t13455\t15814\t5836\t15048\t8923\t10029\t14546\t14156\t8763\t10407\t17212\t17868\t10455\t20452\t3270\t11683\t11254\t8883\t10326\t7960\t14275\t19918\t17585\t11895\t14463\t15669\t19976\t13445\t21806\t9362\t10990\t11892\t15784\t25181\t16597\t15121\t6811\t20117\t2917\t11079\t15437\t10110\t13126\t18985\t12450\t13578\t5827\t22260\t15107\t13572\t12733\t18588\t21233\t15158\t15725\t6794\t3345\t18185\t9500\t12007\t8655\t12955\t15440\t8767\t12661\t14455\t16802\n",
    "20790\t9466\t18768\t19019\t16388\t23183\t19204\t8048\t25526\t11781\t26421\t19566\t32228\t21381\t20050\t25242\t20403\t20767\t21130\t21130\t22609\t19411\t26641\t18850\t22499\t12497\t24217\t21138\t19075\t21988\t23316\t17550\t14121\t29479\t12701\t15643\t26324\t23500\t26140\t22523\t10462\t24788\t26518\t14435\t9046\t25032\t17184\t16690\t27988\t7647\t16008\t17583\t10992\t18647\t11810\t14471\t29595\t30575\t25025\t17287\t5515\t9936\t13405\t28867\t16060\t6910\t13069\t21244\t22645\t11751\t19529\t15711\t26645\t3659\t10414\t27190\t19969\t28015\t31455\t12488\t12268\t14358\t31448\t9386\t3721\t24083\t12443\t33602\t24671\t16002\t17550\t16509\t18607\t17505\t13028\t15073\t9896\t19605\t17309\t16608\n",
    "5209\t18274\t7514\t9447\t9270\t4512\t6860\t18543\t7991\t20049\t1770\t6760\t12619\t4480\t5919\t3913\t6409\t5710\t5102\t5102\t3771\t13094\t13449\t7447\t6252\t15933\t6849\t11034\t7900\t3664\t2533\t9013\t29793\t9396\t23369\t10394\t14396\t10775\t6403\t19042\t21711\t9433\t6497\t16807\t25423\t12117\t19933\t9297\t7625\t18426\t10913\t9872\t15125\t13727\t27473\t25139\t4829\t8593\t17935\t19453\t20999\t29361\t13247\t3955\t11460\t23338\t32736\t15967\t14491\t13983\t19488\t10504\t10133\t22991\t17193\t12207\t18355\t11270\t6687\t13381\t29815\t14701\t9423\t19373\t26143\t20582\t17188\t11524\t4764\t9986\t25177\t14146\t17374\t13177\t20016\t22675\t16322\t17157\t20935\t24036\n",
    "11294\t12965\t9272\t9523\t8056\t13686\t10128\t2354\t16029\t17305\t16925\t10705\t23655\t11884\t11574\t15745\t12558\t12435\t12683\t12683\t13816\t9914\t19729\t10518\t13926\t15996\t14721\t11642\t12295\t12593\t13820\t10771\t13604\t20906\t7180\t8812\t19545\t14003\t16644\t14373\t5522\t15291\t17022\t19525\t9234\t15536\t22708\t7194\t19415\t6113\t11640\t13251\t6661\t17127\t11284\t8951\t20099\t21078\t15528\t22377\t4811\t13172\t11756\t19472\t14650\t7150\t16547\t19716\t18239\t4465\t22960\t6215\t18072\t6803\t11837\t18726\t21838\t19442\t22060\t2992\t13626\t17788\t22054\t14280\t9954\t25508\t17533\t24208\t15276\t6505\t11490\t8682\t10874\t8483\t6260\t8746\t400\t11827\t10314\t10107\n",
    "5303\t9560\t2607\t8328\t2468\t7596\t3463\t9535\t11232\t14134\t10826\t4040\t16990\t5219\t4909\t9646\t5902\t6115\t6018\t6018\t7151\t11553\t13064\t4295\t7261\t12016\t9923\t10447\t6988\t5928\t7155\t5580\t20785\t14241\t14361\t4119\t14011\t10873\t11846\t16044\t12703\t10580\t12224\t15533\t16415\t12406\t18815\t4966\t12750\t9395\t7204\t8813\t6101\t12689\t18465\t16131\t13713\t16281\t17167\t18371\t11992\t20353\t7646\t12807\t10213\t14330\t23728\t15278\t13802\t4953\t18532\t3288\t11407\t13983\t8252\t12061\t17400\t12778\t15396\t4373\t20807\t13428\t15389\t10875\t17135\t20196\t13479\t17543\t8611\t4601\t16731\t10469\t13133\t10153\t11502\t13987\t7314\t13613\t14444\t15348\n",
    "\"\"\";"
   ]
  },
  {
   "cell_type": "code",
   "execution_count": 81,
   "id": "aea1926f",
   "metadata": {},
   "outputs": [
    {
     "data": {
      "text/plain": [
       "18×100 Matrix{Int64}:\n",
       " 21328   7901  16774  24413  14131  …  28183  20874  30143  30419  29718\n",
       "  5195  15055   4216   9295   6050     19554  12880  16313  18674  20915\n",
       " 24025  13295  22003  22254  20379     17024  13131  22051  19380  18559\n",
       " 22508  22014  17954  25593  16490     31749  23716  31201  32314  33111\n",
       " 12913   5006  10217  14089   7574     16894   8883  19148  18556  18349\n",
       "  6281  16514   5753  10410   7509  …  21173  14561  17427  19876  22534\n",
       "  4656  19128   9008   4124  11894     19061  12862  10557  16997  20422\n",
       " 16446   6905  14412  14675  11772     14574   6924  18252  16749  16109\n",
       " 12070  11940  10048  10299   8061      9830   1565  12993  11480  11273\n",
       " 10329  23462  13628   6311  16247     17430  12203   7915  14982  18439\n",
       "  9046   7229   6350  10918   3587  …  14632   6528  16403  16201  15994\n",
       "  4657  14007   4438   3771   6792     12964   6796   9616  11742  14325\n",
       " 16168  26420  17376  13468  19205      7119  14589   5954   5049   5752\n",
       "  3485  11419   1299   6632   4185     15440   8767  12661  14455  16802\n",
       " 20790   9466  18768  19019  16388     15073   9896  19605  17309  16608\n",
       "  5209  18274   7514   9447   9270  …  22675  16322  17157  20935  24036\n",
       " 11294  12965   9272   9523   8056      8746    400  11827  10314  10107\n",
       "  5303   9560   2607   8328   2468     13987   7314  13613  14444  15348"
      ]
     },
     "execution_count": 81,
     "metadata": {},
     "output_type": "execute_result"
    }
   ],
   "source": [
    "c = readdlm(IOBuffer(dat), Int)"
   ]
  },
  {
   "cell_type": "code",
   "execution_count": 94,
   "id": "60fb891e",
   "metadata": {},
   "outputs": [
    {
     "data": {
      "text/plain": [
       "18×100 Matrix{VariableRef}:\n",
       " x[1,1]   x[1,2]   x[1,3]   x[1,4]   …  x[1,98]   x[1,99]   x[1,100]\n",
       " x[2,1]   x[2,2]   x[2,3]   x[2,4]      x[2,98]   x[2,99]   x[2,100]\n",
       " x[3,1]   x[3,2]   x[3,3]   x[3,4]      x[3,98]   x[3,99]   x[3,100]\n",
       " x[4,1]   x[4,2]   x[4,3]   x[4,4]      x[4,98]   x[4,99]   x[4,100]\n",
       " x[5,1]   x[5,2]   x[5,3]   x[5,4]      x[5,98]   x[5,99]   x[5,100]\n",
       " x[6,1]   x[6,2]   x[6,3]   x[6,4]   …  x[6,98]   x[6,99]   x[6,100]\n",
       " x[7,1]   x[7,2]   x[7,3]   x[7,4]      x[7,98]   x[7,99]   x[7,100]\n",
       " x[8,1]   x[8,2]   x[8,3]   x[8,4]      x[8,98]   x[8,99]   x[8,100]\n",
       " x[9,1]   x[9,2]   x[9,3]   x[9,4]      x[9,98]   x[9,99]   x[9,100]\n",
       " x[10,1]  x[10,2]  x[10,3]  x[10,4]     x[10,98]  x[10,99]  x[10,100]\n",
       " x[11,1]  x[11,2]  x[11,3]  x[11,4]  …  x[11,98]  x[11,99]  x[11,100]\n",
       " x[12,1]  x[12,2]  x[12,3]  x[12,4]     x[12,98]  x[12,99]  x[12,100]\n",
       " x[13,1]  x[13,2]  x[13,3]  x[13,4]     x[13,98]  x[13,99]  x[13,100]\n",
       " x[14,1]  x[14,2]  x[14,3]  x[14,4]     x[14,98]  x[14,99]  x[14,100]\n",
       " x[15,1]  x[15,2]  x[15,3]  x[15,4]     x[15,98]  x[15,99]  x[15,100]\n",
       " x[16,1]  x[16,2]  x[16,3]  x[16,4]  …  x[16,98]  x[16,99]  x[16,100]\n",
       " x[17,1]  x[17,2]  x[17,3]  x[17,4]     x[17,98]  x[17,99]  x[17,100]\n",
       " x[18,1]  x[18,2]  x[18,3]  x[18,4]     x[18,98]  x[18,99]  x[18,100]"
      ]
     },
     "execution_count": 94,
     "metadata": {},
     "output_type": "execute_result"
    }
   ],
   "source": [
    "m = Model(HiGHS.Optimizer);\n",
    "@variable(m, 400 >= x[i=1:S, j=1:D] >= 0, Int)"
   ]
  },
  {
   "cell_type": "code",
   "execution_count": 83,
   "id": "b0cf0513",
   "metadata": {},
   "outputs": [
    {
     "data": {
      "text/plain": [
       "sum (generic function with 21 methods)"
      ]
     },
     "execution_count": 83,
     "metadata": {},
     "output_type": "execute_result"
    }
   ],
   "source": [
    "∑ = sum"
   ]
  },
  {
   "cell_type": "code",
   "execution_count": 95,
   "id": "aa9b4bd1",
   "metadata": {
    "scrolled": true
   },
   "outputs": [],
   "source": [
    "\n",
    "\n",
    "for j=1:D\n",
    "   @constraint(m, ∑(x[:, j]) >= demand[j]   )\n",
    "end\n",
    "for i=1:S\n",
    "   @constraint(m, ∑(x[i, :]) <= supply[i]   )\n",
    "end\n",
    "#@objective(m, Min, ∑( x[i, j]*c[i, j] for i=1:S, j=1:D))\n",
    "@objective(m, Min, ∑( x .* c ));\n",
    "\n"
   ]
  },
  {
   "cell_type": "code",
   "execution_count": 96,
   "id": "584f7205",
   "metadata": {},
   "outputs": [
    {
     "name": "stdout",
     "output_type": "stream",
     "text": [
      "Running HiGHS 1.4.0 [date: 1970-01-01, git hash: bcf6c0b22]\n",
      "Copyright (c) 2022 ERGO-Code under MIT licence terms\n",
      "Presolving model\n",
      "118 rows, 1800 cols, 3600 nonzeros\n",
      "118 rows, 1800 cols, 3600 nonzeros\n",
      "Objective function is integral with scale 1\n",
      "\n",
      "Solving MIP model with:\n",
      "   118 rows\n",
      "   1800 cols (0 binary, 1800 integer, 0 implied int., 0 continuous)\n",
      "   3600 nonzeros\n",
      "\n",
      "        Nodes      |    B&B Tree     |            Objective Bounds              |  Dynamic Constraints |       Work      \n",
      "     Proc. InQueue |  Leaves   Expl. | BestBound       BestSol              Gap |   Cuts   InLp Confl. | LpIters     Time\n",
      "\n",
      "         0       0         0   0.00%   0               inf                  inf        0      0      0         0     0.0s\n",
      " T       0       0         0   0.00%   0               7994805          100.00%        0      0      0       144     0.0s\n",
      "\n",
      "Solving report\n",
      "  Status            Optimal\n",
      "  Primal bound      7994805\n",
      "  Dual bound        7994805\n",
      "  Gap               0% (tolerance: 0.01%)\n",
      "  Solution status   feasible\n",
      "                    7994805 (objective)\n",
      "                    0 (bound viol.)\n",
      "                    0 (int. viol.)\n",
      "                    0 (row viol.)\n",
      "  Timing            0.02 (total)\n",
      "                    0.01 (presolve)\n",
      "                    0.00 (postsolve)\n",
      "  Nodes             1\n",
      "  LP iterations     144 (total)\n",
      "                    0 (strong br.)\n",
      "                    0 (separation)\n",
      "                    0 (heuristics)\n"
     ]
    }
   ],
   "source": [
    "optimize!(m)"
   ]
  },
  {
   "cell_type": "code",
   "execution_count": 87,
   "id": "330f9245",
   "metadata": {},
   "outputs": [
    {
     "name": "stdout",
     "output_type": "stream",
     "text": [
      "termination_status(m) = MathOptInterface.OPTIMAL\n"
     ]
    },
    {
     "data": {
      "text/plain": [
       "OPTIMAL::TerminationStatusCode = 1"
      ]
     },
     "execution_count": 87,
     "metadata": {},
     "output_type": "execute_result"
    }
   ],
   "source": [
    "@show termination_status(m)\n"
   ]
  },
  {
   "cell_type": "code",
   "execution_count": 88,
   "id": "54a230ce",
   "metadata": {},
   "outputs": [
    {
     "data": {
      "text/plain": [
       "Enum MathOptInterface.TerminationStatusCode:\n",
       "OPTIMIZE_NOT_CALLED = 0\n",
       "OPTIMAL = 1\n",
       "INFEASIBLE = 2\n",
       "DUAL_INFEASIBLE = 3\n",
       "LOCALLY_SOLVED = 4\n",
       "LOCALLY_INFEASIBLE = 5\n",
       "INFEASIBLE_OR_UNBOUNDED = 6\n",
       "ALMOST_OPTIMAL = 7\n",
       "ALMOST_INFEASIBLE = 8\n",
       "ALMOST_DUAL_INFEASIBLE = 9\n",
       "ALMOST_LOCALLY_SOLVED = 10\n",
       "ITERATION_LIMIT = 11\n",
       "TIME_LIMIT = 12\n",
       "NODE_LIMIT = 13\n",
       "SOLUTION_LIMIT = 14\n",
       "MEMORY_LIMIT = 15\n",
       "OBJECTIVE_LIMIT = 16\n",
       "NORM_LIMIT = 17\n",
       "OTHER_LIMIT = 18\n",
       "SLOW_PROGRESS = 19\n",
       "NUMERICAL_ERROR = 20\n",
       "INVALID_MODEL = 21\n",
       "INVALID_OPTION = 22\n",
       "INTERRUPTED = 23\n",
       "OTHER_ERROR = 24"
      ]
     },
     "execution_count": 88,
     "metadata": {},
     "output_type": "execute_result"
    }
   ],
   "source": [
    "typeof(termination_status(m))"
   ]
  },
  {
   "cell_type": "code",
   "execution_count": 89,
   "id": "1ccfda7f",
   "metadata": {
    "scrolled": true
   },
   "outputs": [
    {
     "data": {
      "text/plain": [
       "18×100 Matrix{Float64}:\n",
       "  0.0   0.0   0.0   0.0   0.0   0.0  …   0.0   0.0   0.0   0.0   0.0   0.0\n",
       "  0.0   0.0   0.0   0.0   0.0   0.0      0.0   0.0   0.0   0.0   0.0   0.0\n",
       "  0.0   0.0   0.0   0.0   0.0   0.0      0.0   0.0   0.0   0.0   0.0   0.0\n",
       "  0.0   0.0   0.0   0.0   0.0   0.0      0.0   0.0   0.0   0.0   0.0   0.0\n",
       "  0.0   0.0   0.0   0.0   0.0   0.0      0.0   0.0   0.0   0.0   0.0   0.0\n",
       "  0.0   0.0   0.0   0.0   0.0   0.0  …   0.0   0.0   0.0   0.0   0.0   0.0\n",
       "  0.0   0.0   0.0   0.0   0.0   0.0      0.0   0.0   0.0   0.0   0.0   0.0\n",
       "  0.0  15.0   0.0   0.0   0.0   0.0      0.0   0.0   0.0   0.0   0.0   0.0\n",
       "  0.0   0.0   0.0   0.0   0.0   0.0      0.0   0.0   0.0   0.0   0.0   0.0\n",
       "  0.0   0.0   0.0   0.0   0.0   0.0      0.0   0.0   0.0   0.0   0.0   0.0\n",
       "  0.0   0.0   0.0   0.0   0.0   0.0  …   0.0   0.0   0.0   0.0   0.0   0.0\n",
       "  0.0   0.0   0.0  15.0   0.0   0.0      0.0   0.0   0.0   0.0   0.0   0.0\n",
       "  0.0   0.0   0.0   0.0   0.0   0.0      0.0  15.0   0.0  15.0  15.0  15.0\n",
       " 15.0   0.0  15.0   0.0   0.0  15.0      0.0   0.0   0.0   0.0   0.0   0.0\n",
       "  0.0   0.0   0.0   0.0   0.0   0.0      0.0   0.0   0.0   0.0   0.0   0.0\n",
       "  0.0   0.0   0.0   0.0   0.0   0.0  …   0.0   0.0   0.0   0.0   0.0   0.0\n",
       "  0.0   0.0   0.0   0.0   0.0   0.0     15.0   0.0  15.0   0.0   0.0   0.0\n",
       "  0.0   0.0   0.0   0.0  15.0   0.0      0.0   0.0   0.0   0.0   0.0   0.0"
      ]
     },
     "execution_count": 89,
     "metadata": {},
     "output_type": "execute_result"
    }
   ],
   "source": [
    "\n",
    "value.(x)"
   ]
  },
  {
   "cell_type": "code",
   "execution_count": 90,
   "id": "9f098755",
   "metadata": {},
   "outputs": [
    {
     "data": {
      "text/plain": [
       "18×100 SparseMatrixCSC{Float64, Int64} with 109 stored entries:\n",
       "⠀⠀⠀⠈⠀⠖⠂⠒⠀⠄⡀⠐⠂⠀⠠⠀⠀⠁⠈⠀⠀⡀⠀⠈⢀⢀⢠⠄⠁⢀⢄⠀⠈⠠⠬⠀⠀⠀⠀⠀\n",
       "⠐⠀⠀⠒⠀⠀⠀⠈⢁⠈⠒⡀⠀⠡⠀⢂⠐⠂⡂⠑⠀⠀⠄⡀⠂⠀⠂⠀⠈⠂⠈⠀⠀⠂⠀⠁⠀⡀⠀⠀\n",
       "⠄⠅⠤⠀⡠⠀⠀⠄⠀⠀⠀⠁⠈⡂⠁⠀⠀⢀⠀⠁⠉⠀⢀⠀⢀⡀⠀⠉⠈⠀⠀⡀⣀⠀⠀⠈⠚⠀⠒⠒\n",
       "⠀⠐⠀⠁⠀⠀⠐⠀⠀⠂⠀⠂⠀⠉⠀⠀⠁⠀⠀⠀⠀⠈⠀⠀⠀⠀⠀⠀⠀⠀⠀⠈⠀⠀⠀⠀⠀⠈⠈⠀"
      ]
     },
     "execution_count": 90,
     "metadata": {},
     "output_type": "execute_result"
    }
   ],
   "source": [
    "using SparseArrays\n",
    "sparse(value.(x))"
   ]
  },
  {
   "cell_type": "code",
   "execution_count": 91,
   "id": "3bbccd18",
   "metadata": {},
   "outputs": [
    {
     "data": {
      "text/plain": [
       "true"
      ]
     },
     "execution_count": 91,
     "metadata": {},
     "output_type": "execute_result"
    }
   ],
   "source": [
    "round.(Int, value.(x)) ≈ value.(x)"
   ]
  },
  {
   "cell_type": "code",
   "execution_count": 92,
   "id": "c53c1424",
   "metadata": {},
   "outputs": [
    {
     "data": {
      "text/plain": [
       "7.994805e6"
      ]
     },
     "execution_count": 92,
     "metadata": {},
     "output_type": "execute_result"
    }
   ],
   "source": [
    "objective_value(m)"
   ]
  },
  {
   "cell_type": "code",
   "execution_count": 93,
   "id": "a1362e2d",
   "metadata": {},
   "outputs": [
    {
     "data": {
      "text/plain": [
       "Matrix{VariableRef}\u001b[90m (alias for \u001b[39m\u001b[90mArray{VariableRef, 2}\u001b[39m\u001b[90m)\u001b[39m"
      ]
     },
     "execution_count": 93,
     "metadata": {},
     "output_type": "execute_result"
    }
   ],
   "source": [
    "typeof(x)"
   ]
  },
  {
   "cell_type": "markdown",
   "id": "c450be60",
   "metadata": {},
   "source": [
    "### Driving around the city"
   ]
  },
  {
   "cell_type": "code",
   "execution_count": 98,
   "id": "856a9a24",
   "metadata": {},
   "outputs": [],
   "source": [
    "dist_mx = [0\t17015\t15303\t20376\t12648\t16060\t25600\t14217\t19545\t30228\t14726\t21078\t33787\t18041\t14937\t17542\t20542\t16535\t21328\t7901\t16774\t24413\t14131\t21551\t15742\t21091\t25167\t3266\t19312\t14878\t22914\t18392\t14514\t21072\t11535\t12965\t12952\t12952\t15839\t27836;\n",
    "16837\t0\t25356\t17812\t13534\t1912\t9654\t17639\t13597\t15441\t9377\t7410\t19851\t4218\t22311\t3454\t12747\t6168\t5195\t15055\t4216\t9295\t6050\t4779\t3641\t15102\t8395\t16829\t5224\t3595\t14177\t1684\t2753\t4300\t5469\t4233\t3962\t3962\t3039\t13176;\n",
    "15660\t25640\t0\t34363\t13497\t27290\t25638\t8902\t13080\t25038\t17262\t19451\t23966\t21412\t6475\t28799\t12799\t19902\t24025\t13295\t22003\t22254\t20379\t26418\t22859\t10495\t28761\t12735\t29656\t23437\t36220\t24616\t24042\t28477\t24395\t24758\t25121\t25121\t26548\t22646;\n",
    "20378\t17694\t34039\t0\t20952\t16668\t26779\t25408\t22341\t31408\t17228\t22258\t34845\t19221\t30215\t17941\t23384\t18694\t22508\t22014\t17954\t25593\t16490\t22230\t16922\t24989\t25524\t22994\t19299\t15807\t6155\t19098\t15443\t21468\t12730\t13765\t13698\t13698\t16518\t29016;\n",
    "12758\t13651\t13828\t21135\t0\t15151\t15588\t5176\t7509\t19444\t4278\t10350\t22791\t9625\t10004\t16632\t8551\t7771\t12913\t5006\t10217\t14089\t7574\t15206\t10375\t9595\t18453\t9762\t18403\t10736\t23395\t12829\t11221\t17256\t11328\t11937\t12300\t12300\t13779\t17052;\n",
    "16015\t1958\t27036\t16957\t14992\t0\t10700\t19097\t15278\t16499\t10835\t8524\t20966\t5921\t23905\t1542\t14428\t7849\t6281\t16514\t5753\t10410\t7509\t5795\t5099\t16782\t9308\t18288\t3312\t4999\t12625\t2798\t4158\t5230\t4648\t3949\t3341\t3341\t2010\t14262;\n",
    "25876\t9612\t25338\t27027\t15004\t10657\t0\t17917\t13580\t5809\t12445\t6443\t16347\t7810\t22293\t9558\t12729\t9769\t4656\t19128\t9008\t4124\t11894\t5115\t10216\t15084\t4473\t23560\t7924\t11296\t21642\t8036\t12133\t5794\t14532\t13370\t13273\t13273\t12492\t5169;\n",
    "14417\t17865\t8673\t25755\t4815\t19364\t18059\t0\t5596\t18456\t8654\t11873\t21416\t13820\t4849\t20846\t6592\t11966\t16446\t6905\t14412\t14675\t11772\t18839\t14588\t7393\t21182\t11243\t22077\t14949\t27612\t17024\t15434\t20898\t15787\t16151\t16513\t16513\t17993\t16064;\n",
    "19460\t13685\t12996\t22480\t7089\t15336\t13683\t5712\t0\t13472\t5106\t7497\t16147\t9457\t9192\t16844\t1234\t7947\t12070\t11940\t10048\t10299\t8061\t14463\t10878\t2839\t16806\t16286\t17701\t11239\t23901\t12661\t11724\t16522\t12122\t12440\t12803\t12803\t14282\t11080;\n",
    "30234\t15269\t25164\t31647\t19366\t16315\t5673\t18651\t13668\t0\t16883\t9759\t13705\t12809\t22119\t15216\t12556\t14103\t10329\t23462\t13628\t6311\t16247\t10788\t14836\t14910\t7331\t27913\t13481\t15916\t27214\t13710\t16784\t11351\t19112\t17990\t17893\t17893\t18028\t2647;\n",
    "14892\t9673\t17263\t17588\t4258\t11172\t12366\t8632\t5154\t16699\t0\t7384\t20046\t5758\t13440\t12654\t6196\t3904\t9046\t7229\t6350\t10918\t3587\t11339\t6397\t7802\t14626\t11985\t14424\t6758\t19420\t8962\t7243\t13389\t7493\t7959\t8322\t8322\t9801\t14306;\n",
    "20779\t7534\t19272\t22294\t9811\t8776\t6402\t11851\t7513\t9403\t7336\t0\t13086\t3620\t16227\t9926\t6663\t4648\t4657\t14007\t4438\t3771\t6792\t7050\t5646\t9018\t9393\t18458\t10288\t6726\t19802\t5879\t7594\t9109\t9647\t8800\t8703\t8703\t8838\t7010;\n",
    "33192\t20306\t24017\t34707\t22295\t21548\t16347\t21600\t16054\t13630\t19961\t13477\t0\t16558\t22049\t21445\t14942\t17061\t16168\t26420\t17376\t13468\t19205\t18438\t18584\t14330\t20479\t30871\t21676\t19664\t32739\t18651\t20532\t20497\t22329\t21738\t21641\t21641\t21776\t11708;\n",
    "18182\t4426\t21242\t19317\t9588\t6076\t7562\t13686\t9484\t12447\t5453\t3297\t16130\t0\t18198\t7585\t8634\t2059\t3485\t11419\t1299\t6632\t4185\t5779\t2507\t10988\t9414\t15851\t9008\t3586\t16662\t3402\t4455\t7829\t6823\t5661\t5564\t5564\t5416\t10055;\n",
    "14987\t22405\t6375\t30372\t9487\t23980\t22403\t4893\t9113\t21803\t13270\t16216\t21976\t18177\t0\t25462\t9564\t16582\t20790\t9466\t18768\t19019\t16388\t23183\t19204\t8048\t25526\t11781\t26421\t19566\t32228\t21381\t20050\t25242\t20403\t20767\t21130\t21130\t22609\t19411;\n",
    "17776\t3658\t28797\t18666\t16753\t1761\t9415\t20858\t17039\t15214\t12596\t9773\t21497\t7682\t25666\t0\t16189\t9610\t5209\t18274\t7514\t9447\t9270\t4512\t6860\t18543\t7991\t20049\t1770\t6760\t12619\t4480\t5919\t3913\t6409\t5710\t5102\t5102\t3771\t13094;\n",
    "20480\t12908\t12608\t23592\t8201\t14559\t12906\t6659\t1112\t12306\t6218\t6720\t14981\t8680\t9564\t16068\t0\t7171\t11294\t12965\t9272\t9523\t8056\t13686\t10128\t2354\t16029\t17305\t16925\t10705\t23655\t11884\t11574\t15745\t12558\t12435\t12683\t12683\t13816\t9914;\n",
    "16503\t6243\t19789\t18281\t7729\t7894\t9574\t11828\t8031\t13945\t3594\t4731\t17257\t2015\t16635\t9403\t7181\t0\t5303\t9560\t2607\t8328\t2468\t7596\t3463\t9535\t11232\t14134\t10826\t4040\t16990\t5219\t4909\t9646\t5902\t6115\t6018\t6018\t7151\t11553;\n",
    "21599\t5356\t23780\t22734\t12944\t6512\t4559\t16359\t12022\t10347\t8870\t4592\t16288\t3518\t20735\t5531\t11172\t5476\t0\t14836\t4716\t4238\t7602\t2790\t5924\t13526\t6105\t19268\t6020\t7003\t17779\t3751\t7819\t4840\t10240\t9078\t8981\t8981\t8209\t8081;\n",
    "7857\t15112\t13704\t22169\t5184\t16611\t19177\t6973\t12160\t23548\t7225\t14334\t26860\t11619\t9791\t18093\t13156\t9764\t14906\t0\t12210\t17931\t9181\t17075\t11836\t14080\t20835\t4820\t19863\t12197\t24516\t14669\t12682\t19125\t12572\t13398\t13761\t13761\t15240\t21156;\n",
    "16895\t4392\t21878\t18019\t10219\t5892\t8860\t14318\t10120\t13488\t6084\t4338\t17171\t1301\t18833\t7374\t9270\t2691\t4588\t12050\t0\t7673\t4076\t5894\t1208\t11624\t9813\t14906\t9124\t2288\t15363\t3488\t3156\t7944\t5524\t4362\t4265\t4265\t5193\t11096;\n",
    "24348\t9392\t22086\t25619\t13415\t10603\t4086\t14665\t10327\t6404\t10856\t3801\t13508\t6782\t19041\t9622\t9477\t8252\t4345\t17612\t7601\t0\t10396\t5506\t8809\t11832\t7814\t22062\t8930\t9888\t21869\t7737\t10757\t7533\t13085\t11963\t11866\t11866\t12000\t4056;\n",
    "14132\t6093\t20346\t16695\t7583\t7592\t12111\t11714\t8191\t16482\t3384\t7267\t19793\t4552\t16522\t9074\t8119\t2537\t7839\t9201\t3822\t10865\t0\t8055\t2817\t10474\t11975\t11763\t10844\t3178\t15840\t5650\t3662\t10106\t4502\t4379\t4742\t4742\t6221\t14090;\n",
    "21436\t4723\t26289\t22411\t15307\t5769\t5072\t18868\t14531\t10881\t11172\t7101\t18750\t5829\t23244\t4673\t13681\t7779\t2740\t17138\t5827\t5517\t8192\t0\t6327\t16035\t3919\t19343\t3552\t7406\t16757\t3376\t7353\t2373\t10069\t8833\t8561\t8561\t7639\t8817;\n",
    "15687\t3789\t22924\t16811\t10402\t5288\t9892\t14507\t10983\t14520\t6245\t5370\t18203\t2333\t19315\t6770\t10316\t3737\t5620\t11923\t1066\t8705\t2918\t6156\t0\t12670\t10075\t13698\t8540\t1080\t14155\t3750\t1948\t7846\t4316\t3154\t3057\t3057\t3985\t12128;\n",
    "21045\t15226\t10254\t25146\t9186\t16877\t15224\t7459\t2666\t14624\t7772\t9038\t14277\t10998\t7984\t18386\t2386\t9488\t13611\t13852\t11589\t11840\t10374\t16004\t12446\t0\t18347\t17870\t19242\t13023\t25973\t14202\t13891\t18063\t14789\t14753\t15000\t15000\t16134\t12232;\n",
    "25093\t8380\t28419\t25988\t17792\t9365\t4449\t20998\t16661\t7422\t14499\t9231\t20447\t9297\t25375\t8231\t15811\t11255\t6033\t20614\t9633\t7647\t11998\t3972\t10133\t18165\t0\t23149\t6373\t11212\t20107\t7182\t11009\t4244\t13725\t12489\t12218\t12218\t11295\t9268;\n",
    "3269\t17087\t12447\t23091\t9425\t18535\t23676\t10994\t16323\t28047\t11778\t18833\t31359\t16118\t11733\t20016\t17319\t14102\t19392\t4764\t14895\t22430\t11699\t19128\t13889\t17868\t23048\t0\t21787\t14225\t25619\t16722\t14491\t21144\t14247\t15207\t15570\t15570\t17049\t25655;\n",
    "19370\t5218\t29555\t19904\t18347\t3354\t7939\t22134\t17796\t13628\t14190\t10366\t22016\t8979\t26510\t2032\t16946\t10929\t5890\t19868\t8977\t8967\t10863\t3548\t8454\t19301\t6286\t21642\t0\t8354\t13849\t6031\t7512\t2230\t8002\t7303\t6695\t6695\t5364\t12267;\n",
    "15123\t3742\t23129\t16247\t10398\t5189\t10973\t14503\t10979\t15601\t6241\t6451\t19284\t3414\t19310\t6671\t10520\t3928\t6701\t11919\t2147\t9786\t2914\t7237\t1115\t12875\t11156\t13694\t8441\t0\t13591\t4046\t1289\t7798\t3752\t2590\t2493\t2493\t3730\t13209;\n",
    "23066\t12913\t36235\t6148\t23328\t11248\t21677\t27604\t24080\t27384\t19342\t18864\t31697\t15567\t32411\t12509\t23813\t17221\t17470\t24390\t15398\t21598\t16015\t16775\t14408\t26168\t20042\t25682\t13816\t13293\t0\t13987\t12929\t15985\t12394\t11789\t11185\t11185\t11655\t25357;\n",
    "18306\t1655\t24425\t19281\t12816\t2898\t8020\t16914\t12666\t13807\t8681\t5726\t18168\t3338\t21380\t4425\t11816\t5288\t3560\t14647\t3336\t7611\t5684\t3220\t3721\t14171\t7140\t16834\t6173\t4291\t15523\t0\t4102\t5029\t6939\t5703\t5431\t5431\t4509\t11541;\n",
    "14792\t2858\t23883\t15916\t11147\t4305\t11899\t15252\t11728\t16527\t6990\t7377\t20210\t4340\t20060\t5787\t11446\t4854\t7592\t12668\t3073\t10712\t3664\t7283\t2041\t13801\t11010\t14409\t7557\t926\t13261\t4086\t0\t6915\t3422\t2259\t2162\t2162\t2847\t14135;\n",
    "20940\t4227\t28327\t21915\t17230\t5179\t5981\t20906\t16569\t11732\t13095\t9139\t20788\t7752\t25283\t4045\t15719\t9701\t4662\t19061\t7750\t7739\t10115\t2321\t7744\t18073\t4390\t20933\t2200\t7698\t15933\t4990\t6857\t0\t9572\t8336\t8065\t8065\t7142\t11040;\n",
    "11410\t5695\t24148\t12807\t11182\t4838\t14370\t15516\t12038\t18999\t7130\t9803\t22682\t6812\t20324\t6320\t12537\t6289\t10099\t12463\t5545\t13184\t4544\t10230\t4538\t14686\t13846\t14019\t8090\t3645\t12463\t7098\t3281\t9751\t0\t1743\t1730\t1730\t4518\t16606;\n",
    "13077\t4452\t24715\t14052\t11979\t4191\t13470\t16084\t12560\t18098\t7822\t8948\t21781\t5911\t20892\t5673\t12489\t6127\t9198\t13500\t4644\t12283\t4496\t8987\t3612\t14843\t12603\t15241\t7443\t2497\t11952\t5855\t2133\t8508\t1710\t0\t880\t880\t3275\t15706;\n",
    "13133\t4063\t25053\t14108\t12317\t3692\t13081\t16422\t12899\t17709\t8160\t8559\t21392\t5523\t21230\t5174\t12629\t6036\t8810\t13799\t4255\t11895\t4834\t8599\t3223\t14983\t12215\t15468\t6944\t2108\t11453\t5467\t1745\t8120\t1765\t608\t0\t0\t2886\t15317;\n",
    "13133\t4063\t25053\t14108\t12317\t3692\t13081\t16422\t12899\t17709\t8160\t8559\t21392\t5523\t21230\t5174\t12629\t6036\t8810\t13799\t4255\t11895\t4834\t8599\t3223\t14983\t12215\t15468\t6944\t2108\t11453\t5467\t1745\t8120\t1765\t608\t0\t0\t2886\t15317;\n",
    "14506\t3112\t26511\t15448\t13883\t2991\t12511\t17988\t14464\t17843\t9726\t8693\t21526\t5396\t22796\t4473\t13902\t7323\t8052\t15364\t5083\t12028\t6400\t7648\t4050\t16257\t11264\t17034\t6243\t3674\t12711\t4516\t2915\t7169\t3139\t2440\t1832\t1832\t0\t15451;\n",
    "27829\t13231\t22760\t29340\t16962\t14388\t4973\t16247\t11264\t2392\t14487\t7453\t11758\t10503\t19715\t13298\t10151\t11698\t8249\t21057\t11322\t4107\t13842\t8754\t12530\t12506\t9105\t25508\t12177\t13609\t25382\t11629\t14478\t10768\t16798\t15683\t15587\t15587\t15721\t0;\n",
    "];"
   ]
  },
  {
   "cell_type": "code",
   "execution_count": 99,
   "id": "248ce9f3",
   "metadata": {
    "scrolled": true
   },
   "outputs": [
    {
     "name": "stdout",
     "output_type": "stream",
     "text": [
      "Running HiGHS 1.4.0 [date: 1970-01-01, git hash: bcf6c0b22]\n",
      "Copyright (c) 2022 ERGO-Code under MIT licence terms\n",
      "Presolving model\n",
      "756 rows, 702 cols, 2808 nonzeros\n",
      "405 rows, 702 cols, 2106 nonzeros\n",
      "405 rows, 702 cols, 2106 nonzeros\n",
      "Objective function is integral with scale 1\n",
      "\n",
      "Solving MIP model with:\n",
      "   405 rows\n",
      "   702 cols (702 binary, 0 integer, 0 implied int., 0 continuous)\n",
      "   2106 nonzeros\n",
      "\n",
      "        Nodes      |    B&B Tree     |            Objective Bounds              |  Dynamic Constraints |       Work      \n",
      "     Proc. InQueue |  Leaves   Expl. | BestBound       BestSol              Gap |   Cuts   InLp Confl. | LpIters     Time\n",
      "\n",
      "         0       0         0   0.00%   0               inf                  inf        0      0      0         0     0.0s\n",
      "0; Iter: Time           0; average =           0; Bound =           0\n",
      " T       0       0         0   0.00%   0               149456           100.00%        0      0      0        70     0.0s\n",
      "\n",
      "Solving report\n",
      "  Status            Optimal\n",
      "  Primal bound      149456\n",
      "  Dual bound        149456\n",
      "  Gap               0% (tolerance: 0.01%)\n",
      "  Solution status   feasible\n",
      "                    149456 (objective)\n",
      "                    0 (bound viol.)\n",
      "                    0 (int. viol.)\n",
      "                    0 (row viol.)\n",
      "  Timing            0.02 (total)\n",
      "                    0.01 (presolve)\n",
      "                    0.00 (postsolve)\n",
      "  Nodes             1\n",
      "  LP iterations     70 (total)\n",
      "                    0 (strong br.)\n",
      "                    0 (separation)\n",
      "                    0 (heuristics)\n"
     ]
    }
   ],
   "source": [
    "using JuMP, HiGHS\n",
    "N = 27 #the problem is NP-hard we do not solve it for all cities\n",
    "m = Model(optimizer_with_attributes(HiGHS.Optimizer));\n",
    "@variable(m, x[f=1:N, t=1:N], Bin)\n",
    "@objective(m, Min, sum( x[i, j]*dist_mx[i,j] for i=1:N,j=1:N))\n",
    "@constraint(m, notself[i=1:N], x[i, i] == 0)\n",
    "@constraint(m, oneout[i=1:N], sum(x[i, 1:N]) == 1)\n",
    "@constraint(m, onein[j=1:N], sum(x[1:N, j]) == 1)\n",
    "for f=1:N, t=1:N\n",
    "    @constraint(m, x[f, t]+x[t, f] <= 1)\n",
    "end\n",
    "\n",
    "\n",
    "optimize!(m)\n",
    "\n"
   ]
  },
  {
   "cell_type": "code",
   "execution_count": 100,
   "id": "d5c742f1",
   "metadata": {},
   "outputs": [
    {
     "data": {
      "text/plain": [
       "getcycle (generic function with 1 method)"
      ]
     },
     "execution_count": 100,
     "metadata": {},
     "output_type": "execute_result"
    }
   ],
   "source": [
    "function getcycle(m, N)\n",
    "    x_val = value.(x)\n",
    "    cycle_idx = Vector{Int}()\n",
    "    push!(cycle_idx, 1)\n",
    "    while true\n",
    "        v, idx = findmax(x_val[cycle_idx[end], 1:N])\n",
    "        if idx == cycle_idx[1]\n",
    "            break\n",
    "        else\n",
    "            push!(cycle_idx, idx)\n",
    "        end\n",
    "    end\n",
    "    cycle_idx\n",
    "end\n"
   ]
  },
  {
   "cell_type": "code",
   "execution_count": 101,
   "id": "3cd247f3",
   "metadata": {},
   "outputs": [
    {
     "data": {
      "text/plain": [
       "5-element Vector{Int64}:\n",
       "  1\n",
       "  4\n",
       " 11\n",
       "  5\n",
       " 20"
      ]
     },
     "execution_count": 101,
     "metadata": {},
     "output_type": "execute_result"
    }
   ],
   "source": [
    "getcycle(m, N)"
   ]
  },
  {
   "cell_type": "code",
   "execution_count": 102,
   "id": "a9b95295",
   "metadata": {},
   "outputs": [
    {
     "name": "stdout",
     "output_type": "stream",
     "text": [
      "cycle_idx: [1, 4, 11, 5, 20]\n",
      "Length: 5\n",
      "added a constraint\n"
     ]
    },
    {
     "data": {
      "text/plain": [
       "false"
      ]
     },
     "execution_count": 102,
     "metadata": {},
     "output_type": "execute_result"
    }
   ],
   "source": [
    "function solved(m, cycle_idx, N)\n",
    "    println(\"cycle_idx: \", cycle_idx)\n",
    "    println(\"Length: \", length(cycle_idx))\n",
    "    if length(cycle_idx) < N\n",
    "        cc = @constraint(m, sum(x[cycle_idx,cycle_idx]) <= length(cycle_idx)-1)\n",
    "        println(\"added a constraint\")\n",
    "        return false\n",
    "    end\n",
    "    return true\n",
    "end\n",
    "\n",
    "solved(m, getcycle(m, N),N)\n",
    "\n"
   ]
  },
  {
   "cell_type": "markdown",
   "id": "097752c5",
   "metadata": {},
   "source": [
    "Handling cycles inspired by the tutorial available at: https://opensourc.es/blog/mip-tsp/"
   ]
  },
  {
   "cell_type": "code",
   "execution_count": 103,
   "id": "58ecd1a8",
   "metadata": {},
   "outputs": [
    {
     "name": "stdout",
     "output_type": "stream",
     "text": [
      "Presolving model\n",
      "757 rows, 702 cols, 2828 nonzeros\n",
      "406 rows, 702 cols, 2126 nonzeros\n",
      "406 rows, 702 cols, 2126 nonzeros\n",
      "Objective function is integral with scale 1\n",
      "\n",
      "Solving MIP model with:\n",
      "   406 rows\n",
      "   702 cols (702 binary, 0 integer, 0 implied int., 0 continuous)\n",
      "   2126 nonzeros\n",
      "\n",
      "        Nodes      |    B&B Tree     |            Objective Bounds              |  Dynamic Constraints |       Work      \n",
      "     Proc. InQueue |  Leaves   Expl. | BestBound       BestSol              Gap |   Cuts   InLp Confl. | LpIters     Time\n",
      "\n",
      "         0       0         0   0.00%   0               inf                  inf        0      0      0         0     0.0s\n",
      "0; Iter: Time           0; average =           0; Bound =           0\n",
      " T       0       0         0   0.00%   0               149717           100.00%        0      0      0        86     0.0s\n",
      "\n",
      "Solving report\n",
      "  Status            Optimal\n",
      "  Primal bound      149717\n",
      "  Dual bound        149717\n",
      "  Gap               0% (tolerance: 0.01%)\n",
      "  Solution status   feasible\n",
      "                    149717 (objective)\n",
      "                    0 (bound viol.)\n",
      "                    0 (int. viol.)\n",
      "                    0 (row viol.)\n",
      "  Timing            0.02 (total)\n",
      "                    0.01 (presolve)\n",
      "                    0.00 (postsolve)\n",
      "  Nodes             1\n",
      "  LP iterations     86 (total)\n",
      "                    0 (strong br.)\n",
      "                    0 (separation)\n",
      "                    0 (heuristics)\n",
      "OPTIMAL\n",
      "cycle_idx: [1, 4, 25, 21, 14, 18, 23, 11, 5, 20]\n",
      "Length: 10\n",
      "added a constraint\n",
      "Presolving model\n",
      "758 rows, 702 cols, 2918 nonzeros\n",
      "407 rows, 702 cols, 2216 nonzeros\n",
      "407 rows, 702 cols, 2216 nonzeros\n",
      "Objective function is integral with scale 1\n",
      "\n",
      "Solving MIP model with:\n",
      "   407 rows\n",
      "   702 cols (702 binary, 0 integer, 0 implied int., 0 continuous)\n",
      "   2216 nonzeros\n",
      "\n",
      "        Nodes      |    B&B Tree     |            Objective Bounds              |  Dynamic Constraints |       Work      \n",
      "     Proc. InQueue |  Leaves   Expl. | BestBound       BestSol              Gap |   Cuts   InLp Confl. | LpIters     Time\n",
      "\n",
      "         0       0         0   0.00%   0               inf                  inf        0      0      0         0     0.0s\n",
      "0; Iter: Time           0; average =           0; Bound =           0\n",
      " T       0       0         0   0.00%   0               150984           100.00%        0      0      0        90     0.0s\n",
      "\n",
      "Solving report\n",
      "  Status            Optimal\n",
      "  Primal bound      150984\n",
      "  Dual bound        150984\n",
      "  Gap               0% (tolerance: 0.01%)\n",
      "  Solution status   feasible\n",
      "                    150984 (objective)\n",
      "                    0 (bound viol.)\n",
      "                    0 (int. viol.)\n",
      "                    0 (row viol.)\n",
      "  Timing            0.03 (total)\n",
      "                    0.01 (presolve)\n",
      "                    0.00 (postsolve)\n",
      "  Nodes             1\n",
      "  LP iterations     90 (total)\n",
      "                    0 (strong br.)\n",
      "                    0 (separation)\n",
      "                    0 (heuristics)\n",
      "OPTIMAL\n",
      "cycle_idx: [1, 4, 16, 6, 2, 25, 21, 14, 18, 23, 11, 5, 20]\n",
      "Length: 13\n",
      "added a constraint\n",
      "Presolving model\n",
      "759 rows, 702 cols, 3074 nonzeros\n",
      "408 rows, 702 cols, 2372 nonzeros\n",
      "408 rows, 702 cols, 2372 nonzeros\n",
      "Objective function is integral with scale 1\n",
      "\n",
      "Solving MIP model with:\n",
      "   408 rows\n",
      "   702 cols (702 binary, 0 integer, 0 implied int., 0 continuous)\n",
      "   2372 nonzeros\n",
      "\n",
      "        Nodes      |    B&B Tree     |            Objective Bounds              |  Dynamic Constraints |       Work      \n",
      "     Proc. InQueue |  Leaves   Expl. | BestBound       BestSol              Gap |   Cuts   InLp Confl. | LpIters     Time\n",
      "\n",
      "         0       0         0   0.00%   0               inf                  inf        0      0      0         0     0.0s\n",
      "0; Iter: Time           0; average =           0; Bound =           0\n",
      " T       0       0         0   0.00%   0               152017           100.00%        0      0      0       102     0.0s\n",
      "\n",
      "Solving report\n",
      "  Status            Optimal\n",
      "  Primal bound      152017\n",
      "  Dual bound        152017\n",
      "  Gap               0% (tolerance: 0.01%)\n",
      "  Solution status   feasible\n",
      "                    152017 (objective)\n",
      "                    0 (bound viol.)\n",
      "                    0 (int. viol.)\n",
      "                    0 (row viol.)\n",
      "  Timing            0.02 (total)\n",
      "                    0.01 (presolve)\n",
      "                    0.00 (postsolve)\n",
      "  Nodes             1\n",
      "  LP iterations     102 (total)\n",
      "                    0 (strong br.)\n",
      "                    0 (separation)\n",
      "                    0 (heuristics)\n",
      "OPTIMAL\n",
      "cycle_idx: [1, 4, 25, 21, 18, 23, 11, 5, 20]\n",
      "Length: 9\n",
      "added a constraint\n",
      "Presolving model\n",
      "760 rows, 702 cols, 3146 nonzeros\n",
      "409 rows, 702 cols, 2444 nonzeros\n",
      "409 rows, 702 cols, 2444 nonzeros\n",
      "Objective function is integral with scale 1\n",
      "\n",
      "Solving MIP model with:\n",
      "   409 rows\n",
      "   702 cols (702 binary, 0 integer, 0 implied int., 0 continuous)\n",
      "   2444 nonzeros\n",
      "\n",
      "        Nodes      |    B&B Tree     |            Objective Bounds              |  Dynamic Constraints |       Work      \n",
      "     Proc. InQueue |  Leaves   Expl. | BestBound       BestSol              Gap |   Cuts   InLp Confl. | LpIters     Time\n",
      "\n",
      "         0       0         0   0.00%   0               inf                  inf        0      0      0         0     0.0s\n",
      "0; Iter: Time           0; average =           0; Bound =           0\n",
      " T       0       0         0   0.00%   0               152119           100.00%        0      0      0        98     0.0s\n",
      "\n",
      "Solving report\n",
      "  Status            Optimal\n",
      "  Primal bound      152119\n",
      "  Dual bound        152119\n",
      "  Gap               0% (tolerance: 0.01%)\n",
      "  Solution status   feasible\n",
      "                    152119 (objective)\n",
      "                    0 (bound viol.)\n",
      "                    0 (int. viol.)\n",
      "                    0 (row viol.)\n",
      "  Timing            0.02 (total)\n",
      "                    0.01 (presolve)\n",
      "                    0.00 (postsolve)\n",
      "  Nodes             1\n",
      "  LP iterations     98 (total)\n",
      "                    0 (strong br.)\n",
      "                    0 (separation)\n",
      "                    0 (heuristics)\n",
      "OPTIMAL\n",
      "cycle_idx: [1, 4, 25, 21, 14, 19, 24, 27, 7, 10, 13, 22, 12, 18, 23, 11, 5, 20]\n",
      "Length: 18\n",
      "added a constraint\n",
      "Presolving model\n",
      "761 rows, 702 cols, 3452 nonzeros\n",
      "410 rows, 702 cols, 2750 nonzeros\n",
      "410 rows, 702 cols, 2750 nonzeros\n",
      "Objective function is integral with scale 1\n",
      "\n",
      "Solving MIP model with:\n",
      "   410 rows\n",
      "   702 cols (702 binary, 0 integer, 0 implied int., 0 continuous)\n",
      "   2750 nonzeros\n",
      "\n",
      "        Nodes      |    B&B Tree     |            Objective Bounds              |  Dynamic Constraints |       Work      \n",
      "     Proc. InQueue |  Leaves   Expl. | BestBound       BestSol              Gap |   Cuts   InLp Confl. | LpIters     Time\n",
      "\n",
      "         0       0         0   0.00%   0               inf                  inf        0      0      0         0     0.0s\n",
      "0; Iter: Time           0; average =           0; Bound =           0\n",
      " T       0       0         0   0.00%   0               152735           100.00%        0      0      0        94     0.0s\n",
      "\n",
      "Solving report\n",
      "  Status            Optimal\n",
      "  Primal bound      152735\n",
      "  Dual bound        152735\n",
      "  Gap               0% (tolerance: 0.01%)\n",
      "  Solution status   feasible\n",
      "                    152735 (objective)\n",
      "                    0 (bound viol.)\n",
      "                    0 (int. viol.)\n",
      "                    0 (row viol.)\n",
      "  Timing            0.02 (total)\n",
      "                    0.01 (presolve)\n",
      "                    0.00 (postsolve)\n",
      "  Nodes             1\n",
      "  LP iterations     94 (total)\n",
      "                    0 (strong br.)\n",
      "                    0 (separation)\n",
      "                    0 (heuristics)\n",
      "OPTIMAL\n",
      "cycle_idx: [1, 4, 23, 18, 11, 5, 20]\n",
      "Length: 7\n",
      "added a constraint\n",
      "Presolving model\n",
      "762 rows, 702 cols, 3494 nonzeros\n",
      "411 rows, 702 cols, 2792 nonzeros\n",
      "411 rows, 702 cols, 2792 nonzeros\n",
      "Objective function is integral with scale 1\n",
      "\n",
      "Solving MIP model with:\n",
      "   411 rows\n",
      "   702 cols (702 binary, 0 integer, 0 implied int., 0 continuous)\n",
      "   2792 nonzeros\n",
      "\n",
      "        Nodes      |    B&B Tree     |            Objective Bounds              |  Dynamic Constraints |       Work      \n",
      "     Proc. InQueue |  Leaves   Expl. | BestBound       BestSol              Gap |   Cuts   InLp Confl. | LpIters     Time\n",
      "\n",
      "         0       0         0   0.00%   0               inf                  inf        0      0      0         0     0.0s\n",
      "0; Iter: Time           0; average =           0; Bound =           0\n",
      "         0       0         0   0.00%   152952          inf                  inf        0      0      4       101     0.0s\n",
      " R       0       0         0   0.00%   153105.111111   268940            43.07%       49      4     14       117     0.1s\n",
      " C       0       0         0   0.00%   153222          196030            21.84%      136      7     14       134     0.1s\n",
      "\n",
      "Solving report\n",
      "  Status            Optimal\n",
      "  Primal bound      153229\n",
      "  Dual bound        153229\n",
      "  Gap               0% (tolerance: 0.01%)\n",
      "  Solution status   feasible\n",
      "                    153229 (objective)\n",
      "                    0 (bound viol.)\n",
      "                    3.5527136788e-15 (int. viol.)\n",
      "                    0 (row viol.)\n",
      "  Timing            0.46 (total)\n",
      "                    0.01 (presolve)\n",
      "                    0.00 (postsolve)\n",
      "  Nodes             1\n",
      "  LP iterations     170 (total)\n",
      "                    0 (strong br.)\n",
      "                    39 (separation)\n",
      "                    30 (heuristics)\n"
     ]
    },
    {
     "name": "stdout",
     "output_type": "stream",
     "text": [
      "OPTIMAL\n",
      "cycle_idx: [1, 4, 23, 11, 5, 20]\n",
      "Length: 6\n",
      "added a constraint\n",
      "Presolving model\n",
      "763 rows, 702 cols, 3524 nonzeros\n",
      "412 rows, 702 cols, 2822 nonzeros\n",
      "412 rows, 702 cols, 2822 nonzeros\n",
      "Objective function is integral with scale 1\n",
      "\n",
      "Solving MIP model with:\n",
      "   412 rows\n",
      "   702 cols (702 binary, 0 integer, 0 implied int., 0 continuous)\n",
      "   2822 nonzeros\n",
      "\n",
      "        Nodes      |    B&B Tree     |            Objective Bounds              |  Dynamic Constraints |       Work      \n",
      "     Proc. InQueue |  Leaves   Expl. | BestBound       BestSol              Gap |   Cuts   InLp Confl. | LpIters     Time\n",
      "\n",
      "         0       0         0   0.00%   0               inf                  inf        0      0      0         0     0.0s\n",
      "0; Iter: Time           0; average =           0; Bound =           0\n",
      "         0       0         0   0.00%   152952          inf                  inf        0      0      4       104     0.0s\n",
      " R       0       0         0   0.00%   153006          289065            47.07%       27      1      4       108     0.0s\n",
      " C       0       0         0   0.00%   153048.571429   196030            21.93%      126      5      4       117     0.1s\n",
      "\n",
      "Solving report\n",
      "  Status            Optimal\n",
      "  Primal bound      153266\n",
      "  Dual bound        153266\n",
      "  Gap               0% (tolerance: 0.01%)\n",
      "  Solution status   feasible\n",
      "                    153266 (objective)\n",
      "                    0 (bound viol.)\n",
      "                    0 (int. viol.)\n",
      "                    0 (row viol.)\n",
      "  Timing            0.78 (total)\n",
      "                    0.01 (presolve)\n",
      "                    0.00 (postsolve)\n",
      "  Nodes             1\n",
      "  LP iterations     217 (total)\n",
      "                    0 (strong br.)\n",
      "                    89 (separation)\n",
      "                    24 (heuristics)\n",
      "OPTIMAL\n",
      "cycle_idx: [1, 4, 2, 6, 16, 19, 24, 27, 7, 10, 13, 22, 12, 14, 21, 25, 23, 18, 11, 5, 20]\n",
      "Length: 21\n",
      "added a constraint\n",
      "Presolving model\n",
      "764 rows, 702 cols, 3944 nonzeros\n",
      "413 rows, 702 cols, 3242 nonzeros\n",
      "413 rows, 702 cols, 3242 nonzeros\n",
      "Objective function is integral with scale 1\n",
      "\n",
      "Solving MIP model with:\n",
      "   413 rows\n",
      "   702 cols (702 binary, 0 integer, 0 implied int., 0 continuous)\n",
      "   3242 nonzeros\n",
      "\n",
      "        Nodes      |    B&B Tree     |            Objective Bounds              |  Dynamic Constraints |       Work      \n",
      "     Proc. InQueue |  Leaves   Expl. | BestBound       BestSol              Gap |   Cuts   InLp Confl. | LpIters     Time\n",
      "\n",
      "         0       0         0   0.00%   0               inf                  inf        0      0      0         0     0.0s\n",
      "0; Iter: Time           0; average =           0; Bound =           0\n",
      " R       0       0         0   0.00%   153959          181812            15.32%        0      0      0       106     0.0s\n",
      " C       0       0         0   0.00%   154013          163901             6.03%       56      5      0       112     0.1s\n",
      "\n",
      "Solving report\n",
      "  Status            Optimal\n",
      "  Primal bound      154013\n",
      "  Dual bound        154013\n",
      "  Gap               0% (tolerance: 0.01%)\n",
      "  Solution status   feasible\n",
      "                    154013 (objective)\n",
      "                    0 (bound viol.)\n",
      "                    0 (int. viol.)\n",
      "                    0 (row viol.)\n",
      "  Timing            0.07 (total)\n",
      "                    0.01 (presolve)\n",
      "                    0.00 (postsolve)\n",
      "  Nodes             1\n",
      "  LP iterations     112 (total)\n",
      "                    0 (strong br.)\n",
      "                    6 (separation)\n",
      "                    0 (heuristics)\n",
      "OPTIMAL\n",
      "cycle_idx: [1, 3, 15, 8, 5, 20]\n",
      "Length: 6\n",
      "added a constraint\n",
      "Presolving model\n",
      "765 rows, 702 cols, 3974 nonzeros\n",
      "414 rows, 702 cols, 3272 nonzeros\n",
      "414 rows, 702 cols, 3272 nonzeros\n",
      "Objective function is integral with scale 1\n",
      "\n",
      "Solving MIP model with:\n",
      "   414 rows\n",
      "   702 cols (702 binary, 0 integer, 0 implied int., 0 continuous)\n",
      "   3272 nonzeros\n",
      "\n",
      "        Nodes      |    B&B Tree     |            Objective Bounds              |  Dynamic Constraints |       Work      \n",
      "     Proc. InQueue |  Leaves   Expl. | BestBound       BestSol              Gap |   Cuts   InLp Confl. | LpIters     Time\n",
      "\n",
      "         0       0         0   0.00%   0               inf                  inf        0      0      0         0     0.0s\n",
      "0; Iter: Time           0; average =           0; Bound =           0\n",
      " T       0       0         0   0.00%   0               154082           100.00%        0      0      0        95     0.0s\n",
      "\n",
      "Solving report\n",
      "  Status            Optimal\n",
      "  Primal bound      154082\n",
      "  Dual bound        154082\n",
      "  Gap               0% (tolerance: 0.01%)\n",
      "  Solution status   feasible\n",
      "                    154082 (objective)\n",
      "                    0 (bound viol.)\n",
      "                    0 (int. viol.)\n",
      "                    0 (row viol.)\n",
      "  Timing            0.03 (total)\n",
      "                    0.02 (presolve)\n",
      "                    0.00 (postsolve)\n",
      "  Nodes             1\n",
      "  LP iterations     95 (total)\n",
      "                    0 (strong br.)\n",
      "                    0 (separation)\n",
      "                    0 (heuristics)\n",
      "OPTIMAL\n",
      "cycle_idx: [1, 4, 11, 9, 17, 26, 3, 15, 8, 5, 20]\n",
      "Length: 11\n",
      "added a constraint\n",
      "Presolving model\n",
      "766 rows, 702 cols, 4084 nonzeros\n",
      "415 rows, 702 cols, 3382 nonzeros\n",
      "415 rows, 702 cols, 3382 nonzeros\n",
      "Objective function is integral with scale 1\n",
      "\n",
      "Solving MIP model with:\n",
      "   415 rows\n",
      "   702 cols (702 binary, 0 integer, 0 implied int., 0 continuous)\n",
      "   3382 nonzeros\n",
      "\n",
      "        Nodes      |    B&B Tree     |            Objective Bounds              |  Dynamic Constraints |       Work      \n",
      "     Proc. InQueue |  Leaves   Expl. | BestBound       BestSol              Gap |   Cuts   InLp Confl. | LpIters     Time\n",
      "\n",
      "         0       0         0   0.00%   0               inf                  inf        0      0      0         0     0.0s\n",
      "0; Iter: Time           0; average =           0; Bound =           0\n",
      "         0       0         0   0.00%   154216.5        inf                  inf        0      0      6        98     0.0s\n",
      "\n",
      "Solving report\n",
      "  Status            Optimal\n",
      "  Primal bound      154343\n",
      "  Dual bound        154343\n",
      "  Gap               0% (tolerance: 0.01%)\n",
      "  Solution status   feasible\n",
      "                    154343 (objective)\n",
      "                    0 (bound viol.)\n",
      "                    0 (int. viol.)\n",
      "                    0 (row viol.)\n",
      "  Timing            0.04 (total)\n",
      "                    0.01 (presolve)\n",
      "                    0.00 (postsolve)\n",
      "  Nodes             1\n",
      "  LP iterations     100 (total)\n",
      "                    0 (strong br.)\n",
      "                    2 (separation)\n",
      "                    0 (heuristics)\n",
      "OPTIMAL\n",
      "cycle_idx: [1, 4, 25, 21, 14, 18, 23, 11, 9, 17, 26, 3, 15, 8, 5, 20]\n",
      "Length: 16\n",
      "added a constraint\n",
      "Presolving model\n",
      "767 rows, 702 cols, 4324 nonzeros\n",
      "416 rows, 702 cols, 3622 nonzeros\n",
      "416 rows, 702 cols, 3622 nonzeros\n",
      "Objective function is integral with scale 1\n",
      "\n",
      "Solving MIP model with:\n",
      "   416 rows\n",
      "   702 cols (702 binary, 0 integer, 0 implied int., 0 continuous)\n",
      "   3622 nonzeros\n",
      "\n",
      "        Nodes      |    B&B Tree     |            Objective Bounds              |  Dynamic Constraints |       Work      \n",
      "     Proc. InQueue |  Leaves   Expl. | BestBound       BestSol              Gap |   Cuts   InLp Confl. | LpIters     Time\n",
      "\n",
      "         0       0         0   0.00%   0               inf                  inf        0      0      0         0     0.0s\n",
      "0; Iter: Time           0; average =           0; Bound =           0\n",
      " R       0       0         0   0.00%   154355.5        172942            10.75%        0      0      0        97     0.0s\n",
      "\n",
      "Solving report\n",
      "  Status            Optimal\n",
      "  Primal bound      154526\n",
      "  Dual bound        154526\n",
      "  Gap               0% (tolerance: 0.01%)\n",
      "  Solution status   feasible\n",
      "                    154526 (objective)\n",
      "                    0 (bound viol.)\n",
      "                    0 (int. viol.)\n",
      "                    0 (row viol.)\n",
      "  Timing            0.13 (total)\n",
      "                    0.01 (presolve)\n",
      "                    0.00 (postsolve)\n",
      "  Nodes             1\n",
      "  LP iterations     112 (total)\n",
      "                    0 (strong br.)\n",
      "                    11 (separation)\n",
      "                    4 (heuristics)\n",
      "OPTIMAL\n",
      "cycle_idx: [1, 4, 23, 18, 25, 21, 14, 12, 22, 19, 24, 27, 7, 10, 13, 26, 17, 9, 11, 5, 20]\n",
      "Length: 21\n",
      "added a constraint\n",
      "Presolving model\n",
      "768 rows, 702 cols, 4744 nonzeros\n",
      "417 rows, 702 cols, 4042 nonzeros\n",
      "417 rows, 702 cols, 4042 nonzeros\n",
      "Objective function is integral with scale 1\n",
      "\n",
      "Solving MIP model with:\n",
      "   417 rows\n",
      "   702 cols (702 binary, 0 integer, 0 implied int., 0 continuous)\n",
      "   4042 nonzeros\n",
      "\n",
      "        Nodes      |    B&B Tree     |            Objective Bounds              |  Dynamic Constraints |       Work      \n",
      "     Proc. InQueue |  Leaves   Expl. | BestBound       BestSol              Gap |   Cuts   InLp Confl. | LpIters     Time\n",
      "\n",
      "         0       0         0   0.00%   0               inf                  inf        0      0      0         0     0.0s\n",
      "0; Iter: Time           0; average =           0; Bound =           0\n",
      "         0       0         0   0.00%   154850          inf                  inf        0      0      8       112     0.0s\n",
      "\n",
      "Solving report\n",
      "  Status            Optimal\n",
      "  Primal bound      155610\n",
      "  Dual bound        155610\n",
      "  Gap               0% (tolerance: 0.01%)\n",
      "  Solution status   feasible\n",
      "                    155610 (objective)\n",
      "                    0 (bound viol.)\n",
      "                    0 (int. viol.)\n",
      "                    0 (row viol.)\n",
      "  Timing            0.20 (total)\n",
      "                    0.02 (presolve)\n",
      "                    0.00 (postsolve)\n",
      "  Nodes             1\n",
      "  LP iterations     137 (total)\n",
      "                    0 (strong br.)\n",
      "                    25 (separation)\n",
      "                    0 (heuristics)\n"
     ]
    },
    {
     "name": "stdout",
     "output_type": "stream",
     "text": [
      "OPTIMAL\n",
      "cycle_idx: [1, 4, 16, 6, 2, 25, 21, 14, 18, 23, 11, 9, 17, 26, 3, 15, 8, 5, 20]\n",
      "Length: 19\n",
      "added a constraint\n",
      "Presolving model\n",
      "769 rows, 702 cols, 5086 nonzeros\n",
      "418 rows, 702 cols, 4384 nonzeros\n",
      "418 rows, 702 cols, 4384 nonzeros\n",
      "Objective function is integral with scale 1\n",
      "\n",
      "Solving MIP model with:\n",
      "   418 rows\n",
      "   702 cols (702 binary, 0 integer, 0 implied int., 0 continuous)\n",
      "   4384 nonzeros\n",
      "\n",
      "        Nodes      |    B&B Tree     |            Objective Bounds              |  Dynamic Constraints |       Work      \n",
      "     Proc. InQueue |  Leaves   Expl. | BestBound       BestSol              Gap |   Cuts   InLp Confl. | LpIters     Time\n",
      "\n",
      "         0       0         0   0.00%   0               inf                  inf        0      0      0         0     0.0s\n",
      "0; Iter: Time           0; average =           0; Bound =           0\n",
      " R       0       0         0   0.00%   155512.25       217517            28.51%        0      0      0       111     0.0s\n",
      " C       0       0         0   0.00%   155830.477273   176959            11.94%      240      6      0       141     0.2s\n",
      " L       0       0         0   0.00%   156186.874044   156354             0.11%     1233     33      0       679     2.8s\n",
      "\n",
      "85.3% inactive integer columns, restarting\n",
      "Model after restart has 83 rows, 80 cols (80 bin., 0 int., 0 impl., 0 cont.), and 488 nonzeros\n",
      "\n",
      "         0       0         0   0.00%   156190.033664   156354             0.10%       11      0      0      1225     3.0s\n",
      "         0       0         0   0.00%   156191.367668   156354             0.10%       11      8      7      1268     3.0s\n",
      "\n",
      "5.0% inactive integer columns, restarting\n",
      "Model after restart has 81 rows, 75 cols (75 bin., 0 int., 0 impl., 0 cont.), and 468 nonzeros\n",
      "\n",
      "         0       0         0   0.00%   156259.262055   156354             0.06%        9      0      0      2011     3.7s\n",
      "         0       0         0   0.00%   156259.262055   156354             0.06%        9      9      4      2053     3.7s\n",
      "\n",
      "4.0% inactive integer columns, restarting\n",
      "Model after restart has 71 rows, 65 cols (65 bin., 0 int., 0 impl., 0 cont.), and 413 nonzeros\n",
      "\n",
      "         0       0         0   0.00%   156260.429114   156354             0.06%       10      0      0      2568     3.8s\n",
      "         0       0         0   0.00%   156260.450986   156354             0.06%       10     10      2      2629     3.8s\n",
      "\n",
      "Solving report\n",
      "  Status            Optimal\n",
      "  Primal bound      156354\n",
      "  Dual bound        156354\n",
      "  Gap               0% (tolerance: 0.01%)\n",
      "  Solution status   feasible\n",
      "                    156354 (objective)\n",
      "                    0 (bound viol.)\n",
      "                    4.66293670343e-14 (int. viol.)\n",
      "                    0 (row viol.)\n",
      "  Timing            3.79 (total)\n",
      "                    0.05 (presolve)\n",
      "                    0.00 (postsolve)\n",
      "  Nodes             1\n",
      "  LP iterations     2749 (total)\n",
      "                    0 (strong br.)\n",
      "                    1525 (separation)\n",
      "                    944 (heuristics)\n",
      "OPTIMAL\n",
      "cycle_idx: [1, 4, 23, 18, 14, 21, 25, 2, 6, 16, 24, 27, 7, 10, 13, 26, 17, 9, 11, 5, 20]\n",
      "Length: 21\n",
      "added a constraint\n",
      "Presolving model\n",
      "770 rows, 702 cols, 5506 nonzeros\n",
      "419 rows, 702 cols, 4804 nonzeros\n",
      "419 rows, 702 cols, 4804 nonzeros\n",
      "Objective function is integral with scale 1\n",
      "\n",
      "Solving MIP model with:\n",
      "   419 rows\n",
      "   702 cols (702 binary, 0 integer, 0 implied int., 0 continuous)\n",
      "   4804 nonzeros\n",
      "\n",
      "        Nodes      |    B&B Tree     |            Objective Bounds              |  Dynamic Constraints |       Work      \n",
      "     Proc. InQueue |  Leaves   Expl. | BestBound       BestSol              Gap |   Cuts   InLp Confl. | LpIters     Time\n",
      "\n",
      "         0       0         0   0.00%   0               inf                  inf        0      0      0         0     0.0s\n",
      "0; Iter: Time           0; average =           0; Bound =           0\n",
      " R       0       0         0   0.00%   155512.25       239077            34.95%        0      0      0       108     0.0s\n",
      " C       0       0         0   0.00%   155865.642105   169150             7.85%      195      6      0       152     0.2s\n",
      " L       0       0         0   0.00%   156128.708566   156550             0.27%     1415     28      0       774     3.5s\n",
      "\n",
      "83.2% inactive integer columns, restarting\n",
      "Model after restart has 119 rows, 114 cols (114 bin., 0 int., 0 impl., 0 cont.), and 632 nonzeros\n",
      "\n",
      "         0       0         0   0.00%   156128.711998   156550             0.27%       13      0      0      1784     3.7s\n",
      "         0       0         0   0.00%   156128.711998   156550             0.27%       13     13     10      1875     3.7s\n",
      "\n",
      "2.6% inactive integer columns, restarting\n",
      "Model after restart has 103 rows, 101 cols (101 bin., 0 int., 0 impl., 0 cont.), and 563 nonzeros\n",
      "\n",
      "         0       0         0   0.00%   156136.356118   156550             0.26%       12      0      0      2312     4.0s\n",
      "         0       0         0   0.00%   156136.356118   156550             0.26%       12     12      6      2409     4.0s\n",
      "\n",
      "3.0% inactive integer columns, restarting\n",
      "Model after restart has 100 rows, 95 cols (95 bin., 0 int., 0 impl., 0 cont.), and 574 nonzeros\n",
      "\n",
      "         0       0         0   0.00%   156136.821689   156550             0.26%       11      0      0      2764     4.2s\n",
      "         0       0         0   0.00%   156136.821689   156550             0.26%       11     11      4      2837     4.2s\n",
      "\n",
      "Solving report\n",
      "  Status            Optimal\n",
      "  Primal bound      156550\n",
      "  Dual bound        156550\n",
      "  Gap               0% (tolerance: 0.01%)\n",
      "  Solution status   feasible\n",
      "                    156550 (objective)\n",
      "                    0 (bound viol.)\n",
      "                    1.06581410364e-14 (int. viol.)\n",
      "                    0 (row viol.)\n",
      "  Timing            4.42 (total)\n",
      "                    0.06 (presolve)\n",
      "                    0.00 (postsolve)\n",
      "  Nodes             1\n",
      "  LP iterations     4562 (total)\n",
      "                    1245 (strong br.)\n",
      "                    1281 (separation)\n",
      "                    1583 (heuristics)\n",
      "OPTIMAL\n",
      "cycle_idx: [1, 4, 11, 18, 23, 25, 21, 14, 12, 22, 19, 24, 27, 7, 10, 13, 17, 9, 26, 3, 15, 8, 5, 20]\n",
      "Length: 24\n",
      "added a constraint\n",
      "Presolving model\n",
      "771 rows, 702 cols, 6058 nonzeros\n",
      "420 rows, 702 cols, 5356 nonzeros\n",
      "420 rows, 702 cols, 5356 nonzeros\n",
      "Objective function is integral with scale 1\n",
      "\n",
      "Solving MIP model with:\n",
      "   420 rows\n",
      "   702 cols (702 binary, 0 integer, 0 implied int., 0 continuous)\n",
      "   5356 nonzeros\n",
      "\n",
      "        Nodes      |    B&B Tree     |            Objective Bounds              |  Dynamic Constraints |       Work      \n",
      "     Proc. InQueue |  Leaves   Expl. | BestBound       BestSol              Gap |   Cuts   InLp Confl. | LpIters     Time\n",
      "\n",
      "         0       0         0   0.00%   0               inf                  inf        0      0      0         0     0.0s\n",
      "0; Iter: Time           0; average =           0; Bound =           0\n",
      " R       0       0         0   0.00%   156016.5        184876            15.61%        0      0      0       109     0.0s\n",
      " C       0       0         0   0.00%   156507          170122             8.00%      316      8      0       131     0.3s\n",
      "\n",
      "Solving report\n",
      "  Status            Optimal\n",
      "  Primal bound      156565\n",
      "  Dual bound        156565\n",
      "  Gap               0% (tolerance: 0.01%)\n",
      "  Solution status   feasible\n",
      "                    156565 (objective)\n",
      "                    0 (bound viol.)\n",
      "                    0 (int. viol.)\n",
      "                    0 (row viol.)\n",
      "  Timing            0.45 (total)\n",
      "                    0.03 (presolve)\n",
      "                    0.00 (postsolve)\n",
      "  Nodes             1\n",
      "  LP iterations     148 (total)\n",
      "                    0 (strong br.)\n",
      "                    32 (separation)\n",
      "                    7 (heuristics)\n",
      "OPTIMAL\n",
      "cycle_idx: [1, 4, 23, 18, 14, 21, 25, 2, 6, 16, 24, 19, 12, 22, 7, 27, 10, 13, 26, 17, 9, 11, 5, 20]\n",
      "Length: 24\n",
      "added a constraint\n",
      "Presolving model\n",
      "772 rows, 702 cols, 6610 nonzeros\n",
      "421 rows, 702 cols, 5908 nonzeros\n",
      "421 rows, 702 cols, 5908 nonzeros\n",
      "Objective function is integral with scale 1\n",
      "\n",
      "Solving MIP model with:\n",
      "   421 rows\n",
      "   702 cols (702 binary, 0 integer, 0 implied int., 0 continuous)\n",
      "   5908 nonzeros\n",
      "\n",
      "        Nodes      |    B&B Tree     |            Objective Bounds              |  Dynamic Constraints |       Work      \n",
      "     Proc. InQueue |  Leaves   Expl. | BestBound       BestSol              Gap |   Cuts   InLp Confl. | LpIters     Time\n",
      "\n",
      "         0       0         0   0.00%   0               inf                  inf        0      0      0         0     0.0s\n",
      "0; Iter: Time           0; average =           0; Bound =           0\n",
      " T       0       0         0   0.00%   0               157361           100.00%        0      0      0       107     0.0s\n",
      "\n",
      "Solving report\n",
      "  Status            Optimal\n",
      "  Primal bound      157361\n",
      "  Dual bound        157361\n",
      "  Gap               0% (tolerance: 0.01%)\n",
      "  Solution status   feasible\n",
      "                    157361 (objective)\n",
      "                    0 (bound viol.)\n",
      "                    0 (int. viol.)\n",
      "                    0 (row viol.)\n",
      "  Timing            0.04 (total)\n",
      "                    0.03 (presolve)\n",
      "                    0.00 (postsolve)\n",
      "  Nodes             1\n",
      "  LP iterations     107 (total)\n",
      "                    0 (strong br.)\n",
      "                    0 (separation)\n",
      "                    0 (heuristics)\n",
      "OPTIMAL\n",
      "cycle_idx: [1, 4, 23, 18, 11, 9, 17, 26, 3, 15, 8, 5, 20]\n",
      "Length: 13\n"
     ]
    },
    {
     "name": "stdout",
     "output_type": "stream",
     "text": [
      "added a constraint\n",
      "Presolving model\n",
      "773 rows, 702 cols, 6766 nonzeros\n",
      "422 rows, 702 cols, 6064 nonzeros\n",
      "422 rows, 702 cols, 6064 nonzeros\n",
      "Objective function is integral with scale 1\n",
      "\n",
      "Solving MIP model with:\n",
      "   422 rows\n",
      "   702 cols (702 binary, 0 integer, 0 implied int., 0 continuous)\n",
      "   6064 nonzeros\n",
      "\n",
      "        Nodes      |    B&B Tree     |            Objective Bounds              |  Dynamic Constraints |       Work      \n",
      "     Proc. InQueue |  Leaves   Expl. | BestBound       BestSol              Gap |   Cuts   InLp Confl. | LpIters     Time\n",
      "\n",
      "         0       0         0   0.00%   0               inf                  inf        0      0      0         0     0.0s\n",
      "0; Iter: Time           0; average =           0; Bound =           0\n",
      "         0       0         0   0.00%   157530.25       inf                  inf        0      0      4       111     0.0s\n",
      " R       0       0         0   0.00%   157723          222625            29.15%      103      3     10       131     0.1s\n",
      "\n",
      "Solving report\n",
      "  Status            Optimal\n",
      "  Primal bound      157855\n",
      "  Dual bound        157855\n",
      "  Gap               0% (tolerance: 0.01%)\n",
      "  Solution status   feasible\n",
      "                    157855 (objective)\n",
      "                    0 (bound viol.)\n",
      "                    0 (int. viol.)\n",
      "                    0 (row viol.)\n",
      "  Timing            1.38 (total)\n",
      "                    0.03 (presolve)\n",
      "                    0.00 (postsolve)\n",
      "  Nodes             1\n",
      "  LP iterations     357 (total)\n",
      "                    0 (strong br.)\n",
      "                    124 (separation)\n",
      "                    122 (heuristics)\n",
      "OPTIMAL\n",
      "cycle_idx: [1, 4, 23, 11, 9, 17, 26, 3, 15, 8, 5, 20]\n",
      "Length: 12\n",
      "added a constraint\n",
      "Presolving model\n",
      "774 rows, 702 cols, 6898 nonzeros\n",
      "423 rows, 702 cols, 6196 nonzeros\n",
      "423 rows, 702 cols, 6196 nonzeros\n",
      "Objective function is integral with scale 1\n",
      "\n",
      "Solving MIP model with:\n",
      "   423 rows\n",
      "   702 cols (702 binary, 0 integer, 0 implied int., 0 continuous)\n",
      "   6196 nonzeros\n",
      "\n",
      "        Nodes      |    B&B Tree     |            Objective Bounds              |  Dynamic Constraints |       Work      \n",
      "     Proc. InQueue |  Leaves   Expl. | BestBound       BestSol              Gap |   Cuts   InLp Confl. | LpIters     Time\n",
      "\n",
      "         0       0         0   0.00%   0               inf                  inf        0      0      0         0     0.0s\n",
      "0; Iter: Time           0; average =           0; Bound =           0\n",
      "         0       0         0   0.00%   157530.25       inf                  inf        0      0      9       113     0.1s\n",
      " R       0       0         0   0.00%   157566.25       200157            21.28%      125      2     11       116     0.1s\n",
      " C       0       0         0   0.00%   157708.75       169948             7.20%      294      6     11       134     0.2s\n",
      "\n",
      "Solving report\n",
      "  Status            Optimal\n",
      "  Primal bound      157892\n",
      "  Dual bound        157892\n",
      "  Gap               0% (tolerance: 0.01%)\n",
      "  Solution status   feasible\n",
      "                    157892 (objective)\n",
      "                    0 (bound viol.)\n",
      "                    0 (int. viol.)\n",
      "                    0 (row viol.)\n",
      "  Timing            1.48 (total)\n",
      "                    0.04 (presolve)\n",
      "                    0.00 (postsolve)\n",
      "  Nodes             1\n",
      "  LP iterations     405 (total)\n",
      "                    0 (strong br.)\n",
      "                    160 (separation)\n",
      "                    132 (heuristics)\n",
      "OPTIMAL\n",
      "cycle_idx: [1, 4, 2, 6, 16, 19, 24, 27, 7, 10, 13, 22, 12, 14, 21, 25, 23, 18, 11, 9, 17, 26, 3, 15, 8, 5, 20]\n",
      "Length: 27\n"
     ]
    }
   ],
   "source": [
    "while true\n",
    "    optimize!(m)\n",
    "    status = termination_status(m)\n",
    "    println(status)\n",
    "    cycle_idx = getcycle(m, N)\n",
    "    if solved(m, cycle_idx,N)\n",
    "        break;\n",
    "    end\n",
    "end\n",
    "\n"
   ]
  },
  {
   "cell_type": "code",
   "execution_count": 104,
   "id": "26aca656",
   "metadata": {},
   "outputs": [
    {
     "name": "stdout",
     "output_type": "stream",
     "text": [
      "Trip length 157892.0\n"
     ]
    }
   ],
   "source": [
    "println(\"Trip length $(objective_value(m))\")"
   ]
  },
  {
   "cell_type": "code",
   "execution_count": 105,
   "id": "808046ca",
   "metadata": {},
   "outputs": [
    {
     "data": {
      "image/png": "[encoded data removed]"
     },
     "execution_count": 105,
     "metadata": {},
     "output_type": "execute_result"
    }
   ],
   "source": [
    "using CSV, DataFrames\n",
    "sbws_la = DataFrame(CSV.File(\"Subway_LV.csv\"))\n",
    "\n",
    "using Plots\n",
    "pyplot()\n",
    "\n",
    "cycle_idx = getcycle(m, N)\n",
    "ids = vcat(cycle_idx, cycle_idx[1])\n",
    "\n",
    "p = plot(sbws_la.long[ids], sbws_la.latt[ids])\n"
   ]
  },
  {
   "cell_type": "markdown",
   "id": "75d84fcc",
   "metadata": {},
   "source": [
    "### Model estimation - minimizing sum of squares"
   ]
  },
  {
   "cell_type": "code",
   "execution_count": 106,
   "id": "d940cdaa",
   "metadata": {},
   "outputs": [
    {
     "data": {
      "text/plain": [
       "10000000000×10000000000 Diagonal{Int64, UnitRange{Int64}}:\n",
       " 1  ⋅  ⋅  ⋅  ⋅  ⋅  ⋅  ⋅  ⋅   ⋅   ⋅  …           ⋅           ⋅            ⋅\n",
       " ⋅  2  ⋅  ⋅  ⋅  ⋅  ⋅  ⋅  ⋅   ⋅   ⋅              ⋅           ⋅            ⋅\n",
       " ⋅  ⋅  3  ⋅  ⋅  ⋅  ⋅  ⋅  ⋅   ⋅   ⋅              ⋅           ⋅            ⋅\n",
       " ⋅  ⋅  ⋅  4  ⋅  ⋅  ⋅  ⋅  ⋅   ⋅   ⋅              ⋅           ⋅            ⋅\n",
       " ⋅  ⋅  ⋅  ⋅  5  ⋅  ⋅  ⋅  ⋅   ⋅   ⋅              ⋅           ⋅            ⋅\n",
       " ⋅  ⋅  ⋅  ⋅  ⋅  6  ⋅  ⋅  ⋅   ⋅   ⋅  …           ⋅           ⋅            ⋅\n",
       " ⋅  ⋅  ⋅  ⋅  ⋅  ⋅  7  ⋅  ⋅   ⋅   ⋅              ⋅           ⋅            ⋅\n",
       " ⋅  ⋅  ⋅  ⋅  ⋅  ⋅  ⋅  8  ⋅   ⋅   ⋅              ⋅           ⋅            ⋅\n",
       " ⋅  ⋅  ⋅  ⋅  ⋅  ⋅  ⋅  ⋅  9   ⋅   ⋅              ⋅           ⋅            ⋅\n",
       " ⋅  ⋅  ⋅  ⋅  ⋅  ⋅  ⋅  ⋅  ⋅  10   ⋅              ⋅           ⋅            ⋅\n",
       " ⋅  ⋅  ⋅  ⋅  ⋅  ⋅  ⋅  ⋅  ⋅   ⋅  11  …           ⋅           ⋅            ⋅\n",
       " ⋅  ⋅  ⋅  ⋅  ⋅  ⋅  ⋅  ⋅  ⋅   ⋅   ⋅              ⋅           ⋅            ⋅\n",
       " ⋅  ⋅  ⋅  ⋅  ⋅  ⋅  ⋅  ⋅  ⋅   ⋅   ⋅              ⋅           ⋅            ⋅\n",
       " ⋮              ⋮                ⋮  ⋱                          \n",
       " ⋅  ⋅  ⋅  ⋅  ⋅  ⋅  ⋅  ⋅  ⋅   ⋅   ⋅              ⋅           ⋅            ⋅\n",
       " ⋅  ⋅  ⋅  ⋅  ⋅  ⋅  ⋅  ⋅  ⋅   ⋅   ⋅              ⋅           ⋅            ⋅\n",
       " ⋅  ⋅  ⋅  ⋅  ⋅  ⋅  ⋅  ⋅  ⋅   ⋅   ⋅  …           ⋅           ⋅            ⋅\n",
       " ⋅  ⋅  ⋅  ⋅  ⋅  ⋅  ⋅  ⋅  ⋅   ⋅   ⋅              ⋅           ⋅            ⋅\n",
       " ⋅  ⋅  ⋅  ⋅  ⋅  ⋅  ⋅  ⋅  ⋅   ⋅   ⋅              ⋅           ⋅            ⋅\n",
       " ⋅  ⋅  ⋅  ⋅  ⋅  ⋅  ⋅  ⋅  ⋅   ⋅   ⋅              ⋅           ⋅            ⋅\n",
       " ⋅  ⋅  ⋅  ⋅  ⋅  ⋅  ⋅  ⋅  ⋅   ⋅   ⋅              ⋅           ⋅            ⋅\n",
       " ⋅  ⋅  ⋅  ⋅  ⋅  ⋅  ⋅  ⋅  ⋅   ⋅   ⋅  …           ⋅           ⋅            ⋅\n",
       " ⋅  ⋅  ⋅  ⋅  ⋅  ⋅  ⋅  ⋅  ⋅   ⋅   ⋅              ⋅           ⋅            ⋅\n",
       " ⋅  ⋅  ⋅  ⋅  ⋅  ⋅  ⋅  ⋅  ⋅   ⋅   ⋅     9999999998           ⋅            ⋅\n",
       " ⋅  ⋅  ⋅  ⋅  ⋅  ⋅  ⋅  ⋅  ⋅   ⋅   ⋅              ⋅  9999999999            ⋅\n",
       " ⋅  ⋅  ⋅  ⋅  ⋅  ⋅  ⋅  ⋅  ⋅   ⋅   ⋅              ⋅           ⋅  10000000000"
      ]
     },
     "execution_count": 106,
     "metadata": {},
     "output_type": "execute_result"
    }
   ],
   "source": [
    "using LinearAlgebra\n",
    "d = Diagonal(1:10_000_000_000)\n"
   ]
  },
  {
   "cell_type": "code",
   "execution_count": 107,
   "id": "ef606557",
   "metadata": {},
   "outputs": [
    {
     "data": {
      "text/plain": [
       "1000×2 Matrix{Float64}:\n",
       " -2.17716    -1.83127\n",
       "  0.332044    0.284219\n",
       " -1.64633     6.90459\n",
       " -0.276537    0.11908\n",
       " -1.66691    -1.71031\n",
       " -1.67367    -2.45926\n",
       "  0.0991747   6.83504\n",
       " -0.3543      6.97389\n",
       "  1.77996    -0.672088\n",
       " -2.83261     1.82986\n",
       " -1.74379    -0.332756\n",
       " -3.95405     4.07955\n",
       " -1.98053     6.20902\n",
       "  ⋮          \n",
       " -0.964328    1.5794\n",
       " -0.7979      3.62411\n",
       " -0.160873   -1.77631\n",
       " -3.71352    -0.369285\n",
       " -0.692391    1.64024\n",
       "  0.0719139   5.28458\n",
       "  1.87634     4.77735\n",
       "  0.896339    5.63815\n",
       " -1.82068    -0.751579\n",
       " -3.2703      5.24526\n",
       "  1.25253    -2.91295\n",
       " -3.63407     0.56512"
      ]
     },
     "execution_count": 107,
     "metadata": {},
     "output_type": "execute_result"
    }
   ],
   "source": [
    "x = rand(Float64,(1000,2))*Diagonal([6,10]) .- [4 3]"
   ]
  },
  {
   "cell_type": "code",
   "execution_count": null,
   "id": "4b2addd6",
   "metadata": {},
   "outputs": [],
   "source": [
    "[1 2]"
   ]
  },
  {
   "cell_type": "code",
   "execution_count": 108,
   "id": "fac78f7b",
   "metadata": {},
   "outputs": [
    {
     "data": {
      "text/plain": [
       "1000-element Vector{Float64}:\n",
       "  -5.248311238637307\n",
       "  -1.2919637239160684\n",
       "  17.08217875305565\n",
       " 139.27552991763423\n",
       "   7.7201533983912425\n",
       "   0.5268064745447618\n",
       " 284.52388950671195\n",
       " -30.74072970849589\n",
       " 317.04010011022217\n",
       "  16.88540555462063\n",
       "  -6.1138021668575515\n",
       "  35.6124278509488\n",
       "   0.39964154813961006\n",
       "   ⋮\n",
       " -13.887296074693428\n",
       " -34.13203130496119\n",
       "  -2.4035185680260103\n",
       " 265.6406992138697\n",
       "   1.4932429534027585\n",
       " 132.176907175732\n",
       "  -4.021016394066963\n",
       "  -2.274694191145155\n",
       " 188.10630051909934\n",
       " 186.2265710723625\n",
       " 137.3539530666298\n",
       "   0.34211505397358"
      ]
     },
     "execution_count": 108,
     "metadata": {},
     "output_type": "execute_result"
    }
   ],
   "source": [
    "\n",
    "\n",
    "# here we generate a sample problem structure\n",
    "x = rand(Float64,(1000,2))*Diagonal([6,10]) .- [4 3]\n",
    "ϵ = randn(1000).*2 #errors\n",
    "\n",
    "a, b, c = 1, 10, 7 # values we are trying to estimate\n",
    "A = [a b/2;b/2 c]\n",
    "\n",
    "# y = a * x₁² + b*x₁x₂ + c x₂²\n",
    "y = (x * A ) .* x * [1;1] .+ ϵ # explained variable\n",
    ";\n",
    "y"
   ]
  },
  {
   "cell_type": "code",
   "execution_count": 109,
   "id": "a05a4268",
   "metadata": {
    "scrolled": true
   },
   "outputs": [
    {
     "name": "stdout",
     "output_type": "stream",
     "text": [
      "This is Ipopt version 3.14.4, running with linear solver MUMPS 5.4.1.\n",
      "\n",
      "Number of nonzeros in equality constraint Jacobian...:        0\n",
      "Number of nonzeros in inequality constraint Jacobian.:        0\n",
      "Number of nonzeros in Lagrangian Hessian.............:       10\n",
      "\n",
      "Total number of variables............................:        4\n",
      "                     variables with only lower bounds:        0\n",
      "                variables with lower and upper bounds:        0\n",
      "                     variables with only upper bounds:        0\n",
      "Total number of equality constraints.................:        0\n",
      "Total number of inequality constraints...............:        0\n",
      "        inequality constraints with only lower bounds:        0\n",
      "   inequality constraints with lower and upper bounds:        0\n",
      "        inequality constraints with only upper bounds:        0\n",
      "\n",
      "iter    objective    inf_pr   inf_du lg(mu)  ||d||  lg(rg) alpha_du alpha_pr  ls\n",
      "   0  1.4568239e+07 0.00e+00 1.00e+02  -1.0 0.00e+00    -  0.00e+00 0.00e+00   0\n",
      "   1  4.0345315e+03 0.00e+00 7.00e-04  -1.0 7.00e+00  -4.0 1.00e+00 1.00e+00f  1\n",
      "   2  4.0345268e+03 0.00e+00 5.94e-09  -5.7 1.78e-04  -4.5 1.00e+00 1.00e+00f  1\n",
      "\n",
      "Number of Iterations....: 2\n",
      "\n",
      "                                   (scaled)                 (unscaled)\n",
      "Objective...............:   1.0440393049956127e-01    4.0345267725661397e+03\n",
      "Dual infeasibility......:   5.9396085737021572e-09    2.2952689323574305e-04\n",
      "Constraint violation....:   0.0000000000000000e+00    0.0000000000000000e+00\n",
      "Variable bound violation:   0.0000000000000000e+00    0.0000000000000000e+00\n",
      "Complementarity.........:   0.0000000000000000e+00    0.0000000000000000e+00\n",
      "Overall NLP error.......:   5.9396085737021572e-09    2.2952689323574305e-04\n",
      "\n",
      "\n",
      "Number of objective function evaluations             = 3\n",
      "Number of objective gradient evaluations             = 3\n",
      "Number of equality constraint evaluations            = 0\n",
      "Number of inequality constraint evaluations          = 0\n",
      "Number of equality constraint Jacobian evaluations   = 0\n",
      "Number of inequality constraint Jacobian evaluations = 0\n",
      "Number of Lagrangian Hessian evaluations             = 1\n",
      "Total seconds in IPOPT                               = 0.007\n",
      "\n",
      "EXIT: Optimal Solution Found.\n"
     ]
    }
   ],
   "source": [
    "m = Model(optimizer_with_attributes(Ipopt.Optimizer)); \n",
    "\n",
    "@variable(m, aa[1:2,1:2])\n",
    "\n",
    "function errs(aa)\n",
    "   sum((y .- (x * aa ) .* x * [1;1]) .^ 2)\n",
    "end\n",
    "\n",
    "@objective(m, Min, errs(aa))\n",
    "\n",
    "optimize!(m)\n"
   ]
  },
  {
   "cell_type": "code",
   "execution_count": 111,
   "id": "69519d3f",
   "metadata": {},
   "outputs": [
    {
     "data": {
      "text/plain": [
       "2×2 Matrix{Float64}:\n",
       " 1.0  5.0\n",
       " 5.0  7.0"
      ]
     },
     "execution_count": 111,
     "metadata": {},
     "output_type": "execute_result"
    }
   ],
   "source": [
    "A"
   ]
  },
  {
   "cell_type": "code",
   "execution_count": 110,
   "id": "4a87a2bf",
   "metadata": {},
   "outputs": [
    {
     "data": {
      "text/plain": [
       "2×2 Matrix{Float64}:\n",
       " 1.00207  5.00211\n",
       " 5.00211  6.99989"
      ]
     },
     "execution_count": 110,
     "metadata": {},
     "output_type": "execute_result"
    }
   ],
   "source": [
    "value.(aa)"
   ]
  },
  {
   "cell_type": "code",
   "execution_count": null,
   "id": "dba02160",
   "metadata": {},
   "outputs": [],
   "source": [
    "obs_cases = vcat(1,2,4,8,15,27,44,58,55,32,12,3,1,zeros(13))\n",
    "sum(obs_cases)"
   ]
  },
  {
   "cell_type": "code",
   "execution_count": null,
   "id": "b156ffbb",
   "metadata": {},
   "outputs": [],
   "source": [
    "#using Gurobi, JuMP\n",
    "using HiGHS, JuMP\n",
    "\n",
    "\n",
    "m = Model(optimizer_with_attributes(HiGHS.Optimizer)); \n",
    "@variable(m, aa[1:2,1:2])\n",
    "\n",
    "function errs(aa)\n",
    "   sum((y .- (x * aa ) .* x * [1;1]) .^ 2)\n",
    "end\n",
    "\n",
    "@objective(m, Min, errs(aa))\n",
    "\n",
    "optimize!(m)\n",
    "status = termination_status(m)\n",
    "\n",
    "println(\"Cost: $(objective_value(m))\")\n",
    "res = value.(aa)\n",
    "println(\"aa=$res\")\n",
    "println(\"a, b, c = $(res[1,1]), $(res[1,2]+res[2,1]), $(res[2,2])\")"
   ]
  },
  {
   "cell_type": "markdown",
   "id": "48272c5f",
   "metadata": {},
   "source": [
    "### Modelling pandemic dynamics in a small community"
   ]
  },
  {
   "cell_type": "code",
   "execution_count": 112,
   "id": "c4b6e97e",
   "metadata": {},
   "outputs": [
    {
     "data": {
      "text/plain": [
       "300"
      ]
     },
     "execution_count": 112,
     "metadata": {},
     "output_type": "execute_result"
    }
   ],
   "source": [
    "using Ipopt, JuMP, LinearAlgebra\n",
    "obs_cases = vcat(1,2,4,8,15,27,44,58,55,32,12,3,1,zeros(13))\n",
    "SI_max = length(obs_cases)\n",
    "N = 300"
   ]
  },
  {
   "cell_type": "code",
   "execution_count": 113,
   "id": "39197fda",
   "metadata": {},
   "outputs": [
    {
     "data": {
      "text/plain": [
       "1×26 adjoint(::Vector{Float64}) with eltype Float64:\n",
       " 1.0  2.0  4.0  8.0  15.0  27.0  44.0  …  0.0  0.0  0.0  0.0  0.0  0.0  0.0"
      ]
     },
     "execution_count": 113,
     "metadata": {},
     "output_type": "execute_result"
    }
   ],
   "source": [
    "obs_cases'"
   ]
  },
  {
   "cell_type": "code",
   "execution_count": 114,
   "id": "49fbff2d",
   "metadata": {
    "scrolled": true
   },
   "outputs": [
    {
     "name": "stdout",
     "output_type": "stream",
     "text": [
      "Min ε[1] ^ 2.0 + ε[2] ^ 2.0 + ε[3] ^ 2.0 + ε[4] ^ 2.0 + ε[5] ^ 2.0 + ε[6] ^ 2.0 + ε[7] ^ 2.0 + ε[8] ^ 2.0 + ε[9] ^ 2.0 + ε[10] ^ 2.0 + ε[11] ^ 2.0 + ε[12] ^ 2.0 + ε[13] ^ 2.0 + ε[14] ^ 2.0 + ε[15] ^ 2.0 + ε[16] ^ 2.0 + ε[17] ^ 2.0 + ε[18] ^ 2.0 + ε[19] ^ 2.0 + ε[20] ^ 2.0 + ε[21] ^ 2.0 + ε[22] ^ 2.0 + ε[23] ^ 2.0 + ε[24] ^ 2.0 + ε[25] ^ 2.0 + ε[26] ^ 2.0\n",
      "Subject to\n",
      " -I_[1] + ε[1] == -1.0\n",
      " -I_[2] + ε[2] == -2.0\n",
      " -I_[3] + ε[3] == -4.0\n",
      " -I_[4] + ε[4] == -8.0\n",
      " -I_[5] + ε[5] == -15.0\n",
      " -I_[6] + ε[6] == -27.0\n",
      " -I_[7] + ε[7] == -44.0\n",
      " -I_[8] + ε[8] == -58.0\n",
      " -I_[9] + ε[9] == -55.0\n",
      " -I_[10] + ε[10] == -32.0\n",
      " -I_[11] + ε[11] == -12.0\n",
      " -I_[12] + ε[12] == -3.0\n",
      " -I_[13] + ε[13] == -1.0\n",
      " -I_[14] + ε[14] == 0.0\n",
      " -I_[15] + ε[15] == 0.0\n",
      " -I_[16] + ε[16] == 0.0\n",
      " -I_[17] + ε[17] == 0.0\n",
      " -I_[18] + ε[18] == 0.0\n",
      " -I_[19] + ε[19] == 0.0\n",
      " -I_[20] + ε[20] == 0.0\n",
      " -I_[21] + ε[21] == 0.0\n",
      " -I_[22] + ε[22] == 0.0\n",
      " -I_[23] + ε[23] == 0.0\n",
      " -I_[24] + ε[24] == 0.0\n",
      " -I_[25] + ε[25] == 0.0\n",
      " -I_[26] + ε[26] == 0.0\n",
      " I_[1] == 1.0\n",
      " S[1] == 300.0\n",
      " I_[2] - S[1] + S[2] == 0.0\n",
      " I_[3] - S[2] + S[3] == 0.0\n",
      " I_[4] - S[3] + S[4] == 0.0\n",
      " I_[5] - S[4] + S[5] == 0.0\n",
      " I_[6] - S[5] + S[6] == 0.0\n",
      " I_[7] - S[6] + S[7] == 0.0\n",
      " I_[8] - S[7] + S[8] == 0.0\n",
      " I_[9] - S[8] + S[9] == 0.0\n",
      " I_[10] - S[9] + S[10] == 0.0\n",
      " I_[11] - S[10] + S[11] == 0.0\n",
      " I_[12] - S[11] + S[12] == 0.0\n",
      " I_[13] - S[12] + S[13] == 0.0\n",
      " I_[14] - S[13] + S[14] == 0.0\n",
      " I_[15] - S[14] + S[15] == 0.0\n",
      " I_[16] - S[15] + S[16] == 0.0\n",
      " I_[17] - S[16] + S[17] == 0.0\n",
      " I_[18] - S[17] + S[18] == 0.0\n",
      " I_[19] - S[18] + S[19] == 0.0\n",
      " I_[20] - S[19] + S[20] == 0.0\n",
      " I_[21] - S[20] + S[21] == 0.0\n",
      " I_[22] - S[21] + S[22] == 0.0\n",
      " I_[23] - S[22] + S[23] == 0.0\n",
      " I_[24] - S[23] + S[24] == 0.0\n",
      " I_[25] - S[24] + S[25] == 0.0\n",
      " I_[26] - S[25] + S[26] == 0.0\n",
      " α >= 0.5\n",
      " β >= 0.05\n",
      " I_[1] >= 0.0\n",
      " I_[2] >= 0.0\n",
      " I_[3] >= 0.0\n",
      " I_[4] >= 0.0\n",
      " I_[5] >= 0.0\n",
      " I_[6] >= 0.0\n",
      " I_[7] >= 0.0\n",
      " I_[8] >= 0.0\n",
      " I_[9] >= 0.0\n",
      " I_[10] >= 0.0\n",
      " I_[11] >= 0.0\n",
      " I_[12] >= 0.0\n",
      " I_[13] >= 0.0\n",
      " I_[14] >= 0.0\n",
      " I_[15] >= 0.0\n",
      " I_[16] >= 0.0\n",
      " I_[17] >= 0.0\n",
      " I_[18] >= 0.0\n",
      " I_[19] >= 0.0\n",
      " I_[20] >= 0.0\n",
      " I_[21] >= 0.0\n",
      " I_[22] >= 0.0\n",
      " I_[23] >= 0.0\n",
      " I_[24] >= 0.0\n",
      " I_[25] >= 0.0\n",
      " I_[26] >= 0.0\n",
      " S[1] >= 0.0\n",
      " S[2] >= 0.0\n",
      " S[3] >= 0.0\n",
      " S[4] >= 0.0\n",
      " S[5] >= 0.0\n",
      " S[6] >= 0.0\n",
      " S[7] >= 0.0\n",
      " S[8] >= 0.0\n",
      " S[9] >= 0.0\n",
      " S[10] >= 0.0\n",
      " S[11] >= 0.0\n",
      " S[12] >= 0.0\n",
      " S[13] >= 0.0\n",
      " S[14] >= 0.0\n",
      " S[15] >= 0.0\n",
      " S[16] >= 0.0\n",
      " S[17] >= 0.0\n",
      " S[18] >= 0.0\n",
      " S[19] >= 0.0\n",
      " S[20] >= 0.0\n",
      " S[21] >= 0.0\n",
      " S[22] >= 0.0\n",
      " S[23] >= 0.0\n",
      " S[24] >= 0.0\n",
      " S[25] >= 0.0\n",
      " S[26] >= 0.0\n",
      " α <= 1.5\n",
      " β <= 70.0\n",
      " I_[1] <= 300.0\n",
      " I_[2] <= 300.0\n",
      " I_[3] <= 300.0\n",
      " I_[4] <= 300.0\n",
      " I_[5] <= 300.0\n",
      " I_[6] <= 300.0\n",
      " I_[7] <= 300.0\n",
      " I_[8] <= 300.0\n",
      " I_[9] <= 300.0\n",
      " I_[10] <= 300.0\n",
      " I_[11] <= 300.0\n",
      " I_[12] <= 300.0\n",
      " I_[13] <= 300.0\n",
      " I_[14] <= 300.0\n",
      " I_[15] <= 300.0\n",
      " I_[16] <= 300.0\n",
      " I_[17] <= 300.0\n",
      " I_[18] <= 300.0\n",
      " I_[19] <= 300.0\n",
      " I_[20] <= 300.0\n",
      " I_[21] <= 300.0\n",
      " I_[22] <= 300.0\n",
      " I_[23] <= 300.0\n",
      " I_[24] <= 300.0\n",
      " I_[25] <= 300.0\n",
      " I_[26] <= 300.0\n",
      " S[1] <= 300.0\n",
      " S[2] <= 300.0\n",
      " S[3] <= 300.0\n",
      " S[4] <= 300.0\n",
      " S[5] <= 300.0\n",
      " S[6] <= 300.0\n",
      " S[7] <= 300.0\n",
      " S[8] <= 300.0\n",
      " S[9] <= 300.0\n",
      " S[10] <= 300.0\n",
      " S[11] <= 300.0\n",
      " S[12] <= 300.0\n",
      " S[13] <= 300.0\n",
      " S[14] <= 300.0\n",
      " S[15] <= 300.0\n",
      " S[16] <= 300.0\n",
      " S[17] <= 300.0\n",
      " S[18] <= 300.0\n",
      " S[19] <= 300.0\n",
      " S[20] <= 300.0\n",
      " S[21] <= 300.0\n",
      " S[22] <= 300.0\n",
      " S[23] <= 300.0\n",
      " S[24] <= 300.0\n",
      " S[25] <= 300.0\n",
      " S[26] <= 300.0\n",
      " (I_[2] - (β * I_[1] ^ α * S[1]) / 300.0) - 0.0 == 0\n",
      " (I_[3] - (β * I_[2] ^ α * S[2]) / 300.0) - 0.0 == 0\n",
      " (I_[4] - (β * I_[3] ^ α * S[3]) / 300.0) - 0.0 == 0\n",
      " (I_[5] - (β * I_[4] ^ α * S[4]) / 300.0) - 0.0 == 0\n",
      " (I_[6] - (β * I_[5] ^ α * S[5]) / 300.0) - 0.0 == 0\n",
      " (I_[7] - (β * I_[6] ^ α * S[6]) / 300.0) - 0.0 == 0\n",
      " (I_[8] - (β * I_[7] ^ α * S[7]) / 300.0) - 0.0 == 0\n",
      " (I_[9] - (β * I_[8] ^ α * S[8]) / 300.0) - 0.0 == 0\n",
      " (I_[10] - (β * I_[9] ^ α * S[9]) / 300.0) - 0.0 == 0\n",
      " (I_[11] - (β * I_[10] ^ α * S[10]) / 300.0) - 0.0 == 0\n",
      " (I_[12] - (β * I_[11] ^ α * S[11]) / 300.0) - 0.0 == 0\n",
      " (I_[13] - (β * I_[12] ^ α * S[12]) / 300.0) - 0.0 == 0\n",
      " (I_[14] - (β * I_[13] ^ α * S[13]) / 300.0) - 0.0 == 0\n",
      " (I_[15] - (β * I_[14] ^ α * S[14]) / 300.0) - 0.0 == 0\n",
      " (I_[16] - (β * I_[15] ^ α * S[15]) / 300.0) - 0.0 == 0\n",
      " (I_[17] - (β * I_[16] ^ α * S[16]) / 300.0) - 0.0 == 0\n",
      " (I_[18] - (β * I_[17] ^ α * S[17]) / 300.0) - 0.0 == 0\n",
      " (I_[19] - (β * I_[18] ^ α * S[18]) / 300.0) - 0.0 == 0\n",
      " (I_[20] - (β * I_[19] ^ α * S[19]) / 300.0) - 0.0 == 0\n",
      " (I_[21] - (β * I_[20] ^ α * S[20]) / 300.0) - 0.0 == 0\n",
      " (I_[22] - (β * I_[21] ^ α * S[21]) / 300.0) - 0.0 == 0\n",
      " (I_[23] - (β * I_[22] ^ α * S[22]) / 300.0) - 0.0 == 0\n",
      " (I_[24] - (β * I_[23] ^ α * S[23]) / 300.0) - 0.0 == 0\n",
      " (I_[25] - (β * I_[24] ^ α * S[24]) / 300.0) - 0.0 == 0\n",
      " (I_[26] - (β * I_[25] ^ α * S[25]) / 300.0) - 0.0 == 0\n",
      "\n"
     ]
    }
   ],
   "source": [
    "using JuMP, Ipopt\n",
    "m = Model(optimizer_with_attributes(Ipopt.Optimizer, (\"print_level\"=>2))); \n",
    "@variable(m, 0.5 <= α <= 1.5)\n",
    "@variable(m, 0.05 <= β <= 70)\n",
    "@variable(m, 0 <= I_[1:SI_max] <= N)\n",
    "\n",
    "@variable(m, 0 <= S[1:SI_max]  <= N)\n",
    "@variable(m, ε[1:SI_max])\n",
    "@constraint(m, ε .== I_ .- obs_cases  )\n",
    "@constraint(m, I_[1] == 1)\n",
    "for i=2:SI_max\n",
    "   @NLconstraint(m, I_[i] == β*(I_[i-1]^α)*S[i-1]/N)\n",
    "end\n",
    "\n",
    "@constraint(m, S[1] == N)\n",
    "for i=2:SI_max\n",
    "   @constraint(m, S[i] == S[i-1]-I_[i])\n",
    "end\n",
    "\n",
    "@NLobjective(m, Min, sum(ε[i]^2 for i in 1:SI_max))\n",
    "println(m)"
   ]
  },
  {
   "cell_type": "code",
   "execution_count": 115,
   "id": "9f52005f",
   "metadata": {},
   "outputs": [
    {
     "name": "stdout",
     "output_type": "stream",
     "text": [
      "Cost: 0.4826914548884907\n",
      "α=0.9978555010305014\n",
      "β=2.0069930759045875\n"
     ]
    }
   ],
   "source": [
    "\n",
    "optimize!(m)\n",
    "\n",
    "println(\"Cost: $(objective_value(m))\")\n",
    "println(\"α=$(value(α))\\nβ=$(value(β))\")\n"
   ]
  },
  {
   "cell_type": "code",
   "execution_count": 116,
   "id": "5a4b4277",
   "metadata": {},
   "outputs": [
    {
     "data": {
      "text/plain": [
       "26-element Vector{Float64}:\n",
       "  1.0\n",
       "  2.0069930759045875\n",
       "  3.9951009416258603\n",
       "  7.834416168150402\n",
       " 14.932354248545124\n",
       " 26.938569451566813\n",
       " 43.71615563360018\n",
       " 58.1872835476811\n",
       " 54.94711027544572\n",
       " 31.86825855023456\n",
       " 11.760580730084369\n",
       "  3.4289614558329338\n",
       "  0.9239558561305068\n",
       "  0.24395484401081716\n",
       "  0.0641969882140877\n",
       "  0.016914209651606556\n",
       "  0.00446728163026499\n",
       "  0.0011831105999110544\n",
       "  0.0003142184208713587\n",
       "  8.368916592634302e-5\n",
       "  2.2353115235990036e-5\n",
       "  5.9873705177455255e-6\n",
       "  1.6082776162324928e-6\n",
       "  4.3322162177587727e-7\n",
       "  1.1702559045223276e-7\n",
       "  3.170082414465825e-8"
      ]
     },
     "execution_count": 116,
     "metadata": {},
     "output_type": "execute_result"
    }
   ],
   "source": [
    "value.(I_)"
   ]
  },
  {
   "cell_type": "markdown",
   "id": "578411ea",
   "metadata": {},
   "source": [
    "*Preparation of this workshop has been supported by the Polish National Agency for Academic Exchange under the Strategic Partnerships programme, grant number BPI/PST/2021/1/00069/U/00001.*\n",
    "\n",
    "![SGH & NAWA](logo.png)"
   ]
  }
 ],
 "metadata": {
  "kernelspec": {
   "display_name": "Julia 1.8.5",
   "language": "julia",
   "name": "julia-1.8"
  },
  "language_info": {
   "file_extension": ".jl",
   "mimetype": "application/julia",
   "name": "julia",
   "version": "1.8.5"
  }
 },
 "nbformat": 4,
 "nbformat_minor": 5
}
