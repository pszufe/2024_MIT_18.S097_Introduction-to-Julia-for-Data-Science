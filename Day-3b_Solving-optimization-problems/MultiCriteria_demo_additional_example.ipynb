{
 "cells": [
  {
   "cell_type": "markdown",
   "id": "a28cb666",
   "metadata": {},
   "source": [
    "### Multi-criteria optimization"
   ]
  },
  {
   "cell_type": "code",
   "execution_count": null,
   "id": "5b8f12b9",
   "metadata": {},
   "outputs": [],
   "source": [
    "using CSV\n",
    "using DataFrames\n",
    "using Statistics\n",
    "using JuMP\n",
    "using MultiJuMP\n",
    "using Ipopt\n",
    "using Plots\n",
    "\n",
    "prices = DataFrame(CSV.File(\"10_stocks_3yr.csv\"))\n",
    "prices[1:5,:]\n"
   ]
  },
  {
   "cell_type": "code",
   "execution_count": null,
   "id": "53383768",
   "metadata": {},
   "outputs": [],
   "source": [
    "prices.rateOfRet = (prices.close .- prices.open) ./ prices.open\n",
    "dats = unstack(prices, :date, :Name, :rateOfRet)\n",
    "dats\n"
   ]
  },
  {
   "cell_type": "code",
   "execution_count": null,
   "id": "3d89296b",
   "metadata": {},
   "outputs": [],
   "source": [
    "const avg_rets = [ mean(col) for col in eachcol(dats[:,2:end])]\n",
    "const cov_mx = cov(Matrix(dats[:,2:end]))\n"
   ]
  },
  {
   "cell_type": "code",
   "execution_count": null,
   "id": "46e07eac",
   "metadata": {},
   "outputs": [],
   "source": [
    "m = multi_model(Ipopt.Optimizer)\n",
    "@variable(m, 0 <= x[i=1:10] <= 1)\n",
    "@constraint(m,sum(x) == 1)\n",
    "\n",
    "@variable(m, risk)\n",
    "@constraint(m, risk == x'*cov_mx*x)\n",
    "\n",
    "@variable(m, rets)\n",
    "@constraint(m, rets == avg_rets' * x)\n",
    "\n",
    "@NLexpression(m, f_risk, risk)\n",
    "@NLexpression(m, f_rets, rets)\n",
    "\n",
    "iv1 =  fill(0.1, 10) # Initial guess\n",
    "obj1 = SingleObjective(f_risk, sense = MOI.MIN_SENSE,\n",
    "                        iv = Dict{String,Any}(\"x[$i]\" => iv1[i] for i in 1:length(iv1)))\n",
    "obj2 = SingleObjective(f_rets, sense = MOI.MAX_SENSE)\n",
    "\n",
    "md = get_multidata(m)\n",
    "md.objectives = [obj1, obj2]\n",
    "md.pointsperdim = 20;\n"
   ]
  },
  {
   "cell_type": "code",
   "execution_count": null,
   "id": "ab3685b7",
   "metadata": {},
   "outputs": [],
   "source": [
    "optimize!(m, method = NBI(false))"
   ]
  },
  {
   "cell_type": "code",
   "execution_count": null,
   "id": "5180b933",
   "metadata": {},
   "outputs": [],
   "source": [
    "pyplot()\n",
    "pltnbi = Plots.plot(md)\n"
   ]
  }
 ],
 "metadata": {
  "kernelspec": {
   "display_name": "Julia 1.8.5",
   "language": "julia",
   "name": "julia-1.8"
  },
  "language_info": {
   "file_extension": ".jl",
   "mimetype": "application/julia",
   "name": "julia",
   "version": "1.8.5"
  }
 },
 "nbformat": 4,
 "nbformat_minor": 5
}
