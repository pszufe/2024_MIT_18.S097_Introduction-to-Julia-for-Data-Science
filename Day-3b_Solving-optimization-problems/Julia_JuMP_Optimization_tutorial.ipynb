{
 "cells": [
  {
   "cell_type": "markdown",
   "metadata": {},
   "source": [
    "# Solving Optimization Problems\n",
    "\n",
    "Przemysław Szufel\n",
    "\n",
    "\n",
    "<a class=\"anchor\" id=\"toc\"></a>\n",
    "## Table of content\n",
    "\n",
    "1. [Introduction to optimization models with JuMP](#introduction)\n",
    "2. [Macros and JuMPs performance](#macros)\n",
    "3. [Warehouse transportation optimization](#warehouse)\n",
    "4. [Collection of points-of-interest (POI) is spatial data](#poi)\n",
    "5. [Travelling salesman problem (TSP)](#tsp)\n",
    "6. [Quadratic programming - parameter estimation](#QP)\n",
    "7. [Modelling pandemic dynamics in a small community](#pandemic)"
   ]
  },
  {
   "cell_type": "code",
   "execution_count": 3,
   "metadata": {
    "scrolled": true
   },
   "outputs": [
    {
     "data": {
      "text/plain": [
       "\"C:\\\\AAABIBLIOTEKA\\\\MIT_Boston\\\\2024_MIT_18.S097_Introduction-to-Julia-for-Data-Science\\\\Day-3b_Solving-optimization-problems\""
      ]
     },
     "execution_count": 3,
     "metadata": {},
     "output_type": "execute_result"
    }
   ],
   "source": [
    "pwd() # Ctrl + ENTER"
   ]
  },
  {
   "cell_type": "code",
   "execution_count": 4,
   "metadata": {},
   "outputs": [
    {
     "name": "stdout",
     "output_type": "stream",
     "text": [
      "Julia Version 1.10.0\n",
      "Commit 3120989f39 (2023-12-25 18:01 UTC)\n",
      "Build Info:\n",
      "  Official https://julialang.org/ release\n",
      "Platform Info:\n",
      "  OS: Windows (x86_64-w64-mingw32)\n",
      "  CPU: 12 × 13th Gen Intel(R) Core(TM) i7-1355U\n",
      "  WORD_SIZE: 64\n",
      "  LIBM: libopenlibm\n",
      "  LLVM: libLLVM-15.0.7 (ORCJIT, goldmont)\n",
      "  Threads: 2 on 12 virtual cores\n",
      "Environment:\n",
      "  JULIA_DEPOT_PATH = c:\\JuliaPkg\\Julia-1.10.0\n",
      "  JULIA_HOME = c:\\Julia-1.10.0\n",
      "  JULIA_VERSION = Julia-1.10.0\n"
     ]
    }
   ],
   "source": [
    "versioninfo()"
   ]
  },
  {
   "cell_type": "markdown",
   "metadata": {},
   "source": [
    "<a class=\"anchor\" id=\"introduction\"></a>\n",
    "## 1. Introduction to optimization models with JuMP\n",
    "\n",
    "---- [Return to table of contents](#toc) ---\n"
   ]
  },
  {
   "cell_type": "code",
   "execution_count": 5,
   "metadata": {
    "scrolled": true
   },
   "outputs": [
    {
     "name": "stdout",
     "output_type": "stream",
     "text": [
      "Min 50 x₁ + 70 x₂\n",
      "Subject to\n",
      " 200 x₁ + 2000 x₂ >= 9000\n",
      " 100 x₁ + 30 x₂ >= 300\n",
      " 9 x₁ + 11 x₂ >= 60\n",
      " x₁ >= 0\n",
      " x₂ >= 0\n",
      "\n"
     ]
    }
   ],
   "source": [
    "using JuMP, HiGHS\n",
    "m = Model(HiGHS.Optimizer)\n",
    "@variable(m,  x₁ >= 0)\n",
    "@variable(m,  x₂ >= 0)\n",
    "@objective(m, Min, 50x₁ + 70x₂)\n",
    "@constraint(m, 200x₁ + 2000*x₂ >= 9000)\n",
    "@constraint(m, 100x₁ +   30x₂ >=  300)\n",
    "@constraint(m, 9x₁   +   11x₂ >=   60)\n",
    "println(m)"
   ]
  },
  {
   "cell_type": "code",
   "execution_count": 6,
   "metadata": {},
   "outputs": [
    {
     "data": {
      "text/plain": [
       "A JuMP Model\n",
       "Minimization problem with:\n",
       "Variables: 2\n",
       "Objective function type: AffExpr\n",
       "`AffExpr`-in-`MathOptInterface.GreaterThan{Float64}`: 3 constraints\n",
       "`VariableRef`-in-`MathOptInterface.GreaterThan{Float64}`: 2 constraints\n",
       "Model mode: AUTOMATIC\n",
       "CachingOptimizer state: EMPTY_OPTIMIZER\n",
       "Solver name: HiGHS\n",
       "Names registered in the model: x₁, x₂"
      ]
     },
     "execution_count": 6,
     "metadata": {},
     "output_type": "execute_result"
    }
   ],
   "source": [
    "m"
   ]
  },
  {
   "cell_type": "code",
   "execution_count": 7,
   "metadata": {
    "scrolled": true
   },
   "outputs": [
    {
     "name": "stdout",
     "output_type": "stream",
     "text": [
      "Running HiGHS 1.6.0: Copyright (c) 2023 HiGHS under MIT licence terms\n",
      "Presolving model\n",
      "3 rows, 2 cols, 6 nonzeros\n",
      "3 rows, 2 cols, 6 nonzeros\n",
      "Presolve : Reductions: rows 3(-0); columns 2(-0); elements 6(-0) - Not reduced\n",
      "Problem not reduced by presolve: solving the LP\n",
      "Using EKK dual simplex solver - serial\n",
      "  Iteration        Objective     Infeasibilities num(sum)\n",
      "          0     0.0000000000e+00 Pr: 3(2205) 0s\n",
      "          2     3.8814432990e+02 Pr: 0(0) 0s\n",
      "Model   status      : Optimal\n",
      "Simplex   iterations: 2\n",
      "Objective value     :  3.8814432990e+02\n",
      "HiGHS run time      :          0.00\n"
     ]
    }
   ],
   "source": [
    "optimize!(m)"
   ]
  },
  {
   "cell_type": "code",
   "execution_count": 8,
   "metadata": {},
   "outputs": [
    {
     "data": {
      "text/plain": [
       "(1.7010309278350515, 4.329896907216495)"
      ]
     },
     "execution_count": 8,
     "metadata": {},
     "output_type": "execute_result"
    }
   ],
   "source": [
    "value(x₁), value(x₂)\n"
   ]
  },
  {
   "cell_type": "code",
   "execution_count": 9,
   "metadata": {},
   "outputs": [
    {
     "data": {
      "text/plain": [
       "VariableRef\u001b[90m (alias for \u001b[39m\u001b[90mGenericVariableRef{Float64}\u001b[39m\u001b[90m)\u001b[39m"
      ]
     },
     "execution_count": 9,
     "metadata": {},
     "output_type": "execute_result"
    }
   ],
   "source": [
    "typeof(x₁)"
   ]
  },
  {
   "cell_type": "code",
   "execution_count": 10,
   "metadata": {
    "scrolled": true
   },
   "outputs": [
    {
     "data": {
      "text/plain": [
       "AffExpr\u001b[90m (alias for \u001b[39m\u001b[90mGenericAffExpr{Float64, GenericVariableRef{Float64}}\u001b[39m\u001b[90m)\u001b[39m"
      ]
     },
     "execution_count": 10,
     "metadata": {},
     "output_type": "execute_result"
    }
   ],
   "source": [
    "typeof(x₁ + 4x₂)"
   ]
  },
  {
   "cell_type": "code",
   "execution_count": 11,
   "metadata": {},
   "outputs": [
    {
     "data": {
      "text/latex": [
       "$ 8 x₁ + x₂ $"
      ],
      "text/plain": [
       "8 x₁ + x₂"
      ]
     },
     "execution_count": 11,
     "metadata": {},
     "output_type": "execute_result"
    }
   ],
   "source": [
    "4x₁ + 4x₁ + x₂"
   ]
  },
  {
   "cell_type": "code",
   "execution_count": 12,
   "metadata": {},
   "outputs": [
    {
     "data": {
      "text/plain": [
       "2-element Vector{Float64}:\n",
       " 1.7010309278350515\n",
       " 4.329896907216495"
      ]
     },
     "execution_count": 12,
     "metadata": {},
     "output_type": "execute_result"
    }
   ],
   "source": [
    "value.([x₁,x₂])"
   ]
  },
  {
   "cell_type": "code",
   "execution_count": 13,
   "metadata": {},
   "outputs": [],
   "source": [
    "# Others solvers can be used such as the comercial Gurobi\n",
    "# using Gurobi\n",
    "# m = Model(Gurobi.Optimizer)"
   ]
  },
  {
   "cell_type": "markdown",
   "metadata": {},
   "source": [
    "The same model as above but now the decision variables are expected to be integers"
   ]
  },
  {
   "cell_type": "code",
   "execution_count": 14,
   "metadata": {},
   "outputs": [
    {
     "name": "stdout",
     "output_type": "stream",
     "text": [
      "Min 50 x₁ + 70 x₂\n",
      "Subject to\n",
      " 200 x₁ + 2000 x₂ >= 9000\n",
      " 100 x₁ + 30 x₂ >= 300\n",
      " 9 x₁ + 11 x₂ >= 60\n",
      " x₁ >= 0\n",
      " x₂ >= 0\n",
      " x₁ <= 100\n",
      " x₂ <= 110\n",
      " x₁ integer\n",
      " x₂ integer\n",
      "\n"
     ]
    }
   ],
   "source": [
    "m = Model(HiGHS.Optimizer)\n",
    "@variable(m, 100 >= x₁ >= 0, Int)\n",
    "@variable(m, 110 >= x₂ >= 0, Int)\n",
    "@objective(m, Min, 50x₁ + 70x₂)\n",
    "@constraint(m, 200x₁ + 2000x₂ >= 9000)\n",
    "@constraint(m, 100x₁ +   30x₂ >=  300)\n",
    "@constraint(m, 9x₁   +   11x₂ >=   60)\n",
    "println(m)"
   ]
  },
  {
   "cell_type": "code",
   "execution_count": 15,
   "metadata": {},
   "outputs": [
    {
     "name": "stdout",
     "output_type": "stream",
     "text": [
      "Running HiGHS 1.6.0: Copyright (c) 2023 HiGHS under MIT licence terms\n",
      "Presolving model\n",
      "3 rows, 2 cols, 6 nonzeros\n",
      "3 rows, 2 cols, 6 nonzeros\n",
      "Objective function is integral with scale 0.1\n",
      "\n",
      "Solving MIP model with:\n",
      "   3 rows\n",
      "   2 cols (0 binary, 2 integer, 0 implied int., 0 continuous)\n",
      "   6 nonzeros\n",
      "\n",
      "        Nodes      |    B&B Tree     |            Objective Bounds              |  Dynamic Constraints |       Work      \n",
      "     Proc. InQueue |  Leaves   Expl. | BestBound       BestSol              Gap |   Cuts   InLp Confl. | LpIters     Time\n",
      "\n",
      "         0       0         0   0.00%   0               inf                  inf        0      0      0         0     0.0s\n",
      "\n",
      "Solving report\n",
      "  Status            Optimal\n",
      "  Primal bound      450\n",
      "  Dual bound        450\n",
      "  Gap               0% (tolerance: 0.01%)\n",
      "  Solution status   feasible\n",
      "                    450 (objective)\n",
      "                    0 (bound viol.)\n",
      "                    0 (int. viol.)\n",
      "                    0 (row viol.)\n",
      "  Timing            0.00 (total)\n",
      "                    0.00 (presolve)\n",
      "                    0.00 (postsolve)\n",
      "  Nodes             1\n",
      "  LP iterations     2 (total)\n",
      "                    0 (strong br.)\n",
      "                    0 (separation)\n",
      "                    0 (heuristics)\n"
     ]
    }
   ],
   "source": [
    "optimize!(m)\n"
   ]
  },
  {
   "cell_type": "code",
   "execution_count": 16,
   "metadata": {},
   "outputs": [
    {
     "data": {
      "text/plain": [
       "2-element Vector{Float64}:\n",
       " 2.0\n",
       " 5.0"
      ]
     },
     "execution_count": 16,
     "metadata": {},
     "output_type": "execute_result"
    }
   ],
   "source": [
    "value.([x₁,x₂])"
   ]
  },
  {
   "cell_type": "code",
   "execution_count": 17,
   "metadata": {},
   "outputs": [
    {
     "data": {
      "text/plain": [
       "2-element Vector{Int64}:\n",
       " 2\n",
       " 5"
      ]
     },
     "execution_count": 17,
     "metadata": {},
     "output_type": "execute_result"
    }
   ],
   "source": [
    "#1.9999999999999\n",
    "round.(Int, value.([x₁,x₂]))"
   ]
  },
  {
   "cell_type": "markdown",
   "metadata": {},
   "source": [
    "<a class=\"anchor\" id=\"macros\"></a>\n",
    "## 2. Macros and JuMPs performance\n",
    "\n",
    "---- [Return to table of contents](#toc) ---\n"
   ]
  },
  {
   "cell_type": "markdown",
   "metadata": {},
   "source": [
    "What are those `@` macros we are seeing around?"
   ]
  },
  {
   "cell_type": "code",
   "execution_count": 18,
   "metadata": {
    "scrolled": true
   },
   "outputs": [
    {
     "data": {
      "text/plain": [
       ":(x = 5)"
      ]
     },
     "execution_count": 18,
     "metadata": {},
     "output_type": "execute_result"
    }
   ],
   "source": [
    "code = Meta.parse(\"x=5\")"
   ]
  },
  {
   "cell_type": "code",
   "execution_count": 19,
   "metadata": {},
   "outputs": [
    {
     "name": "stdout",
     "output_type": "stream",
     "text": [
      "Expr\n",
      "  head: Symbol =\n",
      "  args: Array{Any}((2,))\n",
      "    1: Symbol x\n",
      "    2: Int64 5\n"
     ]
    }
   ],
   "source": [
    "dump(code)"
   ]
  },
  {
   "cell_type": "code",
   "execution_count": 20,
   "metadata": {},
   "outputs": [
    {
     "data": {
      "text/plain": [
       ":somesymbolname"
      ]
     },
     "execution_count": 20,
     "metadata": {},
     "output_type": "execute_result"
    }
   ],
   "source": [
    ":somesymbolname"
   ]
  },
  {
   "cell_type": "code",
   "execution_count": 21,
   "metadata": {},
   "outputs": [
    {
     "name": "stdout",
     "output_type": "stream",
     "text": [
      "Expr\n",
      "  head: Symbol =\n",
      "  args: Array{Any}((2,))\n",
      "    1: Symbol x\n",
      "    2: Int64 5\n"
     ]
    }
   ],
   "source": [
    "dump(code)"
   ]
  },
  {
   "cell_type": "code",
   "execution_count": 22,
   "metadata": {},
   "outputs": [
    {
     "data": {
      "text/plain": [
       "5"
      ]
     },
     "execution_count": 22,
     "metadata": {},
     "output_type": "execute_result"
    }
   ],
   "source": [
    "eval(code)"
   ]
  },
  {
   "cell_type": "code",
   "execution_count": 23,
   "metadata": {},
   "outputs": [
    {
     "data": {
      "text/plain": [
       "5"
      ]
     },
     "execution_count": 23,
     "metadata": {},
     "output_type": "execute_result"
    }
   ],
   "source": [
    "x"
   ]
  },
  {
   "cell_type": "code",
   "execution_count": 24,
   "metadata": {},
   "outputs": [
    {
     "data": {
      "text/plain": [
       "@sayhello (macro with 1 method)"
      ]
     },
     "execution_count": 24,
     "metadata": {},
     "output_type": "execute_result"
    }
   ],
   "source": [
    "macro sayhello(name)\n",
    "    println(\"Code is being generated\")\n",
    "    return :( println(\"Hello, \", $name) )\n",
    "end"
   ]
  },
  {
   "cell_type": "code",
   "execution_count": 25,
   "metadata": {},
   "outputs": [
    {
     "name": "stdout",
     "output_type": "stream",
     "text": [
      "Code is being generated\n",
      "Hello, John\n"
     ]
    }
   ],
   "source": [
    "@sayhello(\"John\")"
   ]
  },
  {
   "cell_type": "code",
   "execution_count": 26,
   "metadata": {},
   "outputs": [
    {
     "name": "stdout",
     "output_type": "stream",
     "text": [
      "Code is being generated\n",
      "Hello, John\n",
      "  0.000759 seconds (24 allocations: 960 bytes)\n"
     ]
    }
   ],
   "source": [
    "@time @sayhello(\"John\")"
   ]
  },
  {
   "cell_type": "code",
   "execution_count": 27,
   "metadata": {
    "scrolled": true
   },
   "outputs": [
    {
     "name": "stdout",
     "output_type": "stream",
     "text": [
      "Code is being generated\n"
     ]
    },
    {
     "data": {
      "text/plain": [
       ":(Main.println(\"Hello, \", \"John\"))"
      ]
     },
     "execution_count": 27,
     "metadata": {},
     "output_type": "execute_result"
    }
   ],
   "source": [
    "@macroexpand @sayhello(\"John\")"
   ]
  },
  {
   "cell_type": "code",
   "execution_count": 28,
   "metadata": {},
   "outputs": [
    {
     "name": "stdout",
     "output_type": "stream",
     "text": [
      "Code is being generated\n",
      "Main.println(\"Hello, \", \"John\")\n"
     ]
    }
   ],
   "source": [
    "println(@macroexpand @sayhello(\"John\"))"
   ]
  },
  {
   "cell_type": "code",
   "execution_count": 29,
   "metadata": {},
   "outputs": [
    {
     "name": "stdout",
     "output_type": "stream",
     "text": [
      "Code is being generated\n",
      "Hello, John\n"
     ]
    }
   ],
   "source": [
    "@sayhello(\"John\")"
   ]
  },
  {
   "cell_type": "code",
   "execution_count": 30,
   "metadata": {},
   "outputs": [
    {
     "name": "stdout",
     "output_type": "stream",
     "text": [
      "begin\n",
      "    \u001b[90m#= In[30]:1 =#\u001b[39m\n",
      "    JuMP._valid_model(m, :m)\n",
      "    begin\n",
      "        \u001b[90m#= c:\\JuliaPkg\\Julia-1.10.0\\packages\\JuMP\\027Gt\\src\\macros.jl:382 =#\u001b[39m\n",
      "        JuMP._error_if_cannot_register(m, :x₁)\n",
      "        \u001b[90m#= c:\\JuliaPkg\\Julia-1.10.0\\packages\\JuMP\\027Gt\\src\\macros.jl:383 =#\u001b[39m\n",
      "        x₁ = (m[:x₁] = begin\n",
      "                    \u001b[90m#= c:\\JuliaPkg\\Julia-1.10.0\\packages\\JuMP\\027Gt\\src\\macros.jl:374 =#\u001b[39m\n",
      "                    let m = m\n",
      "                        \u001b[90m#= c:\\JuliaPkg\\Julia-1.10.0\\packages\\JuMP\\027Gt\\src\\macros.jl:375 =#\u001b[39m\n",
      "                        begin\n",
      "                            \u001b[90m#= c:\\JuliaPkg\\Julia-1.10.0\\packages\\JuMP\\027Gt\\src\\macros\\@variable.jl:277 =#\u001b[39m\n",
      "                            var\"#155#variable\" = JuMP.model_convert(m, JuMP.build_variable(JuMP.Containers.var\"#error_fn#98\"{String}(\"At In[30]:1: `@variable(m, x₁ >= 0)`: \"), JuMP.VariableInfo(true, 0, false, NaN, false, NaN, false, NaN, false, false)))\n",
      "                            \u001b[90m#= c:\\JuliaPkg\\Julia-1.10.0\\packages\\JuMP\\027Gt\\src\\macros\\@variable.jl:278 =#\u001b[39m\n",
      "                            JuMP.add_variable(m, var\"#155#variable\", if JuMP.set_string_names_on_creation(m)\n",
      "                                    \"x₁\"\n",
      "                                else\n",
      "                                    \"\"\n",
      "                                end)\n",
      "                        end\n",
      "                    end\n",
      "                end)\n",
      "    end\n",
      "end\n"
     ]
    }
   ],
   "source": [
    "println(@macroexpand @variable(m, x₁ >= 0));"
   ]
  },
  {
   "cell_type": "code",
   "execution_count": 31,
   "metadata": {},
   "outputs": [],
   "source": [
    "using Calculus, AbstractTrees"
   ]
  },
  {
   "cell_type": "code",
   "execution_count": 32,
   "metadata": {},
   "outputs": [
    {
     "data": {
      "text/plain": [
       ":(sin(x) + x * x + 5x)"
      ]
     },
     "execution_count": 32,
     "metadata": {},
     "output_type": "execute_result"
    }
   ],
   "source": [
    "Meta.parse(\"(sin(x) + x*x+5x)\")"
   ]
  },
  {
   "cell_type": "code",
   "execution_count": 33,
   "metadata": {},
   "outputs": [
    {
     "name": "stdout",
     "output_type": "stream",
     "text": [
      ":(sin(x) + x * x + 5x)\n",
      "├─ :+\n",
      "├─ :(sin(x))\n",
      "│  ├─ :sin\n",
      "│  └─ :x\n",
      "├─ :(x * x)\n",
      "│  ├─ :*\n",
      "│  ├─ :x\n",
      "│  └─ :x\n",
      "└─ :(5x)\n",
      "   ├─ :*\n",
      "   ├─ 5\n",
      "   └─ :x\n"
     ]
    }
   ],
   "source": [
    "print_tree(:(sin(x) + x*x+5x))"
   ]
  },
  {
   "cell_type": "code",
   "execution_count": 34,
   "metadata": {
    "scrolled": true
   },
   "outputs": [
    {
     "data": {
      "text/plain": [
       ":(5 + cos(x) + (x + x))"
      ]
     },
     "execution_count": 34,
     "metadata": {},
     "output_type": "execute_result"
    }
   ],
   "source": [
    "simplify(differentiate(:(sin(x) + x*x+5x)))"
   ]
  },
  {
   "cell_type": "markdown",
   "metadata": {},
   "source": [
    "<a class=\"anchor\" id=\"warehouse\"></a>\n",
    "## 3. Warehouse transportation optimization\n",
    "\n",
    "---- [Return to table of contents](#toc) ---\n"
   ]
  },
  {
   "cell_type": "code",
   "execution_count": 35,
   "metadata": {},
   "outputs": [],
   "source": [
    "using JuMP, HiGHS\n",
    "using DelimitedFiles"
   ]
  },
  {
   "cell_type": "code",
   "execution_count": 36,
   "metadata": {},
   "outputs": [],
   "source": [
    "S = 18   # number of warehouses\n",
    "D = 100  # number of shops\n",
    "supply = fill(100,S) # supply that is available\n",
    "demand = fill(15,D); # demand to be met"
   ]
  },
  {
   "cell_type": "code",
   "execution_count": 37,
   "metadata": {},
   "outputs": [],
   "source": [
    "dat=\"\"\"21328\t7901\t16774\t24413\t14131\t21551\t15742\t21091\t25167\t3266\t19312\t14878\t22914\t18392\t14514\t21072\t11535\t12965\t12952\t12952\t15839\t27836\t16816\t13527\t13769\t4924\t23891\t26532\t10245\t15446\t16834\t11421\t27231\t20285\t25810\t12477\t16499\t26958\t23770\t32327\t23572\t26475\t23894\t2054\t22156\t28491\t2392\t21051\t18793\t14598\t9413\t8004\t14286\t8717\t24919\t27581\t21829\t26135\t33450\t4905\t18558\t23046\t9212\t20923\t6426\t20020\t24644\t10862\t12351\t16446\t7751\t19819\t17406\t16768\t9319\t17584\t8191\t18776\t22432\t20389\t25377\t3129\t22425\t6899\t16830\t12305\t3393\t24579\t16727\t21086\t30660\t26999\t29664\t26436\t26138\t28183\t20874\t30143\t30419\t29718\n",
    "5195\t15055\t4216\t9295\t6050\t4779\t3641\t15102\t8395\t16829\t5224\t3595\t14177\t1684\t2753\t4300\t5469\t4233\t3962\t3962\t3039\t13176\t12595\t4764\t5428\t12767\t7119\t11115\t6960\t1597\t1173\t5848\t26351\t10941\t19927\t7174\t13542\t11015\t6998\t18198\t18270\t9703\t7376\t15867\t21981\t12387\t19029\t6936\t9170\t15206\t7748\t8933\t11906\t12823\t24031\t21698\t8083\t11432\t18205\t18548\t17558\t25919\t10027\t7178\t10521\t19897\t29294\t15136\t13659\t10764\t18656\t7135\t9574\t19550\t13973\t11620\t17524\t10944\t9910\t9940\t26373\t13762\t11058\t16154\t22702\t19728\t14022\t13212\t4280\t7563\t22298\t13152\t15728\t12308\t17068\t19554\t12880\t16313\t18674\t20915\n",
    "24025\t13295\t22003\t22254\t20379\t26418\t22859\t10495\t28761\t12735\t29656\t23437\t36220\t24616\t24042\t28477\t24395\t24758\t25121\t25121\t26548\t22646\t30633\t22842\t26491\t16326\t27452\t24373\t23067\t25325\t26551\t21542\t15677\t33471\t14651\t19634\t30316\t26735\t29375\t24969\t12413\t28023\t29753\t17066\t10602\t28267\t17790\t19925\t31979\t11657\t20017\t21593\t15001\t22657\t12101\t16422\t32830\t33810\t28260\t19918\t7961\t10227\t17414\t32204\t20070\t8789\t9898\t25254\t26654\t15742\t22269\t18946\t30636\t6105\t14423\t31182\t22709\t32007\t34792\t15723\t12559\t17643\t34786\t12754\t2900\t26823\t15171\t36939\t28008\t19237\t19501\t18955\t20687\t20740\t15099\t17024\t13131\t22051\t19380\t18559\n",
    "22508\t22014\t17954\t25593\t16490\t22230\t16922\t24989\t25524\t22994\t19299\t15807\t6155\t19098\t15443\t21468\t12730\t13765\t13698\t13698\t16518\t29016\t5152\t14712\t12407\t19272\t24570\t27712\t12077\t16125\t17442\t13516\t36239\t9317\t29815\t14836\t4483\t28138\t23911\t33506\t28157\t27086\t24005\t18712\t31869\t29670\t18413\t22231\t11140\t22962\t14736\t13031\t19351\t12074\t33919\t31585\t16632\t23191\t34630\t15865\t26772\t35807\t17273\t14708\t14646\t29784\t39182\t9608\t8373\t18948\t12547\t20876\t8411\t28622\t21042\t6315\t12007\t7728\t12270\t22466\t36261\t17719\t9635\t23113\t31385\t8204\t20527\t7661\t15899\t22181\t34494\t28057\t30721\t27616\t29264\t31749\t23716\t31201\t32314\t33111\n",
    "12913\t5006\t10217\t14089\t7574\t15206\t10375\t9595\t18453\t9762\t18403\t10736\t23395\t12829\t11221\t17256\t11328\t11937\t12300\t12300\t13779\t17052\t17405\t10020\t13666\t7932\t17144\t16209\t9839\t13158\t14563\t8314\t17138\t20646\t14521\t6406\t17088\t16684\t19067\t21542\t12283\t17714\t19445\t11789\t12768\t18217\t15071\t10777\t19154\t2717\t6596\t8172\t2025\t9318\t14805\t16292\t20943\t23502\t22666\t14640\t7256\t16706\t3917\t20037\t6821\t10026\t20081\t11915\t13233\t4235\t14855\t9053\t17812\t8378\t3697\t18089\t14029\t19182\t22625\t8169\t17147\t9683\t22619\t6321\t11174\t17884\t9520\t24772\t15841\t10116\t19371\t16003\t18668\t15652\t14502\t16894\t8883\t19148\t18556\t18349\n",
    "6281\t16514\t5753\t10410\t7509\t5795\t5099\t16782\t9308\t18288\t3312\t4999\t12625\t2798\t4158\t5230\t4648\t3949\t3341\t3341\t2010\t14262\t11741\t5686\t4491\t14172\t8135\t12202\t6139\t1903\t833\t7252\t28032\t9390\t21608\t8633\t12688\t12061\t7800\t19313\t19950\t10719\t7894\t15046\t23662\t13403\t18173\t8050\t7618\t16665\t9152\t8112\t13364\t11967\t25712\t23378\t6171\t10135\t19220\t17692\t19239\t27600\t11486\t5266\t9700\t21577\t30975\t14265\t12788\t12222\t17785\t8823\t8548\t21230\t15432\t10622\t16653\t9685\t7998\t11620\t28054\t12940\t9507\t17612\t24382\t18873\t15427\t11660\t3003\t8736\t23737\t14267\t16842\t13422\t18513\t21173\t14561\t17427\t19876\t22534\n",
    "4656\t19128\t9008\t4124\t11894\t5115\t10216\t15084\t4473\t23560\t7924\t11296\t21642\t8036\t12133\t5794\t14532\t13370\t13273\t13273\t12492\t5169\t21810\t12436\t14643\t21431\t3145\t2102\t16062\t11050\t9979\t14704\t26333\t18420\t19909\t13545\t22757\t1361\t5712\t10225\t18252\t3044\t6090\t24906\t21963\t2893\t28161\t5968\t16648\t16074\t16577\t18035\t13324\t21984\t24014\t21680\t11094\t10146\t8657\t27685\t17540\t25902\t17061\t12978\t19586\t19879\t29276\t24306\t22830\t12163\t27827\t7636\t18788\t19532\t17819\t20835\t26694\t20159\t15710\t9922\t26355\t22801\t18447\t20443\t22684\t28942\t22852\t20547\t13660\t6657\t21239\t9808\t12248\t7988\t16401\t19061\t12862\t10557\t16997\t20422\n",
    "16446\t6905\t14412\t14675\t11772\t18839\t14588\t7393\t21182\t11243\t22077\t14949\t27612\t17024\t15434\t20898\t15787\t16151\t16513\t16513\t17993\t16064\t22025\t14234\t17883\t9936\t19873\t16795\t14459\t17371\t18776\t12934\t14600\t24863\t12201\t11026\t21708\t19156\t21796\t20555\t9963\t20444\t22174\t13463\t10230\t20688\t16645\t12347\t23371\t2861\t11340\t12916\t6325\t14030\t12267\t13972\t25156\t26231\t21678\t16314\t4936\t12206\t8733\t24250\t11443\t6518\t15339\t16627\t17978\t7135\t16968\t11368\t22029\t3256\t5796\t22574\t17408\t23399\t26839\t8145\t14538\t11797\t26832\t8220\t6019\t21522\t11470\t28986\t20054\t11658\t17050\t15108\t17399\t14664\t12468\t14574\t6924\t18252\t16749\t16109\n",
    "12070\t11940\t10048\t10299\t8061\t14463\t10878\t2839\t16806\t16286\t17701\t11239\t23901\t12661\t11724\t16522\t12122\t12440\t12803\t12803\t14282\t11080\t18749\t10523\t14172\t14959\t15497\t12419\t11183\t13370\t14597\t9658\t14089\t21152\t7665\t7700\t18432\t14780\t17420\t15539\t6007\t16068\t17798\t18505\t9719\t16312\t21688\t7971\t19661\t5094\t10528\t12139\t5548\t16015\t11769\t9435\t20875\t21855\t16694\t21357\t5295\t13657\t10644\t20249\t13538\t7634\t17032\t18604\t17127\t3353\t21847\t6992\t18318\t7287\t10724\t18909\t20725\t19688\t22837\t3769\t14111\t16676\t22831\t13254\t10342\t24395\t16513\t24984\t16053\t7282\t12491\t9848\t12040\t9648\t7426\t9830\t1565\t12993\t11480\t11273\n",
    "10329\t23462\t13628\t6311\t16247\t10788\t14836\t14910\t7331\t27913\t13481\t15916\t27214\t13710\t16784\t11351\t19112\t17990\t17893\t17893\t18028\t2647\t26430\t16997\t19262\t25789\t8815\t4323\t20625\t16722\t15636\t19217\t26160\t23992\t19703\t17898\t27377\t4669\t9312\t5419\t18078\t5880\t9548\t29264\t21790\t5165\t32546\t9541\t22221\t17837\t20935\t22545\t17686\t26421\t23840\t21156\t16651\t13619\t3334\t32102\t17366\t25728\t21419\t18550\t23944\t19705\t29103\t28886\t27409\t15635\t32264\t11041\t23408\t19358\t22153\t25455\t31131\t24779\t21282\t11857\t26182\t27159\t24019\t24777\t22510\t33562\t27210\t26120\t19317\t9710\t19225\t7343\t9606\t5523\t14848\t17430\t12203\t7915\t14982\t18439\n",
    "9046\t7229\t6350\t10918\t3587\t11339\t6397\t7802\t14626\t11985\t14424\t6758\t19420\t8962\t7243\t13389\t7493\t7959\t8322\t8322\t9801\t14306\t13857\t6042\t9691\t10151\t13317\t13037\t6291\t9180\t10585\t4767\t19051\t16671\t12628\t2808\t13541\t13463\t15240\t18797\t10970\t13888\t15618\t13923\t14681\t14996\t17205\t7556\t15180\t6200\t5636\t7247\t2636\t11123\t16732\t14398\t16964\t19675\t19921\t16774\t9996\t18620\t5807\t16059\t8646\t12597\t21994\t13712\t12236\t1761\t16966\t5969\t13837\t11847\t5920\t14279\t15834\t15208\t18647\t5814\t19073\t11817\t18641\t8544\t14609\t19504\t11740\t20794\t11863\t7254\t17377\t13258\t15923\t12907\t12147\t14632\t6528\t16403\t16201\t15994\n",
    "4657\t14007\t4438\t3771\t6792\t7050\t5646\t9018\t9393\t18458\t10288\t6726\t19802\t5879\t7594\t9109\t9647\t8800\t8703\t8703\t8838\t7010\t17078\t7532\t10073\t16334\t8084\t5890\t11170\t7533\t8037\t9762\t20267\t16877\t13843\t8443\t18024\t7499\t10007\t11501\t12186\t8655\t10385\t19810\t15897\t9032\t23092\t475\t15105\t10063\t11480\t13090\t8130\t16966\t17948\t15614\t13462\t14442\t12625\t22647\t11474\t19836\t11964\t13509\t14489\t13813\t23210\t19421\t17945\t6236\t22809\t1641\t14219\t13466\t12699\t15994\t21677\t15589\t16241\t3856\t20289\t17704\t16993\t15322\t16618\t24210\t17755\t19147\t10215\t239\t15528\t6455\t8962\t5611\t10304\t12964\t6796\t9616\t11742\t14325\n",
    "16168\t26420\t17376\t13468\t19205\t18438\t18584\t14330\t20479\t30871\t21676\t19664\t32739\t18651\t20532\t20497\t22329\t21738\t21641\t21641\t21776\t11708\t29491\t20520\t23011\t28747\t19444\t14693\t23583\t20470\t20809\t22175\t13538\t29815\t9415\t20856\t30437\t17221\t21396\t8872\t12092\t19047\t21773\t32223\t13988\t18752\t35504\t13302\t28043\t20840\t23893\t25503\t20740\t29379\t14349\t9468\t24851\t25830\t16745\t35060\t16582\t17173\t24377\t25029\t26902\t15501\t19174\t31968\t30491\t18559\t35222\t13999\t27156\t18554\t25111\t28487\t34089\t28527\t27761\t14815\t16400\t30117\t29931\t27735\t21545\t36623\t30168\t32085\t23153\t13264\t6197\t7925\t4260\t9841\t9124\t7119\t14589\t5954\t5049\t5752\n",
    "3485\t11419\t1299\t6632\t4185\t5779\t2507\t10988\t9414\t15851\t9008\t3586\t16662\t3402\t4455\t7829\t6823\t5661\t5564\t5564\t5416\t10055\t14101\t4742\t6933\t13733\t8106\t8751\t8353\t4111\t5337\t6995\t22238\t13455\t15814\t5836\t15048\t8923\t10029\t14546\t14156\t8763\t10407\t17212\t17868\t10455\t20452\t3270\t11683\t11254\t8883\t10326\t7960\t14275\t19918\t17585\t11895\t14463\t15669\t19976\t13445\t21806\t9362\t10990\t11892\t15784\t25181\t16597\t15121\t6811\t20117\t2917\t11079\t15437\t10110\t13126\t18985\t12450\t13578\t5827\t22260\t15107\t13572\t12733\t18588\t21233\t15158\t15725\t6794\t3345\t18185\t9500\t12007\t8655\t12955\t15440\t8767\t12661\t14455\t16802\n",
    "20790\t9466\t18768\t19019\t16388\t23183\t19204\t8048\t25526\t11781\t26421\t19566\t32228\t21381\t20050\t25242\t20403\t20767\t21130\t21130\t22609\t19411\t26641\t18850\t22499\t12497\t24217\t21138\t19075\t21988\t23316\t17550\t14121\t29479\t12701\t15643\t26324\t23500\t26140\t22523\t10462\t24788\t26518\t14435\t9046\t25032\t17184\t16690\t27988\t7647\t16008\t17583\t10992\t18647\t11810\t14471\t29595\t30575\t25025\t17287\t5515\t9936\t13405\t28867\t16060\t6910\t13069\t21244\t22645\t11751\t19529\t15711\t26645\t3659\t10414\t27190\t19969\t28015\t31455\t12488\t12268\t14358\t31448\t9386\t3721\t24083\t12443\t33602\t24671\t16002\t17550\t16509\t18607\t17505\t13028\t15073\t9896\t19605\t17309\t16608\n",
    "5209\t18274\t7514\t9447\t9270\t4512\t6860\t18543\t7991\t20049\t1770\t6760\t12619\t4480\t5919\t3913\t6409\t5710\t5102\t5102\t3771\t13094\t13449\t7447\t6252\t15933\t6849\t11034\t7900\t3664\t2533\t9013\t29793\t9396\t23369\t10394\t14396\t10775\t6403\t19042\t21711\t9433\t6497\t16807\t25423\t12117\t19933\t9297\t7625\t18426\t10913\t9872\t15125\t13727\t27473\t25139\t4829\t8593\t17935\t19453\t20999\t29361\t13247\t3955\t11460\t23338\t32736\t15967\t14491\t13983\t19488\t10504\t10133\t22991\t17193\t12207\t18355\t11270\t6687\t13381\t29815\t14701\t9423\t19373\t26143\t20582\t17188\t11524\t4764\t9986\t25177\t14146\t17374\t13177\t20016\t22675\t16322\t17157\t20935\t24036\n",
    "11294\t12965\t9272\t9523\t8056\t13686\t10128\t2354\t16029\t17305\t16925\t10705\t23655\t11884\t11574\t15745\t12558\t12435\t12683\t12683\t13816\t9914\t19729\t10518\t13926\t15996\t14721\t11642\t12295\t12593\t13820\t10771\t13604\t20906\t7180\t8812\t19545\t14003\t16644\t14373\t5522\t15291\t17022\t19525\t9234\t15536\t22708\t7194\t19415\t6113\t11640\t13251\t6661\t17127\t11284\t8951\t20099\t21078\t15528\t22377\t4811\t13172\t11756\t19472\t14650\t7150\t16547\t19716\t18239\t4465\t22960\t6215\t18072\t6803\t11837\t18726\t21838\t19442\t22060\t2992\t13626\t17788\t22054\t14280\t9954\t25508\t17533\t24208\t15276\t6505\t11490\t8682\t10874\t8483\t6260\t8746\t400\t11827\t10314\t10107\n",
    "5303\t9560\t2607\t8328\t2468\t7596\t3463\t9535\t11232\t14134\t10826\t4040\t16990\t5219\t4909\t9646\t5902\t6115\t6018\t6018\t7151\t11553\t13064\t4295\t7261\t12016\t9923\t10447\t6988\t5928\t7155\t5580\t20785\t14241\t14361\t4119\t14011\t10873\t11846\t16044\t12703\t10580\t12224\t15533\t16415\t12406\t18815\t4966\t12750\t9395\t7204\t8813\t6101\t12689\t18465\t16131\t13713\t16281\t17167\t18371\t11992\t20353\t7646\t12807\t10213\t14330\t23728\t15278\t13802\t4953\t18532\t3288\t11407\t13983\t8252\t12061\t17400\t12778\t15396\t4373\t20807\t13428\t15389\t10875\t17135\t20196\t13479\t17543\t8611\t4601\t16731\t10469\t13133\t10153\t11502\t13987\t7314\t13613\t14444\t15348\"\"\";"
   ]
  },
  {
   "cell_type": "code",
   "execution_count": 38,
   "metadata": {},
   "outputs": [
    {
     "data": {
      "text/plain": [
       "18×100 Matrix{Int64}:\n",
       " 21328   7901  16774  24413  14131  …  28183  20874  30143  30419  29718\n",
       "  5195  15055   4216   9295   6050     19554  12880  16313  18674  20915\n",
       " 24025  13295  22003  22254  20379     17024  13131  22051  19380  18559\n",
       " 22508  22014  17954  25593  16490     31749  23716  31201  32314  33111\n",
       " 12913   5006  10217  14089   7574     16894   8883  19148  18556  18349\n",
       "  6281  16514   5753  10410   7509  …  21173  14561  17427  19876  22534\n",
       "  4656  19128   9008   4124  11894     19061  12862  10557  16997  20422\n",
       " 16446   6905  14412  14675  11772     14574   6924  18252  16749  16109\n",
       " 12070  11940  10048  10299   8061      9830   1565  12993  11480  11273\n",
       " 10329  23462  13628   6311  16247     17430  12203   7915  14982  18439\n",
       "  9046   7229   6350  10918   3587  …  14632   6528  16403  16201  15994\n",
       "  4657  14007   4438   3771   6792     12964   6796   9616  11742  14325\n",
       " 16168  26420  17376  13468  19205      7119  14589   5954   5049   5752\n",
       "  3485  11419   1299   6632   4185     15440   8767  12661  14455  16802\n",
       " 20790   9466  18768  19019  16388     15073   9896  19605  17309  16608\n",
       "  5209  18274   7514   9447   9270  …  22675  16322  17157  20935  24036\n",
       " 11294  12965   9272   9523   8056      8746    400  11827  10314  10107\n",
       "  5303   9560   2607   8328   2468     13987   7314  13613  14444  15348"
      ]
     },
     "execution_count": 38,
     "metadata": {},
     "output_type": "execute_result"
    }
   ],
   "source": [
    "c = readdlm(IOBuffer(dat), Int)"
   ]
  },
  {
   "cell_type": "code",
   "execution_count": 39,
   "metadata": {},
   "outputs": [
    {
     "data": {
      "text/plain": [
       "18×100 Matrix{VariableRef}:\n",
       " x[1,1]   x[1,2]   x[1,3]   x[1,4]   …  x[1,98]   x[1,99]   x[1,100]\n",
       " x[2,1]   x[2,2]   x[2,3]   x[2,4]      x[2,98]   x[2,99]   x[2,100]\n",
       " x[3,1]   x[3,2]   x[3,3]   x[3,4]      x[3,98]   x[3,99]   x[3,100]\n",
       " x[4,1]   x[4,2]   x[4,3]   x[4,4]      x[4,98]   x[4,99]   x[4,100]\n",
       " x[5,1]   x[5,2]   x[5,3]   x[5,4]      x[5,98]   x[5,99]   x[5,100]\n",
       " x[6,1]   x[6,2]   x[6,3]   x[6,4]   …  x[6,98]   x[6,99]   x[6,100]\n",
       " x[7,1]   x[7,2]   x[7,3]   x[7,4]      x[7,98]   x[7,99]   x[7,100]\n",
       " x[8,1]   x[8,2]   x[8,3]   x[8,4]      x[8,98]   x[8,99]   x[8,100]\n",
       " x[9,1]   x[9,2]   x[9,3]   x[9,4]      x[9,98]   x[9,99]   x[9,100]\n",
       " x[10,1]  x[10,2]  x[10,3]  x[10,4]     x[10,98]  x[10,99]  x[10,100]\n",
       " x[11,1]  x[11,2]  x[11,3]  x[11,4]  …  x[11,98]  x[11,99]  x[11,100]\n",
       " x[12,1]  x[12,2]  x[12,3]  x[12,4]     x[12,98]  x[12,99]  x[12,100]\n",
       " x[13,1]  x[13,2]  x[13,3]  x[13,4]     x[13,98]  x[13,99]  x[13,100]\n",
       " x[14,1]  x[14,2]  x[14,3]  x[14,4]     x[14,98]  x[14,99]  x[14,100]\n",
       " x[15,1]  x[15,2]  x[15,3]  x[15,4]     x[15,98]  x[15,99]  x[15,100]\n",
       " x[16,1]  x[16,2]  x[16,3]  x[16,4]  …  x[16,98]  x[16,99]  x[16,100]\n",
       " x[17,1]  x[17,2]  x[17,3]  x[17,4]     x[17,98]  x[17,99]  x[17,100]\n",
       " x[18,1]  x[18,2]  x[18,3]  x[18,4]     x[18,98]  x[18,99]  x[18,100]"
      ]
     },
     "execution_count": 39,
     "metadata": {},
     "output_type": "execute_result"
    }
   ],
   "source": [
    "m = Model(HiGHS.Optimizer);\n",
    "@variable(m, 400 >= x[i=1:S, j=1:D] >= 0, Int)"
   ]
  },
  {
   "cell_type": "code",
   "execution_count": 40,
   "metadata": {},
   "outputs": [
    {
     "data": {
      "text/plain": [
       "sum (generic function with 14 methods)"
      ]
     },
     "execution_count": 40,
     "metadata": {},
     "output_type": "execute_result"
    }
   ],
   "source": [
    "∑ = sum"
   ]
  },
  {
   "cell_type": "code",
   "execution_count": 41,
   "metadata": {
    "scrolled": true
   },
   "outputs": [],
   "source": [
    "for j=1:D\n",
    "   @constraint(m, ∑(x[:, j]) >= demand[j]   )\n",
    "end\n",
    "for i=1:S\n",
    "   @constraint(m, ∑(x[i, :]) <= supply[i]   )\n",
    "end\n",
    "@objective(m, Min, ∑( x .* c ));"
   ]
  },
  {
   "cell_type": "code",
   "execution_count": 42,
   "metadata": {},
   "outputs": [
    {
     "name": "stdout",
     "output_type": "stream",
     "text": [
      "Running HiGHS 1.6.0: Copyright (c) 2023 HiGHS under MIT licence terms\n",
      "Presolving model\n",
      "118 rows, 1800 cols, 3600 nonzeros\n",
      "118 rows, 1800 cols, 3600 nonzeros\n",
      "Objective function is integral with scale 1\n",
      "\n",
      "Solving MIP model with:\n",
      "   118 rows\n",
      "   1800 cols (0 binary, 1800 integer, 0 implied int., 0 continuous)\n",
      "   3600 nonzeros\n",
      "\n",
      "        Nodes      |    B&B Tree     |            Objective Bounds              |  Dynamic Constraints |       Work      \n",
      "     Proc. InQueue |  Leaves   Expl. | BestBound       BestSol              Gap |   Cuts   InLp Confl. | LpIters     Time\n",
      "\n",
      "         0       0         0   0.00%   0               inf                  inf        0      0      0         0     0.0s\n",
      " T       0       0         0   0.00%   0               7994805          100.00%        0      0      0       144     0.0s\n",
      "\n",
      "Solving report\n",
      "  Status            Optimal\n",
      "  Primal bound      7994805\n",
      "  Dual bound        7994805\n",
      "  Gap               0% (tolerance: 0.01%)\n",
      "  Solution status   feasible\n",
      "                    7994805 (objective)\n",
      "                    0 (bound viol.)\n",
      "                    0 (int. viol.)\n",
      "                    0 (row viol.)\n",
      "  Timing            0.01 (total)\n",
      "                    0.01 (presolve)\n",
      "                    0.00 (postsolve)\n",
      "  Nodes             1\n",
      "  LP iterations     144 (total)\n",
      "                    0 (strong br.)\n",
      "                    0 (separation)\n",
      "                    0 (heuristics)\n"
     ]
    }
   ],
   "source": [
    "optimize!(m)"
   ]
  },
  {
   "cell_type": "code",
   "execution_count": 43,
   "metadata": {},
   "outputs": [
    {
     "name": "stdout",
     "output_type": "stream",
     "text": [
      "termination_status(m) = MathOptInterface.OPTIMAL\n"
     ]
    },
    {
     "data": {
      "text/plain": [
       "OPTIMAL::TerminationStatusCode = 1"
      ]
     },
     "execution_count": 43,
     "metadata": {},
     "output_type": "execute_result"
    }
   ],
   "source": [
    "@show termination_status(m)\n"
   ]
  },
  {
   "cell_type": "code",
   "execution_count": 44,
   "metadata": {
    "scrolled": true
   },
   "outputs": [
    {
     "data": {
      "text/plain": [
       "Enum MathOptInterface.TerminationStatusCode:\n",
       "OPTIMIZE_NOT_CALLED = 0\n",
       "OPTIMAL = 1\n",
       "INFEASIBLE = 2\n",
       "DUAL_INFEASIBLE = 3\n",
       "LOCALLY_SOLVED = 4\n",
       "LOCALLY_INFEASIBLE = 5\n",
       "INFEASIBLE_OR_UNBOUNDED = 6\n",
       "ALMOST_OPTIMAL = 7\n",
       "ALMOST_INFEASIBLE = 8\n",
       "ALMOST_DUAL_INFEASIBLE = 9\n",
       "ALMOST_LOCALLY_SOLVED = 10\n",
       "ITERATION_LIMIT = 11\n",
       "TIME_LIMIT = 12\n",
       "NODE_LIMIT = 13\n",
       "SOLUTION_LIMIT = 14\n",
       "MEMORY_LIMIT = 15\n",
       "OBJECTIVE_LIMIT = 16\n",
       "NORM_LIMIT = 17\n",
       "OTHER_LIMIT = 18\n",
       "SLOW_PROGRESS = 19\n",
       "NUMERICAL_ERROR = 20\n",
       "INVALID_MODEL = 21\n",
       "INVALID_OPTION = 22\n",
       "INTERRUPTED = 23\n",
       "OTHER_ERROR = 24"
      ]
     },
     "execution_count": 44,
     "metadata": {},
     "output_type": "execute_result"
    }
   ],
   "source": [
    "typeof(termination_status(m))"
   ]
  },
  {
   "cell_type": "code",
   "execution_count": 45,
   "metadata": {},
   "outputs": [
    {
     "data": {
      "text/plain": [
       "18×100 SparseMatrixCSC{Float64, Int64} with 109 stored entries:\n",
       "⎡⠀⠀⠀⠈⠀⠖⠂⠒⠀⠄⡀⠐⠂⠀⠠⠀⠀⠁⠈⠀⠀⡀⠀⠈⢀⢀⢠⠄⠁⢀⢄⠀⠈⠠⠬⠀⠀⠀⠀⠀⎤\n",
       "⎢⠐⠀⠀⠒⠀⠀⠀⠈⢁⠈⠒⡀⠀⠡⠀⢂⠐⠂⡂⠑⠀⠀⠄⡀⠂⠀⠂⠀⠈⠂⠈⠀⠀⠂⠀⠁⠀⡀⠀⠀⎥\n",
       "⎢⠄⠅⠤⠀⡠⠀⠀⠄⠀⠀⠀⠁⠈⡂⠁⠀⠀⢀⠀⠁⠉⠀⢀⠀⢀⡀⠀⠉⠈⠀⠀⡀⣀⠀⠀⠈⠚⠀⠒⠒⎥\n",
       "⎣⠀⠐⠀⠁⠀⠀⠐⠀⠀⠂⠀⠂⠀⠉⠀⠀⠁⠀⠀⠀⠀⠈⠀⠀⠀⠀⠀⠀⠀⠀⠀⠈⠀⠀⠀⠀⠀⠈⠈⠀⎦"
      ]
     },
     "execution_count": 45,
     "metadata": {},
     "output_type": "execute_result"
    }
   ],
   "source": [
    "using SparseArrays\n",
    "sparse(value.(x))"
   ]
  },
  {
   "cell_type": "code",
   "execution_count": 46,
   "metadata": {
    "scrolled": true
   },
   "outputs": [
    {
     "data": {
      "text/plain": [
       "true"
      ]
     },
     "execution_count": 46,
     "metadata": {},
     "output_type": "execute_result"
    }
   ],
   "source": [
    "round.(Int, value.(x)) ≈ value.(x)"
   ]
  },
  {
   "cell_type": "code",
   "execution_count": 47,
   "metadata": {},
   "outputs": [
    {
     "data": {
      "text/plain": [
       "7.994805e6"
      ]
     },
     "execution_count": 47,
     "metadata": {},
     "output_type": "execute_result"
    }
   ],
   "source": [
    "objective_value(m)"
   ]
  },
  {
   "cell_type": "markdown",
   "metadata": {},
   "source": [
    "<a class=\"anchor\" id=\"poi\"></a>\n",
    "## 4. Collection of points-of-interest (POI) in spatial data\n",
    "\n",
    "---- [Return to table of contents](#toc) ---\n"
   ]
  },
  {
   "cell_type": "markdown",
   "metadata": {},
   "source": [
    "The [Open Street Map project](https://www.openstreetmap.org/) provides Wikipedia-style \n",
    "open data on maps around the world. Here we will use that data for planning a McDonald's \n",
    "    tour around San Francisco."
   ]
  },
  {
   "cell_type": "code",
   "execution_count": 48,
   "metadata": {},
   "outputs": [],
   "source": [
    "# raw map could be download directly with these instructions:\n",
    "# \n",
    "#     f = download(\"https://overpass-api.de/api/map?bbox=-122.5140,37.6311,-122.3781,37.8120\")\n",
    "#     mv(f, \"SF.osm\")\n",
    "\n",
    "# Here we limit the transfer by downloading a pre-made file\n",
    "if !isfile(\"SF.zip\") && !isfile(\"SF.osm\")\n",
    "    f = download(\"https://szufel-public.s3.us-east-2.amazonaws.com/SF.zip\")\n",
    "    mv(f, \"SF.zip\")\n",
    "end\n",
    "if !isfile(\"SF.osm\")\n",
    "    using ZipFile\n",
    "    z = ZipFile.Reader(\"SF.zip\")\n",
    "    write(\"SF.osm\", read(z.files[1]))\n",
    "    close(z)\n",
    "end"
   ]
  },
  {
   "cell_type": "code",
   "execution_count": 49,
   "metadata": {},
   "outputs": [
    {
     "data": {
      "text/html": [
       "<div><div style = \"float: left;\"><span>18×7 DataFrame</span></div><div style = \"clear: both;\"></div></div><div class = \"data-frame\" style = \"overflow-x: scroll;\"><table class = \"data-frame\" style = \"margin-bottom: 6px;\"><thead><tr class = \"header\"><th class = \"rowNumber\" style = \"font-weight: bold; text-align: right;\">Row</th><th style = \"text-align: left;\">elemtype</th><th style = \"text-align: left;\">elemid</th><th style = \"text-align: left;\">nodeid</th><th style = \"text-align: left;\">lat</th><th style = \"text-align: left;\">lon</th><th style = \"text-align: left;\">key</th><th style = \"text-align: left;\">value</th></tr><tr class = \"subheader headerLastRow\"><th class = \"rowNumber\" style = \"font-weight: bold; text-align: right;\"></th><th title = \"Symbol\" style = \"text-align: left;\">Symbol</th><th title = \"Int64\" style = \"text-align: left;\">Int64</th><th title = \"Int64\" style = \"text-align: left;\">Int64</th><th title = \"Float64\" style = \"text-align: left;\">Float64</th><th title = \"Float64\" style = \"text-align: left;\">Float64</th><th title = \"String\" style = \"text-align: left;\">String</th><th title = \"String\" style = \"text-align: left;\">String</th></tr></thead><tbody><tr><td class = \"rowNumber\" style = \"font-weight: bold; text-align: right;\">1</td><td style = \"text-align: left;\">node</td><td style = \"text-align: right;\">358116917</td><td style = \"text-align: right;\">358116917</td><td style = \"text-align: right;\">37.7264</td><td style = \"text-align: right;\">-122.476</td><td style = \"text-align: left;\">brand</td><td style = \"text-align: left;\">McDonald&apos;s</td></tr><tr><td class = \"rowNumber\" style = \"font-weight: bold; text-align: right;\">2</td><td style = \"text-align: left;\">node</td><td style = \"text-align: right;\">597382133</td><td style = \"text-align: right;\">597382133</td><td style = \"text-align: right;\">37.7066</td><td style = \"text-align: right;\">-122.415</td><td style = \"text-align: left;\">brand</td><td style = \"text-align: left;\">McDonald&apos;s</td></tr><tr><td class = \"rowNumber\" style = \"font-weight: bold; text-align: right;\">3</td><td style = \"text-align: left;\">node</td><td style = \"text-align: right;\">1229920544</td><td style = \"text-align: right;\">1229920544</td><td style = \"text-align: right;\">37.7131</td><td style = \"text-align: right;\">-122.445</td><td style = \"text-align: left;\">brand</td><td style = \"text-align: left;\">McDonald&apos;s</td></tr><tr><td class = \"rowNumber\" style = \"font-weight: bold; text-align: right;\">4</td><td style = \"text-align: left;\">node</td><td style = \"text-align: right;\">2365742146</td><td style = \"text-align: right;\">2365742146</td><td style = \"text-align: right;\">37.789</td><td style = \"text-align: right;\">-122.401</td><td style = \"text-align: left;\">brand</td><td style = \"text-align: left;\">McDonald&apos;s</td></tr><tr><td class = \"rowNumber\" style = \"font-weight: bold; text-align: right;\">5</td><td style = \"text-align: left;\">node</td><td style = \"text-align: right;\">3455025884</td><td style = \"text-align: right;\">3455025884</td><td style = \"text-align: right;\">37.6522</td><td style = \"text-align: right;\">-122.491</td><td style = \"text-align: left;\">brand</td><td style = \"text-align: left;\">McDonald&apos;s</td></tr><tr><td class = \"rowNumber\" style = \"font-weight: bold; text-align: right;\">6</td><td style = \"text-align: left;\">node</td><td style = \"text-align: right;\">4626983989</td><td style = \"text-align: right;\">4626983989</td><td style = \"text-align: right;\">37.7892</td><td style = \"text-align: right;\">-122.408</td><td style = \"text-align: left;\">brand</td><td style = \"text-align: left;\">McDonald&apos;s</td></tr><tr><td class = \"rowNumber\" style = \"font-weight: bold; text-align: right;\">7</td><td style = \"text-align: left;\">node</td><td style = \"text-align: right;\">6959355927</td><td style = \"text-align: right;\">6959355927</td><td style = \"text-align: right;\">37.644</td><td style = \"text-align: right;\">-122.404</td><td style = \"text-align: left;\">brand</td><td style = \"text-align: left;\">McDonald&apos;s</td></tr><tr><td class = \"rowNumber\" style = \"font-weight: bold; text-align: right;\">8</td><td style = \"text-align: left;\">node</td><td style = \"text-align: right;\">9980865058</td><td style = \"text-align: right;\">9980865058</td><td style = \"text-align: right;\">37.6438</td><td style = \"text-align: right;\">-122.454</td><td style = \"text-align: left;\">brand</td><td style = \"text-align: left;\">McDonald&apos;s</td></tr><tr><td class = \"rowNumber\" style = \"font-weight: bold; text-align: right;\">9</td><td style = \"text-align: left;\">node</td><td style = \"text-align: right;\">11338930625</td><td style = \"text-align: right;\">11338930625</td><td style = \"text-align: right;\">37.6747</td><td style = \"text-align: right;\">-122.47</td><td style = \"text-align: left;\">brand</td><td style = \"text-align: left;\">McDonald&apos;s</td></tr><tr><td class = \"rowNumber\" style = \"font-weight: bold; text-align: right;\">10</td><td style = \"text-align: left;\">way</td><td style = \"text-align: right;\">143811393</td><td style = \"text-align: right;\">1573722786</td><td style = \"text-align: right;\">37.669</td><td style = \"text-align: right;\">-122.47</td><td style = \"text-align: left;\">brand</td><td style = \"text-align: left;\">McDonald&apos;s</td></tr><tr><td class = \"rowNumber\" style = \"font-weight: bold; text-align: right;\">11</td><td style = \"text-align: left;\">way</td><td style = \"text-align: right;\">159024983</td><td style = \"text-align: right;\">1711296799</td><td style = \"text-align: right;\">37.7236</td><td style = \"text-align: right;\">-122.455</td><td style = \"text-align: left;\">brand</td><td style = \"text-align: left;\">McDonald&apos;s</td></tr><tr><td class = \"rowNumber\" style = \"font-weight: bold; text-align: right;\">12</td><td style = \"text-align: left;\">way</td><td style = \"text-align: right;\">231047897</td><td style = \"text-align: right;\">2394660225</td><td style = \"text-align: right;\">37.752</td><td style = \"text-align: right;\">-122.418</td><td style = \"text-align: left;\">brand</td><td style = \"text-align: left;\">McDonald&apos;s</td></tr><tr><td class = \"rowNumber\" style = \"font-weight: bold; text-align: right;\">13</td><td style = \"text-align: left;\">way</td><td style = \"text-align: right;\">256462436</td><td style = \"text-align: right;\">2621272506</td><td style = \"text-align: right;\">37.7653</td><td style = \"text-align: right;\">-122.408</td><td style = \"text-align: left;\">brand</td><td style = \"text-align: left;\">McDonald&apos;s</td></tr><tr><td class = \"rowNumber\" style = \"font-weight: bold; text-align: right;\">14</td><td style = \"text-align: left;\">way</td><td style = \"text-align: right;\">256750430</td><td style = \"text-align: right;\">2623846335</td><td style = \"text-align: right;\">37.7799</td><td style = \"text-align: right;\">-122.432</td><td style = \"text-align: left;\">brand</td><td style = \"text-align: left;\">McDonald&apos;s</td></tr><tr><td class = \"rowNumber\" style = \"font-weight: bold; text-align: right;\">15</td><td style = \"text-align: left;\">way</td><td style = \"text-align: right;\">258866790</td><td style = \"text-align: right;\">2641796525</td><td style = \"text-align: right;\">37.7423</td><td style = \"text-align: right;\">-122.405</td><td style = \"text-align: left;\">brand</td><td style = \"text-align: left;\">McDonald&apos;s</td></tr><tr><td class = \"rowNumber\" style = \"font-weight: bold; text-align: right;\">16</td><td style = \"text-align: left;\">way</td><td style = \"text-align: right;\">289754597</td><td style = \"text-align: right;\">2932970457</td><td style = \"text-align: right;\">37.7279</td><td style = \"text-align: right;\">-122.393</td><td style = \"text-align: left;\">brand</td><td style = \"text-align: left;\">McDonald&apos;s</td></tr><tr><td class = \"rowNumber\" style = \"font-weight: bold; text-align: right;\">17</td><td style = \"text-align: left;\">way</td><td style = \"text-align: right;\">305493773</td><td style = \"text-align: right;\">3101303030</td><td style = \"text-align: right;\">37.648</td><td style = \"text-align: right;\">-122.43</td><td style = \"text-align: left;\">brand</td><td style = \"text-align: left;\">McDonald&apos;s</td></tr><tr><td class = \"rowNumber\" style = \"font-weight: bold; text-align: right;\">18</td><td style = \"text-align: left;\">way</td><td style = \"text-align: right;\">379966104</td><td style = \"text-align: right;\">3833149556</td><td style = \"text-align: right;\">37.6922</td><td style = \"text-align: right;\">-122.471</td><td style = \"text-align: left;\">brand</td><td style = \"text-align: left;\">McDonald&apos;s</td></tr></tbody></table></div>"
      ],
      "text/latex": [
       "\\begin{tabular}{r|ccccccc}\n",
       "\t& elemtype & elemid & nodeid & lat & lon & key & value\\\\\n",
       "\t\\hline\n",
       "\t& Symbol & Int64 & Int64 & Float64 & Float64 & String & String\\\\\n",
       "\t\\hline\n",
       "\t1 & node & 358116917 & 358116917 & 37.7264 & -122.476 & brand & McDonald's \\\\\n",
       "\t2 & node & 597382133 & 597382133 & 37.7066 & -122.415 & brand & McDonald's \\\\\n",
       "\t3 & node & 1229920544 & 1229920544 & 37.7131 & -122.445 & brand & McDonald's \\\\\n",
       "\t4 & node & 2365742146 & 2365742146 & 37.789 & -122.401 & brand & McDonald's \\\\\n",
       "\t5 & node & 3455025884 & 3455025884 & 37.6522 & -122.491 & brand & McDonald's \\\\\n",
       "\t6 & node & 4626983989 & 4626983989 & 37.7892 & -122.408 & brand & McDonald's \\\\\n",
       "\t7 & node & 6959355927 & 6959355927 & 37.644 & -122.404 & brand & McDonald's \\\\\n",
       "\t8 & node & 9980865058 & 9980865058 & 37.6438 & -122.454 & brand & McDonald's \\\\\n",
       "\t9 & node & 11338930625 & 11338930625 & 37.6747 & -122.47 & brand & McDonald's \\\\\n",
       "\t10 & way & 143811393 & 1573722786 & 37.669 & -122.47 & brand & McDonald's \\\\\n",
       "\t11 & way & 159024983 & 1711296799 & 37.7236 & -122.455 & brand & McDonald's \\\\\n",
       "\t12 & way & 231047897 & 2394660225 & 37.752 & -122.418 & brand & McDonald's \\\\\n",
       "\t13 & way & 256462436 & 2621272506 & 37.7653 & -122.408 & brand & McDonald's \\\\\n",
       "\t14 & way & 256750430 & 2623846335 & 37.7799 & -122.432 & brand & McDonald's \\\\\n",
       "\t15 & way & 258866790 & 2641796525 & 37.7423 & -122.405 & brand & McDonald's \\\\\n",
       "\t16 & way & 289754597 & 2932970457 & 37.7279 & -122.393 & brand & McDonald's \\\\\n",
       "\t17 & way & 305493773 & 3101303030 & 37.648 & -122.43 & brand & McDonald's \\\\\n",
       "\t18 & way & 379966104 & 3833149556 & 37.6922 & -122.471 & brand & McDonald's \\\\\n",
       "\\end{tabular}\n"
      ],
      "text/plain": [
       "\u001b[1m18×7 DataFrame\u001b[0m\n",
       "\u001b[1m Row \u001b[0m│\u001b[1m elemtype \u001b[0m\u001b[1m elemid      \u001b[0m\u001b[1m nodeid      \u001b[0m\u001b[1m lat     \u001b[0m\u001b[1m lon      \u001b[0m\u001b[1m key    \u001b[0m\u001b[1m value   \u001b[0m ⋯\n",
       "     │\u001b[90m Symbol   \u001b[0m\u001b[90m Int64       \u001b[0m\u001b[90m Int64       \u001b[0m\u001b[90m Float64 \u001b[0m\u001b[90m Float64  \u001b[0m\u001b[90m String \u001b[0m\u001b[90m String  \u001b[0m ⋯\n",
       "─────┼──────────────────────────────────────────────────────────────────────────\n",
       "   1 │ node        358116917    358116917  37.7264  -122.476  brand   McDonald ⋯\n",
       "   2 │ node        597382133    597382133  37.7066  -122.415  brand   McDonald\n",
       "   3 │ node       1229920544   1229920544  37.7131  -122.445  brand   McDonald\n",
       "   4 │ node       2365742146   2365742146  37.789   -122.401  brand   McDonald\n",
       "   5 │ node       3455025884   3455025884  37.6522  -122.491  brand   McDonald ⋯\n",
       "   6 │ node       4626983989   4626983989  37.7892  -122.408  brand   McDonald\n",
       "   7 │ node       6959355927   6959355927  37.644   -122.404  brand   McDonald\n",
       "   8 │ node       9980865058   9980865058  37.6438  -122.454  brand   McDonald\n",
       "   9 │ node      11338930625  11338930625  37.6747  -122.47   brand   McDonald ⋯\n",
       "  10 │ way         143811393   1573722786  37.669   -122.47   brand   McDonald\n",
       "  11 │ way         159024983   1711296799  37.7236  -122.455  brand   McDonald\n",
       "  12 │ way         231047897   2394660225  37.752   -122.418  brand   McDonald\n",
       "  13 │ way         256462436   2621272506  37.7653  -122.408  brand   McDonald ⋯\n",
       "  14 │ way         256750430   2623846335  37.7799  -122.432  brand   McDonald\n",
       "  15 │ way         258866790   2641796525  37.7423  -122.405  brand   McDonald\n",
       "  16 │ way         289754597   2932970457  37.7279  -122.393  brand   McDonald\n",
       "  17 │ way         305493773   3101303030  37.648   -122.43   brand   McDonald ⋯\n",
       "  18 │ way         379966104   3833149556  37.6922  -122.471  brand   McDonald\n",
       "\u001b[36m                                                                1 column omitted\u001b[0m"
      ]
     },
     "execution_count": 49,
     "metadata": {},
     "output_type": "execute_result"
    }
   ],
   "source": [
    "using DataFrames, OSMToolset\n",
    "config = DataFrame(key=\"brand\", values=\"McDonald's\")\n",
    "dfpoi = find_poi(\"SF.osm\"; scrape_config=ScrapePOIConfig{NoneMetaPOI}(config))"
   ]
  },
  {
   "cell_type": "code",
   "execution_count": 50,
   "metadata": {},
   "outputs": [],
   "source": [
    "using OpenStreetMapX\n",
    "md = get_map_data(\"SF.osm\";use_cache=false, trim_to_connected_graph=true);"
   ]
  },
  {
   "cell_type": "markdown",
   "metadata": {},
   "source": [
    "We  translate the data from a LLA coordinate system to ENU cartesian coordinate system. Then in the next line we use that data to map McDonald's location to adjacent intersections in the road network."
   ]
  },
  {
   "cell_type": "code",
   "execution_count": 51,
   "metadata": {},
   "outputs": [],
   "source": [
    "dfpoi.enu = ENU.(LLA.(dfpoi.lat,dfpoi.lon), Ref(OpenStreetMapX.center(md.bounds)))\n",
    "dfpoi.node =  OpenStreetMapX.nearest_node.(Ref(md), dfpoi.enu);"
   ]
  },
  {
   "cell_type": "code",
   "execution_count": 52,
   "metadata": {},
   "outputs": [
    {
     "data": {
      "text/plain": [
       "18×18 Matrix{Float64}:\n",
       "     0.0    6118.73   4049.25  10648.3    …   8395.01  11004.7    4611.46\n",
       "  6203.5       0.0    3155.72  11137.8        3777.23  10062.0    6740.6\n",
       "  4082.66   3048.11      0.0    9890.24       6102.2    9593.41   4028.88\n",
       " 10733.2   11078.1    9949.45      0.0        7544.8   19279.4   13714.9\n",
       " 10596.1   12712.1   10035.4   19723.9       15854.2    7713.72   6653.23\n",
       " 10602.1   10956.9    9818.3     632.746  …   7700.56  19148.3   13583.7\n",
       " 13250.3    8699.03  11750.9   17665.7       10261.7    4106.79   9337.78\n",
       " 10194.7   12283.9    9607.28  19295.7       14130.9    3192.93   6225.07\n",
       "  6422.84   8512.11   5835.46  15523.9       11654.3    5337.73   2399.74\n",
       "  7190.4    9282.57   6605.93  16294.4       12424.7    4885.26   3223.71\n",
       "  2040.17   4100.92   2031.44   9977.39   …   6377.2   10023.9    4459.36\n",
       "  6852.82   6560.98   5133.78   4868.92       4647.36  14466.6    8902.06\n",
       "  9019.4    7773.48   7478.58   3547.47       5107.28  16089.1   11246.9\n",
       "  8747.77   9849.82   8422.62   3098.64       8389.33  17582.3   12017.8\n",
       "  7363.38   5136.61   5289.79   6071.72       2475.99  13439.5    9147.16\n",
       "  8393.66   3898.36   6094.33   7483.18   …      0.0   11911.8    9804.4\n",
       " 10667.9   10121.4    9558.97  19214.4       11810.3       0.0    6755.39\n",
       "  4155.85   6581.0    3904.35  13592.8        9723.15   6590.38      0.0"
      ]
     },
     "execution_count": 52,
     "metadata": {},
     "output_type": "execute_result"
    }
   ],
   "source": [
    "dist_mx = [OpenStreetMapX.shortest_route(md, dfpoi.node[i], dfpoi.node[j])[2] \n",
    "            for i in 1:nrow(dfpoi), j in 1:nrow(dfpoi)]\n"
   ]
  },
  {
   "cell_type": "markdown",
   "metadata": {},
   "source": [
    "<a class=\"anchor\" id=\"tsp\"></a>\n",
    "## 5. Travelling salesman problem (TSP)\n",
    "\n",
    "---- [Return to table of contents](#toc) ---"
   ]
  },
  {
   "cell_type": "markdown",
   "metadata": {},
   "source": [
    "Now we are planning a tour of McDonald's around San Francisco!"
   ]
  },
  {
   "cell_type": "code",
   "execution_count": 53,
   "metadata": {
    "scrolled": true
   },
   "outputs": [],
   "source": [
    "using JuMP, HiGHS\n",
    "N = size(dist_mx, 1) \n",
    "m = Model(optimizer_with_attributes(HiGHS.Optimizer));\n",
    "JuMP.set_silent(m)\n",
    "@variable(m, x[f=1:N, t=1:N], Bin)\n",
    "@objective(m, Min, sum( x[i, j]*dist_mx[i,j] for i=1:N,j=1:N))\n",
    "@constraint(m, notself[i=1:N], x[i, i] == 0)\n",
    "@constraint(m, oneout[i=1:N], sum(x[i, 1:N]) == 1)\n",
    "@constraint(m, onein[j=1:N], sum(x[1:N, j]) == 1)\n",
    "for f=1:N, t=1:N\n",
    "    @constraint(m, x[f, t]+x[t, f] <= 1)\n",
    "end\n",
    "\n",
    "\n",
    "optimize!(m)\n",
    "\n"
   ]
  },
  {
   "cell_type": "code",
   "execution_count": 54,
   "metadata": {},
   "outputs": [
    {
     "data": {
      "text/plain": [
       "getcycle (generic function with 1 method)"
      ]
     },
     "execution_count": 54,
     "metadata": {},
     "output_type": "execute_result"
    }
   ],
   "source": [
    "function getcycle(x_v, N)\n",
    "    x_val = round.(Int, x_v)\n",
    "    cycle_idx = Vector{Int}()\n",
    "    push!(cycle_idx, 1)\n",
    "    while true\n",
    "        v, idx = findmax(x_val[cycle_idx[end], 1:N])\n",
    "        if idx == cycle_idx[1]\n",
    "            break\n",
    "        else\n",
    "            push!(cycle_idx, idx)\n",
    "        end\n",
    "    end\n",
    "    cycle_idx\n",
    "end\n"
   ]
  },
  {
   "cell_type": "code",
   "execution_count": 55,
   "metadata": {},
   "outputs": [
    {
     "data": {
      "text/plain": [
       "11-element Vector{Int64}:\n",
       "  1\n",
       " 11\n",
       "  3\n",
       "  2\n",
       "  7\n",
       " 17\n",
       "  8\n",
       "  5\n",
       " 10\n",
       "  9\n",
       " 18"
      ]
     },
     "execution_count": 55,
     "metadata": {},
     "output_type": "execute_result"
    }
   ],
   "source": [
    "getcycle(value.(x), N)"
   ]
  },
  {
   "cell_type": "code",
   "execution_count": 56,
   "metadata": {},
   "outputs": [
    {
     "name": "stdout",
     "output_type": "stream",
     "text": [
      "Added a constraint since the cycle lenght was 11 < 18\n"
     ]
    },
    {
     "data": {
      "text/plain": [
       "false"
      ]
     },
     "execution_count": 56,
     "metadata": {},
     "output_type": "execute_result"
    }
   ],
   "source": [
    "function solved(m, cycle_idx, N)\n",
    "    if length(cycle_idx) < N\n",
    "        cc = @constraint(m, sum(x[cycle_idx,cycle_idx]) <= length(cycle_idx)-1)\n",
    "        println(\"Added a constraint since the cycle lenght was $(length(cycle_idx)) < $N\")\n",
    "        return false\n",
    "    end\n",
    "    return true\n",
    "end\n",
    "\n",
    "solved(m, getcycle(value.(x), N),N)\n",
    "\n"
   ]
  },
  {
   "cell_type": "markdown",
   "metadata": {},
   "source": [
    "Handling cycles inspired by the tutorial available at: https://opensourc.es/blog/mip-tsp/"
   ]
  },
  {
   "cell_type": "code",
   "execution_count": 57,
   "metadata": {},
   "outputs": [
    {
     "name": "stdout",
     "output_type": "stream",
     "text": [
      "Added a constraint since the cycle lenght was 8 < 18\n",
      "Added a constraint since the cycle lenght was 12 < 18\n",
      "Added a constraint since the cycle lenght was 9 < 18\n",
      "Added a constraint since the cycle lenght was 7 < 18\n",
      "Added a constraint since the cycle lenght was 3 < 18\n",
      "Added a constraint since the cycle lenght was 15 < 18\n",
      "Added a constraint since the cycle lenght was 4 < 18\n",
      "Added a constraint since the cycle lenght was 8 < 18\n",
      "Added a constraint since the cycle lenght was 11 < 18\n",
      "Added a constraint since the cycle lenght was 14 < 18\n",
      "Added a constraint since the cycle lenght was 3 < 18\n",
      "Added a constraint since the cycle lenght was 7 < 18\n",
      "Added a constraint since the cycle lenght was 12 < 18\n",
      "Added a constraint since the cycle lenght was 13 < 18\n"
     ]
    }
   ],
   "source": [
    "while true\n",
    "    optimize!(m)\n",
    "    status = termination_status(m)\n",
    "    cycle_idx = getcycle(value.(x), N)\n",
    "    if solved(m, cycle_idx,N)\n",
    "        break;\n",
    "    end\n",
    "end"
   ]
  },
  {
   "cell_type": "code",
   "execution_count": 58,
   "metadata": {},
   "outputs": [
    {
     "name": "stdout",
     "output_type": "stream",
     "text": [
      "Trip length 62866.00339245931\n"
     ]
    }
   ],
   "source": [
    "println(\"Trip length $(objective_value(m))\")"
   ]
  },
  {
   "cell_type": "code",
   "execution_count": 59,
   "metadata": {},
   "outputs": [
    {
     "data": {
      "image/png": "[encoded data removed]",
      "image/svg+xml": [
       "<?xml version=\"1.0\" encoding=\"utf-8\"?>\n",
       "<svg xmlns=\"http://www.w3.org/2000/svg\" xmlns:xlink=\"http://www.w3.org/1999/xlink\" width=\"600\" height=\"400\" viewBox=\"0 0 2400 1600\">\n",
       "<defs>\n",
       "  <clipPath id=\"clip500\">\n",
       "    <rect x=\"0\" y=\"0\" width=\"2400\" height=\"1600\"/>\n",
       "  </clipPath>\n",
       "</defs>\n",
       "<path clip-path=\"url(#clip500)\" d=\"M0 1600 L2400 1600 L2400 0 L0 0  Z\" fill=\"#ffffff\" fill-rule=\"evenodd\" fill-opacity=\"1\"/>\n",
       "<defs>\n",
       "  <clipPath id=\"clip501\">\n",
       "    <rect x=\"480\" y=\"0\" width=\"1681\" height=\"1600\"/>\n",
       "  </clipPath>\n",
       "</defs>\n",
       "<path clip-path=\"url(#clip500)\" d=\"M312.47 1486.45 L2352.76 1486.45 L2352.76 47.2441 L312.47 47.2441  Z\" fill=\"#ffffff\" fill-rule=\"evenodd\" fill-opacity=\"1\"/>\n",
       "<defs>\n",
       "  <clipPath id=\"clip502\">\n",
       "    <rect x=\"312\" y=\"47\" width=\"2041\" height=\"1440\"/>\n",
       "  </clipPath>\n",
       "</defs>\n",
       "<polyline clip-path=\"url(#clip502)\" style=\"stroke:#000000; stroke-linecap:round; stroke-linejoin:round; stroke-width:2; stroke-opacity:0.1; fill:none\" points=\"367.915,1486.45 367.915,47.2441 \"/>\n",
       "<polyline clip-path=\"url(#clip502)\" style=\"stroke:#000000; stroke-linecap:round; stroke-linejoin:round; stroke-width:2; stroke-opacity:0.1; fill:none\" points=\"810.924,1486.45 810.924,47.2441 \"/>\n",
       "<polyline clip-path=\"url(#clip502)\" style=\"stroke:#000000; stroke-linecap:round; stroke-linejoin:round; stroke-width:2; stroke-opacity:0.1; fill:none\" points=\"1253.93,1486.45 1253.93,47.2441 \"/>\n",
       "<polyline clip-path=\"url(#clip502)\" style=\"stroke:#000000; stroke-linecap:round; stroke-linejoin:round; stroke-width:2; stroke-opacity:0.1; fill:none\" points=\"1696.94,1486.45 1696.94,47.2441 \"/>\n",
       "<polyline clip-path=\"url(#clip502)\" style=\"stroke:#000000; stroke-linecap:round; stroke-linejoin:round; stroke-width:2; stroke-opacity:0.1; fill:none\" points=\"2139.95,1486.45 2139.95,47.2441 \"/>\n",
       "<polyline clip-path=\"url(#clip500)\" style=\"stroke:#000000; stroke-linecap:round; stroke-linejoin:round; stroke-width:4; stroke-opacity:1; fill:none\" points=\"312.47,1486.45 2352.76,1486.45 \"/>\n",
       "<polyline clip-path=\"url(#clip500)\" style=\"stroke:#000000; stroke-linecap:round; stroke-linejoin:round; stroke-width:4; stroke-opacity:1; fill:none\" points=\"367.915,1486.45 367.915,1467.55 \"/>\n",
       "<polyline clip-path=\"url(#clip500)\" style=\"stroke:#000000; stroke-linecap:round; stroke-linejoin:round; stroke-width:4; stroke-opacity:1; fill:none\" points=\"810.924,1486.45 810.924,1467.55 \"/>\n",
       "<polyline clip-path=\"url(#clip500)\" style=\"stroke:#000000; stroke-linecap:round; stroke-linejoin:round; stroke-width:4; stroke-opacity:1; fill:none\" points=\"1253.93,1486.45 1253.93,1467.55 \"/>\n",
       "<polyline clip-path=\"url(#clip500)\" style=\"stroke:#000000; stroke-linecap:round; stroke-linejoin:round; stroke-width:4; stroke-opacity:1; fill:none\" points=\"1696.94,1486.45 1696.94,1467.55 \"/>\n",
       "<polyline clip-path=\"url(#clip500)\" style=\"stroke:#000000; stroke-linecap:round; stroke-linejoin:round; stroke-width:4; stroke-opacity:1; fill:none\" points=\"2139.95,1486.45 2139.95,1467.55 \"/>\n",
       "<path clip-path=\"url(#clip500)\" d=\"M291.816 1532.02 L321.492 1532.02 L321.492 1535.95 L291.816 1535.95 L291.816 1532.02 Z\" fill=\"#000000\" fill-rule=\"nonzero\" fill-opacity=\"1\" /><path clip-path=\"url(#clip500)\" d=\"M344.431 1518.36 L332.626 1536.81 L344.431 1536.81 L344.431 1518.36 M343.204 1514.29 L349.084 1514.29 L349.084 1536.81 L354.015 1536.81 L354.015 1540.7 L349.084 1540.7 L349.084 1548.85 L344.431 1548.85 L344.431 1540.7 L328.829 1540.7 L328.829 1536.19 L343.204 1514.29 Z\" fill=\"#000000\" fill-rule=\"nonzero\" fill-opacity=\"1\" /><path clip-path=\"url(#clip500)\" d=\"M371.746 1517.37 Q368.135 1517.37 366.306 1520.93 Q364.501 1524.47 364.501 1531.6 Q364.501 1538.71 366.306 1542.27 Q368.135 1545.82 371.746 1545.82 Q375.38 1545.82 377.186 1542.27 Q379.014 1538.71 379.014 1531.6 Q379.014 1524.47 377.186 1520.93 Q375.38 1517.37 371.746 1517.37 M371.746 1513.66 Q377.556 1513.66 380.612 1518.27 Q383.69 1522.85 383.69 1531.6 Q383.69 1540.33 380.612 1544.94 Q377.556 1549.52 371.746 1549.52 Q365.936 1549.52 362.857 1544.94 Q359.802 1540.33 359.802 1531.6 Q359.802 1522.85 362.857 1518.27 Q365.936 1513.66 371.746 1513.66 Z\" fill=\"#000000\" fill-rule=\"nonzero\" fill-opacity=\"1\" /><path clip-path=\"url(#clip500)\" d=\"M401.908 1517.37 Q398.297 1517.37 396.468 1520.93 Q394.662 1524.47 394.662 1531.6 Q394.662 1538.71 396.468 1542.27 Q398.297 1545.82 401.908 1545.82 Q405.542 1545.82 407.348 1542.27 Q409.176 1538.71 409.176 1531.6 Q409.176 1524.47 407.348 1520.93 Q405.542 1517.37 401.908 1517.37 M401.908 1513.66 Q407.718 1513.66 410.773 1518.27 Q413.852 1522.85 413.852 1531.6 Q413.852 1540.33 410.773 1544.94 Q407.718 1549.52 401.908 1549.52 Q396.098 1549.52 393.019 1544.94 Q389.963 1540.33 389.963 1531.6 Q389.963 1522.85 393.019 1518.27 Q396.098 1513.66 401.908 1513.66 Z\" fill=\"#000000\" fill-rule=\"nonzero\" fill-opacity=\"1\" /><path clip-path=\"url(#clip500)\" d=\"M432.07 1517.37 Q428.459 1517.37 426.63 1520.93 Q424.824 1524.47 424.824 1531.6 Q424.824 1538.71 426.63 1542.27 Q428.459 1545.82 432.07 1545.82 Q435.704 1545.82 437.509 1542.27 Q439.338 1538.71 439.338 1531.6 Q439.338 1524.47 437.509 1520.93 Q435.704 1517.37 432.07 1517.37 M432.07 1513.66 Q437.88 1513.66 440.935 1518.27 Q444.014 1522.85 444.014 1531.6 Q444.014 1540.33 440.935 1544.94 Q437.88 1549.52 432.07 1549.52 Q426.259 1549.52 423.181 1544.94 Q420.125 1540.33 420.125 1531.6 Q420.125 1522.85 423.181 1518.27 Q426.259 1513.66 432.07 1513.66 Z\" fill=\"#000000\" fill-rule=\"nonzero\" fill-opacity=\"1\" /><path clip-path=\"url(#clip500)\" d=\"M734.824 1532.02 L764.5 1532.02 L764.5 1535.95 L734.824 1535.95 L734.824 1532.02 Z\" fill=\"#000000\" fill-rule=\"nonzero\" fill-opacity=\"1\" /><path clip-path=\"url(#clip500)\" d=\"M778.62 1544.91 L794.94 1544.91 L794.94 1548.85 L772.995 1548.85 L772.995 1544.91 Q775.658 1542.16 780.241 1537.53 Q784.847 1532.88 786.028 1531.53 Q788.273 1529.01 789.153 1527.27 Q790.056 1525.51 790.056 1523.82 Q790.056 1521.07 788.111 1519.33 Q786.19 1517.6 783.088 1517.6 Q780.889 1517.6 778.435 1518.36 Q776.005 1519.13 773.227 1520.68 L773.227 1515.95 Q776.051 1514.82 778.505 1514.24 Q780.958 1513.66 782.995 1513.66 Q788.366 1513.66 791.56 1516.35 Q794.755 1519.03 794.755 1523.52 Q794.755 1525.65 793.944 1527.57 Q793.157 1529.47 791.051 1532.07 Q790.472 1532.74 787.37 1535.95 Q784.269 1539.15 778.62 1544.91 Z\" fill=\"#000000\" fill-rule=\"nonzero\" fill-opacity=\"1\" /><path clip-path=\"url(#clip500)\" d=\"M814.755 1517.37 Q811.143 1517.37 809.315 1520.93 Q807.509 1524.47 807.509 1531.6 Q807.509 1538.71 809.315 1542.27 Q811.143 1545.82 814.755 1545.82 Q818.389 1545.82 820.194 1542.27 Q822.023 1538.71 822.023 1531.6 Q822.023 1524.47 820.194 1520.93 Q818.389 1517.37 814.755 1517.37 M814.755 1513.66 Q820.565 1513.66 823.62 1518.27 Q826.699 1522.85 826.699 1531.6 Q826.699 1540.33 823.62 1544.94 Q820.565 1549.52 814.755 1549.52 Q808.944 1549.52 805.866 1544.94 Q802.81 1540.33 802.81 1531.6 Q802.81 1522.85 805.866 1518.27 Q808.944 1513.66 814.755 1513.66 Z\" fill=\"#000000\" fill-rule=\"nonzero\" fill-opacity=\"1\" /><path clip-path=\"url(#clip500)\" d=\"M844.916 1517.37 Q841.305 1517.37 839.477 1520.93 Q837.671 1524.47 837.671 1531.6 Q837.671 1538.71 839.477 1542.27 Q841.305 1545.82 844.916 1545.82 Q848.551 1545.82 850.356 1542.27 Q852.185 1538.71 852.185 1531.6 Q852.185 1524.47 850.356 1520.93 Q848.551 1517.37 844.916 1517.37 M844.916 1513.66 Q850.727 1513.66 853.782 1518.27 Q856.861 1522.85 856.861 1531.6 Q856.861 1540.33 853.782 1544.94 Q850.727 1549.52 844.916 1549.52 Q839.106 1549.52 836.028 1544.94 Q832.972 1540.33 832.972 1531.6 Q832.972 1522.85 836.028 1518.27 Q839.106 1513.66 844.916 1513.66 Z\" fill=\"#000000\" fill-rule=\"nonzero\" fill-opacity=\"1\" /><path clip-path=\"url(#clip500)\" d=\"M875.078 1517.37 Q871.467 1517.37 869.638 1520.93 Q867.833 1524.47 867.833 1531.6 Q867.833 1538.71 869.638 1542.27 Q871.467 1545.82 875.078 1545.82 Q878.713 1545.82 880.518 1542.27 Q882.347 1538.71 882.347 1531.6 Q882.347 1524.47 880.518 1520.93 Q878.713 1517.37 875.078 1517.37 M875.078 1513.66 Q880.888 1513.66 883.944 1518.27 Q887.023 1522.85 887.023 1531.6 Q887.023 1540.33 883.944 1544.94 Q880.888 1549.52 875.078 1549.52 Q869.268 1549.52 866.189 1544.94 Q863.134 1540.33 863.134 1531.6 Q863.134 1522.85 866.189 1518.27 Q869.268 1513.66 875.078 1513.66 Z\" fill=\"#000000\" fill-rule=\"nonzero\" fill-opacity=\"1\" /><path clip-path=\"url(#clip500)\" d=\"M1253.93 1517.37 Q1250.32 1517.37 1248.49 1520.93 Q1246.69 1524.47 1246.69 1531.6 Q1246.69 1538.71 1248.49 1542.27 Q1250.32 1545.82 1253.93 1545.82 Q1257.57 1545.82 1259.37 1542.27 Q1261.2 1538.71 1261.2 1531.6 Q1261.2 1524.47 1259.37 1520.93 Q1257.57 1517.37 1253.93 1517.37 M1253.93 1513.66 Q1259.74 1513.66 1262.8 1518.27 Q1265.88 1522.85 1265.88 1531.6 Q1265.88 1540.33 1262.8 1544.94 Q1259.74 1549.52 1253.93 1549.52 Q1248.12 1549.52 1245.04 1544.94 Q1241.99 1540.33 1241.99 1531.6 Q1241.99 1522.85 1245.04 1518.27 Q1248.12 1513.66 1253.93 1513.66 Z\" fill=\"#000000\" fill-rule=\"nonzero\" fill-opacity=\"1\" /><path clip-path=\"url(#clip500)\" d=\"M1645.55 1544.91 L1661.87 1544.91 L1661.87 1548.85 L1639.93 1548.85 L1639.93 1544.91 Q1642.59 1542.16 1647.17 1537.53 Q1651.78 1532.88 1652.96 1531.53 Q1655.2 1529.01 1656.08 1527.27 Q1656.99 1525.51 1656.99 1523.82 Q1656.99 1521.07 1655.04 1519.33 Q1653.12 1517.6 1650.02 1517.6 Q1647.82 1517.6 1645.37 1518.36 Q1642.94 1519.13 1640.16 1520.68 L1640.16 1515.95 Q1642.98 1514.82 1645.44 1514.24 Q1647.89 1513.66 1649.93 1513.66 Q1655.3 1513.66 1658.49 1516.35 Q1661.69 1519.03 1661.69 1523.52 Q1661.69 1525.65 1660.88 1527.57 Q1660.09 1529.47 1657.98 1532.07 Q1657.4 1532.74 1654.3 1535.95 Q1651.2 1539.15 1645.55 1544.91 Z\" fill=\"#000000\" fill-rule=\"nonzero\" fill-opacity=\"1\" /><path clip-path=\"url(#clip500)\" d=\"M1681.69 1517.37 Q1678.08 1517.37 1676.25 1520.93 Q1674.44 1524.47 1674.44 1531.6 Q1674.44 1538.71 1676.25 1542.27 Q1678.08 1545.82 1681.69 1545.82 Q1685.32 1545.82 1687.13 1542.27 Q1688.95 1538.71 1688.95 1531.6 Q1688.95 1524.47 1687.13 1520.93 Q1685.32 1517.37 1681.69 1517.37 M1681.69 1513.66 Q1687.5 1513.66 1690.55 1518.27 Q1693.63 1522.85 1693.63 1531.6 Q1693.63 1540.33 1690.55 1544.94 Q1687.5 1549.52 1681.69 1549.52 Q1675.88 1549.52 1672.8 1544.94 Q1669.74 1540.33 1669.74 1531.6 Q1669.74 1522.85 1672.8 1518.27 Q1675.88 1513.66 1681.69 1513.66 Z\" fill=\"#000000\" fill-rule=\"nonzero\" fill-opacity=\"1\" /><path clip-path=\"url(#clip500)\" d=\"M1711.85 1517.37 Q1708.24 1517.37 1706.41 1520.93 Q1704.6 1524.47 1704.6 1531.6 Q1704.6 1538.71 1706.41 1542.27 Q1708.24 1545.82 1711.85 1545.82 Q1715.48 1545.82 1717.29 1542.27 Q1719.12 1538.71 1719.12 1531.6 Q1719.12 1524.47 1717.29 1520.93 Q1715.48 1517.37 1711.85 1517.37 M1711.85 1513.66 Q1717.66 1513.66 1720.71 1518.27 Q1723.79 1522.85 1723.79 1531.6 Q1723.79 1540.33 1720.71 1544.94 Q1717.66 1549.52 1711.85 1549.52 Q1706.04 1549.52 1702.96 1544.94 Q1699.9 1540.33 1699.9 1531.6 Q1699.9 1522.85 1702.96 1518.27 Q1706.04 1513.66 1711.85 1513.66 Z\" fill=\"#000000\" fill-rule=\"nonzero\" fill-opacity=\"1\" /><path clip-path=\"url(#clip500)\" d=\"M1742.01 1517.37 Q1738.4 1517.37 1736.57 1520.93 Q1734.76 1524.47 1734.76 1531.6 Q1734.76 1538.71 1736.57 1542.27 Q1738.4 1545.82 1742.01 1545.82 Q1745.64 1545.82 1747.45 1542.27 Q1749.28 1538.71 1749.28 1531.6 Q1749.28 1524.47 1747.45 1520.93 Q1745.64 1517.37 1742.01 1517.37 M1742.01 1513.66 Q1747.82 1513.66 1750.88 1518.27 Q1753.95 1522.85 1753.95 1531.6 Q1753.95 1540.33 1750.88 1544.94 Q1747.82 1549.52 1742.01 1549.52 Q1736.2 1549.52 1733.12 1544.94 Q1730.07 1540.33 1730.07 1531.6 Q1730.07 1522.85 1733.12 1518.27 Q1736.2 1513.66 1742.01 1513.66 Z\" fill=\"#000000\" fill-rule=\"nonzero\" fill-opacity=\"1\" /><path clip-path=\"url(#clip500)\" d=\"M2097.96 1518.36 L2086.15 1536.81 L2097.96 1536.81 L2097.96 1518.36 M2096.73 1514.29 L2102.61 1514.29 L2102.61 1536.81 L2107.54 1536.81 L2107.54 1540.7 L2102.61 1540.7 L2102.61 1548.85 L2097.96 1548.85 L2097.96 1540.7 L2082.36 1540.7 L2082.36 1536.19 L2096.73 1514.29 Z\" fill=\"#000000\" fill-rule=\"nonzero\" fill-opacity=\"1\" /><path clip-path=\"url(#clip500)\" d=\"M2125.27 1517.37 Q2121.66 1517.37 2119.83 1520.93 Q2118.03 1524.47 2118.03 1531.6 Q2118.03 1538.71 2119.83 1542.27 Q2121.66 1545.82 2125.27 1545.82 Q2128.91 1545.82 2130.71 1542.27 Q2132.54 1538.71 2132.54 1531.6 Q2132.54 1524.47 2130.71 1520.93 Q2128.91 1517.37 2125.27 1517.37 M2125.27 1513.66 Q2131.08 1513.66 2134.14 1518.27 Q2137.22 1522.85 2137.22 1531.6 Q2137.22 1540.33 2134.14 1544.94 Q2131.08 1549.52 2125.27 1549.52 Q2119.46 1549.52 2116.38 1544.94 Q2113.33 1540.33 2113.33 1531.6 Q2113.33 1522.85 2116.38 1518.27 Q2119.46 1513.66 2125.27 1513.66 Z\" fill=\"#000000\" fill-rule=\"nonzero\" fill-opacity=\"1\" /><path clip-path=\"url(#clip500)\" d=\"M2155.44 1517.37 Q2151.82 1517.37 2150 1520.93 Q2148.19 1524.47 2148.19 1531.6 Q2148.19 1538.71 2150 1542.27 Q2151.82 1545.82 2155.44 1545.82 Q2159.07 1545.82 2160.88 1542.27 Q2162.7 1538.71 2162.7 1531.6 Q2162.7 1524.47 2160.88 1520.93 Q2159.07 1517.37 2155.44 1517.37 M2155.44 1513.66 Q2161.25 1513.66 2164.3 1518.27 Q2167.38 1522.85 2167.38 1531.6 Q2167.38 1540.33 2164.3 1544.94 Q2161.25 1549.52 2155.44 1549.52 Q2149.63 1549.52 2146.55 1544.94 Q2143.49 1540.33 2143.49 1531.6 Q2143.49 1522.85 2146.55 1518.27 Q2149.63 1513.66 2155.44 1513.66 Z\" fill=\"#000000\" fill-rule=\"nonzero\" fill-opacity=\"1\" /><path clip-path=\"url(#clip500)\" d=\"M2185.6 1517.37 Q2181.99 1517.37 2180.16 1520.93 Q2178.35 1524.47 2178.35 1531.6 Q2178.35 1538.71 2180.16 1542.27 Q2181.99 1545.82 2185.6 1545.82 Q2189.23 1545.82 2191.04 1542.27 Q2192.87 1538.71 2192.87 1531.6 Q2192.87 1524.47 2191.04 1520.93 Q2189.23 1517.37 2185.6 1517.37 M2185.6 1513.66 Q2191.41 1513.66 2194.46 1518.27 Q2197.54 1522.85 2197.54 1531.6 Q2197.54 1540.33 2194.46 1544.94 Q2191.41 1549.52 2185.6 1549.52 Q2179.79 1549.52 2176.71 1544.94 Q2173.65 1540.33 2173.65 1531.6 Q2173.65 1522.85 2176.71 1518.27 Q2179.79 1513.66 2185.6 1513.66 Z\" fill=\"#000000\" fill-rule=\"nonzero\" fill-opacity=\"1\" /><polyline clip-path=\"url(#clip502)\" style=\"stroke:#000000; stroke-linecap:round; stroke-linejoin:round; stroke-width:2; stroke-opacity:0.1; fill:none\" points=\"312.47,1392.61 2352.76,1392.61 \"/>\n",
       "<polyline clip-path=\"url(#clip502)\" style=\"stroke:#000000; stroke-linecap:round; stroke-linejoin:round; stroke-width:2; stroke-opacity:0.1; fill:none\" points=\"312.47,1224.41 2352.76,1224.41 \"/>\n",
       "<polyline clip-path=\"url(#clip502)\" style=\"stroke:#000000; stroke-linecap:round; stroke-linejoin:round; stroke-width:2; stroke-opacity:0.1; fill:none\" points=\"312.47,1056.2 2352.76,1056.2 \"/>\n",
       "<polyline clip-path=\"url(#clip502)\" style=\"stroke:#000000; stroke-linecap:round; stroke-linejoin:round; stroke-width:2; stroke-opacity:0.1; fill:none\" points=\"312.47,887.993 2352.76,887.993 \"/>\n",
       "<polyline clip-path=\"url(#clip502)\" style=\"stroke:#000000; stroke-linecap:round; stroke-linejoin:round; stroke-width:2; stroke-opacity:0.1; fill:none\" points=\"312.47,719.787 2352.76,719.787 \"/>\n",
       "<polyline clip-path=\"url(#clip502)\" style=\"stroke:#000000; stroke-linecap:round; stroke-linejoin:round; stroke-width:2; stroke-opacity:0.1; fill:none\" points=\"312.47,551.58 2352.76,551.58 \"/>\n",
       "<polyline clip-path=\"url(#clip502)\" style=\"stroke:#000000; stroke-linecap:round; stroke-linejoin:round; stroke-width:2; stroke-opacity:0.1; fill:none\" points=\"312.47,383.373 2352.76,383.373 \"/>\n",
       "<polyline clip-path=\"url(#clip502)\" style=\"stroke:#000000; stroke-linecap:round; stroke-linejoin:round; stroke-width:2; stroke-opacity:0.1; fill:none\" points=\"312.47,215.166 2352.76,215.166 \"/>\n",
       "<polyline clip-path=\"url(#clip500)\" style=\"stroke:#000000; stroke-linecap:round; stroke-linejoin:round; stroke-width:4; stroke-opacity:1; fill:none\" points=\"312.47,1486.45 312.47,47.2441 \"/>\n",
       "<polyline clip-path=\"url(#clip500)\" style=\"stroke:#000000; stroke-linecap:round; stroke-linejoin:round; stroke-width:4; stroke-opacity:1; fill:none\" points=\"312.47,1392.61 331.367,1392.61 \"/>\n",
       "<polyline clip-path=\"url(#clip500)\" style=\"stroke:#000000; stroke-linecap:round; stroke-linejoin:round; stroke-width:4; stroke-opacity:1; fill:none\" points=\"312.47,1224.41 331.367,1224.41 \"/>\n",
       "<polyline clip-path=\"url(#clip500)\" style=\"stroke:#000000; stroke-linecap:round; stroke-linejoin:round; stroke-width:4; stroke-opacity:1; fill:none\" points=\"312.47,1056.2 331.367,1056.2 \"/>\n",
       "<polyline clip-path=\"url(#clip500)\" style=\"stroke:#000000; stroke-linecap:round; stroke-linejoin:round; stroke-width:4; stroke-opacity:1; fill:none\" points=\"312.47,887.993 331.367,887.993 \"/>\n",
       "<polyline clip-path=\"url(#clip500)\" style=\"stroke:#000000; stroke-linecap:round; stroke-linejoin:round; stroke-width:4; stroke-opacity:1; fill:none\" points=\"312.47,719.787 331.367,719.787 \"/>\n",
       "<polyline clip-path=\"url(#clip500)\" style=\"stroke:#000000; stroke-linecap:round; stroke-linejoin:round; stroke-width:4; stroke-opacity:1; fill:none\" points=\"312.47,551.58 331.367,551.58 \"/>\n",
       "<polyline clip-path=\"url(#clip500)\" style=\"stroke:#000000; stroke-linecap:round; stroke-linejoin:round; stroke-width:4; stroke-opacity:1; fill:none\" points=\"312.47,383.373 331.367,383.373 \"/>\n",
       "<polyline clip-path=\"url(#clip500)\" style=\"stroke:#000000; stroke-linecap:round; stroke-linejoin:round; stroke-width:4; stroke-opacity:1; fill:none\" points=\"312.47,215.166 331.367,215.166 \"/>\n",
       "<path clip-path=\"url(#clip500)\" d=\"M50.9921 1399.51 L80.6679 1399.51 L80.6679 1403.45 L50.9921 1403.45 L50.9921 1399.51 Z\" fill=\"#000000\" fill-rule=\"nonzero\" fill-opacity=\"1\" /><path clip-path=\"url(#clip500)\" d=\"M100.76 1399.93 Q97.4271 1399.93 95.5058 1401.71 Q93.6076 1403.49 93.6076 1406.62 Q93.6076 1409.74 95.5058 1411.53 Q97.4271 1413.31 100.76 1413.31 Q104.094 1413.31 106.015 1411.53 Q107.936 1409.72 107.936 1406.62 Q107.936 1403.49 106.015 1401.71 Q104.117 1399.93 100.76 1399.93 M96.0845 1397.94 Q93.0752 1397.2 91.3854 1395.14 Q89.7188 1393.08 89.7188 1390.11 Q89.7188 1385.97 92.6586 1383.56 Q95.6215 1381.16 100.76 1381.16 Q105.922 1381.16 108.862 1383.56 Q111.802 1385.97 111.802 1390.11 Q111.802 1393.08 110.112 1395.14 Q108.446 1397.2 105.459 1397.94 Q108.839 1398.73 110.714 1401.02 Q112.612 1403.31 112.612 1406.62 Q112.612 1411.64 109.533 1414.33 Q106.478 1417.01 100.76 1417.01 Q95.0428 1417.01 91.9641 1414.33 Q88.9086 1411.64 88.9086 1406.62 Q88.9086 1403.31 90.8067 1401.02 Q92.7049 1398.73 96.0845 1397.94 M94.3715 1390.55 Q94.3715 1393.24 96.0382 1394.74 Q97.728 1396.25 100.76 1396.25 Q103.77 1396.25 105.459 1394.74 Q107.172 1393.24 107.172 1390.55 Q107.172 1387.87 105.459 1386.36 Q103.77 1384.86 100.76 1384.86 Q97.728 1384.86 96.0382 1386.36 Q94.3715 1387.87 94.3715 1390.55 Z\" fill=\"#000000\" fill-rule=\"nonzero\" fill-opacity=\"1\" /><path clip-path=\"url(#clip500)\" d=\"M120.922 1410.46 L125.807 1410.46 L125.807 1416.34 L120.922 1416.34 L120.922 1410.46 Z\" fill=\"#000000\" fill-rule=\"nonzero\" fill-opacity=\"1\" /><path clip-path=\"url(#clip500)\" d=\"M145.992 1384.86 Q142.381 1384.86 140.552 1388.42 Q138.746 1391.97 138.746 1399.1 Q138.746 1406.2 140.552 1409.77 Q142.381 1413.31 145.992 1413.31 Q149.626 1413.31 151.431 1409.77 Q153.26 1406.2 153.26 1399.1 Q153.26 1391.97 151.431 1388.42 Q149.626 1384.86 145.992 1384.86 M145.992 1381.16 Q151.802 1381.16 154.857 1385.76 Q157.936 1390.35 157.936 1399.1 Q157.936 1407.82 154.857 1412.43 Q151.802 1417.01 145.992 1417.01 Q140.181 1417.01 137.103 1412.43 Q134.047 1407.82 134.047 1399.1 Q134.047 1390.35 137.103 1385.76 Q140.181 1381.16 145.992 1381.16 Z\" fill=\"#000000\" fill-rule=\"nonzero\" fill-opacity=\"1\" /><path clip-path=\"url(#clip500)\" d=\"M194.325 1390.88 L183.746 1401.5 L194.325 1412.08 L191.57 1414.88 L180.945 1404.26 L170.32 1414.88 L167.589 1412.08 L178.144 1401.5 L167.589 1390.88 L170.32 1388.08 L180.945 1398.7 L191.57 1388.08 L194.325 1390.88 Z\" fill=\"#000000\" fill-rule=\"nonzero\" fill-opacity=\"1\" /><path clip-path=\"url(#clip500)\" d=\"M206.686 1412.41 L214.325 1412.41 L214.325 1386.04 L206.014 1387.71 L206.014 1383.45 L214.278 1381.78 L218.954 1381.78 L218.954 1412.41 L226.593 1412.41 L226.593 1416.34 L206.686 1416.34 L206.686 1412.41 Z\" fill=\"#000000\" fill-rule=\"nonzero\" fill-opacity=\"1\" /><path clip-path=\"url(#clip500)\" d=\"M246.037 1384.86 Q242.426 1384.86 240.598 1388.42 Q238.792 1391.97 238.792 1399.1 Q238.792 1406.2 240.598 1409.77 Q242.426 1413.31 246.037 1413.31 Q249.672 1413.31 251.477 1409.77 Q253.306 1406.2 253.306 1399.1 Q253.306 1391.97 251.477 1388.42 Q249.672 1384.86 246.037 1384.86 M246.037 1381.16 Q251.848 1381.16 254.903 1385.76 Q257.982 1390.35 257.982 1399.1 Q257.982 1407.82 254.903 1412.43 Q251.848 1417.01 246.037 1417.01 Q240.227 1417.01 237.149 1412.43 Q234.093 1407.82 234.093 1399.1 Q234.093 1390.35 237.149 1385.76 Q240.227 1381.16 246.037 1381.16 Z\" fill=\"#000000\" fill-rule=\"nonzero\" fill-opacity=\"1\" /><path clip-path=\"url(#clip500)\" d=\"M270.677 1373.79 Q273.404 1374.37 274.928 1376.22 Q276.47 1378.06 276.47 1380.77 Q276.47 1384.92 273.611 1387.2 Q270.752 1389.48 265.486 1389.48 Q263.718 1389.48 261.837 1389.12 Q259.975 1388.78 257.982 1388.08 L257.982 1384.42 Q259.562 1385.34 261.442 1385.81 Q263.323 1386.28 265.373 1386.28 Q268.947 1386.28 270.809 1384.87 Q272.689 1383.46 272.689 1380.77 Q272.689 1378.29 270.94 1376.89 Q269.21 1375.48 266.107 1375.48 L262.834 1375.48 L262.834 1372.36 L266.257 1372.36 Q269.06 1372.36 270.545 1371.25 Q272.031 1370.12 272.031 1368.02 Q272.031 1365.85 270.489 1364.71 Q268.965 1363.54 266.107 1363.54 Q264.546 1363.54 262.759 1363.88 Q260.972 1364.22 258.828 1364.93 L258.828 1361.55 Q260.991 1360.95 262.872 1360.64 Q264.771 1360.34 266.445 1360.34 Q270.771 1360.34 273.291 1362.32 Q275.812 1364.27 275.812 1367.62 Q275.812 1369.95 274.476 1371.57 Q273.141 1373.17 270.677 1373.79 Z\" fill=\"#000000\" fill-rule=\"nonzero\" fill-opacity=\"1\" /><path clip-path=\"url(#clip500)\" d=\"M50.9921 1231.31 L80.6679 1231.31 L80.6679 1235.24 L50.9921 1235.24 L50.9921 1231.31 Z\" fill=\"#000000\" fill-rule=\"nonzero\" fill-opacity=\"1\" /><path clip-path=\"url(#clip500)\" d=\"M101.339 1228.99 Q98.1909 1228.99 96.3391 1231.14 Q94.5104 1233.3 94.5104 1237.05 Q94.5104 1240.77 96.3391 1242.95 Q98.1909 1245.1 101.339 1245.1 Q104.487 1245.1 106.316 1242.95 Q108.168 1240.77 108.168 1237.05 Q108.168 1233.3 106.316 1231.14 Q104.487 1228.99 101.339 1228.99 M110.621 1214.34 L110.621 1218.6 Q108.862 1217.76 107.057 1217.32 Q105.274 1216.88 103.515 1216.88 Q98.8854 1216.88 96.4317 1220.01 Q94.0012 1223.13 93.6539 1229.45 Q95.0197 1227.44 97.0798 1226.38 Q99.14 1225.29 101.617 1225.29 Q106.825 1225.29 109.834 1228.46 Q112.867 1231.61 112.867 1237.05 Q112.867 1242.37 109.719 1245.59 Q106.571 1248.81 101.339 1248.81 Q95.3437 1248.81 92.1725 1244.22 Q89.0012 1239.62 89.0012 1230.89 Q89.0012 1222.69 92.89 1217.83 Q96.7789 1212.95 103.33 1212.95 Q105.089 1212.95 106.871 1213.3 Q108.677 1213.64 110.621 1214.34 Z\" fill=\"#000000\" fill-rule=\"nonzero\" fill-opacity=\"1\" /><path clip-path=\"url(#clip500)\" d=\"M120.922 1242.26 L125.807 1242.26 L125.807 1248.13 L120.922 1248.13 L120.922 1242.26 Z\" fill=\"#000000\" fill-rule=\"nonzero\" fill-opacity=\"1\" /><path clip-path=\"url(#clip500)\" d=\"M145.992 1216.65 Q142.381 1216.65 140.552 1220.22 Q138.746 1223.76 138.746 1230.89 Q138.746 1238 140.552 1241.56 Q142.381 1245.1 145.992 1245.1 Q149.626 1245.1 151.431 1241.56 Q153.26 1238 153.26 1230.89 Q153.26 1223.76 151.431 1220.22 Q149.626 1216.65 145.992 1216.65 M145.992 1212.95 Q151.802 1212.95 154.857 1217.56 Q157.936 1222.14 157.936 1230.89 Q157.936 1239.62 154.857 1244.22 Q151.802 1248.81 145.992 1248.81 Q140.181 1248.81 137.103 1244.22 Q134.047 1239.62 134.047 1230.89 Q134.047 1222.14 137.103 1217.56 Q140.181 1212.95 145.992 1212.95 Z\" fill=\"#000000\" fill-rule=\"nonzero\" fill-opacity=\"1\" /><path clip-path=\"url(#clip500)\" d=\"M194.325 1222.67 L183.746 1233.3 L194.325 1243.88 L191.57 1246.68 L180.945 1236.05 L170.32 1246.68 L167.589 1243.88 L178.144 1233.3 L167.589 1222.67 L170.32 1219.87 L180.945 1230.5 L191.57 1219.87 L194.325 1222.67 Z\" fill=\"#000000\" fill-rule=\"nonzero\" fill-opacity=\"1\" /><path clip-path=\"url(#clip500)\" d=\"M206.686 1244.2 L214.325 1244.2 L214.325 1217.83 L206.014 1219.5 L206.014 1215.24 L214.278 1213.57 L218.954 1213.57 L218.954 1244.2 L226.593 1244.2 L226.593 1248.13 L206.686 1248.13 L206.686 1244.2 Z\" fill=\"#000000\" fill-rule=\"nonzero\" fill-opacity=\"1\" /><path clip-path=\"url(#clip500)\" d=\"M246.037 1216.65 Q242.426 1216.65 240.598 1220.22 Q238.792 1223.76 238.792 1230.89 Q238.792 1238 240.598 1241.56 Q242.426 1245.1 246.037 1245.1 Q249.672 1245.1 251.477 1241.56 Q253.306 1238 253.306 1230.89 Q253.306 1223.76 251.477 1220.22 Q249.672 1216.65 246.037 1216.65 M246.037 1212.95 Q251.848 1212.95 254.903 1217.56 Q257.982 1222.14 257.982 1230.89 Q257.982 1239.62 254.903 1244.22 Q251.848 1248.81 246.037 1248.81 Q240.227 1248.81 237.149 1244.22 Q234.093 1239.62 234.093 1230.89 Q234.093 1222.14 237.149 1217.56 Q240.227 1212.95 246.037 1212.95 Z\" fill=\"#000000\" fill-rule=\"nonzero\" fill-opacity=\"1\" /><path clip-path=\"url(#clip500)\" d=\"M270.677 1205.58 Q273.404 1206.17 274.928 1208.01 Q276.47 1209.85 276.47 1212.56 Q276.47 1216.72 273.611 1218.99 Q270.752 1221.27 265.486 1221.27 Q263.718 1221.27 261.837 1220.91 Q259.975 1220.57 257.982 1219.88 L257.982 1216.21 Q259.562 1217.13 261.442 1217.6 Q263.323 1218.07 265.373 1218.07 Q268.947 1218.07 270.809 1216.66 Q272.689 1215.25 272.689 1212.56 Q272.689 1210.08 270.94 1208.69 Q269.21 1207.28 266.107 1207.28 L262.834 1207.28 L262.834 1204.15 L266.257 1204.15 Q269.06 1204.15 270.545 1203.04 Q272.031 1201.92 272.031 1199.81 Q272.031 1197.65 270.489 1196.5 Q268.965 1195.33 266.107 1195.33 Q264.546 1195.33 262.759 1195.67 Q260.972 1196.01 258.828 1196.73 L258.828 1193.34 Q260.991 1192.74 262.872 1192.44 Q264.771 1192.14 266.445 1192.14 Q270.771 1192.14 273.291 1194.11 Q275.812 1196.07 275.812 1199.42 Q275.812 1201.75 274.476 1203.36 Q273.141 1204.96 270.677 1205.58 Z\" fill=\"#000000\" fill-rule=\"nonzero\" fill-opacity=\"1\" /><path clip-path=\"url(#clip500)\" d=\"M50.9921 1063.1 L80.6679 1063.1 L80.6679 1067.03 L50.9921 1067.03 L50.9921 1063.1 Z\" fill=\"#000000\" fill-rule=\"nonzero\" fill-opacity=\"1\" /><path clip-path=\"url(#clip500)\" d=\"M103.608 1049.44 L91.8021 1067.89 L103.608 1067.89 L103.608 1049.44 M102.381 1045.37 L108.26 1045.37 L108.26 1067.89 L113.191 1067.89 L113.191 1071.78 L108.26 1071.78 L108.26 1079.93 L103.608 1079.93 L103.608 1071.78 L88.0058 1071.78 L88.0058 1067.27 L102.381 1045.37 Z\" fill=\"#000000\" fill-rule=\"nonzero\" fill-opacity=\"1\" /><path clip-path=\"url(#clip500)\" d=\"M120.922 1074.05 L125.807 1074.05 L125.807 1079.93 L120.922 1079.93 L120.922 1074.05 Z\" fill=\"#000000\" fill-rule=\"nonzero\" fill-opacity=\"1\" /><path clip-path=\"url(#clip500)\" d=\"M145.992 1048.45 Q142.381 1048.45 140.552 1052.01 Q138.746 1055.55 138.746 1062.68 Q138.746 1069.79 140.552 1073.35 Q142.381 1076.9 145.992 1076.9 Q149.626 1076.9 151.431 1073.35 Q153.26 1069.79 153.26 1062.68 Q153.26 1055.55 151.431 1052.01 Q149.626 1048.45 145.992 1048.45 M145.992 1044.74 Q151.802 1044.74 154.857 1049.35 Q157.936 1053.93 157.936 1062.68 Q157.936 1071.41 154.857 1076.02 Q151.802 1080.6 145.992 1080.6 Q140.181 1080.6 137.103 1076.02 Q134.047 1071.41 134.047 1062.68 Q134.047 1053.93 137.103 1049.35 Q140.181 1044.74 145.992 1044.74 Z\" fill=\"#000000\" fill-rule=\"nonzero\" fill-opacity=\"1\" /><path clip-path=\"url(#clip500)\" d=\"M194.325 1054.47 L183.746 1065.09 L194.325 1075.67 L191.57 1078.47 L180.945 1067.84 L170.32 1078.47 L167.589 1075.67 L178.144 1065.09 L167.589 1054.47 L170.32 1051.66 L180.945 1062.29 L191.57 1051.66 L194.325 1054.47 Z\" fill=\"#000000\" fill-rule=\"nonzero\" fill-opacity=\"1\" /><path clip-path=\"url(#clip500)\" d=\"M206.686 1075.99 L214.325 1075.99 L214.325 1049.63 L206.014 1051.29 L206.014 1047.03 L214.278 1045.37 L218.954 1045.37 L218.954 1075.99 L226.593 1075.99 L226.593 1079.93 L206.686 1079.93 L206.686 1075.99 Z\" fill=\"#000000\" fill-rule=\"nonzero\" fill-opacity=\"1\" /><path clip-path=\"url(#clip500)\" d=\"M246.037 1048.45 Q242.426 1048.45 240.598 1052.01 Q238.792 1055.55 238.792 1062.68 Q238.792 1069.79 240.598 1073.35 Q242.426 1076.9 246.037 1076.9 Q249.672 1076.9 251.477 1073.35 Q253.306 1069.79 253.306 1062.68 Q253.306 1055.55 251.477 1052.01 Q249.672 1048.45 246.037 1048.45 M246.037 1044.74 Q251.848 1044.74 254.903 1049.35 Q257.982 1053.93 257.982 1062.68 Q257.982 1071.41 254.903 1076.02 Q251.848 1080.6 246.037 1080.6 Q240.227 1080.6 237.149 1076.02 Q234.093 1071.41 234.093 1062.68 Q234.093 1053.93 237.149 1049.35 Q240.227 1044.74 246.037 1044.74 Z\" fill=\"#000000\" fill-rule=\"nonzero\" fill-opacity=\"1\" /><path clip-path=\"url(#clip500)\" d=\"M270.677 1037.38 Q273.404 1037.96 274.928 1039.8 Q276.47 1041.65 276.47 1044.35 Q276.47 1048.51 273.611 1050.79 Q270.752 1053.06 265.486 1053.06 Q263.718 1053.06 261.837 1052.71 Q259.975 1052.37 257.982 1051.67 L257.982 1048 Q259.562 1048.93 261.442 1049.4 Q263.323 1049.87 265.373 1049.87 Q268.947 1049.87 270.809 1048.45 Q272.689 1047.04 272.689 1044.35 Q272.689 1041.87 270.94 1040.48 Q269.21 1039.07 266.107 1039.07 L262.834 1039.07 L262.834 1035.95 L266.257 1035.95 Q269.06 1035.95 270.545 1034.84 Q272.031 1033.71 272.031 1031.6 Q272.031 1029.44 270.489 1028.29 Q268.965 1027.13 266.107 1027.13 Q264.546 1027.13 262.759 1027.47 Q260.972 1027.8 258.828 1028.52 L258.828 1025.13 Q260.991 1024.53 262.872 1024.23 Q264.771 1023.93 266.445 1023.93 Q270.771 1023.93 273.291 1025.9 Q275.812 1027.86 275.812 1031.21 Q275.812 1033.54 274.476 1035.16 Q273.141 1036.76 270.677 1037.38 Z\" fill=\"#000000\" fill-rule=\"nonzero\" fill-opacity=\"1\" /><path clip-path=\"url(#clip500)\" d=\"M50.9921 894.892 L80.6679 894.892 L80.6679 898.828 L50.9921 898.828 L50.9921 894.892 Z\" fill=\"#000000\" fill-rule=\"nonzero\" fill-opacity=\"1\" /><path clip-path=\"url(#clip500)\" d=\"M94.7882 907.786 L111.108 907.786 L111.108 911.721 L89.1632 911.721 L89.1632 907.786 Q91.8252 905.031 96.4085 900.402 Q101.015 895.749 102.196 894.406 Q104.441 891.883 105.321 890.147 Q106.223 888.388 106.223 886.698 Q106.223 883.943 104.279 882.207 Q102.358 880.471 99.2558 880.471 Q97.0567 880.471 94.603 881.235 Q92.1725 881.999 89.3947 883.55 L89.3947 878.828 Q92.2188 877.693 94.6724 877.115 Q97.1261 876.536 99.1632 876.536 Q104.534 876.536 107.728 879.221 Q110.922 881.906 110.922 886.397 Q110.922 888.527 110.112 890.448 Q109.325 892.346 107.219 894.939 Q106.64 895.61 103.538 898.828 Q100.436 902.022 94.7882 907.786 Z\" fill=\"#000000\" fill-rule=\"nonzero\" fill-opacity=\"1\" /><path clip-path=\"url(#clip500)\" d=\"M120.922 905.841 L125.807 905.841 L125.807 911.721 L120.922 911.721 L120.922 905.841 Z\" fill=\"#000000\" fill-rule=\"nonzero\" fill-opacity=\"1\" /><path clip-path=\"url(#clip500)\" d=\"M145.992 880.24 Q142.381 880.24 140.552 883.805 Q138.746 887.346 138.746 894.476 Q138.746 901.582 140.552 905.147 Q142.381 908.689 145.992 908.689 Q149.626 908.689 151.431 905.147 Q153.26 901.582 153.26 894.476 Q153.26 887.346 151.431 883.805 Q149.626 880.24 145.992 880.24 M145.992 876.536 Q151.802 876.536 154.857 881.143 Q157.936 885.726 157.936 894.476 Q157.936 903.203 154.857 907.809 Q151.802 912.392 145.992 912.392 Q140.181 912.392 137.103 907.809 Q134.047 903.203 134.047 894.476 Q134.047 885.726 137.103 881.143 Q140.181 876.536 145.992 876.536 Z\" fill=\"#000000\" fill-rule=\"nonzero\" fill-opacity=\"1\" /><path clip-path=\"url(#clip500)\" d=\"M194.325 886.258 L183.746 896.883 L194.325 907.462 L191.57 910.263 L180.945 899.638 L170.32 910.263 L167.589 907.462 L178.144 896.883 L167.589 886.258 L170.32 883.457 L180.945 894.082 L191.57 883.457 L194.325 886.258 Z\" fill=\"#000000\" fill-rule=\"nonzero\" fill-opacity=\"1\" /><path clip-path=\"url(#clip500)\" d=\"M206.686 907.786 L214.325 907.786 L214.325 881.42 L206.014 883.087 L206.014 878.828 L214.278 877.161 L218.954 877.161 L218.954 907.786 L226.593 907.786 L226.593 911.721 L206.686 911.721 L206.686 907.786 Z\" fill=\"#000000\" fill-rule=\"nonzero\" fill-opacity=\"1\" /><path clip-path=\"url(#clip500)\" d=\"M246.037 880.24 Q242.426 880.24 240.598 883.805 Q238.792 887.346 238.792 894.476 Q238.792 901.582 240.598 905.147 Q242.426 908.689 246.037 908.689 Q249.672 908.689 251.477 905.147 Q253.306 901.582 253.306 894.476 Q253.306 887.346 251.477 883.805 Q249.672 880.24 246.037 880.24 M246.037 876.536 Q251.848 876.536 254.903 881.143 Q257.982 885.726 257.982 894.476 Q257.982 903.203 254.903 907.809 Q251.848 912.392 246.037 912.392 Q240.227 912.392 237.149 907.809 Q234.093 903.203 234.093 894.476 Q234.093 885.726 237.149 881.143 Q240.227 876.536 246.037 876.536 Z\" fill=\"#000000\" fill-rule=\"nonzero\" fill-opacity=\"1\" /><path clip-path=\"url(#clip500)\" d=\"M270.677 869.17 Q273.404 869.753 274.928 871.597 Q276.47 873.44 276.47 876.148 Q276.47 880.305 273.611 882.58 Q270.752 884.856 265.486 884.856 Q263.718 884.856 261.837 884.499 Q259.975 884.16 257.982 883.464 L257.982 879.797 Q259.562 880.718 261.442 881.189 Q263.323 881.659 265.373 881.659 Q268.947 881.659 270.809 880.248 Q272.689 878.838 272.689 876.148 Q272.689 873.665 270.94 872.274 Q269.21 870.863 266.107 870.863 L262.834 870.863 L262.834 867.741 L266.257 867.741 Q269.06 867.741 270.545 866.631 Q272.031 865.503 272.031 863.396 Q272.031 861.234 270.489 860.086 Q268.965 858.92 266.107 858.92 Q264.546 858.92 262.759 859.259 Q260.972 859.597 258.828 860.312 L258.828 856.927 Q260.991 856.325 262.872 856.024 Q264.771 855.723 266.445 855.723 Q270.771 855.723 273.291 857.698 Q275.812 859.654 275.812 863.001 Q275.812 865.334 274.476 866.951 Q273.141 868.55 270.677 869.17 Z\" fill=\"#000000\" fill-rule=\"nonzero\" fill-opacity=\"1\" /><path clip-path=\"url(#clip500)\" d=\"M264.525 705.585 Q260.914 705.585 259.086 709.15 Q257.28 712.692 257.28 719.821 Q257.28 726.928 259.086 730.493 Q260.914 734.034 264.525 734.034 Q268.16 734.034 269.965 730.493 Q271.794 726.928 271.794 719.821 Q271.794 712.692 269.965 709.15 Q268.16 705.585 264.525 705.585 M264.525 701.882 Q270.336 701.882 273.391 706.488 Q276.47 711.071 276.47 719.821 Q276.47 728.548 273.391 733.155 Q270.336 737.738 264.525 737.738 Q258.715 737.738 255.637 733.155 Q252.581 728.548 252.581 719.821 Q252.581 711.071 255.637 706.488 Q258.715 701.882 264.525 701.882 Z\" fill=\"#000000\" fill-rule=\"nonzero\" fill-opacity=\"1\" /><path clip-path=\"url(#clip500)\" d=\"M94.7882 571.372 L111.108 571.372 L111.108 575.308 L89.1632 575.308 L89.1632 571.372 Q91.8252 568.618 96.4085 563.988 Q101.015 559.335 102.196 557.993 Q104.441 555.47 105.321 553.734 Q106.223 551.974 106.223 550.285 Q106.223 547.53 104.279 545.794 Q102.358 544.058 99.2558 544.058 Q97.0567 544.058 94.603 544.822 Q92.1725 545.585 89.3947 547.136 L89.3947 542.414 Q92.2188 541.28 94.6724 540.701 Q97.1261 540.123 99.1632 540.123 Q104.534 540.123 107.728 542.808 Q110.922 545.493 110.922 549.984 Q110.922 552.113 110.112 554.035 Q109.325 555.933 107.219 558.525 Q106.64 559.197 103.538 562.414 Q100.436 565.609 94.7882 571.372 Z\" fill=\"#000000\" fill-rule=\"nonzero\" fill-opacity=\"1\" /><path clip-path=\"url(#clip500)\" d=\"M120.922 569.428 L125.807 569.428 L125.807 575.308 L120.922 575.308 L120.922 569.428 Z\" fill=\"#000000\" fill-rule=\"nonzero\" fill-opacity=\"1\" /><path clip-path=\"url(#clip500)\" d=\"M145.992 543.826 Q142.381 543.826 140.552 547.391 Q138.746 550.933 138.746 558.062 Q138.746 565.169 140.552 568.733 Q142.381 572.275 145.992 572.275 Q149.626 572.275 151.431 568.733 Q153.26 565.169 153.26 558.062 Q153.26 550.933 151.431 547.391 Q149.626 543.826 145.992 543.826 M145.992 540.123 Q151.802 540.123 154.857 544.729 Q157.936 549.312 157.936 558.062 Q157.936 566.789 154.857 571.396 Q151.802 575.979 145.992 575.979 Q140.181 575.979 137.103 571.396 Q134.047 566.789 134.047 558.062 Q134.047 549.312 137.103 544.729 Q140.181 540.123 145.992 540.123 Z\" fill=\"#000000\" fill-rule=\"nonzero\" fill-opacity=\"1\" /><path clip-path=\"url(#clip500)\" d=\"M194.325 549.845 L183.746 560.47 L194.325 571.048 L191.57 573.849 L180.945 563.224 L170.32 573.849 L167.589 571.048 L178.144 560.47 L167.589 549.845 L170.32 547.044 L180.945 557.669 L191.57 547.044 L194.325 549.845 Z\" fill=\"#000000\" fill-rule=\"nonzero\" fill-opacity=\"1\" /><path clip-path=\"url(#clip500)\" d=\"M206.686 571.372 L214.325 571.372 L214.325 545.007 L206.014 546.673 L206.014 542.414 L214.278 540.748 L218.954 540.748 L218.954 571.372 L226.593 571.372 L226.593 575.308 L206.686 575.308 L206.686 571.372 Z\" fill=\"#000000\" fill-rule=\"nonzero\" fill-opacity=\"1\" /><path clip-path=\"url(#clip500)\" d=\"M246.037 543.826 Q242.426 543.826 240.598 547.391 Q238.792 550.933 238.792 558.062 Q238.792 565.169 240.598 568.733 Q242.426 572.275 246.037 572.275 Q249.672 572.275 251.477 568.733 Q253.306 565.169 253.306 558.062 Q253.306 550.933 251.477 547.391 Q249.672 543.826 246.037 543.826 M246.037 540.123 Q251.848 540.123 254.903 544.729 Q257.982 549.312 257.982 558.062 Q257.982 566.789 254.903 571.396 Q251.848 575.979 246.037 575.979 Q240.227 575.979 237.149 571.396 Q234.093 566.789 234.093 558.062 Q234.093 549.312 237.149 544.729 Q240.227 540.123 246.037 540.123 Z\" fill=\"#000000\" fill-rule=\"nonzero\" fill-opacity=\"1\" /><path clip-path=\"url(#clip500)\" d=\"M270.677 532.757 Q273.404 533.34 274.928 535.183 Q276.47 537.026 276.47 539.735 Q276.47 543.891 273.611 546.167 Q270.752 548.443 265.486 548.443 Q263.718 548.443 261.837 548.085 Q259.975 547.747 257.982 547.051 L257.982 543.383 Q259.562 544.305 261.442 544.775 Q263.323 545.245 265.373 545.245 Q268.947 545.245 270.809 543.835 Q272.689 542.424 272.689 539.735 Q272.689 537.252 270.94 535.86 Q269.21 534.45 266.107 534.45 L262.834 534.45 L262.834 531.327 L266.257 531.327 Q269.06 531.327 270.545 530.218 Q272.031 529.089 272.031 526.983 Q272.031 524.82 270.489 523.673 Q268.965 522.507 266.107 522.507 Q264.546 522.507 262.759 522.845 Q260.972 523.184 258.828 523.898 L258.828 520.513 Q260.991 519.911 262.872 519.61 Q264.771 519.309 266.445 519.309 Q270.771 519.309 273.291 521.284 Q275.812 523.24 275.812 526.588 Q275.812 528.92 274.476 530.538 Q273.141 532.136 270.677 532.757 Z\" fill=\"#000000\" fill-rule=\"nonzero\" fill-opacity=\"1\" /><path clip-path=\"url(#clip500)\" d=\"M103.608 376.615 L91.8021 395.064 L103.608 395.064 L103.608 376.615 M102.381 372.541 L108.26 372.541 L108.26 395.064 L113.191 395.064 L113.191 398.953 L108.26 398.953 L108.26 407.101 L103.608 407.101 L103.608 398.953 L88.0058 398.953 L88.0058 394.439 L102.381 372.541 Z\" fill=\"#000000\" fill-rule=\"nonzero\" fill-opacity=\"1\" /><path clip-path=\"url(#clip500)\" d=\"M120.922 401.221 L125.807 401.221 L125.807 407.101 L120.922 407.101 L120.922 401.221 Z\" fill=\"#000000\" fill-rule=\"nonzero\" fill-opacity=\"1\" /><path clip-path=\"url(#clip500)\" d=\"M145.992 375.619 Q142.381 375.619 140.552 379.184 Q138.746 382.726 138.746 389.855 Q138.746 396.962 140.552 400.527 Q142.381 404.068 145.992 404.068 Q149.626 404.068 151.431 400.527 Q153.26 396.962 153.26 389.855 Q153.26 382.726 151.431 379.184 Q149.626 375.619 145.992 375.619 M145.992 371.916 Q151.802 371.916 154.857 376.522 Q157.936 381.106 157.936 389.855 Q157.936 398.582 154.857 403.189 Q151.802 407.772 145.992 407.772 Q140.181 407.772 137.103 403.189 Q134.047 398.582 134.047 389.855 Q134.047 381.106 137.103 376.522 Q140.181 371.916 145.992 371.916 Z\" fill=\"#000000\" fill-rule=\"nonzero\" fill-opacity=\"1\" /><path clip-path=\"url(#clip500)\" d=\"M194.325 381.638 L183.746 392.263 L194.325 402.842 L191.57 405.642 L180.945 395.017 L170.32 405.642 L167.589 402.842 L178.144 392.263 L167.589 381.638 L170.32 378.837 L180.945 389.462 L191.57 378.837 L194.325 381.638 Z\" fill=\"#000000\" fill-rule=\"nonzero\" fill-opacity=\"1\" /><path clip-path=\"url(#clip500)\" d=\"M206.686 403.166 L214.325 403.166 L214.325 376.8 L206.014 378.467 L206.014 374.207 L214.278 372.541 L218.954 372.541 L218.954 403.166 L226.593 403.166 L226.593 407.101 L206.686 407.101 L206.686 403.166 Z\" fill=\"#000000\" fill-rule=\"nonzero\" fill-opacity=\"1\" /><path clip-path=\"url(#clip500)\" d=\"M246.037 375.619 Q242.426 375.619 240.598 379.184 Q238.792 382.726 238.792 389.855 Q238.792 396.962 240.598 400.527 Q242.426 404.068 246.037 404.068 Q249.672 404.068 251.477 400.527 Q253.306 396.962 253.306 389.855 Q253.306 382.726 251.477 379.184 Q249.672 375.619 246.037 375.619 M246.037 371.916 Q251.848 371.916 254.903 376.522 Q257.982 381.106 257.982 389.855 Q257.982 398.582 254.903 403.189 Q251.848 407.772 246.037 407.772 Q240.227 407.772 237.149 403.189 Q234.093 398.582 234.093 389.855 Q234.093 381.106 237.149 376.522 Q240.227 371.916 246.037 371.916 Z\" fill=\"#000000\" fill-rule=\"nonzero\" fill-opacity=\"1\" /><path clip-path=\"url(#clip500)\" d=\"M270.677 364.55 Q273.404 365.133 274.928 366.976 Q276.47 368.819 276.47 371.528 Q276.47 375.684 273.611 377.96 Q270.752 380.236 265.486 380.236 Q263.718 380.236 261.837 379.878 Q259.975 379.54 257.982 378.844 L257.982 375.177 Q259.562 376.098 261.442 376.568 Q263.323 377.038 265.373 377.038 Q268.947 377.038 270.809 375.628 Q272.689 374.217 272.689 371.528 Q272.689 369.045 270.94 367.653 Q269.21 366.243 266.107 366.243 L262.834 366.243 L262.834 363.121 L266.257 363.121 Q269.06 363.121 270.545 362.011 Q272.031 360.883 272.031 358.776 Q272.031 356.613 270.489 355.466 Q268.965 354.3 266.107 354.3 Q264.546 354.3 262.759 354.638 Q260.972 354.977 258.828 355.692 L258.828 352.306 Q260.991 351.704 262.872 351.403 Q264.771 351.103 266.445 351.103 Q270.771 351.103 273.291 353.077 Q275.812 355.033 275.812 358.381 Q275.812 360.713 274.476 362.331 Q273.141 363.929 270.677 364.55 Z\" fill=\"#000000\" fill-rule=\"nonzero\" fill-opacity=\"1\" /><path clip-path=\"url(#clip500)\" d=\"M101.339 219.751 Q98.1909 219.751 96.3391 221.903 Q94.5104 224.056 94.5104 227.806 Q94.5104 231.533 96.3391 233.709 Q98.1909 235.862 101.339 235.862 Q104.487 235.862 106.316 233.709 Q108.168 231.533 108.168 227.806 Q108.168 224.056 106.316 221.903 Q104.487 219.751 101.339 219.751 M110.621 205.098 L110.621 209.357 Q108.862 208.524 107.057 208.084 Q105.274 207.644 103.515 207.644 Q98.8854 207.644 96.4317 210.769 Q94.0012 213.894 93.6539 220.214 Q95.0197 218.2 97.0798 217.135 Q99.14 216.047 101.617 216.047 Q106.825 216.047 109.834 219.218 Q112.867 222.366 112.867 227.806 Q112.867 233.13 109.719 236.348 Q106.571 239.565 101.339 239.565 Q95.3437 239.565 92.1725 234.982 Q89.0012 230.376 89.0012 221.649 Q89.0012 213.454 92.89 208.593 Q96.7789 203.709 103.33 203.709 Q105.089 203.709 106.871 204.056 Q108.677 204.403 110.621 205.098 Z\" fill=\"#000000\" fill-rule=\"nonzero\" fill-opacity=\"1\" /><path clip-path=\"url(#clip500)\" d=\"M120.922 233.014 L125.807 233.014 L125.807 238.894 L120.922 238.894 L120.922 233.014 Z\" fill=\"#000000\" fill-rule=\"nonzero\" fill-opacity=\"1\" /><path clip-path=\"url(#clip500)\" d=\"M145.992 207.413 Q142.381 207.413 140.552 210.977 Q138.746 214.519 138.746 221.649 Q138.746 228.755 140.552 232.32 Q142.381 235.862 145.992 235.862 Q149.626 235.862 151.431 232.32 Q153.26 228.755 153.26 221.649 Q153.26 214.519 151.431 210.977 Q149.626 207.413 145.992 207.413 M145.992 203.709 Q151.802 203.709 154.857 208.315 Q157.936 212.899 157.936 221.649 Q157.936 230.376 154.857 234.982 Q151.802 239.565 145.992 239.565 Q140.181 239.565 137.103 234.982 Q134.047 230.376 134.047 221.649 Q134.047 212.899 137.103 208.315 Q140.181 203.709 145.992 203.709 Z\" fill=\"#000000\" fill-rule=\"nonzero\" fill-opacity=\"1\" /><path clip-path=\"url(#clip500)\" d=\"M194.325 213.431 L183.746 224.056 L194.325 234.635 L191.57 237.436 L180.945 226.811 L170.32 237.436 L167.589 234.635 L178.144 224.056 L167.589 213.431 L170.32 210.63 L180.945 221.255 L191.57 210.63 L194.325 213.431 Z\" fill=\"#000000\" fill-rule=\"nonzero\" fill-opacity=\"1\" /><path clip-path=\"url(#clip500)\" d=\"M206.686 234.959 L214.325 234.959 L214.325 208.593 L206.014 210.26 L206.014 206.001 L214.278 204.334 L218.954 204.334 L218.954 234.959 L226.593 234.959 L226.593 238.894 L206.686 238.894 L206.686 234.959 Z\" fill=\"#000000\" fill-rule=\"nonzero\" fill-opacity=\"1\" /><path clip-path=\"url(#clip500)\" d=\"M246.037 207.413 Q242.426 207.413 240.598 210.977 Q238.792 214.519 238.792 221.649 Q238.792 228.755 240.598 232.32 Q242.426 235.862 246.037 235.862 Q249.672 235.862 251.477 232.32 Q253.306 228.755 253.306 221.649 Q253.306 214.519 251.477 210.977 Q249.672 207.413 246.037 207.413 M246.037 203.709 Q251.848 203.709 254.903 208.315 Q257.982 212.899 257.982 221.649 Q257.982 230.376 254.903 234.982 Q251.848 239.565 246.037 239.565 Q240.227 239.565 237.149 234.982 Q234.093 230.376 234.093 221.649 Q234.093 212.899 237.149 208.315 Q240.227 203.709 246.037 203.709 Z\" fill=\"#000000\" fill-rule=\"nonzero\" fill-opacity=\"1\" /><path clip-path=\"url(#clip500)\" d=\"M270.677 196.343 Q273.404 196.926 274.928 198.77 Q276.47 200.613 276.47 203.321 Q276.47 207.478 273.611 209.753 Q270.752 212.029 265.486 212.029 Q263.718 212.029 261.837 211.672 Q259.975 211.333 257.982 210.637 L257.982 206.97 Q259.562 207.891 261.442 208.362 Q263.323 208.832 265.373 208.832 Q268.947 208.832 270.809 207.421 Q272.689 206.011 272.689 203.321 Q272.689 200.838 270.94 199.447 Q269.21 198.036 266.107 198.036 L262.834 198.036 L262.834 194.914 L266.257 194.914 Q269.06 194.914 270.545 193.804 Q272.031 192.676 272.031 190.569 Q272.031 188.406 270.489 187.259 Q268.965 186.093 266.107 186.093 Q264.546 186.093 262.759 186.432 Q260.972 186.77 258.828 187.485 L258.828 184.099 Q260.991 183.498 262.872 183.197 Q264.771 182.896 266.445 182.896 Q270.771 182.896 273.291 184.871 Q275.812 186.827 275.812 190.174 Q275.812 192.507 274.476 194.124 Q273.141 195.723 270.677 196.343 Z\" fill=\"#000000\" fill-rule=\"nonzero\" fill-opacity=\"1\" /><polyline clip-path=\"url(#clip502)\" style=\"stroke:#009af9; stroke-linecap:round; stroke-linejoin:round; stroke-width:4; stroke-opacity:1; fill:none\" points=\"664.724,674.697 1071.6,700.654 1282.71,798.308 1802.31,435.212 1531.48,175.304 2123.15,90.5388 2001.68,87.9763 1995.73,310.878 2047.4,525.94 2295.01,660.061 1854.15,859.177 2083.4,1443.84 1571.54,1406.05 1104.3,1445.72 370.214,1367.21 783.474,1210.51 779.323,1157.3 760.017,994.152 664.724,674.697 \"/>\n",
       "<path clip-path=\"url(#clip500)\" d=\"M380.479 198.898 L636.938 198.898 L636.938 95.2176 L380.479 95.2176  Z\" fill=\"#ffffff\" fill-rule=\"evenodd\" fill-opacity=\"1\"/>\n",
       "<polyline clip-path=\"url(#clip500)\" style=\"stroke:#000000; stroke-linecap:round; stroke-linejoin:round; stroke-width:4; stroke-opacity:1; fill:none\" points=\"380.479,198.898 636.938,198.898 636.938,95.2176 380.479,95.2176 380.479,198.898 \"/>\n",
       "<polyline clip-path=\"url(#clip500)\" style=\"stroke:#009af9; stroke-linecap:round; stroke-linejoin:round; stroke-width:4; stroke-opacity:1; fill:none\" points=\"403.149,147.058 539.168,147.058 \"/>\n",
       "<path clip-path=\"url(#clip500)\" d=\"M575.681 166.745 Q573.875 171.375 572.162 172.787 Q570.449 174.199 567.579 174.199 L564.176 174.199 L564.176 170.634 L566.676 170.634 Q568.435 170.634 569.408 169.8 Q570.38 168.967 571.56 165.865 L572.324 163.921 L561.838 138.412 L566.352 138.412 L574.454 158.689 L582.556 138.412 L587.069 138.412 L575.681 166.745 Z\" fill=\"#000000\" fill-rule=\"nonzero\" fill-opacity=\"1\" /><path clip-path=\"url(#clip500)\" d=\"M594.361 160.402 L602 160.402 L602 134.037 L593.69 135.703 L593.69 131.444 L601.954 129.778 L606.63 129.778 L606.63 160.402 L614.268 160.402 L614.268 164.338 L594.361 164.338 L594.361 160.402 Z\" fill=\"#000000\" fill-rule=\"nonzero\" fill-opacity=\"1\" /></svg>\n"
      ],
      "text/html": [
       "<?xml version=\"1.0\" encoding=\"utf-8\"?>\n",
       "<svg xmlns=\"http://www.w3.org/2000/svg\" xmlns:xlink=\"http://www.w3.org/1999/xlink\" width=\"600\" height=\"400\" viewBox=\"0 0 2400 1600\">\n",
       "<defs>\n",
       "  <clipPath id=\"clip550\">\n",
       "    <rect x=\"0\" y=\"0\" width=\"2400\" height=\"1600\"/>\n",
       "  </clipPath>\n",
       "</defs>\n",
       "<path clip-path=\"url(#clip550)\" d=\"M0 1600 L2400 1600 L2400 0 L0 0  Z\" fill=\"#ffffff\" fill-rule=\"evenodd\" fill-opacity=\"1\"/>\n",
       "<defs>\n",
       "  <clipPath id=\"clip551\">\n",
       "    <rect x=\"480\" y=\"0\" width=\"1681\" height=\"1600\"/>\n",
       "  </clipPath>\n",
       "</defs>\n",
       "<path clip-path=\"url(#clip550)\" d=\"M312.47 1486.45 L2352.76 1486.45 L2352.76 47.2441 L312.47 47.2441  Z\" fill=\"#ffffff\" fill-rule=\"evenodd\" fill-opacity=\"1\"/>\n",
       "<defs>\n",
       "  <clipPath id=\"clip552\">\n",
       "    <rect x=\"312\" y=\"47\" width=\"2041\" height=\"1440\"/>\n",
       "  </clipPath>\n",
       "</defs>\n",
       "<polyline clip-path=\"url(#clip552)\" style=\"stroke:#000000; stroke-linecap:round; stroke-linejoin:round; stroke-width:2; stroke-opacity:0.1; fill:none\" points=\"367.915,1486.45 367.915,47.2441 \"/>\n",
       "<polyline clip-path=\"url(#clip552)\" style=\"stroke:#000000; stroke-linecap:round; stroke-linejoin:round; stroke-width:2; stroke-opacity:0.1; fill:none\" points=\"810.924,1486.45 810.924,47.2441 \"/>\n",
       "<polyline clip-path=\"url(#clip552)\" style=\"stroke:#000000; stroke-linecap:round; stroke-linejoin:round; stroke-width:2; stroke-opacity:0.1; fill:none\" points=\"1253.93,1486.45 1253.93,47.2441 \"/>\n",
       "<polyline clip-path=\"url(#clip552)\" style=\"stroke:#000000; stroke-linecap:round; stroke-linejoin:round; stroke-width:2; stroke-opacity:0.1; fill:none\" points=\"1696.94,1486.45 1696.94,47.2441 \"/>\n",
       "<polyline clip-path=\"url(#clip552)\" style=\"stroke:#000000; stroke-linecap:round; stroke-linejoin:round; stroke-width:2; stroke-opacity:0.1; fill:none\" points=\"2139.95,1486.45 2139.95,47.2441 \"/>\n",
       "<polyline clip-path=\"url(#clip550)\" style=\"stroke:#000000; stroke-linecap:round; stroke-linejoin:round; stroke-width:4; stroke-opacity:1; fill:none\" points=\"312.47,1486.45 2352.76,1486.45 \"/>\n",
       "<polyline clip-path=\"url(#clip550)\" style=\"stroke:#000000; stroke-linecap:round; stroke-linejoin:round; stroke-width:4; stroke-opacity:1; fill:none\" points=\"367.915,1486.45 367.915,1467.55 \"/>\n",
       "<polyline clip-path=\"url(#clip550)\" style=\"stroke:#000000; stroke-linecap:round; stroke-linejoin:round; stroke-width:4; stroke-opacity:1; fill:none\" points=\"810.924,1486.45 810.924,1467.55 \"/>\n",
       "<polyline clip-path=\"url(#clip550)\" style=\"stroke:#000000; stroke-linecap:round; stroke-linejoin:round; stroke-width:4; stroke-opacity:1; fill:none\" points=\"1253.93,1486.45 1253.93,1467.55 \"/>\n",
       "<polyline clip-path=\"url(#clip550)\" style=\"stroke:#000000; stroke-linecap:round; stroke-linejoin:round; stroke-width:4; stroke-opacity:1; fill:none\" points=\"1696.94,1486.45 1696.94,1467.55 \"/>\n",
       "<polyline clip-path=\"url(#clip550)\" style=\"stroke:#000000; stroke-linecap:round; stroke-linejoin:round; stroke-width:4; stroke-opacity:1; fill:none\" points=\"2139.95,1486.45 2139.95,1467.55 \"/>\n",
       "<path clip-path=\"url(#clip550)\" d=\"M291.816 1532.02 L321.492 1532.02 L321.492 1535.95 L291.816 1535.95 L291.816 1532.02 Z\" fill=\"#000000\" fill-rule=\"nonzero\" fill-opacity=\"1\" /><path clip-path=\"url(#clip550)\" d=\"M344.431 1518.36 L332.626 1536.81 L344.431 1536.81 L344.431 1518.36 M343.204 1514.29 L349.084 1514.29 L349.084 1536.81 L354.015 1536.81 L354.015 1540.7 L349.084 1540.7 L349.084 1548.85 L344.431 1548.85 L344.431 1540.7 L328.829 1540.7 L328.829 1536.19 L343.204 1514.29 Z\" fill=\"#000000\" fill-rule=\"nonzero\" fill-opacity=\"1\" /><path clip-path=\"url(#clip550)\" d=\"M371.746 1517.37 Q368.135 1517.37 366.306 1520.93 Q364.501 1524.47 364.501 1531.6 Q364.501 1538.71 366.306 1542.27 Q368.135 1545.82 371.746 1545.82 Q375.38 1545.82 377.186 1542.27 Q379.014 1538.71 379.014 1531.6 Q379.014 1524.47 377.186 1520.93 Q375.38 1517.37 371.746 1517.37 M371.746 1513.66 Q377.556 1513.66 380.612 1518.27 Q383.69 1522.85 383.69 1531.6 Q383.69 1540.33 380.612 1544.94 Q377.556 1549.52 371.746 1549.52 Q365.936 1549.52 362.857 1544.94 Q359.802 1540.33 359.802 1531.6 Q359.802 1522.85 362.857 1518.27 Q365.936 1513.66 371.746 1513.66 Z\" fill=\"#000000\" fill-rule=\"nonzero\" fill-opacity=\"1\" /><path clip-path=\"url(#clip550)\" d=\"M401.908 1517.37 Q398.297 1517.37 396.468 1520.93 Q394.662 1524.47 394.662 1531.6 Q394.662 1538.71 396.468 1542.27 Q398.297 1545.82 401.908 1545.82 Q405.542 1545.82 407.348 1542.27 Q409.176 1538.71 409.176 1531.6 Q409.176 1524.47 407.348 1520.93 Q405.542 1517.37 401.908 1517.37 M401.908 1513.66 Q407.718 1513.66 410.773 1518.27 Q413.852 1522.85 413.852 1531.6 Q413.852 1540.33 410.773 1544.94 Q407.718 1549.52 401.908 1549.52 Q396.098 1549.52 393.019 1544.94 Q389.963 1540.33 389.963 1531.6 Q389.963 1522.85 393.019 1518.27 Q396.098 1513.66 401.908 1513.66 Z\" fill=\"#000000\" fill-rule=\"nonzero\" fill-opacity=\"1\" /><path clip-path=\"url(#clip550)\" d=\"M432.07 1517.37 Q428.459 1517.37 426.63 1520.93 Q424.824 1524.47 424.824 1531.6 Q424.824 1538.71 426.63 1542.27 Q428.459 1545.82 432.07 1545.82 Q435.704 1545.82 437.509 1542.27 Q439.338 1538.71 439.338 1531.6 Q439.338 1524.47 437.509 1520.93 Q435.704 1517.37 432.07 1517.37 M432.07 1513.66 Q437.88 1513.66 440.935 1518.27 Q444.014 1522.85 444.014 1531.6 Q444.014 1540.33 440.935 1544.94 Q437.88 1549.52 432.07 1549.52 Q426.259 1549.52 423.181 1544.94 Q420.125 1540.33 420.125 1531.6 Q420.125 1522.85 423.181 1518.27 Q426.259 1513.66 432.07 1513.66 Z\" fill=\"#000000\" fill-rule=\"nonzero\" fill-opacity=\"1\" /><path clip-path=\"url(#clip550)\" d=\"M734.824 1532.02 L764.5 1532.02 L764.5 1535.95 L734.824 1535.95 L734.824 1532.02 Z\" fill=\"#000000\" fill-rule=\"nonzero\" fill-opacity=\"1\" /><path clip-path=\"url(#clip550)\" d=\"M778.62 1544.91 L794.94 1544.91 L794.94 1548.85 L772.995 1548.85 L772.995 1544.91 Q775.658 1542.16 780.241 1537.53 Q784.847 1532.88 786.028 1531.53 Q788.273 1529.01 789.153 1527.27 Q790.056 1525.51 790.056 1523.82 Q790.056 1521.07 788.111 1519.33 Q786.19 1517.6 783.088 1517.6 Q780.889 1517.6 778.435 1518.36 Q776.005 1519.13 773.227 1520.68 L773.227 1515.95 Q776.051 1514.82 778.505 1514.24 Q780.958 1513.66 782.995 1513.66 Q788.366 1513.66 791.56 1516.35 Q794.755 1519.03 794.755 1523.52 Q794.755 1525.65 793.944 1527.57 Q793.157 1529.47 791.051 1532.07 Q790.472 1532.74 787.37 1535.95 Q784.269 1539.15 778.62 1544.91 Z\" fill=\"#000000\" fill-rule=\"nonzero\" fill-opacity=\"1\" /><path clip-path=\"url(#clip550)\" d=\"M814.755 1517.37 Q811.143 1517.37 809.315 1520.93 Q807.509 1524.47 807.509 1531.6 Q807.509 1538.71 809.315 1542.27 Q811.143 1545.82 814.755 1545.82 Q818.389 1545.82 820.194 1542.27 Q822.023 1538.71 822.023 1531.6 Q822.023 1524.47 820.194 1520.93 Q818.389 1517.37 814.755 1517.37 M814.755 1513.66 Q820.565 1513.66 823.62 1518.27 Q826.699 1522.85 826.699 1531.6 Q826.699 1540.33 823.62 1544.94 Q820.565 1549.52 814.755 1549.52 Q808.944 1549.52 805.866 1544.94 Q802.81 1540.33 802.81 1531.6 Q802.81 1522.85 805.866 1518.27 Q808.944 1513.66 814.755 1513.66 Z\" fill=\"#000000\" fill-rule=\"nonzero\" fill-opacity=\"1\" /><path clip-path=\"url(#clip550)\" d=\"M844.916 1517.37 Q841.305 1517.37 839.477 1520.93 Q837.671 1524.47 837.671 1531.6 Q837.671 1538.71 839.477 1542.27 Q841.305 1545.82 844.916 1545.82 Q848.551 1545.82 850.356 1542.27 Q852.185 1538.71 852.185 1531.6 Q852.185 1524.47 850.356 1520.93 Q848.551 1517.37 844.916 1517.37 M844.916 1513.66 Q850.727 1513.66 853.782 1518.27 Q856.861 1522.85 856.861 1531.6 Q856.861 1540.33 853.782 1544.94 Q850.727 1549.52 844.916 1549.52 Q839.106 1549.52 836.028 1544.94 Q832.972 1540.33 832.972 1531.6 Q832.972 1522.85 836.028 1518.27 Q839.106 1513.66 844.916 1513.66 Z\" fill=\"#000000\" fill-rule=\"nonzero\" fill-opacity=\"1\" /><path clip-path=\"url(#clip550)\" d=\"M875.078 1517.37 Q871.467 1517.37 869.638 1520.93 Q867.833 1524.47 867.833 1531.6 Q867.833 1538.71 869.638 1542.27 Q871.467 1545.82 875.078 1545.82 Q878.713 1545.82 880.518 1542.27 Q882.347 1538.71 882.347 1531.6 Q882.347 1524.47 880.518 1520.93 Q878.713 1517.37 875.078 1517.37 M875.078 1513.66 Q880.888 1513.66 883.944 1518.27 Q887.023 1522.85 887.023 1531.6 Q887.023 1540.33 883.944 1544.94 Q880.888 1549.52 875.078 1549.52 Q869.268 1549.52 866.189 1544.94 Q863.134 1540.33 863.134 1531.6 Q863.134 1522.85 866.189 1518.27 Q869.268 1513.66 875.078 1513.66 Z\" fill=\"#000000\" fill-rule=\"nonzero\" fill-opacity=\"1\" /><path clip-path=\"url(#clip550)\" d=\"M1253.93 1517.37 Q1250.32 1517.37 1248.49 1520.93 Q1246.69 1524.47 1246.69 1531.6 Q1246.69 1538.71 1248.49 1542.27 Q1250.32 1545.82 1253.93 1545.82 Q1257.57 1545.82 1259.37 1542.27 Q1261.2 1538.71 1261.2 1531.6 Q1261.2 1524.47 1259.37 1520.93 Q1257.57 1517.37 1253.93 1517.37 M1253.93 1513.66 Q1259.74 1513.66 1262.8 1518.27 Q1265.88 1522.85 1265.88 1531.6 Q1265.88 1540.33 1262.8 1544.94 Q1259.74 1549.52 1253.93 1549.52 Q1248.12 1549.52 1245.04 1544.94 Q1241.99 1540.33 1241.99 1531.6 Q1241.99 1522.85 1245.04 1518.27 Q1248.12 1513.66 1253.93 1513.66 Z\" fill=\"#000000\" fill-rule=\"nonzero\" fill-opacity=\"1\" /><path clip-path=\"url(#clip550)\" d=\"M1645.55 1544.91 L1661.87 1544.91 L1661.87 1548.85 L1639.93 1548.85 L1639.93 1544.91 Q1642.59 1542.16 1647.17 1537.53 Q1651.78 1532.88 1652.96 1531.53 Q1655.2 1529.01 1656.08 1527.27 Q1656.99 1525.51 1656.99 1523.82 Q1656.99 1521.07 1655.04 1519.33 Q1653.12 1517.6 1650.02 1517.6 Q1647.82 1517.6 1645.37 1518.36 Q1642.94 1519.13 1640.16 1520.68 L1640.16 1515.95 Q1642.98 1514.82 1645.44 1514.24 Q1647.89 1513.66 1649.93 1513.66 Q1655.3 1513.66 1658.49 1516.35 Q1661.69 1519.03 1661.69 1523.52 Q1661.69 1525.65 1660.88 1527.57 Q1660.09 1529.47 1657.98 1532.07 Q1657.4 1532.74 1654.3 1535.95 Q1651.2 1539.15 1645.55 1544.91 Z\" fill=\"#000000\" fill-rule=\"nonzero\" fill-opacity=\"1\" /><path clip-path=\"url(#clip550)\" d=\"M1681.69 1517.37 Q1678.08 1517.37 1676.25 1520.93 Q1674.44 1524.47 1674.44 1531.6 Q1674.44 1538.71 1676.25 1542.27 Q1678.08 1545.82 1681.69 1545.82 Q1685.32 1545.82 1687.13 1542.27 Q1688.95 1538.71 1688.95 1531.6 Q1688.95 1524.47 1687.13 1520.93 Q1685.32 1517.37 1681.69 1517.37 M1681.69 1513.66 Q1687.5 1513.66 1690.55 1518.27 Q1693.63 1522.85 1693.63 1531.6 Q1693.63 1540.33 1690.55 1544.94 Q1687.5 1549.52 1681.69 1549.52 Q1675.88 1549.52 1672.8 1544.94 Q1669.74 1540.33 1669.74 1531.6 Q1669.74 1522.85 1672.8 1518.27 Q1675.88 1513.66 1681.69 1513.66 Z\" fill=\"#000000\" fill-rule=\"nonzero\" fill-opacity=\"1\" /><path clip-path=\"url(#clip550)\" d=\"M1711.85 1517.37 Q1708.24 1517.37 1706.41 1520.93 Q1704.6 1524.47 1704.6 1531.6 Q1704.6 1538.71 1706.41 1542.27 Q1708.24 1545.82 1711.85 1545.82 Q1715.48 1545.82 1717.29 1542.27 Q1719.12 1538.71 1719.12 1531.6 Q1719.12 1524.47 1717.29 1520.93 Q1715.48 1517.37 1711.85 1517.37 M1711.85 1513.66 Q1717.66 1513.66 1720.71 1518.27 Q1723.79 1522.85 1723.79 1531.6 Q1723.79 1540.33 1720.71 1544.94 Q1717.66 1549.52 1711.85 1549.52 Q1706.04 1549.52 1702.96 1544.94 Q1699.9 1540.33 1699.9 1531.6 Q1699.9 1522.85 1702.96 1518.27 Q1706.04 1513.66 1711.85 1513.66 Z\" fill=\"#000000\" fill-rule=\"nonzero\" fill-opacity=\"1\" /><path clip-path=\"url(#clip550)\" d=\"M1742.01 1517.37 Q1738.4 1517.37 1736.57 1520.93 Q1734.76 1524.47 1734.76 1531.6 Q1734.76 1538.71 1736.57 1542.27 Q1738.4 1545.82 1742.01 1545.82 Q1745.64 1545.82 1747.45 1542.27 Q1749.28 1538.71 1749.28 1531.6 Q1749.28 1524.47 1747.45 1520.93 Q1745.64 1517.37 1742.01 1517.37 M1742.01 1513.66 Q1747.82 1513.66 1750.88 1518.27 Q1753.95 1522.85 1753.95 1531.6 Q1753.95 1540.33 1750.88 1544.94 Q1747.82 1549.52 1742.01 1549.52 Q1736.2 1549.52 1733.12 1544.94 Q1730.07 1540.33 1730.07 1531.6 Q1730.07 1522.85 1733.12 1518.27 Q1736.2 1513.66 1742.01 1513.66 Z\" fill=\"#000000\" fill-rule=\"nonzero\" fill-opacity=\"1\" /><path clip-path=\"url(#clip550)\" d=\"M2097.96 1518.36 L2086.15 1536.81 L2097.96 1536.81 L2097.96 1518.36 M2096.73 1514.29 L2102.61 1514.29 L2102.61 1536.81 L2107.54 1536.81 L2107.54 1540.7 L2102.61 1540.7 L2102.61 1548.85 L2097.96 1548.85 L2097.96 1540.7 L2082.36 1540.7 L2082.36 1536.19 L2096.73 1514.29 Z\" fill=\"#000000\" fill-rule=\"nonzero\" fill-opacity=\"1\" /><path clip-path=\"url(#clip550)\" d=\"M2125.27 1517.37 Q2121.66 1517.37 2119.83 1520.93 Q2118.03 1524.47 2118.03 1531.6 Q2118.03 1538.71 2119.83 1542.27 Q2121.66 1545.82 2125.27 1545.82 Q2128.91 1545.82 2130.71 1542.27 Q2132.54 1538.71 2132.54 1531.6 Q2132.54 1524.47 2130.71 1520.93 Q2128.91 1517.37 2125.27 1517.37 M2125.27 1513.66 Q2131.08 1513.66 2134.14 1518.27 Q2137.22 1522.85 2137.22 1531.6 Q2137.22 1540.33 2134.14 1544.94 Q2131.08 1549.52 2125.27 1549.52 Q2119.46 1549.52 2116.38 1544.94 Q2113.33 1540.33 2113.33 1531.6 Q2113.33 1522.85 2116.38 1518.27 Q2119.46 1513.66 2125.27 1513.66 Z\" fill=\"#000000\" fill-rule=\"nonzero\" fill-opacity=\"1\" /><path clip-path=\"url(#clip550)\" d=\"M2155.44 1517.37 Q2151.82 1517.37 2150 1520.93 Q2148.19 1524.47 2148.19 1531.6 Q2148.19 1538.71 2150 1542.27 Q2151.82 1545.82 2155.44 1545.82 Q2159.07 1545.82 2160.88 1542.27 Q2162.7 1538.71 2162.7 1531.6 Q2162.7 1524.47 2160.88 1520.93 Q2159.07 1517.37 2155.44 1517.37 M2155.44 1513.66 Q2161.25 1513.66 2164.3 1518.27 Q2167.38 1522.85 2167.38 1531.6 Q2167.38 1540.33 2164.3 1544.94 Q2161.25 1549.52 2155.44 1549.52 Q2149.63 1549.52 2146.55 1544.94 Q2143.49 1540.33 2143.49 1531.6 Q2143.49 1522.85 2146.55 1518.27 Q2149.63 1513.66 2155.44 1513.66 Z\" fill=\"#000000\" fill-rule=\"nonzero\" fill-opacity=\"1\" /><path clip-path=\"url(#clip550)\" d=\"M2185.6 1517.37 Q2181.99 1517.37 2180.16 1520.93 Q2178.35 1524.47 2178.35 1531.6 Q2178.35 1538.71 2180.16 1542.27 Q2181.99 1545.82 2185.6 1545.82 Q2189.23 1545.82 2191.04 1542.27 Q2192.87 1538.71 2192.87 1531.6 Q2192.87 1524.47 2191.04 1520.93 Q2189.23 1517.37 2185.6 1517.37 M2185.6 1513.66 Q2191.41 1513.66 2194.46 1518.27 Q2197.54 1522.85 2197.54 1531.6 Q2197.54 1540.33 2194.46 1544.94 Q2191.41 1549.52 2185.6 1549.52 Q2179.79 1549.52 2176.71 1544.94 Q2173.65 1540.33 2173.65 1531.6 Q2173.65 1522.85 2176.71 1518.27 Q2179.79 1513.66 2185.6 1513.66 Z\" fill=\"#000000\" fill-rule=\"nonzero\" fill-opacity=\"1\" /><polyline clip-path=\"url(#clip552)\" style=\"stroke:#000000; stroke-linecap:round; stroke-linejoin:round; stroke-width:2; stroke-opacity:0.1; fill:none\" points=\"312.47,1392.61 2352.76,1392.61 \"/>\n",
       "<polyline clip-path=\"url(#clip552)\" style=\"stroke:#000000; stroke-linecap:round; stroke-linejoin:round; stroke-width:2; stroke-opacity:0.1; fill:none\" points=\"312.47,1224.41 2352.76,1224.41 \"/>\n",
       "<polyline clip-path=\"url(#clip552)\" style=\"stroke:#000000; stroke-linecap:round; stroke-linejoin:round; stroke-width:2; stroke-opacity:0.1; fill:none\" points=\"312.47,1056.2 2352.76,1056.2 \"/>\n",
       "<polyline clip-path=\"url(#clip552)\" style=\"stroke:#000000; stroke-linecap:round; stroke-linejoin:round; stroke-width:2; stroke-opacity:0.1; fill:none\" points=\"312.47,887.993 2352.76,887.993 \"/>\n",
       "<polyline clip-path=\"url(#clip552)\" style=\"stroke:#000000; stroke-linecap:round; stroke-linejoin:round; stroke-width:2; stroke-opacity:0.1; fill:none\" points=\"312.47,719.787 2352.76,719.787 \"/>\n",
       "<polyline clip-path=\"url(#clip552)\" style=\"stroke:#000000; stroke-linecap:round; stroke-linejoin:round; stroke-width:2; stroke-opacity:0.1; fill:none\" points=\"312.47,551.58 2352.76,551.58 \"/>\n",
       "<polyline clip-path=\"url(#clip552)\" style=\"stroke:#000000; stroke-linecap:round; stroke-linejoin:round; stroke-width:2; stroke-opacity:0.1; fill:none\" points=\"312.47,383.373 2352.76,383.373 \"/>\n",
       "<polyline clip-path=\"url(#clip552)\" style=\"stroke:#000000; stroke-linecap:round; stroke-linejoin:round; stroke-width:2; stroke-opacity:0.1; fill:none\" points=\"312.47,215.166 2352.76,215.166 \"/>\n",
       "<polyline clip-path=\"url(#clip550)\" style=\"stroke:#000000; stroke-linecap:round; stroke-linejoin:round; stroke-width:4; stroke-opacity:1; fill:none\" points=\"312.47,1486.45 312.47,47.2441 \"/>\n",
       "<polyline clip-path=\"url(#clip550)\" style=\"stroke:#000000; stroke-linecap:round; stroke-linejoin:round; stroke-width:4; stroke-opacity:1; fill:none\" points=\"312.47,1392.61 331.367,1392.61 \"/>\n",
       "<polyline clip-path=\"url(#clip550)\" style=\"stroke:#000000; stroke-linecap:round; stroke-linejoin:round; stroke-width:4; stroke-opacity:1; fill:none\" points=\"312.47,1224.41 331.367,1224.41 \"/>\n",
       "<polyline clip-path=\"url(#clip550)\" style=\"stroke:#000000; stroke-linecap:round; stroke-linejoin:round; stroke-width:4; stroke-opacity:1; fill:none\" points=\"312.47,1056.2 331.367,1056.2 \"/>\n",
       "<polyline clip-path=\"url(#clip550)\" style=\"stroke:#000000; stroke-linecap:round; stroke-linejoin:round; stroke-width:4; stroke-opacity:1; fill:none\" points=\"312.47,887.993 331.367,887.993 \"/>\n",
       "<polyline clip-path=\"url(#clip550)\" style=\"stroke:#000000; stroke-linecap:round; stroke-linejoin:round; stroke-width:4; stroke-opacity:1; fill:none\" points=\"312.47,719.787 331.367,719.787 \"/>\n",
       "<polyline clip-path=\"url(#clip550)\" style=\"stroke:#000000; stroke-linecap:round; stroke-linejoin:round; stroke-width:4; stroke-opacity:1; fill:none\" points=\"312.47,551.58 331.367,551.58 \"/>\n",
       "<polyline clip-path=\"url(#clip550)\" style=\"stroke:#000000; stroke-linecap:round; stroke-linejoin:round; stroke-width:4; stroke-opacity:1; fill:none\" points=\"312.47,383.373 331.367,383.373 \"/>\n",
       "<polyline clip-path=\"url(#clip550)\" style=\"stroke:#000000; stroke-linecap:round; stroke-linejoin:round; stroke-width:4; stroke-opacity:1; fill:none\" points=\"312.47,215.166 331.367,215.166 \"/>\n",
       "<path clip-path=\"url(#clip550)\" d=\"M50.9921 1399.51 L80.6679 1399.51 L80.6679 1403.45 L50.9921 1403.45 L50.9921 1399.51 Z\" fill=\"#000000\" fill-rule=\"nonzero\" fill-opacity=\"1\" /><path clip-path=\"url(#clip550)\" d=\"M100.76 1399.93 Q97.4271 1399.93 95.5058 1401.71 Q93.6076 1403.49 93.6076 1406.62 Q93.6076 1409.74 95.5058 1411.53 Q97.4271 1413.31 100.76 1413.31 Q104.094 1413.31 106.015 1411.53 Q107.936 1409.72 107.936 1406.62 Q107.936 1403.49 106.015 1401.71 Q104.117 1399.93 100.76 1399.93 M96.0845 1397.94 Q93.0752 1397.2 91.3854 1395.14 Q89.7188 1393.08 89.7188 1390.11 Q89.7188 1385.97 92.6586 1383.56 Q95.6215 1381.16 100.76 1381.16 Q105.922 1381.16 108.862 1383.56 Q111.802 1385.97 111.802 1390.11 Q111.802 1393.08 110.112 1395.14 Q108.446 1397.2 105.459 1397.94 Q108.839 1398.73 110.714 1401.02 Q112.612 1403.31 112.612 1406.62 Q112.612 1411.64 109.533 1414.33 Q106.478 1417.01 100.76 1417.01 Q95.0428 1417.01 91.9641 1414.33 Q88.9086 1411.64 88.9086 1406.62 Q88.9086 1403.31 90.8067 1401.02 Q92.7049 1398.73 96.0845 1397.94 M94.3715 1390.55 Q94.3715 1393.24 96.0382 1394.74 Q97.728 1396.25 100.76 1396.25 Q103.77 1396.25 105.459 1394.74 Q107.172 1393.24 107.172 1390.55 Q107.172 1387.87 105.459 1386.36 Q103.77 1384.86 100.76 1384.86 Q97.728 1384.86 96.0382 1386.36 Q94.3715 1387.87 94.3715 1390.55 Z\" fill=\"#000000\" fill-rule=\"nonzero\" fill-opacity=\"1\" /><path clip-path=\"url(#clip550)\" d=\"M120.922 1410.46 L125.807 1410.46 L125.807 1416.34 L120.922 1416.34 L120.922 1410.46 Z\" fill=\"#000000\" fill-rule=\"nonzero\" fill-opacity=\"1\" /><path clip-path=\"url(#clip550)\" d=\"M145.992 1384.86 Q142.381 1384.86 140.552 1388.42 Q138.746 1391.97 138.746 1399.1 Q138.746 1406.2 140.552 1409.77 Q142.381 1413.31 145.992 1413.31 Q149.626 1413.31 151.431 1409.77 Q153.26 1406.2 153.26 1399.1 Q153.26 1391.97 151.431 1388.42 Q149.626 1384.86 145.992 1384.86 M145.992 1381.16 Q151.802 1381.16 154.857 1385.76 Q157.936 1390.35 157.936 1399.1 Q157.936 1407.82 154.857 1412.43 Q151.802 1417.01 145.992 1417.01 Q140.181 1417.01 137.103 1412.43 Q134.047 1407.82 134.047 1399.1 Q134.047 1390.35 137.103 1385.76 Q140.181 1381.16 145.992 1381.16 Z\" fill=\"#000000\" fill-rule=\"nonzero\" fill-opacity=\"1\" /><path clip-path=\"url(#clip550)\" d=\"M194.325 1390.88 L183.746 1401.5 L194.325 1412.08 L191.57 1414.88 L180.945 1404.26 L170.32 1414.88 L167.589 1412.08 L178.144 1401.5 L167.589 1390.88 L170.32 1388.08 L180.945 1398.7 L191.57 1388.08 L194.325 1390.88 Z\" fill=\"#000000\" fill-rule=\"nonzero\" fill-opacity=\"1\" /><path clip-path=\"url(#clip550)\" d=\"M206.686 1412.41 L214.325 1412.41 L214.325 1386.04 L206.014 1387.71 L206.014 1383.45 L214.278 1381.78 L218.954 1381.78 L218.954 1412.41 L226.593 1412.41 L226.593 1416.34 L206.686 1416.34 L206.686 1412.41 Z\" fill=\"#000000\" fill-rule=\"nonzero\" fill-opacity=\"1\" /><path clip-path=\"url(#clip550)\" d=\"M246.037 1384.86 Q242.426 1384.86 240.598 1388.42 Q238.792 1391.97 238.792 1399.1 Q238.792 1406.2 240.598 1409.77 Q242.426 1413.31 246.037 1413.31 Q249.672 1413.31 251.477 1409.77 Q253.306 1406.2 253.306 1399.1 Q253.306 1391.97 251.477 1388.42 Q249.672 1384.86 246.037 1384.86 M246.037 1381.16 Q251.848 1381.16 254.903 1385.76 Q257.982 1390.35 257.982 1399.1 Q257.982 1407.82 254.903 1412.43 Q251.848 1417.01 246.037 1417.01 Q240.227 1417.01 237.149 1412.43 Q234.093 1407.82 234.093 1399.1 Q234.093 1390.35 237.149 1385.76 Q240.227 1381.16 246.037 1381.16 Z\" fill=\"#000000\" fill-rule=\"nonzero\" fill-opacity=\"1\" /><path clip-path=\"url(#clip550)\" d=\"M270.677 1373.79 Q273.404 1374.37 274.928 1376.22 Q276.47 1378.06 276.47 1380.77 Q276.47 1384.92 273.611 1387.2 Q270.752 1389.48 265.486 1389.48 Q263.718 1389.48 261.837 1389.12 Q259.975 1388.78 257.982 1388.08 L257.982 1384.42 Q259.562 1385.34 261.442 1385.81 Q263.323 1386.28 265.373 1386.28 Q268.947 1386.28 270.809 1384.87 Q272.689 1383.46 272.689 1380.77 Q272.689 1378.29 270.94 1376.89 Q269.21 1375.48 266.107 1375.48 L262.834 1375.48 L262.834 1372.36 L266.257 1372.36 Q269.06 1372.36 270.545 1371.25 Q272.031 1370.12 272.031 1368.02 Q272.031 1365.85 270.489 1364.71 Q268.965 1363.54 266.107 1363.54 Q264.546 1363.54 262.759 1363.88 Q260.972 1364.22 258.828 1364.93 L258.828 1361.55 Q260.991 1360.95 262.872 1360.64 Q264.771 1360.34 266.445 1360.34 Q270.771 1360.34 273.291 1362.32 Q275.812 1364.27 275.812 1367.62 Q275.812 1369.95 274.476 1371.57 Q273.141 1373.17 270.677 1373.79 Z\" fill=\"#000000\" fill-rule=\"nonzero\" fill-opacity=\"1\" /><path clip-path=\"url(#clip550)\" d=\"M50.9921 1231.31 L80.6679 1231.31 L80.6679 1235.24 L50.9921 1235.24 L50.9921 1231.31 Z\" fill=\"#000000\" fill-rule=\"nonzero\" fill-opacity=\"1\" /><path clip-path=\"url(#clip550)\" d=\"M101.339 1228.99 Q98.1909 1228.99 96.3391 1231.14 Q94.5104 1233.3 94.5104 1237.05 Q94.5104 1240.77 96.3391 1242.95 Q98.1909 1245.1 101.339 1245.1 Q104.487 1245.1 106.316 1242.95 Q108.168 1240.77 108.168 1237.05 Q108.168 1233.3 106.316 1231.14 Q104.487 1228.99 101.339 1228.99 M110.621 1214.34 L110.621 1218.6 Q108.862 1217.76 107.057 1217.32 Q105.274 1216.88 103.515 1216.88 Q98.8854 1216.88 96.4317 1220.01 Q94.0012 1223.13 93.6539 1229.45 Q95.0197 1227.44 97.0798 1226.38 Q99.14 1225.29 101.617 1225.29 Q106.825 1225.29 109.834 1228.46 Q112.867 1231.61 112.867 1237.05 Q112.867 1242.37 109.719 1245.59 Q106.571 1248.81 101.339 1248.81 Q95.3437 1248.81 92.1725 1244.22 Q89.0012 1239.62 89.0012 1230.89 Q89.0012 1222.69 92.89 1217.83 Q96.7789 1212.95 103.33 1212.95 Q105.089 1212.95 106.871 1213.3 Q108.677 1213.64 110.621 1214.34 Z\" fill=\"#000000\" fill-rule=\"nonzero\" fill-opacity=\"1\" /><path clip-path=\"url(#clip550)\" d=\"M120.922 1242.26 L125.807 1242.26 L125.807 1248.13 L120.922 1248.13 L120.922 1242.26 Z\" fill=\"#000000\" fill-rule=\"nonzero\" fill-opacity=\"1\" /><path clip-path=\"url(#clip550)\" d=\"M145.992 1216.65 Q142.381 1216.65 140.552 1220.22 Q138.746 1223.76 138.746 1230.89 Q138.746 1238 140.552 1241.56 Q142.381 1245.1 145.992 1245.1 Q149.626 1245.1 151.431 1241.56 Q153.26 1238 153.26 1230.89 Q153.26 1223.76 151.431 1220.22 Q149.626 1216.65 145.992 1216.65 M145.992 1212.95 Q151.802 1212.95 154.857 1217.56 Q157.936 1222.14 157.936 1230.89 Q157.936 1239.62 154.857 1244.22 Q151.802 1248.81 145.992 1248.81 Q140.181 1248.81 137.103 1244.22 Q134.047 1239.62 134.047 1230.89 Q134.047 1222.14 137.103 1217.56 Q140.181 1212.95 145.992 1212.95 Z\" fill=\"#000000\" fill-rule=\"nonzero\" fill-opacity=\"1\" /><path clip-path=\"url(#clip550)\" d=\"M194.325 1222.67 L183.746 1233.3 L194.325 1243.88 L191.57 1246.68 L180.945 1236.05 L170.32 1246.68 L167.589 1243.88 L178.144 1233.3 L167.589 1222.67 L170.32 1219.87 L180.945 1230.5 L191.57 1219.87 L194.325 1222.67 Z\" fill=\"#000000\" fill-rule=\"nonzero\" fill-opacity=\"1\" /><path clip-path=\"url(#clip550)\" d=\"M206.686 1244.2 L214.325 1244.2 L214.325 1217.83 L206.014 1219.5 L206.014 1215.24 L214.278 1213.57 L218.954 1213.57 L218.954 1244.2 L226.593 1244.2 L226.593 1248.13 L206.686 1248.13 L206.686 1244.2 Z\" fill=\"#000000\" fill-rule=\"nonzero\" fill-opacity=\"1\" /><path clip-path=\"url(#clip550)\" d=\"M246.037 1216.65 Q242.426 1216.65 240.598 1220.22 Q238.792 1223.76 238.792 1230.89 Q238.792 1238 240.598 1241.56 Q242.426 1245.1 246.037 1245.1 Q249.672 1245.1 251.477 1241.56 Q253.306 1238 253.306 1230.89 Q253.306 1223.76 251.477 1220.22 Q249.672 1216.65 246.037 1216.65 M246.037 1212.95 Q251.848 1212.95 254.903 1217.56 Q257.982 1222.14 257.982 1230.89 Q257.982 1239.62 254.903 1244.22 Q251.848 1248.81 246.037 1248.81 Q240.227 1248.81 237.149 1244.22 Q234.093 1239.62 234.093 1230.89 Q234.093 1222.14 237.149 1217.56 Q240.227 1212.95 246.037 1212.95 Z\" fill=\"#000000\" fill-rule=\"nonzero\" fill-opacity=\"1\" /><path clip-path=\"url(#clip550)\" d=\"M270.677 1205.58 Q273.404 1206.17 274.928 1208.01 Q276.47 1209.85 276.47 1212.56 Q276.47 1216.72 273.611 1218.99 Q270.752 1221.27 265.486 1221.27 Q263.718 1221.27 261.837 1220.91 Q259.975 1220.57 257.982 1219.88 L257.982 1216.21 Q259.562 1217.13 261.442 1217.6 Q263.323 1218.07 265.373 1218.07 Q268.947 1218.07 270.809 1216.66 Q272.689 1215.25 272.689 1212.56 Q272.689 1210.08 270.94 1208.69 Q269.21 1207.28 266.107 1207.28 L262.834 1207.28 L262.834 1204.15 L266.257 1204.15 Q269.06 1204.15 270.545 1203.04 Q272.031 1201.92 272.031 1199.81 Q272.031 1197.65 270.489 1196.5 Q268.965 1195.33 266.107 1195.33 Q264.546 1195.33 262.759 1195.67 Q260.972 1196.01 258.828 1196.73 L258.828 1193.34 Q260.991 1192.74 262.872 1192.44 Q264.771 1192.14 266.445 1192.14 Q270.771 1192.14 273.291 1194.11 Q275.812 1196.07 275.812 1199.42 Q275.812 1201.75 274.476 1203.36 Q273.141 1204.96 270.677 1205.58 Z\" fill=\"#000000\" fill-rule=\"nonzero\" fill-opacity=\"1\" /><path clip-path=\"url(#clip550)\" d=\"M50.9921 1063.1 L80.6679 1063.1 L80.6679 1067.03 L50.9921 1067.03 L50.9921 1063.1 Z\" fill=\"#000000\" fill-rule=\"nonzero\" fill-opacity=\"1\" /><path clip-path=\"url(#clip550)\" d=\"M103.608 1049.44 L91.8021 1067.89 L103.608 1067.89 L103.608 1049.44 M102.381 1045.37 L108.26 1045.37 L108.26 1067.89 L113.191 1067.89 L113.191 1071.78 L108.26 1071.78 L108.26 1079.93 L103.608 1079.93 L103.608 1071.78 L88.0058 1071.78 L88.0058 1067.27 L102.381 1045.37 Z\" fill=\"#000000\" fill-rule=\"nonzero\" fill-opacity=\"1\" /><path clip-path=\"url(#clip550)\" d=\"M120.922 1074.05 L125.807 1074.05 L125.807 1079.93 L120.922 1079.93 L120.922 1074.05 Z\" fill=\"#000000\" fill-rule=\"nonzero\" fill-opacity=\"1\" /><path clip-path=\"url(#clip550)\" d=\"M145.992 1048.45 Q142.381 1048.45 140.552 1052.01 Q138.746 1055.55 138.746 1062.68 Q138.746 1069.79 140.552 1073.35 Q142.381 1076.9 145.992 1076.9 Q149.626 1076.9 151.431 1073.35 Q153.26 1069.79 153.26 1062.68 Q153.26 1055.55 151.431 1052.01 Q149.626 1048.45 145.992 1048.45 M145.992 1044.74 Q151.802 1044.74 154.857 1049.35 Q157.936 1053.93 157.936 1062.68 Q157.936 1071.41 154.857 1076.02 Q151.802 1080.6 145.992 1080.6 Q140.181 1080.6 137.103 1076.02 Q134.047 1071.41 134.047 1062.68 Q134.047 1053.93 137.103 1049.35 Q140.181 1044.74 145.992 1044.74 Z\" fill=\"#000000\" fill-rule=\"nonzero\" fill-opacity=\"1\" /><path clip-path=\"url(#clip550)\" d=\"M194.325 1054.47 L183.746 1065.09 L194.325 1075.67 L191.57 1078.47 L180.945 1067.84 L170.32 1078.47 L167.589 1075.67 L178.144 1065.09 L167.589 1054.47 L170.32 1051.66 L180.945 1062.29 L191.57 1051.66 L194.325 1054.47 Z\" fill=\"#000000\" fill-rule=\"nonzero\" fill-opacity=\"1\" /><path clip-path=\"url(#clip550)\" d=\"M206.686 1075.99 L214.325 1075.99 L214.325 1049.63 L206.014 1051.29 L206.014 1047.03 L214.278 1045.37 L218.954 1045.37 L218.954 1075.99 L226.593 1075.99 L226.593 1079.93 L206.686 1079.93 L206.686 1075.99 Z\" fill=\"#000000\" fill-rule=\"nonzero\" fill-opacity=\"1\" /><path clip-path=\"url(#clip550)\" d=\"M246.037 1048.45 Q242.426 1048.45 240.598 1052.01 Q238.792 1055.55 238.792 1062.68 Q238.792 1069.79 240.598 1073.35 Q242.426 1076.9 246.037 1076.9 Q249.672 1076.9 251.477 1073.35 Q253.306 1069.79 253.306 1062.68 Q253.306 1055.55 251.477 1052.01 Q249.672 1048.45 246.037 1048.45 M246.037 1044.74 Q251.848 1044.74 254.903 1049.35 Q257.982 1053.93 257.982 1062.68 Q257.982 1071.41 254.903 1076.02 Q251.848 1080.6 246.037 1080.6 Q240.227 1080.6 237.149 1076.02 Q234.093 1071.41 234.093 1062.68 Q234.093 1053.93 237.149 1049.35 Q240.227 1044.74 246.037 1044.74 Z\" fill=\"#000000\" fill-rule=\"nonzero\" fill-opacity=\"1\" /><path clip-path=\"url(#clip550)\" d=\"M270.677 1037.38 Q273.404 1037.96 274.928 1039.8 Q276.47 1041.65 276.47 1044.35 Q276.47 1048.51 273.611 1050.79 Q270.752 1053.06 265.486 1053.06 Q263.718 1053.06 261.837 1052.71 Q259.975 1052.37 257.982 1051.67 L257.982 1048 Q259.562 1048.93 261.442 1049.4 Q263.323 1049.87 265.373 1049.87 Q268.947 1049.87 270.809 1048.45 Q272.689 1047.04 272.689 1044.35 Q272.689 1041.87 270.94 1040.48 Q269.21 1039.07 266.107 1039.07 L262.834 1039.07 L262.834 1035.95 L266.257 1035.95 Q269.06 1035.95 270.545 1034.84 Q272.031 1033.71 272.031 1031.6 Q272.031 1029.44 270.489 1028.29 Q268.965 1027.13 266.107 1027.13 Q264.546 1027.13 262.759 1027.47 Q260.972 1027.8 258.828 1028.52 L258.828 1025.13 Q260.991 1024.53 262.872 1024.23 Q264.771 1023.93 266.445 1023.93 Q270.771 1023.93 273.291 1025.9 Q275.812 1027.86 275.812 1031.21 Q275.812 1033.54 274.476 1035.16 Q273.141 1036.76 270.677 1037.38 Z\" fill=\"#000000\" fill-rule=\"nonzero\" fill-opacity=\"1\" /><path clip-path=\"url(#clip550)\" d=\"M50.9921 894.892 L80.6679 894.892 L80.6679 898.828 L50.9921 898.828 L50.9921 894.892 Z\" fill=\"#000000\" fill-rule=\"nonzero\" fill-opacity=\"1\" /><path clip-path=\"url(#clip550)\" d=\"M94.7882 907.786 L111.108 907.786 L111.108 911.721 L89.1632 911.721 L89.1632 907.786 Q91.8252 905.031 96.4085 900.402 Q101.015 895.749 102.196 894.406 Q104.441 891.883 105.321 890.147 Q106.223 888.388 106.223 886.698 Q106.223 883.943 104.279 882.207 Q102.358 880.471 99.2558 880.471 Q97.0567 880.471 94.603 881.235 Q92.1725 881.999 89.3947 883.55 L89.3947 878.828 Q92.2188 877.693 94.6724 877.115 Q97.1261 876.536 99.1632 876.536 Q104.534 876.536 107.728 879.221 Q110.922 881.906 110.922 886.397 Q110.922 888.527 110.112 890.448 Q109.325 892.346 107.219 894.939 Q106.64 895.61 103.538 898.828 Q100.436 902.022 94.7882 907.786 Z\" fill=\"#000000\" fill-rule=\"nonzero\" fill-opacity=\"1\" /><path clip-path=\"url(#clip550)\" d=\"M120.922 905.841 L125.807 905.841 L125.807 911.721 L120.922 911.721 L120.922 905.841 Z\" fill=\"#000000\" fill-rule=\"nonzero\" fill-opacity=\"1\" /><path clip-path=\"url(#clip550)\" d=\"M145.992 880.24 Q142.381 880.24 140.552 883.805 Q138.746 887.346 138.746 894.476 Q138.746 901.582 140.552 905.147 Q142.381 908.689 145.992 908.689 Q149.626 908.689 151.431 905.147 Q153.26 901.582 153.26 894.476 Q153.26 887.346 151.431 883.805 Q149.626 880.24 145.992 880.24 M145.992 876.536 Q151.802 876.536 154.857 881.143 Q157.936 885.726 157.936 894.476 Q157.936 903.203 154.857 907.809 Q151.802 912.392 145.992 912.392 Q140.181 912.392 137.103 907.809 Q134.047 903.203 134.047 894.476 Q134.047 885.726 137.103 881.143 Q140.181 876.536 145.992 876.536 Z\" fill=\"#000000\" fill-rule=\"nonzero\" fill-opacity=\"1\" /><path clip-path=\"url(#clip550)\" d=\"M194.325 886.258 L183.746 896.883 L194.325 907.462 L191.57 910.263 L180.945 899.638 L170.32 910.263 L167.589 907.462 L178.144 896.883 L167.589 886.258 L170.32 883.457 L180.945 894.082 L191.57 883.457 L194.325 886.258 Z\" fill=\"#000000\" fill-rule=\"nonzero\" fill-opacity=\"1\" /><path clip-path=\"url(#clip550)\" d=\"M206.686 907.786 L214.325 907.786 L214.325 881.42 L206.014 883.087 L206.014 878.828 L214.278 877.161 L218.954 877.161 L218.954 907.786 L226.593 907.786 L226.593 911.721 L206.686 911.721 L206.686 907.786 Z\" fill=\"#000000\" fill-rule=\"nonzero\" fill-opacity=\"1\" /><path clip-path=\"url(#clip550)\" d=\"M246.037 880.24 Q242.426 880.24 240.598 883.805 Q238.792 887.346 238.792 894.476 Q238.792 901.582 240.598 905.147 Q242.426 908.689 246.037 908.689 Q249.672 908.689 251.477 905.147 Q253.306 901.582 253.306 894.476 Q253.306 887.346 251.477 883.805 Q249.672 880.24 246.037 880.24 M246.037 876.536 Q251.848 876.536 254.903 881.143 Q257.982 885.726 257.982 894.476 Q257.982 903.203 254.903 907.809 Q251.848 912.392 246.037 912.392 Q240.227 912.392 237.149 907.809 Q234.093 903.203 234.093 894.476 Q234.093 885.726 237.149 881.143 Q240.227 876.536 246.037 876.536 Z\" fill=\"#000000\" fill-rule=\"nonzero\" fill-opacity=\"1\" /><path clip-path=\"url(#clip550)\" d=\"M270.677 869.17 Q273.404 869.753 274.928 871.597 Q276.47 873.44 276.47 876.148 Q276.47 880.305 273.611 882.58 Q270.752 884.856 265.486 884.856 Q263.718 884.856 261.837 884.499 Q259.975 884.16 257.982 883.464 L257.982 879.797 Q259.562 880.718 261.442 881.189 Q263.323 881.659 265.373 881.659 Q268.947 881.659 270.809 880.248 Q272.689 878.838 272.689 876.148 Q272.689 873.665 270.94 872.274 Q269.21 870.863 266.107 870.863 L262.834 870.863 L262.834 867.741 L266.257 867.741 Q269.06 867.741 270.545 866.631 Q272.031 865.503 272.031 863.396 Q272.031 861.234 270.489 860.086 Q268.965 858.92 266.107 858.92 Q264.546 858.92 262.759 859.259 Q260.972 859.597 258.828 860.312 L258.828 856.927 Q260.991 856.325 262.872 856.024 Q264.771 855.723 266.445 855.723 Q270.771 855.723 273.291 857.698 Q275.812 859.654 275.812 863.001 Q275.812 865.334 274.476 866.951 Q273.141 868.55 270.677 869.17 Z\" fill=\"#000000\" fill-rule=\"nonzero\" fill-opacity=\"1\" /><path clip-path=\"url(#clip550)\" d=\"M264.525 705.585 Q260.914 705.585 259.086 709.15 Q257.28 712.692 257.28 719.821 Q257.28 726.928 259.086 730.493 Q260.914 734.034 264.525 734.034 Q268.16 734.034 269.965 730.493 Q271.794 726.928 271.794 719.821 Q271.794 712.692 269.965 709.15 Q268.16 705.585 264.525 705.585 M264.525 701.882 Q270.336 701.882 273.391 706.488 Q276.47 711.071 276.47 719.821 Q276.47 728.548 273.391 733.155 Q270.336 737.738 264.525 737.738 Q258.715 737.738 255.637 733.155 Q252.581 728.548 252.581 719.821 Q252.581 711.071 255.637 706.488 Q258.715 701.882 264.525 701.882 Z\" fill=\"#000000\" fill-rule=\"nonzero\" fill-opacity=\"1\" /><path clip-path=\"url(#clip550)\" d=\"M94.7882 571.372 L111.108 571.372 L111.108 575.308 L89.1632 575.308 L89.1632 571.372 Q91.8252 568.618 96.4085 563.988 Q101.015 559.335 102.196 557.993 Q104.441 555.47 105.321 553.734 Q106.223 551.974 106.223 550.285 Q106.223 547.53 104.279 545.794 Q102.358 544.058 99.2558 544.058 Q97.0567 544.058 94.603 544.822 Q92.1725 545.585 89.3947 547.136 L89.3947 542.414 Q92.2188 541.28 94.6724 540.701 Q97.1261 540.123 99.1632 540.123 Q104.534 540.123 107.728 542.808 Q110.922 545.493 110.922 549.984 Q110.922 552.113 110.112 554.035 Q109.325 555.933 107.219 558.525 Q106.64 559.197 103.538 562.414 Q100.436 565.609 94.7882 571.372 Z\" fill=\"#000000\" fill-rule=\"nonzero\" fill-opacity=\"1\" /><path clip-path=\"url(#clip550)\" d=\"M120.922 569.428 L125.807 569.428 L125.807 575.308 L120.922 575.308 L120.922 569.428 Z\" fill=\"#000000\" fill-rule=\"nonzero\" fill-opacity=\"1\" /><path clip-path=\"url(#clip550)\" d=\"M145.992 543.826 Q142.381 543.826 140.552 547.391 Q138.746 550.933 138.746 558.062 Q138.746 565.169 140.552 568.733 Q142.381 572.275 145.992 572.275 Q149.626 572.275 151.431 568.733 Q153.26 565.169 153.26 558.062 Q153.26 550.933 151.431 547.391 Q149.626 543.826 145.992 543.826 M145.992 540.123 Q151.802 540.123 154.857 544.729 Q157.936 549.312 157.936 558.062 Q157.936 566.789 154.857 571.396 Q151.802 575.979 145.992 575.979 Q140.181 575.979 137.103 571.396 Q134.047 566.789 134.047 558.062 Q134.047 549.312 137.103 544.729 Q140.181 540.123 145.992 540.123 Z\" fill=\"#000000\" fill-rule=\"nonzero\" fill-opacity=\"1\" /><path clip-path=\"url(#clip550)\" d=\"M194.325 549.845 L183.746 560.47 L194.325 571.048 L191.57 573.849 L180.945 563.224 L170.32 573.849 L167.589 571.048 L178.144 560.47 L167.589 549.845 L170.32 547.044 L180.945 557.669 L191.57 547.044 L194.325 549.845 Z\" fill=\"#000000\" fill-rule=\"nonzero\" fill-opacity=\"1\" /><path clip-path=\"url(#clip550)\" d=\"M206.686 571.372 L214.325 571.372 L214.325 545.007 L206.014 546.673 L206.014 542.414 L214.278 540.748 L218.954 540.748 L218.954 571.372 L226.593 571.372 L226.593 575.308 L206.686 575.308 L206.686 571.372 Z\" fill=\"#000000\" fill-rule=\"nonzero\" fill-opacity=\"1\" /><path clip-path=\"url(#clip550)\" d=\"M246.037 543.826 Q242.426 543.826 240.598 547.391 Q238.792 550.933 238.792 558.062 Q238.792 565.169 240.598 568.733 Q242.426 572.275 246.037 572.275 Q249.672 572.275 251.477 568.733 Q253.306 565.169 253.306 558.062 Q253.306 550.933 251.477 547.391 Q249.672 543.826 246.037 543.826 M246.037 540.123 Q251.848 540.123 254.903 544.729 Q257.982 549.312 257.982 558.062 Q257.982 566.789 254.903 571.396 Q251.848 575.979 246.037 575.979 Q240.227 575.979 237.149 571.396 Q234.093 566.789 234.093 558.062 Q234.093 549.312 237.149 544.729 Q240.227 540.123 246.037 540.123 Z\" fill=\"#000000\" fill-rule=\"nonzero\" fill-opacity=\"1\" /><path clip-path=\"url(#clip550)\" d=\"M270.677 532.757 Q273.404 533.34 274.928 535.183 Q276.47 537.026 276.47 539.735 Q276.47 543.891 273.611 546.167 Q270.752 548.443 265.486 548.443 Q263.718 548.443 261.837 548.085 Q259.975 547.747 257.982 547.051 L257.982 543.383 Q259.562 544.305 261.442 544.775 Q263.323 545.245 265.373 545.245 Q268.947 545.245 270.809 543.835 Q272.689 542.424 272.689 539.735 Q272.689 537.252 270.94 535.86 Q269.21 534.45 266.107 534.45 L262.834 534.45 L262.834 531.327 L266.257 531.327 Q269.06 531.327 270.545 530.218 Q272.031 529.089 272.031 526.983 Q272.031 524.82 270.489 523.673 Q268.965 522.507 266.107 522.507 Q264.546 522.507 262.759 522.845 Q260.972 523.184 258.828 523.898 L258.828 520.513 Q260.991 519.911 262.872 519.61 Q264.771 519.309 266.445 519.309 Q270.771 519.309 273.291 521.284 Q275.812 523.24 275.812 526.588 Q275.812 528.92 274.476 530.538 Q273.141 532.136 270.677 532.757 Z\" fill=\"#000000\" fill-rule=\"nonzero\" fill-opacity=\"1\" /><path clip-path=\"url(#clip550)\" d=\"M103.608 376.615 L91.8021 395.064 L103.608 395.064 L103.608 376.615 M102.381 372.541 L108.26 372.541 L108.26 395.064 L113.191 395.064 L113.191 398.953 L108.26 398.953 L108.26 407.101 L103.608 407.101 L103.608 398.953 L88.0058 398.953 L88.0058 394.439 L102.381 372.541 Z\" fill=\"#000000\" fill-rule=\"nonzero\" fill-opacity=\"1\" /><path clip-path=\"url(#clip550)\" d=\"M120.922 401.221 L125.807 401.221 L125.807 407.101 L120.922 407.101 L120.922 401.221 Z\" fill=\"#000000\" fill-rule=\"nonzero\" fill-opacity=\"1\" /><path clip-path=\"url(#clip550)\" d=\"M145.992 375.619 Q142.381 375.619 140.552 379.184 Q138.746 382.726 138.746 389.855 Q138.746 396.962 140.552 400.527 Q142.381 404.068 145.992 404.068 Q149.626 404.068 151.431 400.527 Q153.26 396.962 153.26 389.855 Q153.26 382.726 151.431 379.184 Q149.626 375.619 145.992 375.619 M145.992 371.916 Q151.802 371.916 154.857 376.522 Q157.936 381.106 157.936 389.855 Q157.936 398.582 154.857 403.189 Q151.802 407.772 145.992 407.772 Q140.181 407.772 137.103 403.189 Q134.047 398.582 134.047 389.855 Q134.047 381.106 137.103 376.522 Q140.181 371.916 145.992 371.916 Z\" fill=\"#000000\" fill-rule=\"nonzero\" fill-opacity=\"1\" /><path clip-path=\"url(#clip550)\" d=\"M194.325 381.638 L183.746 392.263 L194.325 402.842 L191.57 405.642 L180.945 395.017 L170.32 405.642 L167.589 402.842 L178.144 392.263 L167.589 381.638 L170.32 378.837 L180.945 389.462 L191.57 378.837 L194.325 381.638 Z\" fill=\"#000000\" fill-rule=\"nonzero\" fill-opacity=\"1\" /><path clip-path=\"url(#clip550)\" d=\"M206.686 403.166 L214.325 403.166 L214.325 376.8 L206.014 378.467 L206.014 374.207 L214.278 372.541 L218.954 372.541 L218.954 403.166 L226.593 403.166 L226.593 407.101 L206.686 407.101 L206.686 403.166 Z\" fill=\"#000000\" fill-rule=\"nonzero\" fill-opacity=\"1\" /><path clip-path=\"url(#clip550)\" d=\"M246.037 375.619 Q242.426 375.619 240.598 379.184 Q238.792 382.726 238.792 389.855 Q238.792 396.962 240.598 400.527 Q242.426 404.068 246.037 404.068 Q249.672 404.068 251.477 400.527 Q253.306 396.962 253.306 389.855 Q253.306 382.726 251.477 379.184 Q249.672 375.619 246.037 375.619 M246.037 371.916 Q251.848 371.916 254.903 376.522 Q257.982 381.106 257.982 389.855 Q257.982 398.582 254.903 403.189 Q251.848 407.772 246.037 407.772 Q240.227 407.772 237.149 403.189 Q234.093 398.582 234.093 389.855 Q234.093 381.106 237.149 376.522 Q240.227 371.916 246.037 371.916 Z\" fill=\"#000000\" fill-rule=\"nonzero\" fill-opacity=\"1\" /><path clip-path=\"url(#clip550)\" d=\"M270.677 364.55 Q273.404 365.133 274.928 366.976 Q276.47 368.819 276.47 371.528 Q276.47 375.684 273.611 377.96 Q270.752 380.236 265.486 380.236 Q263.718 380.236 261.837 379.878 Q259.975 379.54 257.982 378.844 L257.982 375.177 Q259.562 376.098 261.442 376.568 Q263.323 377.038 265.373 377.038 Q268.947 377.038 270.809 375.628 Q272.689 374.217 272.689 371.528 Q272.689 369.045 270.94 367.653 Q269.21 366.243 266.107 366.243 L262.834 366.243 L262.834 363.121 L266.257 363.121 Q269.06 363.121 270.545 362.011 Q272.031 360.883 272.031 358.776 Q272.031 356.613 270.489 355.466 Q268.965 354.3 266.107 354.3 Q264.546 354.3 262.759 354.638 Q260.972 354.977 258.828 355.692 L258.828 352.306 Q260.991 351.704 262.872 351.403 Q264.771 351.103 266.445 351.103 Q270.771 351.103 273.291 353.077 Q275.812 355.033 275.812 358.381 Q275.812 360.713 274.476 362.331 Q273.141 363.929 270.677 364.55 Z\" fill=\"#000000\" fill-rule=\"nonzero\" fill-opacity=\"1\" /><path clip-path=\"url(#clip550)\" d=\"M101.339 219.751 Q98.1909 219.751 96.3391 221.903 Q94.5104 224.056 94.5104 227.806 Q94.5104 231.533 96.3391 233.709 Q98.1909 235.862 101.339 235.862 Q104.487 235.862 106.316 233.709 Q108.168 231.533 108.168 227.806 Q108.168 224.056 106.316 221.903 Q104.487 219.751 101.339 219.751 M110.621 205.098 L110.621 209.357 Q108.862 208.524 107.057 208.084 Q105.274 207.644 103.515 207.644 Q98.8854 207.644 96.4317 210.769 Q94.0012 213.894 93.6539 220.214 Q95.0197 218.2 97.0798 217.135 Q99.14 216.047 101.617 216.047 Q106.825 216.047 109.834 219.218 Q112.867 222.366 112.867 227.806 Q112.867 233.13 109.719 236.348 Q106.571 239.565 101.339 239.565 Q95.3437 239.565 92.1725 234.982 Q89.0012 230.376 89.0012 221.649 Q89.0012 213.454 92.89 208.593 Q96.7789 203.709 103.33 203.709 Q105.089 203.709 106.871 204.056 Q108.677 204.403 110.621 205.098 Z\" fill=\"#000000\" fill-rule=\"nonzero\" fill-opacity=\"1\" /><path clip-path=\"url(#clip550)\" d=\"M120.922 233.014 L125.807 233.014 L125.807 238.894 L120.922 238.894 L120.922 233.014 Z\" fill=\"#000000\" fill-rule=\"nonzero\" fill-opacity=\"1\" /><path clip-path=\"url(#clip550)\" d=\"M145.992 207.413 Q142.381 207.413 140.552 210.977 Q138.746 214.519 138.746 221.649 Q138.746 228.755 140.552 232.32 Q142.381 235.862 145.992 235.862 Q149.626 235.862 151.431 232.32 Q153.26 228.755 153.26 221.649 Q153.26 214.519 151.431 210.977 Q149.626 207.413 145.992 207.413 M145.992 203.709 Q151.802 203.709 154.857 208.315 Q157.936 212.899 157.936 221.649 Q157.936 230.376 154.857 234.982 Q151.802 239.565 145.992 239.565 Q140.181 239.565 137.103 234.982 Q134.047 230.376 134.047 221.649 Q134.047 212.899 137.103 208.315 Q140.181 203.709 145.992 203.709 Z\" fill=\"#000000\" fill-rule=\"nonzero\" fill-opacity=\"1\" /><path clip-path=\"url(#clip550)\" d=\"M194.325 213.431 L183.746 224.056 L194.325 234.635 L191.57 237.436 L180.945 226.811 L170.32 237.436 L167.589 234.635 L178.144 224.056 L167.589 213.431 L170.32 210.63 L180.945 221.255 L191.57 210.63 L194.325 213.431 Z\" fill=\"#000000\" fill-rule=\"nonzero\" fill-opacity=\"1\" /><path clip-path=\"url(#clip550)\" d=\"M206.686 234.959 L214.325 234.959 L214.325 208.593 L206.014 210.26 L206.014 206.001 L214.278 204.334 L218.954 204.334 L218.954 234.959 L226.593 234.959 L226.593 238.894 L206.686 238.894 L206.686 234.959 Z\" fill=\"#000000\" fill-rule=\"nonzero\" fill-opacity=\"1\" /><path clip-path=\"url(#clip550)\" d=\"M246.037 207.413 Q242.426 207.413 240.598 210.977 Q238.792 214.519 238.792 221.649 Q238.792 228.755 240.598 232.32 Q242.426 235.862 246.037 235.862 Q249.672 235.862 251.477 232.32 Q253.306 228.755 253.306 221.649 Q253.306 214.519 251.477 210.977 Q249.672 207.413 246.037 207.413 M246.037 203.709 Q251.848 203.709 254.903 208.315 Q257.982 212.899 257.982 221.649 Q257.982 230.376 254.903 234.982 Q251.848 239.565 246.037 239.565 Q240.227 239.565 237.149 234.982 Q234.093 230.376 234.093 221.649 Q234.093 212.899 237.149 208.315 Q240.227 203.709 246.037 203.709 Z\" fill=\"#000000\" fill-rule=\"nonzero\" fill-opacity=\"1\" /><path clip-path=\"url(#clip550)\" d=\"M270.677 196.343 Q273.404 196.926 274.928 198.77 Q276.47 200.613 276.47 203.321 Q276.47 207.478 273.611 209.753 Q270.752 212.029 265.486 212.029 Q263.718 212.029 261.837 211.672 Q259.975 211.333 257.982 210.637 L257.982 206.97 Q259.562 207.891 261.442 208.362 Q263.323 208.832 265.373 208.832 Q268.947 208.832 270.809 207.421 Q272.689 206.011 272.689 203.321 Q272.689 200.838 270.94 199.447 Q269.21 198.036 266.107 198.036 L262.834 198.036 L262.834 194.914 L266.257 194.914 Q269.06 194.914 270.545 193.804 Q272.031 192.676 272.031 190.569 Q272.031 188.406 270.489 187.259 Q268.965 186.093 266.107 186.093 Q264.546 186.093 262.759 186.432 Q260.972 186.77 258.828 187.485 L258.828 184.099 Q260.991 183.498 262.872 183.197 Q264.771 182.896 266.445 182.896 Q270.771 182.896 273.291 184.871 Q275.812 186.827 275.812 190.174 Q275.812 192.507 274.476 194.124 Q273.141 195.723 270.677 196.343 Z\" fill=\"#000000\" fill-rule=\"nonzero\" fill-opacity=\"1\" /><polyline clip-path=\"url(#clip552)\" style=\"stroke:#009af9; stroke-linecap:round; stroke-linejoin:round; stroke-width:4; stroke-opacity:1; fill:none\" points=\"664.724,674.697 1071.6,700.654 1282.71,798.308 1802.31,435.212 1531.48,175.304 2123.15,90.5388 2001.68,87.9763 1995.73,310.878 2047.4,525.94 2295.01,660.061 1854.15,859.177 2083.4,1443.84 1571.54,1406.05 1104.3,1445.72 370.214,1367.21 783.474,1210.51 779.323,1157.3 760.017,994.152 664.724,674.697 \"/>\n",
       "<path clip-path=\"url(#clip550)\" d=\"M380.479 198.898 L636.938 198.898 L636.938 95.2176 L380.479 95.2176  Z\" fill=\"#ffffff\" fill-rule=\"evenodd\" fill-opacity=\"1\"/>\n",
       "<polyline clip-path=\"url(#clip550)\" style=\"stroke:#000000; stroke-linecap:round; stroke-linejoin:round; stroke-width:4; stroke-opacity:1; fill:none\" points=\"380.479,198.898 636.938,198.898 636.938,95.2176 380.479,95.2176 380.479,198.898 \"/>\n",
       "<polyline clip-path=\"url(#clip550)\" style=\"stroke:#009af9; stroke-linecap:round; stroke-linejoin:round; stroke-width:4; stroke-opacity:1; fill:none\" points=\"403.149,147.058 539.168,147.058 \"/>\n",
       "<path clip-path=\"url(#clip550)\" d=\"M575.681 166.745 Q573.875 171.375 572.162 172.787 Q570.449 174.199 567.579 174.199 L564.176 174.199 L564.176 170.634 L566.676 170.634 Q568.435 170.634 569.408 169.8 Q570.38 168.967 571.56 165.865 L572.324 163.921 L561.838 138.412 L566.352 138.412 L574.454 158.689 L582.556 138.412 L587.069 138.412 L575.681 166.745 Z\" fill=\"#000000\" fill-rule=\"nonzero\" fill-opacity=\"1\" /><path clip-path=\"url(#clip550)\" d=\"M594.361 160.402 L602 160.402 L602 134.037 L593.69 135.703 L593.69 131.444 L601.954 129.778 L606.63 129.778 L606.63 160.402 L614.268 160.402 L614.268 164.338 L594.361 164.338 L594.361 160.402 Z\" fill=\"#000000\" fill-rule=\"nonzero\" fill-opacity=\"1\" /></svg>\n"
      ]
     },
     "execution_count": 59,
     "metadata": {},
     "output_type": "execute_result"
    }
   ],
   "source": [
    "using Plots\n",
    "\n",
    "cycle_idx = getcycle(value.(x), N)\n",
    "ids = vcat(cycle_idx, cycle_idx[1])\n",
    "\n",
    "p = plot(getX.(dfpoi.enu[ids]), getY.(dfpoi.enu[ids]))\n"
   ]
  },
  {
   "cell_type": "code",
   "execution_count": 60,
   "metadata": {},
   "outputs": [
    {
     "data": {
      "text/plain": [
       "19-element Vector{Int64}:\n",
       "  1\n",
       " 11\n",
       "  3\n",
       " 12\n",
       " 14\n",
       "  4\n",
       "  6\n",
       " 13\n",
       " 15\n",
       " 16\n",
       "  2\n",
       "  7\n",
       " 17\n",
       "  8\n",
       "  5\n",
       " 10\n",
       "  9\n",
       " 18\n",
       "  1"
      ]
     },
     "execution_count": 60,
     "metadata": {},
     "output_type": "execute_result"
    }
   ],
   "source": [
    "ids"
   ]
  },
  {
   "cell_type": "code",
   "execution_count": 73,
   "metadata": {},
   "outputs": [],
   "source": [
    "#using Conda\n",
    "#Conda.runconda(`install folium -c conda-forge --yes`)\n",
    "using PyCall\n",
    "flm = pyimport(\"folium\");"
   ]
  },
  {
   "cell_type": "code",
   "execution_count": 74,
   "metadata": {},
   "outputs": [
    {
     "data": {
      "text/html": [
       "<div style=\"width:100%;\"><div style=\"position:relative;width:100%;height:0;padding-bottom:60%;\"><span style=\"color:#565656\">Make this Notebook Trusted to load map: File -> Trust Notebook</span><iframe srcdoc=\"&lt;!DOCTYPE html&gt;\n",
       "&lt;html&gt;\n",
       "&lt;head&gt;\n",
       "    \n",
       "    &lt;meta http-equiv=&quot;content-type&quot; content=&quot;text/html; charset=UTF-8&quot; /&gt;\n",
       "    \n",
       "        &lt;script&gt;\n",
       "            L_NO_TOUCH = false;\n",
       "            L_DISABLE_3D = false;\n",
       "        &lt;/script&gt;\n",
       "    \n",
       "    &lt;style&gt;html, body {width: 100%;height: 100%;margin: 0;padding: 0;}&lt;/style&gt;\n",
       "    &lt;style&gt;#map {position:absolute;top:0;bottom:0;right:0;left:0;}&lt;/style&gt;\n",
       "    &lt;script src=&quot;https://cdn.jsdelivr.net/npm/leaflet@1.9.3/dist/leaflet.js&quot;&gt;&lt;/script&gt;\n",
       "    &lt;script src=&quot;https://code.jquery.com/jquery-3.7.1.min.js&quot;&gt;&lt;/script&gt;\n",
       "    &lt;script src=&quot;https://cdn.jsdelivr.net/npm/bootstrap@5.2.2/dist/js/bootstrap.bundle.min.js&quot;&gt;&lt;/script&gt;\n",
       "    &lt;script src=&quot;https://cdnjs.cloudflare.com/ajax/libs/Leaflet.awesome-markers/2.0.2/leaflet.awesome-markers.js&quot;&gt;&lt;/script&gt;\n",
       "    &lt;link rel=&quot;stylesheet&quot; href=&quot;https://cdn.jsdelivr.net/npm/leaflet@1.9.3/dist/leaflet.css&quot;/&gt;\n",
       "    &lt;link rel=&quot;stylesheet&quot; href=&quot;https://cdn.jsdelivr.net/npm/bootstrap@5.2.2/dist/css/bootstrap.min.css&quot;/&gt;\n",
       "    &lt;link rel=&quot;stylesheet&quot; href=&quot;https://netdna.bootstrapcdn.com/bootstrap/3.0.0/css/bootstrap.min.css&quot;/&gt;\n",
       "    &lt;link rel=&quot;stylesheet&quot; href=&quot;https://cdn.jsdelivr.net/npm/@fortawesome/fontawesome-free@6.2.0/css/all.min.css&quot;/&gt;\n",
       "    &lt;link rel=&quot;stylesheet&quot; href=&quot;https://cdnjs.cloudflare.com/ajax/libs/Leaflet.awesome-markers/2.0.2/leaflet.awesome-markers.css&quot;/&gt;\n",
       "    &lt;link rel=&quot;stylesheet&quot; href=&quot;https://cdn.jsdelivr.net/gh/python-visualization/folium/folium/templates/leaflet.awesome.rotate.min.css&quot;/&gt;\n",
       "    \n",
       "            &lt;meta name=&quot;viewport&quot; content=&quot;width=device-width,\n",
       "                initial-scale=1.0, maximum-scale=1.0, user-scalable=no&quot; /&gt;\n",
       "            &lt;style&gt;\n",
       "                #map_eb22d1d8e8b115cb94fa7203891f6cd5 {\n",
       "                    position: relative;\n",
       "                    width: 100.0%;\n",
       "                    height: 100.0%;\n",
       "                    left: 0.0%;\n",
       "                    top: 0.0%;\n",
       "                }\n",
       "                .leaflet-container { font-size: 1rem; }\n",
       "            &lt;/style&gt;\n",
       "        \n",
       "&lt;/head&gt;\n",
       "&lt;body&gt;\n",
       "    \n",
       "    \n",
       "            &lt;div class=&quot;folium-map&quot; id=&quot;map_eb22d1d8e8b115cb94fa7203891f6cd5&quot; &gt;&lt;/div&gt;\n",
       "        \n",
       "&lt;/body&gt;\n",
       "&lt;script&gt;\n",
       "    \n",
       "    \n",
       "            var map_eb22d1d8e8b115cb94fa7203891f6cd5 = L.map(\n",
       "                &quot;map_eb22d1d8e8b115cb94fa7203891f6cd5&quot;,\n",
       "                {\n",
       "                    center: [0.0, 0.0],\n",
       "                    crs: L.CRS.EPSG3857,\n",
       "                    zoom: 1,\n",
       "                    zoomControl: true,\n",
       "                    preferCanvas: false,\n",
       "                }\n",
       "            );\n",
       "\n",
       "            \n",
       "\n",
       "        \n",
       "    \n",
       "            var tile_layer_918be8f4031f7fa98912e9cbb8c29b5b = L.tileLayer(\n",
       "                &quot;https://tile.openstreetmap.org/{z}/{x}/{y}.png&quot;,\n",
       "                {&quot;attribution&quot;: &quot;\\u0026copy; \\u003ca href=\\&quot;https://www.openstreetmap.org/copyright\\&quot;\\u003eOpenStreetMap\\u003c/a\\u003e contributors&quot;, &quot;detectRetina&quot;: false, &quot;maxNativeZoom&quot;: 19, &quot;maxZoom&quot;: 19, &quot;minZoom&quot;: 0, &quot;noWrap&quot;: false, &quot;opacity&quot;: 1, &quot;subdomains&quot;: &quot;abc&quot;, &quot;tms&quot;: false}\n",
       "            );\n",
       "        \n",
       "    \n",
       "            tile_layer_918be8f4031f7fa98912e9cbb8c29b5b.addTo(map_eb22d1d8e8b115cb94fa7203891f6cd5);\n",
       "        \n",
       "    \n",
       "            var poly_line_36217f9620d4a6b7c7822dd7f1ac219d = L.polyline(\n",
       "                [[37.7264384, -122.476093], [37.7265755, -122.4760853], [37.7267303, -122.47607670000001], [37.7269197, -122.47606620000003], [37.7268791, -122.47563470000001], [37.7268685, -122.4753289], [37.72686529999999, -122.47504760000001], [37.7269199, -122.47477640000001], [37.726910600000004, -122.47452200000001], [37.72689619999999, -122.4742346], [37.72688000000001, -122.4737835], [37.7268641, -122.47334030000003], [37.7268466, -122.47285350000001], [37.7268292, -122.4723691], [37.72682160000001, -122.47217180000001], [37.7268149, -122.47199790000003], [37.726808, -122.471703], [37.7267907, -122.4711517], [37.726757, -122.47097800000002], [37.72673569999999, -122.47091790000003], [37.7266454, -122.4707226], [37.726388299999996, -122.4701636], [37.7262985, -122.469193], [37.72722340000001, -122.46666810000002], [37.7267844, -122.46609700000003], [37.7264179, -122.46532320000001], [37.72628569999999, -122.4649501], [37.72615, -122.46456650000002], [37.7260281, -122.46423019999999], [37.7258799, -122.46384690000001], [37.7257449, -122.46349429999998], [37.7254938, -122.46283840000001], [37.7253971, -122.46258310000002], [37.72527240000001, -122.46223790000002], [37.7249582, -122.4612297], [37.7248958, -122.46093230000001], [37.72472400000001, -122.46011260000002], [37.7246191, -122.45962470000002], [37.724525, -122.45918740000002], [37.7243217, -122.45821340000002], [37.7241338, -122.45731970000001], [37.72409900000001, -122.45716440000001], [37.7239636, -122.4565443], [37.723875600000014, -122.4561405], [37.7237484, -122.45553800000003], [37.723693, -122.45527550000003]],\n",
       "                {&quot;bubblingMouseEvents&quot;: true, &quot;color&quot;: &quot;#000000&quot;, &quot;dashArray&quot;: null, &quot;dashOffset&quot;: null, &quot;fill&quot;: false, &quot;fillColor&quot;: &quot;#000000&quot;, &quot;fillOpacity&quot;: 0.2, &quot;fillRule&quot;: &quot;evenodd&quot;, &quot;lineCap&quot;: &quot;round&quot;, &quot;lineJoin&quot;: &quot;round&quot;, &quot;noClip&quot;: false, &quot;opacity&quot;: 1.0, &quot;smoothFactor&quot;: 1.0, &quot;stroke&quot;: true, &quot;weight&quot;: 3}\n",
       "            ).addTo(map_eb22d1d8e8b115cb94fa7203891f6cd5);\n",
       "        \n",
       "    \n",
       "            var circle_ec11f899957fe2964352728f1d3890c3 = L.circle(\n",
       "                [37.7263764, -122.4762235],\n",
       "                {&quot;bubblingMouseEvents&quot;: true, &quot;color&quot;: &quot;blue&quot;, &quot;dashArray&quot;: null, &quot;dashOffset&quot;: null, &quot;fill&quot;: true, &quot;fillColor&quot;: &quot;blue&quot;, &quot;fillOpacity&quot;: 0.2, &quot;fillRule&quot;: &quot;evenodd&quot;, &quot;lineCap&quot;: &quot;round&quot;, &quot;lineJoin&quot;: &quot;round&quot;, &quot;opacity&quot;: 1.0, &quot;radius&quot;: 30, &quot;stroke&quot;: true, &quot;weight&quot;: 3}\n",
       "            ).addTo(map_eb22d1d8e8b115cb94fa7203891f6cd5);\n",
       "        \n",
       "    \n",
       "            var poly_line_3179d66377b9a30bd0fef50a934a27bd = L.polyline(\n",
       "                [[37.723693, -122.45527550000003], [37.7236668, -122.4551511], [37.72345020000001, -122.45411480000001], [37.7234089, -122.45391710000001], [37.723246100000004, -122.45312380000001], [37.7232211, -122.4530106], [37.723097599999996, -122.4527376], [37.7230087, -122.45231330000001], [37.7223049, -122.4507751], [37.7220561, -122.45015620000002], [37.7217247, -122.44933210000002], [37.7215323, -122.44885360000002], [37.7213718, -122.4484406], [37.72134470000002, -122.44836370000002], [37.7211616, -122.44789300000001], [37.72112250000001, -122.4477848], [37.72090819999999, -122.44730030000002], [37.7208533, -122.44716100000001], [37.720831700000005, -122.44718350000001], [37.7205547, -122.44753290000001], [37.7194977, -122.44761600000001], [37.719440200000015, -122.44747110000002], [37.7188367, -122.44593100000002], [37.71827170000001, -122.4462828], [37.7177035, -122.4466363], [37.71717120000001, -122.4469675], [37.7165159, -122.44737519999998], [37.71619009999999, -122.446963], [37.715728000000006, -122.44637200000003], [37.715332, -122.44590800000002], [37.715264, -122.44582980000003], [37.71514559999999, -122.44565599999999], [37.714577, -122.444936], [37.714087, -122.44432500000002], [37.713592, -122.44370600000002], [37.7134065, -122.4439044], [37.713362, -122.443952], [37.7130599, -122.44427460000001], [37.7131758, -122.4443935], [37.7131054, -122.44475800000001]],\n",
       "                {&quot;bubblingMouseEvents&quot;: true, &quot;color&quot;: &quot;#000000&quot;, &quot;dashArray&quot;: null, &quot;dashOffset&quot;: null, &quot;fill&quot;: false, &quot;fillColor&quot;: &quot;#000000&quot;, &quot;fillOpacity&quot;: 0.2, &quot;fillRule&quot;: &quot;evenodd&quot;, &quot;lineCap&quot;: &quot;round&quot;, &quot;lineJoin&quot;: &quot;round&quot;, &quot;noClip&quot;: false, &quot;opacity&quot;: 1.0, &quot;smoothFactor&quot;: 1.0, &quot;stroke&quot;: true, &quot;weight&quot;: 3}\n",
       "            ).addTo(map_eb22d1d8e8b115cb94fa7203891f6cd5);\n",
       "        \n",
       "    \n",
       "            var circle_d947794669e8256bfc065f7ed97e6af3 = L.circle(\n",
       "                [37.7235993, -122.455387],\n",
       "                {&quot;bubblingMouseEvents&quot;: true, &quot;color&quot;: &quot;blue&quot;, &quot;dashArray&quot;: null, &quot;dashOffset&quot;: null, &quot;fill&quot;: true, &quot;fillColor&quot;: &quot;blue&quot;, &quot;fillOpacity&quot;: 0.2, &quot;fillRule&quot;: &quot;evenodd&quot;, &quot;lineCap&quot;: &quot;round&quot;, &quot;lineJoin&quot;: &quot;round&quot;, &quot;opacity&quot;: 1.0, &quot;radius&quot;: 30, &quot;stroke&quot;: true, &quot;weight&quot;: 3}\n",
       "            ).addTo(map_eb22d1d8e8b115cb94fa7203891f6cd5);\n",
       "        \n",
       "    \n",
       "            var poly_line_9d6f478e026a6215d738cd465b3f7066 = L.polyline(\n",
       "                [[37.7131054, -122.44475800000001], [37.7128856, -122.4444606], [37.7130599, -122.44427460000001], [37.713362, -122.443952], [37.7134065, -122.4439044], [37.713592, -122.44370600000002], [37.713927999999996, -122.44334600000002], [37.7145928, -122.4426486], [37.715382600000005, -122.44187500000002], [37.715584799999995, -122.44171570000002], [37.715765, -122.44157910000003], [37.7160654, -122.4413514], [37.7161766, -122.44126710000002], [37.7164174, -122.44108450000002], [37.7164919, -122.44102810000001], [37.7167623, -122.44081000000001], [37.7168918, -122.4407123], [37.71725300000001, -122.44044040000001], [37.71728860000001, -122.44041400000003], [37.71767809999999, -122.44012100000002], [37.71805770000001, -122.43983799999998], [37.7184658, -122.43952600000003], [37.718984400000004, -122.43913780000003], [37.71940719999999, -122.43881560000003], [37.7194584, -122.43877790000002], [37.720026299999994, -122.43834710000002], [37.7211681, -122.4374884], [37.7215551, -122.4371909], [37.7215766, -122.43717430000001], [37.7224709, -122.43649550000002], [37.723043000000004, -122.4360641], [37.723147000000004, -122.43598640000002], [37.723873499999996, -122.43543660000002], [37.7240156, -122.4353287], [37.7246416, -122.43485680000002], [37.7251845, -122.43444280000001], [37.72577150000001, -122.4340014], [37.72624499999999, -122.43364140000003], [37.726598100000004, -122.43337710000002], [37.7271838, -122.43293550000001], [37.7276851, -122.43242310000001], [37.7282452, -122.43181], [37.72838620000001, -122.4316659], [37.7287411, -122.43131160000003], [37.728911000000004, -122.43114259999999], [37.729014500000005, -122.43104080000002], [37.729035499999995, -122.43102020000002], [37.729229, -122.43082820000001], [37.729936300000006, -122.4301248], [37.7304682, -122.429596], [37.73089649999999, -122.42916590000003], [37.731056900000006, -122.42899870000001], [37.7310909, -122.4289637], [37.73215549999999, -122.4279307], [37.7336837, -122.42638900000001], [37.7339607, -122.42612040000003], [37.7342838, -122.4258001], [37.7352719, -122.4248196], [37.7353896, -122.42472900000001], [37.73600570000001, -122.42449490000001], [37.73662929999999, -122.4242868], [37.7367513, -122.42424470000002], [37.7372773, -122.4240619], [37.7373676, -122.4240568], [37.738856600000005, -122.42396660000001], [37.73947590000001, -122.42384950000002], [37.7397616, -122.4236722], [37.7398681, -122.42360690000001], [37.740647499999994, -122.42309480000002], [37.7410297, -122.42284770000002], [37.7417631, -122.4223736], [37.74196930000001, -122.4222404], [37.7421345, -122.42213360000002], [37.7422007, -122.42209080000002], [37.74231220000001, -122.4220187], [37.74261370000001, -122.4218237], [37.7428241, -122.42168780000003], [37.7431248, -122.42149340000002], [37.7434303, -122.4212959], [37.7440583, -122.42088990000003], [37.7447065, -122.4204709], [37.7448085, -122.42040500000002], [37.7456031, -122.41989130000002], [37.7461866, -122.41951400000004], [37.7467824, -122.41912890000002], [37.7472086, -122.41884910000002], [37.747407200000005, -122.41872500000001], [37.7477678, -122.4184919], [37.7480217, -122.41832570000003], [37.74810149999999, -122.41827610000001], [37.74821270000001, -122.4182042], [37.74862160000001, -122.41810800000002], [37.74867449999999, -122.41811199999998], [37.74904020000001, -122.4181489], [37.7501327, -122.4182584], [37.7503365, -122.4182794], [37.7506461, -122.41831060000001], [37.7506802, -122.41774820000002], [37.7521109, -122.41787990000003]],\n",
       "                {&quot;bubblingMouseEvents&quot;: true, &quot;color&quot;: &quot;#000000&quot;, &quot;dashArray&quot;: null, &quot;dashOffset&quot;: null, &quot;fill&quot;: false, &quot;fillColor&quot;: &quot;#000000&quot;, &quot;fillOpacity&quot;: 0.2, &quot;fillRule&quot;: &quot;evenodd&quot;, &quot;lineCap&quot;: &quot;round&quot;, &quot;lineJoin&quot;: &quot;round&quot;, &quot;noClip&quot;: false, &quot;opacity&quot;: 1.0, &quot;smoothFactor&quot;: 1.0, &quot;stroke&quot;: true, &quot;weight&quot;: 3}\n",
       "            ).addTo(map_eb22d1d8e8b115cb94fa7203891f6cd5);\n",
       "        \n",
       "    \n",
       "            var circle_e61b8dfd0ec44b4f71517df114cf6416 = L.circle(\n",
       "                [37.7131382, -122.4445763],\n",
       "                {&quot;bubblingMouseEvents&quot;: true, &quot;color&quot;: &quot;blue&quot;, &quot;dashArray&quot;: null, &quot;dashOffset&quot;: null, &quot;fill&quot;: true, &quot;fillColor&quot;: &quot;blue&quot;, &quot;fillOpacity&quot;: 0.2, &quot;fillRule&quot;: &quot;evenodd&quot;, &quot;lineCap&quot;: &quot;round&quot;, &quot;lineJoin&quot;: &quot;round&quot;, &quot;opacity&quot;: 1.0, &quot;radius&quot;: 30, &quot;stroke&quot;: true, &quot;weight&quot;: 3}\n",
       "            ).addTo(map_eb22d1d8e8b115cb94fa7203891f6cd5);\n",
       "        \n",
       "    \n",
       "            var poly_line_ce171ff50b57f7e46930d535c4bea932 = L.polyline(\n",
       "                [[37.7521109, -122.41787990000003], [37.7521996, -122.41788750000002], [37.75227770000001, -122.41789530000001], [37.7522622, -122.41815189999998], [37.752243500000006, -122.41846340000001], [37.752235899999995, -122.4185966], [37.75223280000001, -122.41865010000002], [37.7522113, -122.41903340000003], [37.75218069999999, -122.41955650000001], [37.75299849999999, -122.41963540000002], [37.7537706, -122.4197115], [37.7542842, -122.41976840000001], [37.755374200000006, -122.41987280000001], [37.7553063, -122.42092100000002], [37.7565037, -122.4210379], [37.7569092, -122.421077], [37.7585066, -122.42123300000002], [37.7601043, -122.42139210000002], [37.7607594, -122.4214591], [37.76153529999999, -122.42153470000001], [37.7617022, -122.42155090000003], [37.7616965, -122.42164330000001], [37.7616479, -122.4224192], [37.761628, -122.42278260000002], [37.7622335, -122.4229485], [37.7632197, -122.4230912], [37.763168, -122.42391], [37.7631625, -122.4240075], [37.76302890000001, -122.42617000000001], [37.7635221, -122.4262172], [37.76354979999999, -122.42622], [37.76397990000001, -122.42626130000001], [37.7642253, -122.4262793], [37.76433250000001, -122.4262902], [37.7646472, -122.4263255], [37.765319000000005, -122.42639], [37.7657848, -122.42643460000001], [37.7662713, -122.42648150000001], [37.7662621, -122.4266309], [37.76620629999999, -122.42774530000003], [37.7661423, -122.42877280000003], [37.7674709, -122.4288784], [37.767643099999994, -122.4289048], [37.7677369, -122.42891650000003], [37.76820440000001, -122.42895760000003], [37.7684975, -122.42898400000001], [37.768677, -122.42899980000001], [37.7694057, -122.42906890000003], [37.76946230000001, -122.4291437], [37.7695337, -122.4291644], [37.77035540000001, -122.42924180000003], [37.770249500000006, -122.4300842], [37.7707172, -122.43017910000002], [37.771181000000006, -122.4302733], [37.7716409, -122.43036680000003], [37.772113299999994, -122.43046120000001], [37.7730481, -122.43065140000002], [37.7738163, -122.4308064], [37.7739776, -122.430839], [37.7741326, -122.4308703], [37.7743915, -122.4309225], [37.774912, -122.43102760000002], [37.77584319999999, -122.43121550000001], [37.77677640000001, -122.43140380000003], [37.7777074, -122.4315916], [37.777898199999996, -122.43163060000002], [37.77809270000001, -122.4316704], [37.778635400000006, -122.43178130000001], [37.7792152, -122.43189809999998], [37.779569, -122.43196940000001], [37.77962939999999, -122.4314941], [37.779788100000005, -122.4315307], [37.7799763, -122.43190880000002]],\n",
       "                {&quot;bubblingMouseEvents&quot;: true, &quot;color&quot;: &quot;#000000&quot;, &quot;dashArray&quot;: null, &quot;dashOffset&quot;: null, &quot;fill&quot;: false, &quot;fillColor&quot;: &quot;#000000&quot;, &quot;fillOpacity&quot;: 0.2, &quot;fillRule&quot;: &quot;evenodd&quot;, &quot;lineCap&quot;: &quot;round&quot;, &quot;lineJoin&quot;: &quot;round&quot;, &quot;noClip&quot;: false, &quot;opacity&quot;: 1.0, &quot;smoothFactor&quot;: 1.0, &quot;stroke&quot;: true, &quot;weight&quot;: 3}\n",
       "            ).addTo(map_eb22d1d8e8b115cb94fa7203891f6cd5);\n",
       "        \n",
       "    \n",
       "            var circle_739d9eac33b6169758886e38d5cb63f6 = L.circle(\n",
       "                [37.7520321, -122.4179579],\n",
       "                {&quot;bubblingMouseEvents&quot;: true, &quot;color&quot;: &quot;blue&quot;, &quot;dashArray&quot;: null, &quot;dashOffset&quot;: null, &quot;fill&quot;: true, &quot;fillColor&quot;: &quot;blue&quot;, &quot;fillOpacity&quot;: 0.2, &quot;fillRule&quot;: &quot;evenodd&quot;, &quot;lineCap&quot;: &quot;round&quot;, &quot;lineJoin&quot;: &quot;round&quot;, &quot;opacity&quot;: 1.0, &quot;radius&quot;: 30, &quot;stroke&quot;: true, &quot;weight&quot;: 3}\n",
       "            ).addTo(map_eb22d1d8e8b115cb94fa7203891f6cd5);\n",
       "        \n",
       "    \n",
       "            var poly_line_ffc6ca32f2f46858933403cc1d83f0b0 = L.polyline(\n",
       "                [[37.7799763, -122.43190880000002], [37.7799624, -122.43204870000001], [37.779569, -122.43196940000001], [37.77962939999999, -122.4314941], [37.779692399999995, -122.43099830000001], [37.779699900000004, -122.4309385], [37.779778100000016, -122.43032430000002], [37.7797965, -122.43017950000001], [37.77980469999999, -122.43011509999998], [37.7798832, -122.42953300000003], [37.779911399999996, -122.42930049999998], [37.7799313, -122.42913610000001], [37.7799764, -122.42876550000001], [37.77999869999999, -122.4285898], [37.7800187, -122.42843240000002], [37.780085799999995, -122.42790440000002], [37.78009389999999, -122.42784060000001], [37.78010960000001, -122.42771630000001], [37.780196200000006, -122.42703649999999], [37.78025360000001, -122.42658370000001], [37.780285899999996, -122.42633079999999], [37.7804073, -122.4253762], [37.78056050000001, -122.4241713], [37.7806142, -122.42374880000001], [37.7806872, -122.42317480000001], [37.7807436, -122.42273160000002], [37.7808235, -122.42210320000001], [37.781017, -122.42058480000001], [37.7810278, -122.42050100000002], [37.7810458, -122.4203517], [37.781055599999995, -122.42027900000001], [37.7812425, -122.41881050000003], [37.781450799999995, -122.41717320000001], [37.7815851, -122.41611760000002], [37.781660200000005, -122.4155274], [37.7817657, -122.4147017], [37.781870399999995, -122.41388219999999], [37.78201680000001, -122.4127382], [37.7820804, -122.4122382], [37.782167, -122.41156020000003], [37.7822252, -122.4111043], [37.7822065, -122.41035570000001], [37.782850800000006, -122.40954260000001], [37.78320190000001, -122.4090996], [37.78332850000001, -122.40893700000001], [37.7835088, -122.40871069999999], [37.78401269999999, -122.4080709], [37.7845765, -122.40735710000003], [37.78491170000001, -122.40693260000002], [37.7855514, -122.40612260000002], [37.78571389999999, -122.4059164], [37.7862578, -122.40523250000001], [37.7863784, -122.40508060000002], [37.78674949999999, -122.40460590000002], [37.787675799999995, -122.4034364], [37.7880314, -122.40298380000002], [37.78851240000001, -122.40237460000003], [37.788817800000004, -122.4019881], [37.789283700000006, -122.40139820000002]],\n",
       "                {&quot;bubblingMouseEvents&quot;: true, &quot;color&quot;: &quot;#000000&quot;, &quot;dashArray&quot;: null, &quot;dashOffset&quot;: null, &quot;fill&quot;: false, &quot;fillColor&quot;: &quot;#000000&quot;, &quot;fillOpacity&quot;: 0.2, &quot;fillRule&quot;: &quot;evenodd&quot;, &quot;lineCap&quot;: &quot;round&quot;, &quot;lineJoin&quot;: &quot;round&quot;, &quot;noClip&quot;: false, &quot;opacity&quot;: 1.0, &quot;smoothFactor&quot;: 1.0, &quot;stroke&quot;: true, &quot;weight&quot;: 3}\n",
       "            ).addTo(map_eb22d1d8e8b115cb94fa7203891f6cd5);\n",
       "        \n",
       "    \n",
       "            var circle_78fa4948e9e9e11141f2cc0313e7b92a = L.circle(\n",
       "                [37.7798775, -122.4318265],\n",
       "                {&quot;bubblingMouseEvents&quot;: true, &quot;color&quot;: &quot;blue&quot;, &quot;dashArray&quot;: null, &quot;dashOffset&quot;: null, &quot;fill&quot;: true, &quot;fillColor&quot;: &quot;blue&quot;, &quot;fillOpacity&quot;: 0.2, &quot;fillRule&quot;: &quot;evenodd&quot;, &quot;lineCap&quot;: &quot;round&quot;, &quot;lineJoin&quot;: &quot;round&quot;, &quot;opacity&quot;: 1.0, &quot;radius&quot;: 30, &quot;stroke&quot;: true, &quot;weight&quot;: 3}\n",
       "            ).addTo(map_eb22d1d8e8b115cb94fa7203891f6cd5);\n",
       "        \n",
       "    \n",
       "            var poly_line_def8504a0650bbd75537bd7e9b223ac3 = L.polyline(\n",
       "                [[37.789283700000006, -122.40139820000002], [37.788817800000004, -122.4019881], [37.78851240000001, -122.40237460000003], [37.78801479999999, -122.40311320000004], [37.7879652, -122.40349720000003], [37.7877685, -122.4050568], [37.7881807, -122.40514080000003], [37.788237, -122.4051523], [37.7887033, -122.40524730000003], [37.78901249999999, -122.40530950000002], [37.7891462, -122.4053364], [37.7892111, -122.40534940000002], [37.7893261, -122.4053725], [37.7896352, -122.40543470000001], [37.7895621, -122.40600000000003], [37.7894964, -122.4065102], [37.789435700000006, -122.4069817]],\n",
       "                {&quot;bubblingMouseEvents&quot;: true, &quot;color&quot;: &quot;#000000&quot;, &quot;dashArray&quot;: null, &quot;dashOffset&quot;: null, &quot;fill&quot;: false, &quot;fillColor&quot;: &quot;#000000&quot;, &quot;fillOpacity&quot;: 0.2, &quot;fillRule&quot;: &quot;evenodd&quot;, &quot;lineCap&quot;: &quot;round&quot;, &quot;lineJoin&quot;: &quot;round&quot;, &quot;noClip&quot;: false, &quot;opacity&quot;: 1.0, &quot;smoothFactor&quot;: 1.0, &quot;stroke&quot;: true, &quot;weight&quot;: 3}\n",
       "            ).addTo(map_eb22d1d8e8b115cb94fa7203891f6cd5);\n",
       "        \n",
       "    \n",
       "            var circle_2f3793ef82f44a92f34e1c88f73b3d01 = L.circle(\n",
       "                [37.7889505, -122.4014996],\n",
       "                {&quot;bubblingMouseEvents&quot;: true, &quot;color&quot;: &quot;blue&quot;, &quot;dashArray&quot;: null, &quot;dashOffset&quot;: null, &quot;fill&quot;: true, &quot;fillColor&quot;: &quot;blue&quot;, &quot;fillOpacity&quot;: 0.2, &quot;fillRule&quot;: &quot;evenodd&quot;, &quot;lineCap&quot;: &quot;round&quot;, &quot;lineJoin&quot;: &quot;round&quot;, &quot;opacity&quot;: 1.0, &quot;radius&quot;: 30, &quot;stroke&quot;: true, &quot;weight&quot;: 3}\n",
       "            ).addTo(map_eb22d1d8e8b115cb94fa7203891f6cd5);\n",
       "        \n",
       "    \n",
       "            var poly_line_df3f97a2f4ab2996e3d99a7c51eab8a7 = L.polyline(\n",
       "                [[37.789435700000006, -122.4069817], [37.788971000000004, -122.4068873], [37.7885009, -122.40679390000001], [37.7881787, -122.40672030000002], [37.7880412, -122.40668890000003], [37.787577, -122.40659060000002], [37.7866404, -122.40641010000002], [37.785773999999996, -122.4062464], [37.78571389999999, -122.4059164], [37.7857012, -122.4057835], [37.785281700000006, -122.40525720000001], [37.78522949999999, -122.40519110000001], [37.7851708, -122.40511790000001], [37.78492059999999, -122.4048036], [37.78483460000001, -122.40469580000001], [37.7844843, -122.40425689999998], [37.78407380000001, -122.40373400000003], [37.7837725, -122.40335850000001], [37.7832509, -122.4027076], [37.782697600000006, -122.40201379999999], [37.782633000000004, -122.40193280000001], [37.782454200000004, -122.40171100000002], [37.78227720000001, -122.40149059999999], [37.7820463, -122.40120270000003], [37.781581599999996, -122.4006212], [37.7813871, -122.40037670000001], [37.7812114, -122.40015850000002], [37.7811896, -122.4001313], [37.7807911, -122.39963500000003], [37.7800291, -122.39986960000002], [37.779359, -122.40052620000002], [37.77809430000001, -122.4019545], [37.776113, -122.40509500000002], [37.7740217, -122.4073115], [37.7738722, -122.4075026], [37.773167300000004, -122.4077924], [37.772897699999994, -122.40745160000003], [37.772753099999996, -122.40726950000003], [37.7725204, -122.40699460000003], [37.771918899999996, -122.40617449999999], [37.77166840000001, -122.40586800000001], [37.77160250000001, -122.40581120000002], [37.771303399999994, -122.405446], [37.7709015, -122.4059572], [37.7706311, -122.40630170000001], [37.770494500000005, -122.4064679], [37.77007, -122.40699770000002], [37.769678899999995, -122.4074648], [37.7695306, -122.4076423], [37.7694166, -122.4077467], [37.7692412, -122.40790150000001], [37.7690814, -122.40797550000002], [37.76904700000001, -122.40797550000002], [37.7689799, -122.40797550000002], [37.7687935, -122.40794970000002], [37.7685744, -122.40783160000001], [37.7684976, -122.4078251], [37.7683619, -122.40781370000003], [37.768054500000005, -122.40778420000001], [37.7674085, -122.40772210000002], [37.76708169999999, -122.40769070000003], [37.76679750000001, -122.407666], [37.7664549, -122.40763270000001], [37.7661186, -122.4076008], [37.7657809, -122.40756800000003], [37.765750100000005, -122.40812380000001], [37.765571599999994, -122.40810280000001]],\n",
       "                {&quot;bubblingMouseEvents&quot;: true, &quot;color&quot;: &quot;#000000&quot;, &quot;dashArray&quot;: null, &quot;dashOffset&quot;: null, &quot;fill&quot;: false, &quot;fillColor&quot;: &quot;#000000&quot;, &quot;fillOpacity&quot;: 0.2, &quot;fillRule&quot;: &quot;evenodd&quot;, &quot;lineCap&quot;: &quot;round&quot;, &quot;lineJoin&quot;: &quot;round&quot;, &quot;noClip&quot;: false, &quot;opacity&quot;: 1.0, &quot;smoothFactor&quot;: 1.0, &quot;stroke&quot;: true, &quot;weight&quot;: 3}\n",
       "            ).addTo(map_eb22d1d8e8b115cb94fa7203891f6cd5);\n",
       "        \n",
       "    \n",
       "            var circle_09adafc0f911539b1e0b6b23140c76f0 = L.circle(\n",
       "                [37.7892272, -122.4077251],\n",
       "                {&quot;bubblingMouseEvents&quot;: true, &quot;color&quot;: &quot;blue&quot;, &quot;dashArray&quot;: null, &quot;dashOffset&quot;: null, &quot;fill&quot;: true, &quot;fillColor&quot;: &quot;blue&quot;, &quot;fillOpacity&quot;: 0.2, &quot;fillRule&quot;: &quot;evenodd&quot;, &quot;lineCap&quot;: &quot;round&quot;, &quot;lineJoin&quot;: &quot;round&quot;, &quot;opacity&quot;: 1.0, &quot;radius&quot;: 30, &quot;stroke&quot;: true, &quot;weight&quot;: 3}\n",
       "            ).addTo(map_eb22d1d8e8b115cb94fa7203891f6cd5);\n",
       "        \n",
       "    \n",
       "            var poly_line_76c60b2315139cd767143e9d86fb6fbe = L.polyline(\n",
       "                [[37.765571599999994, -122.40810280000001], [37.76537830000001, -122.40775560000002], [37.7653885, -122.40753060000002], [37.7649924, -122.40749260000001], [37.76490390000001, -122.40748410000002], [37.764797300000005, -122.4074738], [37.7647649, -122.40747070000002], [37.76448690000001, -122.40744400000001], [37.764193, -122.40741580000001], [37.76414439999999, -122.4074111], [37.76351480000001, -122.40735060000002], [37.76321680000001, -122.4073226], [37.7622392, -122.40729479999999], [37.7619362, -122.40726399999998], [37.761632900000016, -122.407235], [37.7606613, -122.40714200000002], [37.7593689, -122.40701799999998], [37.75777229999999, -122.40686610000002], [37.7574721, -122.40683880000002], [37.7571751, -122.4068132], [37.756838900000005, -122.40677980000001], [37.7561683, -122.40671780000002], [37.7549763, -122.4066034], [37.7545728, -122.40656400000002], [37.7542868, -122.40653510000003], [37.75334480000001, -122.40644750000003], [37.75306520000001, -122.40642210000001], [37.7529841, -122.40641280000001], [37.7529118, -122.40640940000002], [37.75208440000001, -122.4063341], [37.75173089999999, -122.40629870000002], [37.7513789, -122.40623780000001], [37.751077, -122.40619930000003], [37.7509527, -122.4061863], [37.7508885, -122.40617310000002], [37.7498571, -122.40564480000003], [37.7486842, -122.40444099999999], [37.7484136, -122.40405100000001], [37.7481512, -122.40388800000002], [37.74632660000001, -122.40431290000001], [37.745180100000006, -122.4042207], [37.7442984, -122.4045401], [37.7439519, -122.40474090000002], [37.7436924, -122.4049265], [37.7435738, -122.40501220000002], [37.7433498, -122.4051747], [37.7431096, -122.40533899999998], [37.743004, -122.40539920000002], [37.7426468, -122.40564060000001], [37.74252719999999, -122.40572770000003], [37.7424775, -122.40561599999998], [37.74238329999999, -122.40536710000002], [37.742323500000005, -122.4054034]],\n",
       "                {&quot;bubblingMouseEvents&quot;: true, &quot;color&quot;: &quot;#000000&quot;, &quot;dashArray&quot;: null, &quot;dashOffset&quot;: null, &quot;fill&quot;: false, &quot;fillColor&quot;: &quot;#000000&quot;, &quot;fillOpacity&quot;: 0.2, &quot;fillRule&quot;: &quot;evenodd&quot;, &quot;lineCap&quot;: &quot;round&quot;, &quot;lineJoin&quot;: &quot;round&quot;, &quot;noClip&quot;: false, &quot;opacity&quot;: 1.0, &quot;smoothFactor&quot;: 1.0, &quot;stroke&quot;: true, &quot;weight&quot;: 3}\n",
       "            ).addTo(map_eb22d1d8e8b115cb94fa7203891f6cd5);\n",
       "        \n",
       "    \n",
       "            var circle_0217e89432cdad6ec6c1571ef68ea5c0 = L.circle(\n",
       "                [37.7653488, -122.4080424],\n",
       "                {&quot;bubblingMouseEvents&quot;: true, &quot;color&quot;: &quot;blue&quot;, &quot;dashArray&quot;: null, &quot;dashOffset&quot;: null, &quot;fill&quot;: true, &quot;fillColor&quot;: &quot;blue&quot;, &quot;fillOpacity&quot;: 0.2, &quot;fillRule&quot;: &quot;evenodd&quot;, &quot;lineCap&quot;: &quot;round&quot;, &quot;lineJoin&quot;: &quot;round&quot;, &quot;opacity&quot;: 1.0, &quot;radius&quot;: 30, &quot;stroke&quot;: true, &quot;weight&quot;: 3}\n",
       "            ).addTo(map_eb22d1d8e8b115cb94fa7203891f6cd5);\n",
       "        \n",
       "    \n",
       "            var poly_line_787ba4f71eb59ed4b85c191957fb53c4 = L.polyline(\n",
       "                [[37.742323500000005, -122.4054034], [37.74238329999999, -122.40536710000002], [37.742323, -122.40519200000001], [37.74213249999999, -122.4046254], [37.7425449, -122.4043553], [37.742340799999994, -122.40399030000002], [37.742036, -122.403451], [37.741886, -122.40318600000002], [37.74158930000001, -122.4026626], [37.740961999999996, -122.40155600000001], [37.74073460000001, -122.40114870000002], [37.7406429, -122.40098450000004], [37.74063030000001, -122.40096190000001], [37.74045209999999, -122.4006427], [37.74043100000001, -122.40060489999999], [37.7403674, -122.40049160000001], [37.740193700000006, -122.40018910000003], [37.7399798, -122.39981800000001], [37.7399134, -122.3996883], [37.739664899999994, -122.3992558], [37.738847, -122.39781], [37.737784, -122.395945], [37.7373323, -122.3951557], [37.7371488, -122.39483290000003], [37.73672899999999, -122.394093], [37.73566100000001, -122.39221400000002], [37.735013499999994, -122.3910675], [37.7348483, -122.39077450000002], [37.7340604, -122.39105370000001], [37.7332644, -122.39132509999999], [37.7328012, -122.39148770000001], [37.73244640000001, -122.3916182], [37.731731499999995, -122.39187020000003], [37.73161790000001, -122.3919103], [37.7309959, -122.3921371], [37.7308515, -122.39218980000001], [37.7307622, -122.3922199], [37.7306523, -122.39225700000001], [37.7300609, -122.39247180000001], [37.7296704, -122.39261690000001], [37.7292753, -122.39275380000002], [37.729081400000005, -122.3928238], [37.728557200000004, -122.3930129], [37.7284624, -122.3928524], [37.7280743, -122.39216240000002], [37.7279684, -122.39225549999999], [37.7277972, -122.39240570000003], [37.7278833, -122.3926034]],\n",
       "                {&quot;bubblingMouseEvents&quot;: true, &quot;color&quot;: &quot;#000000&quot;, &quot;dashArray&quot;: null, &quot;dashOffset&quot;: null, &quot;fill&quot;: false, &quot;fillColor&quot;: &quot;#000000&quot;, &quot;fillOpacity&quot;: 0.2, &quot;fillRule&quot;: &quot;evenodd&quot;, &quot;lineCap&quot;: &quot;round&quot;, &quot;lineJoin&quot;: &quot;round&quot;, &quot;noClip&quot;: false, &quot;opacity&quot;: 1.0, &quot;smoothFactor&quot;: 1.0, &quot;stroke&quot;: true, &quot;weight&quot;: 3}\n",
       "            ).addTo(map_eb22d1d8e8b115cb94fa7203891f6cd5);\n",
       "        \n",
       "    \n",
       "            var circle_0319e08266f0bdaa95a981b0d2bf3f9f = L.circle(\n",
       "                [37.7423091, -122.4054078],\n",
       "                {&quot;bubblingMouseEvents&quot;: true, &quot;color&quot;: &quot;blue&quot;, &quot;dashArray&quot;: null, &quot;dashOffset&quot;: null, &quot;fill&quot;: true, &quot;fillColor&quot;: &quot;blue&quot;, &quot;fillOpacity&quot;: 0.2, &quot;fillRule&quot;: &quot;evenodd&quot;, &quot;lineCap&quot;: &quot;round&quot;, &quot;lineJoin&quot;: &quot;round&quot;, &quot;opacity&quot;: 1.0, &quot;radius&quot;: 30, &quot;stroke&quot;: true, &quot;weight&quot;: 3}\n",
       "            ).addTo(map_eb22d1d8e8b115cb94fa7203891f6cd5);\n",
       "        \n",
       "    \n",
       "            var poly_line_a230d3e85691bb4cbb80dde9995d4d1e = L.polyline(\n",
       "                [[37.7278833, -122.3926034], [37.7277033, -122.39279610000001], [37.7275631, -122.3929314], [37.7277026, -122.3931812], [37.7277867, -122.3933328], [37.7270264, -122.39365400000001], [37.72628679999998, -122.3939964], [37.72592130000001, -122.39419160000001], [37.72554890000001, -122.39435380000002], [37.724732, -122.39471750000001], [37.72433490000001, -122.39487390000001], [37.7239677, -122.39503970000001], [37.723659600000005, -122.39517840000003], [37.723489699999995, -122.3952508], [37.72322689999999, -122.39538940000003], [37.723041, -122.39548350000001], [37.72295530000001, -122.3955253], [37.72282810000001, -122.39558660000002], [37.7224245, -122.39576250000002], [37.7222104, -122.39585870000002], [37.72173709999999, -122.3960672], [37.720968400000004, -122.3964109], [37.7207539, -122.39651570000001], [37.720627, -122.39657590000002], [37.7202911, -122.39675110000002], [37.7189831, -122.39976630000001], [37.71815869999999, -122.39982150000002], [37.71770660000001, -122.39969970000001], [37.7162301, -122.39932199999998], [37.7155368, -122.39919500000002], [37.714901, -122.39929100000002], [37.7135894, -122.4003347], [37.7133734, -122.40054240000002], [37.7130666, -122.40081890000003], [37.71254410000001, -122.4015762], [37.712274400000005, -122.40261350000002], [37.7118273, -122.4033236], [37.7116685, -122.4034417], [37.7112117, -122.4037844], [37.71073390000001, -122.40414370000002], [37.7104461, -122.40434689999998], [37.709238600000006, -122.40508190000001], [37.709176500000005, -122.40511070000001], [37.7091973, -122.405196], [37.7090044, -122.40536900000001], [37.7089468, -122.40539600000001], [37.709035500000006, -122.40572100000001], [37.7091103, -122.405995], [37.709181300000004, -122.4062488], [37.709359400000004, -122.40688830000002], [37.7095997, -122.4077438], [37.70974, -122.40824960000003], [37.709851199999996, -122.40865040000001], [37.709963900000005, -122.4090489], [37.71011870000001, -122.409596], [37.71035909999999, -122.41045950000002], [37.71061060000001, -122.41135910000003], [37.7101337, -122.41156970000003], [37.70966740000001, -122.4117792], [37.7094458, -122.41187780000001], [37.7092138, -122.41198210000002], [37.70910760000001, -122.41202930000001], [37.7086208, -122.4122456], [37.708880400000005, -122.4131766], [37.70845680000001, -122.414057], [37.70850219999999, -122.41421820000001], [37.70692720000001, -122.41491150000002], [37.7068194, -122.41495990000001], [37.70663700000001, -122.41504110000002], [37.7066898, -122.41523090000001]],\n",
       "                {&quot;bubblingMouseEvents&quot;: true, &quot;color&quot;: &quot;#000000&quot;, &quot;dashArray&quot;: null, &quot;dashOffset&quot;: null, &quot;fill&quot;: false, &quot;fillColor&quot;: &quot;#000000&quot;, &quot;fillOpacity&quot;: 0.2, &quot;fillRule&quot;: &quot;evenodd&quot;, &quot;lineCap&quot;: &quot;round&quot;, &quot;lineJoin&quot;: &quot;round&quot;, &quot;noClip&quot;: false, &quot;opacity&quot;: 1.0, &quot;smoothFactor&quot;: 1.0, &quot;stroke&quot;: true, &quot;weight&quot;: 3}\n",
       "            ).addTo(map_eb22d1d8e8b115cb94fa7203891f6cd5);\n",
       "        \n",
       "    \n",
       "            var circle_9fae7d9224fba3764dcdeeb9fc290363 = L.circle(\n",
       "                [37.7279362, -122.3927349],\n",
       "                {&quot;bubblingMouseEvents&quot;: true, &quot;color&quot;: &quot;blue&quot;, &quot;dashArray&quot;: null, &quot;dashOffset&quot;: null, &quot;fill&quot;: true, &quot;fillColor&quot;: &quot;blue&quot;, &quot;fillOpacity&quot;: 0.2, &quot;fillRule&quot;: &quot;evenodd&quot;, &quot;lineCap&quot;: &quot;round&quot;, &quot;lineJoin&quot;: &quot;round&quot;, &quot;opacity&quot;: 1.0, &quot;radius&quot;: 30, &quot;stroke&quot;: true, &quot;weight&quot;: 3}\n",
       "            ).addTo(map_eb22d1d8e8b115cb94fa7203891f6cd5);\n",
       "        \n",
       "    \n",
       "            var poly_line_b9e0f789d1a5082979f7d25459e28e7f = L.polyline(\n",
       "                [[37.7066898, -122.41523090000001], [37.70663700000001, -122.41504110000002], [37.7068194, -122.41495990000001], [37.7066811, -122.41446790000003], [37.706672299999994, -122.4144365], [37.7066403, -122.4143228], [37.7065821, -122.41411560000002], [37.706484999999994, -122.41376990000002], [37.7063408, -122.4132569], [37.7062275, -122.4128539], [37.7059959, -122.41180600000001], [37.70584010000001, -122.41125180000002], [37.7058297, -122.41121470000002], [37.7054094, -122.40971039999998], [37.7052279, -122.409061], [37.705136100000004, -122.4087328], [37.70493470000001, -122.4082439], [37.704616, -122.40709410000001], [37.702332199999994, -122.40829280000001], [37.70212109999999, -122.4083126], [37.7013811, -122.40848360000001], [37.70131500000001, -122.4084901], [37.7009642, -122.4085733], [37.7005374, -122.40853210000002], [37.700200200000005, -122.40844960000001], [37.6999139, -122.4083459], [37.69801840000001, -122.4073706], [37.69485960000001, -122.40580220000001], [37.6947424, -122.40574520000001], [37.69431860000001, -122.40553530000001], [37.6942178, -122.40548570000001], [37.693649900000004, -122.4052035], [37.6934853, -122.40512170000002], [37.693185099999994, -122.4049723], [37.6927977, -122.4047844], [37.6925025, -122.40464], [37.6920915, -122.40443270000003], [37.6919618, -122.40436810000001], [37.6906634, -122.4037073], [37.6880834, -122.40160240000002], [37.687567, -122.4010359], [37.687287, -122.40068290000002], [37.6870056, -122.40032670000002], [37.686238700000004, -122.39935020000001], [37.685880299999994, -122.39884930000002], [37.685421600000005, -122.39826650000002], [37.685366, -122.3981946], [37.6851324, -122.39789230000002], [37.6839864, -122.39647830000001], [37.6829466, -122.3955748], [37.6816965, -122.39474470000003], [37.6816254, -122.39471599999999], [37.681073, -122.39453230000002], [37.6803504, -122.394377], [37.680144999999996, -122.39433320000002], [37.6799163, -122.3942824], [37.67957570000001, -122.3941921], [37.679305400000004, -122.3940974], [37.6787504, -122.3938464], [37.6776611, -122.39308100000001], [37.6775845, -122.39301200000003], [37.67744209999999, -122.3928761], [37.67726110000001, -122.39270200000001], [37.6770582, -122.3925059], [37.676274600000006, -122.39174930000001], [37.676005, -122.3914906], [37.670546, -122.39273620000002], [37.6692777, -122.3938707], [37.668601499999994, -122.3947059], [37.66849700000001, -122.39483080000002], [37.668238900000006, -122.3952061], [37.6677824, -122.3958355], [37.667048, -122.39640300000002], [37.6664632, -122.39688390000002], [37.666367999999984, -122.39697800000003], [37.66520920000001, -122.39824740000003], [37.66516969999999, -122.39829310000002], [37.6644322, -122.39915440000003], [37.66433200000001, -122.39928510000001], [37.664182, -122.3992126], [37.66406739999999, -122.39915850000001], [37.663711500000005, -122.39896060000002], [37.6635321, -122.39886130000001], [37.66346819999999, -122.39882480000001], [37.66338669999999, -122.39877950000002], [37.6632529, -122.39870180000001], [37.6631289, -122.39864570000002], [37.66304760000001, -122.398609], [37.66289799999999, -122.39854190000001], [37.6623412, -122.39809670000001], [37.6621439, -122.39686520000001], [37.66220529999999, -122.39607180000002], [37.6621448, -122.39606680000001], [37.661429500000004, -122.3960087], [37.6603132, -122.3961821], [37.65990479999999, -122.3964653], [37.65983150000001, -122.39653239999998], [37.65908639999999, -122.3972544], [37.65869670000001, -122.39763410000002], [37.6579001, -122.39891280000002], [37.657683799999994, -122.3994848], [37.65711900000001, -122.40058720000002], [37.65684350000001, -122.400883], [37.6567945, -122.40092989999998], [37.6557528, -122.40191820000001], [37.655287, -122.40214820000001], [37.6549849, -122.4022267], [37.6546424, -122.4022585], [37.6544932, -122.40226910000001], [37.65329869999999, -122.40226850000002], [37.65283180000001, -122.40234100000002], [37.6508908, -122.40423130000002], [37.650808, -122.40435470000001], [37.6500558, -122.4052258], [37.649975600000005, -122.40530920000002], [37.6497078, -122.405556], [37.6496365, -122.40560120000002], [37.649242099999995, -122.40563689999999], [37.649122500000004, -122.40563780000001], [37.64872750000001, -122.40563820000001], [37.6485318, -122.4056365], [37.6483561, -122.4056322], [37.6481246, -122.4056295], [37.647846699999995, -122.40562640000002], [37.6476728, -122.40562410000001], [37.647272199999996, -122.40561050000001], [37.646808199999995, -122.40559740000003], [37.646719899999994, -122.4055906], [37.6465428, -122.40557370000003], [37.646300600000004, -122.40553], [37.6460824, -122.40545120000002], [37.645862900000004, -122.40533389999999], [37.645690300000005, -122.40523130000001], [37.6455868, -122.40516940000002], [37.6451471, -122.40490620000003], [37.6443639, -122.4044318], [37.64411489999999, -122.4042822], [37.644068, -122.404254], [37.6438741, -122.4041375], [37.6436133, -122.40398070000002], [37.6436589, -122.40386210000003], [37.64385939999999, -122.40334860000002], [37.6442101, -122.40284460000001], [37.64412719999999, -122.40346900000002]],\n",
       "                {&quot;bubblingMouseEvents&quot;: true, &quot;color&quot;: &quot;#000000&quot;, &quot;dashArray&quot;: null, &quot;dashOffset&quot;: null, &quot;fill&quot;: false, &quot;fillColor&quot;: &quot;#000000&quot;, &quot;fillOpacity&quot;: 0.2, &quot;fillRule&quot;: &quot;evenodd&quot;, &quot;lineCap&quot;: &quot;round&quot;, &quot;lineJoin&quot;: &quot;round&quot;, &quot;noClip&quot;: false, &quot;opacity&quot;: 1.0, &quot;smoothFactor&quot;: 1.0, &quot;stroke&quot;: true, &quot;weight&quot;: 3}\n",
       "            ).addTo(map_eb22d1d8e8b115cb94fa7203891f6cd5);\n",
       "        \n",
       "    \n",
       "            var circle_3ad7c7ef130734f43862123866ca9fa1 = L.circle(\n",
       "                [37.7066135, -122.4153208],\n",
       "                {&quot;bubblingMouseEvents&quot;: true, &quot;color&quot;: &quot;blue&quot;, &quot;dashArray&quot;: null, &quot;dashOffset&quot;: null, &quot;fill&quot;: true, &quot;fillColor&quot;: &quot;blue&quot;, &quot;fillOpacity&quot;: 0.2, &quot;fillRule&quot;: &quot;evenodd&quot;, &quot;lineCap&quot;: &quot;round&quot;, &quot;lineJoin&quot;: &quot;round&quot;, &quot;opacity&quot;: 1.0, &quot;radius&quot;: 30, &quot;stroke&quot;: true, &quot;weight&quot;: 3}\n",
       "            ).addTo(map_eb22d1d8e8b115cb94fa7203891f6cd5);\n",
       "        \n",
       "    \n",
       "            var poly_line_11cf3b17e5c577ecad57501b0be439d8 = L.polyline(\n",
       "                [[37.64412719999999, -122.40346900000002], [37.6439186, -122.40401640000002], [37.64411390000001, -122.40413260000001], [37.6444112, -122.40430730000003], [37.6447497, -122.40450610000002], [37.64476340000001, -122.40451420000001], [37.6451918, -122.40477170000001], [37.6458673, -122.4051739], [37.646760300000004, -122.40544330000002], [37.647346, -122.40545030000001], [37.647865599999996, -122.40544440000001], [37.6481246, -122.40544420000002], [37.64835320000001, -122.40544400000002], [37.6485594, -122.4054439], [37.648648, -122.40544380000003], [37.6487253, -122.40544520000002], [37.6491251, -122.405445], [37.64920810000001, -122.4054451], [37.6495492, -122.40543910000002], [37.6496269, -122.40541720000002], [37.6497078, -122.405556], [37.64982909999999, -122.40578510000002], [37.6499565, -122.4060298], [37.6500003, -122.40723890000002], [37.6498956, -122.4075619], [37.6501369, -122.40837800000001], [37.6504196, -122.40857599999998], [37.65114809999999, -122.40890060000001], [37.651676300000005, -122.40896490000003], [37.6530377, -122.4085139], [37.6532451, -122.40841180000001], [37.653690299999994, -122.40817920000002], [37.6537289, -122.40835420000002], [37.653821300000004, -122.4087726], [37.6538492, -122.40889880000002], [37.65388699999999, -122.40907039999999], [37.6540577, -122.40984330000003], [37.6541183, -122.41011820000003], [37.6541935, -122.41045900000003], [37.6540362, -122.4105221], [37.6538925, -122.41057980000001], [37.6538562, -122.41059299999999], [37.6537902, -122.4106169], [37.65371679999999, -122.41064360000003], [37.6533604, -122.41076680000003], [37.65323120000001, -122.41080790000001], [37.65276459999999, -122.41097090000002], [37.65236929999999, -122.41111510000002], [37.65289279999999, -122.41347259999999], [37.653451100000005, -122.41608110000001], [37.6535973, -122.4167524], [37.653651499999995, -122.41700160000003], [37.65390490000001, -122.41813560000001], [37.6539903, -122.41851770000002], [37.654115, -122.41907610000003], [37.6541328, -122.41915590000002], [37.6544414, -122.420529], [37.65469230000001, -122.4216549], [37.655214400000006, -122.42404550000002], [37.65499259999999, -122.42420310000001], [37.6535991, -122.42547569999999], [37.6534068, -122.42564480000003], [37.65333979999999, -122.42571110000003], [37.65323670000001, -122.42580670000001], [37.6525201, -122.42646940000002], [37.6524493, -122.42653390000001], [37.652268, -122.42669100000002], [37.65197049999999, -122.42695340000002], [37.6517812, -122.42712160000002], [37.65163340000001, -122.42729780000002], [37.65141729999999, -122.42772360000001], [37.6513139, -122.42799020000001], [37.651268599999995, -122.42810720000001], [37.6509492, -122.42889680000002], [37.64957369999999, -122.42804300000002], [37.6495225, -122.4281758], [37.6492687, -122.42881890000001], [37.649177300000005, -122.428775], [37.64887890000001, -122.42917100000003], [37.6487379, -122.42952660000002], [37.64865210000001, -122.42967460000001], [37.648442, -122.43011160000002], [37.648343399999995, -122.4300408], [37.648274400000005, -122.4299912]],\n",
       "                {&quot;bubblingMouseEvents&quot;: true, &quot;color&quot;: &quot;#000000&quot;, &quot;dashArray&quot;: null, &quot;dashOffset&quot;: null, &quot;fill&quot;: false, &quot;fillColor&quot;: &quot;#000000&quot;, &quot;fillOpacity&quot;: 0.2, &quot;fillRule&quot;: &quot;evenodd&quot;, &quot;lineCap&quot;: &quot;round&quot;, &quot;lineJoin&quot;: &quot;round&quot;, &quot;noClip&quot;: false, &quot;opacity&quot;: 1.0, &quot;smoothFactor&quot;: 1.0, &quot;stroke&quot;: true, &quot;weight&quot;: 3}\n",
       "            ).addTo(map_eb22d1d8e8b115cb94fa7203891f6cd5);\n",
       "        \n",
       "    \n",
       "            var circle_516d4ea7da6f930db5cd36964fffd6be = L.circle(\n",
       "                [37.6439763, -122.4036196],\n",
       "                {&quot;bubblingMouseEvents&quot;: true, &quot;color&quot;: &quot;blue&quot;, &quot;dashArray&quot;: null, &quot;dashOffset&quot;: null, &quot;fill&quot;: true, &quot;fillColor&quot;: &quot;blue&quot;, &quot;fillOpacity&quot;: 0.2, &quot;fillRule&quot;: &quot;evenodd&quot;, &quot;lineCap&quot;: &quot;round&quot;, &quot;lineJoin&quot;: &quot;round&quot;, &quot;opacity&quot;: 1.0, &quot;radius&quot;: 30, &quot;stroke&quot;: true, &quot;weight&quot;: 3}\n",
       "            ).addTo(map_eb22d1d8e8b115cb94fa7203891f6cd5);\n",
       "        \n",
       "    \n",
       "            var poly_line_524d10e775599f1c2bdb9285fb39e01f = L.polyline(\n",
       "                [[37.648274400000005, -122.4299912], [37.648343399999995, -122.4300408], [37.648442, -122.43011160000002], [37.6483725, -122.4302562], [37.6481197, -122.43071650000002], [37.6477272, -122.43143090000001], [37.64650220000001, -122.43372710000003], [37.6464765, -122.43376840000002], [37.646142700000006, -122.43439850000001], [37.645826299999996, -122.43498010000002], [37.645399, -122.43575650000002], [37.64425500000001, -122.43717270000002], [37.6436702, -122.4367118], [37.64225880000001, -122.43869080000002], [37.641633600000006, -122.43823110000002], [37.6403968, -122.4408794], [37.640178000000006, -122.44144840000001], [37.6430074, -122.4444951], [37.6454858, -122.44783750000003], [37.64603280000001, -122.44832770000001], [37.64620169999999, -122.44848430000002], [37.6461159, -122.44860340000001], [37.645798199999994, -122.44905510000002], [37.64502389999999, -122.44993250000002], [37.64426250000001, -122.451239], [37.64405179999999, -122.45168230000002], [37.6439355, -122.4519278], [37.644466, -122.45232639999999], [37.644703799999995, -122.45253790000001], [37.64464200000001, -122.45310710000001], [37.6445559, -122.45362520000002], [37.6445208, -122.45375899999999], [37.6443363, -122.45407740000002], [37.6442627, -122.453917], [37.64395400000001, -122.45402900000002], [37.6438531, -122.4539767], [37.643967800000006, -122.45367360000003]],\n",
       "                {&quot;bubblingMouseEvents&quot;: true, &quot;color&quot;: &quot;#000000&quot;, &quot;dashArray&quot;: null, &quot;dashOffset&quot;: null, &quot;fill&quot;: false, &quot;fillColor&quot;: &quot;#000000&quot;, &quot;fillOpacity&quot;: 0.2, &quot;fillRule&quot;: &quot;evenodd&quot;, &quot;lineCap&quot;: &quot;round&quot;, &quot;lineJoin&quot;: &quot;round&quot;, &quot;noClip&quot;: false, &quot;opacity&quot;: 1.0, &quot;smoothFactor&quot;: 1.0, &quot;stroke&quot;: true, &quot;weight&quot;: 3}\n",
       "            ).addTo(map_eb22d1d8e8b115cb94fa7203891f6cd5);\n",
       "        \n",
       "    \n",
       "            var circle_24a0a7b629ac34004dc76017a0d24d42 = L.circle(\n",
       "                [37.6480312, -122.4298025],\n",
       "                {&quot;bubblingMouseEvents&quot;: true, &quot;color&quot;: &quot;blue&quot;, &quot;dashArray&quot;: null, &quot;dashOffset&quot;: null, &quot;fill&quot;: true, &quot;fillColor&quot;: &quot;blue&quot;, &quot;fillOpacity&quot;: 0.2, &quot;fillRule&quot;: &quot;evenodd&quot;, &quot;lineCap&quot;: &quot;round&quot;, &quot;lineJoin&quot;: &quot;round&quot;, &quot;opacity&quot;: 1.0, &quot;radius&quot;: 30, &quot;stroke&quot;: true, &quot;weight&quot;: 3}\n",
       "            ).addTo(map_eb22d1d8e8b115cb94fa7203891f6cd5);\n",
       "        \n",
       "    \n",
       "            var poly_line_c353e6f8ec565b557430109aec18681f = L.polyline(\n",
       "                [[37.643967800000006, -122.45367360000003], [37.6438531, -122.4539767], [37.6436418, -122.45423830000003], [37.6435056, -122.45491479999998], [37.6431276, -122.45479470000001], [37.643067800000004, -122.4548051], [37.6428196, -122.4548575], [37.6428067, -122.45486], [37.6426457, -122.45501510000003], [37.6428626, -122.45642880000003], [37.6429851, -122.45671290000003], [37.64319809999999, -122.4572086], [37.6434737, -122.45969900000001], [37.64336250000001, -122.46029090000002], [37.6429367, -122.4616001], [37.6427702, -122.46209400000001], [37.6427328, -122.46221130000002], [37.642659300000005, -122.4624404], [37.6423779, -122.46302320000001], [37.6397392, -122.4631226], [37.639417699999996, -122.46318630000002], [37.63934410000001, -122.46323830000001], [37.6389315, -122.46404890000002], [37.63996670000001, -122.46498270000001], [37.64120880000001, -122.4661769], [37.6421728, -122.46713660000003], [37.64543249999999, -122.47021680000002], [37.6461537, -122.47084490000003], [37.64605600000001, -122.47116850000002], [37.6460359, -122.47123510000002], [37.6460108, -122.47131820000001], [37.6459604, -122.4714854], [37.6458538, -122.4718384], [37.64571860000001, -122.47228660000003], [37.64548810000001, -122.47313960000002], [37.6454608, -122.4735242], [37.6453414, -122.47407510000002], [37.6460383, -122.47692140000002], [37.646091500000004, -122.47788180000002], [37.64611020000002, -122.47803640000001], [37.646809000000005, -122.48049000000002], [37.6479989, -122.483286], [37.6480844, -122.4833501], [37.648556299999996, -122.4835008], [37.648891000000006, -122.48358260000002], [37.648998799999994, -122.48363600000002], [37.6492749, -122.48537170000002], [37.64897880000001, -122.4863068], [37.6488371, -122.48718150000003], [37.6489279, -122.48793740000002], [37.6490184, -122.488691], [37.64911970000001, -122.48944450000002], [37.6491614, -122.48956340000001], [37.649181999999996, -122.4897435], [37.6492087, -122.48997680000001], [37.6492273, -122.49013960000002], [37.649278200000005, -122.4905702], [37.6492834, -122.49065320000003], [37.6492871, -122.49105470000002], [37.649286, -122.4911421], [37.6494367, -122.49110720000002], [37.6497549, -122.49103930000003], [37.6510304, -122.4907563], [37.6516135, -122.49070919999998], [37.6517789, -122.4908131], [37.651967500000005, -122.49085170000001], [37.65234, -122.4908692], [37.65235340000001, -122.49099170000002], [37.652419900000005, -122.49155800000001], [37.65232160000001, -122.49157620000001], [37.65214470000001, -122.4914785]],\n",
       "                {&quot;bubblingMouseEvents&quot;: true, &quot;color&quot;: &quot;#000000&quot;, &quot;dashArray&quot;: null, &quot;dashOffset&quot;: null, &quot;fill&quot;: false, &quot;fillColor&quot;: &quot;#000000&quot;, &quot;fillOpacity&quot;: 0.2, &quot;fillRule&quot;: &quot;evenodd&quot;, &quot;lineCap&quot;: &quot;round&quot;, &quot;lineJoin&quot;: &quot;round&quot;, &quot;noClip&quot;: false, &quot;opacity&quot;: 1.0, &quot;smoothFactor&quot;: 1.0, &quot;stroke&quot;: true, &quot;weight&quot;: 3}\n",
       "            ).addTo(map_eb22d1d8e8b115cb94fa7203891f6cd5);\n",
       "        \n",
       "    \n",
       "            var circle_acd40bdd53bc422d83ceecdd01b9ce34 = L.circle(\n",
       "                [37.6437828, -122.453704],\n",
       "                {&quot;bubblingMouseEvents&quot;: true, &quot;color&quot;: &quot;blue&quot;, &quot;dashArray&quot;: null, &quot;dashOffset&quot;: null, &quot;fill&quot;: true, &quot;fillColor&quot;: &quot;blue&quot;, &quot;fillOpacity&quot;: 0.2, &quot;fillRule&quot;: &quot;evenodd&quot;, &quot;lineCap&quot;: &quot;round&quot;, &quot;lineJoin&quot;: &quot;round&quot;, &quot;opacity&quot;: 1.0, &quot;radius&quot;: 30, &quot;stroke&quot;: true, &quot;weight&quot;: 3}\n",
       "            ).addTo(map_eb22d1d8e8b115cb94fa7203891f6cd5);\n",
       "        \n",
       "    \n",
       "            var poly_line_24c4738733bad2924d82a1f4be36a9d7 = L.polyline(\n",
       "                [[37.65214470000001, -122.4914785], [37.65235340000001, -122.49099170000002], [37.65234, -122.4908692], [37.651967500000005, -122.49085170000001], [37.6517789, -122.4908131], [37.65142049999999, -122.4907962], [37.65132979999999, -122.4907795], [37.6512373, -122.4907684], [37.6510304, -122.4907563], [37.6497549, -122.49103930000003], [37.6494367, -122.49110720000002], [37.649286, -122.4911421], [37.6492871, -122.49105470000002], [37.6492834, -122.49065320000003], [37.649278200000005, -122.4905702], [37.6492273, -122.49013960000002], [37.6492087, -122.48997680000001], [37.649181999999996, -122.4897435], [37.6491614, -122.48956340000001], [37.64911970000001, -122.48944450000002], [37.6490184, -122.488691], [37.6489279, -122.48793740000002], [37.6488371, -122.48718150000003], [37.64897880000001, -122.4863068], [37.6492749, -122.48537170000002], [37.6505454, -122.48513340000002], [37.6504447, -122.4843033], [37.6511801, -122.48418060000002], [37.6511048, -122.48353520000002], [37.650858, -122.481459], [37.650922200000004, -122.48121339999999], [37.651448800000004, -122.4811781], [37.6516482, -122.48133010000001], [37.65189219999999, -122.48151820000001], [37.652195899999995, -122.48175230000001], [37.653617, -122.48152010000001], [37.6539904, -122.48081260000001], [37.65408269999999, -122.48061150000001], [37.65433689999999, -122.48008470000002], [37.6546405, -122.47954550000001], [37.65528210000001, -122.47900690000002], [37.6576142, -122.47901700000003], [37.658995499999996, -122.4785733], [37.659339499999994, -122.47832479999998], [37.65953390000001, -122.47815820000001], [37.659689, -122.47800430000001], [37.6598551, -122.4778007], [37.6599573, -122.4776751], [37.6600545, -122.4775571], [37.66048030000001, -122.4766858], [37.66048090000001, -122.47656330000001], [37.660509999999995, -122.47590750000003], [37.6605117, -122.4757641], [37.6606685, -122.4754219], [37.6634368, -122.47574160000003], [37.6642069, -122.47565600000001], [37.664489, -122.47551730000002], [37.66457869999999, -122.47546500000003], [37.6650112, -122.4750326], [37.6652251, -122.47467590000001], [37.6653166, -122.4747472], [37.666297400000005, -122.47525670000002], [37.6674841, -122.47506690000003], [37.66866099999999, -122.47527530000002], [37.6688045, -122.4752841], [37.6691699, -122.47512370000003], [37.6693939, -122.47474970000003], [37.66925530000001, -122.47214960000002], [37.6691594, -122.47106600000001], [37.6691126, -122.47054210000002], [37.6690843, -122.47014450000002]],\n",
       "                {&quot;bubblingMouseEvents&quot;: true, &quot;color&quot;: &quot;#000000&quot;, &quot;dashArray&quot;: null, &quot;dashOffset&quot;: null, &quot;fill&quot;: false, &quot;fillColor&quot;: &quot;#000000&quot;, &quot;fillOpacity&quot;: 0.2, &quot;fillRule&quot;: &quot;evenodd&quot;, &quot;lineCap&quot;: &quot;round&quot;, &quot;lineJoin&quot;: &quot;round&quot;, &quot;noClip&quot;: false, &quot;opacity&quot;: 1.0, &quot;smoothFactor&quot;: 1.0, &quot;stroke&quot;: true, &quot;weight&quot;: 3}\n",
       "            ).addTo(map_eb22d1d8e8b115cb94fa7203891f6cd5);\n",
       "        \n",
       "    \n",
       "            var circle_0f0f8a4535f89ed0e02da171bd15acf3 = L.circle(\n",
       "                [37.6521849, -122.4912604],\n",
       "                {&quot;bubblingMouseEvents&quot;: true, &quot;color&quot;: &quot;blue&quot;, &quot;dashArray&quot;: null, &quot;dashOffset&quot;: null, &quot;fill&quot;: true, &quot;fillColor&quot;: &quot;blue&quot;, &quot;fillOpacity&quot;: 0.2, &quot;fillRule&quot;: &quot;evenodd&quot;, &quot;lineCap&quot;: &quot;round&quot;, &quot;lineJoin&quot;: &quot;round&quot;, &quot;opacity&quot;: 1.0, &quot;radius&quot;: 30, &quot;stroke&quot;: true, &quot;weight&quot;: 3}\n",
       "            ).addTo(map_eb22d1d8e8b115cb94fa7203891f6cd5);\n",
       "        \n",
       "    \n",
       "            var poly_line_7bfa2531eb190be65bd2c633445ff2bd = L.polyline(\n",
       "                [[37.6690843, -122.47014450000002], [37.6690701, -122.46958520000003], [37.66907750000001, -122.4692808], [37.66908730000001, -122.46899600000002], [37.66909810000001, -122.46882000000001], [37.66922350000001, -122.46884100000001], [37.6694616, -122.46886530000002], [37.669846, -122.4688616], [37.6707119, -122.46880460000001], [37.671010700000004, -122.46859330000002], [37.6712171, -122.46800840000002], [37.6713539, -122.46776430000003], [37.6715165, -122.46770930000001], [37.6716598, -122.46772250000001], [37.67181870000001, -122.4677748], [37.6719656, -122.46783750000003], [37.6721212, -122.46791150000001], [37.67229410000001, -122.46799870000002], [37.672473700000005, -122.46808550000002], [37.672619, -122.46816140000001], [37.6727868, -122.46825980000001], [37.6728312, -122.4682866], [37.673511899999994, -122.46870140000001], [37.6737469, -122.4689255], [37.67397009999999, -122.47006269999999], [37.6741564, -122.47003710000003], [37.6743479, -122.4701085], [37.67451259999999, -122.47007290000002], [37.6745236, -122.47023220000001], [37.6746286, -122.47022410000001]],\n",
       "                {&quot;bubblingMouseEvents&quot;: true, &quot;color&quot;: &quot;#000000&quot;, &quot;dashArray&quot;: null, &quot;dashOffset&quot;: null, &quot;fill&quot;: false, &quot;fillColor&quot;: &quot;#000000&quot;, &quot;fillOpacity&quot;: 0.2, &quot;fillRule&quot;: &quot;evenodd&quot;, &quot;lineCap&quot;: &quot;round&quot;, &quot;lineJoin&quot;: &quot;round&quot;, &quot;noClip&quot;: false, &quot;opacity&quot;: 1.0, &quot;smoothFactor&quot;: 1.0, &quot;stroke&quot;: true, &quot;weight&quot;: 3}\n",
       "            ).addTo(map_eb22d1d8e8b115cb94fa7203891f6cd5);\n",
       "        \n",
       "    \n",
       "            var circle_6aea41dec3e4133b7a720fe3419f0768 = L.circle(\n",
       "                [37.6689781, -122.4701237],\n",
       "                {&quot;bubblingMouseEvents&quot;: true, &quot;color&quot;: &quot;blue&quot;, &quot;dashArray&quot;: null, &quot;dashOffset&quot;: null, &quot;fill&quot;: true, &quot;fillColor&quot;: &quot;blue&quot;, &quot;fillOpacity&quot;: 0.2, &quot;fillRule&quot;: &quot;evenodd&quot;, &quot;lineCap&quot;: &quot;round&quot;, &quot;lineJoin&quot;: &quot;round&quot;, &quot;opacity&quot;: 1.0, &quot;radius&quot;: 30, &quot;stroke&quot;: true, &quot;weight&quot;: 3}\n",
       "            ).addTo(map_eb22d1d8e8b115cb94fa7203891f6cd5);\n",
       "        \n",
       "    \n",
       "            var poly_line_4230238765d0c68e54d8fd89c32d6563 = L.polyline(\n",
       "                [[37.6746286, -122.47022410000001], [37.6745236, -122.47023220000001], [37.6745309, -122.47033780000001], [37.6745459, -122.470571], [37.67455929999999, -122.47078880000001], [37.6753257, -122.47064310000002], [37.675487800000006, -122.47111490000002], [37.675710800000004, -122.47177019999998], [37.67574030000001, -122.47186430000001], [37.6757519, -122.4719043], [37.675837400000006, -122.47337550000002], [37.67631180000001, -122.47336950000002], [37.6763461, -122.47335760000001], [37.6788188, -122.4730673], [37.6789085, -122.4730658], [37.680356100000004, -122.47292910000002], [37.6816805, -122.4727147], [37.68176989999999, -122.4726982], [37.6819976, -122.4726577], [37.682333, -122.472553], [37.6824439, -122.4724984], [37.6833615, -122.4721942], [37.68377530000001, -122.47219270000002], [37.6840898, -122.47219470000003], [37.6844101, -122.47219740000001], [37.684555399999994, -122.47219230000003], [37.6848763, -122.4721906], [37.6851876, -122.47219030000002], [37.686027200000005, -122.4722341], [37.6863709, -122.4722358], [37.68656210000001, -122.4722368], [37.68698680000001, -122.47224260000002], [37.687026700000004, -122.47224370000002], [37.6871537, -122.47224620000001], [37.68735949999999, -122.47223690000001], [37.6874809, -122.4722368], [37.6875118, -122.47223669999998], [37.6876549, -122.4722365], [37.6878965, -122.4722362], [37.6885605, -122.4722358], [37.68858389999999, -122.47223550000001], [37.6893985, -122.47225700000001], [37.689717599999994, -122.472242], [37.69041030000001, -122.47220700000001], [37.6908138, -122.47220960000001], [37.6911194, -122.47221], [37.69183820000001, -122.47222100000002], [37.692061200000005, -122.47222300000003], [37.69239340000001, -122.47222499999998], [37.692553499999995, -122.472226], [37.69255429999999, -122.47203740000002], [37.69255509999999, -122.47185360000003], [37.69244750000001, -122.471851], [37.6922849, -122.47175640000003], [37.69223780000001, -122.47114820000002]],\n",
       "                {&quot;bubblingMouseEvents&quot;: true, &quot;color&quot;: &quot;#000000&quot;, &quot;dashArray&quot;: null, &quot;dashOffset&quot;: null, &quot;fill&quot;: false, &quot;fillColor&quot;: &quot;#000000&quot;, &quot;fillOpacity&quot;: 0.2, &quot;fillRule&quot;: &quot;evenodd&quot;, &quot;lineCap&quot;: &quot;round&quot;, &quot;lineJoin&quot;: &quot;round&quot;, &quot;noClip&quot;: false, &quot;opacity&quot;: 1.0, &quot;smoothFactor&quot;: 1.0, &quot;stroke&quot;: true, &quot;weight&quot;: 3}\n",
       "            ).addTo(map_eb22d1d8e8b115cb94fa7203891f6cd5);\n",
       "        \n",
       "    \n",
       "            var circle_5e86bfbc0e6704f4ecfc65e465af2abf = L.circle(\n",
       "                [37.6746775, -122.470338],\n",
       "                {&quot;bubblingMouseEvents&quot;: true, &quot;color&quot;: &quot;blue&quot;, &quot;dashArray&quot;: null, &quot;dashOffset&quot;: null, &quot;fill&quot;: true, &quot;fillColor&quot;: &quot;blue&quot;, &quot;fillOpacity&quot;: 0.2, &quot;fillRule&quot;: &quot;evenodd&quot;, &quot;lineCap&quot;: &quot;round&quot;, &quot;lineJoin&quot;: &quot;round&quot;, &quot;opacity&quot;: 1.0, &quot;radius&quot;: 30, &quot;stroke&quot;: true, &quot;weight&quot;: 3}\n",
       "            ).addTo(map_eb22d1d8e8b115cb94fa7203891f6cd5);\n",
       "        \n",
       "    \n",
       "            var poly_line_227b60b2cc6b97f40754eec37c94b114 = L.polyline(\n",
       "                [[37.69223780000001, -122.47114820000002], [37.69223730000001, -122.47103770000001], [37.6924246, -122.47103930000002], [37.692559700000004, -122.47103500000001], [37.6928274, -122.47103940000002], [37.6928799, -122.4710403], [37.6929654, -122.4710406], [37.6932873, -122.47104170000001], [37.69369819999999, -122.4710469], [37.69385470000001, -122.47105110000003], [37.6940894, -122.47105730000001], [37.69436559999999, -122.47106470000001], [37.6947373, -122.47107260000001], [37.6947773, -122.47107190000001], [37.69503180000001, -122.47103430000003], [37.6952403, -122.47094380000001], [37.6954299, -122.4707939], [37.6961347, -122.47025690000001], [37.6963355, -122.4702195], [37.6970132, -122.47035470000003], [37.6972519, -122.470458], [37.69762709999999, -122.47062159999999], [37.6979675, -122.47069130000001], [37.698196, -122.47070700000002], [37.69858090000001, -122.4707154], [37.6989926, -122.4707183], [37.69908170000001, -122.4707192], [37.699205000000006, -122.47072000000001], [37.6994735, -122.47072200000002], [37.7005616, -122.47073090000004], [37.700900399999995, -122.4707328], [37.7020914, -122.4707471], [37.70280559999999, -122.4707643], [37.7039479, -122.47076190000003], [37.70432410000001, -122.470764], [37.7049924, -122.47076960000001], [37.7051543, -122.47077100000001], [37.7054778, -122.4707928], [37.706261, -122.47080490000002], [37.70689660000001, -122.47084420000002], [37.707047, -122.47085480000001], [37.70865620000001, -122.4710505], [37.7092142, -122.47106480000001], [37.70994970000001, -122.4710739], [37.7101728, -122.47107700000002], [37.7106588, -122.4710829], [37.71254090000001, -122.47116649999998], [37.7129786, -122.47123240000002], [37.71422810000001, -122.4715158], [37.7160259, -122.47217240000002], [37.7162953, -122.4722692], [37.716323900000006, -122.47227970000003], [37.7163741, -122.47229610000001], [37.71691260000001, -122.47243380000002], [37.7169688, -122.4724465], [37.717175700000006, -122.47249740000001], [37.7174593, -122.47268780000002], [37.7179353, -122.47317209999999], [37.71810090000001, -122.47333560000001], [37.7195545, -122.47472200000001], [37.720396300000004, -122.47513700000002], [37.7210137, -122.47509780000003], [37.7211045, -122.47509120000001], [37.7215962, -122.47506169999998], [37.72491449999999, -122.47490989999999], [37.726099600000005, -122.47482220000002], [37.7269199, -122.47477640000001], [37.7269885, -122.4750515], [37.7270081, -122.47538000000002], [37.7270106, -122.47544130000003], [37.72701450000001, -122.47555910000001], [37.7270134, -122.47606100000002], [37.7269197, -122.47606620000003], [37.7267303, -122.47607670000001], [37.7265755, -122.4760853], [37.7264384, -122.476093]],\n",
       "                {&quot;bubblingMouseEvents&quot;: true, &quot;color&quot;: &quot;#000000&quot;, &quot;dashArray&quot;: null, &quot;dashOffset&quot;: null, &quot;fill&quot;: false, &quot;fillColor&quot;: &quot;#000000&quot;, &quot;fillOpacity&quot;: 0.2, &quot;fillRule&quot;: &quot;evenodd&quot;, &quot;lineCap&quot;: &quot;round&quot;, &quot;lineJoin&quot;: &quot;round&quot;, &quot;noClip&quot;: false, &quot;opacity&quot;: 1.0, &quot;smoothFactor&quot;: 1.0, &quot;stroke&quot;: true, &quot;weight&quot;: 3}\n",
       "            ).addTo(map_eb22d1d8e8b115cb94fa7203891f6cd5);\n",
       "        \n",
       "    \n",
       "            var circle_37beae4e9746ec31479dc24bc6cc9611 = L.circle(\n",
       "                [37.6921553, -122.4713319],\n",
       "                {&quot;bubblingMouseEvents&quot;: true, &quot;color&quot;: &quot;blue&quot;, &quot;dashArray&quot;: null, &quot;dashOffset&quot;: null, &quot;fill&quot;: true, &quot;fillColor&quot;: &quot;blue&quot;, &quot;fillOpacity&quot;: 0.2, &quot;fillRule&quot;: &quot;evenodd&quot;, &quot;lineCap&quot;: &quot;round&quot;, &quot;lineJoin&quot;: &quot;round&quot;, &quot;opacity&quot;: 1.0, &quot;radius&quot;: 30, &quot;stroke&quot;: true, &quot;weight&quot;: 3}\n",
       "            ).addTo(map_eb22d1d8e8b115cb94fa7203891f6cd5);\n",
       "        \n",
       "    \n",
       "            var rectangle_3a4e1470123be04c2b2db6519cd559f8 = L.rectangle(\n",
       "                [[37.6311, -122.514], [37.812, -122.3781]],\n",
       "                {&quot;bubblingMouseEvents&quot;: true, &quot;color&quot;: &quot;blue&quot;, &quot;dashArray&quot;: null, &quot;dashOffset&quot;: null, &quot;fill&quot;: false, &quot;fillColor&quot;: &quot;blue&quot;, &quot;fillOpacity&quot;: 0.2, &quot;fillRule&quot;: &quot;evenodd&quot;, &quot;lineCap&quot;: &quot;round&quot;, &quot;lineJoin&quot;: &quot;round&quot;, &quot;noClip&quot;: false, &quot;opacity&quot;: 1.0, &quot;smoothFactor&quot;: 1.0, &quot;stroke&quot;: true, &quot;weight&quot;: 6}\n",
       "            ).addTo(map_eb22d1d8e8b115cb94fa7203891f6cd5);\n",
       "        \n",
       "    \n",
       "            map_eb22d1d8e8b115cb94fa7203891f6cd5.fitBounds(\n",
       "                [[37.6311, -122.514], [37.812, -122.3781]],\n",
       "                {}\n",
       "            );\n",
       "        \n",
       "    \n",
       "            tile_layer_918be8f4031f7fa98912e9cbb8c29b5b.addTo(map_eb22d1d8e8b115cb94fa7203891f6cd5);\n",
       "        \n",
       "    \n",
       "            tile_layer_918be8f4031f7fa98912e9cbb8c29b5b.addTo(map_eb22d1d8e8b115cb94fa7203891f6cd5);\n",
       "        \n",
       "&lt;/script&gt;\n",
       "&lt;/html&gt;\" style=\"position:absolute;width:100%;height:100%;left:0;top:0;border:none !important;\" allowfullscreen webkitallowfullscreen mozallowfullscreen></iframe></div></div>"
      ],
      "text/plain": [
       "PyObject <folium.folium.Map object at 0x000002865F0D86D0>"
      ]
     },
     "execution_count": 74,
     "metadata": {},
     "output_type": "execute_result"
    }
   ],
   "source": [
    "fm = flm.Map()\n",
    "for i in 1:(length(ids)-1)\n",
    "    route = OpenStreetMapX.shortest_route(md, dfpoi.node[ids[i]], dfpoi.node[ids[i+1]])[1]\n",
    "    locs = [LLA(md.nodes[n],md.bounds) for n in route]\n",
    "    flm.PolyLine(        \n",
    "        [(loc.lat, loc.lon) for loc in locs ],\n",
    "        color=\"#000000\"\n",
    "    ).add_to(fm)\n",
    "    flm.Circle((dfpoi.lat[ids[i]],dfpoi.lon[ids[i]]),radius=30,color=\"blue\",\n",
    "            weight=3,\n",
    "            fill=true,\n",
    "            fill_color=\"blue\").add_to(fm)\n",
    "end\n",
    "\n",
    "MAP_BOUNDS = [(md.bounds.min_y,md.bounds.min_x),(md.bounds.max_y,md.bounds.max_x)]\n",
    "flm.Rectangle(MAP_BOUNDS, color=\"blue\",weight=6).add_to(fm)\n",
    "fm.fit_bounds(MAP_BOUNDS)\n",
    "fm\n",
    "\n"
   ]
  },
  {
   "cell_type": "markdown",
   "metadata": {},
   "source": [
    "### Optional Gurobi example"
   ]
  },
  {
   "cell_type": "code",
   "execution_count": 63,
   "metadata": {},
   "outputs": [
    {
     "name": "stderr",
     "output_type": "stream",
     "text": [
      "\u001b[36m\u001b[1m[ \u001b[22m\u001b[39m\u001b[36m\u001b[1mInfo: \u001b[22m\u001b[39mPrecompiling Gurobi [2e9cd046-0924-5485-92f1-d5272153d98b]\n"
     ]
    },
    {
     "name": "stdout",
     "output_type": "stream",
     "text": [
      "Set parameter Username\n",
      "Academic license - for non-commercial use only - expires 2024-09-01\n",
      "Set parameter TimeLimit to value 60\n",
      "Callback! N= 18 cycle_idx: [1, 3, 2, 16, 9, 5, 12, 7, 15] of length: 9\n",
      "added a lazy constraint: Callback! N= 18 cycle_idx: [1, 18, 2, 17, 3, 16] of length: 6\n",
      "added a lazy constraint: Callback! N= 18 cycle_idx: [1, 18, 2, 16, 3, 15] of length: 6\n",
      "added a lazy constraint: Callback! N= 18 cycle_idx: [1, 17, 2, 18] of length: 4\n",
      "added a lazy constraint: Callback! N= 18 cycle_idx: [1, 12, 15, 11] of length: 4\n",
      "added a lazy constraint: Callback! N= 18 cycle_idx: [1, 18, 11] of length: 3\n",
      "added a lazy constraint: Callback! N= 18 cycle_idx: [1, 11, 15, 16, 2, 3, 12, 13, 4, 6, 14, 9, 5, 10, 18] of length: 15\n",
      "added a lazy constraint: Callback! N= 18 cycle_idx: [1, 11, 15, 16, 2, 3, 12, 13, 4, 6, 14, 9, 5, 10, 17, 7, 8, 18] of length: 18\n",
      "Callback! N= 18 cycle_idx: [1] of length: 1\n",
      "added a lazy constraint: Callback! N= 18 cycle_idx: [1, 18, 3, 2, 16, 11] of length: 6\n",
      "added a lazy constraint: Callback! N= 18 cycle_idx: [1, 18, 10, 9, 3, 2, 16, 11] of length: 8\n",
      "added a lazy constraint: Callback! N= 18 cycle_idx: [1, 18, 5, 7, 17, 8, 10, 9, 3, 2, 16, 11] of length: 12\n",
      "added a lazy constraint: Callback! N= 18 cycle_idx: [1, 11, 3, 2, 16, 15, 12, 13, 4, 6, 14, 9, 18] of length: 13\n",
      "added a lazy constraint: Callback! N= 18 cycle_idx: [1, 11, 3, 2, 16, 15, 12, 13, 4, 6, 14, 9, 5, 10, 7, 17, 8, 18] of length: 18\n",
      "Callback! N= 18 cycle_idx: [1] of length: 1\n",
      "added a lazy constraint: Callback! N= 18 cycle_idx: [1, 11, 3, 2, 7, 17, 8, 5, 10, 9, 18] of length: 11\n",
      "added a lazy constraint: Callback! N= 18 cycle_idx: [1, 11, 3, 12, 13, 15, 16, 2, 7, 17, 8, 5, 10, 9, 18] of length: 15\n",
      "added a lazy constraint: Callback! N= 18 cycle_idx: [1, 11, 3, 12, 15, 16, 2, 7, 17, 8, 5, 10, 9, 18] of length: 14\n",
      "added a lazy constraint: Callback! N= 18 cycle_idx: [1, 3, 11] of length: 3\n",
      "added a lazy constraint: Callback! N= 18 cycle_idx: [1, 11, 3, 15, 16, 2, 7, 17, 8, 5, 10, 9, 18] of length: 13\n",
      "added a lazy constraint: Callback! N= 18 cycle_idx: [1, 11, 3, 12, 14, 4, 6, 13, 15, 16, 2, 7, 17, 8, 5, 10, 9, 18] of length: 18\n",
      "Trip length 62866.00339245931\n"
     ]
    }
   ],
   "source": [
    "using JuMP, Gurobi\n",
    "N = size(dist_mx, 1) \n",
    "m2 = Model(optimizer_with_attributes(Gurobi.Optimizer));\n",
    "set_attribute(m2, \"TimeLimit\", 60)\n",
    "JuMP.set_silent(m2)\n",
    "@variable(m2, x[f=1:N, t=1:N], Bin)\n",
    "@objective(m2, Min, sum( x[i, j]*dist_mx[i,j] for i=1:N,j=1:N))\n",
    "@constraint(m2, notself[i=1:N], x[i, i] == 0)\n",
    "@constraint(m2, oneout[i=1:N], sum(x[i, 1:N]) == 1)\n",
    "@constraint(m2, onein[j=1:N], sum(x[1:N, j]) == 1)\n",
    "for f=1:N, t=1:N\n",
    "    @constraint(m2, x[f, t]+x[t, f] <= 1)\n",
    "end\n",
    "#optimize!(m2)\n",
    "\n",
    "function callbackhandle(cb)\n",
    "    cycle_idx =  getcycle(callback_value.(Ref(cb), x), N)\n",
    "    println(\"Callback! N= $N cycle_idx: $cycle_idx of length: $(length(cycle_idx))\")\n",
    "    if length(cycle_idx) < N\n",
    "        con = @build_constraint(sum(x[cycle_idx,cycle_idx]) <= length(cycle_idx)-1)\n",
    "        MOI.submit(m2, MOI.LazyConstraint(cb), con)\n",
    "        print(\"added a lazy constraint: \")\n",
    "        #println(con)\n",
    "    end\n",
    "end\n",
    "MOI.set(m2, MOI.LazyConstraintCallback(), callbackhandle)\n",
    "optimize!(m2)\n",
    "println(\"Trip length $(objective_value(m2))\")"
   ]
  },
  {
   "cell_type": "markdown",
   "metadata": {},
   "source": [
    "<a class=\"anchor\" id=\"QP\"></a>\n",
    "## 6. Quadratic programming - parameter estimation\n",
    "\n",
    "---- [Return to table of contents](#toc) ---"
   ]
  },
  {
   "cell_type": "code",
   "execution_count": 64,
   "metadata": {},
   "outputs": [
    {
     "data": {
      "text/plain": [
       "1×1000 adjoint(::Vector{Float64}) with eltype Float64:\n",
       " 40.7932  65.5745  33.8251  47.6654  …  -22.59  106.173  21.2047  296.181"
      ]
     },
     "execution_count": 64,
     "metadata": {},
     "output_type": "execute_result"
    }
   ],
   "source": [
    "using LinearAlgebra\n",
    "# here we generate a sample problem structure\n",
    "x = rand(Float64,(1000,2))*Diagonal([6,10]) .- [4 3]\n",
    "ϵ = randn(1000).*2 #errors\n",
    "\n",
    "a, b, c = 1, 10, 7 # values we are trying to estimate\n",
    "A = [a b/2;b/2 c]\n",
    "\n",
    "# y = a * x₁² + b*x₁x₂ + c x₂²\n",
    "y = (x * A ) .* x * [1;1] .+ ϵ # explained variable\n",
    ";\n",
    "y'"
   ]
  },
  {
   "cell_type": "code",
   "execution_count": 65,
   "metadata": {
    "scrolled": true
   },
   "outputs": [
    {
     "name": "stdout",
     "output_type": "stream",
     "text": [
      "\n",
      "******************************************************************************\n",
      "This program contains Ipopt, a library for large-scale nonlinear optimization.\n",
      " Ipopt is released as open source code under the Eclipse Public License (EPL).\n",
      "         For more information visit https://github.com/coin-or/Ipopt\n",
      "******************************************************************************\n",
      "\n",
      "This is Ipopt version 3.14.13, running with linear solver MUMPS 5.6.2.\n",
      "\n",
      "Number of nonzeros in equality constraint Jacobian...:        0\n",
      "Number of nonzeros in inequality constraint Jacobian.:        0\n",
      "Number of nonzeros in Lagrangian Hessian.............:       10\n",
      "\n",
      "Total number of variables............................:        4\n",
      "                     variables with only lower bounds:        0\n",
      "                variables with lower and upper bounds:        0\n",
      "                     variables with only upper bounds:        0\n",
      "Total number of equality constraints.................:        0\n",
      "Total number of inequality constraints...............:        0\n",
      "        inequality constraints with only lower bounds:        0\n",
      "   inequality constraints with lower and upper bounds:        0\n",
      "        inequality constraints with only upper bounds:        0\n",
      "\n",
      "iter    objective    inf_pr   inf_du lg(mu)  ||d||  lg(rg) alpha_du alpha_pr  ls\n",
      "   0  1.3333783e+07 0.00e+00 1.00e+02  -1.0 0.00e+00    -  0.00e+00 0.00e+00   0\n",
      "   1  4.0343864e+03 0.00e+00 2.56e-14  -1.0 1.04e+01    -  1.00e+00 1.00e+00f  1\n",
      "\n",
      "Number of Iterations....: 1\n",
      "\n",
      "                                   (scaled)                 (unscaled)\n",
      "Objective...............:   1.1106882669510075e-01    4.0343863944895566e+03\n",
      "Dual infeasibility......:   2.5639811243288036e-14    9.3132257461547852e-10\n",
      "Constraint violation....:   0.0000000000000000e+00    0.0000000000000000e+00\n",
      "Variable bound violation:   0.0000000000000000e+00    0.0000000000000000e+00\n",
      "Complementarity.........:   0.0000000000000000e+00    0.0000000000000000e+00\n",
      "Overall NLP error.......:   2.5639811243288036e-14    9.3132257461547852e-10\n",
      "\n",
      "\n",
      "Number of objective function evaluations             = 2\n",
      "Number of objective gradient evaluations             = 2\n",
      "Number of equality constraint evaluations            = 0\n",
      "Number of inequality constraint evaluations          = 0\n",
      "Number of equality constraint Jacobian evaluations   = 0\n",
      "Number of inequality constraint Jacobian evaluations = 0\n",
      "Number of Lagrangian Hessian evaluations             = 1\n",
      "Total seconds in IPOPT                               = 0.013\n",
      "\n",
      "EXIT: Optimal Solution Found.\n"
     ]
    }
   ],
   "source": [
    "using Ipopt\n",
    "m = Model(optimizer_with_attributes(Ipopt.Optimizer)); \n",
    "\n",
    "@variable(m, aa[1:2,1:2])\n",
    "\n",
    "function errs(aa)\n",
    "   sum((y .- (x * aa ) .* x * [1;1]) .^ 2)\n",
    "end\n",
    "\n",
    "@objective(m, Min, errs(aa))\n",
    "\n",
    "optimize!(m)\n"
   ]
  },
  {
   "cell_type": "code",
   "execution_count": 66,
   "metadata": {},
   "outputs": [
    {
     "data": {
      "text/plain": [
       "2×2 Matrix{Float64}:\n",
       " 1.0  5.0\n",
       " 5.0  7.0"
      ]
     },
     "execution_count": 66,
     "metadata": {},
     "output_type": "execute_result"
    }
   ],
   "source": [
    "A"
   ]
  },
  {
   "cell_type": "code",
   "execution_count": 67,
   "metadata": {},
   "outputs": [
    {
     "data": {
      "text/plain": [
       "2×2 Matrix{Float64}:\n",
       "  0.992584  -0.377992\n",
       " 10.3624     7.00116"
      ]
     },
     "execution_count": 67,
     "metadata": {},
     "output_type": "execute_result"
    }
   ],
   "source": [
    "value.(aa)"
   ]
  },
  {
   "cell_type": "code",
   "execution_count": 68,
   "metadata": {},
   "outputs": [
    {
     "name": "stdout",
     "output_type": "stream",
     "text": [
      "Set parameter Username\n",
      "Academic license - for non-commercial use only - expires 2024-09-01\n",
      "Gurobi Optimizer version 10.0.2 build v10.0.2rc0 (win64)\n",
      "\n",
      "CPU model: 13th Gen Intel(R) Core(TM) i7-1355U, instruction set [SSE2|AVX|AVX2]\n",
      "Thread count: 10 physical cores, 12 logical processors, using up to 12 threads\n",
      "\n",
      "Optimize a model with 0 rows, 4 columns and 0 nonzeros\n",
      "Model fingerprint: 0x04d26b44\n",
      "Model has 10 quadratic objective terms\n",
      "Coefficient statistics:\n",
      "  Matrix range     [0e+00, 0e+00]\n",
      "  Objective range  [9e+04, 4e+06]\n",
      "  QObjective range [8e+04, 7e+05]\n",
      "  Bounds range     [0e+00, 0e+00]\n",
      "  RHS range        [0e+00, 0e+00]\n",
      "Presolve time: 0.00s\n",
      "Presolved: 0 rows, 4 columns, 0 nonzeros\n",
      "Presolved model has 10 quadratic objective terms\n",
      "Ordering time: 0.00s\n",
      "\n",
      "Barrier statistics:\n",
      " Free vars  : 7\n",
      " AA' NZ     : 3.000e+00\n",
      " Factor NZ  : 6.000e+00\n",
      " Factor Ops : 1.400e+01 (less than 1 second per iteration)\n",
      " Threads    : 1\n",
      "\n",
      "                  Objective                Residual\n",
      "Iter       Primal          Dual         Primal    Dual     Compl     Time\n",
      "   0   1.33337831e+07  1.33337831e+07  0.00e+00 3.63e+06  0.00e+00     0s\n",
      "   1   1.33331704e+07  1.33337831e+07  1.89e-08 3.63e+06  0.00e+00     0s\n",
      "   2   1.33324985e+07  1.33337831e+07  3.43e-08 3.63e+06  0.00e+00     0s\n",
      "   3   1.33298205e+07  1.33337829e+07  8.36e-08 3.63e+06  0.00e+00     0s\n",
      "   4   1.33269244e+07  1.33337823e+07  6.43e-08 3.63e+06  0.00e+00     0s\n",
      "   5   1.33229513e+07  1.33337809e+07  1.29e-07 3.63e+06  0.00e+00     0s\n",
      "   6   1.33074870e+07  1.33337702e+07  3.16e-07 3.63e+06  0.00e+00     0s\n",
      "   7   1.32470514e+07  1.33336416e+07  5.94e-07 3.62e+06  0.00e+00     0s\n",
      "   8   1.32082443e+07  1.33334862e+07  8.74e-07 3.62e+06  0.00e+00     0s\n",
      "   9   1.31835587e+07  1.33333575e+07  1.36e-06 3.61e+06  0.00e+00     0s\n",
      "  10   1.31330808e+07  1.33330220e+07  1.34e-06 3.60e+06  0.00e+00     0s\n",
      "  11   1.30720670e+07  1.33324859e+07  3.16e-06 3.60e+06  0.00e+00     0s\n",
      "  12   1.29815562e+07  1.33314252e+07  3.66e-06 3.58e+06  0.00e+00     0s\n",
      "  13   1.28203248e+07  1.33287415e+07  6.93e-06 3.56e+06  0.00e+00     0s\n",
      "  14   1.25332460e+07  1.33213898e+07  9.19e-06 3.52e+06  0.00e+00     0s\n",
      "  15   1.21082891e+07  1.33042456e+07  2.06e-05 3.46e+06  0.00e+00     0s\n",
      "  16   1.14868592e+07  1.32649608e+07  4.25e-05 3.37e+06  0.00e+00     0s\n",
      "  17   1.04611050e+07  1.31596945e+07  7.15e-05 3.22e+06  0.00e+00     0s\n",
      "  18   7.48405057e+06  1.24946468e+07  1.39e-04 2.72e+06  0.00e+00     0s\n",
      "  19   4.27339663e+06  1.08227248e+07  1.36e-04 2.06e+06  0.00e+00     0s\n",
      "  20   7.26525348e+05  5.48868898e+06  1.73e-04 8.46e+05  0.00e+00     0s\n",
      "  21   3.89461683e+04  1.33276957e+06  2.38e-04 1.86e+05  0.00e+00     0s\n",
      "  22   3.98469755e+03  4.03575001e+03  3.19e-05 1.86e-01  0.00e+00     0s\n",
      "  23   4.03438632e+03  4.03438640e+03  1.02e-10 1.86e-07  0.00e+00     0s\n",
      "\n",
      "Barrier solved model in 23 iterations and 0.01 seconds (0.00 work units)\n",
      "Optimal objective 4.03438632e+03\n",
      "\n",
      "\n",
      "User-callback calls 84, time in user-callback 0.01 sec\n",
      "Cost: 4034.3863200731575\n",
      "aa=[0.9925840302838245 4.992214193321422; 4.992214193321422 7.001159022926492]\n",
      "a, b, c = 0.9925840302838245, 9.984428386642843, 7.001159022926492\n"
     ]
    }
   ],
   "source": [
    "using Gurobi, JuMP\n",
    "\n",
    "\n",
    "m = Model(optimizer_with_attributes(Gurobi.Optimizer)); \n",
    "@variable(m, aa[1:2,1:2])\n",
    "\n",
    "function errs(aa)\n",
    "   sum((y .- (x * aa ) .* x * [1;1]) .^ 2)\n",
    "end\n",
    "\n",
    "@objective(m, Min, errs(aa))\n",
    "\n",
    "optimize!(m)\n",
    "status = termination_status(m)\n",
    "\n",
    "println(\"Cost: $(objective_value(m))\")\n",
    "res = value.(aa)\n",
    "println(\"aa=$res\")\n",
    "println(\"a, b, c = $(res[1,1]), $(res[1,2]+res[2,1]), $(res[2,2])\")"
   ]
  },
  {
   "cell_type": "markdown",
   "metadata": {},
   "source": [
    "<a class=\"anchor\" id=\"pandemic\"></a>\n",
    "## 7. Modelling pandemic dynamics in a small community\n",
    "\n",
    "---- [Return to table of contents](#toc) ---"
   ]
  },
  {
   "cell_type": "code",
   "execution_count": 69,
   "metadata": {},
   "outputs": [
    {
     "data": {
      "text/plain": [
       "300"
      ]
     },
     "execution_count": 69,
     "metadata": {},
     "output_type": "execute_result"
    }
   ],
   "source": [
    "using Ipopt, JuMP, LinearAlgebra\n",
    "obs_cases = vcat(1,2,4,8,15,27,44,58,55,32,12,3,1,zeros(13))\n",
    "SI_max = length(obs_cases)\n",
    "N = 300"
   ]
  },
  {
   "cell_type": "code",
   "execution_count": 70,
   "metadata": {},
   "outputs": [
    {
     "data": {
      "text/plain": [
       "1×26 adjoint(::Vector{Float64}) with eltype Float64:\n",
       " 1.0  2.0  4.0  8.0  15.0  27.0  44.0  …  0.0  0.0  0.0  0.0  0.0  0.0  0.0"
      ]
     },
     "execution_count": 70,
     "metadata": {},
     "output_type": "execute_result"
    }
   ],
   "source": [
    "obs_cases'"
   ]
  },
  {
   "cell_type": "code",
   "execution_count": 71,
   "metadata": {
    "scrolled": true
   },
   "outputs": [
    {
     "name": "stdout",
     "output_type": "stream",
     "text": [
      "Min ε[1] ^ 2.0 + ε[2] ^ 2.0 + ε[3] ^ 2.0 + ε[4] ^ 2.0 + ε[5] ^ 2.0 + ε[6] ^ 2.0 + ε[7] ^ 2.0 + ε[8] ^ 2.0 + ε[9] ^ 2.0 + ε[10] ^ 2.0 + ε[11] ^ 2.0 + ε[12] ^ 2.0 + ε[13] ^ 2.0 + ε[14] ^ 2.0 + ε[15] ^ 2.0 + ε[16] ^ 2.0 + ε[17] ^ 2.0 + ε[18] ^ 2.0 + ε[19] ^ 2.0 + ε[20] ^ 2.0 + ε[21] ^ 2.0 + ε[22] ^ 2.0 + ε[23] ^ 2.0 + ε[24] ^ 2.0 + ε[25] ^ 2.0 + ε[26] ^ 2.0\n",
      "Subject to\n",
      " -I_[1] + ε[1] == -1\n",
      " -I_[2] + ε[2] == -2\n",
      " -I_[3] + ε[3] == -4\n",
      " -I_[4] + ε[4] == -8\n",
      " -I_[5] + ε[5] == -15\n",
      " -I_[6] + ε[6] == -27\n",
      " -I_[7] + ε[7] == -44\n",
      " -I_[8] + ε[8] == -58\n",
      " -I_[9] + ε[9] == -55\n",
      " -I_[10] + ε[10] == -32\n",
      " -I_[11] + ε[11] == -12\n",
      " -I_[12] + ε[12] == -3\n",
      " -I_[13] + ε[13] == -1\n",
      " -I_[14] + ε[14] == 0\n",
      " -I_[15] + ε[15] == 0\n",
      " -I_[16] + ε[16] == 0\n",
      " -I_[17] + ε[17] == 0\n",
      " -I_[18] + ε[18] == 0\n",
      " -I_[19] + ε[19] == 0\n",
      " -I_[20] + ε[20] == 0\n",
      " -I_[21] + ε[21] == 0\n",
      " -I_[22] + ε[22] == 0\n",
      " -I_[23] + ε[23] == 0\n",
      " -I_[24] + ε[24] == 0\n",
      " -I_[25] + ε[25] == 0\n",
      " -I_[26] + ε[26] == 0\n",
      " I_[1] == 1\n",
      " S[1] == 300\n",
      " I_[2] - S[1] + S[2] == 0\n",
      " I_[3] - S[2] + S[3] == 0\n",
      " I_[4] - S[3] + S[4] == 0\n",
      " I_[5] - S[4] + S[5] == 0\n",
      " I_[6] - S[5] + S[6] == 0\n",
      " I_[7] - S[6] + S[7] == 0\n",
      " I_[8] - S[7] + S[8] == 0\n",
      " I_[9] - S[8] + S[9] == 0\n",
      " I_[10] - S[9] + S[10] == 0\n",
      " I_[11] - S[10] + S[11] == 0\n",
      " I_[12] - S[11] + S[12] == 0\n",
      " I_[13] - S[12] + S[13] == 0\n",
      " I_[14] - S[13] + S[14] == 0\n",
      " I_[15] - S[14] + S[15] == 0\n",
      " I_[16] - S[15] + S[16] == 0\n",
      " I_[17] - S[16] + S[17] == 0\n",
      " I_[18] - S[17] + S[18] == 0\n",
      " I_[19] - S[18] + S[19] == 0\n",
      " I_[20] - S[19] + S[20] == 0\n",
      " I_[21] - S[20] + S[21] == 0\n",
      " I_[22] - S[21] + S[22] == 0\n",
      " I_[23] - S[22] + S[23] == 0\n",
      " I_[24] - S[23] + S[24] == 0\n",
      " I_[25] - S[24] + S[25] == 0\n",
      " I_[26] - S[25] + S[26] == 0\n",
      " α >= 0.5\n",
      " β >= 0.05\n",
      " I_[1] >= 0\n",
      " I_[2] >= 0\n",
      " I_[3] >= 0\n",
      " I_[4] >= 0\n",
      " I_[5] >= 0\n",
      " I_[6] >= 0\n",
      " I_[7] >= 0\n",
      " I_[8] >= 0\n",
      " I_[9] >= 0\n",
      " I_[10] >= 0\n",
      " I_[11] >= 0\n",
      " I_[12] >= 0\n",
      " I_[13] >= 0\n",
      " I_[14] >= 0\n",
      " I_[15] >= 0\n",
      " I_[16] >= 0\n",
      " I_[17] >= 0\n",
      " I_[18] >= 0\n",
      " I_[19] >= 0\n",
      " I_[20] >= 0\n",
      " I_[21] >= 0\n",
      " I_[22] >= 0\n",
      " I_[23] >= 0\n",
      " I_[24] >= 0\n",
      " I_[25] >= 0\n",
      " I_[26] >= 0\n",
      " S[1] >= 0\n",
      " S[2] >= 0\n",
      " S[3] >= 0\n",
      " S[4] >= 0\n",
      " S[5] >= 0\n",
      " S[6] >= 0\n",
      " S[7] >= 0\n",
      " S[8] >= 0\n",
      " S[9] >= 0\n",
      " S[10] >= 0\n",
      " S[11] >= 0\n",
      " S[12] >= 0\n",
      " S[13] >= 0\n",
      " S[14] >= 0\n",
      " S[15] >= 0\n",
      " S[16] >= 0\n",
      " S[17] >= 0\n",
      " S[18] >= 0\n",
      " S[19] >= 0\n",
      " S[20] >= 0\n",
      " S[21] >= 0\n",
      " S[22] >= 0\n",
      " S[23] >= 0\n",
      " S[24] >= 0\n",
      " S[25] >= 0\n",
      " S[26] >= 0\n",
      " α <= 1.5\n",
      " β <= 70\n",
      " I_[1] <= 300\n",
      " I_[2] <= 300\n",
      " I_[3] <= 300\n",
      " I_[4] <= 300\n",
      " I_[5] <= 300\n",
      " I_[6] <= 300\n",
      " I_[7] <= 300\n",
      " I_[8] <= 300\n",
      " I_[9] <= 300\n",
      " I_[10] <= 300\n",
      " I_[11] <= 300\n",
      " I_[12] <= 300\n",
      " I_[13] <= 300\n",
      " I_[14] <= 300\n",
      " I_[15] <= 300\n",
      " I_[16] <= 300\n",
      " I_[17] <= 300\n",
      " I_[18] <= 300\n",
      " I_[19] <= 300\n",
      " I_[20] <= 300\n",
      " I_[21] <= 300\n",
      " I_[22] <= 300\n",
      " I_[23] <= 300\n",
      " I_[24] <= 300\n",
      " I_[25] <= 300\n",
      " I_[26] <= 300\n",
      " S[1] <= 300\n",
      " S[2] <= 300\n",
      " S[3] <= 300\n",
      " S[4] <= 300\n",
      " S[5] <= 300\n",
      " S[6] <= 300\n",
      " S[7] <= 300\n",
      " S[8] <= 300\n",
      " S[9] <= 300\n",
      " S[10] <= 300\n",
      " S[11] <= 300\n",
      " S[12] <= 300\n",
      " S[13] <= 300\n",
      " S[14] <= 300\n",
      " S[15] <= 300\n",
      " S[16] <= 300\n",
      " S[17] <= 300\n",
      " S[18] <= 300\n",
      " S[19] <= 300\n",
      " S[20] <= 300\n",
      " S[21] <= 300\n",
      " S[22] <= 300\n",
      " S[23] <= 300\n",
      " S[24] <= 300\n",
      " S[25] <= 300\n",
      " S[26] <= 300\n",
      " (I_[2] - (β * I_[1] ^ α * S[1]) / 300.0) - 0.0 == 0\n",
      " (I_[3] - (β * I_[2] ^ α * S[2]) / 300.0) - 0.0 == 0\n",
      " (I_[4] - (β * I_[3] ^ α * S[3]) / 300.0) - 0.0 == 0\n",
      " (I_[5] - (β * I_[4] ^ α * S[4]) / 300.0) - 0.0 == 0\n",
      " (I_[6] - (β * I_[5] ^ α * S[5]) / 300.0) - 0.0 == 0\n",
      " (I_[7] - (β * I_[6] ^ α * S[6]) / 300.0) - 0.0 == 0\n",
      " (I_[8] - (β * I_[7] ^ α * S[7]) / 300.0) - 0.0 == 0\n",
      " (I_[9] - (β * I_[8] ^ α * S[8]) / 300.0) - 0.0 == 0\n",
      " (I_[10] - (β * I_[9] ^ α * S[9]) / 300.0) - 0.0 == 0\n",
      " (I_[11] - (β * I_[10] ^ α * S[10]) / 300.0) - 0.0 == 0\n",
      " (I_[12] - (β * I_[11] ^ α * S[11]) / 300.0) - 0.0 == 0\n",
      " (I_[13] - (β * I_[12] ^ α * S[12]) / 300.0) - 0.0 == 0\n",
      " (I_[14] - (β * I_[13] ^ α * S[13]) / 300.0) - 0.0 == 0\n",
      " (I_[15] - (β * I_[14] ^ α * S[14]) / 300.0) - 0.0 == 0\n",
      " (I_[16] - (β * I_[15] ^ α * S[15]) / 300.0) - 0.0 == 0\n",
      " (I_[17] - (β * I_[16] ^ α * S[16]) / 300.0) - 0.0 == 0\n",
      " (I_[18] - (β * I_[17] ^ α * S[17]) / 300.0) - 0.0 == 0\n",
      " (I_[19] - (β * I_[18] ^ α * S[18]) / 300.0) - 0.0 == 0\n",
      " (I_[20] - (β * I_[19] ^ α * S[19]) / 300.0) - 0.0 == 0\n",
      " (I_[21] - (β * I_[20] ^ α * S[20]) / 300.0) - 0.0 == 0\n",
      " (I_[22] - (β * I_[21] ^ α * S[21]) / 300.0) - 0.0 == 0\n",
      " (I_[23] - (β * I_[22] ^ α * S[22]) / 300.0) - 0.0 == 0\n",
      " (I_[24] - (β * I_[23] ^ α * S[23]) / 300.0) - 0.0 == 0\n",
      " (I_[25] - (β * I_[24] ^ α * S[24]) / 300.0) - 0.0 == 0\n",
      " (I_[26] - (β * I_[25] ^ α * S[25]) / 300.0) - 0.0 == 0\n",
      "\n"
     ]
    }
   ],
   "source": [
    "using JuMP, Ipopt\n",
    "m = Model(optimizer_with_attributes(Ipopt.Optimizer, (\"print_level\"=>2))); \n",
    "@variable(m, 0.5 <= α <= 1.5)\n",
    "@variable(m, 0.05 <= β <= 70)\n",
    "@variable(m, 0 <= I_[1:SI_max] <= N)\n",
    "\n",
    "@variable(m, 0 <= S[1:SI_max]  <= N)\n",
    "@variable(m, ε[1:SI_max])\n",
    "@constraint(m, ε .== I_ .- obs_cases  )\n",
    "@constraint(m, I_[1] == 1)\n",
    "for i=2:SI_max\n",
    "   @NLconstraint(m, I_[i] == β*(I_[i-1]^α)*S[i-1]/N)\n",
    "end\n",
    "\n",
    "@constraint(m, S[1] == N)\n",
    "for i=2:SI_max\n",
    "   @constraint(m, S[i] == S[i-1]-I_[i])\n",
    "end\n",
    "\n",
    "@NLobjective(m, Min, sum(ε[i]^2 for i in 1:SI_max))\n",
    "println(m)"
   ]
  },
  {
   "cell_type": "code",
   "execution_count": 72,
   "metadata": {
    "scrolled": true
   },
   "outputs": [
    {
     "name": "stdout",
     "output_type": "stream",
     "text": [
      "Cost: 0.4826914548884895\n",
      "α=0.9978555010305015\n",
      "β=2.0069930759045875\n"
     ]
    }
   ],
   "source": [
    "\n",
    "optimize!(m)\n",
    "\n",
    "println(\"Cost: $(objective_value(m))\")\n",
    "println(\"α=$(value(α))\\nβ=$(value(β))\")\n"
   ]
  },
  {
   "cell_type": "markdown",
   "metadata": {},
   "source": [
    "*Preparation of this workshop has been supported by the Polish National Agency for Academic Exchange under the Strategic Partnerships programme, grant number BPI/PST/2021/1/00069/U/00001.*\n",
    "\n",
    "![SGH & NAWA](logo.png)"
   ]
  },
  {
   "cell_type": "markdown",
   "metadata": {},
   "source": [
    "---- [Return to table of contents](#toc) ---"
   ]
  }
 ],
 "metadata": {
  "kernelspec": {
   "display_name": "Julia 1.10.0",
   "language": "julia",
   "name": "julia-1.10"
  },
  "language_info": {
   "file_extension": ".jl",
   "mimetype": "application/julia",
   "name": "julia",
   "version": "1.10.0"
  }
 },
 "nbformat": 4,
 "nbformat_minor": 4
}
