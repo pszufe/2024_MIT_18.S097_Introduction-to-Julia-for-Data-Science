{
 "cells": [
  {
   "cell_type": "markdown",
   "metadata": {},
   "source": [
    "# Differential equations with Julia\n",
    "\n",
    "## Michał Bernardelli"
   ]
  },
  {
   "cell_type": "code",
   "execution_count": null,
   "metadata": {},
   "outputs": [],
   "source": [
    "using DifferentialEquations\n",
    "using DiffEqProblemLibrary.ODEProblemLibrary\n",
    "using Plots"
   ]
  },
  {
   "cell_type": "markdown",
   "metadata": {},
   "source": [
    "#### ODEProblemLibrary.prob_ode_linear\n",
    "\n",
    "![prob_ode_linear](ex1_prob_ode_linear.png)"
   ]
  },
  {
   "cell_type": "code",
   "execution_count": null,
   "metadata": {},
   "outputs": [],
   "source": [
    "# parameter \n",
    "alpha = 1.01;"
   ]
  },
  {
   "cell_type": "code",
   "execution_count": null,
   "metadata": {},
   "outputs": [],
   "source": [
    "# Out-of-place functions\n",
    "f(u, p, t) = alpha * u;\n",
    "u0 = 1/2;\n",
    "tspan = (0.0, 1.0);\n",
    "prob = ODEProblem(f, u0, tspan);\n",
    "sol = solve(prob);"
   ]
  },
  {
   "cell_type": "code",
   "execution_count": null,
   "metadata": {},
   "outputs": [],
   "source": [
    "plot(sol, linewidth = 5, title = \"Solution of the linear ODE\", xaxis = \"t\", yaxis = \"u(t)\", label = \"Approximate solution\")\n",
    "plot!(sol.t, t -> 0.5 * exp(alpha*t), lw = 3, ls = :dash, label = \"Actual Solution\")"
   ]
  },
  {
   "cell_type": "code",
   "execution_count": null,
   "metadata": {},
   "outputs": [],
   "source": [
    "sol.t"
   ]
  },
  {
   "cell_type": "code",
   "execution_count": null,
   "metadata": {},
   "outputs": [],
   "source": [
    "sol.u"
   ]
  },
  {
   "cell_type": "code",
   "execution_count": null,
   "metadata": {},
   "outputs": [],
   "source": [
    "# value of the solution at selected point, e.g. 0.2\n",
    "sol(0.2)"
   ]
  },
  {
   "cell_type": "code",
   "execution_count": null,
   "metadata": {},
   "outputs": [],
   "source": [
    "# lower accuracy\n",
    "sol2 = solve(prob, reltol = 1e-2, abstol = 1e-2);\n",
    "plot(sol2, linewidth = 5, title = \"Solution of the linear ODE\", xaxis = \"t\", yaxis = \"u(t)\", label = \"Approximate solution\")\n",
    "plot!(sol2.t, t -> 0.5 * exp(alpha*t), lw = 3, ls = :dash, label = \"Actual Solution\")"
   ]
  },
  {
   "cell_type": "code",
   "execution_count": null,
   "metadata": {},
   "outputs": [],
   "source": [
    "sol2.u"
   ]
  },
  {
   "cell_type": "code",
   "execution_count": null,
   "metadata": {},
   "outputs": [],
   "source": [
    "# higher accuracy\n",
    "sol3 = solve(prob, reltol = 1e-14, abstol = 1e-14);\n",
    "plot(sol3, linewidth = 5, title = \"Solution of the linear ODE\", xaxis = \"t\", yaxis = \"u(t)\", label = \"Approximate solution\")\n",
    "plot!(sol3.t, t -> 0.5 * exp(alpha*t), lw = 3, ls = :dash, label = \"Actual Solution\")"
   ]
  },
  {
   "cell_type": "code",
   "execution_count": null,
   "metadata": {},
   "outputs": [],
   "source": [
    "sol3.u"
   ]
  },
  {
   "cell_type": "code",
   "execution_count": null,
   "metadata": {},
   "outputs": [],
   "source": [
    "# Midpoint algorithm\n",
    "sol_midpoint = solve(prob, alg = Midpoint(), reltol = 1e-2, abstol = 1e-2)\n",
    "plot(sol_midpoint, linewidth = 5, title = \"Solution of the linear ODE\", xaxis = \"t\", yaxis = \"u(t)\", label = \"Approximate solution\")\n",
    "plot!(sol_midpoint.t, t -> 0.5 * exp(alpha*t), lw = 3, ls = :dash, label = \"Actual Solution\")"
   ]
  },
  {
   "cell_type": "code",
   "execution_count": null,
   "metadata": {},
   "outputs": [],
   "source": [
    "# AutoTsit5 algorithm\n",
    "sol_AutoTsit5 = solve(prob, alg = AutoTsit5(Rosenbrock23()), reltol = 1e-2, abstol = 1e-2)\n",
    "plot(sol_AutoTsit5, linewidth = 5, title = \"Solution of the linear ODE\", xaxis = \"t\", yaxis = \"u(t)\", label = \"Approximate solution\")\n",
    "plot!(sol_AutoTsit5.t, t -> 0.5 * exp(alpha*t), lw = 3, ls = :dash, label = \"Actual Solution\")"
   ]
  },
  {
   "cell_type": "code",
   "execution_count": null,
   "metadata": {},
   "outputs": [],
   "source": [
    "sol_midpoint.u\n",
    "sol_AutoTsit5.u"
   ]
  },
  {
   "cell_type": "code",
   "execution_count": null,
   "metadata": {},
   "outputs": [],
   "source": [
    "# saveat parameter\n",
    "sol_saveat = solve(prob, reltol = 1e-2, abstol = 1e-2, saveat = 0.4)\n",
    "plot(sol_saveat, linewidth = 5, title = \"Solution of the linear ODE\", xaxis = \"t\", yaxis = \"u(t)\", label = \"Approximate solution\")\n",
    "plot!(sol_saveat.t, t -> 0.5 * exp(alpha*t), lw = 3, ls = :dash, label = \"Actual Solution\")"
   ]
  },
  {
   "cell_type": "code",
   "execution_count": null,
   "metadata": {},
   "outputs": [],
   "source": [
    "sol_saveat.t"
   ]
  },
  {
   "cell_type": "code",
   "execution_count": null,
   "metadata": {},
   "outputs": [],
   "source": [
    "# saveat parameter\n",
    "sol_saveat = solve(prob, reltol = 1e-2, abstol = 1e-2, saveat = 0.1)\n",
    "plot(sol_saveat, linewidth = 5, title = \"Solution of the linear ODE\", xaxis = \"t\", yaxis = \"u(t)\", label = \"Approximate solution\")\n",
    "plot!(sol_saveat.t, t -> 0.5 * exp(alpha*t), lw = 3, ls = :dash, label = \"Actual Solution\")"
   ]
  },
  {
   "cell_type": "code",
   "execution_count": null,
   "metadata": {},
   "outputs": [],
   "source": [
    "sol_saveat.t"
   ]
  },
  {
   "cell_type": "markdown",
   "metadata": {},
   "source": [
    "#### Predefined problems from DiffEqProblemLibrary.jl"
   ]
  },
  {
   "cell_type": "code",
   "execution_count": null,
   "metadata": {},
   "outputs": [],
   "source": [
    "# load problem\n",
    "prob = ODEProblemLibrary.prob_ode_linear\n",
    "sol = solve(prob)\n",
    "plot(sol, linewidth = 5, title = \"Solution of the linear ODE\", xaxis = \"t\", yaxis = \"u(t)\", label = \"Approximate solution\")"
   ]
  },
  {
   "cell_type": "code",
   "execution_count": null,
   "metadata": {},
   "outputs": [],
   "source": [
    "# load problem\n",
    "prob = ODEProblemLibrary.prob_ode_vanderpol\n",
    "sol = solve(prob)\n",
    "plot(sol, linewidth = 5, title = \"Solution of the linear ODE\", xaxis = \"t\", yaxis = \"u(t)\", label = \"Approximate solution\")"
   ]
  },
  {
   "cell_type": "markdown",
   "metadata": {},
   "source": [
    "#### System of equations\n",
    "\n",
    "![prob_lorenz](ex2_lorenz.png)"
   ]
  },
  {
   "cell_type": "code",
   "execution_count": null,
   "metadata": {},
   "outputs": [],
   "source": [
    "# in-place function\n",
    "function lorenz!(du, u, p, t)\n",
    "    du[1] = 10.0 * (u[2] - u[1])\n",
    "    du[2] = u[1] * (28.0 - u[3]) - u[2]\n",
    "    du[3] = u[1] * u[2] - (8/3) * u[3]\n",
    "end"
   ]
  },
  {
   "cell_type": "code",
   "execution_count": null,
   "metadata": {},
   "outputs": [],
   "source": [
    "u0 = [1.0; 0.0; 0.0]\n",
    "tspan = (0.0, 100.0)\n",
    "prob = ODEProblem(lorenz!, u0, tspan)\n",
    "sol = solve(prob)\n",
    "sol.u"
   ]
  },
  {
   "cell_type": "code",
   "execution_count": null,
   "metadata": {},
   "outputs": [],
   "source": [
    "#  3D phase space plot\n",
    "plot(sol, idxs = (1, 2, 3))"
   ]
  },
  {
   "cell_type": "code",
   "execution_count": null,
   "metadata": {},
   "outputs": [],
   "source": [
    "# first component only\n",
    "plot(sol, idxs = (0, 1))"
   ]
  },
  {
   "cell_type": "code",
   "execution_count": null,
   "metadata": {},
   "outputs": [],
   "source": [
    "# second component only\n",
    "plot(sol, idxs = (0, 2))"
   ]
  },
  {
   "cell_type": "code",
   "execution_count": null,
   "metadata": {},
   "outputs": [],
   "source": [
    "# third component only\n",
    "plot(sol, idxs = (0, 3))"
   ]
  },
  {
   "cell_type": "code",
   "execution_count": null,
   "metadata": {},
   "outputs": [],
   "source": [
    "# second and third component\n",
    "plot(sol, idxs = (2, 3))"
   ]
  },
  {
   "cell_type": "code",
   "execution_count": null,
   "metadata": {},
   "outputs": [],
   "source": [
    "animate(sol, every = 10)"
   ]
  },
  {
   "cell_type": "markdown",
   "metadata": {},
   "source": [
    "#### Defining parameterized functions"
   ]
  },
  {
   "cell_type": "code",
   "execution_count": null,
   "metadata": {},
   "outputs": [],
   "source": [
    "# ODEProblemLibrary.prob_ode_linear with parameter\n",
    "alpha = 0.01\n",
    "g(u, p, t) = p * u;\n",
    "u0 = 1/2;\n",
    "tspan = (0.0, 1.0);\n",
    "prob = ODEProblem(f, u0, tspan, alpha);\n",
    "sol = solve(prob);\n",
    "display(sol.u)\n",
    "plot(sol, linewidth = 5, title = \"Solution of the linear ODE\", xaxis = \"t\", yaxis = \"u(t)\", label = \"Approximate solution\")\n",
    "plot!(sol.t, t -> 0.5 * exp(alpha*t), lw = 3, ls = :dash, label = \"Actual Solution\")"
   ]
  },
  {
   "cell_type": "code",
   "execution_count": null,
   "metadata": {},
   "outputs": [],
   "source": [
    "# ODEProblemLibrary.prob_ode_linear with parameter\n",
    "alpha = 2.5\n",
    "g(u, p, t) = p * u;\n",
    "u0 = 1/2;\n",
    "tspan = (0.0, 1.0);\n",
    "prob = ODEProblem(f, u0, tspan, alpha);\n",
    "sol = solve(prob);\n",
    "display(sol.u)\n",
    "plot(sol, linewidth = 5, title = \"Solution of the linear ODE\", xaxis = \"t\", yaxis = \"u(t)\", label = \"Approximate solution\")\n",
    "plot!(sol.t, t -> 0.5 * exp(alpha*t), lw = 3, ls = :dash, label = \"Actual Solution\")"
   ]
  },
  {
   "cell_type": "code",
   "execution_count": null,
   "metadata": {},
   "outputs": [],
   "source": [
    "animate(sol)"
   ]
  },
  {
   "cell_type": "code",
   "execution_count": null,
   "metadata": {},
   "outputs": [],
   "source": [
    "# lorenz with parameter\n",
    "function parameterized_lorenz!(du, u, p, t)\n",
    "    du[1] = p[1] * (u[2] - u[1])\n",
    "    du[2] = u[1] * (p[2] - u[3]) - u[2]\n",
    "    du[3] = u[1] * u[2] - p[3] * u[3]\n",
    "end"
   ]
  },
  {
   "cell_type": "code",
   "execution_count": null,
   "metadata": {},
   "outputs": [],
   "source": [
    "u0 = [1.0, 0.0, 0.0]\n",
    "tspan = (0.0, 1.0)\n",
    "p = [10.0, 28.0, 8/3]\n",
    "prob = ODEProblem(parameterized_lorenz!, u0, tspan, p)"
   ]
  },
  {
   "cell_type": "code",
   "execution_count": null,
   "metadata": {},
   "outputs": [],
   "source": [
    "# nicer version\n",
    "function parameterized_lorenz_2!(du, u, p, t)\n",
    "    x, y, z = u\n",
    "    σ, ρ, β = p\n",
    "    du[1] = dx = σ * (y - x)\n",
    "    du[2] = dy = x * (ρ - z) - y\n",
    "    du[3] = dz = x * y - β * z\n",
    "end"
   ]
  },
  {
   "cell_type": "code",
   "execution_count": null,
   "metadata": {},
   "outputs": [],
   "source": [
    "u0 = [1.0, 0.0, 0.0]\n",
    "tspan = (0.0, 1.0)\n",
    "p = [10.0, 28.0, 8/3]\n",
    "prob = ODEProblem(parameterized_lorenz_2!, u0, tspan, p)"
   ]
  },
  {
   "cell_type": "code",
   "execution_count": null,
   "metadata": {},
   "outputs": [],
   "source": [
    "sol = solve(prob)"
   ]
  },
  {
   "cell_type": "markdown",
   "metadata": {},
   "source": [
    "*Preparation of this workshop has been supported by the Polish National Agency for Academic Exchange under the Strategic Partnerships programme, grant number BPI/PST/2021/1/00069/U/00001.*\n",
    "\n",
    "![SGH & NAWA](logo.png)"
   ]
  }
 ],
 "metadata": {
  "kernelspec": {
   "display_name": "Julia 1.8.3",
   "language": "julia",
   "name": "julia-1.8"
  },
  "language_info": {
   "file_extension": ".jl",
   "mimetype": "application/julia",
   "name": "julia",
   "version": "1.8.3"
  }
 },
 "nbformat": 4,
 "nbformat_minor": 4
}
