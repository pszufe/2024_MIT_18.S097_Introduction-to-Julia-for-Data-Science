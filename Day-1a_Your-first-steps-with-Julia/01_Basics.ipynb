{
 "cells": [
  {
   "cell_type": "markdown",
   "metadata": {},
   "source": [
    "# Your first steps with Julia\n",
    "\n",
    "## Przemysław Szufel"
   ]
  },
  {
   "cell_type": "code",
   "execution_count": null,
   "metadata": {},
   "outputs": [],
   "source": [
    "# Ctrl + ENTER\n",
    "versioninfo()"
   ]
  },
  {
   "cell_type": "code",
   "execution_count": null,
   "metadata": {},
   "outputs": [],
   "source": [
    "pwd()"
   ]
  },
  {
   "cell_type": "code",
   "execution_count": null,
   "metadata": {},
   "outputs": [],
   "source": [
    "]st"
   ]
  },
  {
   "cell_type": "code",
   "execution_count": null,
   "metadata": {
    "scrolled": true
   },
   "outputs": [],
   "source": [
    ";ls -la"
   ]
  },
  {
   "cell_type": "code",
   "execution_count": null,
   "metadata": {},
   "outputs": [],
   "source": [
    "function f(x,y) \n",
    "    x+y\n",
    "end \n",
    "\n",
    "f(x,y) = x+y"
   ]
  },
  {
   "cell_type": "code",
   "execution_count": null,
   "metadata": {},
   "outputs": [],
   "source": [
    "f(5,12)"
   ]
  },
  {
   "cell_type": "code",
   "execution_count": null,
   "metadata": {},
   "outputs": [],
   "source": [
    "@code_lowered f(5,6)"
   ]
  },
  {
   "cell_type": "code",
   "execution_count": null,
   "metadata": {},
   "outputs": [],
   "source": [
    "@code_typed f(4,5)"
   ]
  },
  {
   "cell_type": "code",
   "execution_count": null,
   "metadata": {},
   "outputs": [],
   "source": [
    "@code_llvm f(5,6)"
   ]
  },
  {
   "cell_type": "code",
   "execution_count": null,
   "metadata": {},
   "outputs": [],
   "source": [
    "@code_native f(5,6)"
   ]
  },
  {
   "cell_type": "code",
   "execution_count": null,
   "metadata": {},
   "outputs": [],
   "source": [
    "@code_native f(5.1,6)"
   ]
  },
  {
   "cell_type": "code",
   "execution_count": 83,
   "metadata": {
    "scrolled": false
   },
   "outputs": [
    {
     "data": {
      "text/plain": [
       "4-element Vector{Int64}:\n",
       " 1\n",
       " 2\n",
       " 3\n",
       " 4"
      ]
     },
     "execution_count": 83,
     "metadata": {},
     "output_type": "execute_result"
    }
   ],
   "source": [
    "v = [1,2,3,4]"
   ]
  },
  {
   "cell_type": "code",
   "execution_count": 84,
   "metadata": {},
   "outputs": [
    {
     "data": {
      "text/plain": [
       "9-element Vector{Int64}:\n",
       "  3\n",
       "  6\n",
       "  9\n",
       " 12\n",
       " 15\n",
       " 18\n",
       " 21\n",
       " 24\n",
       " 27"
      ]
     },
     "execution_count": 84,
     "metadata": {},
     "output_type": "execute_result"
    }
   ],
   "source": [
    "v3 = [ 3x for x in 1:9] #Python range(1,10)"
   ]
  },
  {
   "cell_type": "code",
   "execution_count": 86,
   "metadata": {},
   "outputs": [
    {
     "data": {
      "text/plain": [
       "4-element Vector{Int64}:\n",
       "  3\n",
       "  6\n",
       "  9\n",
       " 12"
      ]
     },
     "execution_count": 86,
     "metadata": {},
     "output_type": "execute_result"
    }
   ],
   "source": [
    "v3[1:4]"
   ]
  },
  {
   "cell_type": "code",
   "execution_count": 87,
   "metadata": {},
   "outputs": [
    {
     "data": {
      "text/plain": [
       "9-element Vector{Float64}:\n",
       " 1.0\n",
       " 1.4142135623730951\n",
       " 1.7320508075688772\n",
       " 2.0\n",
       " 2.23606797749979\n",
       " 2.449489742783178\n",
       " 2.6457513110645907\n",
       " 2.8284271247461903\n",
       " 3.0"
      ]
     },
     "execution_count": 87,
     "metadata": {},
     "output_type": "execute_result"
    }
   ],
   "source": [
    "v₄= [ √x₁ for x₁ ∈ 1:9] "
   ]
  },
  {
   "cell_type": "code",
   "execution_count": 88,
   "metadata": {},
   "outputs": [
    {
     "data": {
      "text/plain": [
       "Vector{Float64}\u001b[90m (alias for \u001b[39m\u001b[90mArray{Float64, 1}\u001b[39m\u001b[90m)\u001b[39m"
      ]
     },
     "execution_count": 88,
     "metadata": {},
     "output_type": "execute_result"
    }
   ],
   "source": [
    "typeof(v₄)"
   ]
  },
  {
   "cell_type": "code",
   "execution_count": 89,
   "metadata": {},
   "outputs": [
    {
     "data": {
      "text/plain": [
       "Float64"
      ]
     },
     "execution_count": 89,
     "metadata": {},
     "output_type": "execute_result"
    }
   ],
   "source": [
    "eltype(v₄)"
   ]
  },
  {
   "cell_type": "code",
   "execution_count": 91,
   "metadata": {},
   "outputs": [
    {
     "data": {
      "text/plain": [
       "1-element Vector{Int64}:\n",
       " 5"
      ]
     },
     "execution_count": 91,
     "metadata": {},
     "output_type": "execute_result"
    }
   ],
   "source": [
    "b = Int[]\n",
    "append!(b, 5)"
   ]
  },
  {
   "cell_type": "code",
   "execution_count": 92,
   "metadata": {},
   "outputs": [
    {
     "data": {
      "text/plain": [
       "Any[]"
      ]
     },
     "execution_count": 92,
     "metadata": {},
     "output_type": "execute_result"
    }
   ],
   "source": [
    "c = []"
   ]
  },
  {
   "cell_type": "code",
   "execution_count": 93,
   "metadata": {},
   "outputs": [
    {
     "data": {
      "text/plain": [
       "1 + 4im"
      ]
     },
     "execution_count": 93,
     "metadata": {},
     "output_type": "execute_result"
    }
   ],
   "source": [
    "c = Complex(1,4)"
   ]
  },
  {
   "cell_type": "code",
   "execution_count": 94,
   "metadata": {},
   "outputs": [
    {
     "data": {
      "text/plain": [
       "Complex{Int64}"
      ]
     },
     "execution_count": 94,
     "metadata": {},
     "output_type": "execute_result"
    }
   ],
   "source": [
    "typeof(c)"
   ]
  },
  {
   "cell_type": "code",
   "execution_count": 95,
   "metadata": {},
   "outputs": [
    {
     "name": "stdout",
     "output_type": "stream",
     "text": [
      "Complex{Int64}\n",
      "  re: Int64 1\n",
      "  im: Int64 4\n"
     ]
    }
   ],
   "source": [
    "dump(c)"
   ]
  },
  {
   "cell_type": "code",
   "execution_count": 96,
   "metadata": {},
   "outputs": [
    {
     "data": {
      "text/plain": [
       "1.0 + 4.0im"
      ]
     },
     "execution_count": 96,
     "metadata": {},
     "output_type": "execute_result"
    }
   ],
   "source": [
    "c2=Complex{Float64}(1,4)"
   ]
  },
  {
   "cell_type": "code",
   "execution_count": 97,
   "metadata": {},
   "outputs": [
    {
     "data": {
      "text/plain": [
       "ComplexF64\u001b[90m (alias for \u001b[39m\u001b[90mComplex{Float64}\u001b[39m\u001b[90m)\u001b[39m"
      ]
     },
     "execution_count": 97,
     "metadata": {},
     "output_type": "execute_result"
    }
   ],
   "source": [
    "typeof(c2)"
   ]
  },
  {
   "cell_type": "code",
   "execution_count": 98,
   "metadata": {},
   "outputs": [
    {
     "data": {
      "text/plain": [
       "ComplexF32\u001b[90m (alias for \u001b[39m\u001b[90mComplex{Float32}\u001b[39m\u001b[90m)\u001b[39m"
      ]
     },
     "execution_count": 98,
     "metadata": {},
     "output_type": "execute_result"
    }
   ],
   "source": [
    "c2=Complex{Float32}(1,4)\n",
    "typeof(c2)"
   ]
  },
  {
   "cell_type": "code",
   "execution_count": 99,
   "metadata": {},
   "outputs": [
    {
     "data": {
      "text/plain": [
       "3//4"
      ]
     },
     "execution_count": 99,
     "metadata": {},
     "output_type": "execute_result"
    }
   ],
   "source": [
    "x = 1//2 + 1//4"
   ]
  },
  {
   "cell_type": "code",
   "execution_count": 100,
   "metadata": {},
   "outputs": [
    {
     "data": {
      "text/plain": [
       "Rational{Int64}"
      ]
     },
     "execution_count": 100,
     "metadata": {},
     "output_type": "execute_result"
    }
   ],
   "source": [
    "typeof(x)"
   ]
  },
  {
   "cell_type": "code",
   "execution_count": 101,
   "metadata": {},
   "outputs": [
    {
     "data": {
      "text/plain": [
       "Complex{Rational{Int128}}"
      ]
     },
     "execution_count": 101,
     "metadata": {},
     "output_type": "execute_result"
    }
   ],
   "source": [
    "c3=Complex{Rational{Int128}}(1//4,4)\n",
    "typeof(c3)"
   ]
  },
  {
   "cell_type": "markdown",
   "metadata": {},
   "source": [
    "### Data types"
   ]
  },
  {
   "cell_type": "code",
   "execution_count": 102,
   "metadata": {},
   "outputs": [
    {
     "data": {
      "text/plain": [
       "3.7"
      ]
     },
     "execution_count": 102,
     "metadata": {},
     "output_type": "execute_result"
    }
   ],
   "source": [
    "parse(Float64, \"3.7\")"
   ]
  },
  {
   "cell_type": "code",
   "execution_count": 103,
   "metadata": {},
   "outputs": [
    {
     "data": {
      "text/plain": [
       "(1.0, 0x00000000)"
      ]
     },
     "execution_count": 103,
     "metadata": {},
     "output_type": "execute_result"
    }
   ],
   "source": [
    "one(Float64), zero(UInt32)"
   ]
  },
  {
   "cell_type": "code",
   "execution_count": 104,
   "metadata": {},
   "outputs": [
    {
     "name": "stdout",
     "output_type": "stream",
     "text": [
      "Int64('a') = 97\n",
      "Int64(2.0) = 2\n",
      "Float64(1) = 1.0\n",
      "Bool(1) = true\n",
      "Bool(0) = false\n",
      "Char(89) = 'Y'\n",
      "zero(10.0) = 0.0\n",
      "one(Int64) = 1\n",
      "convert(Int64, 1.0) = 1\n",
      "parse(Int64, \"1\") = 1\n"
     ]
    },
    {
     "data": {
      "text/plain": [
       "1"
      ]
     },
     "execution_count": 104,
     "metadata": {},
     "output_type": "execute_result"
    }
   ],
   "source": [
    "@show Int64('a') \t# character to integer\n",
    "@show Int64(2.0) \t# float to integer\n",
    "#Int64(1.3) \t\t# inexact error\n",
    "#Int64(\"a\") \t\t# error no conversion possible\n",
    "@show Float64(1) \t# integer to float\n",
    "@show Bool(1) \t\t# boolean true\n",
    "@show Bool(0) \t\t# boolean false\n",
    "@show Char(89) \t\t# integer to char\n",
    "@show zero(10.0) \t# zero of  arg type (Float64)\n",
    "@show one(Int64) \t# one of type Int64\n",
    "@show convert(Int64, 1.0)\t# float to integer\n",
    "@show parse(Int64, \"1\") "
   ]
  },
  {
   "cell_type": "code",
   "execution_count": null,
   "metadata": {},
   "outputs": [],
   "source": [
    "@show Int <: Any\n",
    "@show Int <: Union{Int, Float64}\n",
    "@show typeof(nothing)"
   ]
  },
  {
   "cell_type": "code",
   "execution_count": null,
   "metadata": {},
   "outputs": [],
   "source": [
    "f(x) = println(\"x= $x \")\n",
    "res = f(1)\n",
    "typeof(res)"
   ]
  },
  {
   "cell_type": "code",
   "execution_count": 105,
   "metadata": {},
   "outputs": [
    {
     "data": {
      "text/plain": [
       "π = 3.1415926535897..."
      ]
     },
     "execution_count": 105,
     "metadata": {},
     "output_type": "execute_result"
    }
   ],
   "source": [
    "π"
   ]
  },
  {
   "cell_type": "code",
   "execution_count": 106,
   "metadata": {},
   "outputs": [
    {
     "data": {
      "text/plain": [
       "Irrational{:π}"
      ]
     },
     "execution_count": 106,
     "metadata": {},
     "output_type": "execute_result"
    }
   ],
   "source": [
    "typeof(π)"
   ]
  },
  {
   "cell_type": "code",
   "execution_count": 116,
   "metadata": {},
   "outputs": [
    {
     "name": "stdout",
     "output_type": "stream",
     "text": [
      "BigFloat(π) = 3.14159265358979323846264338327950288419716939937510582097494459230781640628620899862803482534211706798214808651328230664709384460955058223172535940812848111745028410270193852110555964462294895493038196442881097566593344612847564823378678316527120190914564856692346034861045432664821339360726024914127372458700660631558817488152092096282925409171536436789259036001133053054882046652138414695194151160943305727036575959195309218611738193261179310511854807446237996274956735188575272489122793818301194912983367336244065664308602139494639522473719070217986094370277053921717629317675238467481846766940513200056812714526356082778577134275778960917363717872146844090122495343014654958537105079227968925892354201995611212902196086403441815981362977477130996051870721134999999837297804995105973173281609631859502445945534690830264252230825334468503526193118817101000313783875288658753320838142061717766914730359825349042875546873115956286388235378759375195778185778053217122680661300192787661119590921642019893809525720106548586327886593615338182796823030195203530185296899577362259941389124972177528347913151557485724245415069595082953311686172785588907509838175463746493931925506040092770167113900984882401285836160356370766010471018194295559619894676783744944825537977472684710404753464620804668425906949129331367702898915210475216205696602405803815019351125338243003558764024749647326391419927260426992279678235478163600934172164121992458631503028618297455570674983850549458858692699569092721079750930295532116534498720275596023648066549911988183479775356636980742654252786255181841757467289097777279380008164706001614524919217321721477235014144197356854816136115735255213347574184946843852332390739414333454776241686251898356948556209921922218427255025425688767179049460165346680498862723279178608578438382796797668145410095388378636095068006422512520511739298489608412848862694560424196528502221066118630674427862203919494504712371378696095636437191728746776465757396241389086583264599581339047802759009946576407895126946839835259570982582262052248940772671947826848260147699090264013639443745530506820349625245174939965143142980919065925093722169646151570985838741059788595977297549893016175392846813826868386894277415599185592524595395943104997252468084598727364469584865383673622262609912460805124388439045124413654976278079771569143599770012961608944169486855584840635342207222582848864815845602850601684273945226746767889525213852254995466672782398645659611635488623057745649803559363456817432411251507606947945109659609402522887971089314566913686722874894056010150330861792868092087476091782493858900971490967598526136554978189312978482168299894872265880485756401427047755513237964145152374623436454285844479526586782105114135473573952311342716610213596953623144295248493718711014576540359027993440374200731057853906219838744780847848968332144571386875194350643021845319104848100537061468067491927819119793995206141966342875444064374512371819217999839101591956181467514269123974894090718649423196156794520803\n"
     ]
    }
   ],
   "source": [
    "setprecision(10000)\n",
    "@show BigFloat(π);"
   ]
  },
  {
   "cell_type": "markdown",
   "metadata": {},
   "source": [
    "### Tuples"
   ]
  },
  {
   "cell_type": "code",
   "execution_count": 117,
   "metadata": {},
   "outputs": [
    {
     "name": "stdout",
     "output_type": "stream",
     "text": [
      "() = ()\n",
      "(1,) = (1,)\n",
      "(\"a\", 1) = (\"a\", 1)\n",
      "('a', false)::Tuple{Char, Bool} = ('a', false)\n",
      "x = (1, 2, 3) = (1, 2, 3)\n",
      "x[1] = 1\n",
      "x[1:2] = (1, 2)\n",
      "(a, b) = x = (1, 2, 3)\n"
     ]
    },
    {
     "data": {
      "text/plain": [
       "(1, 2, 3)"
      ]
     },
     "execution_count": 117,
     "metadata": {},
     "output_type": "execute_result"
    }
   ],
   "source": [
    "@show () \t\t# empty tuple\n",
    "@show (1,) \t\t# one element tuple\n",
    "@show (\"a\", 1) \t# two element tuple\n",
    "@show ('a', false)::Tuple{Char, Bool} # tuple type assertion\n",
    "@show x = (1, 2, 3)\n",
    "@show x[1] \t\t# first element\n",
    "@show x[1:2] \t# (1, 2) (tuple)\n",
    "# x[4] \t\t# bounds error\n",
    "# x[1] = 1 \t# error - tuple is not mutable\n",
    "@show a, b = x \t# tuple unpacking a==1, b==2\n"
   ]
  },
  {
   "cell_type": "code",
   "execution_count": null,
   "metadata": {},
   "outputs": [],
   "source": [
    "t = (3, 3.0)\n",
    "typeof(t)"
   ]
  },
  {
   "cell_type": "code",
   "execution_count": null,
   "metadata": {},
   "outputs": [],
   "source": [
    "k = (1, \"k\",  1//5)\n",
    "typeof(k)"
   ]
  },
  {
   "cell_type": "code",
   "execution_count": null,
   "metadata": {},
   "outputs": [],
   "source": [
    "v = collect(3:10)\n",
    "v[7:end]"
   ]
  },
  {
   "cell_type": "markdown",
   "metadata": {},
   "source": [
    "### Matrices"
   ]
  },
  {
   "cell_type": "code",
   "execution_count": 118,
   "metadata": {
    "scrolled": true
   },
   "outputs": [
    {
     "name": "stdout",
     "output_type": "stream",
     "text": [
      "Array{Any}(undef, 2, 3) = Any[#undef #undef #undef; #undef #undef #undef]\n",
      "zeros(5) = [0.0, 0.0, 0.0, 0.0, 0.0]\n",
      "ones(Int64, 2, 1) = [1; 1;;]\n",
      "(trues(3), falses(3)) = (Bool[1, 1, 1], Bool[0, 0, 0])\n",
      "x = range(1, stop = 2, length = 5) = 1.0:0.25:2.0\n",
      "collect(x) = [1.0, 1.25, 1.5, 1.75, 2.0]\n",
      "1:10 = 1:10\n",
      "1:2:10 = 1:2:9\n",
      "reshape(1:12, 3, 4) = [1 4 7 10; 2 5 8 11; 3 6 9 12]\n"
     ]
    },
    {
     "data": {
      "text/plain": [
       "3×4 reshape(::UnitRange{Int64}, 3, 4) with eltype Int64:\n",
       " 1  4  7  10\n",
       " 2  5  8  11\n",
       " 3  6  9  12"
      ]
     },
     "execution_count": 118,
     "metadata": {},
     "output_type": "execute_result"
    }
   ],
   "source": [
    "Array{Char}(undef, 2, 3, 4) \t# 2x3x4 array of Chars\n",
    "@show Array{Any}(undef, 2, 3) \t# 2x3 array of Any\n",
    "@show zeros(5) \t\t\t\t# vector of Float64 zeros\n",
    "@show ones(Int64, 2, 1) \t# 2x1 array of Int64 ones\n",
    "@show trues(3), falses(3) \t# tuple of vector of trues and of falses\n",
    "\n",
    "@show x = range(1, stop=2, length=5)  # iterator having 5 equally spaced elements\n",
    "@show collect(x) \t# converts iterator to vector\n",
    "@show 1:10 \t\t\t# iterable from 1 to 10\n",
    "@show 1:2:10 \t\t# iterable from 1 to 9 with 2 skip\n",
    "@show reshape(1:12, 3, 4)\t# 3x4 array filled with 1:12 values\n"
   ]
  },
  {
   "cell_type": "code",
   "execution_count": 119,
   "metadata": {},
   "outputs": [
    {
     "data": {
      "text/plain": [
       "Matrix\u001b[90m (alias for \u001b[39m\u001b[90mArray{T, 2} where T\u001b[39m\u001b[90m)\u001b[39m"
      ]
     },
     "execution_count": 119,
     "metadata": {},
     "output_type": "execute_result"
    }
   ],
   "source": [
    "Matrix"
   ]
  },
  {
   "cell_type": "code",
   "execution_count": 127,
   "metadata": {},
   "outputs": [
    {
     "data": {
      "text/plain": [
       "2×3 Matrix{Int64}:\n",
       "               0  140703366427184  140703355355408\n",
       " 140703355355408                0  140703355326736"
      ]
     },
     "execution_count": 127,
     "metadata": {},
     "output_type": "execute_result"
    }
   ],
   "source": [
    "y = Matrix{Int64}(undef, 2, 3)"
   ]
  },
  {
   "cell_type": "code",
   "execution_count": 128,
   "metadata": {},
   "outputs": [
    {
     "data": {
      "text/plain": [
       "4×5 Matrix{Float64}:\n",
       " 0.0  0.0  66.0  0.0  0.0\n",
       " 0.0  0.0   0.0  0.0  0.0\n",
       " 0.0  0.0   0.0  0.0  0.0\n",
       " 0.0  0.0   0.0  0.0  0.0"
      ]
     },
     "execution_count": 128,
     "metadata": {},
     "output_type": "execute_result"
    }
   ],
   "source": [
    "m = zeros( 4,5)\n",
    "m[1,3] = 66\n",
    "m\n",
    "# 1-based numbering "
   ]
  },
  {
   "cell_type": "code",
   "execution_count": 129,
   "metadata": {},
   "outputs": [
    {
     "data": {
      "text/plain": [
       "4-element Vector{Float64}:\n",
       " 66.0\n",
       "  0.0\n",
       "  0.0\n",
       "  0.0"
      ]
     },
     "execution_count": 129,
     "metadata": {},
     "output_type": "execute_result"
    }
   ],
   "source": [
    "m[:,3] #array slicing"
   ]
  },
  {
   "cell_type": "code",
   "execution_count": 136,
   "metadata": {},
   "outputs": [
    {
     "data": {
      "text/plain": [
       "3000×4000000 reshape(::UnitRange{Int64}, 3000, 4000000) with eltype Int64:\n",
       "    1  3001  6001   9001  12001  15001  18001  …  11999994001  11999997001\n",
       "    2  3002  6002   9002  12002  15002  18002     11999994002  11999997002\n",
       "    3  3003  6003   9003  12003  15003  18003     11999994003  11999997003\n",
       "    4  3004  6004   9004  12004  15004  18004     11999994004  11999997004\n",
       "    5  3005  6005   9005  12005  15005  18005     11999994005  11999997005\n",
       "    6  3006  6006   9006  12006  15006  18006  …  11999994006  11999997006\n",
       "    7  3007  6007   9007  12007  15007  18007     11999994007  11999997007\n",
       "    8  3008  6008   9008  12008  15008  18008     11999994008  11999997008\n",
       "    9  3009  6009   9009  12009  15009  18009     11999994009  11999997009\n",
       "   10  3010  6010   9010  12010  15010  18010     11999994010  11999997010\n",
       "   11  3011  6011   9011  12011  15011  18011  …  11999994011  11999997011\n",
       "   12  3012  6012   9012  12012  15012  18012     11999994012  11999997012\n",
       "   13  3013  6013   9013  12013  15013  18013     11999994013  11999997013\n",
       "    ⋮                                ⋮         ⋱               \n",
       " 2989  5989  8989  11989  14989  17989  20989     11999996989  11999999989\n",
       " 2990  5990  8990  11990  14990  17990  20990     11999996990  11999999990\n",
       " 2991  5991  8991  11991  14991  17991  20991  …  11999996991  11999999991\n",
       " 2992  5992  8992  11992  14992  17992  20992     11999996992  11999999992\n",
       " 2993  5993  8993  11993  14993  17993  20993     11999996993  11999999993\n",
       " 2994  5994  8994  11994  14994  17994  20994     11999996994  11999999994\n",
       " 2995  5995  8995  11995  14995  17995  20995     11999996995  11999999995\n",
       " 2996  5996  8996  11996  14996  17996  20996  …  11999996996  11999999996\n",
       " 2997  5997  8997  11997  14997  17997  20997     11999996997  11999999997\n",
       " 2998  5998  8998  11998  14998  17998  20998     11999996998  11999999998\n",
       " 2999  5999  8999  11999  14999  17999  20999     11999996999  11999999999\n",
       " 3000  6000  9000  12000  15000  18000  21000     11999997000  12000000000"
      ]
     },
     "execution_count": 136,
     "metadata": {},
     "output_type": "execute_result"
    }
   ],
   "source": [
    "a = reshape(1:12_000_000_000, 3_000, 4_000_000)\n",
    "\n",
    "\n"
   ]
  },
  {
   "cell_type": "code",
   "execution_count": null,
   "metadata": {},
   "outputs": [],
   "source": [
    "a = reshape(1:12, 3, 4)\n",
    "display(a[:, 3:end]) # 3x2 matrix\n",
    "display(a[:, 1]) # 3 element vector\n",
    "display(a[1, :]) # 4 element vector\n"
   ]
  },
  {
   "cell_type": "markdown",
   "metadata": {},
   "source": [
    "### Data structures"
   ]
  },
  {
   "cell_type": "code",
   "execution_count": 137,
   "metadata": {
    "scrolled": true
   },
   "outputs": [
    {
     "name": "stdout",
     "output_type": "stream",
     "text": [
      "p = Point1(0, 0.0, \"Origin\")\n",
      "p.x = 0\n",
      "fieldnames(typeof(p)) = (:x, :y, :meta)\n",
      "fieldnames(Point1) = (:x, :y, :meta)\n"
     ]
    }
   ],
   "source": [
    "mutable struct Point1\n",
    "  x::Int \n",
    "  y::Float64\n",
    "  meta\n",
    "end\n",
    "p = Point1(0, 0.0, \"Origin\")\n",
    "@show p\n",
    "@show p.x \t\t# access field\n",
    "p.meta = 2\t\t# change field value\n",
    "@show fieldnames(typeof(p)) # get names of instance fields\n",
    "@show fieldnames(Point1); \t# get names of type fields\n"
   ]
  },
  {
   "cell_type": "code",
   "execution_count": 138,
   "metadata": {},
   "outputs": [
    {
     "name": "stdout",
     "output_type": "stream",
     "text": [
      "Symbol x\n"
     ]
    }
   ],
   "source": [
    "dump(:x)"
   ]
  },
  {
   "cell_type": "code",
   "execution_count": 139,
   "metadata": {},
   "outputs": [
    {
     "name": "stdout",
     "output_type": "stream",
     "text": [
      "Point1\n",
      "  x: Int64 0\n",
      "  y: Float64 0.0\n",
      "  meta: Int64 2\n"
     ]
    }
   ],
   "source": [
    "dump(p)"
   ]
  },
  {
   "cell_type": "code",
   "execution_count": null,
   "metadata": {},
   "outputs": [],
   "source": [
    "fieldnames(typeof(p))"
   ]
  },
  {
   "cell_type": "code",
   "execution_count": 140,
   "metadata": {},
   "outputs": [
    {
     "name": "stdout",
     "output_type": "stream",
     "text": [
      "Symbol a\n"
     ]
    }
   ],
   "source": [
    "dump(:a)"
   ]
  },
  {
   "cell_type": "code",
   "execution_count": 141,
   "metadata": {},
   "outputs": [
    {
     "data": {
      "text/plain": [
       "Point2(999, 2.0, \"Origin\")"
      ]
     },
     "execution_count": 141,
     "metadata": {},
     "output_type": "execute_result"
    }
   ],
   "source": [
    "Base.@kwdef struct Point2\n",
    "  x::Int64 = 1\n",
    "  y::Float64 = 2.0\n",
    "  meta\n",
    "end\n",
    "p2 = Point2(x=999, meta = \"Origin\")"
   ]
  },
  {
   "cell_type": "code",
   "execution_count": 142,
   "metadata": {},
   "outputs": [
    {
     "name": "stdout",
     "output_type": "stream",
     "text": [
      "ErrorException(\"setfield!: immutable struct of type Point2 cannot be changed\")\n"
     ]
    }
   ],
   "source": [
    "try \n",
    "    p2.x = 33333\n",
    "catch e\n",
    "    println(e)\n",
    "end"
   ]
  },
  {
   "cell_type": "code",
   "execution_count": 143,
   "metadata": {},
   "outputs": [
    {
     "data": {
      "text/plain": [
       "Point3\n",
       "  x: Int64 66\n",
       "  y: Float64 2.0\n",
       "  meta: String \"Origin\"\n"
      ]
     },
     "execution_count": 143,
     "metadata": {},
     "output_type": "execute_result"
    }
   ],
   "source": [
    "using Parameters\n",
    "@with_kw mutable struct Point3\n",
    "  x::Int64 = 1\n",
    "  y::Float64 = 2.0\n",
    "  meta\n",
    "end\n",
    "p3 = Point3(x=999, meta = \"Origin\")\n",
    "p3.x = 66\n",
    "p3"
   ]
  },
  {
   "cell_type": "code",
   "execution_count": null,
   "metadata": {},
   "outputs": [],
   "source": [
    "Point3(;x=11,meta=\"ss\")"
   ]
  },
  {
   "cell_type": "markdown",
   "metadata": {},
   "source": [
    "### Dictionaries"
   ]
  },
  {
   "cell_type": "code",
   "execution_count": 144,
   "metadata": {},
   "outputs": [
    {
     "data": {
      "text/plain": [
       "Dict{Int64, Float64} with 2 entries:\n",
       "  5 => 66.6\n",
       "  7 => 99.0"
      ]
     },
     "execution_count": 144,
     "metadata": {},
     "output_type": "execute_result"
    }
   ],
   "source": [
    "x = Dict{Int, Float64}() \n",
    "x[5] = 66.6\n",
    "x[7] = 99\n",
    "\n",
    "x"
   ]
  },
  {
   "cell_type": "code",
   "execution_count": null,
   "metadata": {},
   "outputs": [],
   "source": [
    "x2 = Dict{Any, Any}() \n",
    "x2[5] = 66.6\n",
    "x2[7] = 99\n",
    "\n",
    "x2"
   ]
  },
  {
   "cell_type": "code",
   "execution_count": 147,
   "metadata": {},
   "outputs": [
    {
     "data": {
      "text/plain": [
       "Pair{Int64, Int64}"
      ]
     },
     "execution_count": 147,
     "metadata": {},
     "output_type": "execute_result"
    }
   ],
   "source": [
    "typeof(1=>5)"
   ]
  },
  {
   "cell_type": "code",
   "execution_count": 148,
   "metadata": {},
   "outputs": [
    {
     "data": {
      "text/plain": [
       "Dict{Int64, Float64} with 2 entries:\n",
       "  2 => 4.5\n",
       "  1 => 5.5"
      ]
     },
     "execution_count": 148,
     "metadata": {},
     "output_type": "execute_result"
    }
   ],
   "source": [
    "y = Dict(1=>5.5, 2=>4.5) "
   ]
  },
  {
   "cell_type": "code",
   "execution_count": 150,
   "metadata": {},
   "outputs": [
    {
     "name": "stdout",
     "output_type": "stream",
     "text": [
      "y[2] = 4.5\n",
      "y[3] = 30.0 = 30.0\n",
      "haskey(y, 2) = true\n",
      "(keys(y), values(y)) = ([2, 3, 1], [4.5, 30.0, 5.5])\n",
      "delete!(y, 2) = Dict(3 => 30.0, 1 => 5.5)\n",
      "get(y, 2, 777) = 777\n"
     ]
    },
    {
     "data": {
      "text/plain": [
       "777"
      ]
     },
     "execution_count": 150,
     "metadata": {},
     "output_type": "execute_result"
    }
   ],
   "source": [
    "x = Dict{Int, Float64}() # empty dictionary mapping integers to floats\n",
    "y = Dict(1=>5.5, 2=>4.5) \t# created dictionary\n",
    "@show y[2] \t\t\t\t\t# get element\n",
    "@show y[3] = 30.0 \t\t\t# add element\n",
    "@show haskey(y, 2) \t\t\t# check if key exists\n",
    "@show keys(y), values(y) # iterators returning dictionary keys and values\n",
    "@show delete!(y, 2)   # removing elements see also: pop!\n",
    "@show get(y, 2, 777) # returns y[2] or 777 if not haskey(y,2)\n"
   ]
  },
  {
   "cell_type": "markdown",
   "metadata": {},
   "source": [
    "### Text processing"
   ]
  },
  {
   "cell_type": "code",
   "execution_count": 152,
   "metadata": {},
   "outputs": [
    {
     "name": "stdout",
     "output_type": "stream",
     "text": [
      "\"$(x) + 3 = $(x + 3)  3\\$\" = \"123 + 3 = 126  3\\$\"\n"
     ]
    },
    {
     "data": {
      "text/plain": [
       "\"123 + 3 = 126  3\\$\""
      ]
     },
     "execution_count": 152,
     "metadata": {},
     "output_type": "execute_result"
    }
   ],
   "source": [
    "x = 123\n",
    "@show \"$x + 3 = $(x+3)  3\\$\"  "
   ]
  },
  {
   "cell_type": "code",
   "execution_count": 151,
   "metadata": {},
   "outputs": [
    {
     "name": "stdout",
     "output_type": "stream",
     "text": [
      "\"Hi \" * \"there!\" = \"Hi there!\"\n",
      "\"Ho \" ^ 3 = \"Ho Ho Ho \"\n",
      "string(\"a= \", 123.3) = \"a= 123.3\"\n",
      "occursin(\"CD\", \"ABCD\") = true\n",
      "\"\\\"\\n\\t\\$\" = \"\\\"\\n\\t\\$\"\n",
      "\"$(x) + 3 = $(x + 3)\" = \"123 + 3 = 126\"\n",
      "\"\\$199\" = \"\\$199\"\n",
      "occursin(r, \"CD\") = false\n",
      "m = match(r, \"ACBD\") = RegexMatch(\"A\")\n"
     ]
    }
   ],
   "source": [
    "@show \"Hi \" * \"there!\" \t\t# concatenation\n",
    "@show \"Ho \" ^ 3 \t\t\t# multiplication\n",
    "@show string(\"a= \", 123.3) \t# joining elements to text\n",
    "@show occursin(\"CD\",\"ABCD\") \t# occurence\n",
    "@show \"\\\"\\n\\t\\$\" # C-like escaping, additionally escape \\$ \n",
    "                          # escaping - similiar to Matlab, Python, R\n",
    "x = 123\n",
    "@show \"$x + 3 = $(x+3)\"  # $ is an interpolation operator\n",
    "@show \"\\$199\" # that is why you need escaping\n",
    "\n",
    "r = r\"A|B\" # full support for regular expressions\n",
    "@show occursin(r, \"CD\") # false, not found\n",
    "@show m = match(r, \"ACBD\"); # first regexp match \n"
   ]
  },
  {
   "cell_type": "code",
   "execution_count": null,
   "metadata": {},
   "outputs": [],
   "source": [
    "\n",
    "x = 6\n",
    "\n",
    "tekst = \"hello $x and $(x*x+2x)\""
   ]
  },
  {
   "cell_type": "code",
   "execution_count": null,
   "metadata": {},
   "outputs": [],
   "source": [
    "str = raw\"c:\\windows\\n\""
   ]
  },
  {
   "cell_type": "code",
   "execution_count": null,
   "metadata": {},
   "outputs": [],
   "source": [
    "?@raw_str"
   ]
  },
  {
   "cell_type": "markdown",
   "metadata": {},
   "source": [
    "### Functions"
   ]
  },
  {
   "cell_type": "code",
   "execution_count": null,
   "metadata": {},
   "outputs": [],
   "source": [
    "f(x, y = 10) = x + y \n",
    "# for this function the default value of y is 10\n",
    "@show f(3, 2) # 5 is returned\n",
    "@show f(3)    # 13 is returned\n",
    "\n",
    "\n",
    "\n"
   ]
  },
  {
   "cell_type": "code",
   "execution_count": 155,
   "metadata": {},
   "outputs": [
    {
     "data": {
      "text/html": [
       "# 3 methods for generic function <b>g</b>:<ul><li> g(x::<b>Int64</b>, y::<b>Int64</b>) in Main at In[155]:1</li> <li> g(x::<b>Int64</b>, y::<b>Bool</b>) in Main at In[155]:5</li> <li> g(x, y) in Main at In[155]:6</li> </ul>"
      ],
      "text/plain": [
       "# 3 methods for generic function \"g\":\n",
       "[1] g(x::Int64, y::Int64) in Main at In[155]:1\n",
       "[2] g(x::Int64, y::Bool) in Main at In[155]:5\n",
       "[3] g(x, y) in Main at In[155]:6"
      ]
     },
     "execution_count": 155,
     "metadata": {},
     "output_type": "execute_result"
    }
   ],
   "source": [
    "function g(x::Int, y::Int) # limit arg type\n",
    "  return y, x # tuple returned \n",
    "end\n",
    "\n",
    "g(x::Int, y::Bool) = x * y # multiple dispatch\n",
    "g(x, y) = x - y\n",
    "methods(g) # list of methods for g\n",
    "\n"
   ]
  },
  {
   "cell_type": "code",
   "execution_count": null,
   "metadata": {},
   "outputs": [],
   "source": [
    "function g(x::Int, y::Int) # limit arg type\n",
    "  return y, x # tuple returned \n",
    "end\n",
    "\n",
    "g(x::Int, y::Bool) = x * y # multiple dispatch\n",
    "\n",
    "@show g(1,2)\n",
    "@show g(1, true)\n"
   ]
  },
  {
   "cell_type": "code",
   "execution_count": null,
   "metadata": {},
   "outputs": [],
   "source": [
    "methods(g)"
   ]
  },
  {
   "cell_type": "code",
   "execution_count": null,
   "metadata": {},
   "outputs": [],
   "source": [
    "@show g(1,4)\n",
    "@show g(1,true)\n",
    "methods(g)"
   ]
  },
  {
   "cell_type": "markdown",
   "metadata": {},
   "source": [
    "### Operators"
   ]
  },
  {
   "cell_type": "code",
   "execution_count": 156,
   "metadata": {},
   "outputs": [
    {
     "data": {
      "text/plain": [
       "1×2 BitMatrix:\n",
       " 1  0"
      ]
     },
     "execution_count": 156,
     "metadata": {},
     "output_type": "execute_result"
    }
   ],
   "source": [
    "[1 2] .< [2 1]"
   ]
  },
  {
   "cell_type": "code",
   "execution_count": null,
   "metadata": {},
   "outputs": [],
   "source": [
    "@show true || false # binary or operator (singeltons only)\n",
    "@show 1 < 2 < 3     # condition chaining  is OK \n",
    "@show [1 2] .< [2 1] # vectorization via dot operator \".\"\n",
    "@show a = 5\n",
    "@show 2a + 2(a+1) # multiplication can be ommited \n",
    "@show x = [1 2 3]\t  #matrix 1×3 Array{Int64,2}    \n",
    "@show y = [1, 2, 3]  #matrix 3-elements Array{Int64,1}\n",
    "# vectors are vecticar and are different concept than horizontal 1-row matrix\n",
    "#x + y # error\n",
    "@show x .+ y # 3x3 matrix, dimension broadcasting\n",
    "@show x + y' # 1x3 matrix\n",
    "@show x * y; # array multiplication, 1-element vector (not scalar)\n"
   ]
  },
  {
   "cell_type": "code",
   "execution_count": null,
   "metadata": {},
   "outputs": [],
   "source": [
    "f(x,y) =  x<y ? x : y"
   ]
  },
  {
   "cell_type": "code",
   "execution_count": null,
   "metadata": {},
   "outputs": [],
   "source": [
    "f(10,30)"
   ]
  },
  {
   "cell_type": "code",
   "execution_count": null,
   "metadata": {},
   "outputs": [],
   "source": [
    "a=  [1,2,3]\n",
    "b=  [0,5,6]"
   ]
  },
  {
   "cell_type": "code",
   "execution_count": null,
   "metadata": {},
   "outputs": [],
   "source": [
    "f.(a,b)"
   ]
  },
  {
   "cell_type": "code",
   "execution_count": null,
   "metadata": {},
   "outputs": [],
   "source": [
    "a .* b"
   ]
  },
  {
   "cell_type": "markdown",
   "metadata": {},
   "source": [
    "### Simple demo"
   ]
  },
  {
   "cell_type": "code",
   "execution_count": 157,
   "metadata": {},
   "outputs": [
    {
     "data": {
      "text/plain": [
       "calc_pi (generic function with 1 method)"
      ]
     },
     "execution_count": 157,
     "metadata": {},
     "output_type": "execute_result"
    }
   ],
   "source": [
    "function calc_pi(n, T)\n",
    "    # n is the number of replications\n",
    "    # T is the result type\n",
    "    s = one(T)\n",
    "    f = one(T)\n",
    "    for i::T in 1:n\n",
    "        f *= i/(2i+1)\n",
    "        s += f\n",
    "    end\n",
    "    2s\n",
    "end"
   ]
  },
  {
   "cell_type": "code",
   "execution_count": 158,
   "metadata": {},
   "outputs": [
    {
     "data": {
      "text/plain": [
       "Irrational{:π}"
      ]
     },
     "execution_count": 158,
     "metadata": {},
     "output_type": "execute_result"
    }
   ],
   "source": [
    "π\n",
    "typeof(π)"
   ]
  },
  {
   "cell_type": "code",
   "execution_count": null,
   "metadata": {},
   "outputs": [],
   "source": [
    "π"
   ]
  },
  {
   "cell_type": "code",
   "execution_count": 159,
   "metadata": {},
   "outputs": [
    {
     "data": {
      "text/plain": [
       "10-element Vector{BigFloat}:\n",
       " -0.207998903589793238462643383279502884197169399375105820974944592307816406286208998628034825342117067982148086513282306647093844609550582231725359408128481117450284102701938521105559644622948954930381964428810975665933446128475648233786783165271201909145648566923460348610454326648213393607260249141273724587006606315588174881520920962829254091715364367892590360011330530548820466521384146951941511609433057270365759591953092186117381932611793105118548074462379962749567351885752724891227938183011949129833673362440656643086021394946395224737190702179860943702770539217176293176752384674818467669405132000568127145263560827785771342757789609173637178721468440901224953430146549585371050792279689258923542019956112129021960864034418159813629774771309960518707211349999998372978049951059731732816096318595024459455346908302642522308253344685035261931188171010003137838752886587533208381420617177669147303598253490428755468731159562863882353787593751957781857780532171226806613001927876611195909216420198938095257201065485863278865936153381827968230301952035301852968995773622599413891249721775283479131515574857242454150695950829533116861727855889075098381754637464939319255060400927701671139009848824012858361603563707660104710181942955596198946767837449448255379774726847104047534646208046684259069491293313677028989152104752162056966024058038150193511253382430035587640247496473263914199272604269922796782354781636009341721641219924586315030286182974555706749838505494588586926995690927210797509302955321165344987202755960236480665499119881834797753566369807426542527862551818417574672890977772793800081647060016145249192173217214772350141441973568548161361157352552133475741849468438523323907394143334547762416862518983569485562099219222184272550254256887671790494601653466804988627232791786085784383827967976681454100953883786360950680064225125205117392984896084128488626945604241965285022210661186306744278622039194945047123713786960956364371917287467764657573962413890865832645995813390478027590099465764078951269468398352595709825822620522489407726719478268482601476990902640136394437455305068203496252451749399651431429809190659250937221696461515709858387410597885959772975498930161753928468138268683868942774155991855925245953959431049972524680845987273644695848653836736222626099124608051243884390451244136549762780797715691435997700129616089441694868555848406353422072225828488648158456028506016842739452267467678895252138522549954666727823986456596116354886230577456498035593634568174324112515076069479451096596094025228879710893145669136867228748940560101503308617928680920874760917824938589009714909675985261365549781893129784821682998948722658804857564014270477555132379641451523746234364542858444795265867821051141354735739523113427166102135969536231442952484937187110145765403590279934403742007310578539062198387447808478489683321445713868751943506430218453191048481005370614680674919278191197939952061419663428754440643745123718192179998391015919561814675142691239748940907186494231961567945208032\n",
       " -0.0439364035897932384626433832795028841971693993751058209749445923078164062862089986280348253421170679821480865132823066470938446095505822317253594081284811174502841027019385211055596446229489549303819644288109756659334461284756482337867831652712019091456485669234603486104543266482133936072602491412737245870066063155881748815209209628292540917153643678925903600113305305488204665213841469519415116094330572703657595919530921861173819326117931051185480744623799627495673518857527248912279381830119491298336733624406566430860213949463952247371907021798609437027705392171762931767523846748184676694051320005681271452635608277857713427577896091736371787214684409012249534301465495853710507922796892589235420199561121290219608640344181598136297747713099605187072113499999983729780499510597317328160963185950244594553469083026425223082533446850352619311881710100031378387528865875332083814206171776691473035982534904287554687311595628638823537875937519577818577805321712268066130019278766111959092164201989380952572010654858632788659361533818279682303019520353018529689957736225994138912497217752834791315155748572424541506959508295331168617278558890750983817546374649393192550604009277016711390098488240128583616035637076601047101819429555961989467678374494482553797747268471040475346462080466842590694912933136770289891521047521620569660240580381501935112533824300355876402474964732639141992726042699227967823547816360093417216412199245863150302861829745557067498385054945885869269956909272107975093029553211653449872027559602364806654991198818347977535663698074265425278625518184175746728909777727938000816470600161452491921732172147723501414419735685481613611573525521334757418494684385233239073941433345477624168625189835694855620992192221842725502542568876717904946016534668049886272327917860857843838279679766814541009538837863609506800642251252051173929848960841284886269456042419652850222106611863067442786220391949450471237137869609563643719172874677646575739624138908658326459958133904780275900994657640789512694683983525957098258226205224894077267194782684826014769909026401363944374553050682034962524517493996514314298091906592509372216964615157098583874105978859597729754989301617539284681382686838689427741559918559252459539594310499725246808459872736446958486538367362226260991246080512438843904512441365497627807977156914359977001296160894416948685558484063534220722258284886481584560285060168427394522674676788952521385225499546667278239864565961163548862305774564980355936345681743241125150760694794510965960940252288797108931456691368672287489405601015033086179286809208747609178249385890097149096759852613655497818931297848216829989487226588048575640142704775551323796414515237462343645428584447952658678210511413547357395231134271661021359695362314429524849371871101457654035902799344037420073105785390621983874478084784896833214457138687519435064302184531910484810053706146806749192781911979399520614196634287544406437451237181921799983910159195618146751426912397489409071864942319615679452080315\n",
       " -0.00292077858979323846264338327950288419716939937510582097494459230781640628620899862803482534211706798214808651328230664709384460955058223172535940812848111745028410270193852110555964462294895493038196442881097566593344612847564823378678316527120190914564856692346034861045432664821339360726024914127372458700660631558817488152092096282925409171536436789259036001133053054882046652138414695194151160943305727036575959195309218611738193261179310511854807446237996274956735188575272489122793818301194912983367336244065664308602139494639522473719070217986094370277053921717629317675238467481846766940513200056812714526356082778577134275778960917363717872146844090122495343014654958537105079227968925892354201995611212902196086403441815981362977477130996051870721134999999837297804995105973173281609631859502445945534690830264252230825334468503526193118817101000313783875288658753320838142061717766914730359825349042875546873115956286388235378759375195778185778053217122680661300192787661119590921642019893809525720106548586327886593615338182796823030195203530185296899577362259941389124972177528347913151557485724245415069595082953311686172785588907509838175463746493931925506040092770167113900984882401285836160356370766010471018194295559619894676783744944825537977472684710404753464620804668425906949129331367702898915210475216205696602405803815019351125338243003558764024749647326391419927260426992279678235478163600934172164121992458631503028618297455570674983850549458858692699569092721079750930295532116534498720275596023648066549911988183479775356636980742654252786255181841757467289097777279380008164706001614524919217321721477235014144197356854816136115735255213347574184946843852332390739414333454776241686251898356948556209921922218427255025425688767179049460165346680498862723279178608578438382796797668145410095388378636095068006422512520511739298489608412848862694560424196528502221066118630674427862203919494504712371378696095636437191728746776465757396241389086583264599581339047802759009946576407895126946839835259570982582262052248940772671947826848260147699090264013639443745530506820349625245174939965143142980919065925093722169646151570985838741059788595977297549893016175392846813826868386894277415599185592524595395943104997252468084598727364469584865383673622262609912460805124388439045124413654976278079771569143599770012961608944169486855584840635342207222582848864815845602850601684273945226746767889525213852254995466672782398645659611635488623057745649803559363456817432411251507606947945109659609402522887971089314566913686722874894056010150330861792868092087476091782493858900971490967598526136554978189312978482168299894872265880485756401427047755513237964145152374623436454285844479526586782105114135473573952311342716610213596953623144295248493718711014576540359027993440374200731057853906219838744780847848968332144571386875194350643021845319104848100537061468067491927819119793995206141966342875444064374512371819217999839101591956181467514269123974894090718649423196156794520803153\n",
       " -0.000967653589793238462643383279502884197169399375105820974944592307816406286208998628034825342117067982148086513282306647093844609550582231725359408128481117450284102701938521105559644622948954930381964428810975665933446128475648233786783165271201909145648566923460348610454326648213393607260249141273724587006606315588174881520920962829254091715364367892590360011330530548820466521384146951941511609433057270365759591953092186117381932611793105118548074462379962749567351885752724891227938183011949129833673362440656643086021394946395224737190702179860943702770539217176293176752384674818467669405132000568127145263560827785771342757789609173637178721468440901224953430146549585371050792279689258923542019956112129021960864034418159813629774771309960518707211349999998372978049951059731732816096318595024459455346908302642522308253344685035261931188171010003137838752886587533208381420617177669147303598253490428755468731159562863882353787593751957781857780532171226806613001927876611195909216420198938095257201065485863278865936153381827968230301952035301852968995773622599413891249721775283479131515574857242454150695950829533116861727855889075098381754637464939319255060400927701671139009848824012858361603563707660104710181942955596198946767837449448255379774726847104047534646208046684259069491293313677028989152104752162056966024058038150193511253382430035587640247496473263914199272604269922796782354781636009341721641219924586315030286182974555706749838505494588586926995690927210797509302955321165344987202755960236480665499119881834797753566369807426542527862551818417574672890977772793800081647060016145249192173217214772350141441973568548161361157352552133475741849468438523323907394143334547762416862518983569485562099219222184272550254256887671790494601653466804988627232791786085784383827967976681454100953883786360950680064225125205117392984896084128488626945604241965285022210661186306744278622039194945047123713786960956364371917287467764657573962413890865832645995813390478027590099465764078951269468398352595709825822620522489407726719478268482601476990902640136394437455305068203496252451749399651431429809190659250937221696461515709858387410597885959772975498930161753928468138268683868942774155991855925245953959431049972524680845987273644695848653836736222626099124608051243884390451244136549762780797715691435997700129616089441694868555848406353422072225828488648158456028506016842739452267467678895252138522549954666727823986456596116354886230577456498035593634568174324112515076069479451096596094025228879710893145669136867228748940560101503308617928680920874760917824938589009714909675985261365549781893129784821682998948722658804857564014270477555132379641451523746234364542858444795265867821051141354735739523113427166102135969536231442952484937187110145765403590279934403742007310578539062198387447808478489683321445713868751943506430218453191048481005370614680674919278191197939952061419663428754440643745123718192179998391015919561814675142691239748940907186494231961567945208031528\n",
       " -0.000967653589793238462643383279502884197169399375105820974944592307816406286208998628034825342117067982148086513282306647093844609550582231725359408128481117450284102701938521105559644622948954930381964428810975665933446128475648233786783165271201909145648566923460348610454326648213393607260249141273724587006606315588174881520920962829254091715364367892590360011330530548820466521384146951941511609433057270365759591953092186117381932611793105118548074462379962749567351885752724891227938183011949129833673362440656643086021394946395224737190702179860943702770539217176293176752384674818467669405132000568127145263560827785771342757789609173637178721468440901224953430146549585371050792279689258923542019956112129021960864034418159813629774771309960518707211349999998372978049951059731732816096318595024459455346908302642522308253344685035261931188171010003137838752886587533208381420617177669147303598253490428755468731159562863882353787593751957781857780532171226806613001927876611195909216420198938095257201065485863278865936153381827968230301952035301852968995773622599413891249721775283479131515574857242454150695950829533116861727855889075098381754637464939319255060400927701671139009848824012858361603563707660104710181942955596198946767837449448255379774726847104047534646208046684259069491293313677028989152104752162056966024058038150193511253382430035587640247496473263914199272604269922796782354781636009341721641219924586315030286182974555706749838505494588586926995690927210797509302955321165344987202755960236480665499119881834797753566369807426542527862551818417574672890977772793800081647060016145249192173217214772350141441973568548161361157352552133475741849468438523323907394143334547762416862518983569485562099219222184272550254256887671790494601653466804988627232791786085784383827967976681454100953883786360950680064225125205117392984896084128488626945604241965285022210661186306744278622039194945047123713786960956364371917287467764657573962413890865832645995813390478027590099465764078951269468398352595709825822620522489407726719478268482601476990902640136394437455305068203496252451749399651431429809190659250937221696461515709858387410597885959772975498930161753928468138268683868942774155991855925245953959431049972524680845987273644695848653836736222626099124608051243884390451244136549762780797715691435997700129616089441694868555848406353422072225828488648158456028506016842739452267467678895252138522549954666727823986456596116354886230577456498035593634568174324112515076069479451096596094025228879710893145669136867228748940560101503308617928680920874760917824938589009714909675985261365549781893129784821682998948722658804857564014270477555132379641451523746234364542858444795265867821051141354735739523113427166102135969536231442952484937187110145765403590279934403742007310578539062198387447808478489683321445713868751943506430218453191048481005370614680674919278191197939952061419663428754440643745123718192179998391015919561814675142691239748940907186494231961567945208031528\n",
       " -0.000967653589793238462643383279502884197169399375105820974944592307816406286208998628034825342117067982148086513282306647093844609550582231725359408128481117450284102701938521105559644622948954930381964428810975665933446128475648233786783165271201909145648566923460348610454326648213393607260249141273724587006606315588174881520920962829254091715364367892590360011330530548820466521384146951941511609433057270365759591953092186117381932611793105118548074462379962749567351885752724891227938183011949129833673362440656643086021394946395224737190702179860943702770539217176293176752384674818467669405132000568127145263560827785771342757789609173637178721468440901224953430146549585371050792279689258923542019956112129021960864034418159813629774771309960518707211349999998372978049951059731732816096318595024459455346908302642522308253344685035261931188171010003137838752886587533208381420617177669147303598253490428755468731159562863882353787593751957781857780532171226806613001927876611195909216420198938095257201065485863278865936153381827968230301952035301852968995773622599413891249721775283479131515574857242454150695950829533116861727855889075098381754637464939319255060400927701671139009848824012858361603563707660104710181942955596198946767837449448255379774726847104047534646208046684259069491293313677028989152104752162056966024058038150193511253382430035587640247496473263914199272604269922796782354781636009341721641219924586315030286182974555706749838505494588586926995690927210797509302955321165344987202755960236480665499119881834797753566369807426542527862551818417574672890977772793800081647060016145249192173217214772350141441973568548161361157352552133475741849468438523323907394143334547762416862518983569485562099219222184272550254256887671790494601653466804988627232791786085784383827967976681454100953883786360950680064225125205117392984896084128488626945604241965285022210661186306744278622039194945047123713786960956364371917287467764657573962413890865832645995813390478027590099465764078951269468398352595709825822620522489407726719478268482601476990902640136394437455305068203496252451749399651431429809190659250937221696461515709858387410597885959772975498930161753928468138268683868942774155991855925245953959431049972524680845987273644695848653836736222626099124608051243884390451244136549762780797715691435997700129616089441694868555848406353422072225828488648158456028506016842739452267467678895252138522549954666727823986456596116354886230577456498035593634568174324112515076069479451096596094025228879710893145669136867228748940560101503308617928680920874760917824938589009714909675985261365549781893129784821682998948722658804857564014270477555132379641451523746234364542858444795265867821051141354735739523113427166102135969536231442952484937187110145765403590279934403742007310578539062198387447808478489683321445713868751943506430218453191048481005370614680674919278191197939952061419663428754440643745123718192179998391015919561814675142691239748940907186494231961567945208031528\n",
       " -0.000967653589793238462643383279502884197169399375105820974944592307816406286208998628034825342117067982148086513282306647093844609550582231725359408128481117450284102701938521105559644622948954930381964428810975665933446128475648233786783165271201909145648566923460348610454326648213393607260249141273724587006606315588174881520920962829254091715364367892590360011330530548820466521384146951941511609433057270365759591953092186117381932611793105118548074462379962749567351885752724891227938183011949129833673362440656643086021394946395224737190702179860943702770539217176293176752384674818467669405132000568127145263560827785771342757789609173637178721468440901224953430146549585371050792279689258923542019956112129021960864034418159813629774771309960518707211349999998372978049951059731732816096318595024459455346908302642522308253344685035261931188171010003137838752886587533208381420617177669147303598253490428755468731159562863882353787593751957781857780532171226806613001927876611195909216420198938095257201065485863278865936153381827968230301952035301852968995773622599413891249721775283479131515574857242454150695950829533116861727855889075098381754637464939319255060400927701671139009848824012858361603563707660104710181942955596198946767837449448255379774726847104047534646208046684259069491293313677028989152104752162056966024058038150193511253382430035587640247496473263914199272604269922796782354781636009341721641219924586315030286182974555706749838505494588586926995690927210797509302955321165344987202755960236480665499119881834797753566369807426542527862551818417574672890977772793800081647060016145249192173217214772350141441973568548161361157352552133475741849468438523323907394143334547762416862518983569485562099219222184272550254256887671790494601653466804988627232791786085784383827967976681454100953883786360950680064225125205117392984896084128488626945604241965285022210661186306744278622039194945047123713786960956364371917287467764657573962413890865832645995813390478027590099465764078951269468398352595709825822620522489407726719478268482601476990902640136394437455305068203496252451749399651431429809190659250937221696461515709858387410597885959772975498930161753928468138268683868942774155991855925245953959431049972524680845987273644695848653836736222626099124608051243884390451244136549762780797715691435997700129616089441694868555848406353422072225828488648158456028506016842739452267467678895252138522549954666727823986456596116354886230577456498035593634568174324112515076069479451096596094025228879710893145669136867228748940560101503308617928680920874760917824938589009714909675985261365549781893129784821682998948722658804857564014270477555132379641451523746234364542858444795265867821051141354735739523113427166102135969536231442952484937187110145765403590279934403742007310578539062198387447808478489683321445713868751943506430218453191048481005370614680674919278191197939952061419663428754440643745123718192179998391015919561814675142691239748940907186494231961567945208031528\n",
       " -0.000967653589793238462643383279502884197169399375105820974944592307816406286208998628034825342117067982148086513282306647093844609550582231725359408128481117450284102701938521105559644622948954930381964428810975665933446128475648233786783165271201909145648566923460348610454326648213393607260249141273724587006606315588174881520920962829254091715364367892590360011330530548820466521384146951941511609433057270365759591953092186117381932611793105118548074462379962749567351885752724891227938183011949129833673362440656643086021394946395224737190702179860943702770539217176293176752384674818467669405132000568127145263560827785771342757789609173637178721468440901224953430146549585371050792279689258923542019956112129021960864034418159813629774771309960518707211349999998372978049951059731732816096318595024459455346908302642522308253344685035261931188171010003137838752886587533208381420617177669147303598253490428755468731159562863882353787593751957781857780532171226806613001927876611195909216420198938095257201065485863278865936153381827968230301952035301852968995773622599413891249721775283479131515574857242454150695950829533116861727855889075098381754637464939319255060400927701671139009848824012858361603563707660104710181942955596198946767837449448255379774726847104047534646208046684259069491293313677028989152104752162056966024058038150193511253382430035587640247496473263914199272604269922796782354781636009341721641219924586315030286182974555706749838505494588586926995690927210797509302955321165344987202755960236480665499119881834797753566369807426542527862551818417574672890977772793800081647060016145249192173217214772350141441973568548161361157352552133475741849468438523323907394143334547762416862518983569485562099219222184272550254256887671790494601653466804988627232791786085784383827967976681454100953883786360950680064225125205117392984896084128488626945604241965285022210661186306744278622039194945047123713786960956364371917287467764657573962413890865832645995813390478027590099465764078951269468398352595709825822620522489407726719478268482601476990902640136394437455305068203496252451749399651431429809190659250937221696461515709858387410597885959772975498930161753928468138268683868942774155991855925245953959431049972524680845987273644695848653836736222626099124608051243884390451244136549762780797715691435997700129616089441694868555848406353422072225828488648158456028506016842739452267467678895252138522549954666727823986456596116354886230577456498035593634568174324112515076069479451096596094025228879710893145669136867228748940560101503308617928680920874760917824938589009714909675985261365549781893129784821682998948722658804857564014270477555132379641451523746234364542858444795265867821051141354735739523113427166102135969536231442952484937187110145765403590279934403742007310578539062198387447808478489683321445713868751943506430218453191048481005370614680674919278191197939952061419663428754440643745123718192179998391015919561814675142691239748940907186494231961567945208031528\n",
       " -0.000967653589793238462643383279502884197169399375105820974944592307816406286208998628034825342117067982148086513282306647093844609550582231725359408128481117450284102701938521105559644622948954930381964428810975665933446128475648233786783165271201909145648566923460348610454326648213393607260249141273724587006606315588174881520920962829254091715364367892590360011330530548820466521384146951941511609433057270365759591953092186117381932611793105118548074462379962749567351885752724891227938183011949129833673362440656643086021394946395224737190702179860943702770539217176293176752384674818467669405132000568127145263560827785771342757789609173637178721468440901224953430146549585371050792279689258923542019956112129021960864034418159813629774771309960518707211349999998372978049951059731732816096318595024459455346908302642522308253344685035261931188171010003137838752886587533208381420617177669147303598253490428755468731159562863882353787593751957781857780532171226806613001927876611195909216420198938095257201065485863278865936153381827968230301952035301852968995773622599413891249721775283479131515574857242454150695950829533116861727855889075098381754637464939319255060400927701671139009848824012858361603563707660104710181942955596198946767837449448255379774726847104047534646208046684259069491293313677028989152104752162056966024058038150193511253382430035587640247496473263914199272604269922796782354781636009341721641219924586315030286182974555706749838505494588586926995690927210797509302955321165344987202755960236480665499119881834797753566369807426542527862551818417574672890977772793800081647060016145249192173217214772350141441973568548161361157352552133475741849468438523323907394143334547762416862518983569485562099219222184272550254256887671790494601653466804988627232791786085784383827967976681454100953883786360950680064225125205117392984896084128488626945604241965285022210661186306744278622039194945047123713786960956364371917287467764657573962413890865832645995813390478027590099465764078951269468398352595709825822620522489407726719478268482601476990902640136394437455305068203496252451749399651431429809190659250937221696461515709858387410597885959772975498930161753928468138268683868942774155991855925245953959431049972524680845987273644695848653836736222626099124608051243884390451244136549762780797715691435997700129616089441694868555848406353422072225828488648158456028506016842739452267467678895252138522549954666727823986456596116354886230577456498035593634568174324112515076069479451096596094025228879710893145669136867228748940560101503308617928680920874760917824938589009714909675985261365549781893129784821682998948722658804857564014270477555132379641451523746234364542858444795265867821051141354735739523113427166102135969536231442952484937187110145765403590279934403742007310578539062198387447808478489683321445713868751943506430218453191048481005370614680674919278191197939952061419663428754440643745123718192179998391015919561814675142691239748940907186494231961567945208031528\n",
       " -0.000967653589793238462643383279502884197169399375105820974944592307816406286208998628034825342117067982148086513282306647093844609550582231725359408128481117450284102701938521105559644622948954930381964428810975665933446128475648233786783165271201909145648566923460348610454326648213393607260249141273724587006606315588174881520920962829254091715364367892590360011330530548820466521384146951941511609433057270365759591953092186117381932611793105118548074462379962749567351885752724891227938183011949129833673362440656643086021394946395224737190702179860943702770539217176293176752384674818467669405132000568127145263560827785771342757789609173637178721468440901224953430146549585371050792279689258923542019956112129021960864034418159813629774771309960518707211349999998372978049951059731732816096318595024459455346908302642522308253344685035261931188171010003137838752886587533208381420617177669147303598253490428755468731159562863882353787593751957781857780532171226806613001927876611195909216420198938095257201065485863278865936153381827968230301952035301852968995773622599413891249721775283479131515574857242454150695950829533116861727855889075098381754637464939319255060400927701671139009848824012858361603563707660104710181942955596198946767837449448255379774726847104047534646208046684259069491293313677028989152104752162056966024058038150193511253382430035587640247496473263914199272604269922796782354781636009341721641219924586315030286182974555706749838505494588586926995690927210797509302955321165344987202755960236480665499119881834797753566369807426542527862551818417574672890977772793800081647060016145249192173217214772350141441973568548161361157352552133475741849468438523323907394143334547762416862518983569485562099219222184272550254256887671790494601653466804988627232791786085784383827967976681454100953883786360950680064225125205117392984896084128488626945604241965285022210661186306744278622039194945047123713786960956364371917287467764657573962413890865832645995813390478027590099465764078951269468398352595709825822620522489407726719478268482601476990902640136394437455305068203496252451749399651431429809190659250937221696461515709858387410597885959772975498930161753928468138268683868942774155991855925245953959431049972524680845987273644695848653836736222626099124608051243884390451244136549762780797715691435997700129616089441694868555848406353422072225828488648158456028506016842739452267467678895252138522549954666727823986456596116354886230577456498035593634568174324112515076069479451096596094025228879710893145669136867228748940560101503308617928680920874760917824938589009714909675985261365549781893129784821682998948722658804857564014270477555132379641451523746234364542858444795265867821051141354735739523113427166102135969536231442952484937187110145765403590279934403742007310578539062198387447808478489683321445713868751943506430218453191048481005370614680674919278191197939952061419663428754440643745123718192179998391015919561814675142691239748940907186494231961567945208031528"
      ]
     },
     "metadata": {},
     "output_type": "display_data"
    },
    {
     "data": {
      "text/plain": [
       "10-element Vector{BigFloat}:\n",
       " -0.208259320256460112370941313308723763275080776328230820974944592307816406286208998628034825342117067982148086513282306647093844609550582231725359408128481117450284102701938521105559644622948954930381964428810975665933446128475648233786783165271201909145648566923460348610454326648213393607260249141273724587006606315588174881520920962829254091715364367892590360011330530548820466521384146951941511609433057270365759591953092186117381932611793105118548074462379962749567351885752724891227938183011949129833673362440656643086021394946395224737190702179860943702770539217176293176752384674818467669405132000568127145263560827785771342757789609173637178721468440901224953430146549585371050792279689258923542019956112129021960864034418159813629774771309960518707211349999998372978049951059731732816096318595024459455346908302642522308253344685035261931188171010003137838752886587533208381420617177669147303598253490428755468731159562863882353787593751957781857780532171226806613001927876611195909216420198938095257201065485863278865936153381827968230301952035301852968995773622599413891249721775283479131515574857242454150695950829533116861727855889075098381754637464939319255060400927701671139009848824012858361603563707660104710181942955596198946767837449448255379774726847104047534646208046684259069491293313677028989152104752162056966024058038150193511253382430035587640247496473263914199272604269922796782354781636009341721641219924586315030286182974555706749838505494588586926995690927210797509302955321165344987202755960236480665499119881834797753566369807426542527862551818417574672890977772793800081647060016145249192173217214772350141441973568548161361157352552133475741849468438523323907394143334547762416862518983569485562099219222184272550254256887671790494601653466804988627232791786085784383827967976681454100953883786360950680064225125205117392984896084128488626945604241965285022210661186306744278622039194945047123713786960956364371917287467764657573962413890865832645995813390478027590099465764078951269468398352595709825822620522489407726719478268482601476990902640136394437455305068203496252451749399651431429809190659250937221696461515709858387410597885959772975498930161753928468138268683868942774155991855925245953959431049972524680845987273644695848653836736222626099124608051243884390451244136549762780797715691435997700129616089441694868555848406353422072225828488648158456028506016842739452267467678895252138522549954666727823986456596116354886230577456498035593634568174324112515076069479451096596094025228879710893145669136867228748940560101503308617928680920874760917824938589009714909675985261365549781893129784821682998948722658804857564014270477555132379641451523746234364542858444795265867821051141354735739523113427166102135969536231442952484937187110145765403590279934403742007310578539062198387447808478489683321445713868751943506430218453191048481005370614680674919278191197939952061419663428754440643745123718192179998391015919561814675142691239748940907186494231961567945208032\n",
       " -0.0431799551770951753963705033288006937979994775001058209749445923078164062862089986280348253421170679821480865132823066470938446095505822317253594081284811174502841027019385211055596446229489549303819644288109756659334461284756482337867831652712019091456485669234603486104543266482133936072602491412737245870066063155881748815209209628292540917153643678925903600113305305488204665213841469519415116094330572703657595919530921861173819326117931051185480744623799627495673518857527248912279381830119491298336733624406566430860213949463952247371907021798609437027705392171762931767523846748184676694051320005681271452635608277857713427577896091736371787214684409012249534301465495853710507922796892589235420199561121290219608640344181598136297747713099605187072113499999983729780499510597317328160963185950244594553469083026425223082533446850352619311881710100031378387528865875332083814206171776691473035982534904287554687311595628638823537875937519577818577805321712268066130019278766111959092164201989380952572010654858632788659361533818279682303019520353018529689957736225994138912497217752834791315155748572424541506959508295331168617278558890750983817546374649393192550604009277016711390098488240128583616035637076601047101819429555961989467678374494482553797747268471040475346462080466842590694912933136770289891521047521620569660240580381501935112533824300355876402474964732639141992726042699227967823547816360093417216412199245863150302861829745557067498385054945885869269956909272107975093029553211653449872027559602364806654991198818347977535663698074265425278625518184175746728909777727938000816470600161452491921732172147723501414419735685481613611573525521334757418494684385233239073941433345477624168625189835694855620992192221842725502542568876717904946016534668049886272327917860857843838279679766814541009538837863609506800642251252051173929848960841284886269456042419652850222106611863067442786220391949450471237137869609563643719172874677646575739624138908658326459958133904780275900994657640789512694683983525957098258226205224894077267194782684826014769909026401363944374553050682034962524517493996514314298091906592509372216964615157098583874105978859597729754989301617539284681382686838689427741559918559252459539594310499725246808459872736446958486538367362226260991246080512438843904512441365497627807977156914359977001296160894416948685558484063534220722258284886481584560285060168427394522674676788952521385225499546667278239864565961163548862305774564980355936345681743241125150760694794510965960940252288797108931456691368672287489405601015033086179286809208747609178249385890097149096759852613655497818931297848216829989487226588048575640142704775551323796414515237462343645428584447952658678210511413547357395231134271661021359695362314429524849371871101457654035902799344037420073105785390621983874478084784896833214457138687519435064302184531910484810053706146806749192781911979399520614196634287544406437451237181921799983910159195618146751426912397489409071864942319615679452080315\n",
       " -0.00212297294364262068719613863999445800774679195323082097494459230781640628620899862803482534211706798214808651328230664709384460955058223172535940812848111745028410270193852110555964462294895493038196442881097566593344612847564823378678316527120190914564856692346034861045432664821339360726024914127372458700660631558817488152092096282925409171536436789259036001133053054882046652138414695194151160943305727036575959195309218611738193261179310511854807446237996274956735188575272489122793818301194912983367336244065664308602139494639522473719070217986094370277053921717629317675238467481846766940513200056812714526356082778577134275778960917363717872146844090122495343014654958537105079227968925892354201995611212902196086403441815981362977477130996051870721134999999837297804995105973173281609631859502445945534690830264252230825334468503526193118817101000313783875288658753320838142061717766914730359825349042875546873115956286388235378759375195778185778053217122680661300192787661119590921642019893809525720106548586327886593615338182796823030195203530185296899577362259941389124972177528347913151557485724245415069595082953311686172785588907509838175463746493931925506040092770167113900984882401285836160356370766010471018194295559619894676783744944825537977472684710404753464620804668425906949129331367702898915210475216205696602405803815019351125338243003558764024749647326391419927260426992279678235478163600934172164121992458631503028618297455570674983850549458858692699569092721079750930295532116534498720275596023648066549911988183479775356636980742654252786255181841757467289097777279380008164706001614524919217321721477235014144197356854816136115735255213347574184946843852332390739414333454776241686251898356948556209921922218427255025425688767179049460165346680498862723279178608578438382796797668145410095388378636095068006422512520511739298489608412848862694560424196528502221066118630674427862203919494504712371378696095636437191728746776465757396241389086583264599581339047802759009946576407895126946839835259570982582262052248940772671947826848260147699090264013639443745530506820349625245174939965143142980919065925093722169646151570985838741059788595977297549893016175392846813826868386894277415599185592524595395943104997252468084598727364469584865383673622262609912460805124388439045124413654976278079771569143599770012961608944169486855584840635342207222582848864815845602850601684273945226746767889525213852254995466672782398645659611635488623057745649803559363456817432411251507606947945109659609402522887971089314566913686722874894056010150330861792868092087476091782493858900971490967598526136554978189312978482168299894872265880485756401427047755513237964145152374623436454285844479526586782105114135473573952311342716610213596953623144295248493718711014576540359027993440374200731057853906219838744780847848968332144571386875194350643021845319104848100537061468067491927819119793995206141966342875444064374512371819217999839101591956181467514269123974894090718649423196156794520803153\n",
       " -6.25755273299145195738503156651620858297359385582097494459230781640628620899862803482534211706798214808651328230664709384460955058223172535940812848111745028410270193852110555964462294895493038196442881097566593344612847564823378678316527120190914564856692346034861045432664821339360726024914127372458700660631558817488152092096282925409171536436789259036001133053054882046652138414695194151160943305727036575959195309218611738193261179310511854807446237996274956735188575272489122793818301194912983367336244065664308602139494639522473719070217986094370277053921717629317675238467481846766940513200056812714526356082778577134275778960917363717872146844090122495343014654958537105079227968925892354201995611212902196086403441815981362977477130996051870721134999999837297804995105973173281609631859502445945534690830264252230825334468503526193118817101000313783875288658753320838142061717766914730359825349042875546873115956286388235378759375195778185778053217122680661300192787661119590921642019893809525720106548586327886593615338182796823030195203530185296899577362259941389124972177528347913151557485724245415069595082953311686172785588907509838175463746493931925506040092770167113900984882401285836160356370766010471018194295559619894676783744944825537977472684710404753464620804668425906949129331367702898915210475216205696602405803815019351125338243003558764024749647326391419927260426992279678235478163600934172164121992458631503028618297455570674983850549458858692699569092721079750930295532116534498720275596023648066549911988183479775356636980742654252786255181841757467289097777279380008164706001614524919217321721477235014144197356854816136115735255213347574184946843852332390739414333454776241686251898356948556209921922218427255025425688767179049460165346680498862723279178608578438382796797668145410095388378636095068006422512520511739298489608412848862694560424196528502221066118630674427862203919494504712371378696095636437191728746776465757396241389086583264599581339047802759009946576407895126946839835259570982582262052248940772671947826848260147699090264013639443745530506820349625245174939965143142980919065925093722169646151570985838741059788595977297549893016175392846813826868386894277415599185592524595395943104997252468084598727364469584865383673622262609912460805124388439045124413654976278079771569143599770012961608944169486855584840635342207222582848864815845602850601684273945226746767889525213852254995466672782398645659611635488623057745649803559363456817432411251507606947945109659609402522887971089314566913686722874894056010150330861792868092087476091782493858900971490967598526136554978189312978482168299894872265880485756401427047755513237964145152374623436454285844479526586782105114135473573952311342716610213596953623144295248493718711014576540359027993440374200731057853906219838744780847848968332144571386875194350643021845319104848100537061468067491927819119793995206141966342875444064374512371819217999839101591956181467514269123974894090718649423196156794520803152795e-06\n",
       " -7.00472017127499913089578307151137353126058209749445923078164062862089986280348253421170679821480865132823066470938446095505822317253594081284811174502841027019385211055596446229489549303819644288109756659334461284756482337867831652712019091456485669234603486104543266482133936072602491412737245870066063155881748815209209628292540917153643678925903600113305305488204665213841469519415116094330572703657595919530921861173819326117931051185480744623799627495673518857527248912279381830119491298336733624406566430860213949463952247371907021798609437027705392171762931767523846748184676694051320005681271452635608277857713427577896091736371787214684409012249534301465495853710507922796892589235420199561121290219608640344181598136297747713099605187072113499999983729780499510597317328160963185950244594553469083026425223082533446850352619311881710100031378387528865875332083814206171776691473035982534904287554687311595628638823537875937519577818577805321712268066130019278766111959092164201989380952572010654858632788659361533818279682303019520353018529689957736225994138912497217752834791315155748572424541506959508295331168617278558890750983817546374649393192550604009277016711390098488240128583616035637076601047101819429555961989467678374494482553797747268471040475346462080466842590694912933136770289891521047521620569660240580381501935112533824300355876402474964732639141992726042699227967823547816360093417216412199245863150302861829745557067498385054945885869269956909272107975093029553211653449872027559602364806654991198818347977535663698074265425278625518184175746728909777727938000816470600161452491921732172147723501414419735685481613611573525521334757418494684385233239073941433345477624168625189835694855620992192221842725502542568876717904946016534668049886272327917860857843838279679766814541009538837863609506800642251252051173929848960841284886269456042419652850222106611863067442786220391949450471237137869609563643719172874677646575739624138908658326459958133904780275900994657640789512694683983525957098258226205224894077267194782684826014769909026401363944374553050682034962524517493996514314298091906592509372216964615157098583874105978859597729754989301617539284681382686838689427741559918559252459539594310499725246808459872736446958486538367362226260991246080512438843904512441365497627807977156914359977001296160894416948685558484063534220722258284886481584560285060168427394522674676788952521385225499546667278239864565961163548862305774564980355936345681743241125150760694794510965960940252288797108931456691368672287489405601015033086179286809208747609178249385890097149096759852613655497818931297848216829989487226588048575640142704775551323796414515237462343645428584447952658678210511413547357395231134271661021359695362314429524849371871101457654035902799344037420073105785390621983874478084784896833214457138687519435064302184531910484810053706146806749192781911979399520614196634287544406437451237181921799983910159195618146751426912397489409071864942319615679452080315279481656e-11\n",
       " -1.01064309961486055006151192770015635582097494459230781640628620899862803482534211706798214808651328230664709384460955058223172535940812848111745028410270193852110555964462294895493038196442881097566593344612847564823378678316527120190914564856692346034861045432664821339360726024914127372458700660631558817488152092096282925409171536436789259036001133053054882046652138414695194151160943305727036575959195309218611738193261179310511854807446237996274956735188575272489122793818301194912983367336244065664308602139494639522473719070217986094370277053921717629317675238467481846766940513200056812714526356082778577134275778960917363717872146844090122495343014654958537105079227968925892354201995611212902196086403441815981362977477130996051870721134999999837297804995105973173281609631859502445945534690830264252230825334468503526193118817101000313783875288658753320838142061717766914730359825349042875546873115956286388235378759375195778185778053217122680661300192787661119590921642019893809525720106548586327886593615338182796823030195203530185296899577362259941389124972177528347913151557485724245415069595082953311686172785588907509838175463746493931925506040092770167113900984882401285836160356370766010471018194295559619894676783744944825537977472684710404753464620804668425906949129331367702898915210475216205696602405803815019351125338243003558764024749647326391419927260426992279678235478163600934172164121992458631503028618297455570674983850549458858692699569092721079750930295532116534498720275596023648066549911988183479775356636980742654252786255181841757467289097777279380008164706001614524919217321721477235014144197356854816136115735255213347574184946843852332390739414333454776241686251898356948556209921922218427255025425688767179049460165346680498862723279178608578438382796797668145410095388378636095068006422512520511739298489608412848862694560424196528502221066118630674427862203919494504712371378696095636437191728746776465757396241389086583264599581339047802759009946576407895126946839835259570982582262052248940772671947826848260147699090264013639443745530506820349625245174939965143142980919065925093722169646151570985838741059788595977297549893016175392846813826868386894277415599185592524595395943104997252468084598727364469584865383673622262609912460805124388439045124413654976278079771569143599770012961608944169486855584840635342207222582848864815845602850601684273945226746767889525213852254995466672782398645659611635488623057745649803559363456817432411251507606947945109659609402522887971089314566913686722874894056010150330861792868092087476091782493858900971490967598526136554978189312978482168299894872265880485756401427047755513237964145152374623436454285844479526586782105114135473573952311342716610213596953623144295248493718711014576540359027993440374200731057853906219838744780847848968332144571386875194350643021845319104848100537061468067491927819119793995206141966342875444064374512371819217999839101591956181467514269123974894090718649423196156794520803152794816564908e-15\n",
       " -1.01064309961486055006151192770015635582097494459230781640628620899862803482534211706798214808651328230664709384460955058223172535940812848111745028410270193852110555964462294895493038196442881097566593344612847564823378678316527120190914564856692346034861045432664821339360726024914127372458700660631558817488152092096282925409171536436789259036001133053054882046652138414695194151160943305727036575959195309218611738193261179310511854807446237996274956735188575272489122793818301194912983367336244065664308602139494639522473719070217986094370277053921717629317675238467481846766940513200056812714526356082778577134275778960917363717872146844090122495343014654958537105079227968925892354201995611212902196086403441815981362977477130996051870721134999999837297804995105973173281609631859502445945534690830264252230825334468503526193118817101000313783875288658753320838142061717766914730359825349042875546873115956286388235378759375195778185778053217122680661300192787661119590921642019893809525720106548586327886593615338182796823030195203530185296899577362259941389124972177528347913151557485724245415069595082953311686172785588907509838175463746493931925506040092770167113900984882401285836160356370766010471018194295559619894676783744944825537977472684710404753464620804668425906949129331367702898915210475216205696602405803815019351125338243003558764024749647326391419927260426992279678235478163600934172164121992458631503028618297455570674983850549458858692699569092721079750930295532116534498720275596023648066549911988183479775356636980742654252786255181841757467289097777279380008164706001614524919217321721477235014144197356854816136115735255213347574184946843852332390739414333454776241686251898356948556209921922218427255025425688767179049460165346680498862723279178608578438382796797668145410095388378636095068006422512520511739298489608412848862694560424196528502221066118630674427862203919494504712371378696095636437191728746776465757396241389086583264599581339047802759009946576407895126946839835259570982582262052248940772671947826848260147699090264013639443745530506820349625245174939965143142980919065925093722169646151570985838741059788595977297549893016175392846813826868386894277415599185592524595395943104997252468084598727364469584865383673622262609912460805124388439045124413654976278079771569143599770012961608944169486855584840635342207222582848864815845602850601684273945226746767889525213852254995466672782398645659611635488623057745649803559363456817432411251507606947945109659609402522887971089314566913686722874894056010150330861792868092087476091782493858900971490967598526136554978189312978482168299894872265880485756401427047755513237964145152374623436454285844479526586782105114135473573952311342716610213596953623144295248493718711014576540359027993440374200731057853906219838744780847848968332144571386875194350643021845319104848100537061468067491927819119793995206141966342875444064374512371819217999839101591956181467514269123974894090718649423196156794520803152794816564908e-15\n",
       " -1.01064309961486055006151192770015635582097494459230781640628620899862803482534211706798214808651328230664709384460955058223172535940812848111745028410270193852110555964462294895493038196442881097566593344612847564823378678316527120190914564856692346034861045432664821339360726024914127372458700660631558817488152092096282925409171536436789259036001133053054882046652138414695194151160943305727036575959195309218611738193261179310511854807446237996274956735188575272489122793818301194912983367336244065664308602139494639522473719070217986094370277053921717629317675238467481846766940513200056812714526356082778577134275778960917363717872146844090122495343014654958537105079227968925892354201995611212902196086403441815981362977477130996051870721134999999837297804995105973173281609631859502445945534690830264252230825334468503526193118817101000313783875288658753320838142061717766914730359825349042875546873115956286388235378759375195778185778053217122680661300192787661119590921642019893809525720106548586327886593615338182796823030195203530185296899577362259941389124972177528347913151557485724245415069595082953311686172785588907509838175463746493931925506040092770167113900984882401285836160356370766010471018194295559619894676783744944825537977472684710404753464620804668425906949129331367702898915210475216205696602405803815019351125338243003558764024749647326391419927260426992279678235478163600934172164121992458631503028618297455570674983850549458858692699569092721079750930295532116534498720275596023648066549911988183479775356636980742654252786255181841757467289097777279380008164706001614524919217321721477235014144197356854816136115735255213347574184946843852332390739414333454776241686251898356948556209921922218427255025425688767179049460165346680498862723279178608578438382796797668145410095388378636095068006422512520511739298489608412848862694560424196528502221066118630674427862203919494504712371378696095636437191728746776465757396241389086583264599581339047802759009946576407895126946839835259570982582262052248940772671947826848260147699090264013639443745530506820349625245174939965143142980919065925093722169646151570985838741059788595977297549893016175392846813826868386894277415599185592524595395943104997252468084598727364469584865383673622262609912460805124388439045124413654976278079771569143599770012961608944169486855584840635342207222582848864815845602850601684273945226746767889525213852254995466672782398645659611635488623057745649803559363456817432411251507606947945109659609402522887971089314566913686722874894056010150330861792868092087476091782493858900971490967598526136554978189312978482168299894872265880485756401427047755513237964145152374623436454285844479526586782105114135473573952311342716610213596953623144295248493718711014576540359027993440374200731057853906219838744780847848968332144571386875194350643021845319104848100537061468067491927819119793995206141966342875444064374512371819217999839101591956181467514269123974894090718649423196156794520803152794816564908e-15\n",
       " -1.01064309961486055006151192770015635582097494459230781640628620899862803482534211706798214808651328230664709384460955058223172535940812848111745028410270193852110555964462294895493038196442881097566593344612847564823378678316527120190914564856692346034861045432664821339360726024914127372458700660631558817488152092096282925409171536436789259036001133053054882046652138414695194151160943305727036575959195309218611738193261179310511854807446237996274956735188575272489122793818301194912983367336244065664308602139494639522473719070217986094370277053921717629317675238467481846766940513200056812714526356082778577134275778960917363717872146844090122495343014654958537105079227968925892354201995611212902196086403441815981362977477130996051870721134999999837297804995105973173281609631859502445945534690830264252230825334468503526193118817101000313783875288658753320838142061717766914730359825349042875546873115956286388235378759375195778185778053217122680661300192787661119590921642019893809525720106548586327886593615338182796823030195203530185296899577362259941389124972177528347913151557485724245415069595082953311686172785588907509838175463746493931925506040092770167113900984882401285836160356370766010471018194295559619894676783744944825537977472684710404753464620804668425906949129331367702898915210475216205696602405803815019351125338243003558764024749647326391419927260426992279678235478163600934172164121992458631503028618297455570674983850549458858692699569092721079750930295532116534498720275596023648066549911988183479775356636980742654252786255181841757467289097777279380008164706001614524919217321721477235014144197356854816136115735255213347574184946843852332390739414333454776241686251898356948556209921922218427255025425688767179049460165346680498862723279178608578438382796797668145410095388378636095068006422512520511739298489608412848862694560424196528502221066118630674427862203919494504712371378696095636437191728746776465757396241389086583264599581339047802759009946576407895126946839835259570982582262052248940772671947826848260147699090264013639443745530506820349625245174939965143142980919065925093722169646151570985838741059788595977297549893016175392846813826868386894277415599185592524595395943104997252468084598727364469584865383673622262609912460805124388439045124413654976278079771569143599770012961608944169486855584840635342207222582848864815845602850601684273945226746767889525213852254995466672782398645659611635488623057745649803559363456817432411251507606947945109659609402522887971089314566913686722874894056010150330861792868092087476091782493858900971490967598526136554978189312978482168299894872265880485756401427047755513237964145152374623436454285844479526586782105114135473573952311342716610213596953623144295248493718711014576540359027993440374200731057853906219838744780847848968332144571386875194350643021845319104848100537061468067491927819119793995206141966342875444064374512371819217999839101591956181467514269123974894090718649423196156794520803152794816564908e-15\n",
       " -1.01064309961486055006151192770015635582097494459230781640628620899862803482534211706798214808651328230664709384460955058223172535940812848111745028410270193852110555964462294895493038196442881097566593344612847564823378678316527120190914564856692346034861045432664821339360726024914127372458700660631558817488152092096282925409171536436789259036001133053054882046652138414695194151160943305727036575959195309218611738193261179310511854807446237996274956735188575272489122793818301194912983367336244065664308602139494639522473719070217986094370277053921717629317675238467481846766940513200056812714526356082778577134275778960917363717872146844090122495343014654958537105079227968925892354201995611212902196086403441815981362977477130996051870721134999999837297804995105973173281609631859502445945534690830264252230825334468503526193118817101000313783875288658753320838142061717766914730359825349042875546873115956286388235378759375195778185778053217122680661300192787661119590921642019893809525720106548586327886593615338182796823030195203530185296899577362259941389124972177528347913151557485724245415069595082953311686172785588907509838175463746493931925506040092770167113900984882401285836160356370766010471018194295559619894676783744944825537977472684710404753464620804668425906949129331367702898915210475216205696602405803815019351125338243003558764024749647326391419927260426992279678235478163600934172164121992458631503028618297455570674983850549458858692699569092721079750930295532116534498720275596023648066549911988183479775356636980742654252786255181841757467289097777279380008164706001614524919217321721477235014144197356854816136115735255213347574184946843852332390739414333454776241686251898356948556209921922218427255025425688767179049460165346680498862723279178608578438382796797668145410095388378636095068006422512520511739298489608412848862694560424196528502221066118630674427862203919494504712371378696095636437191728746776465757396241389086583264599581339047802759009946576407895126946839835259570982582262052248940772671947826848260147699090264013639443745530506820349625245174939965143142980919065925093722169646151570985838741059788595977297549893016175392846813826868386894277415599185592524595395943104997252468084598727364469584865383673622262609912460805124388439045124413654976278079771569143599770012961608944169486855584840635342207222582848864815845602850601684273945226746767889525213852254995466672782398645659611635488623057745649803559363456817432411251507606947945109659609402522887971089314566913686722874894056010150330861792868092087476091782493858900971490967598526136554978189312978482168299894872265880485756401427047755513237964145152374623436454285844479526586782105114135473573952311342716610213596953623144295248493718711014576540359027993440374200731057853906219838744780847848968332144571386875194350643021845319104848100537061468067491927819119793995206141966342875444064374512371819217999839101591956181467514269123974894090718649423196156794520803152794816564908e-15"
      ]
     },
     "metadata": {},
     "output_type": "display_data"
    },
    {
     "data": {
      "text/plain": [
       "10-element Vector{BigFloat}:\n",
       " -0.208259320256459905129310049946169550863836066041772487641611258974483072952875665294701492008783734648814753179948973313760511276217248898392026074795147784116950769368605187772226311289615621597048631095477642332600112795142314900453449831937868575812315233590127015277120993314880060273926915807940391253673272982254841548187587629495920758382031034559257026677997197215487133188050813618608178276099723937032426258619758852784048599278459771785214741129046629416234018552419391557894604849678615796500340029107323309752688061613061891403857368846527610369437205883842959843419051341485134336071798667234793811930227494452438009424456275840303845388135107567891620096813216252037717458946355925590208686622778795688627530701084826480296441437976627185373878016666665039644716617726398399482762985261691126122013574969309188974920011351701928597854837676669804505419553254199875048087283844335813970264920157095422135397826229530549020454260418624448524447198837893473279668594543277862575883086865604761923867732152529945532602820048494634896968618701968519635662440289266080557916388441950145798182241523909120817362617496199783528394522555741765048421304131605985921727067594368337805676515490679525028270230374326771376848609622262865613434504116114922046441393513770714201312874713350925736157959980343695655818771418828723632690724704816860177920049096702254306914163139930580865939270936589463449021448302676008388307886591252981696952849641222373416505172161255253593662357593877464175969621987832011653869422626903147332165786548501464420233036474093209194529218485084241339557644439460466748313726682811915858839883881439016808108640235214828027824019218800142408516135105189990574060810001214429083529185650236152228765885888850939216920923554338457161268320133471655293899458452752451050494634643348120767620550453027617346730891791871784059651562750795155293612270908631951688877327852973410945288705861611713790380453627623031038583954134431324240629080557532499312662480057144694256766132430745617936135065019262376492489287189156074393386144935149268143657569306803061104121971734870162919118416066318098096475857325917603888363128182376525054077264552626439642165596828420595134804935350535609440822658522591912620626097716639191347512653940311362515320503402889292765791274717910551057117910803216429447464382358102664366796282756108361535222515073020088738892495155314825122695172683509406118934134345561918805189216621333394490653123262783021552897244123164702260301234840990779181742736146117763262760691895546377559812335803533895415607226768169975284595347587541427584491605255676381576342651928032216448559796451488349665615389325471524230680937144221799046308118190412901031209525111461932534487717808021402406189780093832768802636202898109619151603853776812432070256946601070408673977245205728865054114475145156349988112380535418610173096885119857715147672037281347341585944857864606618728086330095421107310411790384858846665057682586228481341809357906415607573853160898628234611874645\n",
       " -0.0431799551770948257642306848668044714987567009624074082765318938951179935877963002153364126437043695694496738148696082343954319111378838190269467097157827047518714042892401084071469462102505422319692660161125629675207477157772355353740847525727892107329501542250476501977559139498006951945618364428610261743081936171754764688225082644165556790169516694798919473129178321361220538229714485392430989110203588576673468935403937734189692341990946924201353760496815500511546534730543121928152397703135364314209749497422439446733229822479825263244922894814482452900721265187635947640539719764057692567067193021554287325651481293730729300593769107609387660230557424885265407317338511726726380938669908462251293215434137163235481656217197471152170763586115478202945129373015856745653515383613190344033979058966117610426484956042298238955549319866225635184897583115904394260544738891205099687222044792564488908998407920160570560327468644511839410891810535450834450821194728141082003035151781984974965180075005253968445026527874505804532377406834152698176035393368891545562973609241867154785513090768707807188171621588297557379975381311204184490294431906623999690562247665266208423619882292889727263114361256001599489051510092474062974835302571835005340694247510355569670763141486913491219477953482715606567928806152643305764536920537493585533256453397374950985549697316228892275490837748512157865741915715100983696563689375966433089428072261736166175877702761430083371400927961758885142972782287980990966045426227526465745043432618237822528007071834220993408679571090138441151641391200048762601925650743811016689486473177325507794748045163596517287435608701354629484589398537207773291510557401106254946957306361350640041641062851567871494008065237715741375558441892590920819032407683922902145343790876730859711295552782687556882554710879482522673658124267924189802864833857157902142471915435525866095122484878940458659236264965323487110153742625436659592188747693519591612640011924531342332974006920653291774010530656662528567699856541830114131242078240767093140210655700699030642924899417236960247568923697907978397533367012387330171107779608382388089980488172971599747121851875470745628005174633412300554398559854562443614575791575125475412610183515598262681475745752319974359554240378099276864261953528311859777528314381370643680993029930232992874312033910289964558574357079407236595274157902354600433300933184300410395690549804825537258241372562540294112880438977036564735321647580853371809361554759114141023776567810383981833956125304670124804472564384545303362421474030906102052302682224620625051265258905970164969775725629528513691947170864089845862503099603921591513158577791424339669430388253335359518444457463825674551226384429420373268247007287534037232711235330302540722387744117330669908918672359910435946121658406494999747493957800769849087473011703392450937318057547783500683069579162679765065797784995272536487212507303417422310467110197794815856926032211491162624442785413362424944880815335488695325096978\n",
       " -0.00212297294364200407611487910393988510475854225836635129429844107342987778203343562894241448500032851246744036204792011858966904655148982086824266865880047129904971617343434554256055221209183819091228378265974127940494195291264914137592604853173222849949733253693184443489132755580253649052077946062757335262007781141261188242851010571251462203471821665820383150715496754972805566426740748226086545819867074186158402895399977526026519314211245896731368793387578718656825947489560815175825753686071474330516918687765755067516427820692554409103946779333243952720754012476543606001291499417231643501860349639256414617114997066903187307714345793925065021729287790213254257302981011569040464104530273041936645695701971816484412456473751366239538824280578495570811893914288163350836930490849734628759214303202536704448979156317284166210211029850675775562517191759228072201341690688705714703408867349358430450584263331201599905051341162949582528341818895868944692341543175712596685069349008269173365342110652723814046159580521712763154962487765240523120954117818511349931512747136502736274554621228438672065845811777277350454471644300461268616485679666424126501516778429316802067387242352610813991743796689611889192291755642571818167776739259710653591072070997857473362349246057554335908320895427340195275182363303087775476557624798649396693164718103345404157273627880120111174332091026482178841548753045311613620354724948083754607822083217545791354671329390955551545197699041302392790328007009405803962230916993095845869858039723738825464200314236511710741513542089803835229955272600671755615150809214764884726053151196968619308080635765561067176132741731377483265317698913438333099235169905364326124290894801925824129951989115862844535974954153812131586772838349622749550924260968824915755214563485139785532379241368236169009676704689127003391299073867661321742189699171763151020613456131913378782413268213118127952962833782830765403314080972197784341311190476556516310529715139615199984457900394952341453646667166809415272892867194955859143609201831384472762706741136586200731025648890200790895112950520440384159463266018175078365795627272243304613346242329900127067112820531362174111240165757836546904585782675220330447534570469085942545525548697343226998887053417501520250260234969412192356160895883302727371177445590361154641118718726043470103720523232495539887520225511903554372165292564906604517138927737305880611623329236674796295955086225587070724698691547020365184404895232247259454215731720737304539542332821671006758984966588061848228855239739754810278932571497480444236568182846390380108546890836356367528945675718998678280071892770494352926807650757047103551009491455603996878433478427655371839162405826676169225805204894387862278364374651995090158300772726738948584477625302902593390963378316935547880640297606310597659069173902000267529447948222343933086721936078019136426590093403452368489166269376438906232725257163770117406447756695779346988684035656272226428557450027926026103525984543306376964486445\n",
       " -6.25755273179207050829574378848724046839745313104377193410755609900513900362839685601637889560712455572910606652416473512275647423856885632345214154341573729251542248768317130487489297764668100012825103889986863676282018913326139074251478292254380376584695758581500829946571297534441944470810965123005070781165461337357640539614700777745254011419653256421001274439908535457529284373266783660402569263388265326301333629294458606421428022126885992607658177808743077904247400939942464824931867992749900214457366857800091196652576101279802276844553071514250860523189222987236829555138609871531040478489001166505763606619042345222159772539322300310687735346095877274890664071478571746593427317311113946832667084067198549249522163531615548173346081013095123679138063225930674657407700676412336097609973153990733304035850595284599282513939730552689749101670532077854792433593169056585460095391873526102484051752211900683652016919708493663131717901866619776758695814471655671339806848045180473584716646010184516983529956668456244058188645698510095816993546535743779908589076758121682670840700813785431974730430802581550997877712278708352556902919478109330091786511349286573051379468864494305534811324260643226167481931566845888614940605758052528845509719959806254841094096257593749490368932743498968532231609692129462115625539273003265950600867814919373042315329654372418309603516648488028560367114876632160829137781851223231061660032029569535352156809276152386416601058696291750755023430309991718487355802981692593688013829615222839326753260388575112329558580905212983299598222138139229360665500300812906907027531793100309332552622397384588704207765554282883209023616966647935780282094874470819069882966552480302760121127171974222136013995967722029281603194183941797509332505278261243783265405850386917835711797715202119323358924913831503784780104364649035367764360272803676949713773759529326677949722611058591010273239914581742558414301873983099166286151427672004758370662452388569169349677131723389218603250210104620314050059610984052529303802962410006188058932827170664368691038820375137010894121269882515737352092617111817478626660187376784065684940767111277361449874629452562206031831259902366638396648254666814687801885243289886765480439038602353305218110514092657970239306768329586302865314686137517458521222133680541139934178782445025195658776730885778057274409754599059263397447499675427587990950157686736375806105634905436845164704041818388354722740857182136942203766808695242944857859088644397185284329609706744759468947222883870506555450968957061796851383103913435223462184277265988496417823156625988587900420971511854980560709696848028732582534327498085542401244010917386375749688109244333227952233537959960618947694984159828938711971865624482944295223932727000750459502150908346383951107077694601642598379899980615293929514743815567361919161047522390050305012326324739494540340904841107408545641025431262698170305651762328783146855577929318195145672624218009406552675040559142833999808965911926833238360065e-06\n",
       " -7.00462520177928077852317084786018731665393348030072591112936154613080616860254804702768713071242763161828574498839342720751588368583958302778389153784516491206089667545981675083958450648616103324630731297726691365508013938125242106812298933179363495925219693692135791697333084446274697616277562416953376618836812607959889592006651656955420353330110781837781604167474739739509555285828603482836380975022063807565585362384942856030901741817109715152213493000594062211584699066387777210425932513465490393721705483687846138813349339824425733566580077372757794308294190963865900403040722533457474854812024788146660762962828953315010176274567344390065164301942900120927375289586302767015189949879431073917344004406148084886595032042864620857583559532719212341428513200994371033012758148519273903168661631058627663194488657005192636309471642558789807401020289768454950497999826670187995063041867980886216659442143983606735402590522922076960250569214205238698962084769196389093090015609297174410117625832708091406866292508818886153584904212231877690156624995280220719984158660815167309207115333321937633176634374420631436768209657976783317284663370371538122045080021570688807561072549430097817352632410182405348208909565338332581805734199048835624621585982274975330678949903871201864832549049712105813513860337903050741676598105522537403014964854782141139159703888677051356688657301426222130914978008942907243840274076536820178488367097465994975981956956927644936657885794603102675237211503344928606165504357149572263778270768354830266830583207722020135284365418040962619682010341025848937754404875727236697495089271402094917570749139641917587006855292538431589770684541280600881415351458126784135785367346950297875683842959483404022153052223992399189186814222176354340984937433167092833618675634435834074982408902967230500930282113723479996301297870100216397275990717558233123708194583094588682984755233664043711422230546858874028015933823160597467746178320624129500253649025580243575678673986098534108757008758786452690177730144038747385077184281751068524233286450478953513994726229096149796417919138274400495325405207339851210754367304614631543183685184658753967741893402912263248986300328395709245899444956344893236362324308240221877284919209658172595595472007845632709984076607045937033092537147962434730489706856696497498875610596066025881848656935486437994802134765569735903614098102690371585557794517873380117778251546125760696760476366086584970741467876670486157568711417323084557082067433323163564702698419691227665757152069761241440677226707606455665464502369514708858553405436545205950346039152033905240597633251330759751189416014514848556528226506009908454350310830137452260358356115661407936103144085108705530155941099445540787417315299574889387141448389202054591316690871606236260984074424626724006968178836678232832006826661401995807328630743490711810846092059312085252090581765488229754111682241914571225039977926019248064727419682500413857075870669218103720502642526379097564442869991957815093100201189e-11\n",
       " -1.17624725174958900219955191596676373409332105600785622950864323969989246505249726011532403335804508677853815582802952997787078522660351446828758011251096792845019098012051444371141548711870470131090348857956840292618205167425571815971768763043860324289023128046029610054645880823655749162427955398135587869783569625131237082214362465474419630298743555134407118861756632793584929314879886701655240166153752899892924444355547066691651519501750176089598052479620752121041609512419491725428834952007020497889216642149097954008938104922371256255741934595207196221608166446048430215922490618165058462208576795691763211592154307181225029767604138171166901324792877102887460285423363082308211823739148493257138541079559566847027679058608327571341356746557564102595940155910120541209795947942669821013342675094976340173403231970380752425250706468135169963150166287951158262078590489198252915586225336945096578772591740662569141439778978197983146892209792434048451345210570633918729719264077000363164037399399264128414312990694374882357238765191840376503480540131678812722390133270844734465816031375411720975367402464733260458489095260062674541230781255512935880479552078352091590869025057690578877158524464019905442810718962627392862932334554504409092010753773244391293411549233391542210137082248984450009074736522601809952859208560444374816146164803081867157645639887043043898083609855278355928687395155423205140529986979649381913542092380932563840354548576862889180701883530412480026569038995180745620390025668140503234430474369026875719046452447840190509695062723889630911338581876872677036919031570459391257616647208472069093953901154802798262328935334720125035860561626815197132526105877016613971633770146347943028480968501004534021915993517273481649604648375746214016587140039931306286401844104430162975216142260327467429455339252891182416294607188683880966242929028014102005153643718936351581288832327562437198950647037319117305391424240373300121424662112671519624517115837444864605182676864828402139516768140104327665108453591726576621294969668211120465226091879180347314597039008485786055193598751580351457108200839822396319633165760942337158750133534292240604546022351959548462709882214015671765712241388037877886843590920160115688532574573566136976157432026097298047180008710777414363420215139995173592007170628947822800572297303674561021868746720934939516601023349241390798368041708173140025127895164384067546385010718356157680252796465739496493613173967291850041467553849991940542517568147018850970135718264482235752696589143328456946638688466647266582884704794763256401810971279281211594001321140372688446632156500642953667226724083384739103971692975369674043450646158591717545515499701654413723694729109349531670142405439158747493764789090924474958248164774046573948501354747813574629265570640478424264264736306618681197254319560534627447063088386862077379762157986936029339915754368554154122530842320566089986899935197794014993034780062144890528728240050325256260783807916495769516743186932854008217321866e-20\n",
       " -4.55546745639581257186335402825741709572847250790084487556456214999756583622796687682081319996235898409352189148934095118829334573037868368414013803096272820836976746404790294372497147952668738980484056206710078303633376623877370472003529266353417572378718723297633333755086158175155508308590656248251209641230929435193905692270615645966195114872882720297437955411182411964313753151146279026324908113987587538595874323382334891419011473732760187312565565251054976371628841021817475750022256992352833065308390262120154084937811981191179372175192174897713110543622551432447950962154425083067369796908427792434193325685407809179700277446184914093730542660917552127810199375718432765234504808275911645525699750550840080150992462718156044817384727849255711923911304462922568164177339184960746369007401120572249268723533041586644295861305078389740065591638492714175326967956662003917058480126818319453837564421843190952740919324865820521938180487246729688031171724096363510197481061079820609400637160595915511319551193716016236875347887390281271453439197174731306619601380894756307977045861765076242924015454844048360468067678524005628328830822359402627412100456724853374860350151254432740191026114898420178233043758288015093344486307859962044193143047937883682077351990143818897132343535067759281603126445666975496770302490160215063949338167538595264519280938936785983274305785466219533164986066148013649843616698910035684071403928177801621831204038091127540003528235116792690855837337555764328732589753973430908263665066918710666159442133486488652063030167408585443309581147899925409209354448951399436000110742532619234609284557224447059673266645550656679586693915279707851599005756907069575725421675285488405883331983321641486954932361128203207664769987100806137594501023785238709772861455030282869147065811849807595922080618047116984664372955380494512540722489432073686093666809648797690887327061791782521759459955674492503961556033902809477362411769730918806400329869153948037472806389817821640720431635252796559682281975277476395718272142081546716089107287498184822374696342002997898187996854809030002343601655545928204062518863887244781669789060241037223860204662321049910020257478011099554201267193027491673619702087888722939986296075563939479468534039071921263638702946911488754275478866839030176969455857488500292330050521899425801103666310288287966102143241071426052539118139847835689756573790312090355294323906750039913147175055071685889333470328900020514959823347093370821700947673191580070161157610955374775720649414774196555840617099057950776987840891047451867572831535195947433406548575316180222574553945315877518415429742481196652836057291642723308587731982649855968149121201102488954163598346125703697406582308572486479737933560602234513569149351763174431217951466982832691333054447162686284093655440626555618011112406862791827695887201587558803809367097086633138864737817008074648610529393581076273996903989611596724830103290927813246303212274829639093766895161346923779447266524221837218743572465747e-40\n",
       " -9.51613478623941716234034268828046610379494293924954751693757585470105106904632115508926782323316615581590490546933453293844526703623686094755500421623478529198674246647631407034934902306390064975015462445507920103912958272154765501662331813835117516672042556543080464161938207101579005235139644034285045748509181629129550828900507723318484209230466066479471860377223927867797852455759745938260233310751834998106833320658571646981760973951915263371587505764567032318952010314298278413620332777458283491503305207713138450877443638043073320438763258363342659763602528066545337602706688641456908986023483662861898272693988879253499606954289279083889168442161041914698542101099778613102110186154965639652681801862190037194111114762133597142428640290417663294266167754434105549025443232082282692458621749589385236522708256162029645750247675409455077955847035885843720507190833343237159324047591577302203684721843609063548093964288074829066712582123444463842645637786732678653627164210742437602392710392405344581030209157675309712781817835937674594826854467736044998734717093638227737858723415841559161013476216538071290734380054518498872137612477685458136911963578465321327487641482986584187522236254076327146524016465274695474946232236405601176306342508992631143476101084773800710550035791616121388964351556670454776322747630739600162798110890597141513189170923607126568824733569754056480480276818153953464587500264297086986395053944013801840337881446222432170881060364575480972637378386576846228904135555698364029155241818622714559770207095909161384033826620517935364118631271159290061610486835039314409092392696408598212746498957369400886308326685148688548803587783437381865950926510947860253538292475282235145793078907320775748417400432889784400295407587759365220851479378481214605162828482845182998830414408865670270096048888283847972862414592171616635359424383561607967987312462327497554375204955585954269859580652162952624840618640083361474995792508044350322594566359391892599460433400627015432657015488921311351542375606558990148685532708176331771588773076325904005875917591190478982069222248094977498415258370607390441819740889719943416816935434953403351391553247306097061345803487484970358326815758975424079548232750605453040574790801655076324987889814882481355284232531307415860559889772515486440254384356695039200636214578698486197998208757277964117169994935382806645694228625413566892132689678532026134458130291695949955784613765071048281869702192964475459516911214934896114821683953227578623881424382617335197457323744477786490051840437220732425813612520011007135798547104810729565541796983405927767414663188379126938484694149940075309169647632328590578660454747566913486310813483182507246459757441301617772888652591910876185019377426610839472849981887828086352781393487424750095889478556863663563051822646029785543273259290073399517091861553802863489867812473445345195987968463500079788594331090792694000942056647343045250498890799549126987651194230735435283995045380155413502611040646512163393698860913e-79\n",
       " -5.82666670599447938634569618769291130671472896511907647571021819794112347421140307393271171249738147448763262232921736136877617701754994535602673207255381359507583869672735938536150099138244391946457105563580242373748389530966991390220618786850175619824409247437363039142567437989004550098772308577163938036925487219638910840102357416762703478412057845047557475875572693782098301936639487145131090314804005127435956161331664638908243103581648897110139967513082775101598213102646623219381186700695661010441564873986340500585791824704440036493027572065347875124339430923081539288558925017668244299674742493112410047057386638024438265063631738825451958642930762422235802106960732319990954847143963265048330170541638497051718145799502010303263553840160816962417992163640801920484424272061673816715445061197653860610427660323345721671554712104229399737425784972952180662787533846172660672939742346630598167552880988769289657765752830989320019359162006431035543185402985800127727528580054104930136038982707167890134236813894140309000910086578649364747856127110779115385242061600594923230223127716445188465485637660237904854869375881631924594798871110360309552862239639435288525194305399831743490292431453297320315616532999499698079925217302645192371156772965017200347423824837495014613349470540393276212599596277508791047586680863405525865952039861183590744940791778706745488208143200194192733251237659019874269700720497847498526732412932998571227517090667537023002943777269510028845257402513296265342373589395198945840408705882491514757283375126361136839009819837733308289482035523945291370902798049506498846005934500287999426352238614902754607502097058768421004421191586901259309939735604003922994262877984073807454432963227574525401241747876820803374539592678291004507214020507324028564949087044785058652325677839151453159292470553725878404058982868028233368278355592072611143417358827413344293221236063762860158862517192675131942397855727630216730597771757932005977628529293073106899104513293252874507547593814249923662420097782318022923088210632067517822775251006456956725063790288846706205552243054215207632941731340533396184456815190613640761074382845039402004182584509379559585650318842363188287711833648267576144452348662259542594085801508815657251863813615493606085021132409884632963359378837629257061462102653206813049795878738397947316198047716241249867803346888383988190000719662996426638915606036445234580318151521288271297673509560582119759663740896208143113313146070424809492245299862944327082748550466671369519961894548036506317437064015504616594960553315010680901879701457063599784343832697821467850095283587027442588172540091016898842505944616326791758863411602533278530861545625149195373508180650356720388878194826329757374554836186461411781082811903120403737797935260552847212440066160295563223179657817991190581890600942442889217481888125716709055705698950870892369642032465074853403363853182702738579160950867156004152340267426585003057554965887296747315824181164399217602052246688002291154573493e-156\n",
       " -3.07699876865046454883860470578260394320487458458352517362672775993930494713401846170569939018688868299652829348904006174169523574132334894007373804904963434429121599550000618001922468246960337511123284297744499926945096013203452725279264902910272584850626963394396521906709782637660722735719299716660554964120270778207317206603598459558490763931573104876689875899207294537259314907676872338330452918174051570475147892803357943890612126192928791876112029321604225129044485375007052539071242480228006522665180805055642147630818802393851746227158074691557004117760239887241640741181682849215022575015910731005657299535500587445453227905170724687080756309208001735261746654861313811058262361019186926474230950977167841515238700664677066370272620596804694432936538101038606866992675736304176208317703793206673312744146658891656149656995600856495756042104882397077677325858330922874517217979386639393712750311105993027721003241768905716812686346026780043699606023447741726817364344465099760694884060800057004538238844483942281336011220525602073213522504298746960948664415106634414435689454411546538132882545772790678772981611089801291489231585899530433097152180058678580274580506409217247240796323432324425023569417154329693862586630421167918216814557365642783109755537211653634168523227209444621074220246946176349750765911066552356554310688597484196254612387394311292761966324289469926144534789706231720540884019595738936997108614130619817432195017042015137368590985166735837958810829631899000213125261345926222340051296241186551583483301949717737819572762310678728399557798449133004814020534264095905139368207406519372637238589445328368212182658492267890353265858623191611489777659894407277941710622640434275172846063430679941898568395514241826423688727432532213891966493154162478361099638289540121318391008632385899904945754346798787877787342549188744084954354674316187506745319147492567051351542238792493419807730287237229195029026568236877456826299723202611535089683192888480446012063596449838302080551290070766846366734674343942808183137127471364735795514984533945422048289732530652181076494177623071694464243214253766652943461758881055512251379723909785453323009682239611074976040792675300217453000826838860561761716703878719772435776311186215755072798905052464644154837040677499399636850318275581604184637493099186359902042362825980869153055387198023525780694263119965420073077591554323344932353141187583737808667943525939593601641712515125787995167999710018647621247922617874403264536934596081749628367195954306167995569839104570301768428757725713900068911887799957693852954711917246739603718227272790368782983813712199550101846641913111617892563655496018778283728376386550696754407166230228315210124486524466478822230720249390618412675325547185770236572708944424455706689505521655925170115616680764485850854709168398082596215050078698383018316871662357217587320332126214737847965774196828796046208338671970479037220892584494293851118574030066963968554143965250706610718922263140483346232316820211248284663858e-310"
      ]
     },
     "metadata": {},
     "output_type": "display_data"
    }
   ],
   "source": [
    "for T in [Float16, Float64, BigFloat]\n",
    "    display([calc_pi(2^n, T) for n in 1:10] .- big(π))\n",
    "end"
   ]
  },
  {
   "cell_type": "code",
   "execution_count": 160,
   "metadata": {},
   "outputs": [
    {
     "data": {
      "text/plain": [
       "-6.01484729904774241115706712049157329918588133760611100730571485073508743714094084822693283549810689603382621914344700464975929318122695276197786027457549374230490509333927347472618534082528017605282631297229949474865955654872907896827274781748506321854874055713727058310650929843124479908748200094036989368730936318448634399130770794265820306982971744154178477915298905656936544981006546640419827647906847757246370397810415606107452647265793077403882445403210923844790446331914422667321927988423365690036610606275105394398166827717849277587907930286609828288332692022588872163431783092384494878963630514427367783342680366148468124025680288713862862230032359534239721766675664172838748943412196363774748398906595632522719388388380687015630681881776445883699732533960868378574209171731651126964262574250821794114517816270718458634028663982548460510783070954713405952490853922441791425588534172421290133134570618185208125692795071021971993199910870070848591986957698219401237047677128538608098947037753313139003265465749662816451488666846846372768502697782119270759088680653250989147070132066457245086543386539362564705448891696431546105257748290406890608375476728623580567899769466592849274586463645886549831121880382750255237499918428917745047393706227255102843314634987563999684578812334093527921547014368441307554762032010183996570388155535178120777945073750494823123735062308913206529092933152556917770917757315958979406523077489625732772672607720700016540528205203690087165734576376898635567535547915691210309844030710533333707354183028260973852897963091034400356294282365588931628158733093241685530611895705398991874030473263356292325496998638917930483554988723021031523547801331453076248580411517649453522076634251588344826140672228923054791161613046539692078331721717477254263738080049530322947402765232300031763390775731612027677057992787227801792169902081563849225293492059734828370722149559265757365789683626772965077796714234542052285081454879727564710635605317411222064131350154378689155970924819316481029934637462778785449296998812451560053859827906384318090542600612822506780520358363851715130137440798824292968011250150389992617766758401242794249809983105984870848645542070570449781070734630948632769450518864477017117436005251038905537888624448814452193827759566848497496978366643535641383034251515062691877982575748446898228813200400718477382219777786136148310650701170570436182436086814577720058433995583831411975476555695483718377245300807774838689805663011233906934329772031094686099465827557221572756859438612719467785286436921010472509427287011256320269635332687883087853854616286464493429256856180564716582739918399736982118660073771992101202501491190381338755751715195826751767231629559144341267027483604751938169783776965600944519704062995450677479406407756288490899445510057167377319716072947545126002025057268554120490502739868908711778230082317771964576084748033513888063817308250540243951011472401261876098948079940076990467859060312659408827337911896794292429866623650062803951519676e-3010"
      ]
     },
     "execution_count": 160,
     "metadata": {},
     "output_type": "execute_result"
    }
   ],
   "source": [
    "calc_pi(10000, BigFloat)- π\n"
   ]
  },
  {
   "cell_type": "code",
   "execution_count": null,
   "metadata": {},
   "outputs": [],
   "source": [
    "setprecision(1000) do\n",
    "    calc_pi(1000, BigFloat)-π\n",
    "end"
   ]
  },
  {
   "cell_type": "code",
   "execution_count": null,
   "metadata": {},
   "outputs": [],
   "source": [
    "setprecision(8000) do\n",
    "    @show BigFloat(π)\n",
    "    end;"
   ]
  },
  {
   "cell_type": "code",
   "execution_count": 161,
   "metadata": {},
   "outputs": [
    {
     "data": {
      "text/plain": [
       "20-element Vector{Rational{Int64}}:\n",
       "                8//3\n",
       "               44//15\n",
       "               64//21\n",
       "              976//315\n",
       "            10816//3465\n",
       "           141088//45045\n",
       "            47104//15015\n",
       "          2404096//765765\n",
       "         45693952//14549535\n",
       "         45701632//14549535\n",
       "         80863232//25741485\n",
       "       5256312832//1673196525\n",
       "       3153846272//1003917915\n",
       "     457311809536//145568097675\n",
       "     833925152768//265447707525\n",
       "    4725585805312//1504203675975\n",
       "   14176771899392//4512611027925\n",
       "  524540820979712//166966608033225\n",
       "  104908189597696//33393321606645\n",
       " 4301236281540608//1369126185872445"
      ]
     },
     "execution_count": 161,
     "metadata": {},
     "output_type": "execute_result"
    }
   ],
   "source": [
    "[calc_pi(n, Rational) for n in 1:20]"
   ]
  },
  {
   "cell_type": "markdown",
   "metadata": {},
   "source": [
    "### Integration with other programming languages"
   ]
  },
  {
   "cell_type": "code",
   "execution_count": null,
   "metadata": {},
   "outputs": [],
   "source": [
    "using PyCall\n",
    "np = pyimport(\"numpy\")\n",
    "\n"
   ]
  },
  {
   "cell_type": "code",
   "execution_count": null,
   "metadata": {},
   "outputs": [],
   "source": [
    "a = np.zeros((4, 5), dtype=\"int32\")\n",
    "a"
   ]
  },
  {
   "cell_type": "code",
   "execution_count": null,
   "metadata": {},
   "outputs": [],
   "source": [
    "a[1,1]=5\n",
    "np.mean(a)"
   ]
  },
  {
   "cell_type": "code",
   "execution_count": null,
   "metadata": {},
   "outputs": [],
   "source": [
    "b = py\"{ (x,y):x*y for x in range(1,5) for y in range(1,3) }\"\n",
    "b"
   ]
  },
  {
   "cell_type": "code",
   "execution_count": null,
   "metadata": {},
   "outputs": [],
   "source": [
    "using Distributions, DataFrames, Random\n",
    "Random.seed!(0);\n",
    "dat = permutedims(rand(MvNormal([1 0.75; 0.75 1]), 1000))\n",
    "df = DataFrame(dat, :auto)\n"
   ]
  },
  {
   "cell_type": "markdown",
   "metadata": {},
   "source": [
    "You need to have RCall for this demo together with R present in the operating system, hence this will be shown by the instructor only. \n",
    "However you could try installing it yourself:\n",
    "```\n",
    "using Pkg\n",
    "pkg\"add RCall\"\n",
    "```"
   ]
  },
  {
   "cell_type": "code",
   "execution_count": null,
   "metadata": {},
   "outputs": [],
   "source": [
    "try\n",
    "    using RCall\n",
    "    @rlibrary ggplot2\n",
    "    ggplot(df,aes(x=:x1,y=:x2)) + geom_point()\n",
    "catch e; end"
   ]
  },
  {
   "cell_type": "code",
   "execution_count": null,
   "metadata": {},
   "outputs": [],
   "source": [
    "try\n",
    "    using RCall\n",
    "    R\"library(ggplot2)\"\n",
    "    R\"ggplot($df,aes(x=x1,y=x2)) + geom_point()\"\n",
    "catch e; end"
   ]
  },
  {
   "cell_type": "markdown",
   "metadata": {},
   "source": [
    "*Preparation of this workshop has been supported by the Polish National Agency for Academic Exchange under the Strategic Partnerships programme, grant number BPI/PST/2021/1/00069/U/00001.*\n",
    "\n",
    "![SGH & NAWA](logo.png)"
   ]
  }
 ],
 "metadata": {
  "kernelspec": {
   "display_name": "Julia 1.8.5",
   "language": "julia",
   "name": "julia-1.8"
  },
  "language_info": {
   "file_extension": ".jl",
   "mimetype": "application/julia",
   "name": "julia",
   "version": "1.8.5"
  }
 },
 "nbformat": 4,
 "nbformat_minor": 4
}
