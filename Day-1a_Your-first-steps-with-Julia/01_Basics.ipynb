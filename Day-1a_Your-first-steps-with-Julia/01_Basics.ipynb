{
 "cells": [
  {
   "cell_type": "markdown",
   "metadata": {},
   "source": [
    "# Your first steps with Julia\n",
    "\n",
    "## Przemysław Szufel"
   ]
  },
  {
   "cell_type": "code",
   "execution_count": 94,
   "metadata": {},
   "outputs": [
    {
     "name": "stdout",
     "output_type": "stream",
     "text": [
      "Julia Version 1.10.0\n",
      "Commit 3120989f39 (2023-12-25 18:01 UTC)\n",
      "Build Info:\n",
      "  Official https://julialang.org/ release\n",
      "Platform Info:\n",
      "  OS: Windows (x86_64-w64-mingw32)\n",
      "  CPU: 12 × 13th Gen Intel(R) Core(TM) i7-1355U\n",
      "  WORD_SIZE: 64\n",
      "  LIBM: libopenlibm\n",
      "  LLVM: libLLVM-15.0.7 (ORCJIT, goldmont)\n",
      "  Threads: 3 on 12 virtual cores\n",
      "Environment:\n",
      "  JULIA_DEPOT_PATH = c:\\JuliaPkg\\Julia-1.10.0\n",
      "  JULIA_HOME = c:\\Julia-1.10.0\n",
      "  JULIA_NUM_THREADS = 3\n",
      "  JULIA_VERSION = Julia-1.10.0\n"
     ]
    }
   ],
   "source": [
    "# Ctrl + ENTER\n",
    "versioninfo()"
   ]
  },
  {
   "cell_type": "code",
   "execution_count": 95,
   "metadata": {},
   "outputs": [
    {
     "data": {
      "text/plain": [
       "\"c:\\\\AAABIBLIOTEKA\\\\MIT_Boston\\\\2024_MIT_18.S097_Introduction-to-Julia-for-Data-Science\\\\Day-1a_Your-first-steps-with-Julia\""
      ]
     },
     "metadata": {},
     "output_type": "display_data"
    }
   ],
   "source": [
    "pwd()"
   ]
  },
  {
   "cell_type": "code",
   "execution_count": 27,
   "metadata": {},
   "outputs": [
    {
     "name": "stdout",
     "output_type": "stream",
     "text": [
      "\u001b[36m\u001b[1mProject\u001b[22m\u001b[39m MIT_18S097 v0.1.0\n",
      "\u001b[32m\u001b[1mStatus\u001b[22m\u001b[39m `C:\\AAABIBLIOTEKA\\MIT_Boston\\2024_MIT_18.S097_Introduction-to-Julia-for-Data-Science\\Project.toml`\n",
      "  \u001b[90m[1520ce14] \u001b[39mAbstractTrees v0.4.4\n",
      "  \u001b[90m[fbb218c0] \u001b[39mBSON v0.3.7\n",
      "  \u001b[90m[6e4b80f9] \u001b[39mBenchmarkTools v1.4.0\n",
      "  \u001b[90m[024491cd] \u001b[39mBetaML v0.10.3\n",
      "  \u001b[90m[336ed68f] \u001b[39mCSV v0.10.11\n",
      "  \u001b[90m[49dc2e85] \u001b[39mCalculus v0.5.1\n",
      "  \u001b[90m[324d7699] \u001b[39mCategoricalArrays v0.10.8\n",
      "  \u001b[90m[8f4d0f93] \u001b[39mConda v1.10.0\n",
      "  \u001b[90m[d58978e5] \u001b[39mDagger v0.18.6\n",
      "  \u001b[90m[a93c6f00] \u001b[39mDataFrames v1.6.1\n",
      "  \u001b[90m[1313f7d8] \u001b[39mDataFramesMeta v0.14.1\n",
      "  \u001b[90m[a077e3f3] \u001b[39mDiffEqProblemLibrary v5.0.0\n",
      "  \u001b[90m[0c46a032] \u001b[39mDifferentialEquations v7.12.0\n",
      "  \u001b[90m[31c24e10] \u001b[39mDistributions v0.25.104\n",
      "  \u001b[90m[f6006082] \u001b[39mEvoTrees v0.16.5\n",
      "  \u001b[90m[da1fdf0e] \u001b[39mFreqTables v0.4.6\n",
      "  \u001b[90m[38e38edf] \u001b[39mGLM v1.9.0\n",
      "  \u001b[90m[86223c79] \u001b[39mGraphs v1.9.0\n",
      "  \u001b[90m[cd3eb016] \u001b[39mHTTP v1.10.1\n",
      "  \u001b[90m[87dc4568] \u001b[39mHiGHS v1.7.5\n",
      "  \u001b[90m[7073ff75] \u001b[39mIJulia v1.24.2\n",
      "  \u001b[90m[b6b21f68] \u001b[39mIpopt v1.5.1\n",
      "  \u001b[90m[682c06a0] \u001b[39mJSON v0.21.4\n",
      "  \u001b[90m[0f8b85d8] \u001b[39mJSON3 v1.14.0\n",
      "  \u001b[90m[4076af6c] \u001b[39mJuMP v1.17.0\n",
      "  \u001b[90m[add582a8] \u001b[39mMLJ v0.20.2\n",
      "  \u001b[90m[c6f25543] \u001b[39mMLJDecisionTreeInterface v0.4.0\n",
      "  \u001b[90m[f6097e2c] \u001b[39mMultiJuMP v0.6.1\n",
      "  \u001b[90m[2dcacdae] \u001b[39mParallelDataTransfer v0.5.1\n",
      "  \u001b[90m[d96e819e] \u001b[39mParameters v0.12.3\n",
      "  \u001b[90m[98572fba] \u001b[39mParquet2 v0.2.19\n",
      "  \u001b[90m[91a5bcdd] \u001b[39mPlots v1.39.0\n",
      "  \u001b[90m[92933f4c] \u001b[39mProgressMeter v1.9.0\n",
      "  \u001b[90m[438e738f] \u001b[39mPyCall v1.96.4\n",
      "  \u001b[90m[d330b81b] \u001b[39mPyPlot v2.11.2\n",
      "  \u001b[90m[928aab9d] \u001b[39mSpecialMatrices v3.0.0\n",
      "  \u001b[90m[2913bbd2] \u001b[39mStatsBase v0.34.2\n",
      "  \u001b[90m[8c8f4381] \u001b[39mTravelingSalesmanHeuristics v0.3.3\n",
      "  \u001b[90m[d6f4376e] \u001b[39mMarkdown\n",
      "  \u001b[90m[9a3f8284] \u001b[39mRandom\n",
      "  \u001b[90m[10745b16] \u001b[39mStatistics v1.10.0\n"
     ]
    }
   ],
   "source": [
    "using Pkg\n",
    "pkg\"status\""
   ]
  },
  {
   "cell_type": "code",
   "execution_count": 97,
   "metadata": {},
   "outputs": [
    {
     "data": {
      "text/plain": [
       "f (generic function with 2 methods)"
      ]
     },
     "metadata": {},
     "output_type": "display_data"
    }
   ],
   "source": [
    "function f(x,y)\n",
    "    x+y\n",
    "end\n",
    "\n",
    "f(x,y) = x+y"
   ]
  },
  {
   "cell_type": "code",
   "execution_count": 98,
   "metadata": {},
   "outputs": [
    {
     "data": {
      "text/plain": [
       "17"
      ]
     },
     "metadata": {},
     "output_type": "display_data"
    }
   ],
   "source": [
    "f(5,12)"
   ]
  },
  {
   "cell_type": "code",
   "execution_count": 99,
   "metadata": {},
   "outputs": [
    {
     "data": {
      "text/plain": [
       "CodeInfo(\n",
       "\u001b[90m1 ─\u001b[39m %1 = x + y\n",
       "\u001b[90m└──\u001b[39m      return %1\n",
       ")"
      ]
     },
     "metadata": {},
     "output_type": "display_data"
    }
   ],
   "source": [
    "@code_lowered f(5,6)"
   ]
  },
  {
   "cell_type": "code",
   "execution_count": 100,
   "metadata": {},
   "outputs": [
    {
     "data": {
      "text/plain": [
       "CodeInfo(\n",
       "\u001b[90m1 ─\u001b[39m %1 = Base.add_int(x, y)\u001b[36m::Int64\u001b[39m\n",
       "\u001b[90m└──\u001b[39m      return %1\n",
       ") => Int64"
      ]
     },
     "metadata": {},
     "output_type": "display_data"
    }
   ],
   "source": [
    "@code_typed f(4,5)"
   ]
  },
  {
   "cell_type": "code",
   "execution_count": 101,
   "metadata": {},
   "outputs": [
    {
     "name": "stdout",
     "output_type": "stream",
     "text": [
      "\u001b[90m;  @ c:\\AAABIBLIOTEKA\\MIT_Boston\\2024_MIT_18.S097_Introduction-to-Julia-for-Data-Science\\Day-1a_Your-first-steps-with-Julia\\01_Basics.ipynb:5 within `f`\u001b[39m\n",
      "\u001b[90m; Function Attrs: uwtable\u001b[39m\n",
      "\u001b[95mdefine\u001b[39m \u001b[36mi64\u001b[39m \u001b[93m@julia_f_6381\u001b[39m\u001b[33m(\u001b[39m\u001b[36mi64\u001b[39m \u001b[95msignext\u001b[39m \u001b[0m%0"
     ]
    },
    {
     "name": "stdout",
     "output_type": "stream",
     "text": [
      "\u001b[0m, \u001b[36mi64\u001b[39m \u001b[95msignext\u001b[39m \u001b[0m%1\u001b[33m)\u001b[39m \u001b[0m#0 \u001b[33m{\u001b[39m\n",
      "\u001b[91mtop:\u001b[39m\n",
      "\u001b[90m; ┌ @ int.jl:87 within `+`\u001b[39m\n",
      "   \u001b[0m%2 \u001b[0m= \u001b[96m\u001b[1madd\u001b[22m\u001b[39m \u001b[36mi64\u001b[39m \u001b[0m%1\u001b[0m, \u001b[0m%0\n",
      "\u001b[90m; └\u001b[39m\n",
      "  \u001b[96m\u001b[1mret\u001b[22m\u001b[39m \u001b[36mi64\u001b[39m \u001b[0m%2\n",
      "\u001b[33m}\u001b[39m\n"
     ]
    }
   ],
   "source": [
    "@code_llvm f(5,6)"
   ]
  },
  {
   "cell_type": "code",
   "execution_count": 102,
   "metadata": {},
   "outputs": [
    {
     "name": "stdout",
     "output_type": "stream",
     "text": [
      "\t\u001b[0m.text\n",
      "\t\u001b[0m.file\t\u001b[0m\"f\"\n",
      "\t\u001b[0m.globl\t\u001b[0mjulia_f_6407                    \u001b[90m# -- Begin function julia_f_6407\u001b[39m\n",
      "\t\u001b[0m.p2align\t\u001b[33m4\u001b[39m\u001b[0m, \u001b[33m0x90\u001b[39m\n",
      "\t\u001b[0m.type\t\u001b[0mjulia_f_6407\u001b[0m,\u001b[0m@function\n",
      "\u001b[91mjulia_f_6407:\u001b[39m                           \u001b[90m# @julia_f_6407\u001b[39m\n",
      "\u001b[90m; ┌ @ c:\\AAABIBLIOTEKA\\MIT_Boston\\2024_MIT_18.S097_Introduction-to-Julia-for-Data-Science\\Day-1a_Your-first-steps-with-Julia\\01_Basics.ipynb:5 within `f`\u001b[39m\n",
      "\t\u001b[0m.cfi_startproc\n",
      "\u001b[90m# %bb.0:                                # %top\u001b[39m\n",
      "\t\u001b[96m\u001b[1mpush\u001b[22m\u001b[39m\t\u001b[0mrbp\n",
      "\t\u001b[0m.cfi_def_cfa_offset \u001b[33m16\u001b[39m\n",
      "\t\u001b[0m.cfi_offset \u001b[0mrbp\u001b[0m, \u001b[33m-16\u001b[39m\n",
      "\t\u001b[96m\u001b[1mmov\u001b[22m\u001b[39m\t\u001b[0mrbp\u001b[0m, \u001b[0mrsp\n",
      "\t\u001b[0m.cfi_def_cfa_register \u001b[0mrbp\n",
      "\u001b[90m; │┌ @ int.jl:87 within `+`\u001b[39m\n",
      "\t\u001b[96m\u001b[1mlea\u001b[22m\u001b[39m\t\u001b[0mrax\u001b[0m, \u001b[33m[\u001b[39m\u001b[0mrcx \u001b[0m+ \u001b[0mrdx\u001b[33m]\u001b[39m\n",
      "\u001b[90m; │└\u001b[39m\n",
      "\t\u001b[96m\u001b[1mpop\u001b[22m\u001b[39m\t\u001b[0mrbp\n",
      "\t\u001b[96m\u001b[1mret\u001b[22m\u001b[39m\n",
      "\u001b[91m.Lfunc_end0:\u001b[39m\n",
      "\t\u001b[0m.size\t\u001b[0mjulia_f_6407\u001b[0m, \u001b[0m.Lfunc_end0-julia_f_6407\n",
      "\t\u001b[0m.cfi_endproc\n",
      "\u001b[90m; └\u001b[39m\n",
      "                                        \u001b[90m# -- End function\u001b[39m\n",
      "\t\u001b[0m.section\t\u001b[0m\".note.GNU-stack\"\u001b[0m,\u001b[0m\"\"\u001b[0m,\u001b[0m@progbits\n"
     ]
    }
   ],
   "source": [
    "@code_native f(5,6)"
   ]
  },
  {
   "cell_type": "code",
   "execution_count": 103,
   "metadata": {},
   "outputs": [
    {
     "name": "stdout",
     "output_type": "stream",
     "text": [
      "\t\u001b[0m.text\n",
      "\t\u001b[0m.file\t\u001b[0m\"f\"\n",
      "\t\u001b[0m.globl\t\u001b[0mjulia_f_6411                    \u001b[90m# -- Begin function julia_f_6411\u001b[39m\n",
      "\t\u001b[0m.p2align\t\u001b[33m4\u001b[39m\u001b[0m, \u001b[33m0x90\u001b[39m\n",
      "\t\u001b[0m.type\t\u001b[0mjulia_f_6411\u001b[0m,\u001b[0m@function\n",
      "\u001b[91mjulia_f_6411:\u001b[39m                           \u001b[90m# @julia_f_6411\u001b[39m\n",
      "\u001b[90m; ┌ @ c:\\AAABIBLIOTEKA\\MIT_Boston\\2024_MIT_18.S097_Introduction-to-Julia-for-Data-Science\\Day-1a_Your-first-steps-with-Julia\\01_Basics.ipynb:5 within `f`\u001b[39m\n",
      "\t\u001b[0m.cfi_startproc\n",
      "\u001b[90m# %bb.0:                                # %top\u001b[39m\n",
      "\t\u001b[96m\u001b[1mpush\u001b[22m\u001b[39m\t\u001b[0mrbp\n",
      "\t\u001b[0m.cfi_def_cfa_offset \u001b[33m16\u001b[39m\n",
      "\t\u001b[0m.cfi_offset \u001b[0mrbp\u001b[0m, \u001b[33m-16\u001b[39m\n",
      "\t\u001b[96m\u001b[1mmov\u001b[22m\u001b[39m\t\u001b[0mrbp\u001b[0m, \u001b[0mrsp\n",
      "\t\u001b[0m.cfi_def_cfa_register \u001b[0mrbp\n",
      "\u001b[90m; │┌ @ promotion.jl:422 within `+`\u001b[39m\n",
      "\u001b[90m; ││┌ @ promotion.jl:393 within `promote`\u001b[39m\n",
      "\u001b[90m; │││┌ @ promotion.jl:370 within `_promote`\u001b[39m\n",
      "\u001b[90m; ││││┌ @ number.jl:7 within `convert`\u001b[39m\n",
      "\u001b[90m; │││││┌ @ float.jl:159 within `Float64`\u001b[39m\n",
      "\t\u001b[96m\u001b[1mvcvtsi2sd\u001b[22m\u001b[39m\t\u001b[0mxmm1\u001b[0m, \u001b[0mxmm1\u001b[0m, \u001b[0mrdx\n",
      "\u001b[90m; ││└└└└\u001b[39m\n",
      "\u001b[90m; ││ @ promotion.jl:422 within `+` @ float.jl:409\u001b[39m\n",
      "\t\u001b[96m\u001b[1mvaddsd\u001b[22m\u001b[39m\t\u001b[0mxmm0\u001b[0m, \u001b[0mxmm1\u001b[0m, \u001b[0mxmm0\n",
      "\u001b[90m; │└\u001b[39m\n",
      "\t\u001b[96m\u001b[1mpop\u001b[22m\u001b[39m\t\u001b[0mrbp\n",
      "\t\u001b[96m\u001b[1mret\u001b[22m\u001b[39m\n",
      "\u001b[91m.Lfunc_end0:\u001b[39m\n",
      "\t\u001b[0m.size\t\u001b[0mjulia_f_6411\u001b[0m, \u001b[0m.Lfunc_end0-julia_f_6411\n",
      "\t\u001b[0m.cfi_endproc\n",
      "\u001b[90m; └\u001b[39m\n",
      "                                        \u001b[90m# -- End function\u001b[39m\n",
      "\t\u001b[0m.section\t\u001b[0m\".note.GNU-stack\"\u001b[0m,\u001b[0m\"\"\u001b[0m,\u001b[0m@progbits\n"
     ]
    }
   ],
   "source": [
    "@code_native f(5.1,6)"
   ]
  },
  {
   "cell_type": "code",
   "execution_count": 104,
   "metadata": {},
   "outputs": [
    {
     "data": {
      "text/plain": [
       "4-element Vector{Int64}:\n",
       " 1\n",
       " 2\n",
       " 3\n",
       " 4"
      ]
     },
     "metadata": {},
     "output_type": "display_data"
    }
   ],
   "source": [
    "v = [1,2,3,4]"
   ]
  },
  {
   "cell_type": "code",
   "execution_count": 105,
   "metadata": {},
   "outputs": [
    {
     "data": {
      "text/plain": [
       "9-element Vector{Int64}:\n",
       "  3\n",
       "  6\n",
       "  9\n",
       " 12\n",
       " 15\n",
       " 18\n",
       " 21\n",
       " 24\n",
       " 27"
      ]
     },
     "metadata": {},
     "output_type": "display_data"
    }
   ],
   "source": [
    "v3 = [ 3x for x in 1:9] #Python range(1,10)"
   ]
  },
  {
   "cell_type": "code",
   "execution_count": 106,
   "metadata": {},
   "outputs": [
    {
     "data": {
      "text/plain": [
       "4-element Vector{Int64}:\n",
       "  3\n",
       "  6\n",
       "  9\n",
       " 12"
      ]
     },
     "metadata": {},
     "output_type": "display_data"
    }
   ],
   "source": [
    "v3[1:4]"
   ]
  },
  {
   "cell_type": "code",
   "execution_count": 107,
   "metadata": {},
   "outputs": [
    {
     "data": {
      "text/plain": [
       "9-element Vector{Float64}:\n",
       " 1.0\n",
       " 1.4142135623730951\n",
       " 1.7320508075688772\n",
       " 2.0\n",
       " 2.23606797749979\n",
       " 2.449489742783178\n",
       " 2.6457513110645907\n",
       " 2.8284271247461903\n",
       " 3.0"
      ]
     },
     "metadata": {},
     "output_type": "display_data"
    }
   ],
   "source": [
    "v₄= [ √x₁ for x₁ ∈ 1:9]"
   ]
  },
  {
   "cell_type": "code",
   "execution_count": 108,
   "metadata": {},
   "outputs": [
    {
     "data": {
      "text/plain": [
       "Vector{Float64}\u001b[90m (alias for \u001b[39m\u001b[90mArray{Float64, 1}\u001b[39m\u001b[90m)\u001b[39m"
      ]
     },
     "metadata": {},
     "output_type": "display_data"
    }
   ],
   "source": [
    "typeof(v₄)"
   ]
  },
  {
   "cell_type": "code",
   "execution_count": 109,
   "metadata": {},
   "outputs": [
    {
     "data": {
      "text/plain": [
       "Float64"
      ]
     },
     "metadata": {},
     "output_type": "display_data"
    }
   ],
   "source": [
    "eltype(v₄)"
   ]
  },
  {
   "cell_type": "code",
   "execution_count": 110,
   "metadata": {},
   "outputs": [
    {
     "data": {
      "text/plain": [
       "1-element Vector{Int64}:\n",
       " 5"
      ]
     },
     "metadata": {},
     "output_type": "display_data"
    }
   ],
   "source": [
    "b = Int[]\n",
    "append!(b, 5)"
   ]
  },
  {
   "cell_type": "code",
   "execution_count": 111,
   "metadata": {},
   "outputs": [
    {
     "data": {
      "text/plain": [
       "Any[]"
      ]
     },
     "metadata": {},
     "output_type": "display_data"
    }
   ],
   "source": [
    "c = []"
   ]
  },
  {
   "cell_type": "code",
   "execution_count": 112,
   "metadata": {},
   "outputs": [
    {
     "data": {
      "text/plain": [
       "1 + 4im"
      ]
     },
     "metadata": {},
     "output_type": "display_data"
    }
   ],
   "source": [
    "c = Complex(1,4)"
   ]
  },
  {
   "cell_type": "code",
   "execution_count": 113,
   "metadata": {},
   "outputs": [
    {
     "data": {
      "text/plain": [
       "Complex{Int64}"
      ]
     },
     "metadata": {},
     "output_type": "display_data"
    }
   ],
   "source": [
    "typeof(c)"
   ]
  },
  {
   "cell_type": "code",
   "execution_count": 114,
   "metadata": {},
   "outputs": [
    {
     "name": "stdout",
     "output_type": "stream",
     "text": [
      "Complex{Int64}\n",
      "  re: Int64 1\n",
      "  im: Int64 4\n"
     ]
    }
   ],
   "source": [
    "dump(c)"
   ]
  },
  {
   "cell_type": "code",
   "execution_count": 115,
   "metadata": {},
   "outputs": [
    {
     "data": {
      "text/plain": [
       "1.0 + 4.0im"
      ]
     },
     "metadata": {},
     "output_type": "display_data"
    }
   ],
   "source": [
    "c2=Complex{Float64}(1,4)"
   ]
  },
  {
   "cell_type": "code",
   "execution_count": 116,
   "metadata": {},
   "outputs": [
    {
     "data": {
      "text/plain": [
       "ComplexF64\u001b[90m (alias for \u001b[39m\u001b[90mComplex{Float64}\u001b[39m\u001b[90m)\u001b[39m"
      ]
     },
     "metadata": {},
     "output_type": "display_data"
    }
   ],
   "source": [
    "typeof(c2)"
   ]
  },
  {
   "cell_type": "code",
   "execution_count": 117,
   "metadata": {},
   "outputs": [
    {
     "data": {
      "text/plain": [
       "ComplexF32\u001b[90m (alias for \u001b[39m\u001b[90mComplex{Float32}\u001b[39m\u001b[90m)\u001b[39m"
      ]
     },
     "metadata": {},
     "output_type": "display_data"
    }
   ],
   "source": [
    "c2=Complex{Float32}(1,4)\n",
    "typeof(c2)"
   ]
  },
  {
   "cell_type": "code",
   "execution_count": 118,
   "metadata": {},
   "outputs": [
    {
     "data": {
      "text/plain": [
       "3//4"
      ]
     },
     "metadata": {},
     "output_type": "display_data"
    }
   ],
   "source": [
    "x = 1//2 + 1//4"
   ]
  },
  {
   "cell_type": "code",
   "execution_count": 119,
   "metadata": {},
   "outputs": [
    {
     "data": {
      "text/plain": [
       "Rational{Int64}"
      ]
     },
     "metadata": {},
     "output_type": "display_data"
    }
   ],
   "source": [
    "typeof(x)"
   ]
  },
  {
   "cell_type": "code",
   "execution_count": 120,
   "metadata": {},
   "outputs": [
    {
     "data": {
      "text/plain": [
       "Complex{Rational{Int128}}"
      ]
     },
     "metadata": {},
     "output_type": "display_data"
    }
   ],
   "source": [
    "c3=Complex{Rational{Int128}}(1//4,4)\n",
    "typeof(c3)"
   ]
  },
  {
   "cell_type": "markdown",
   "metadata": {},
   "source": [
    "### Data types"
   ]
  },
  {
   "cell_type": "code",
   "execution_count": 121,
   "metadata": {},
   "outputs": [
    {
     "data": {
      "text/plain": [
       "3.7"
      ]
     },
     "metadata": {},
     "output_type": "display_data"
    }
   ],
   "source": [
    "parse(Float64, \"3.7\")"
   ]
  },
  {
   "cell_type": "code",
   "execution_count": 122,
   "metadata": {},
   "outputs": [
    {
     "data": {
      "text/plain": [
       "(1.0, 0x00000000)"
      ]
     },
     "metadata": {},
     "output_type": "display_data"
    }
   ],
   "source": [
    "one(Float64), zero(UInt32)"
   ]
  },
  {
   "cell_type": "code",
   "execution_count": 123,
   "metadata": {},
   "outputs": [
    {
     "name": "stdout",
     "output_type": "stream",
     "text": [
      "Int64('a') = 97\n",
      "Int64(2.0) = 2\n",
      "Float64(1) = 1.0\n",
      "Bool(1) = true\n",
      "Bool(0) = false\n",
      "Char(89) = 'Y'\n",
      "zero(10.0) = 0.0\n",
      "one(Int64) = 1\n",
      "convert(Int64, 1.0) = 1\n",
      "parse(Int64, \"1\") = 1\n"
     ]
    },
    {
     "data": {
      "text/plain": [
       "1"
      ]
     },
     "metadata": {},
     "output_type": "display_data"
    }
   ],
   "source": [
    "@show Int64('a') \t# character to integer\n",
    "@show Int64(2.0) \t# float to integer\n",
    "#Int64(1.3) \t\t# inexact error\n",
    "#Int64(\"a\") \t\t# error no conversion possible\n",
    "@show Float64(1) \t# integer to float\n",
    "@show Bool(1) \t\t# boolean true\n",
    "@show Bool(0) \t\t# boolean false\n",
    "@show Char(89) \t\t# integer to char\n",
    "@show zero(10.0) \t# zero of  arg type (Float64)\n",
    "@show one(Int64) \t# one of type Int64\n",
    "@show convert(Int64, 1.0)\t# float to integer\n",
    "@show parse(Int64, \"1\")"
   ]
  },
  {
   "cell_type": "code",
   "execution_count": 124,
   "metadata": {},
   "outputs": [
    {
     "name": "stdout",
     "output_type": "stream",
     "text": [
      "Int <: Any = true\n",
      "Int <: Union{Int, Float64} = true\n",
      "typeof(nothing) = Nothing\n"
     ]
    },
    {
     "data": {
      "text/plain": [
       "Nothing"
      ]
     },
     "metadata": {},
     "output_type": "display_data"
    }
   ],
   "source": [
    "@show Int <: Any\n",
    "@show Int <: Union{Int, Float64}\n",
    "@show typeof(nothing)"
   ]
  },
  {
   "cell_type": "code",
   "execution_count": 125,
   "metadata": {},
   "outputs": [
    {
     "name": "stdout",
     "output_type": "stream",
     "text": [
      "x= 1 \n"
     ]
    },
    {
     "data": {
      "text/plain": [
       "Nothing"
      ]
     },
     "metadata": {},
     "output_type": "display_data"
    }
   ],
   "source": [
    "f(x) = println(\"x= $x \")\n",
    "res = f(1)\n",
    "typeof(res)"
   ]
  },
  {
   "cell_type": "code",
   "execution_count": 126,
   "metadata": {},
   "outputs": [
    {
     "data": {
      "text/plain": [
       "π = 3.1415926535897..."
      ]
     },
     "metadata": {},
     "output_type": "display_data"
    }
   ],
   "source": [
    "π"
   ]
  },
  {
   "cell_type": "code",
   "execution_count": 127,
   "metadata": {},
   "outputs": [
    {
     "data": {
      "text/plain": [
       "Irrational{:π}"
      ]
     },
     "metadata": {},
     "output_type": "display_data"
    }
   ],
   "source": [
    "typeof(π)"
   ]
  },
  {
   "cell_type": "code",
   "execution_count": 128,
   "metadata": {},
   "outputs": [
    {
     "name": "stdout",
     "output_type": "stream",
     "text": [
      "BigFloat(π) = 3.14159265358979323846264338327950288419716939937510582097494459230781640628620899862803482534211706798214808651328230664709384460955058223172535940812848111745028410270193852110555964462294895493038196442881097566593344612847564823378678316527120190914564856692346034861045432664821339360726024914127372458700660631558817488152092096282925409171536436789259036001133053054882046652138414695194151160943305727036575959195309218611738193261179310511854807446237996274956735188575272489122793818301194912983367336244065664308602139494639522473719070217986094370277053921717629317675238467481846766940513200056812714526356082778577134275778960917363717872146844090122495343014654958537105079227968925892354201995611212902196086403441815981362977477130996051870721134999999837297804995105973173281609631859502445945534690830264252230825334468503526193118817101000313783875288658753320838142061717766914730359825349042875546873115956286388235378759375195778185778053217122680661300192787661119590921642019893809525720106548586327886593615338182796823030195203530185296899577362259941389124972177528347913151557485724245415069595082953311686172785588907509838175463746493931925506040092770167113900984882401285836160356370766010471018194295559619894676783744944825537977472684710404753464620804668425906949129331367702898915210475216205696602405803815019351125338243003558764024749647326391419927260426992279678235478163600934172164121992458631503028618297455570674983850549458858692699569092721079750930295532116534498720275596023648066549911988183479775356636980742654252786255181841757467289097777279380008164706001614524919217321721477235014144197356854816136115735255213347574184946843852332390739414333454776241686251898356948556209921922218427255025425688767179049460165346680498862723279178608578438382796797668145410095388378636095068006422512520511739298489608412848862694560424196528502221066118630674427862203919494504712371378696095636437191728746776465757396241389086583264599581339047802759009946576407895126946839835259570982582262052248940772671947826848260147699090264013639443745530506820349625245174939965143142980919065925093722169646151570985838741059788595977297549893016175392846813826868386894277415599185592524595395943104997252468084598727364469584865383673622262609912460805124388439045124413654976278079771569143599770012961608944169486855584840635342207222582848864815845602850601684273945226746767889525213852254995466672782398645659611635488623057745649803559363456817432411251507606947945109659609402522887971089314566913686722874894056010150330861792868092087476091782493858900971490967598526136554978189312978482168299894872265880485756401427047755513237964145152374623436454285844479526586782105114135473573952311342716610213596953623144295248493718711014576540359027993440374200731057853906219838744780847848968332144571386875194350643021845319104848100537061468067491927819119793995206141966342875444064374512371819217999839101591956181467514269123974894090718649423196156794520803\n"
     ]
    }
   ],
   "source": [
    "setprecision(10000)\n",
    "@show BigFloat(π);"
   ]
  },
  {
   "cell_type": "markdown",
   "metadata": {},
   "source": [
    "### Tuples"
   ]
  },
  {
   "cell_type": "code",
   "execution_count": 129,
   "metadata": {},
   "outputs": [
    {
     "name": "stdout",
     "output_type": "stream",
     "text": [
      "() = ()\n",
      "(1,) = (1,)\n",
      "(\"a\", 1) = (\"a\", 1)\n",
      "('a', false)::Tuple{Char, Bool} = ('a', false)\n",
      "x = (1, 2, 3) = (1, 2, 3)\n",
      "x[1] = 1"
     ]
    },
    {
     "name": "stdout",
     "output_type": "stream",
     "text": [
      "\n",
      "x[1:2] = (1, 2)\n",
      "(a, b) = x = (1, 2, 3)\n"
     ]
    },
    {
     "data": {
      "text/plain": [
       "(1, 2, 3)"
      ]
     },
     "metadata": {},
     "output_type": "display_data"
    }
   ],
   "source": [
    "@show () \t\t# empty tuple\n",
    "@show (1,) \t\t# one element tuple\n",
    "@show (\"a\", 1) \t# two element tuple\n",
    "@show ('a', false)::Tuple{Char, Bool} # tuple type assertion\n",
    "@show x = (1, 2, 3)\n",
    "@show x[1] \t\t# first element\n",
    "@show x[1:2] \t# (1, 2) (tuple)\n",
    "# x[4] \t\t# bounds error\n",
    "# x[1] = 1 \t# error - tuple is not mutable\n",
    "@show a, b = x \t# tuple unpacking a==1, b==2\n"
   ]
  },
  {
   "cell_type": "code",
   "execution_count": 130,
   "metadata": {},
   "outputs": [
    {
     "data": {
      "text/plain": [
       "Tuple{Int64, Float64}"
      ]
     },
     "metadata": {},
     "output_type": "display_data"
    }
   ],
   "source": [
    "t = (3, 3.0)\n",
    "typeof(t)"
   ]
  },
  {
   "cell_type": "code",
   "execution_count": 131,
   "metadata": {},
   "outputs": [
    {
     "data": {
      "text/plain": [
       "Tuple{Int64, String, Rational{Int64}}"
      ]
     },
     "metadata": {},
     "output_type": "display_data"
    }
   ],
   "source": [
    "k = (1, \"k\",  1//5)\n",
    "typeof(k)"
   ]
  },
  {
   "cell_type": "code",
   "execution_count": 132,
   "metadata": {},
   "outputs": [
    {
     "data": {
      "text/plain": [
       "2-element Vector{Int64}:\n",
       "  9\n",
       " 10"
      ]
     },
     "metadata": {},
     "output_type": "display_data"
    }
   ],
   "source": [
    "v = collect(3:10)\n",
    "v[7:end]"
   ]
  },
  {
   "cell_type": "markdown",
   "metadata": {},
   "source": [
    "### Matrices"
   ]
  },
  {
   "cell_type": "code",
   "execution_count": 133,
   "metadata": {
    "scrolled": true
   },
   "outputs": [
    {
     "name": "stdout",
     "output_type": "stream",
     "text": [
      "Array{Any}(undef, 2, 3) = Any[#undef #undef #undef; #undef #undef #undef]\n",
      "zeros(5) = [0.0, 0.0, 0.0, 0.0, 0.0]\n",
      "ones(Int64, 2, 1) = [1; 1;;]\n",
      "(trues(3), falses(3)) = (Bool[1, 1, 1], Bool[0, 0, 0])\n",
      "x = range(1, stop = 2, length = 5) = 1.0:0.25:2.0\n",
      "collect(x) = [1.0, 1.25, 1.5, 1.75, 2.0]\n",
      "1:10 = 1:10\n",
      "1:2:10 = 1:2:9\n",
      "reshape(1:12, 3, 4) = [1 4 7 10; 2 5 8 11; 3 6 9 12]\n"
     ]
    },
    {
     "data": {
      "text/plain": [
       "3×4 reshape(::UnitRange{Int64}, 3, 4) with eltype Int64:\n",
       " 1  4  7  10\n",
       " 2  5  8  11\n",
       " 3  6  9  12"
      ]
     },
     "metadata": {},
     "output_type": "display_data"
    }
   ],
   "source": [
    "Array{Char}(undef, 2, 3, 4) \t# 2x3x4 array of Chars\n",
    "@show Array{Any}(undef, 2, 3) \t# 2x3 array of Any\n",
    "@show zeros(5) \t\t\t\t# vector of Float64 zeros\n",
    "@show ones(Int64, 2, 1) \t# 2x1 array of Int64 ones\n",
    "@show trues(3), falses(3) \t# tuple of vector of trues and of falses\n",
    "\n",
    "@show x = range(1, stop=2, length=5)  # iterator having 5 equally spaced elements\n",
    "@show collect(x) \t# converts iterator to vector\n",
    "@show 1:10 \t\t\t# iterable from 1 to 10\n",
    "@show 1:2:10 \t\t# iterable from 1 to 9 with 2 skip\n",
    "@show reshape(1:12, 3, 4)\t# 3x4 array filled with 1:12 values\n"
   ]
  },
  {
   "cell_type": "code",
   "execution_count": 134,
   "metadata": {},
   "outputs": [
    {
     "data": {
      "text/plain": [
       "Matrix\u001b[90m (alias for \u001b[39m\u001b[90mArray{T, 2} where T\u001b[39m\u001b[90m)\u001b[39m"
      ]
     },
     "metadata": {},
     "output_type": "display_data"
    }
   ],
   "source": [
    "Matrix"
   ]
  },
  {
   "cell_type": "code",
   "execution_count": 135,
   "metadata": {},
   "outputs": [
    {
     "data": {
      "text/plain": [
       "2×3 Matrix{Int64}:\n",
       " 140718518439072  2142127669312  2142165579552\n",
       "   2142179348016  2142165579536  2142165579584"
      ]
     },
     "metadata": {},
     "output_type": "display_data"
    }
   ],
   "source": [
    "y = Matrix{Int64}(undef, 2, 3)"
   ]
  },
  {
   "cell_type": "code",
   "execution_count": 136,
   "metadata": {},
   "outputs": [
    {
     "data": {
      "text/plain": [
       "4×5 Matrix{Float64}:\n",
       " 0.0  0.0  66.0  0.0  0.0\n",
       " 0.0  0.0   0.0  0.0  0.0\n",
       " 0.0  0.0   0.0  0.0  0.0\n",
       " 0.0  0.0   0.0  0.0  0.0"
      ]
     },
     "metadata": {},
     "output_type": "display_data"
    }
   ],
   "source": [
    "m = zeros( 4,5)\n",
    "m[1,3] = 66\n",
    "m\n",
    "# 1-based numbering"
   ]
  },
  {
   "cell_type": "code",
   "execution_count": 137,
   "metadata": {},
   "outputs": [
    {
     "data": {
      "text/plain": [
       "4-element Vector{Float64}:\n",
       " 66.0\n",
       "  0.0\n",
       "  0.0\n",
       "  0.0"
      ]
     },
     "metadata": {},
     "output_type": "display_data"
    }
   ],
   "source": [
    "m[:,3] #array slicing"
   ]
  },
  {
   "cell_type": "code",
   "execution_count": 138,
   "metadata": {},
   "outputs": [
    {
     "data": {
      "text/plain": [
       "3000×4000000 reshape(::UnitRange{Int64}, 3000, 4000000) with eltype Int64:\n",
       "    1  3001  6001   9001  12001  15001  18001  …  11999994001  11999997001\n",
       "    2  3002  6002   9002  12002  15002  18002     11999994002  11999997002\n",
       "    3  3003  6003   9003  12003  15003  18003     11999994003  11999997003\n",
       "    4  3004  6004   9004  12004  15004  18004     11999994004  11999997004\n",
       "    5  3005  6005   9005  12005  15005  18005     11999994005  11999997005\n",
       "    6  3006  6006   9006  12006  15006  18006  …  11999994006  11999997006\n",
       "    7  3007  6007   9007  12007  15007  18007     11999994007  11999997007\n",
       "    8  3008  6008   9008  12008  15008  18008     11999994008  11999997008\n",
       "    9  3009  6009   9009  12009  15009  18009     11999994009  11999997009\n",
       "   10  3010  6010   9010  12010  15010  18010     11999994010  11999997010\n",
       "    ⋮                                ⋮         ⋱               \n",
       " 2992  5992  8992  11992  14992  17992  20992     11999996992  11999999992\n",
       " 2993  5993  8993  11993  14993  17993  20993     11999996993  11999999993\n",
       " 2994  5994  8994  11994  14994  17994  20994     11999996994  11999999994\n",
       " 2995  5995  8995  11995  14995  17995  20995     11999996995  11999999995\n",
       " 2996  5996  8996  11996  14996  17996  20996  …  11999996996  11999999996\n",
       " 2997  5997  8997  11997  14997  17997  20997     11999996997  11999999997\n",
       " 2998  5998  8998  11998  14998  17998  20998     11999996998  11999999998\n",
       " 2999  5999  8999  11999  14999  17999  20999     11999996999  11999999999\n",
       " 3000  6000  9000  12000  15000  18000  21000     11999997000  12000000000"
      ]
     },
     "metadata": {},
     "output_type": "display_data"
    }
   ],
   "source": [
    "a = reshape(1:12_000_000_000, 3_000, 4_000_000)\n"
   ]
  },
  {
   "cell_type": "code",
   "execution_count": 139,
   "metadata": {},
   "outputs": [
    {
     "data": {
      "text/plain": [
       "3×2 Matrix{Int64}:\n",
       " 7  10\n",
       " 8  11\n",
       " 9  12"
      ]
     },
     "metadata": {},
     "output_type": "display_data"
    },
    {
     "data": {
      "text/plain": [
       "3-element Vector{Int64}:\n",
       " 1\n",
       " 2\n",
       " 3"
      ]
     },
     "metadata": {},
     "output_type": "display_data"
    },
    {
     "data": {
      "text/plain": [
       "4-element Vector{Int64}:\n",
       "  1\n",
       "  4\n",
       "  7\n",
       " 10"
      ]
     },
     "metadata": {},
     "output_type": "display_data"
    }
   ],
   "source": [
    "a = reshape(1:12, 3, 4)\n",
    "display(a[:, 3:end]) # 3x2 matrix\n",
    "display(a[:, 1]) # 3 element vector\n",
    "display(a[1, :]) # 4 element vector\n"
   ]
  },
  {
   "cell_type": "markdown",
   "metadata": {},
   "source": [
    "### Data structures"
   ]
  },
  {
   "cell_type": "code",
   "execution_count": 140,
   "metadata": {
    "scrolled": true
   },
   "outputs": [
    {
     "name": "stdout",
     "output_type": "stream",
     "text": [
      "p = Point1(0, 0.0, \"Origin\")\n",
      "p.x = 0\n",
      "fieldnames(typeof(p)) = (:x, :y, :meta)\n",
      "fieldnames(Point1) = (:x, :y, :meta)\n"
     ]
    }
   ],
   "source": [
    "mutable struct Point1\n",
    "  x::Int\n",
    "  y::Float64\n",
    "  meta\n",
    "end\n",
    "p = Point1(0, 0.0, \"Origin\")\n",
    "@show p\n",
    "@show p.x \t\t# access field\n",
    "p.meta = 2\t\t# change field value\n",
    "@show fieldnames(typeof(p)) # get names of instance fields\n",
    "@show fieldnames(Point1); \t# get names of type fields\n"
   ]
  },
  {
   "cell_type": "code",
   "execution_count": 141,
   "metadata": {},
   "outputs": [
    {
     "name": "stdout",
     "output_type": "stream",
     "text": [
      "Symbol x\n"
     ]
    }
   ],
   "source": [
    "dump(:x)"
   ]
  },
  {
   "cell_type": "code",
   "execution_count": 142,
   "metadata": {},
   "outputs": [
    {
     "name": "stdout",
     "output_type": "stream",
     "text": [
      "Point1\n",
      "  x: Int64 0\n",
      "  y: Float64 "
     ]
    },
    {
     "name": "stdout",
     "output_type": "stream",
     "text": [
      "0.0\n",
      "  meta: Int64 2\n"
     ]
    }
   ],
   "source": [
    "dump(p)"
   ]
  },
  {
   "cell_type": "code",
   "execution_count": 143,
   "metadata": {},
   "outputs": [
    {
     "data": {
      "text/plain": [
       "(:x, :y, :meta)"
      ]
     },
     "metadata": {},
     "output_type": "display_data"
    }
   ],
   "source": [
    "fieldnames(typeof(p))"
   ]
  },
  {
   "cell_type": "code",
   "execution_count": 144,
   "metadata": {},
   "outputs": [
    {
     "name": "stdout",
     "output_type": "stream",
     "text": [
      "Symbol a\n"
     ]
    }
   ],
   "source": [
    "dump(:a)"
   ]
  },
  {
   "cell_type": "code",
   "execution_count": 145,
   "metadata": {},
   "outputs": [
    {
     "data": {
      "text/plain": [
       "Point2(999, 2.0, \"Origin\")"
      ]
     },
     "metadata": {},
     "output_type": "display_data"
    }
   ],
   "source": [
    "Base.@kwdef struct Point2\n",
    "  x::Int64 = 1\n",
    "  y::Float64 = 2.0\n",
    "  meta\n",
    "end\n",
    "p2 = Point2(x=999, meta = \"Origin\")"
   ]
  },
  {
   "cell_type": "code",
   "execution_count": 146,
   "metadata": {},
   "outputs": [
    {
     "name": "stdout",
     "output_type": "stream",
     "text": [
      "ErrorException(\"setfield!: immutable struct of type Point2 cannot be changed\")\n"
     ]
    }
   ],
   "source": [
    "try\n",
    "    p2.x = 33333\n",
    "catch e\n",
    "    println(e)\n",
    "end"
   ]
  },
  {
   "cell_type": "code",
   "execution_count": 147,
   "metadata": {},
   "outputs": [
    {
     "data": {
      "text/plain": [
       "Point3\n",
       "  x: Int64 66\n",
       "  y: Float64 2.0\n",
       "  meta: String \"Origin\"\n"
      ]
     },
     "metadata": {},
     "output_type": "display_data"
    }
   ],
   "source": [
    "using Parameters\n",
    "@with_kw mutable struct Point3\n",
    "  x::Int64 = 1\n",
    "  y::Float64 = 2.0\n",
    "  meta\n",
    "end\n",
    "p3 = Point3(x=999, meta = \"Origin\")\n",
    "p3.x = 66\n",
    "p3"
   ]
  },
  {
   "cell_type": "code",
   "execution_count": 148,
   "metadata": {},
   "outputs": [
    {
     "data": {
      "text/plain": [
       "Point3\n",
       "  x: Int64 11\n",
       "  y: Float64 2.0\n",
       "  meta: String \"ss\"\n"
      ]
     },
     "metadata": {},
     "output_type": "display_data"
    }
   ],
   "source": [
    "Point3(;x=11,meta=\"ss\")"
   ]
  },
  {
   "cell_type": "markdown",
   "metadata": {},
   "source": [
    "### Dictionaries"
   ]
  },
  {
   "cell_type": "code",
   "execution_count": 149,
   "metadata": {},
   "outputs": [
    {
     "data": {
      "text/plain": [
       "Dict{Int64, Float64} with 2 entries:\n",
       "  5 => 66.6\n",
       "  7 => 99.0"
      ]
     },
     "metadata": {},
     "output_type": "display_data"
    }
   ],
   "source": [
    "x = Dict{Int, Float64}()\n",
    "x[5] = 66.6\n",
    "x[7] = 99\n",
    "\n",
    "x"
   ]
  },
  {
   "cell_type": "code",
   "execution_count": 150,
   "metadata": {},
   "outputs": [
    {
     "data": {
      "text/plain": [
       "Dict{Any, Any} with 2 entries:\n",
       "  5 => 66.6\n",
       "  7 => 99"
      ]
     },
     "metadata": {},
     "output_type": "display_data"
    }
   ],
   "source": [
    "x2 = Dict{Any, Any}()\n",
    "x2[5] = 66.6\n",
    "x2[7] = 99\n",
    "\n",
    "x2"
   ]
  },
  {
   "cell_type": "code",
   "execution_count": 151,
   "metadata": {},
   "outputs": [
    {
     "data": {
      "text/plain": [
       "Pair{Int64, Int64}"
      ]
     },
     "metadata": {},
     "output_type": "display_data"
    }
   ],
   "source": [
    "typeof(1=>5)"
   ]
  },
  {
   "cell_type": "code",
   "execution_count": 152,
   "metadata": {},
   "outputs": [
    {
     "data": {
      "text/plain": [
       "Dict{Int64, Float64} with 2 entries:\n",
       "  2 => 4.5\n",
       "  1 => 5.5"
      ]
     },
     "metadata": {},
     "output_type": "display_data"
    }
   ],
   "source": [
    "y = Dict(1=>5.5, 2=>4.5)"
   ]
  },
  {
   "cell_type": "code",
   "execution_count": 153,
   "metadata": {},
   "outputs": [
    {
     "name": "stdout",
     "output_type": "stream",
     "text": [
      "y[2] = 4.5\n",
      "y[3] = 30.0 = 30.0\n",
      "haskey(y, 2) = true\n",
      "(keys(y), values(y)) = ([2, 3, 1], [4.5, 30.0, 5.5])\n",
      "delete!(y, 2) = Dict(3 => 30.0, 1 => 5.5)\n",
      "get(y, 2, 777) = 777\n"
     ]
    },
    {
     "data": {
      "text/plain": [
       "777"
      ]
     },
     "metadata": {},
     "output_type": "display_data"
    }
   ],
   "source": [
    "x = Dict{Int, Float64}() # empty dictionary mapping integers to floats\n",
    "y = Dict(1=>5.5, 2=>4.5) \t# created dictionary\n",
    "@show y[2] \t\t\t\t\t# get element\n",
    "@show y[3] = 30.0 \t\t\t# add element\n",
    "@show haskey(y, 2) \t\t\t# check if key exists\n",
    "@show keys(y), values(y) # iterators returning dictionary keys and values\n",
    "@show delete!(y, 2)   # removing elements see also: pop!\n",
    "@show get(y, 2, 777) # returns y[2] or 777 if not haskey(y,2)\n"
   ]
  },
  {
   "cell_type": "markdown",
   "metadata": {},
   "source": [
    "### Text processing"
   ]
  },
  {
   "cell_type": "code",
   "execution_count": 154,
   "metadata": {},
   "outputs": [
    {
     "name": "stdout",
     "output_type": "stream",
     "text": [
      "\"$(x) + 3 = $(x + 3)  3\\$\" = \"123 + 3 = 126  3\\$\"\n"
     ]
    },
    {
     "data": {
      "text/plain": [
       "\"123 + 3 = 126  3\\$\""
      ]
     },
     "metadata": {},
     "output_type": "display_data"
    }
   ],
   "source": [
    "x = 123\n",
    "@show \"$x + 3 = $(x+3)  3\\$\""
   ]
  },
  {
   "cell_type": "code",
   "execution_count": 155,
   "metadata": {},
   "outputs": [
    {
     "name": "stdout",
     "output_type": "stream",
     "text": [
      "\"Hi \" * \"there!\" = \"Hi there!\"\n",
      "\"Ho \" ^ 3 = \"Ho Ho Ho \"\n",
      "string(\"a= \", 123.3) = \"a= 123.3\"\n",
      "occursin(\"CD\", \"ABCD\") = true\n",
      "\"\\\"\\n\\t\\$\" = \"\\\"\\n\\t\\$\"\n",
      "\"$(x) + 3 = $(x + 3)\" = \"123 + 3 = 126\"\n",
      "\"\\$199\" = \"\\$199\"\n",
      "occursin(r, \"CD\") = false\n"
     ]
    },
    {
     "name": "stdout",
     "output_type": "stream",
     "text": [
      "m = match(r, \"ACBD\") = RegexMatch(\"A\")\n"
     ]
    }
   ],
   "source": [
    "@show \"Hi \" * \"there!\" \t\t# concatenation\n",
    "@show \"Ho \" ^ 3 \t\t\t# multiplication\n",
    "@show string(\"a= \", 123.3) \t# joining elements to text\n",
    "@show occursin(\"CD\",\"ABCD\") \t# occurence\n",
    "@show \"\\\"\\n\\t\\$\" # C-like escaping, additionally escape \\$\n",
    "                          # escaping - similiar to Matlab, Python, R\n",
    "x = 123\n",
    "@show \"$x + 3 = $(x+3)\"  # $ is an interpolation operator\n",
    "@show \"\\$199\" # that is why you need escaping\n",
    "\n",
    "r = r\"A|B\" # full support for regular expressions\n",
    "@show occursin(r, \"CD\") # false, not found\n",
    "@show m = match(r, \"ACBD\"); # first regexp match\n"
   ]
  },
  {
   "cell_type": "code",
   "execution_count": 156,
   "metadata": {},
   "outputs": [
    {
     "data": {
      "text/plain": [
       "\"hello 6 and 48\""
      ]
     },
     "metadata": {},
     "output_type": "display_data"
    }
   ],
   "source": [
    "\n",
    "x = 6\n",
    "\n",
    "tekst = \"hello $x and $(x*x+2x)\""
   ]
  },
  {
   "cell_type": "code",
   "execution_count": 157,
   "metadata": {},
   "outputs": [
    {
     "data": {
      "text/plain": [
       "\"c:\\\\windows\\\\n\""
      ]
     },
     "metadata": {},
     "output_type": "display_data"
    }
   ],
   "source": [
    "str = raw\"c:\\windows\\n\""
   ]
  },
  {
   "cell_type": "markdown",
   "metadata": {},
   "source": [
    "Note that `?` magic comment works only in Jupyter Notebook (not in Visual Studio Code)"
   ]
  },
  {
   "cell_type": "code",
   "execution_count": 26,
   "metadata": {},
   "outputs": [
    {
     "data": {
      "text/latex": [
       "\\begin{verbatim}\n",
       "@raw_str -> String\n",
       "\\end{verbatim}\n",
       "Create a raw string without interpolation and unescaping. The exception is that quotation marks still must be escaped. Backslashes escape both quotation marks and other backslashes, but only when a sequence of backslashes precedes a quote character. Thus, 2n backslashes followed by a quote encodes n backslashes and the end of the literal while 2n+1 backslashes followed by a quote encodes n backslashes followed by a quote character.\n",
       "\n",
       "\\section{Examples}\n",
       "\\begin{verbatim}\n",
       "julia> println(raw\"\\ $x\")\n",
       "\\ $x\n",
       "\n",
       "julia> println(raw\"\\\"\")\n",
       "\"\n",
       "\n",
       "julia> println(raw\"\\\\\\\"\")\n",
       "\\\"\n",
       "\n",
       "julia> println(raw\"\\\\x \\\\\\\"\")\n",
       "\\\\x \\\"\n",
       "\\end{verbatim}\n"
      ],
      "text/markdown": [
       "```\n",
       "@raw_str -> String\n",
       "```\n",
       "\n",
       "Create a raw string without interpolation and unescaping. The exception is that quotation marks still must be escaped. Backslashes escape both quotation marks and other backslashes, but only when a sequence of backslashes precedes a quote character. Thus, 2n backslashes followed by a quote encodes n backslashes and the end of the literal while 2n+1 backslashes followed by a quote encodes n backslashes followed by a quote character.\n",
       "\n",
       "# Examples\n",
       "\n",
       "```jldoctest\n",
       "julia> println(raw\"\\ $x\")\n",
       "\\ $x\n",
       "\n",
       "julia> println(raw\"\\\"\")\n",
       "\"\n",
       "\n",
       "julia> println(raw\"\\\\\\\"\")\n",
       "\\\"\n",
       "\n",
       "julia> println(raw\"\\\\x \\\\\\\"\")\n",
       "\\\\x \\\"\n",
       "```\n"
      ],
      "text/plain": [
       "\u001b[36m  @raw_str -> String\u001b[39m\n",
       "\n",
       "  Create a raw string without interpolation and unescaping. The exception is\n",
       "  that quotation marks still must be escaped. Backslashes escape both\n",
       "  quotation marks and other backslashes, but only when a sequence of\n",
       "  backslashes precedes a quote character. Thus, 2n backslashes followed by a\n",
       "  quote encodes n backslashes and the end of the literal while 2n+1\n",
       "  backslashes followed by a quote encodes n backslashes followed by a quote\n",
       "  character.\n",
       "\n",
       "\u001b[1m  Examples\u001b[22m\n",
       "\u001b[1m  ≡≡≡≡≡≡≡≡\u001b[22m\n",
       "\n",
       "\u001b[36m  julia> println(raw\"\\ $x\")\u001b[39m\n",
       "\u001b[36m  \\ $x\u001b[39m\n",
       "\u001b[36m  \u001b[39m\n",
       "\u001b[36m  julia> println(raw\"\\\"\")\u001b[39m\n",
       "\u001b[36m  \"\u001b[39m\n",
       "\u001b[36m  \u001b[39m\n",
       "\u001b[36m  julia> println(raw\"\\\\\\\"\")\u001b[39m\n",
       "\u001b[36m  \\\"\u001b[39m\n",
       "\u001b[36m  \u001b[39m\n",
       "\u001b[36m  julia> println(raw\"\\\\x \\\\\\\"\")\u001b[39m\n",
       "\u001b[36m  \\\\x \\\"\u001b[39m"
      ]
     },
     "execution_count": 26,
     "metadata": {},
     "output_type": "execute_result"
    }
   ],
   "source": [
    "?@raw_str"
   ]
  },
  {
   "cell_type": "markdown",
   "metadata": {},
   "source": [
    "### Functions"
   ]
  },
  {
   "cell_type": "code",
   "execution_count": 159,
   "metadata": {},
   "outputs": [
    {
     "name": "stdout",
     "output_type": "stream",
     "text": [
      "f(3, 2) = 5\n",
      "f(3) = 13\n"
     ]
    },
    {
     "data": {
      "text/plain": [
       "13"
      ]
     },
     "metadata": {},
     "output_type": "display_data"
    }
   ],
   "source": [
    "f(x, y = 10) = x + y\n",
    "# for this function the default value of y is 10\n",
    "@show f(3, 2) # 5 is returned\n",
    "@show f(3)    # 13 is returned\n"
   ]
  },
  {
   "cell_type": "code",
   "execution_count": 160,
   "metadata": {},
   "outputs": [
    {
     "data": {
      "text/html": [
       "# 3 methods for generic function <b>g</b> from \u001b[35mMain\u001b[39m:<ul><li> g(x::<b>Int64</b>, y::<b>Int64</b>) in Main at <a href=\"https://github.com/pszufe/2024_MIT_18.S097_Introduction-to-Julia-for-Data-Science/tree/2c1f3b4034e7c8eefec7afd835b10fe1bbd18246//Day-1a_Your-first-steps-with-Julia/01_Basics.ipynb#L1\" target=\"_blank\">c:\\AAABIBLIOTEKA\\MIT_Boston\\2024_MIT_18.S097_Introduction-to-Julia-for-Data-Science\\Day-1a_Your-first-steps-with-Julia\\01_Basics.ipynb:1</a></li> <li> g(x::<b>Int64</b>, y::<b>Bool</b>) in Main at <a href=\"https://github.com/pszufe/2024_MIT_18.S097_Introduction-to-Julia-for-Data-Science/tree/2c1f3b4034e7c8eefec7afd835b10fe1bbd18246//Day-1a_Your-first-steps-with-Julia/01_Basics.ipynb#L5\" target=\"_blank\">c:\\AAABIBLIOTEKA\\MIT_Boston\\2024_MIT_18.S097_Introduction-to-Julia-for-Data-Science\\Day-1a_Your-first-steps-with-Julia\\01_Basics.ipynb:5</a></li> <li> g(x, y) in Main at <a href=\"https://github.com/pszufe/2024_MIT_18.S097_Introduction-to-Julia-for-Data-Science/tree/2c1f3b4034e7c8eefec7afd835b10fe1bbd18246//Day-1a_Your-first-steps-with-Julia/01_Basics.ipynb#L6\" target=\"_blank\">c:\\AAABIBLIOTEKA\\MIT_Boston\\2024_MIT_18.S097_Introduction-to-Julia-for-Data-Science\\Day-1a_Your-first-steps-with-Julia\\01_Basics.ipynb:6</a></li> </ul>"
      ],
      "text/plain": [
       "# 3 methods for generic function \"g\" from \u001b[35mMain\u001b[39m:\n",
       " [1] g(\u001b[90mx\u001b[39m::\u001b[1mInt64\u001b[22m, \u001b[90my\u001b[39m::\u001b[1mInt64\u001b[22m)\n",
       "\u001b[90m     @\u001b[39m \u001b[90mc:\\AAABIBLIOTEKA\\MIT_Boston\\2024_MIT_18.S097_Introduction-to-Julia-for-Data-Science\\Day-1a_Your-first-steps-with-Julia\\\u001b[39m\u001b[90m\u001b[4m01_Basics.ipynb:1\u001b[24m\u001b[39m\n",
       " [2] g(\u001b[90mx\u001b[39m::\u001b[1mInt64\u001b[22m, \u001b[90my\u001b[39m::\u001b[1mBool\u001b[22m)\n",
       "\u001b[90m     @\u001b[39m \u001b[90mc:\\AAABIBLIOTEKA\\MIT_Boston\\2024_MIT_18.S097_Introduction-to-Julia-for-Data-Science\\Day-1a_Your-first-steps-with-Julia\\\u001b[39m\u001b[90m\u001b[4m01_Basics.ipynb:5\u001b[24m\u001b[39m\n",
       " [3] g(\u001b[90mx\u001b[39m, \u001b[90my\u001b[39m)\n",
       "\u001b[90m     @\u001b[39m \u001b[90mc:\\AAABIBLIOTEKA\\MIT_Boston\\2024_MIT_18.S097_Introduction-to-Julia-for-Data-Science\\Day-1a_Your-first-steps-with-Julia\\\u001b[39m\u001b[90m\u001b[4m01_Basics.ipynb:6\u001b[24m\u001b[39m"
      ]
     },
     "metadata": {},
     "output_type": "display_data"
    }
   ],
   "source": [
    "function g(x::Int, y::Int) # limit arg type\n",
    "  return y, x # tuple returned\n",
    "end\n",
    "\n",
    "g(x::Int, y::Bool) = x * y # multiple dispatch\n",
    "g(x, y) = x - y\n",
    "methods(g) # list of methods for g\n"
   ]
  },
  {
   "cell_type": "code",
   "execution_count": 161,
   "metadata": {},
   "outputs": [
    {
     "name": "stdout",
     "output_type": "stream",
     "text": [
      "g(1, 2) = (2, 1)\n",
      "g(1, true) = 1\n"
     ]
    },
    {
     "data": {
      "text/plain": [
       "1"
      ]
     },
     "metadata": {},
     "output_type": "display_data"
    }
   ],
   "source": [
    "function g(x::Int, y::Int) # limit arg type\n",
    "  return y, x # tuple returned\n",
    "end\n",
    "\n",
    "g(x::Int, y::Bool) = x * y # multiple dispatch\n",
    "\n",
    "@show g(1,2)\n",
    "@show g(1, true)\n"
   ]
  },
  {
   "cell_type": "code",
   "execution_count": 162,
   "metadata": {},
   "outputs": [
    {
     "data": {
      "text/html": [
       "# 3 methods for generic function <b>g</b> from \u001b[35mMain\u001b[39m:<ul><li> g(x::<b>Int64</b>, y::<b>Bool</b>) in Main at <a href=\"https://github.com/pszufe/2024_MIT_18.S097_Introduction-to-Julia-for-Data-Science/tree/2c1f3b4034e7c8eefec7afd835b10fe1bbd18246//Day-1a_Your-first-steps-with-Julia/01_Basics.ipynb#L5\" target=\"_blank\">c:\\AAABIBLIOTEKA\\MIT_Boston\\2024_MIT_18.S097_Introduction-to-Julia-for-Data-Science\\Day-1a_Your-first-steps-with-Julia\\01_Basics.ipynb:5</a></li> <li> g(x::<b>Int64</b>, y::<b>Int64</b>) in Main at <a href=\"https://github.com/pszufe/2024_MIT_18.S097_Introduction-to-Julia-for-Data-Science/tree/2c1f3b4034e7c8eefec7afd835b10fe1bbd18246//Day-1a_Your-first-steps-with-Julia/01_Basics.ipynb#L1\" target=\"_blank\">c:\\AAABIBLIOTEKA\\MIT_Boston\\2024_MIT_18.S097_Introduction-to-Julia-for-Data-Science\\Day-1a_Your-first-steps-with-Julia\\01_Basics.ipynb:1</a></li> <li> g(x, y) in Main at <a href=\"https://github.com/pszufe/2024_MIT_18.S097_Introduction-to-Julia-for-Data-Science/tree/2c1f3b4034e7c8eefec7afd835b10fe1bbd18246//Day-1a_Your-first-steps-with-Julia/01_Basics.ipynb#L6\" target=\"_blank\">c:\\AAABIBLIOTEKA\\MIT_Boston\\2024_MIT_18.S097_Introduction-to-Julia-for-Data-Science\\Day-1a_Your-first-steps-with-Julia\\01_Basics.ipynb:6</a></li> </ul>"
      ],
      "text/plain": [
       "# 3 methods for generic function \"g\" from \u001b[35mMain\u001b[39m:\n",
       " [1] g(\u001b[90mx\u001b[39m::\u001b[1mInt64\u001b[22m, \u001b[90my\u001b[39m::\u001b[1mBool\u001b[22m)\n",
       "\u001b[90m     @\u001b[39m \u001b[90mc:\\AAABIBLIOTEKA\\MIT_Boston\\2024_MIT_18.S097_Introduction-to-Julia-for-Data-Science\\Day-1a_Your-first-steps-with-Julia\\\u001b[39m\u001b[90m\u001b[4m01_Basics.ipynb:5\u001b[24m\u001b[39m\n",
       " [2] g(\u001b[90mx\u001b[39m::\u001b[1mInt64\u001b[22m, \u001b[90my\u001b[39m::\u001b[1mInt64\u001b[22m)\n",
       "\u001b[90m     @\u001b[39m \u001b[90mc:\\AAABIBLIOTEKA\\MIT_Boston\\2024_MIT_18.S097_Introduction-to-Julia-for-Data-Science\\Day-1a_Your-first-steps-with-Julia\\\u001b[39m\u001b[90m\u001b[4m01_Basics.ipynb:1\u001b[24m\u001b[39m\n",
       " [3] g(\u001b[90mx\u001b[39m, \u001b[90my\u001b[39m)\n",
       "\u001b[90m     @\u001b[39m \u001b[90mc:\\AAABIBLIOTEKA\\MIT_Boston\\2024_MIT_18.S097_Introduction-to-Julia-for-Data-Science\\Day-1a_Your-first-steps-with-Julia\\\u001b[39m\u001b[90m\u001b[4m01_Basics.ipynb:6\u001b[24m\u001b[39m"
      ]
     },
     "metadata": {},
     "output_type": "display_data"
    }
   ],
   "source": [
    "methods(g)"
   ]
  },
  {
   "cell_type": "code",
   "execution_count": 163,
   "metadata": {},
   "outputs": [
    {
     "name": "stdout",
     "output_type": "stream",
     "text": [
      "g(1, 4) = (4, 1)\n",
      "g(1, true) = 1\n"
     ]
    },
    {
     "data": {
      "text/html": [
       "# 3 methods for generic function <b>g</b> from \u001b[35mMain\u001b[39m:<ul><li> g(x::<b>Int64</b>, y::<b>Bool</b>) in Main at <a href=\"https://github.com/pszufe/2024_MIT_18.S097_Introduction-to-Julia-for-Data-Science/tree/2c1f3b4034e7c8eefec7afd835b10fe1bbd18246//Day-1a_Your-first-steps-with-Julia/01_Basics.ipynb#L5\" target=\"_blank\">c:\\AAABIBLIOTEKA\\MIT_Boston\\2024_MIT_18.S097_Introduction-to-Julia-for-Data-Science\\Day-1a_Your-first-steps-with-Julia\\01_Basics.ipynb:5</a></li> <li> g(x::<b>Int64</b>, y::<b>Int64</b>) in Main at <a href=\"https://github.com/pszufe/2024_MIT_18.S097_Introduction-to-Julia-for-Data-Science/tree/2c1f3b4034e7c8eefec7afd835b10fe1bbd18246//Day-1a_Your-first-steps-with-Julia/01_Basics.ipynb#L1\" target=\"_blank\">c:\\AAABIBLIOTEKA\\MIT_Boston\\2024_MIT_18.S097_Introduction-to-Julia-for-Data-Science\\Day-1a_Your-first-steps-with-Julia\\01_Basics.ipynb:1</a></li> <li> g(x, y) in Main at <a href=\"https://github.com/pszufe/2024_MIT_18.S097_Introduction-to-Julia-for-Data-Science/tree/2c1f3b4034e7c8eefec7afd835b10fe1bbd18246//Day-1a_Your-first-steps-with-Julia/01_Basics.ipynb#L6\" target=\"_blank\">c:\\AAABIBLIOTEKA\\MIT_Boston\\2024_MIT_18.S097_Introduction-to-Julia-for-Data-Science\\Day-1a_Your-first-steps-with-Julia\\01_Basics.ipynb:6</a></li> </ul>"
      ],
      "text/plain": [
       "# 3 methods for generic function \"g\" from \u001b[35mMain\u001b[39m:\n",
       " [1] g(\u001b[90mx\u001b[39m::\u001b[1mInt64\u001b[22m, \u001b[90my\u001b[39m::\u001b[1mBool\u001b[22m)\n",
       "\u001b[90m     @\u001b[39m \u001b[90mc:\\AAABIBLIOTEKA\\MIT_Boston\\2024_MIT_18.S097_Introduction-to-Julia-for-Data-Science\\Day-1a_Your-first-steps-with-Julia\\\u001b[39m\u001b[90m\u001b[4m01_Basics.ipynb:5\u001b[24m\u001b[39m\n",
       " [2] g(\u001b[90mx\u001b[39m::\u001b[1mInt64\u001b[22m, \u001b[90my\u001b[39m::\u001b[1mInt64\u001b[22m)\n",
       "\u001b[90m     @\u001b[39m \u001b[90mc:\\AAABIBLIOTEKA\\MIT_Boston\\2024_MIT_18.S097_Introduction-to-Julia-for-Data-Science\\Day-1a_Your-first-steps-with-Julia\\\u001b[39m\u001b[90m\u001b[4m01_Basics.ipynb:1\u001b[24m\u001b[39m\n",
       " [3] g(\u001b[90mx\u001b[39m, \u001b[90my\u001b[39m)\n",
       "\u001b[90m     @\u001b[39m \u001b[90mc:\\AAABIBLIOTEKA\\MIT_Boston\\2024_MIT_18.S097_Introduction-to-Julia-for-Data-Science\\Day-1a_Your-first-steps-with-Julia\\\u001b[39m\u001b[90m\u001b[4m01_Basics.ipynb:6\u001b[24m\u001b[39m"
      ]
     },
     "metadata": {},
     "output_type": "display_data"
    }
   ],
   "source": [
    "@show g(1,4)\n",
    "@show g(1,true)\n",
    "methods(g)"
   ]
  },
  {
   "cell_type": "markdown",
   "metadata": {},
   "source": [
    "### Operators"
   ]
  },
  {
   "cell_type": "code",
   "execution_count": 164,
   "metadata": {},
   "outputs": [
    {
     "data": {
      "text/plain": [
       "1×2 BitMatrix:\n",
       " 1  0"
      ]
     },
     "metadata": {},
     "output_type": "display_data"
    }
   ],
   "source": [
    "[1 2] .< [2 1]"
   ]
  },
  {
   "cell_type": "code",
   "execution_count": 165,
   "metadata": {},
   "outputs": [
    {
     "name": "stdout",
     "output_type": "stream",
     "text": [
      "true || false = true\n",
      "1 < 2 < 3 = true\n",
      "[1 2] .< [2 1] = Bool[1 0]\n",
      "a = 5 = 5\n",
      "2a + 2 * (a + 1) = 22\n",
      "x = [1 2 3] = [1 2 3]\n",
      "y = [1, 2, 3] = [1, 2, 3]\n",
      "x .+ y = [2 3 4; 3 4 5; 4 5 6]\n",
      "x + y' = [2 4 6]\n",
      "x * y = [14]\n"
     ]
    }
   ],
   "source": [
    "@show true || false # binary or operator (singeltons only)\n",
    "@show 1 < 2 < 3     # condition chaining  is OK\n",
    "@show [1 2] .< [2 1] # vectorization via dot operator \".\"\n",
    "@show a = 5\n",
    "@show 2a + 2(a+1) # multiplication can be ommited\n",
    "@show x = [1 2 3]\t  #matrix 1×3 Array{Int64,2}\n",
    "@show y = [1, 2, 3]  #matrix 3-elements Array{Int64,1}\n",
    "# vectors are vecticar and are different concept than horizontal 1-row matrix\n",
    "#x + y # error\n",
    "@show x .+ y # 3x3 matrix, dimension broadcasting\n",
    "@show x + y' # 1x3 matrix\n",
    "@show x * y; # array multiplication, 1-element vector (not scalar)\n"
   ]
  },
  {
   "cell_type": "code",
   "execution_count": 166,
   "metadata": {},
   "outputs": [
    {
     "data": {
      "text/plain": [
       "f (generic function with 2 methods)"
      ]
     },
     "metadata": {},
     "output_type": "display_data"
    }
   ],
   "source": [
    "f(x,y) =  x<y ? x : y"
   ]
  },
  {
   "cell_type": "code",
   "execution_count": 167,
   "metadata": {},
   "outputs": [
    {
     "data": {
      "text/plain": [
       "10"
      ]
     },
     "metadata": {},
     "output_type": "display_data"
    }
   ],
   "source": [
    "f(10,30)"
   ]
  },
  {
   "cell_type": "code",
   "execution_count": 168,
   "metadata": {},
   "outputs": [
    {
     "data": {
      "text/plain": [
       "3-element Vector{Int64}:\n",
       " 0\n",
       " 5\n",
       " 6"
      ]
     },
     "metadata": {},
     "output_type": "display_data"
    }
   ],
   "source": [
    "a=  [1,2,3]\n",
    "b=  [0,5,6]"
   ]
  },
  {
   "cell_type": "code",
   "execution_count": 169,
   "metadata": {},
   "outputs": [
    {
     "data": {
      "text/plain": [
       "3-element Vector{Int64}:\n",
       " 0\n",
       " 2\n",
       " 3"
      ]
     },
     "metadata": {},
     "output_type": "display_data"
    }
   ],
   "source": [
    "f.(a,b)"
   ]
  },
  {
   "cell_type": "code",
   "execution_count": 170,
   "metadata": {},
   "outputs": [
    {
     "data": {
      "text/plain": [
       "3-element Vector{Int64}:\n",
       "  0\n",
       " 10\n",
       " 18"
      ]
     },
     "metadata": {},
     "output_type": "display_data"
    }
   ],
   "source": [
    "a .* b"
   ]
  },
  {
   "cell_type": "markdown",
   "metadata": {},
   "source": [
    "### Simple demo"
   ]
  },
  {
   "cell_type": "code",
   "execution_count": 12,
   "metadata": {},
   "outputs": [
    {
     "data": {
      "text/plain": [
       "calc_pi (generic function with 1 method)"
      ]
     },
     "execution_count": 12,
     "metadata": {},
     "output_type": "execute_result"
    }
   ],
   "source": [
    "function calc_pi(n, T)\n",
    "    # n is the number of replications\n",
    "    # T is the result type\n",
    "    s = one(T)\n",
    "    f = one(T)\n",
    "    for i::T in 1:n\n",
    "        f *= i/(2i+1)\n",
    "        s += f\n",
    "    end\n",
    "    2s\n",
    "end"
   ]
  },
  {
   "cell_type": "code",
   "execution_count": 13,
   "metadata": {},
   "outputs": [
    {
     "data": {
      "text/plain": [
       "Irrational{:π}"
      ]
     },
     "execution_count": 13,
     "metadata": {},
     "output_type": "execute_result"
    }
   ],
   "source": [
    "π\n",
    "typeof(π)"
   ]
  },
  {
   "cell_type": "code",
   "execution_count": 14,
   "metadata": {},
   "outputs": [
    {
     "data": {
      "text/plain": [
       "π = 3.1415926535897..."
      ]
     },
     "execution_count": 14,
     "metadata": {},
     "output_type": "execute_result"
    }
   ],
   "source": [
    "π"
   ]
  },
  {
   "cell_type": "code",
   "execution_count": 16,
   "metadata": {},
   "outputs": [
    {
     "data": {
      "text/plain": [
       "10-element Vector{BigFloat}:\n",
       " -0.2079989035897932384626433832795028841953\n",
       " -0.04393640358979323846264338327950288419529\n",
       " -0.002920778589793238462643383279502884195286\n",
       " -0.0009676535897932384626433832795028841952864\n",
       " -0.0009676535897932384626433832795028841952864\n",
       " -0.0009676535897932384626433832795028841952864\n",
       " -0.0009676535897932384626433832795028841952864\n",
       " -0.0009676535897932384626433832795028841952864\n",
       " -0.0009676535897932384626433832795028841952864\n",
       " -0.0009676535897932384626433832795028841952864"
      ]
     },
     "metadata": {},
     "output_type": "display_data"
    },
    {
     "data": {
      "text/plain": [
       "10-element Vector{BigFloat}:\n",
       " -0.2082593202564601123709413133087237632732\n",
       " -0.04317995517709517539637050332880069379612\n",
       " -0.002122972943642620687196138639994458005864\n",
       " -6.257552732991451957385031566516206699933e-06\n",
       " -7.004720171274999130895783071323069423495e-11\n",
       " -1.010643099614860550061510044659078695036e-15\n",
       " -1.010643099614860550061510044659078695036e-15\n",
       " -1.010643099614860550061510044659078695036e-15\n",
       " -1.010643099614860550061510044659078695036e-15\n",
       " -1.010643099614860550061510044659078695036e-15"
      ]
     },
     "metadata": {},
     "output_type": "display_data"
    },
    {
     "data": {
      "text/plain": [
       "10-element Vector{BigFloat}:\n",
       " -0.2082593202564599051293100499461695508588\n",
       " -0.04317995517709482576423068486680447150038\n",
       " -0.002122972943642004076114879103939885113761\n",
       " -6.257552731792070508295743788487263361139e-06\n",
       " -7.004625201779280778523170850117702545372e-11\n",
       " -1.176247251749589006092417763797343258237e-20\n",
       " -5.877471754111437539843682686111228389093e-38\n",
       " -5.877471754111437539843682686111228389093e-38\n",
       " -5.877471754111437539843682686111228389093e-38\n",
       " -5.877471754111437539843682686111228389093e-38"
      ]
     },
     "metadata": {},
     "output_type": "display_data"
    }
   ],
   "source": [
    "setprecision(128)\n",
    "for T in [Float16, Float64, BigFloat]\n",
    "    display([calc_pi(2^n, T) for n in 1:10] .- big(π))\n",
    "end"
   ]
  },
  {
   "cell_type": "code",
   "execution_count": 17,
   "metadata": {},
   "outputs": [
    {
     "data": {
      "text/plain": [
       "-5.877471754111437539843682686111228389093e-38"
      ]
     },
     "execution_count": 17,
     "metadata": {},
     "output_type": "execute_result"
    }
   ],
   "source": [
    "calc_pi(10000, BigFloat)- π\n"
   ]
  },
  {
   "cell_type": "code",
   "execution_count": 18,
   "metadata": {},
   "outputs": [
    {
     "data": {
      "text/plain": [
       "3.73305447401287551596035817889526867846836578548683209848685735918386764390310253781776130839152440943837995972129697049686195008541612957936608326881572302493764266455330060109598030394360732604440196318506045247296205005918373516322071308450166041524279351541770592447787925691464383688807065164177119e-301"
      ]
     },
     "execution_count": 18,
     "metadata": {},
     "output_type": "execute_result"
    }
   ],
   "source": [
    "setprecision(1000) do\n",
    "    calc_pi(1000, BigFloat)-π\n",
    "end"
   ]
  },
  {
   "cell_type": "code",
   "execution_count": 19,
   "metadata": {},
   "outputs": [
    {
     "name": "stdout",
     "output_type": "stream",
     "text": [
      "BigFloat(π) = 3.141592653589793238462643383279502884197169399375105820974944592307816406286208998628034825342117067982148086513282306647093844609550582231725359408128481117450284102701938521105559644622948954930381964428810975665933446128475648233786783165271201909145648566923460348610454326648213393607260249141273724587006606315588174881520920962829254091715364367892590360011330530548820466521384146951941511609433057270365759591953092186117381932611793105118548074462379962749567351885752724891227938183011949129833673362440656643086021394946395224737190702179860943702770539217176293176752384674818467669405131996\n"
     ]
    }
   ],
   "source": [
    "setprecision(2000) do\n",
    "    @show BigFloat(π)\n",
    "    end;"
   ]
  },
  {
   "cell_type": "code",
   "execution_count": 178,
   "metadata": {},
   "outputs": [
    {
     "data": {
      "text/plain": [
       "20-element Vector{Rational{Int64}}:\n",
       "                8//3\n",
       "               44//15\n",
       "               64//21\n",
       "              976//315\n",
       "            10816//3465\n",
       "           141088//45045\n",
       "            47104//15015\n",
       "          2404096//765765\n",
       "         45693952//14549535\n",
       "         45701632//14549535\n",
       "         80863232//25741485\n",
       "       5256312832//1673196525\n",
       "       3153846272//1003917915\n",
       "     457311809536//145568097675\n",
       "     833925152768//265447707525\n",
       "    4725585805312//1504203675975\n",
       "   14176771899392//4512611027925\n",
       "  524540820979712//166966608033225\n",
       "  104908189597696//33393321606645\n",
       " 4301236281540608//1369126185872445"
      ]
     },
     "metadata": {},
     "output_type": "display_data"
    }
   ],
   "source": [
    "[calc_pi(n, Rational) for n in 1:20]"
   ]
  },
  {
   "cell_type": "markdown",
   "metadata": {},
   "source": [
    "### Integration with other programming languages"
   ]
  },
  {
   "cell_type": "code",
   "execution_count": 179,
   "metadata": {},
   "outputs": [
    {
     "data": {
      "text/plain": [
       "PyObject <module 'numpy' from 'c:\\\\JuliaPkg\\\\Julia-1.10.0\\\\conda\\\\3\\\\x86_64\\\\lib\\\\site-packages\\\\numpy\\\\__init__.py'>"
      ]
     },
     "metadata": {},
     "output_type": "display_data"
    }
   ],
   "source": [
    "using PyCall\n",
    "np = pyimport(\"numpy\")\n"
   ]
  },
  {
   "cell_type": "code",
   "execution_count": 180,
   "metadata": {},
   "outputs": [
    {
     "data": {
      "text/plain": [
       "4×5 Matrix{Int32}:\n",
       " 0  0  0  0  0\n",
       " 0  0  0  0  0\n",
       " 0  0  0  0  0\n",
       " 0  0  0  0  0"
      ]
     },
     "metadata": {},
     "output_type": "display_data"
    }
   ],
   "source": [
    "a = np.zeros((4, 5), dtype=\"int32\")\n",
    "a"
   ]
  },
  {
   "cell_type": "code",
   "execution_count": 181,
   "metadata": {},
   "outputs": [
    {
     "data": {
      "text/plain": [
       "0.25"
      ]
     },
     "metadata": {},
     "output_type": "display_data"
    }
   ],
   "source": [
    "a[1,1]=5\n",
    "np.mean(a)"
   ]
  },
  {
   "cell_type": "code",
   "execution_count": 182,
   "metadata": {},
   "outputs": [
    {
     "data": {
      "text/plain": [
       "Dict{Any, Any} with 8 entries:\n",
       "  (3, 2) => 6\n",
       "  (1, 2) => 2\n",
       "  (3, 1) => 3\n",
       "  (1, 1) => 1\n",
       "  (4, 2) => 8\n",
       "  (4, 1) => 4\n",
       "  (2, 2) => 4\n",
       "  (2, 1) => 2"
      ]
     },
     "metadata": {},
     "output_type": "display_data"
    }
   ],
   "source": [
    "b = py\"{ (x,y):x*y for x in range(1,5) for y in range(1,3) }\"\n",
    "b"
   ]
  },
  {
   "cell_type": "code",
   "execution_count": 3,
   "metadata": {},
   "outputs": [
    {
     "data": {
      "text/html": [
       "<div><div style = \"float: left;\"><span>1000×2 DataFrame</span></div><div style = \"float: right;\"><span style = \"font-style: italic;\">975 rows omitted</span></div><div style = \"clear: both;\"></div></div><div class = \"data-frame\" style = \"overflow-x: scroll;\"><table class = \"data-frame\" style = \"margin-bottom: 6px;\"><thead><tr class = \"header\"><th class = \"rowNumber\" style = \"font-weight: bold; text-align: right;\">Row</th><th style = \"text-align: left;\">x1</th><th style = \"text-align: left;\">x2</th></tr><tr class = \"subheader headerLastRow\"><th class = \"rowNumber\" style = \"font-weight: bold; text-align: right;\"></th><th title = \"Float64\" style = \"text-align: left;\">Float64</th><th title = \"Float64\" style = \"text-align: left;\">Float64</th></tr></thead><tbody><tr><td class = \"rowNumber\" style = \"font-weight: bold; text-align: right;\">1</td><td style = \"text-align: right;\">-0.231909</td><td style = \"text-align: right;\">0.448078</td></tr><tr><td class = \"rowNumber\" style = \"font-weight: bold; text-align: right;\">2</td><td style = \"text-align: right;\">0.596762</td><td style = \"text-align: right;\">1.76901</td></tr><tr><td class = \"rowNumber\" style = \"font-weight: bold; text-align: right;\">3</td><td style = \"text-align: right;\">-0.0515618</td><td style = \"text-align: right;\">0.736696</td></tr><tr><td class = \"rowNumber\" style = \"font-weight: bold; text-align: right;\">4</td><td style = \"text-align: right;\">-1.69681</td><td style = \"text-align: right;\">-2.67231</td></tr><tr><td class = \"rowNumber\" style = \"font-weight: bold; text-align: right;\">5</td><td style = \"text-align: right;\">0.558366</td><td style = \"text-align: right;\">-0.153191</td></tr><tr><td class = \"rowNumber\" style = \"font-weight: bold; text-align: right;\">6</td><td style = \"text-align: right;\">-0.269885</td><td style = \"text-align: right;\">0.1799</td></tr><tr><td class = \"rowNumber\" style = \"font-weight: bold; text-align: right;\">7</td><td style = \"text-align: right;\">1.16034</td><td style = \"text-align: right;\">1.06068</td></tr><tr><td class = \"rowNumber\" style = \"font-weight: bold; text-align: right;\">8</td><td style = \"text-align: right;\">-0.441193</td><td style = \"text-align: right;\">-0.241881</td></tr><tr><td class = \"rowNumber\" style = \"font-weight: bold; text-align: right;\">9</td><td style = \"text-align: right;\">0.165543</td><td style = \"text-align: right;\">-0.584969</td></tr><tr><td class = \"rowNumber\" style = \"font-weight: bold; text-align: right;\">10</td><td style = \"text-align: right;\">-1.26016</td><td style = \"text-align: right;\">-0.815212</td></tr><tr><td class = \"rowNumber\" style = \"font-weight: bold; text-align: right;\">11</td><td style = \"text-align: right;\">-1.07458</td><td style = \"text-align: right;\">-1.72002</td></tr><tr><td class = \"rowNumber\" style = \"font-weight: bold; text-align: right;\">12</td><td style = \"text-align: right;\">0.951853</td><td style = \"text-align: right;\">0.520557</td></tr><tr><td class = \"rowNumber\" style = \"font-weight: bold; text-align: right;\">13</td><td style = \"text-align: right;\">0.328946</td><td style = \"text-align: right;\">-0.0813629</td></tr><tr><td style = \"text-align: right;\">&vellip;</td><td style = \"text-align: right;\">&vellip;</td><td style = \"text-align: right;\">&vellip;</td></tr><tr><td class = \"rowNumber\" style = \"font-weight: bold; text-align: right;\">989</td><td style = \"text-align: right;\">-0.537464</td><td style = \"text-align: right;\">-0.0505828</td></tr><tr><td class = \"rowNumber\" style = \"font-weight: bold; text-align: right;\">990</td><td style = \"text-align: right;\">-0.306316</td><td style = \"text-align: right;\">-0.0308315</td></tr><tr><td class = \"rowNumber\" style = \"font-weight: bold; text-align: right;\">991</td><td style = \"text-align: right;\">-0.337148</td><td style = \"text-align: right;\">-0.390299</td></tr><tr><td class = \"rowNumber\" style = \"font-weight: bold; text-align: right;\">992</td><td style = \"text-align: right;\">1.98739</td><td style = \"text-align: right;\">2.61143</td></tr><tr><td class = \"rowNumber\" style = \"font-weight: bold; text-align: right;\">993</td><td style = \"text-align: right;\">-0.246212</td><td style = \"text-align: right;\">0.083401</td></tr><tr><td class = \"rowNumber\" style = \"font-weight: bold; text-align: right;\">994</td><td style = \"text-align: right;\">0.0366005</td><td style = \"text-align: right;\">0.266695</td></tr><tr><td class = \"rowNumber\" style = \"font-weight: bold; text-align: right;\">995</td><td style = \"text-align: right;\">-1.29684</td><td style = \"text-align: right;\">-0.420821</td></tr><tr><td class = \"rowNumber\" style = \"font-weight: bold; text-align: right;\">996</td><td style = \"text-align: right;\">1.47159</td><td style = \"text-align: right;\">-0.137045</td></tr><tr><td class = \"rowNumber\" style = \"font-weight: bold; text-align: right;\">997</td><td style = \"text-align: right;\">-0.16669</td><td style = \"text-align: right;\">0.424618</td></tr><tr><td class = \"rowNumber\" style = \"font-weight: bold; text-align: right;\">998</td><td style = \"text-align: right;\">1.71342</td><td style = \"text-align: right;\">1.2738</td></tr><tr><td class = \"rowNumber\" style = \"font-weight: bold; text-align: right;\">999</td><td style = \"text-align: right;\">-0.765958</td><td style = \"text-align: right;\">-0.578203</td></tr><tr><td class = \"rowNumber\" style = \"font-weight: bold; text-align: right;\">1000</td><td style = \"text-align: right;\">2.28054</td><td style = \"text-align: right;\">1.10143</td></tr></tbody></table></div>"
      ],
      "text/latex": [
       "\\begin{tabular}{r|cc}\n",
       "\t& x1 & x2\\\\\n",
       "\t\\hline\n",
       "\t& Float64 & Float64\\\\\n",
       "\t\\hline\n",
       "\t1 & -0.231909 & 0.448078 \\\\\n",
       "\t2 & 0.596762 & 1.76901 \\\\\n",
       "\t3 & -0.0515618 & 0.736696 \\\\\n",
       "\t4 & -1.69681 & -2.67231 \\\\\n",
       "\t5 & 0.558366 & -0.153191 \\\\\n",
       "\t6 & -0.269885 & 0.1799 \\\\\n",
       "\t7 & 1.16034 & 1.06068 \\\\\n",
       "\t8 & -0.441193 & -0.241881 \\\\\n",
       "\t9 & 0.165543 & -0.584969 \\\\\n",
       "\t10 & -1.26016 & -0.815212 \\\\\n",
       "\t11 & -1.07458 & -1.72002 \\\\\n",
       "\t12 & 0.951853 & 0.520557 \\\\\n",
       "\t13 & 0.328946 & -0.0813629 \\\\\n",
       "\t14 & 0.22277 & -0.931736 \\\\\n",
       "\t15 & 1.92524 & 0.750427 \\\\\n",
       "\t16 & 1.72102 & 0.847256 \\\\\n",
       "\t17 & 0.257972 & 0.618079 \\\\\n",
       "\t18 & -0.280152 & -0.19613 \\\\\n",
       "\t19 & -1.03025 & -0.470439 \\\\\n",
       "\t20 & 0.281846 & 0.506497 \\\\\n",
       "\t21 & -0.516791 & -1.41827 \\\\\n",
       "\t22 & -0.963945 & 0.11009 \\\\\n",
       "\t23 & -1.37328 & -1.20509 \\\\\n",
       "\t24 & 1.24569 & 0.76549 \\\\\n",
       "\t25 & 1.32343 & 0.92613 \\\\\n",
       "\t26 & 1.86106 & 1.54805 \\\\\n",
       "\t27 & -1.6345 & -0.687108 \\\\\n",
       "\t28 & 0.0719542 & 0.142909 \\\\\n",
       "\t29 & -0.895554 & -0.169694 \\\\\n",
       "\t30 & 0.860579 & 0.286637 \\\\\n",
       "\t$\\dots$ & $\\dots$ & $\\dots$ \\\\\n",
       "\\end{tabular}\n"
      ],
      "text/plain": [
       "\u001b[1m1000×2 DataFrame\u001b[0m\n",
       "\u001b[1m  Row \u001b[0m│\u001b[1m x1         \u001b[0m\u001b[1m x2         \u001b[0m\n",
       "      │\u001b[90m Float64    \u001b[0m\u001b[90m Float64    \u001b[0m\n",
       "──────┼────────────────────────\n",
       "    1 │ -0.231909    0.448078\n",
       "    2 │  0.596762    1.76901\n",
       "    3 │ -0.0515618   0.736696\n",
       "    4 │ -1.69681    -2.67231\n",
       "    5 │  0.558366   -0.153191\n",
       "    6 │ -0.269885    0.1799\n",
       "    7 │  1.16034     1.06068\n",
       "    8 │ -0.441193   -0.241881\n",
       "    9 │  0.165543   -0.584969\n",
       "   10 │ -1.26016    -0.815212\n",
       "   11 │ -1.07458    -1.72002\n",
       "  ⋮   │     ⋮           ⋮\n",
       "  991 │ -0.337148   -0.390299\n",
       "  992 │  1.98739     2.61143\n",
       "  993 │ -0.246212    0.083401\n",
       "  994 │  0.0366005   0.266695\n",
       "  995 │ -1.29684    -0.420821\n",
       "  996 │  1.47159    -0.137045\n",
       "  997 │ -0.16669     0.424618\n",
       "  998 │  1.71342     1.2738\n",
       "  999 │ -0.765958   -0.578203\n",
       " 1000 │  2.28054     1.10143\n",
       "\u001b[36m               979 rows omitted\u001b[0m"
      ]
     },
     "execution_count": 3,
     "metadata": {},
     "output_type": "execute_result"
    }
   ],
   "source": [
    "using Distributions, DataFrames, Random\n",
    "Random.seed!(0);\n",
    "dat = permutedims(rand(MvNormal([1 0.75; 0.75 1]), 1000))\n",
    "df = DataFrame(dat, :auto)\n"
   ]
  },
  {
   "cell_type": "markdown",
   "metadata": {},
   "source": [
    "You need to have RCall for this demo together with R present in the operating system, hence this will be shown by the instructor only. \n",
    "However you could try installing it yourself:\n",
    "```\n",
    "using Pkg\n",
    "pkg\"add RCall\"\n",
    "```"
   ]
  },
  {
   "cell_type": "code",
   "execution_count": 4,
   "metadata": {},
   "outputs": [],
   "source": [
    "using RCall"
   ]
  },
  {
   "cell_type": "code",
   "execution_count": 8,
   "metadata": {},
   "outputs": [
    {
     "data": {
      "image/png": "[encoded data removed]"
     },
     "metadata": {},
     "output_type": "display_data"
    },
    {
     "data": {
      "text/plain": [
       "RObject{VecSxp}\n"
      ]
     },
     "metadata": {},
     "output_type": "display_data"
    }
   ],
   "source": [
    "# note this might not work in Visual Studio Code - use a plain Jupyter Notebook\n",
    "@rlibrary ggplot2\n",
    "display(ggplot(df,aes(x=:x1,y=:x2)) + geom_point())"
   ]
  },
  {
   "cell_type": "code",
   "execution_count": 9,
   "metadata": {},
   "outputs": [
    {
     "data": {
      "image/png": "[encoded data removed]"
     },
     "metadata": {},
     "output_type": "display_data"
    },
    {
     "data": {
      "text/plain": [
       "RObject{VecSxp}\n"
      ]
     },
     "execution_count": 9,
     "metadata": {},
     "output_type": "execute_result"
    }
   ],
   "source": [
    "# note this might not work in Visual Studio Code - use a plain Jupyter Notebook\n",
    "R\"library(ggplot2)\"\n",
    "R\"ggplot($df,aes(x=x1,y=x2)) + geom_point()\"\n"
   ]
  },
  {
   "cell_type": "markdown",
   "metadata": {},
   "source": [
    "*Preparation of this workshop has been supported by the Polish National Agency for Academic Exchange under the Strategic Partnerships programme, grant number BPI/PST/2021/1/00069/U/00001.*\n",
    "\n",
    "![SGH & NAWA](logo.png)"
   ]
  }
 ],
 "metadata": {
  "kernelspec": {
   "display_name": "Julia 1.10.0",
   "language": "julia",
   "name": "julia-1.10"
  },
  "language_info": {
   "file_extension": ".jl",
   "mimetype": "application/julia",
   "name": "julia",
   "version": "1.10.0"
  }
 },
 "nbformat": 4,
 "nbformat_minor": 4
}
