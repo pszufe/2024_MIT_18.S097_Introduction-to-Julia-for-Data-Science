{
 "cells": [
  {
   "cell_type": "markdown",
   "id": "79770229",
   "metadata": {},
   "source": [
    "# Scaling Computations using Parallel Computing\n",
    "\n",
    "### By Julian Samaroo and Przemyslaw Szufel"
   ]
  },
  {
   "cell_type": "code",
   "execution_count": 1,
   "metadata": {},
   "outputs": [],
   "source": [
    "# Add some workers with threads\n",
    "using Distributed; addprocs(2; exeflags=[\"--project=$(joinpath(pwd(), \"..\"))\", \"--threads=2\"])\n",
    "@everywhere using Dagger\n",
    "@everywhere using BenchmarkTools"
   ]
  },
  {
   "cell_type": "markdown",
   "id": "3008a86e-317e-4b79-ae76-50d6b8b34082",
   "metadata": {},
   "source": [
    "I'll make a brazen assertion: Everyone wants their code to go fast, and everyone would love if their code could work on any kind of hardware efficiently: multiple CPUs, multiple servers, GPUs, other accelerators, etc. You can just imagine running your code and suddenly all your hardware spins up, doing your bidding at full tilt.\n",
    "\n",
    "Unfortunately, unless you're very knowledgeable about computer hardware, locking and atomics, latency hiding, distributed scheduling, GPU programming, etc., this is very difficult to accomplish by rolling your own solution."
   ]
  },
  {
   "cell_type": "markdown",
   "metadata": {},
   "source": [
    "# What is Dagger?\n",
    "\n",
    "![](https://github.com/JuliaParallel/Dagger.jl/raw/master/docs/logo.jpg)"
   ]
  },
  {
   "cell_type": "markdown",
   "metadata": {},
   "source": [
    "## Overview of Dagger.jl\n",
    "\n",
    "- Unified task interface for multithreading, distributed, and GPU programming\n",
    "- Distributed high-performance scheduler using machine learning\n",
    "- APIs for programming with arrays, tables, and graphs\n",
    "- Checkpointing and out-of-core enables solving large problems\n",
    "\n",
    "### What difficult problems does Dagger solve?\n",
    "\n",
    "- Cross-task dependency management\n",
    "- Abstracting computation across servers and threads\n",
    "- Dynamic workload balancing of heterogeneous tasks\n",
    "- Automating data transfer while hiding latency\n",
    "- Automatic GPU utilization and data conversion"
   ]
  },
  {
   "cell_type": "markdown",
   "metadata": {},
   "source": [
    "## How to program with tasks\n",
    "\n",
    "In Dagger, all tasks take any number of arguments, a function to call with those arguments, and produce a result:"
   ]
  },
  {
   "cell_type": "code",
   "execution_count": 2,
   "metadata": {},
   "outputs": [
    {
     "name": "stdout",
     "output_type": "stream",
     "text": [
      "t = EagerThunk (running)\n"
     ]
    },
    {
     "data": {
      "text/plain": [
       "3"
      ]
     },
     "metadata": {},
     "output_type": "display_data"
    }
   ],
   "source": [
    "t = Dagger.@spawn 1+2\n",
    "@show t\n",
    "fetch(t)"
   ]
  },
  {
   "cell_type": "markdown",
   "metadata": {},
   "source": [
    "That `Dagger.@spawn` operation (a Julia macro) wraps the `+` function and the arguments `1` and `2` in a Dagger task, and executes it asynchronously.  (You'll notice that it's an `EagerThunk` object - but you really don't need to worry about the weird name, just know that it means \"Dagger task\").\n",
    "\n",
    "Another thing to notice is that just like other \"async/await\"-style implementations, we need to call the `fetch` function to wait for the task to finish and get its result. If you don't call `fetch`, that's ok - it'll still run in the background, and you can `fetch` it whenever you're ready to see the result.\n",
    "\n",
    "Like you might expect when working with functions, one task can use the result of another task as its input:"
   ]
  },
  {
   "cell_type": "code",
   "execution_count": 3,
   "metadata": {},
   "outputs": [
    {
     "data": {
      "text/plain": [
       "6"
      ]
     },
     "metadata": {},
     "output_type": "display_data"
    }
   ],
   "source": [
    "a = Dagger.@spawn 1+2\n",
    "fetch(Dagger.@spawn 2*a)"
   ]
  },
  {
   "cell_type": "markdown",
   "metadata": {},
   "source": [
    "Dagger will always execute your tasks in the order specified by its arguments (in the form of a \"Directed Acyclic Graph\", or \"DAG\", hence the name \"Dagger\"!)\n",
    "\n",
    "It's easy to construct your program from a bunch of inter-dependent tasks:"
   ]
  },
  {
   "cell_type": "code",
   "execution_count": 4,
   "id": "3ffdaf89",
   "metadata": {},
   "outputs": [
    {
     "data": {
      "text/plain": [
       "3.0"
      ]
     },
     "metadata": {},
     "output_type": "display_data"
    }
   ],
   "source": [
    "a = Dagger.@spawn 1 + 1\n",
    "b = Dagger.@spawn a * 2\n",
    "c = Dagger.@spawn a / 2\n",
    "d = Dagger.@spawn b - c\n",
    "fetch(d)"
   ]
  },
  {
   "cell_type": "markdown",
   "id": "69efcfc7",
   "metadata": {},
   "source": [
    "In the above code, Dagger can execute `b` and `c` in parallel, since they don't depend on each other:"
   ]
  },
  {
   "cell_type": "code",
   "execution_count": 5,
   "id": "e9b4603c",
   "metadata": {},
   "outputs": [],
   "source": [
    "# `a` ---> `b` --->\n",
    "#  |              |\n",
    "#  v              v\n",
    "#  ------> `c` ->`d`"
   ]
  },
  {
   "cell_type": "markdown",
   "id": "b60961bf",
   "metadata": {},
   "source": [
    "Conveniently, you don't have to tell Dagger to execute `b` and `c` in parallel - it's automatic! Dagger will automatically use all Julia threads to run computations, and will automatically balance each thread's workload to keep them busy. We'll show this in more depth momentarily.\n",
    "\n",
    "And it's not just multithreading, Dagger also supports distributed computing with multiprocessing. Let's use the workers that I sneakily added at the beginning of this notebook and prove that Dagger will use them:"
   ]
  },
  {
   "cell_type": "code",
   "execution_count": 6,
   "id": "06c73d39",
   "metadata": {},
   "outputs": [
    {
     "name": "stdout",
     "output_type": "stream",
     "text": [
      "Hello from worker 1\n"
     ]
    },
    {
     "name": "stdout",
     "output_type": "stream",
     "text": [
      "      From worker 2:\tHello from worker 2\n"
     ]
    },
    {
     "name": "stdout",
     "output_type": "stream",
     "text": [
      "      From worker 3:\tHello from worker 3\n"
     ]
    },
    {
     "name": "stdout",
     "output_type": "stream",
     "text": [
      "      From worker 3:\tHello from worker 3\n"
     ]
    }
   ],
   "source": [
    "# We use @everywhere here to make sure all workers know about our `who_am_i` function\n",
    "@everywhere function who_am_i()\n",
    "    id = Distributed.myid() # Which worker are we? Starts from 1\n",
    "    println(\"Hello from worker $id\")\n",
    "end\n",
    "\n",
    "wait(Dagger.@spawn scope=Dagger.scope(worker=1) who_am_i()); # This will definitely run locally (on worker 1)\n",
    "wait(Dagger.@spawn scope=Dagger.scope(worker=2) who_am_i()); # This will definitely run on worker 2\n",
    "wait(Dagger.@spawn scope=Dagger.scope(worker=3) who_am_i()); # This will definitely run on worker 3\n",
    "wait(Dagger.@spawn who_am_i()); # This might run locally or on any worker; try re-running this!"
   ]
  },
  {
   "cell_type": "markdown",
   "id": "f91b9bc2",
   "metadata": {},
   "source": [
    "So wait, why did we need the `scope=...` thing to make sure that Dagger runs our code on workers 2 and 3? Unlike other libraries, Dagger can run your code on worker and any thread, whenever it wants! `scope=...` forces Dagger to constrain itself to executing your code only where you request.\n",
    "\n",
    "Hold up, isn't this a source of madness? How can I ever write reliable code with Dagger? Do I just need to litter `scope=...` everywhere? How is this any better than Julia's `remotecall_fetch`, `@spawnat`, and friends, which are slightly less verbose?\n",
    "\n",
    "Dagger takes a different approach to high performance computing: instead of architecting your code around a specific workload/data distribution (which takes expertise to implement and maintain, and adds a lot of complexity to otherwise simple code), Dagger gives you the freedom to write code which is free from hardware-specific minutia.\n",
    "\n",
    "Instead of needing to decide where to run your code, and then needing to also make sure your data gets there first, Dagger just asks you for three things: your functions, their arguments, and how they depend on each other. Dagger's scheduler handles the rest - it moves data around, schedules your functions to run close to that data, and balances execution of your functions so that they exploit all the computing resources you have available.\n",
    "\n",
    "Forget learning about multithreading, atomics, parallel data movement, even GPU computing - this is the future! Just write your code, and let Dagger handle those pesky details for you.\n",
    "\n",
    "Let's extend our `who_am_i` function to see how Dagger really shines:"
   ]
  },
  {
   "cell_type": "code",
   "execution_count": 7,
   "id": "f279341c",
   "metadata": {},
   "outputs": [
    {
     "name": "stdout",
     "output_type": "stream",
     "text": [
      "      From worker 2:\tHello from worker 2's thread 1\n",
      "      From worker 3:\tHello from worker 3's thread 1\n",
      "Hello from worker 1's thread 2\n",
      "Hello from worker 1's thread 1\n",
      "Hello from worker 1's thread 1\n",
      "Hello from worker 1's thread 2\n",
      "Hello from worker 1's thread 1\n",
      "Hello from worker 1's thread 2\n",
      "      From worker 3:\tHello from worker 3's thread 2\n",
      "      From worker 3:\tHello from worker 3's thread 1\n",
      "      From worker 2:\tHello from worker 2's thread 2\n",
      "      From worker 2:\tHello from worker 2's thread 1\n",
      "      From worker 2:\tHello from worker 2's thread 2\n",
      "      From worker 2:\tHello from worker 2's thread 1\n",
      "      From worker 3:\tHello from worker 3's thread 1\n",
      "      From worker 2:\tHello from worker 2's thread 1\n",
      "      From worker 2:\tHello from worker 2's thread 2\n",
      "      From worker 3:\tHello from worker 3's thread 2\n",
      "      From worker 3:\tHello from worker 3's thread 1\n",
      "      From worker 3:\tHello from worker 3's thread 1\n"
     ]
    }
   ],
   "source": [
    "# We use @everywhere here to make sure all workers know about our `who_am_i_extended` function\n",
    "@everywhere function who_am_i_extended()\n",
    "    id = Distributed.myid()\n",
    "    tid = Threads.threadid()\n",
    "    println(\"Hello from worker $id's thread $tid\")\n",
    "end\n",
    "\n",
    "wait.([Dagger.@spawn who_am_i_extended() for i in 1:20]); # These can each run on any worker and any thread"
   ]
  },
  {
   "cell_type": "markdown",
   "id": "f1cd389f",
   "metadata": {},
   "source": [
    "Congratualations, you are now a high-performance computing practitioner! You've just parallelized the execution of a bunch of functions without doing much of anything, which is something that would be quite difficult to accomplish with other libraries.\n",
    "\n",
    "Of course, this example is quite simple and doesn't do much. Let's show off Dagger's performance with a problem which does some heavy computations:"
   ]
  },
  {
   "cell_type": "code",
   "execution_count": 8,
   "id": "e373f3e4",
   "metadata": {},
   "outputs": [],
   "source": [
    "# A function which does something expensive with arrays\n",
    "@everywhere function some_function(i, arrs...)\n",
    "    @nospecialize arrs\n",
    "    total = 0.0\n",
    "    for arr in arrs\n",
    "        total += i * sum(inv(arr))\n",
    "    end\n",
    "    return rand(0.0:abs(total), 100, 100)\n",
    "end\n",
    "\n",
    "# A function which generates a large DAG of expensive computations\n",
    "function create_dag(f, Ns...; use_dagger=false)\n",
    "    last_nodes = []\n",
    "    current_nodes = []\n",
    "    \n",
    "    push!(last_nodes, rand(100, 100))\n",
    "\n",
    "    for N in Ns\n",
    "        println(\"Generating $N nodes\")\n",
    "        for i in 1:N\n",
    "            if use_dagger\n",
    "                push!(current_nodes, Dagger.@spawn f(i, last_nodes...))\n",
    "            else\n",
    "                push!(current_nodes, f(i, last_nodes...))\n",
    "            end\n",
    "        end\n",
    "        empty!(last_nodes)\n",
    "        append!(last_nodes, current_nodes)\n",
    "        empty!(current_nodes)\n",
    "    end\n",
    "    \n",
    "    return fetch.(last_nodes)\n",
    "end\n",
    "\n",
    "# Disable BLAS multithreading - while BLAS multithreading is very efficient,\n",
    "# many workloads do not automatically parallelize themselves :)\n",
    "using LinearAlgebra; BLAS.set_num_threads(1)"
   ]
  },
  {
   "cell_type": "code",
   "execution_count": 9,
   "id": "0a917c6e",
   "metadata": {},
   "outputs": [
    {
     "name": "stdout",
     "output_type": "stream",
     "text": [
      "Generating 100 nodes\n"
     ]
    },
    {
     "name": "stdout",
     "output_type": "stream",
     "text": [
      "Generating 50 nodes\n"
     ]
    },
    {
     "name": "stdout",
     "output_type": "stream",
     "text": [
      "  1.503183 seconds (596.34 k allocations: 692.465 MiB, 1.88% gc time, 28.31% compilation time)\n"
     ]
    }
   ],
   "source": [
    "# Let's try just running this code in serial:\n",
    "@time create_dag(some_function, 100, 50; use_dagger=false);"
   ]
  },
  {
   "cell_type": "code",
   "execution_count": 10,
   "id": "4910960e",
   "metadata": {
    "scrolled": true
   },
   "outputs": [
    {
     "name": "stdout",
     "output_type": "stream",
     "text": [
      "Generating 100 nodes\n"
     ]
    },
    {
     "name": "stdout",
     "output_type": "stream",
     "text": [
      "Generating 50 nodes\n"
     ]
    },
    {
     "name": "stdout",
     "output_type": "stream",
     "text": [
      "  3.077079 seconds (1.57 M allocations: 319.618 MiB, 7.25% gc time, 60.92% compilation time)\n"
     ]
    }
   ],
   "source": [
    "# Let's go faster with Dagger:\n",
    "@time create_dag(some_function, 100, 50; use_dagger=true);"
   ]
  },
  {
   "cell_type": "markdown",
   "id": "68989732",
   "metadata": {},
   "source": [
    "Of course, Dagger's performance is dependent on the problem. In the above case, we don't get linear scaling because linear algebra operations are so homogeneous (thus bottlenecking within the CPU processor) and use so much memory (thus bottlenecking the CPU caches)."
   ]
  },
  {
   "cell_type": "markdown",
   "id": "8d121319",
   "metadata": {},
   "source": [
    "Ok, now let's take a look at a problem which, while being still homoegeneous in nature, utilizes less memory per function:"
   ]
  },
  {
   "cell_type": "code",
   "execution_count": 11,
   "id": "2cf86dc6",
   "metadata": {},
   "outputs": [],
   "source": [
    "using Random, Statistics\n",
    "\n",
    "# This function allocates a lot of memory, but doesn't need to transfer it\n",
    "@everywhere function delay(job_size)\n",
    "    z = Vector{Float64}(undef, 1_000_000)\n",
    "    sum(std(rand!(z)) for i in 1:round(Int, 660*job_size))\n",
    "end"
   ]
  },
  {
   "cell_type": "code",
   "execution_count": 12,
   "id": "d5047c00",
   "metadata": {},
   "outputs": [
    {
     "name": "stdout",
     "output_type": "stream",
     "text": [
      " 10.510233 seconds (225.56 k allocations: 129.867 MiB, 1.00% gc time, 1.51% compilation time)\n"
     ]
    }
   ],
   "source": [
    "# Calling it like this generates one long-running task, and a bunch of shorter-running tasks\n",
    "@time [delay(i <= 1 ? 1.5 + i : round((i % 3)/5 .+ 0.1; digits=2)) for i in 1:15];"
   ]
  },
  {
   "cell_type": "code",
   "execution_count": 13,
   "id": "252641d2",
   "metadata": {},
   "outputs": [
    {
     "name": "stdout",
     "output_type": "stream",
     "text": [
      "  2.802479 seconds (1.03 M allocations: 110.260 MiB, 0.54% gc time, 50.10% compilation time)\n"
     ]
    }
   ],
   "source": [
    "# Let's watch Dagger smash this problem:\n",
    "@time wait.([(Dagger.@spawn delay(i <= 1 ? 1.5 + i : round((i % 3)/5 .+ 0.1; digits=2))) for i in 1:15]);"
   ]
  },
  {
   "attachments": {
    "image.png": {
     "image/png": "[encoded data removed]"
    }
   },
   "cell_type": "markdown",
   "id": "99d966b0",
   "metadata": {},
   "source": [
    "This amazing performance looks like:\n",
    "\n",
    "![image.png](attachment:image.png)"
   ]
  },
  {
   "cell_type": "markdown",
   "metadata": {},
   "source": [
    "## Data Movement\n",
    "\n",
    "Tasks can run anywhere, which also means that their data must move with them. Dagger automatically moves data from where it is, to where it needs to be, as necessary:"
   ]
  },
  {
   "cell_type": "code",
   "execution_count": 14,
   "metadata": {},
   "outputs": [
    {
     "data": {
      "text/plain": [
       "time_data_xfer (generic function with 1 method)"
      ]
     },
     "metadata": {},
     "output_type": "display_data"
    }
   ],
   "source": [
    "function time_data_xfer()\n",
    "\t# Make some data on worker 2\n",
    "\tA = Dagger.with_options(scope=Dagger.scope(worker=2)) do\n",
    "\t\tDagger.@spawn rand(10240,1024)\n",
    "\tend\n",
    "\twait(A)\n",
    "\n",
    "\t# Use the data on the same worker\n",
    "\tt_local = @timed(Dagger.with_options(scope=Dagger.scope(worker=2)) do\n",
    "\t\tfetch(Dagger.@spawn sum(A))\n",
    "\tend).time\n",
    "\n",
    "\t# Use the data on a different worker\n",
    "\tt_remote = @timed(Dagger.with_options(scope=Dagger.scope(worker=3)) do\n",
    "\t\tfetch(Dagger.@spawn sum(A))\n",
    "\tend).time\n",
    "\treturn t_remote / t_local\n",
    "end"
   ]
  },
  {
   "cell_type": "code",
   "execution_count": 15,
   "metadata": {},
   "outputs": [
    {
     "name": "stdout",
     "output_type": "stream",
     "text": [
      "Speedup when data isn't moved around:\n"
     ]
    },
    {
     "data": {
      "text/plain": [
       "1.076997621309409"
      ]
     },
     "metadata": {},
     "output_type": "display_data"
    }
   ],
   "source": [
    "println(\"Speedup when data isn't moved around:\")\n",
    "time_data_xfer()"
   ]
  },
  {
   "cell_type": "markdown",
   "metadata": {},
   "source": [
    "Of course, it would be quite silly for Dagger to always move data around when that data gets really big - sometimes it's better for the data not to move at all. Thankfully, Dagger knows this, and will schedule tasks such that if it truly is faster to execute a task where the data is, it will do so. We can see this pretty reliably with a simple example:"
   ]
  },
  {
   "cell_type": "code",
   "execution_count": 16,
   "metadata": {},
   "outputs": [
    {
     "data": {
      "text/plain": [
       "time_data_xfer_no_move (generic function with 1 method)"
      ]
     },
     "metadata": {},
     "output_type": "display_data"
    }
   ],
   "source": [
    "@everywhere function where_am_i_data(arr, name)\n",
    "\tprintln(\"Accessing $name (sum $(sum(arr)))\")\n",
    "end\n",
    "function time_data_xfer_no_move()\n",
    "\t# Make some data on worker 2\n",
    "\tA = Dagger.with_options(scope=Dagger.scope(worker=2)) do\n",
    "\t\tDagger.@spawn rand(1024,1024)\n",
    "\tend\n",
    "\t# Make some data on worker 3\n",
    "\tB = Dagger.with_options(scope=Dagger.scope(worker=3)) do\n",
    "\t\tDagger.@spawn rand(1024,1024)\n",
    "\tend\n",
    "\twait(A)\n",
    "\twait(B)\n",
    "\n",
    "\t# Let Dagger choose where to execute\n",
    "\tfor i in 1:5\n",
    "\t\twait(Dagger.@spawn where_am_i_data(A, :A))\n",
    "\tend\n",
    "\tfor i in 1:5\n",
    "\t\twait(Dagger.@spawn where_am_i_data(B, :B))\n",
    "\tend\n",
    "end"
   ]
  },
  {
   "cell_type": "code",
   "execution_count": 17,
   "metadata": {},
   "outputs": [
    {
     "name": "stdout",
     "output_type": "stream",
     "text": [
      "      From worker 2:\tAccessing A (sum 524055.5343318614)\n"
     ]
    },
    {
     "name": "stdout",
     "output_type": "stream",
     "text": [
      "      From worker 2:\tAccessing A (sum 524055.5343318614)\n",
      "      From worker 2:\tAccessing A (sum 524055.5343318614)\n",
      "      From worker 2:\tAccessing A (sum 524055.5343318614)\n",
      "      From worker 2:\tAccessing A (sum 524055.5343318614)\n"
     ]
    },
    {
     "name": "stdout",
     "output_type": "stream",
     "text": [
      "      From worker 3:\tAccessing B (sum 524560.1945853664)\n",
      "      From worker 3:\tAccessing B (sum 524560.1945853664)\n",
      "      From worker 3:\tAccessing B (sum 524560.1945853664)\n",
      "      From worker 3:\tAccessing B (sum 524560.1945853664)\n",
      "      From worker 3:\tAccessing B (sum 524560.1945853664)\n"
     ]
    }
   ],
   "source": [
    "time_data_xfer_no_move()"
   ]
  },
  {
   "cell_type": "markdown",
   "metadata": {},
   "source": [
    "We can see that Dagger's scheduler (the logic that chooses where tasks should execute) has decided to schedule tasks on the same worker that holds the data that they're accessing. This is the optimal choice to make, but it's also pretty obvious.\n",
    "\n",
    "What happens if Dagger has conflicting priorities (say, a task accesses data spread across multiple workers)? Let's check:"
   ]
  },
  {
   "cell_type": "code",
   "execution_count": 18,
   "metadata": {},
   "outputs": [
    {
     "data": {
      "text/plain": [
       "time_data_xfer_maybe_move (generic function with 1 method)"
      ]
     },
     "metadata": {},
     "output_type": "display_data"
    }
   ],
   "source": [
    "@everywhere function where_am_i_data_split(a_arr, a_name, b_arr, b_name)\n",
    "\tprintln(\"Accessing $a_name (sum $(sum(a_arr))) and $b_name (sum $(sum(b_arr)))\")\n",
    "end\n",
    "function time_data_xfer_maybe_move()\n",
    "\t# Make some data on worker 2\n",
    "\tA = Dagger.with_options(scope=Dagger.scope(worker=2)) do\n",
    "\t\tDagger.@spawn rand(1024,1024)\n",
    "\tend\n",
    "\t# Make some data on worker 3\n",
    "\tB = Dagger.with_options(scope=Dagger.scope(worker=3)) do\n",
    "\t\tDagger.@spawn rand(1024,1024)\n",
    "\tend\n",
    "\twait(A)\n",
    "\twait(B)\n",
    "\n",
    "\t# Let Dagger choose where to execute\n",
    "\tfor i in 1:10\n",
    "\t\twait(Dagger.@spawn where_am_i_data_split(A, :A, B, :B))\n",
    "\tend\n",
    "end"
   ]
  },
  {
   "cell_type": "code",
   "execution_count": 19,
   "metadata": {},
   "outputs": [
    {
     "name": "stdout",
     "output_type": "stream",
     "text": [
      "      From worker 3:\tAccessing A (sum 524502.0286563789) and B (sum 524503.2006047677)\n"
     ]
    },
    {
     "name": "stdout",
     "output_type": "stream",
     "text": [
      "      From worker 3:\tAccessing A (sum 524502.0286563789) and B (sum 524503.2006047677)\n",
      "      From worker 3:\tAccessing A (sum 524502.0286563789) and B (sum 524503.2006047677)\n",
      "      From worker 3:\tAccessing A (sum 524502.0286563789) and B (sum 524503.2006047677)\n",
      "      From worker 3:\tAccessing A (sum 524502.0286563789) and B (sum 524503.2006047677)\n",
      "      From worker 3:\tAccessing A (sum 524502.0286563789) and B (sum 524503.2006047677)\n",
      "      From worker 2:\tAccessing A (sum 524502.0286563789) and B (sum 524503.2006047677)\n",
      "      From worker 2:\tAccessing A (sum 524502.0286563789) and B (sum 524503.2006047677)\n",
      "      From worker 2:\tAccessing A (sum 524502.0286563789) and B (sum 524503.2006047677)\n"
     ]
    },
    {
     "name": "stdout",
     "output_type": "stream",
     "text": [
      "      From worker 2:\tAccessing A (sum 524502.0286563789) and B (sum 524503.2006047677)\n"
     ]
    }
   ],
   "source": [
    "time_data_xfer_maybe_move()"
   ]
  },
  {
   "cell_type": "markdown",
   "metadata": {},
   "source": [
    "Interesting! Dagger chose to schedule these tasks almost evenly across workers 2 and 3. This makes sense, if you think about it - there's no benefit to picking worker 2 vs worker 3, so we might as well spread the work between them.\n",
    "\n",
    "This is the sort of stuff that feels obvious to us as humans, but is quite a lot of work to implement everytime you want to solve a parallel computing problem (especially considering that Julia's Distributed library doesn't do this for you). It can be invaluable to have a smart scheduler on your side when writing parallel code!\n",
    "\n",
    "Now that we've seen how Dagger's task system works, and the benefits it provides, let's take a look at the user-friendly APIs that build on top of it - arrays and tables."
   ]
  },
  {
   "cell_type": "markdown",
   "metadata": {},
   "source": [
    "## Array Programming with Dagger\n",
    "\n",
    "Arrays are super useful! Julia uses them all throughout its codebase, and nearly every Julia package uses them heavily. They are simple, storage-efficient, and have a huge range of available functionality. You can build anything with the right set of arrays and algorithms that use them.\n",
    "\n",
    "All of that said, parallel array operations is not really first-class in Julia - operations like `sum`, `reduce`, broadcasting, and much more, don't use multithreading at all, even if you have a bunch of CPUs and have started Julia with multiple threads. While this may eventually change in future versions of Julia, it will probably only happen for a handful of array operations at a time, and won't just magically apply to the operations that your code uses.\n",
    "\n",
    "Of course, Julia *does* have first-class multithreading support, so we can always roll our own multithreaded array operations:"
   ]
  },
  {
   "cell_type": "code",
   "execution_count": 20,
   "metadata": {},
   "outputs": [
    {
     "data": {
      "text/plain": [
       "mt_sum (generic function with 1 method)"
      ]
     },
     "metadata": {},
     "output_type": "display_data"
    }
   ],
   "source": [
    "function mt_sum(A::Array{T}) where T\n",
    "    nchunks = Threads.nthreads()\n",
    "    chunksize = cld(length(A), nchunks)\n",
    "    reds = zeros(T, nchunks)\n",
    "    @sync for (idx, chunk) in enumerate(Iterators.partition(A, chunksize))\n",
    "        Threads.@spawn begin\n",
    "            reds[idx] = sum(chunk)\n",
    "        end\n",
    "    end\n",
    "    return sum(reds)\n",
    "end"
   ]
  },
  {
   "cell_type": "code",
   "execution_count": 21,
   "metadata": {},
   "outputs": [
    {
     "name": "stdout",
     "output_type": "stream",
     "text": [
      "Single-threaded:\n"
     ]
    },
    {
     "name": "stdout",
     "output_type": "stream",
     "text": [
      "  43.957 ms (0 allocations: 0 bytes)\n",
      "Multi-threaded:\n"
     ]
    },
    {
     "name": "stdout",
     "output_type": "stream",
     "text": [
      "  31.067 ms (30 allocations: 2.22 KiB)\n"
     ]
    },
    {
     "data": {
      "text/plain": [
       "5.243345009842046e7"
      ]
     },
     "metadata": {},
     "output_type": "display_data"
    }
   ],
   "source": [
    "A = rand(10240, 10240)\n",
    "@assert sum(A) ≈ mt_sum(A)\n",
    "println(\"Single-threaded:\")\n",
    "@btime sum($A)\n",
    "println(\"Multi-threaded:\")\n",
    "@btime mt_sum($A)"
   ]
  },
  {
   "cell_type": "markdown",
   "metadata": {},
   "source": [
    "So it can definitely be done, but it requires some work, and you have to redo that work for every operation you want multithreaded.\n",
    "\n",
    "Also, the above code doesn't support distributed execution. If you want that, there's a different way to write the sum:"
   ]
  },
  {
   "cell_type": "code",
   "execution_count": 22,
   "metadata": {},
   "outputs": [
    {
     "data": {
      "text/plain": [
       "dist_sum (generic function with 1 method)"
      ]
     },
     "metadata": {},
     "output_type": "display_data"
    }
   ],
   "source": [
    "function dist_sum(A::Array{T}) where T\n",
    "    nchunks = nprocs()\n",
    "    chunksize = cld(length(A), nchunks)\n",
    "    return sum(pmap(sum, Iterators.partition(A, chunksize)))\n",
    "end"
   ]
  },
  {
   "cell_type": "code",
   "execution_count": 23,
   "metadata": {},
   "outputs": [
    {
     "name": "stdout",
     "output_type": "stream",
     "text": [
      "Single-worker:\n"
     ]
    },
    {
     "name": "stdout",
     "output_type": "stream",
     "text": [
      "  793.032 ns (0 allocations: 0 bytes)\n",
      "Multi-worker:\n"
     ]
    },
    {
     "name": "stdout",
     "output_type": "stream",
     "text": [
      "  215.460 μs (234 allocations: 275.62 KiB)\n"
     ]
    },
    {
     "data": {
      "text/plain": [
       "5108.65573377436"
      ]
     },
     "metadata": {},
     "output_type": "display_data"
    }
   ],
   "source": [
    "A = rand(10240)\n",
    "@assert sum(A) ≈ dist_sum(A)\n",
    "println(\"Single-worker:\")\n",
    "@btime sum($A)\n",
    "println(\"Multi-worker:\")\n",
    "@btime dist_sum($A)"
   ]
  },
  {
   "cell_type": "markdown",
   "metadata": {},
   "source": [
    "Not bad, but it blows up if we use really big arrays, and it would be nice if we could use both multithreading and distributed. Let's try rolling our own by combining the two above implementations:"
   ]
  },
  {
   "cell_type": "code",
   "execution_count": 24,
   "metadata": {},
   "outputs": [
    {
     "data": {
      "text/plain": [
       "mt_dist_sum (generic function with 1 method)"
      ]
     },
     "metadata": {},
     "output_type": "display_data"
    }
   ],
   "source": [
    "# We need to support slices of arrays, so redefine this for AbstractArray\n",
    "@everywhere function mt_sum(A::AbstractArray{T}) where T\n",
    "    nchunks = Threads.nthreads()\n",
    "    chunksize = cld(length(A), nchunks)\n",
    "    reds = zeros(T, nchunks)\n",
    "    @sync for (idx, chunk) in enumerate(Iterators.partition(A, chunksize))\n",
    "        Threads.@spawn begin\n",
    "            reds[idx] = sum(chunk)\n",
    "        end\n",
    "    end\n",
    "    return sum(reds)\n",
    "end\n",
    "function mt_dist_sum(A::Array{T}) where T\n",
    "    nchunks = nprocs()\n",
    "    chunksize = cld(length(A), nchunks)\n",
    "    return sum(pmap(mt_sum, Iterators.partition(A, chunksize)))\n",
    "end"
   ]
  },
  {
   "cell_type": "code",
   "execution_count": 25,
   "metadata": {},
   "outputs": [
    {
     "name": "stdout",
     "output_type": "stream",
     "text": [
      "Single-worker, single-threaded:\n"
     ]
    },
    {
     "name": "stdout",
     "output_type": "stream",
     "text": [
      "  39.764 ms (0 allocations: 0 bytes)\n",
      "Multi-worker, multi-threaded:\n"
     ]
    },
    {
     "name": "stdout",
     "output_type": "stream",
     "text": [
      "  531.157 ms (249 allocations: 800.01 MiB)\n"
     ]
    },
    {
     "data": {
      "text/plain": [
       "5.242705427442513e7"
      ]
     },
     "metadata": {},
     "output_type": "display_data"
    }
   ],
   "source": [
    "A = rand(10240, 10240)\n",
    "@assert sum(A) ≈ mt_dist_sum(A)\n",
    "println(\"Single-worker, single-threaded:\")\n",
    "@btime sum($A)\n",
    "println(\"Multi-worker, multi-threaded:\")\n",
    "@btime mt_dist_sum($A)"
   ]
  },
  {
   "cell_type": "markdown",
   "metadata": {},
   "source": [
    "Ok, it's workable, but there's something that's rather annoying about this implementation - we need to allocate the array on one worker, then send portions of it to all the other workers, only to copy the results back to the original worker. What if we could construct the chunks of the array on the other workers to start with, and then just let the workers compute their local sums?\n",
    "\n",
    "Enter the `DArray`:"
   ]
  },
  {
   "cell_type": "code",
   "execution_count": 26,
   "metadata": {},
   "outputs": [
    {
     "name": "stdout",
     "output_type": "stream",
     "text": [
      "  204.933 ms (129198 allocations: 14.82 MiB)\n"
     ]
    }
   ],
   "source": [
    "# Create a random distributed array with chunks of size 1024 x 1024\n",
    "DA = fetch(rand(Blocks(1024, 1024), 10240, 10240))\n",
    "\n",
    "# Do a distributed and multithreaded sum\n",
    "@btime sum($DA)\n",
    "\n",
    "# Make sure results are correct\n",
    "@assert sum(collect(DA)) ≈ sum(DA)"
   ]
  },
  {
   "cell_type": "markdown",
   "metadata": {},
   "source": [
    "Not bad! Performance isn't perfect, but it's not too bad for an automatically distributed and multithreaded operation (which is generically implemented, and will have similar performance for all kinds of reductions). This performance will improve over time as Dagger itself improves.\n",
    "\n",
    "You can see that just like Dagger tasks, Dagger arrays (the `DArray`) is lazy. `fetch` is used to ensure that operations are completed, and `collect` is used to convert a `DArray` into a regular `Array`.\n",
    "\n",
    "The `DArray` supports a variety of array operations just like Julia's `Array`s:"
   ]
  },
  {
   "cell_type": "code",
   "execution_count": 27,
   "metadata": {},
   "outputs": [
    {
     "data": {
      "text/plain": [
       "64×64 Matrix{Float64}:\n",
       " 0.901096  0.936028    0.98404   …  0.244343   0.923511    1.55203\n",
       " 1.68035   0.00911117  1.1324       1.31244    0.793101    0.260467\n",
       " 1.9033    1.60656     0.304407     0.248602   1.4813      1.44645\n",
       " 1.02934   0.123294    0.333614     1.15623    0.359544    1.92108\n",
       " 1.38282   0.953327    1.54404      0.224876   1.04766     0.0654717\n",
       " 0.503089  0.237317    0.738415  …  1.88981    0.785976    0.265817\n",
       " 0.77943   0.940832    1.08712      1.61909    1.67164     0.0268055\n",
       " 1.26979   1.14929     0.502468     1.4354     0.838045    0.66643\n",
       " 0.535601  1.58683     1.04563      0.0708674  0.94892     1.59977\n",
       " 1.89287   1.96128     0.137881     0.316871   1.30119     0.665576\n",
       " ⋮                               ⋱                         \n",
       " 1.94155   1.8341      1.42129   …  0.843813   0.915071    0.292815\n",
       " 1.49684   0.722937    1.3549       1.56335    0.00381643  1.62092\n",
       " 1.37029   0.158569    1.36387      1.73274    0.047664    1.84886\n",
       " 1.01971   0.274718    0.685214     1.42018    1.74153     1.24154\n",
       " 0.097926  0.177787    0.480246     1.46965    0.64986     0.96675\n",
       " 0.678993  0.397096    1.15299   …  0.566201   0.925001    0.19309\n",
       " 0.308454  0.153464    0.489828     0.0554798  1.36633     0.617647\n",
       " 1.34466   0.0224346   0.447822     1.83989    0.185542    1.11093\n",
       " 0.540926  1.15206     0.6877       1.81161    0.438556    1.93624"
      ]
     },
     "metadata": {},
     "output_type": "display_data"
    }
   ],
   "source": [
    "# Create a local array (not distributeed)\n",
    "A = rand(64, 64)\n",
    "\n",
    "# Let's distribute A across our workers by partitioning in 16 x 16 blocks\n",
    "DA = distribute(A, Blocks(16, 16))\n",
    "\n",
    "# Do a map operation on it:\n",
    "DB = map(x->x*2, DA)\n",
    "\n",
    "# And get the result back as an Array:\n",
    "collect(DB)"
   ]
  },
  {
   "cell_type": "markdown",
   "metadata": {},
   "source": [
    "Complex operations like broadcasting work too:"
   ]
  },
  {
   "cell_type": "code",
   "execution_count": 28,
   "metadata": {},
   "outputs": [
    {
     "data": {
      "text/plain": [
       "64×64 Matrix{Float64}:\n",
       " 1.80219   1.87206    1.96808   3.85757    …  0.488687  1.84702     3.10405\n",
       " 3.36071   0.0182223  2.26479   2.32175       2.62488   1.5862      0.520934\n",
       " 3.8066    3.21311    0.608814  1.62834       0.497205  2.96261     2.89289\n",
       " 2.05869   0.246588   0.667228  0.0416518     2.31246   0.719088    3.84215\n",
       " 2.76563   1.90665    3.08808   0.255756      0.449752  2.09532     0.130943\n",
       " 1.00618   0.474634   1.47683   2.77223    …  3.77962   1.57195     0.531633\n",
       " 1.55886   1.88166    2.17425   3.38939       3.23818   3.34328     0.053611\n",
       " 2.53957   2.29859    1.00494   3.50963       2.8708    1.67609     1.33286\n",
       " 1.0712    3.17366    2.09127   0.885672      0.141735  1.89784     3.19954\n",
       " 3.78574   3.92256    0.275762  2.49054       0.633742  2.60237     1.33115\n",
       " ⋮                                         ⋱                        \n",
       " 3.88311   3.66821    2.84257   2.4796     …  1.68763   1.83014     0.585629\n",
       " 2.99367   1.44587    2.7098    1.07904       3.1267    0.00763286  3.24184\n",
       " 2.74058   0.317138   2.72775   0.383734      3.46549   0.0953279   3.69771\n",
       " 2.03942   0.549436   1.37043   2.58397       2.84035   3.48306     2.48308\n",
       " 0.195852  0.355573   0.960491  3.03803       2.93929   1.29972     1.9335\n",
       " 1.35799   0.794193   2.30598   3.35196    …  1.1324    1.85        0.38618\n",
       " 0.616907  0.306929   0.979656  2.58192       0.11096   2.73265     1.23529\n",
       " 2.68931   0.0448692  0.895644  2.57356       3.67978   0.371084    2.22187\n",
       " 1.08185   2.30412    1.3754    2.3241        3.62323   0.877111    3.87248"
      ]
     },
     "metadata": {},
     "output_type": "display_data"
    }
   ],
   "source": [
    "collect(DA .* 2 .+ DB)"
   ]
  },
  {
   "cell_type": "markdown",
   "metadata": {},
   "source": [
    "Ok, but where's the proof that this is actually distributed or multithreaded? Well, we can easily see which workers and threads it's operating on:"
   ]
  },
  {
   "cell_type": "code",
   "execution_count": 29,
   "metadata": {},
   "outputs": [
    {
     "data": {
      "text/plain": [
       "16×16 Matrix{Int64}:\n",
       " 2  2  2  2  2  2  2  2  2  2  2  2  2  2  2  2\n",
       " 2  2  2  2  2  2  2  2  2  2  2  2  2  2  2  2\n",
       " 2  2  2  2  2  2  2  2  2  2  2  2  2  2  2  2\n",
       " 2  2  2  2  2  2  2  2  2  2  2  2  2  2  2  2\n",
       " 1  1  1  1  2  2  2  2  3  3  3  3  2  2  2  2\n",
       " 1  1  1  1  2  2  2  2  3  3  3  3  2  2  2  2\n",
       " 1  1  1  1  2  2  2  2  3  3  3  3  2  2  2  2\n",
       " 1  1  1  1  2  2  2  2  3  3  3  3  2  2  2  2\n",
       " 3  3  3  3  2  2  2  2  3  3  3  3  2  2  2  2\n",
       " 3  3  3  3  2  2  2  2  3  3  3  3  2  2  2  2\n",
       " 3  3  3  3  2  2  2  2  3  3  3  3  2  2  2  2\n",
       " 3  3  3  3  2  2  2  2  3  3  3  3  2  2  2  2\n",
       " 3  3  3  3  3  3  3  3  2  2  2  2  3  3  3  3\n",
       " 3  3  3  3  3  3  3  3  2  2  2  2  3  3  3  3\n",
       " 3  3  3  3  3  3  3  3  2  2  2  2  3  3  3  3\n",
       " 3  3  3  3  3  3  3  3  2  2  2  2  3  3  3  3"
      ]
     },
     "metadata": {},
     "output_type": "display_data"
    }
   ],
   "source": [
    "DC = rand(Blocks(4, 4), 16, 16)\n",
    "\n",
    "# Which worker is running our tasks?\n",
    "collect(map(x->Distributed.myid(), DC))"
   ]
  },
  {
   "cell_type": "code",
   "execution_count": 30,
   "metadata": {},
   "outputs": [
    {
     "data": {
      "text/plain": [
       "16×16 Matrix{Int64}:\n",
       " 2  2  2  2  1  1  1  1  2  2  2  2  2  2  2  2\n",
       " 2  2  2  2  1  1  1  1  2  2  2  2  2  2  2  2\n",
       " 2  2  2  2  1  1  1  1  2  2  2  2  2  2  2  2\n",
       " 2  2  2  2  1  1  1  1  2  2  2  2  2  2  2  2\n",
       " 1  1  1  1  2  2  2  2  2  2  2  2  2  2  2  2\n",
       " 1  1  1  1  2  2  2  2  2  2  2  2  2  2  2  2\n",
       " 1  1  1  1  2  2  2  2  2  2  2  2  2  2  2  2\n",
       " 1  1  1  1  2  2  2  2  2  2  2  2  2  2  2  2\n",
       " 2  2  2  2  2  2  2  2  1  1  1  1  2  2  2  2\n",
       " 2  2  2  2  2  2  2  2  1  1  1  1  2  2  2  2\n",
       " 2  2  2  2  2  2  2  2  1  1  1  1  2  2  2  2\n",
       " 2  2  2  2  2  2  2  2  1  1  1  1  2  2  2  2\n",
       " 1  1  1  1  1  1  1  1  2  2  2  2  1  1  1  1\n",
       " 1  1  1  1  1  1  1  1  2  2  2  2  1  1  1  1\n",
       " 1  1  1  1  1  1  1  1  2  2  2  2  1  1  1  1\n",
       " 1  1  1  1  1  1  1  1  2  2  2  2  1  1  1  1"
      ]
     },
     "metadata": {},
     "output_type": "display_data"
    }
   ],
   "source": [
    "# And which threads are running our tasks?\n",
    "collect(map(x->Threads.threadid(), DC))"
   ]
  },
  {
   "cell_type": "markdown",
   "metadata": {},
   "source": [
    "You might be wondering, how does the `DArray` work? Is it a magical built-in? Well, it's really just a generic container around Dagger tasks, which is easy enough to see for yourself:"
   ]
  },
  {
   "cell_type": "code",
   "execution_count": 31,
   "metadata": {},
   "outputs": [
    {
     "data": {
      "text/plain": [
       "4×4 Matrix{Any}:\n",
       " EagerThunk (finished)  EagerThunk (finished)  …  EagerThunk (finished)\n",
       " EagerThunk (finished)  EagerThunk (finished)     EagerThunk (finished)\n",
       " EagerThunk (finished)  EagerThunk (finished)     EagerThunk (finished)\n",
       " EagerThunk (finished)  EagerThunk (finished)     EagerThunk (finished)"
      ]
     },
     "metadata": {},
     "output_type": "display_data"
    }
   ],
   "source": [
    "DC.chunks"
   ]
  },
  {
   "cell_type": "markdown",
   "metadata": {},
   "source": [
    "Since this array is 16 x 16 total elements and partitioned into chunks of 4 x 4, we thus have 4 x 4 Dagger tasks (`EagerThunk` == \"Dagger task\", if you recall), one for each chunk of the partitioned array. You can check the value of any of these chunks by `fetch`ing them, as you'd expect:"
   ]
  },
  {
   "cell_type": "code",
   "execution_count": 32,
   "metadata": {},
   "outputs": [
    {
     "data": {
      "text/plain": [
       "4×4 Matrix{Float64}:\n",
       " 0.483508  0.996795  0.287642  0.730436\n",
       " 0.413356  0.194679  0.110177  0.783232\n",
       " 0.903374  0.887638  0.871194  0.0981869\n",
       " 0.218791  0.207176  0.925929  0.987586"
      ]
     },
     "metadata": {},
     "output_type": "display_data"
    }
   ],
   "source": [
    "fetch(DC.chunks[3,4])"
   ]
  },
  {
   "cell_type": "markdown",
   "metadata": {},
   "source": [
    "Operations on the `DArray` simply take these tasks as input, passing them into other Dagger tasks, and putting the resulting tasks into a new `DArray` that's returned to you. All of the computations and data movement happen in Dagger in the background.\n",
    "\n",
    "Feel free to try out other useful operations:"
   ]
  },
  {
   "cell_type": "code",
   "execution_count": 33,
   "metadata": {},
   "outputs": [
    {
     "data": {
      "text/plain": [
       "8×8 Matrix{Float64}:\n",
       " 10.3146   9.92081  7.92013  8.64311  8.99091  10.0831   10.7142   9.60595\n",
       "  7.21018  6.87454  6.85152  6.5248   6.79444   6.31211   8.49605  7.44065\n",
       "  9.12997  8.47182  7.77737  7.81695  8.6721    8.66513   8.91281  8.96582\n",
       " 10.2062   9.31685  8.36177  8.05261  7.88796   8.55122  10.0873   8.59102\n",
       "  8.86075  9.3405   7.72462  7.09214  8.47612   8.25761   9.03776  8.81714\n",
       "  8.54905  8.73592  7.59796  7.6096   8.54079   8.18595   8.99388  7.89931\n",
       "  9.05033  9.73915  7.69769  7.56248  8.51061   8.33451   9.78208  8.20258\n",
       "  8.67064  9.6854   8.43777  7.28484  8.39054   8.85947   9.19034  9.54042"
      ]
     },
     "metadata": {},
     "output_type": "display_data"
    }
   ],
   "source": [
    "# Reshape and matrix-matrix multiply\n",
    "collect(reshape(DC, 8, 32) * reshape(DC, 32, 8))"
   ]
  },
  {
   "cell_type": "code",
   "execution_count": 34,
   "metadata": {},
   "outputs": [
    {
     "data": {
      "text/plain": [
       "64-element Vector{Float64}:\n",
       " 0.005851403848905257\n",
       " 0.020575258567507415\n",
       " 0.03927518266092589\n",
       " 0.04515232012819803\n",
       " 0.04992007784522756\n",
       " 0.08406162129142714\n",
       " 0.11963313105506135\n",
       " 0.12351621047658945\n",
       " 0.13064638138600704\n",
       " 0.1349076097573878\n",
       " ⋮\n",
       " 0.8876272269551913\n",
       " 0.8962516331143147\n",
       " 0.9590325303039045\n",
       " 0.9591999722790696\n",
       " 0.9600691571010103\n",
       " 0.9700797690270988\n",
       " 0.9721303718862124\n",
       " 0.9831141013923244\n",
       " 0.9983702881758747"
      ]
     },
     "metadata": {},
     "output_type": "display_data"
    }
   ],
   "source": [
    "# Sorting\n",
    "DD = rand(Blocks(16), 64)\n",
    "collect(sort(DD))"
   ]
  },
  {
   "cell_type": "markdown",
   "metadata": {},
   "source": [
    "## Tabular Programming in Dagger\n",
    "\n",
    "Arrays are cool and super useful, but for certain use cases (like tabular data analysis, ETL operations, database interfacing, etc.), they just don't really cut it. In Julia, users can use DataFrames.jl to gain access to a very capable, high-performance table implementation. DataFrames is very well-tuned and even automatically multithreads many operations. If your data is small enough to fit on a single worker and in-memory, the DataFrame is a great option!"
   ]
  },
  {
   "cell_type": "code",
   "execution_count": 35,
   "metadata": {},
   "outputs": [],
   "source": [
    "using DataFrames"
   ]
  },
  {
   "cell_type": "code",
   "execution_count": 36,
   "metadata": {},
   "outputs": [
    {
     "data": {
      "text/html": [
       "<div><div style = \"float: left;\"><span>38348×3 DataFrame</span></div><div style = \"float: right;\"><span style = \"font-style: italic;\">38323 rows omitted</span></div><div style = \"clear: both;\"></div></div><div class = \"data-frame\" style = \"overflow-x: scroll;\"><table class = \"data-frame\" style = \"margin-bottom: 6px;\"><thead><tr class = \"header\"><th class = \"rowNumber\" style = \"font-weight: bold; text-align: right;\">Row</th><th style = \"text-align: left;\">a</th><th style = \"text-align: left;\">b</th><th style = \"text-align: left;\">c</th></tr><tr class = \"subheader headerLastRow\"><th class = \"rowNumber\" style = \"font-weight: bold; text-align: right;\"></th><th title = \"Char\" style = \"text-align: left;\">Char</th><th title = \"Float64\" style = \"text-align: left;\">Float64</th><th title = \"Int64\" style = \"text-align: left;\">Int64</th></tr></thead><tbody><tr><td class = \"rowNumber\" style = \"font-weight: bold; text-align: right;\">1</td><td style = \"text-align: left;\">l</td><td style = \"text-align: right;\">0.443905</td><td style = \"text-align: right;\">8</td></tr><tr><td class = \"rowNumber\" style = \"font-weight: bold; text-align: right;\">2</td><td style = \"text-align: left;\">l</td><td style = \"text-align: right;\">0.171912</td><td style = \"text-align: right;\">8</td></tr><tr><td class = \"rowNumber\" style = \"font-weight: bold; text-align: right;\">3</td><td style = \"text-align: left;\">l</td><td style = \"text-align: right;\">0.85424</td><td style = \"text-align: right;\">8</td></tr><tr><td class = \"rowNumber\" style = \"font-weight: bold; text-align: right;\">4</td><td style = \"text-align: left;\">l</td><td style = \"text-align: right;\">0.254782</td><td style = \"text-align: right;\">8</td></tr><tr><td class = \"rowNumber\" style = \"font-weight: bold; text-align: right;\">5</td><td style = \"text-align: left;\">l</td><td style = \"text-align: right;\">0.063185</td><td style = \"text-align: right;\">8</td></tr><tr><td class = \"rowNumber\" style = \"font-weight: bold; text-align: right;\">6</td><td style = \"text-align: left;\">l</td><td style = \"text-align: right;\">0.412543</td><td style = \"text-align: right;\">8</td></tr><tr><td class = \"rowNumber\" style = \"font-weight: bold; text-align: right;\">7</td><td style = \"text-align: left;\">l</td><td style = \"text-align: right;\">0.551376</td><td style = \"text-align: right;\">8</td></tr><tr><td class = \"rowNumber\" style = \"font-weight: bold; text-align: right;\">8</td><td style = \"text-align: left;\">l</td><td style = \"text-align: right;\">0.45702</td><td style = \"text-align: right;\">8</td></tr><tr><td class = \"rowNumber\" style = \"font-weight: bold; text-align: right;\">9</td><td style = \"text-align: left;\">l</td><td style = \"text-align: right;\">0.880832</td><td style = \"text-align: right;\">8</td></tr><tr><td class = \"rowNumber\" style = \"font-weight: bold; text-align: right;\">10</td><td style = \"text-align: left;\">l</td><td style = \"text-align: right;\">0.893324</td><td style = \"text-align: right;\">8</td></tr><tr><td class = \"rowNumber\" style = \"font-weight: bold; text-align: right;\">11</td><td style = \"text-align: left;\">l</td><td style = \"text-align: right;\">0.201952</td><td style = \"text-align: right;\">8</td></tr><tr><td class = \"rowNumber\" style = \"font-weight: bold; text-align: right;\">12</td><td style = \"text-align: left;\">l</td><td style = \"text-align: right;\">0.223869</td><td style = \"text-align: right;\">8</td></tr><tr><td class = \"rowNumber\" style = \"font-weight: bold; text-align: right;\">13</td><td style = \"text-align: left;\">l</td><td style = \"text-align: right;\">0.944419</td><td style = \"text-align: right;\">8</td></tr><tr><td style = \"text-align: right;\">&vellip;</td><td style = \"text-align: right;\">&vellip;</td><td style = \"text-align: right;\">&vellip;</td><td style = \"text-align: right;\">&vellip;</td></tr><tr><td class = \"rowNumber\" style = \"font-weight: bold; text-align: right;\">38337</td><td style = \"text-align: left;\">t</td><td style = \"text-align: right;\">0.400079</td><td style = \"text-align: right;\">8</td></tr><tr><td class = \"rowNumber\" style = \"font-weight: bold; text-align: right;\">38338</td><td style = \"text-align: left;\">t</td><td style = \"text-align: right;\">0.636341</td><td style = \"text-align: right;\">8</td></tr><tr><td class = \"rowNumber\" style = \"font-weight: bold; text-align: right;\">38339</td><td style = \"text-align: left;\">t</td><td style = \"text-align: right;\">0.823239</td><td style = \"text-align: right;\">8</td></tr><tr><td class = \"rowNumber\" style = \"font-weight: bold; text-align: right;\">38340</td><td style = \"text-align: left;\">t</td><td style = \"text-align: right;\">0.759941</td><td style = \"text-align: right;\">8</td></tr><tr><td class = \"rowNumber\" style = \"font-weight: bold; text-align: right;\">38341</td><td style = \"text-align: left;\">t</td><td style = \"text-align: right;\">0.964569</td><td style = \"text-align: right;\">8</td></tr><tr><td class = \"rowNumber\" style = \"font-weight: bold; text-align: right;\">38342</td><td style = \"text-align: left;\">t</td><td style = \"text-align: right;\">0.408297</td><td style = \"text-align: right;\">8</td></tr><tr><td class = \"rowNumber\" style = \"font-weight: bold; text-align: right;\">38343</td><td style = \"text-align: left;\">t</td><td style = \"text-align: right;\">0.867329</td><td style = \"text-align: right;\">8</td></tr><tr><td class = \"rowNumber\" style = \"font-weight: bold; text-align: right;\">38344</td><td style = \"text-align: left;\">t</td><td style = \"text-align: right;\">0.426114</td><td style = \"text-align: right;\">8</td></tr><tr><td class = \"rowNumber\" style = \"font-weight: bold; text-align: right;\">38345</td><td style = \"text-align: left;\">t</td><td style = \"text-align: right;\">0.594852</td><td style = \"text-align: right;\">8</td></tr><tr><td class = \"rowNumber\" style = \"font-weight: bold; text-align: right;\">38346</td><td style = \"text-align: left;\">t</td><td style = \"text-align: right;\">0.195754</td><td style = \"text-align: right;\">8</td></tr><tr><td class = \"rowNumber\" style = \"font-weight: bold; text-align: right;\">38347</td><td style = \"text-align: left;\">t</td><td style = \"text-align: right;\">0.989285</td><td style = \"text-align: right;\">8</td></tr><tr><td class = \"rowNumber\" style = \"font-weight: bold; text-align: right;\">38348</td><td style = \"text-align: left;\">t</td><td style = \"text-align: right;\">0.110769</td><td style = \"text-align: right;\">8</td></tr></tbody></table></div>"
      ],
      "text/latex": [
       "\\begin{tabular}{r|ccc}\n",
       "\t& a & b & c\\\\\n",
       "\t\\hline\n",
       "\t& Char & Float64 & Int64\\\\\n",
       "\t\\hline\n",
       "\t1 & l & 0.443905 & 8 \\\\\n",
       "\t2 & l & 0.171912 & 8 \\\\\n",
       "\t3 & l & 0.85424 & 8 \\\\\n",
       "\t4 & l & 0.254782 & 8 \\\\\n",
       "\t5 & l & 0.063185 & 8 \\\\\n",
       "\t6 & l & 0.412543 & 8 \\\\\n",
       "\t7 & l & 0.551376 & 8 \\\\\n",
       "\t8 & l & 0.45702 & 8 \\\\\n",
       "\t9 & l & 0.880832 & 8 \\\\\n",
       "\t10 & l & 0.893324 & 8 \\\\\n",
       "\t11 & l & 0.201952 & 8 \\\\\n",
       "\t12 & l & 0.223869 & 8 \\\\\n",
       "\t13 & l & 0.944419 & 8 \\\\\n",
       "\t14 & l & 0.499935 & 8 \\\\\n",
       "\t15 & l & 0.0982464 & 8 \\\\\n",
       "\t16 & l & 0.697308 & 8 \\\\\n",
       "\t17 & l & 0.279912 & 8 \\\\\n",
       "\t18 & l & 0.184487 & 8 \\\\\n",
       "\t19 & l & 0.134326 & 8 \\\\\n",
       "\t20 & l & 0.82924 & 8 \\\\\n",
       "\t21 & l & 0.0665238 & 8 \\\\\n",
       "\t22 & l & 0.526602 & 8 \\\\\n",
       "\t23 & l & 0.185061 & 8 \\\\\n",
       "\t24 & l & 0.948016 & 8 \\\\\n",
       "\t$\\dots$ & $\\dots$ & $\\dots$ & $\\dots$ \\\\\n",
       "\\end{tabular}\n"
      ],
      "text/plain": [
       "\u001b[1m38348×3 DataFrame\u001b[0m\n",
       "\u001b[1m   Row \u001b[0m│\u001b[1m a    \u001b[0m\u001b[1m b        \u001b[0m\u001b[1m c     \u001b[0m\n",
       "       │\u001b[90m Char \u001b[0m\u001b[90m Float64  \u001b[0m\u001b[90m Int64 \u001b[0m\n",
       "───────┼───────────────────────\n",
       "     1 │ l     0.443905      8\n",
       "     2 │ l     0.171912      8\n",
       "     3 │ l     0.85424       8\n",
       "     4 │ l     0.254782      8\n",
       "     5 │ l     0.063185      8\n",
       "     6 │ l     0.412543      8\n",
       "     7 │ l     0.551376      8\n",
       "     8 │ l     0.45702       8\n",
       "   ⋮   │  ⋮       ⋮        ⋮\n",
       " 38342 │ t     0.408297      8\n",
       " 38343 │ t     0.867329      8\n",
       " 38344 │ t     0.426114      8\n",
       " 38345 │ t     0.594852      8\n",
       " 38346 │ t     0.195754      8\n",
       " 38347 │ t     0.989285      8\n",
       " 38348 │ t     0.110769      8\n",
       "\u001b[36m             38333 rows omitted\u001b[0m"
      ]
     },
     "metadata": {},
     "output_type": "display_data"
    }
   ],
   "source": [
    "df1 = DataFrame(a=rand('a':'z', 1000), b=rand(1000))\n",
    "df2 = DataFrame(a=rand('a':'z', 1000), c=rand(1:10, 1000))\n",
    "df3 = innerjoin(df1, df2, on=:a)"
   ]
  },
  {
   "cell_type": "markdown",
   "metadata": {},
   "source": [
    "\n",
    "However, there are three main areas where the DataFrame won't help you very much:\n",
    "- Your data is too big to fit in RAM\n",
    "- You have multiple servers and want to distribute your table operations across them\n",
    "- DataFrames doesn't have a multithreaded implementation of the operation that's slowing you down\n",
    "\n",
    "For these cases and more, Dagger provides the `DTable`, which, much like the `DArray`, is a larger table created by combining a set of partitioned chunks of smaller tables. More specifically, the `DTable` row-wise concatenates multiple tables of your choice (`DataFrame`s, CSV files, Arrow files, etc.) into a single larger distributed table. It provides a number of basic operations, as well as a number of more complex DataFrames-compatible operations.\n",
    "\n",
    "Let's see what it looks like to create a `DTable` from an existing `DataFrame`:"
   ]
  },
  {
   "cell_type": "code",
   "execution_count": 37,
   "metadata": {},
   "outputs": [],
   "source": [
    "# The DTable is provided by an extra Julia package\n",
    "using DTables"
   ]
  },
  {
   "cell_type": "code",
   "execution_count": 38,
   "metadata": {},
   "outputs": [
    {
     "data": {
      "text/plain": [
       "DTable with 39 partitions\n",
       "Tabletype: DataFrame"
      ]
     },
     "metadata": {},
     "output_type": "display_data"
    }
   ],
   "source": [
    "dt3 = DTable(df3, 1000)"
   ]
  },
  {
   "cell_type": "markdown",
   "metadata": {},
   "source": [
    "It's that easy! We can immediately notice some oddities, however:\n",
    "- There is an additional parameter that we needed to provide - this is the `chunksize`, which specifies how big each chunk of the table should be, in terms of row count\n",
    "- There is no \"preview\" of the underlying table contents - since the table is asynchronously being built or generated in the background, the contents of the table may not yet be ready, so by default we don't see a preview (otherwise we might have to wait for a while)\n",
    "- There is some \"tabletype\" thing - this is the type of the underlying table chunks, and can be all kinds of Julia table types, but is a `DataFrame` for this `DTable`\n",
    "\n",
    "Just like a `DataFrame`, we can do the usual set of expected operations:"
   ]
  },
  {
   "cell_type": "code",
   "execution_count": 39,
   "metadata": {},
   "outputs": [
    {
     "data": {
      "text/html": [
       "<div><div style = \"float: left;\"><span>10×2 DataFrame</span></div><div style = \"clear: both;\"></div></div><div class = \"data-frame\" style = \"overflow-x: scroll;\"><table class = \"data-frame\" style = \"margin-bottom: 6px;\"><thead><tr class = \"header\"><th class = \"rowNumber\" style = \"font-weight: bold; text-align: right;\">Row</th><th style = \"text-align: left;\">a</th><th style = \"text-align: left;\">c</th></tr><tr class = \"subheader headerLastRow\"><th class = \"rowNumber\" style = \"font-weight: bold; text-align: right;\"></th><th title = \"Char\" style = \"text-align: left;\">Char</th><th title = \"Int64\" style = \"text-align: left;\">Int64</th></tr></thead><tbody><tr><td class = \"rowNumber\" style = \"font-weight: bold; text-align: right;\">1</td><td style = \"text-align: left;\">l</td><td style = \"text-align: right;\">8</td></tr><tr><td class = \"rowNumber\" style = \"font-weight: bold; text-align: right;\">2</td><td style = \"text-align: left;\">l</td><td style = \"text-align: right;\">8</td></tr><tr><td class = \"rowNumber\" style = \"font-weight: bold; text-align: right;\">3</td><td style = \"text-align: left;\">l</td><td style = \"text-align: right;\">8</td></tr><tr><td class = \"rowNumber\" style = \"font-weight: bold; text-align: right;\">4</td><td style = \"text-align: left;\">l</td><td style = \"text-align: right;\">8</td></tr><tr><td class = \"rowNumber\" style = \"font-weight: bold; text-align: right;\">5</td><td style = \"text-align: left;\">l</td><td style = \"text-align: right;\">8</td></tr><tr><td class = \"rowNumber\" style = \"font-weight: bold; text-align: right;\">6</td><td style = \"text-align: left;\">l</td><td style = \"text-align: right;\">8</td></tr><tr><td class = \"rowNumber\" style = \"font-weight: bold; text-align: right;\">7</td><td style = \"text-align: left;\">l</td><td style = \"text-align: right;\">8</td></tr><tr><td class = \"rowNumber\" style = \"font-weight: bold; text-align: right;\">8</td><td style = \"text-align: left;\">l</td><td style = \"text-align: right;\">8</td></tr><tr><td class = \"rowNumber\" style = \"font-weight: bold; text-align: right;\">9</td><td style = \"text-align: left;\">l</td><td style = \"text-align: right;\">8</td></tr><tr><td class = \"rowNumber\" style = \"font-weight: bold; text-align: right;\">10</td><td style = \"text-align: left;\">l</td><td style = \"text-align: right;\">8</td></tr></tbody></table></div>"
      ],
      "text/latex": [
       "\\begin{tabular}{r|cc}\n",
       "\t& a & c\\\\\n",
       "\t\\hline\n",
       "\t& Char & Int64\\\\\n",
       "\t\\hline\n",
       "\t1 & l & 8 \\\\\n",
       "\t2 & l & 8 \\\\\n",
       "\t3 & l & 8 \\\\\n",
       "\t4 & l & 8 \\\\\n",
       "\t5 & l & 8 \\\\\n",
       "\t6 & l & 8 \\\\\n",
       "\t7 & l & 8 \\\\\n",
       "\t8 & l & 8 \\\\\n",
       "\t9 & l & 8 \\\\\n",
       "\t10 & l & 8 \\\\\n",
       "\\end{tabular}\n"
      ],
      "text/plain": [
       "\u001b[1m10×2 DataFrame\u001b[0m\n",
       "\u001b[1m Row \u001b[0m│\u001b[1m a    \u001b[0m\u001b[1m c     \u001b[0m\n",
       "     │\u001b[90m Char \u001b[0m\u001b[90m Int64 \u001b[0m\n",
       "─────┼─────────────\n",
       "   1 │ l         8\n",
       "   2 │ l         8\n",
       "   3 │ l         8\n",
       "   4 │ l         8\n",
       "   5 │ l         8\n",
       "   6 │ l         8\n",
       "   7 │ l         8\n",
       "   8 │ l         8\n",
       "   9 │ l         8\n",
       "  10 │ l         8"
      ]
     },
     "metadata": {},
     "output_type": "display_data"
    }
   ],
   "source": [
    "fetch(select(dt3, [:a, :c]))[1:10,:]"
   ]
  },
  {
   "cell_type": "code",
   "execution_count": 40,
   "metadata": {},
   "outputs": [
    {
     "data": {
      "text/html": [
       "<div><div style = \"float: left;\"><span>10×2 DataFrame</span></div><div style = \"clear: both;\"></div></div><div class = \"data-frame\" style = \"overflow-x: scroll;\"><table class = \"data-frame\" style = \"margin-bottom: 6px;\"><thead><tr class = \"header\"><th class = \"rowNumber\" style = \"font-weight: bold; text-align: right;\">Row</th><th style = \"text-align: left;\">a</th><th style = \"text-align: left;\">result_b</th></tr><tr class = \"subheader headerLastRow\"><th class = \"rowNumber\" style = \"font-weight: bold; text-align: right;\"></th><th title = \"Char\" style = \"text-align: left;\">Char</th><th title = \"Float64\" style = \"text-align: left;\">Float64</th></tr></thead><tbody><tr><td class = \"rowNumber\" style = \"font-weight: bold; text-align: right;\">1</td><td style = \"text-align: left;\">n</td><td style = \"text-align: right;\">840.585</td></tr><tr><td class = \"rowNumber\" style = \"font-weight: bold; text-align: right;\">2</td><td style = \"text-align: left;\">f</td><td style = \"text-align: right;\">835.259</td></tr><tr><td class = \"rowNumber\" style = \"font-weight: bold; text-align: right;\">3</td><td style = \"text-align: left;\">w</td><td style = \"text-align: right;\">704.913</td></tr><tr><td class = \"rowNumber\" style = \"font-weight: bold; text-align: right;\">4</td><td style = \"text-align: left;\">d</td><td style = \"text-align: right;\">528.96</td></tr><tr><td class = \"rowNumber\" style = \"font-weight: bold; text-align: right;\">5</td><td style = \"text-align: left;\">e</td><td style = \"text-align: right;\">640.146</td></tr><tr><td class = \"rowNumber\" style = \"font-weight: bold; text-align: right;\">6</td><td style = \"text-align: left;\">o</td><td style = \"text-align: right;\">1081.7</td></tr><tr><td class = \"rowNumber\" style = \"font-weight: bold; text-align: right;\">7</td><td style = \"text-align: left;\">h</td><td style = \"text-align: right;\">782.246</td></tr><tr><td class = \"rowNumber\" style = \"font-weight: bold; text-align: right;\">8</td><td style = \"text-align: left;\">s</td><td style = \"text-align: right;\">725.98</td></tr><tr><td class = \"rowNumber\" style = \"font-weight: bold; text-align: right;\">9</td><td style = \"text-align: left;\">j</td><td style = \"text-align: right;\">951.152</td></tr><tr><td class = \"rowNumber\" style = \"font-weight: bold; text-align: right;\">10</td><td style = \"text-align: left;\">t</td><td style = \"text-align: right;\">543.426</td></tr></tbody></table></div>"
      ],
      "text/latex": [
       "\\begin{tabular}{r|cc}\n",
       "\t& a & result\\_b\\\\\n",
       "\t\\hline\n",
       "\t& Char & Float64\\\\\n",
       "\t\\hline\n",
       "\t1 & n & 840.585 \\\\\n",
       "\t2 & f & 835.259 \\\\\n",
       "\t3 & w & 704.913 \\\\\n",
       "\t4 & d & 528.96 \\\\\n",
       "\t5 & e & 640.146 \\\\\n",
       "\t6 & o & 1081.7 \\\\\n",
       "\t7 & h & 782.246 \\\\\n",
       "\t8 & s & 725.98 \\\\\n",
       "\t9 & j & 951.152 \\\\\n",
       "\t10 & t & 543.426 \\\\\n",
       "\\end{tabular}\n"
      ],
      "text/plain": [
       "\u001b[1m10×2 DataFrame\u001b[0m\n",
       "\u001b[1m Row \u001b[0m│\u001b[1m a    \u001b[0m\u001b[1m result_b \u001b[0m\n",
       "     │\u001b[90m Char \u001b[0m\u001b[90m Float64  \u001b[0m\n",
       "─────┼────────────────\n",
       "   1 │ n      840.585\n",
       "   2 │ f      835.259\n",
       "   3 │ w      704.913\n",
       "   4 │ d      528.96\n",
       "   5 │ e      640.146\n",
       "   6 │ o     1081.7\n",
       "   7 │ h      782.246\n",
       "   8 │ s      725.98\n",
       "   9 │ j      951.152\n",
       "  10 │ t      543.426"
      ]
     },
     "metadata": {},
     "output_type": "display_data"
    }
   ],
   "source": [
    "first(DataFrame(fetch(reduce(+, groupby(dt3, :a); cols=[:b]))), 10)"
   ]
  },
  {
   "cell_type": "code",
   "execution_count": 41,
   "metadata": {},
   "outputs": [
    {
     "data": {
      "text/html": [
       "<div><div style = \"float: left;\"><span>10×4 DataFrame</span></div><div style = \"clear: both;\"></div></div><div class = \"data-frame\" style = \"overflow-x: scroll;\"><table class = \"data-frame\" style = \"margin-bottom: 6px;\"><thead><tr class = \"header\"><th class = \"rowNumber\" style = \"font-weight: bold; text-align: right;\">Row</th><th style = \"text-align: left;\">a</th><th style = \"text-align: left;\">b</th><th style = \"text-align: left;\">c</th><th style = \"text-align: left;\">d</th></tr><tr class = \"subheader headerLastRow\"><th class = \"rowNumber\" style = \"font-weight: bold; text-align: right;\"></th><th title = \"Char\" style = \"text-align: left;\">Char</th><th title = \"Float64\" style = \"text-align: left;\">Float64</th><th title = \"Int64\" style = \"text-align: left;\">Int64</th><th title = \"Union{Missing, Float64}\" style = \"text-align: left;\">Float64?</th></tr></thead><tbody><tr><td class = \"rowNumber\" style = \"font-weight: bold; text-align: right;\">1</td><td style = \"text-align: left;\">l</td><td style = \"text-align: right;\">0.443905</td><td style = \"text-align: right;\">8</td><td style = \"text-align: right;\">0.782203</td></tr><tr><td class = \"rowNumber\" style = \"font-weight: bold; text-align: right;\">2</td><td style = \"text-align: left;\">l</td><td style = \"text-align: right;\">0.443905</td><td style = \"text-align: right;\">8</td><td style = \"text-align: right;\">0.732828</td></tr><tr><td class = \"rowNumber\" style = \"font-weight: bold; text-align: right;\">3</td><td style = \"text-align: left;\">l</td><td style = \"text-align: right;\">0.443905</td><td style = \"text-align: right;\">8</td><td style = \"text-align: right;\">0.67292</td></tr><tr><td class = \"rowNumber\" style = \"font-weight: bold; text-align: right;\">4</td><td style = \"text-align: left;\">l</td><td style = \"text-align: right;\">0.443905</td><td style = \"text-align: right;\">8</td><td style = \"text-align: right;\">0.057573</td></tr><tr><td class = \"rowNumber\" style = \"font-weight: bold; text-align: right;\">5</td><td style = \"text-align: left;\">l</td><td style = \"text-align: right;\">0.171912</td><td style = \"text-align: right;\">8</td><td style = \"text-align: right;\">0.782203</td></tr><tr><td class = \"rowNumber\" style = \"font-weight: bold; text-align: right;\">6</td><td style = \"text-align: left;\">l</td><td style = \"text-align: right;\">0.171912</td><td style = \"text-align: right;\">8</td><td style = \"text-align: right;\">0.732828</td></tr><tr><td class = \"rowNumber\" style = \"font-weight: bold; text-align: right;\">7</td><td style = \"text-align: left;\">l</td><td style = \"text-align: right;\">0.171912</td><td style = \"text-align: right;\">8</td><td style = \"text-align: right;\">0.67292</td></tr><tr><td class = \"rowNumber\" style = \"font-weight: bold; text-align: right;\">8</td><td style = \"text-align: left;\">l</td><td style = \"text-align: right;\">0.171912</td><td style = \"text-align: right;\">8</td><td style = \"text-align: right;\">0.057573</td></tr><tr><td class = \"rowNumber\" style = \"font-weight: bold; text-align: right;\">9</td><td style = \"text-align: left;\">l</td><td style = \"text-align: right;\">0.85424</td><td style = \"text-align: right;\">8</td><td style = \"text-align: right;\">0.782203</td></tr><tr><td class = \"rowNumber\" style = \"font-weight: bold; text-align: right;\">10</td><td style = \"text-align: left;\">l</td><td style = \"text-align: right;\">0.85424</td><td style = \"text-align: right;\">8</td><td style = \"text-align: right;\">0.732828</td></tr></tbody></table></div>"
      ],
      "text/latex": [
       "\\begin{tabular}{r|cccc}\n",
       "\t& a & b & c & d\\\\\n",
       "\t\\hline\n",
       "\t& Char & Float64 & Int64 & Float64?\\\\\n",
       "\t\\hline\n",
       "\t1 & l & 0.443905 & 8 & 0.782203 \\\\\n",
       "\t2 & l & 0.443905 & 8 & 0.732828 \\\\\n",
       "\t3 & l & 0.443905 & 8 & 0.67292 \\\\\n",
       "\t4 & l & 0.443905 & 8 & 0.057573 \\\\\n",
       "\t5 & l & 0.171912 & 8 & 0.782203 \\\\\n",
       "\t6 & l & 0.171912 & 8 & 0.732828 \\\\\n",
       "\t7 & l & 0.171912 & 8 & 0.67292 \\\\\n",
       "\t8 & l & 0.171912 & 8 & 0.057573 \\\\\n",
       "\t9 & l & 0.85424 & 8 & 0.782203 \\\\\n",
       "\t10 & l & 0.85424 & 8 & 0.732828 \\\\\n",
       "\\end{tabular}\n"
      ],
      "text/plain": [
       "\u001b[1m10×4 DataFrame\u001b[0m\n",
       "\u001b[1m Row \u001b[0m│\u001b[1m a    \u001b[0m\u001b[1m b        \u001b[0m\u001b[1m c     \u001b[0m\u001b[1m d        \u001b[0m\n",
       "     │\u001b[90m Char \u001b[0m\u001b[90m Float64  \u001b[0m\u001b[90m Int64 \u001b[0m\u001b[90m Float64? \u001b[0m\n",
       "─────┼─────────────────────────────────\n",
       "   1 │ l     0.443905      8  0.782203\n",
       "   2 │ l     0.443905      8  0.732828\n",
       "   3 │ l     0.443905      8  0.67292\n",
       "   4 │ l     0.443905      8  0.057573\n",
       "   5 │ l     0.171912      8  0.782203\n",
       "   6 │ l     0.171912      8  0.732828\n",
       "   7 │ l     0.171912      8  0.67292\n",
       "   8 │ l     0.171912      8  0.057573\n",
       "   9 │ l     0.85424       8  0.782203\n",
       "  10 │ l     0.85424       8  0.732828"
      ]
     },
     "metadata": {},
     "output_type": "display_data"
    }
   ],
   "source": [
    "dt4 = leftjoin(dt3, DataFrame(a=rand('a':'z', 100), d=rand(100)), on=:a)\n",
    "first(fetch(dt4), 10)"
   ]
  },
  {
   "cell_type": "markdown",
   "metadata": {},
   "source": [
    "You'll notice that you need to call `fetch` to get a `DataFrame` or other non-`DTable` object back - this is quite similar to the `DArray` and the same idea as Dagger tasks. Additionally, we can also look at the `DTable`'s internals to confirm that, like the `DArray`, it's basically just a container around a bunch of Dagger tasks:"
   ]
  },
  {
   "cell_type": "code",
   "execution_count": 42,
   "metadata": {},
   "outputs": [
    {
     "data": {
      "text/plain": [
       "39-element Vector{Union{Dagger.EagerThunk, Dagger.Chunk}}:\n",
       " EagerThunk (finished)\n",
       " EagerThunk (finished)\n",
       " EagerThunk (finished)\n",
       " EagerThunk (finished)\n",
       " EagerThunk (finished)\n",
       " EagerThunk (finished)\n",
       " EagerThunk (finished)\n",
       " EagerThunk (finished)\n",
       " EagerThunk (finished)\n",
       " EagerThunk (finished)\n",
       " ⋮\n",
       " EagerThunk (finished)\n",
       " EagerThunk (finished)\n",
       " EagerThunk (finished)\n",
       " EagerThunk (finished)\n",
       " EagerThunk (finished)\n",
       " EagerThunk (finished)\n",
       " EagerThunk (finished)\n",
       " EagerThunk (finished)\n",
       " EagerThunk (finished)"
      ]
     },
     "metadata": {},
     "output_type": "display_data"
    }
   ],
   "source": [
    "dt4.chunks"
   ]
  },
  {
   "cell_type": "code",
   "execution_count": 43,
   "metadata": {},
   "outputs": [
    {
     "data": {
      "text/html": [
       "<div><div style = \"float: left;\"><span>4491×4 DataFrame</span></div><div style = \"float: right;\"><span style = \"font-style: italic;\">4466 rows omitted</span></div><div style = \"clear: both;\"></div></div><div class = \"data-frame\" style = \"overflow-x: scroll;\"><table class = \"data-frame\" style = \"margin-bottom: 6px;\"><thead><tr class = \"header\"><th class = \"rowNumber\" style = \"font-weight: bold; text-align: right;\">Row</th><th style = \"text-align: left;\">a</th><th style = \"text-align: left;\">b</th><th style = \"text-align: left;\">c</th><th style = \"text-align: left;\">d</th></tr><tr class = \"subheader headerLastRow\"><th class = \"rowNumber\" style = \"font-weight: bold; text-align: right;\"></th><th title = \"Char\" style = \"text-align: left;\">Char</th><th title = \"Float64\" style = \"text-align: left;\">Float64</th><th title = \"Int64\" style = \"text-align: left;\">Int64</th><th title = \"Union{Missing, Float64}\" style = \"text-align: left;\">Float64?</th></tr></thead><tbody><tr><td class = \"rowNumber\" style = \"font-weight: bold; text-align: right;\">1</td><td style = \"text-align: left;\">n</td><td style = \"text-align: right;\">0.853733</td><td style = \"text-align: right;\">8</td><td style = \"text-align: right;\">0.632694</td></tr><tr><td class = \"rowNumber\" style = \"font-weight: bold; text-align: right;\">2</td><td style = \"text-align: left;\">n</td><td style = \"text-align: right;\">0.853733</td><td style = \"text-align: right;\">8</td><td style = \"text-align: right;\">0.455454</td></tr><tr><td class = \"rowNumber\" style = \"font-weight: bold; text-align: right;\">3</td><td style = \"text-align: left;\">n</td><td style = \"text-align: right;\">0.853733</td><td style = \"text-align: right;\">8</td><td style = \"text-align: right;\">0.833754</td></tr><tr><td class = \"rowNumber\" style = \"font-weight: bold; text-align: right;\">4</td><td style = \"text-align: left;\">n</td><td style = \"text-align: right;\">0.853733</td><td style = \"text-align: right;\">8</td><td style = \"text-align: right;\">0.151643</td></tr><tr><td class = \"rowNumber\" style = \"font-weight: bold; text-align: right;\">5</td><td style = \"text-align: left;\">n</td><td style = \"text-align: right;\">0.808339</td><td style = \"text-align: right;\">8</td><td style = \"text-align: right;\">0.632694</td></tr><tr><td class = \"rowNumber\" style = \"font-weight: bold; text-align: right;\">6</td><td style = \"text-align: left;\">n</td><td style = \"text-align: right;\">0.808339</td><td style = \"text-align: right;\">8</td><td style = \"text-align: right;\">0.455454</td></tr><tr><td class = \"rowNumber\" style = \"font-weight: bold; text-align: right;\">7</td><td style = \"text-align: left;\">n</td><td style = \"text-align: right;\">0.808339</td><td style = \"text-align: right;\">8</td><td style = \"text-align: right;\">0.833754</td></tr><tr><td class = \"rowNumber\" style = \"font-weight: bold; text-align: right;\">8</td><td style = \"text-align: left;\">n</td><td style = \"text-align: right;\">0.808339</td><td style = \"text-align: right;\">8</td><td style = \"text-align: right;\">0.151643</td></tr><tr><td class = \"rowNumber\" style = \"font-weight: bold; text-align: right;\">9</td><td style = \"text-align: left;\">n</td><td style = \"text-align: right;\">0.932381</td><td style = \"text-align: right;\">8</td><td style = \"text-align: right;\">0.632694</td></tr><tr><td class = \"rowNumber\" style = \"font-weight: bold; text-align: right;\">10</td><td style = \"text-align: left;\">n</td><td style = \"text-align: right;\">0.932381</td><td style = \"text-align: right;\">8</td><td style = \"text-align: right;\">0.455454</td></tr><tr><td class = \"rowNumber\" style = \"font-weight: bold; text-align: right;\">11</td><td style = \"text-align: left;\">n</td><td style = \"text-align: right;\">0.932381</td><td style = \"text-align: right;\">8</td><td style = \"text-align: right;\">0.833754</td></tr><tr><td class = \"rowNumber\" style = \"font-weight: bold; text-align: right;\">12</td><td style = \"text-align: left;\">n</td><td style = \"text-align: right;\">0.932381</td><td style = \"text-align: right;\">8</td><td style = \"text-align: right;\">0.151643</td></tr><tr><td class = \"rowNumber\" style = \"font-weight: bold; text-align: right;\">13</td><td style = \"text-align: left;\">n</td><td style = \"text-align: right;\">0.929178</td><td style = \"text-align: right;\">8</td><td style = \"text-align: right;\">0.632694</td></tr><tr><td style = \"text-align: right;\">&vellip;</td><td style = \"text-align: right;\">&vellip;</td><td style = \"text-align: right;\">&vellip;</td><td style = \"text-align: right;\">&vellip;</td><td style = \"text-align: right;\">&vellip;</td></tr><tr><td class = \"rowNumber\" style = \"font-weight: bold; text-align: right;\">4480</td><td style = \"text-align: left;\">m</td><td style = \"text-align: right;\">0.251483</td><td style = \"text-align: right;\">6</td><td style = \"text-align: right;\">0.105275</td></tr><tr><td class = \"rowNumber\" style = \"font-weight: bold; text-align: right;\">4481</td><td style = \"text-align: left;\">m</td><td style = \"text-align: right;\">0.251483</td><td style = \"text-align: right;\">6</td><td style = \"text-align: right;\">0.752837</td></tr><tr><td class = \"rowNumber\" style = \"font-weight: bold; text-align: right;\">4482</td><td style = \"text-align: left;\">m</td><td style = \"text-align: right;\">0.251483</td><td style = \"text-align: right;\">6</td><td style = \"text-align: right;\">0.0454515</td></tr><tr><td class = \"rowNumber\" style = \"font-weight: bold; text-align: right;\">4483</td><td style = \"text-align: left;\">m</td><td style = \"text-align: right;\">0.251483</td><td style = \"text-align: right;\">6</td><td style = \"text-align: right;\">0.0819373</td></tr><tr><td class = \"rowNumber\" style = \"font-weight: bold; text-align: right;\">4484</td><td style = \"text-align: left;\">m</td><td style = \"text-align: right;\">0.251483</td><td style = \"text-align: right;\">6</td><td style = \"text-align: right;\">0.338331</td></tr><tr><td class = \"rowNumber\" style = \"font-weight: bold; text-align: right;\">4485</td><td style = \"text-align: left;\">m</td><td style = \"text-align: right;\">0.251483</td><td style = \"text-align: right;\">6</td><td style = \"text-align: right;\">0.25763</td></tr><tr><td class = \"rowNumber\" style = \"font-weight: bold; text-align: right;\">4486</td><td style = \"text-align: left;\">m</td><td style = \"text-align: right;\">0.971063</td><td style = \"text-align: right;\">6</td><td style = \"text-align: right;\">0.105275</td></tr><tr><td class = \"rowNumber\" style = \"font-weight: bold; text-align: right;\">4487</td><td style = \"text-align: left;\">m</td><td style = \"text-align: right;\">0.971063</td><td style = \"text-align: right;\">6</td><td style = \"text-align: right;\">0.752837</td></tr><tr><td class = \"rowNumber\" style = \"font-weight: bold; text-align: right;\">4488</td><td style = \"text-align: left;\">m</td><td style = \"text-align: right;\">0.971063</td><td style = \"text-align: right;\">6</td><td style = \"text-align: right;\">0.0454515</td></tr><tr><td class = \"rowNumber\" style = \"font-weight: bold; text-align: right;\">4489</td><td style = \"text-align: left;\">m</td><td style = \"text-align: right;\">0.971063</td><td style = \"text-align: right;\">6</td><td style = \"text-align: right;\">0.0819373</td></tr><tr><td class = \"rowNumber\" style = \"font-weight: bold; text-align: right;\">4490</td><td style = \"text-align: left;\">m</td><td style = \"text-align: right;\">0.971063</td><td style = \"text-align: right;\">6</td><td style = \"text-align: right;\">0.338331</td></tr><tr><td class = \"rowNumber\" style = \"font-weight: bold; text-align: right;\">4491</td><td style = \"text-align: left;\">m</td><td style = \"text-align: right;\">0.971063</td><td style = \"text-align: right;\">6</td><td style = \"text-align: right;\">0.25763</td></tr></tbody></table></div>"
      ],
      "text/latex": [
       "\\begin{tabular}{r|cccc}\n",
       "\t& a & b & c & d\\\\\n",
       "\t\\hline\n",
       "\t& Char & Float64 & Int64 & Float64?\\\\\n",
       "\t\\hline\n",
       "\t1 & n & 0.853733 & 8 & 0.632694 \\\\\n",
       "\t2 & n & 0.853733 & 8 & 0.455454 \\\\\n",
       "\t3 & n & 0.853733 & 8 & 0.833754 \\\\\n",
       "\t4 & n & 0.853733 & 8 & 0.151643 \\\\\n",
       "\t5 & n & 0.808339 & 8 & 0.632694 \\\\\n",
       "\t6 & n & 0.808339 & 8 & 0.455454 \\\\\n",
       "\t7 & n & 0.808339 & 8 & 0.833754 \\\\\n",
       "\t8 & n & 0.808339 & 8 & 0.151643 \\\\\n",
       "\t9 & n & 0.932381 & 8 & 0.632694 \\\\\n",
       "\t10 & n & 0.932381 & 8 & 0.455454 \\\\\n",
       "\t11 & n & 0.932381 & 8 & 0.833754 \\\\\n",
       "\t12 & n & 0.932381 & 8 & 0.151643 \\\\\n",
       "\t13 & n & 0.929178 & 8 & 0.632694 \\\\\n",
       "\t14 & n & 0.929178 & 8 & 0.455454 \\\\\n",
       "\t15 & n & 0.929178 & 8 & 0.833754 \\\\\n",
       "\t16 & n & 0.929178 & 8 & 0.151643 \\\\\n",
       "\t17 & n & 0.348571 & 8 & 0.632694 \\\\\n",
       "\t18 & n & 0.348571 & 8 & 0.455454 \\\\\n",
       "\t19 & n & 0.348571 & 8 & 0.833754 \\\\\n",
       "\t20 & n & 0.348571 & 8 & 0.151643 \\\\\n",
       "\t21 & n & 0.950328 & 8 & 0.632694 \\\\\n",
       "\t22 & n & 0.950328 & 8 & 0.455454 \\\\\n",
       "\t23 & n & 0.950328 & 8 & 0.833754 \\\\\n",
       "\t24 & n & 0.950328 & 8 & 0.151643 \\\\\n",
       "\t$\\dots$ & $\\dots$ & $\\dots$ & $\\dots$ & $\\dots$ \\\\\n",
       "\\end{tabular}\n"
      ],
      "text/plain": [
       "\u001b[1m4491×4 DataFrame\u001b[0m\n",
       "\u001b[1m  Row \u001b[0m│\u001b[1m a    \u001b[0m\u001b[1m b        \u001b[0m\u001b[1m c     \u001b[0m\u001b[1m d         \u001b[0m\n",
       "      │\u001b[90m Char \u001b[0m\u001b[90m Float64  \u001b[0m\u001b[90m Int64 \u001b[0m\u001b[90m Float64?  \u001b[0m\n",
       "──────┼──────────────────────────────────\n",
       "    1 │ n     0.853733      8  0.632694\n",
       "    2 │ n     0.853733      8  0.455454\n",
       "    3 │ n     0.853733      8  0.833754\n",
       "    4 │ n     0.853733      8  0.151643\n",
       "    5 │ n     0.808339      8  0.632694\n",
       "    6 │ n     0.808339      8  0.455454\n",
       "    7 │ n     0.808339      8  0.833754\n",
       "    8 │ n     0.808339      8  0.151643\n",
       "  ⋮   │  ⋮       ⋮        ⋮        ⋮\n",
       " 4485 │ m     0.251483      6  0.25763\n",
       " 4486 │ m     0.971063      6  0.105275\n",
       " 4487 │ m     0.971063      6  0.752837\n",
       " 4488 │ m     0.971063      6  0.0454515\n",
       " 4489 │ m     0.971063      6  0.0819373\n",
       " 4490 │ m     0.971063      6  0.338331\n",
       " 4491 │ m     0.971063      6  0.25763\n",
       "\u001b[36m                        4476 rows omitted\u001b[0m"
      ]
     },
     "metadata": {},
     "output_type": "display_data"
    }
   ],
   "source": [
    "fetch(dt4.chunks[4])"
   ]
  },
  {
   "cell_type": "markdown",
   "metadata": {},
   "source": [
    "## Addendum\n",
    "\n",
    "Dagger is a powerful toolkit for parallel programming, with a variety of useful APIs for doing useful computations and analyses, and which integrate nicely with Julia's large and growing ecosystem. However, there are definitely some areas that are a work in progress that I wanted to mention before we wrap up:\n",
    "- The `DArray` and `DTable` are missing some useful operators, especially linear algebra (for the `DArray`) and sorting and aggregation functions (for the `DTable`)\n",
    "- Dagger typically uses more memory than hand-rolled solutions\n",
    "- Dagger is missing support for in-place (imperative) operations\n",
    "\n",
    "All of these are on the Todo list for the next few months, and should be significantly improved as more contributions to Dagger and friends are made by maintainers and contributors."
   ]
  },
  {
   "cell_type": "markdown",
   "metadata": {},
   "source": []
  }
 ],
 "metadata": {
  "kernelspec": {
   "display_name": "Julia 1.10.0",
   "language": "julia",
   "name": "julia-1.10"
  },
  "language_info": {
   "file_extension": ".jl",
   "mimetype": "application/julia",
   "name": "julia",
   "version": "1.10.0"
  }
 },
 "nbformat": 4,
 "nbformat_minor": 5
}
