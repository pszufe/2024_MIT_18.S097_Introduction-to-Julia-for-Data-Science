{
 "cells": [
  {
   "cell_type": "markdown",
   "id": "e4e18dfa",
   "metadata": {},
   "source": [
    "# Scaling computations using parallel computing\n",
    "\n",
    "## Przemysław Szufel\n",
    "\n",
    "<a class=\"anchor\" id=\"toc\"></a>\n",
    "## Table of content\n",
    "  \n",
    "\n",
    "1. [Multithreading](#multithreading)\n",
    "2. [Green threading](#green)\n",
    "3. [Multi-processing and distributed computing](#multiprocessing)\n",
    "4. [(background material) Parallelize via Single Instruction Multiple Data (SIMD)](#simd)"
   ]
  },
  {
   "cell_type": "markdown",
   "id": "73dedff3-ed99-4fc7-9c08-f707e54c284c",
   "metadata": {},
   "source": [
    "Before running Jupyter notebook set in Julia number of threads.\n",
    "This should be done *before* actually running the `notebook()` command.\n",
    "The number of threads can be also set up in Julia options in Visual Studio code (if this is used to run this notebook).\n",
    "```\n",
    "# run this code from Julia console just before starting Jupyter Notebook\n",
    "ENV[\"JULIA_NUM_THREADS\"]=4\n",
    "```"
   ]
  },
  {
   "cell_type": "code",
   "execution_count": 1,
   "id": "68b0836a",
   "metadata": {},
   "outputs": [
    {
     "name": "stdout",
     "output_type": "stream",
     "text": [
      "Number of threads that your Julia is run: ## 4\n"
     ]
    }
   ],
   "source": [
    "println(\"Number of threads that your Julia is run: ## $(Threads.nthreads())\")"
   ]
  },
  {
   "cell_type": "code",
   "execution_count": 2,
   "id": "4aa1aaf0",
   "metadata": {},
   "outputs": [],
   "source": [
    "using BenchmarkTools, Distributed"
   ]
  },
  {
   "cell_type": "markdown",
   "id": "e0561254",
   "metadata": {},
   "source": [
    "<a class=\"anchor\" id=\"multithreading\"></a>\n",
    "### Multithreading\n",
    "---- [Return to table of contents](#toc) ---\n"
   ]
  },
  {
   "cell_type": "code",
   "execution_count": 3,
   "id": "a2e3cdd9",
   "metadata": {},
   "outputs": [
    {
     "data": {
      "text/plain": [
       "4"
      ]
     },
     "execution_count": 3,
     "metadata": {},
     "output_type": "execute_result"
    }
   ],
   "source": [
    "Threads.nthreads()"
   ]
  },
  {
   "cell_type": "code",
   "execution_count": 4,
   "id": "61e1d1d1",
   "metadata": {},
   "outputs": [
    {
     "data": {
      "text/plain": [
       "ssum (generic function with 1 method)"
      ]
     },
     "execution_count": 4,
     "metadata": {},
     "output_type": "execute_result"
    }
   ],
   "source": [
    "function ssum(x)\n",
    "    r, c = size(x)\n",
    "    y = zeros(c)\n",
    "    for i in 1:c\n",
    "        for j in 1:r\n",
    "            @inbounds y[i] += x[j, i]\n",
    "        end\n",
    "    end\n",
    "    y\n",
    "end"
   ]
  },
  {
   "cell_type": "code",
   "execution_count": 5,
   "id": "e2a4a2e8",
   "metadata": {},
   "outputs": [
    {
     "data": {
      "text/plain": [
       "tsum (generic function with 1 method)"
      ]
     },
     "execution_count": 5,
     "metadata": {},
     "output_type": "execute_result"
    }
   ],
   "source": [
    "function tsum(x)\n",
    "    r, c = size(x)\n",
    "    y = zeros(c)\n",
    "    Threads.@threads for i in 1:c\n",
    "        for j in 1:r\n",
    "            @inbounds y[i] += x[j, i]\n",
    "        end\n",
    "    end\n",
    "    y\n",
    "end\n"
   ]
  },
  {
   "cell_type": "code",
   "execution_count": 6,
   "id": "2e4ebef5",
   "metadata": {},
   "outputs": [],
   "source": [
    "x = rand(1000,10000);"
   ]
  },
  {
   "cell_type": "code",
   "execution_count": 7,
   "id": "55526866",
   "metadata": {},
   "outputs": [
    {
     "name": "stdout",
     "output_type": "stream",
     "text": [
      "  0.031636 seconds (12.63 k allocations: 955.258 KiB, 58.72% compilation time)\n",
      "  0.012530 seconds (2 allocations: 78.172 KiB)\n"
     ]
    }
   ],
   "source": [
    "@time ssum(x)\n",
    "@time ssum(x);"
   ]
  },
  {
   "cell_type": "code",
   "execution_count": 8,
   "id": "eed39ed8",
   "metadata": {},
   "outputs": [
    {
     "name": "stdout",
     "output_type": "stream",
     "text": [
      "  0.113835 seconds (44.38 k allocations: 3.116 MiB, 163.19% compilation time)\n",
      "  0.004611 seconds (25 allocations: 80.969 KiB)\n"
     ]
    }
   ],
   "source": [
    "@time tsum(x)\n",
    "@time tsum(x);"
   ]
  },
  {
   "cell_type": "markdown",
   "id": "52d9f2a7",
   "metadata": {},
   "source": [
    "#### Locking mechanism for threads"
   ]
  },
  {
   "cell_type": "code",
   "execution_count": 9,
   "id": "5894cc29",
   "metadata": {},
   "outputs": [
    {
     "data": {
      "text/plain": [
       "f_bad (generic function with 1 method)"
      ]
     },
     "execution_count": 9,
     "metadata": {},
     "output_type": "execute_result"
    }
   ],
   "source": [
    "function f_bad()\n",
    "    x = 0\n",
    "    Threads.@threads for i in 1:10^6\n",
    "        x += 1\n",
    "    end\n",
    "    return x\n",
    "end\n"
   ]
  },
  {
   "cell_type": "code",
   "execution_count": 10,
   "id": "a5ed2555",
   "metadata": {},
   "outputs": [
    {
     "data": {
      "text/plain": [
       "250390"
      ]
     },
     "execution_count": 10,
     "metadata": {},
     "output_type": "execute_result"
    }
   ],
   "source": [
    "f_bad()"
   ]
  },
  {
   "cell_type": "code",
   "execution_count": 11,
   "id": "de164cd7",
   "metadata": {},
   "outputs": [
    {
     "name": "stdout",
     "output_type": "stream",
     "text": [
      "  1.400 ns (0 allocations: 0 bytes)\n"
     ]
    },
    {
     "data": {
      "text/plain": [
       "1000000"
      ]
     },
     "execution_count": 11,
     "metadata": {},
     "output_type": "execute_result"
    }
   ],
   "source": [
    "function f_add()\n",
    "    x = 0 \n",
    "    for i in 1:10^6\n",
    "        x += 1\n",
    "    end\n",
    "    x\n",
    "end\n",
    "@btime f_add()\n",
    "    "
   ]
  },
  {
   "cell_type": "code",
   "execution_count": 12,
   "id": "eeb97516",
   "metadata": {},
   "outputs": [
    {
     "data": {
      "text/plain": [
       "1000000"
      ]
     },
     "execution_count": 12,
     "metadata": {},
     "output_type": "execute_result"
    }
   ],
   "source": [
    "function f_atomic()\n",
    "    x = Threads.Atomic{Int}(0)\n",
    "    Threads.@threads for i in 1:10^6\n",
    "        Threads.atomic_add!(x, 1)\n",
    "    end\n",
    "    return x[]\n",
    "end\n",
    "f_atomic()"
   ]
  },
  {
   "cell_type": "code",
   "execution_count": 13,
   "id": "d5359fcc",
   "metadata": {},
   "outputs": [
    {
     "data": {
      "text/plain": [
       "f_reentrant (generic function with 1 method)"
      ]
     },
     "execution_count": 13,
     "metadata": {},
     "output_type": "execute_result"
    }
   ],
   "source": [
    "function f_spin()\n",
    "    l = Threads.SpinLock()\n",
    "    x = 0\n",
    "    Threads.@threads for i in 1:10^6\n",
    "        Threads.lock(l) do\n",
    "            x += 1\n",
    "        end\n",
    "    end\n",
    "    return x\n",
    "end\n",
    "\n",
    "function f_reentrant()\n",
    "    l = ReentrantLock()\n",
    "    x = 0\n",
    "    Threads.@threads for i in 1:10^6\n",
    "        Threads.lock(l) do\n",
    "            x += 1\n",
    "        end\n",
    "    end\n",
    "    return x\n",
    "end\n"
   ]
  },
  {
   "cell_type": "code",
   "execution_count": 14,
   "id": "6c969c44",
   "metadata": {},
   "outputs": [
    {
     "name": "stdout",
     "output_type": "stream",
     "text": [
      "\u001b[1m8×4 DataFrame\u001b[0m\n",
      "\u001b[1m Row \u001b[0m│\u001b[1m f           \u001b[0m\u001b[1m i     \u001b[0m\u001b[1m value   \u001b[0m\u001b[1m timems   \u001b[0m\n",
      "     │\u001b[90m String      \u001b[0m\u001b[90m Int64 \u001b[0m\u001b[90m Int64   \u001b[0m\u001b[90m Float64  \u001b[0m\n",
      "─────┼───────────────────────────────────────\n",
      "   1 │ f_bad            1   250787   42.907\n",
      "   2 │ f_bad            2   251553   46.4362\n",
      "   3 │ f_atomic         1  1000000   17.8701\n",
      "   4 │ f_atomic         2  1000000   16.6961\n",
      "   5 │ f_spin           1  1000000  388.594\n",
      "   6 │ f_spin           2  1000000  333.608\n",
      "   7 │ f_reentrant      1  1000000  448.225\n",
      "   8 │ f_reentrant      2  1000000  402.902\n"
     ]
    }
   ],
   "source": [
    "using DataFrames\n",
    "stats = DataFrame()\n",
    "for f in [f_bad, f_atomic, f_spin, f_reentrant]\n",
    "    for i = 1:2\n",
    "        value, elapsedtime  = @timed f()\n",
    "        push!(stats, (f=string(f),i=i, value=value, timems=elapsedtime*1000))\n",
    "    end\n",
    "end\n",
    "println(stats)\n"
   ]
  },
  {
   "cell_type": "markdown",
   "id": "a78a5296-8b54-475c-b5f2-9537ad26e663",
   "metadata": {},
   "source": [
    "<a class=\"anchor\" id=\"green\"></a>\n",
    "### Green threading \n",
    "---- [Return to table of contents](#toc) ---\n"
   ]
  },
  {
   "cell_type": "code",
   "execution_count": 15,
   "id": "f7da7625",
   "metadata": {},
   "outputs": [
    {
     "name": "stdout",
     "output_type": "stream",
     "text": [
      "  2.011078 seconds (44 allocations: 1.297 KiB)\n"
     ]
    }
   ],
   "source": [
    "@time sleep(2)"
   ]
  },
  {
   "cell_type": "code",
   "execution_count": 16,
   "id": "fe3275b2",
   "metadata": {
    "scrolled": true
   },
   "outputs": [
    {
     "name": "stdout",
     "output_type": "stream",
     "text": [
      "  0.011966 seconds (2.80 k allocations: 201.922 KiB, 99.21% compilation time)\n"
     ]
    },
    {
     "data": {
      "text/plain": [
       "Task (runnable) @0x000001d30fca4f90"
      ]
     },
     "execution_count": 16,
     "metadata": {},
     "output_type": "execute_result"
    }
   ],
   "source": [
    "@time t = @async sleep(4)"
   ]
  },
  {
   "cell_type": "code",
   "execution_count": 17,
   "id": "011d996d",
   "metadata": {},
   "outputs": [
    {
     "data": {
      "text/plain": [
       "Task (runnable) @0x000001d30fca4f90"
      ]
     },
     "execution_count": 17,
     "metadata": {},
     "output_type": "execute_result"
    }
   ],
   "source": [
    "t"
   ]
  },
  {
   "cell_type": "code",
   "execution_count": 18,
   "id": "572b606b",
   "metadata": {},
   "outputs": [
    {
     "data": {
      "text/plain": [
       "dojob (generic function with 1 method)"
      ]
     },
     "execution_count": 18,
     "metadata": {},
     "output_type": "execute_result"
    }
   ],
   "source": [
    "function dojob(i)\n",
    "    val = round(rand(), digits=2)\n",
    "    sleep(val)   # this could be external computations with I/O\n",
    "    i, val\n",
    "end"
   ]
  },
  {
   "cell_type": "code",
   "execution_count": 19,
   "id": "6c96c8d7",
   "metadata": {},
   "outputs": [
    {
     "data": {
      "text/plain": [
       "8-element Vector{Tuple{Int64, Float64}}:\n",
       " (2319971979218726962, 5.07178135319088e-86)\n",
       " (8101253776241144114, 1.8159689052051526e-152)\n",
       " (11172911606132, 0.0)\n",
       " (0, 0.0)\n",
       " (0, 0.0)\n",
       " (0, 0.0)\n",
       " (0, 0.0)\n",
       " (0, 0.0)"
      ]
     },
     "execution_count": 19,
     "metadata": {},
     "output_type": "execute_result"
    }
   ],
   "source": [
    "result = Vector{Tuple{Int,Float64}}(undef, 8)"
   ]
  },
  {
   "cell_type": "code",
   "execution_count": 20,
   "id": "e127dc06",
   "metadata": {},
   "outputs": [
    {
     "name": "stdout",
     "output_type": "stream",
     "text": [
      "  2.884699 seconds (641 allocations: 41.672 KiB, 0.40% compilation time)\n"
     ]
    },
    {
     "data": {
      "text/plain": [
       "8-element Vector{Tuple{Int64, Float64}}:\n",
       " (1, 1.0)\n",
       " (2, 0.04)\n",
       " (3, 0.31)\n",
       " (4, 0.1)\n",
       " (5, 0.69)\n",
       " (6, 0.08)\n",
       " (7, 0.06)\n",
       " (8, 0.51)"
      ]
     },
     "execution_count": 20,
     "metadata": {},
     "output_type": "execute_result"
    }
   ],
   "source": [
    "@time for i=1:8\n",
    "    result[i] = dojob(i)\n",
    "end\n",
    "result"
   ]
  },
  {
   "cell_type": "code",
   "execution_count": 21,
   "id": "3bf5cf64",
   "metadata": {
    "scrolled": true
   },
   "outputs": [
    {
     "name": "stdout",
     "output_type": "stream",
     "text": [
      "  0.000082 seconds (81 allocations: 7.055 KiB)\n"
     ]
    },
    {
     "data": {
      "text/plain": [
       "8-element Vector{Tuple{Int64, Float64}}:\n",
       " (2, 5.0e-324)\n",
       " (1, 0.0)\n",
       " (2, 5.0e-324)\n",
       " (1, 5.0e-324)\n",
       " (0, 0.0)\n",
       " (2, 5.0e-324)\n",
       " (1, 0.0)\n",
       " (0, 0.0)"
      ]
     },
     "execution_count": 21,
     "metadata": {},
     "output_type": "execute_result"
    }
   ],
   "source": [
    "result = Vector{Tuple{Int,Float64}}(undef, 8);\n",
    "@time for i=1:8\n",
    "   @async result[i] = dojob(i)\n",
    "end\n",
    "result"
   ]
  },
  {
   "cell_type": "code",
   "execution_count": 22,
   "id": "6bc95ae6",
   "metadata": {},
   "outputs": [
    {
     "name": "stdout",
     "output_type": "stream",
     "text": [
      "  0.968239 seconds (1.81 k allocations: 97.492 KiB, 3.53% compilation time)\n"
     ]
    },
    {
     "data": {
      "text/plain": [
       "8-element Vector{Tuple{Int64, Float64}}:\n",
       " (1, 0.91)\n",
       " (2, 0.54)\n",
       " (3, 0.81)\n",
       " (4, 0.84)\n",
       " (5, 0.92)\n",
       " (6, 0.54)\n",
       " (7, 0.81)\n",
       " (8, 0.6)"
      ]
     },
     "execution_count": 22,
     "metadata": {},
     "output_type": "execute_result"
    }
   ],
   "source": [
    "result = Vector{Tuple{Int,Float64}}(undef, 8);\n",
    "@time @sync for i=1:8\n",
    "   @async result[i] = dojob(i)\n",
    "end\n",
    "result"
   ]
  },
  {
   "cell_type": "markdown",
   "id": "2846c599",
   "metadata": {},
   "source": [
    "<a class=\"anchor\" id=\"multiprocessing\"></a>\n",
    "### Multi-processing and distributed computing\n",
    "---- [Return to table of contents](#toc) ---\n"
   ]
  },
  {
   "cell_type": "code",
   "execution_count": 23,
   "id": "b9e7cf7d",
   "metadata": {},
   "outputs": [],
   "source": [
    "using Distributed"
   ]
  },
  {
   "cell_type": "markdown",
   "id": "caf3b10c",
   "metadata": {},
   "source": [
    "This code adds 4 workers (and avoids adding more)"
   ]
  },
  {
   "cell_type": "code",
   "execution_count": 24,
   "id": "e0626f59",
   "metadata": {},
   "outputs": [],
   "source": [
    "addprocs(max(0, 5-nprocs()));"
   ]
  },
  {
   "cell_type": "code",
   "execution_count": 25,
   "id": "99b678b4",
   "metadata": {
    "scrolled": true
   },
   "outputs": [
    {
     "data": {
      "text/plain": [
       "4-element Vector{Int64}:\n",
       " 2\n",
       " 3\n",
       " 4\n",
       " 5"
      ]
     },
     "execution_count": 25,
     "metadata": {},
     "output_type": "execute_result"
    }
   ],
   "source": [
    "workers()"
   ]
  },
  {
   "cell_type": "code",
   "execution_count": 26,
   "id": "f0ffdc87",
   "metadata": {},
   "outputs": [
    {
     "name": "stdout",
     "output_type": "stream",
     "text": [
      "  0.633230 seconds (20.00 k allocations: 763.397 MiB, 14.63% gc time)\n",
      "  0.547106 seconds (20.00 k allocations: 763.397 MiB, 14.88% gc time)\n"
     ]
    },
    {
     "data": {
      "text/plain": [
       "4999.595373024474"
      ]
     },
     "execution_count": 26,
     "metadata": {},
     "output_type": "execute_result"
    }
   ],
   "source": [
    "function s_rand()\n",
    "    n = 10^4\n",
    "    x = 0.0\n",
    "    for i in 1:n\n",
    "        x += sum(rand(10^4))\n",
    "    end\n",
    "    x / n\n",
    "end\n",
    " \n",
    "@time s_rand()\n",
    "@time s_rand()\n"
   ]
  },
  {
   "cell_type": "code",
   "execution_count": 27,
   "id": "84ede908",
   "metadata": {},
   "outputs": [
    {
     "name": "stdout",
     "output_type": "stream",
     "text": [
      "  1.500320 seconds (467.74 k allocations: 31.482 MiB, 41.57% compilation time)\n",
      "  0.178763 seconds (426 allocations: 24.844 KiB)\n"
     ]
    },
    {
     "data": {
      "text/plain": [
       "5000.075405919275"
      ]
     },
     "execution_count": 27,
     "metadata": {},
     "output_type": "execute_result"
    }
   ],
   "source": [
    "using Distributed\n",
    " \n",
    "function p_rand()\n",
    "    n = 10^4\n",
    "    x = @distributed (+) for i in 1:n\n",
    "        # the last line will be aggregated\n",
    "        sum(rand(10^4))\n",
    "    end\n",
    "    x / n\n",
    "end\n",
    "\n",
    "@time p_rand()\n",
    "@time p_rand()\n"
   ]
  },
  {
   "cell_type": "code",
   "execution_count": 28,
   "id": "5fa09611",
   "metadata": {},
   "outputs": [
    {
     "data": {
      "text/plain": [
       "1×4 adjoint(::Vector{Int64}) with eltype Int64:\n",
       " 2  3  4  5"
      ]
     },
     "execution_count": 28,
     "metadata": {},
     "output_type": "execute_result"
    }
   ],
   "source": [
    "workers()'"
   ]
  },
  {
   "cell_type": "code",
   "execution_count": 29,
   "id": "123009f7",
   "metadata": {},
   "outputs": [
    {
     "data": {
      "text/plain": [
       "7"
      ]
     },
     "execution_count": 29,
     "metadata": {},
     "output_type": "execute_result"
    }
   ],
   "source": [
    "fetch(@spawnat 3 4+3)"
   ]
  },
  {
   "cell_type": "code",
   "execution_count": 30,
   "id": "bf74de87",
   "metadata": {
    "scrolled": true
   },
   "outputs": [
    {
     "name": "stdout",
     "output_type": "stream",
     "text": [
      "I am on worker 1\n"
     ]
    },
    {
     "data": {
      "text/plain": [
       "0.8264494355420668"
      ]
     },
     "execution_count": 30,
     "metadata": {},
     "output_type": "execute_result"
    }
   ],
   "source": [
    "function myf() \n",
    "    println(\"I am on worker \", myid())\n",
    "    rand()\n",
    "end\n",
    "myf()"
   ]
  },
  {
   "cell_type": "code",
   "execution_count": 31,
   "id": "e4599a69",
   "metadata": {
    "scrolled": true
   },
   "outputs": [
    {
     "name": "stdout",
     "output_type": "stream",
     "text": [
      "RemoteException(4, CapturedException(UndefVarError(Symbol(\"#myf\")), Any[(deserialize_datatype at Serialization.jl:1399, 1), (handle_deserialize at Serialization.jl:867, 1), (deserialize at Serialization.jl:814, 1), (handle_deserialize at Serialization.jl:874, 1), (deserialize at Serialization.jl:814 [inlined], 1), (deserialize_global_from_main at clusterserialize.jl:160, 1), (#5 at clusterserialize.jl:72 [inlined], 1), (foreach at abstractarray.jl:3094, 1), (deserialize at clusterserialize.jl:72, 1), (handle_deserialize at Serialization.jl:960, 1), (deserialize at Serialization.jl:814, 1), (handle_deserialize at Serialization.jl:871, 1), (deserialize at Serialization.jl:814, 1), (handle_deserialize at Serialization.jl:874, 1), (deserialize at Serialization.jl:814 [inlined], 1), (deserialize_msg at messages.jl:87, 1), (#invokelatest#2 at essentials.jl:887 [inlined], 1), (invokelatest at essentials.jl:884 [inlined], 1), (message_handler_loop at process_messages.jl:176, 1), (process_tcp_streams at process_messages.jl:133, 1), (#103 at process_messages.jl:121, 1)]))\n"
     ]
    }
   ],
   "source": [
    "a = nothing\n",
    "try \n",
    "    fetch(@spawnat 4 myf())\n",
    "catch e\n",
    "    println(e)\n",
    "end"
   ]
  },
  {
   "cell_type": "code",
   "execution_count": 32,
   "id": "b7658d33",
   "metadata": {},
   "outputs": [
    {
     "name": "stdout",
     "output_type": "stream",
     "text": [
      "      From worker 4:\tI am on worker 4\n"
     ]
    },
    {
     "data": {
      "text/plain": [
       "0.8436694643610311"
      ]
     },
     "execution_count": 32,
     "metadata": {},
     "output_type": "execute_result"
    }
   ],
   "source": [
    "@everywhere function myf() \n",
    "    println(\"I am on worker \", myid())\n",
    "    rand()\n",
    "end\n",
    "fetch(@spawnat 4 myf())"
   ]
  },
  {
   "cell_type": "markdown",
   "id": "5d208b0e",
   "metadata": {},
   "source": [
    "#### A typical pattern for setting an intial state across workers"
   ]
  },
  {
   "cell_type": "code",
   "execution_count": 33,
   "id": "f281840e",
   "metadata": {},
   "outputs": [
    {
     "name": "stdout",
     "output_type": "stream",
     "text": [
      "      From worker 2:\t\u001b[32m\u001b[1m  Activating\u001b[22m\u001b[39m new project at `C:\\AAABIBLIOTEKA\\MIT_Boston\\2024_MIT_18.S097_Introduction-to-Julia-for-Data-Science\\Day-4b_Scaling-computations-using-parallel-computing`\n",
      "      From worker 5:\t\u001b[32m\u001b[1m  Activating\u001b[22m\u001b[39m new project at `C:\\AAABIBLIOTEKA\\MIT_Boston\\2024_MIT_18.S097_Introduction-to-Julia-for-Data-Science\\Day-4b_Scaling-computations-using-parallel-computing`\n",
      "      From worker 3:\t\u001b[32m\u001b[1m  Activating\u001b[22m\u001b[39m new project at `C:\\AAABIBLIOTEKA\\MIT_Boston\\2024_MIT_18.S097_Introduction-to-Julia-for-Data-Science\\Day-4b_Scaling-computations-using-parallel-computing`\n",
      "      From worker 4:\t\u001b[32m\u001b[1m  Activating\u001b[22m\u001b[39m new project at `C:\\AAABIBLIOTEKA\\MIT_Boston\\2024_MIT_18.S097_Introduction-to-Julia-for-Data-Science\\Day-4b_Scaling-computations-using-parallel-computing`\n"
     ]
    },
    {
     "name": "stderr",
     "output_type": "stream",
     "text": [
      "\u001b[32m\u001b[1m  Activating\u001b[22m\u001b[39m new project at `C:\\AAABIBLIOTEKA\\MIT_Boston\\2024_MIT_18.S097_Introduction-to-Julia-for-Data-Science\\Day-4b_Scaling-computations-using-parallel-computing`\n"
     ]
    }
   ],
   "source": [
    "using Distributed\n",
    "@everywhere using Pkg\n",
    "@everywhere Pkg.activate(\".\")\n",
    "@everywhere using Distributed, Random, DataFrames\n",
    "\n",
    "@everywhere function calc(x, y)\n",
    "    2x + y\n",
    "end\n",
    "\n",
    "@everywhere function init_worker()    \n",
    "   Random.seed!(myid())\n",
    "    # reading initial data from files or other actions\n",
    "end\n",
    "\n",
    "@sync for wid in workers()\n",
    "    @async fetch(@spawnat wid init_worker())\n",
    "end\n"
   ]
  },
  {
   "cell_type": "markdown",
   "id": "10189162",
   "metadata": {},
   "source": [
    "Typically results are collected to a `DataFrame`"
   ]
  },
  {
   "cell_type": "code",
   "execution_count": 34,
   "id": "c636c081",
   "metadata": {},
   "outputs": [
    {
     "data": {
      "text/html": [
       "<div><div style = \"float: left;\"><span>12×6 DataFrame</span></div><div style = \"clear: both;\"></div></div><div class = \"data-frame\" style = \"overflow-x: scroll;\"><table class = \"data-frame\" style = \"margin-bottom: 6px;\"><thead><tr class = \"header\"><th class = \"rowNumber\" style = \"font-weight: bold; text-align: right;\">Row</th><th style = \"text-align: left;\">i</th><th style = \"text-align: left;\">j</th><th style = \"text-align: left;\">a</th><th style = \"text-align: left;\">b</th><th style = \"text-align: left;\">c</th><th style = \"text-align: left;\">procid</th></tr><tr class = \"subheader headerLastRow\"><th class = \"rowNumber\" style = \"font-weight: bold; text-align: right;\"></th><th title = \"Int64\" style = \"text-align: left;\">Int64</th><th title = \"Int64\" style = \"text-align: left;\">Int64</th><th title = \"Int64\" style = \"text-align: left;\">Int64</th><th title = \"Int64\" style = \"text-align: left;\">Int64</th><th title = \"Int64\" style = \"text-align: left;\">Int64</th><th title = \"Int64\" style = \"text-align: left;\">Int64</th></tr></thead><tbody><tr><td class = \"rowNumber\" style = \"font-weight: bold; text-align: right;\">1</td><td style = \"text-align: right;\">1</td><td style = \"text-align: right;\">1</td><td style = \"text-align: right;\">441</td><td style = \"text-align: right;\">5000</td><td style = \"text-align: right;\">5882</td><td style = \"text-align: right;\">2</td></tr><tr><td class = \"rowNumber\" style = \"font-weight: bold; text-align: right;\">2</td><td style = \"text-align: right;\">2</td><td style = \"text-align: right;\">1</td><td style = \"text-align: right;\">378</td><td style = \"text-align: right;\">7000</td><td style = \"text-align: right;\">7756</td><td style = \"text-align: right;\">2</td></tr><tr><td class = \"rowNumber\" style = \"font-weight: bold; text-align: right;\">3</td><td style = \"text-align: right;\">3</td><td style = \"text-align: right;\">1</td><td style = \"text-align: right;\">476</td><td style = \"text-align: right;\">3000</td><td style = \"text-align: right;\">3952</td><td style = \"text-align: right;\">2</td></tr><tr><td class = \"rowNumber\" style = \"font-weight: bold; text-align: right;\">4</td><td style = \"text-align: right;\">4</td><td style = \"text-align: right;\">1</td><td style = \"text-align: right;\">263</td><td style = \"text-align: right;\">4000</td><td style = \"text-align: right;\">4526</td><td style = \"text-align: right;\">3</td></tr><tr><td class = \"rowNumber\" style = \"font-weight: bold; text-align: right;\">5</td><td style = \"text-align: right;\">1</td><td style = \"text-align: right;\">2</td><td style = \"text-align: right;\">444</td><td style = \"text-align: right;\">6000</td><td style = \"text-align: right;\">6888</td><td style = \"text-align: right;\">3</td></tr><tr><td class = \"rowNumber\" style = \"font-weight: bold; text-align: right;\">6</td><td style = \"text-align: right;\">2</td><td style = \"text-align: right;\">2</td><td style = \"text-align: right;\">269</td><td style = \"text-align: right;\">7000</td><td style = \"text-align: right;\">7538</td><td style = \"text-align: right;\">3</td></tr><tr><td class = \"rowNumber\" style = \"font-weight: bold; text-align: right;\">7</td><td style = \"text-align: right;\">3</td><td style = \"text-align: right;\">2</td><td style = \"text-align: right;\">25</td><td style = \"text-align: right;\">7000</td><td style = \"text-align: right;\">7050</td><td style = \"text-align: right;\">4</td></tr><tr><td class = \"rowNumber\" style = \"font-weight: bold; text-align: right;\">8</td><td style = \"text-align: right;\">4</td><td style = \"text-align: right;\">2</td><td style = \"text-align: right;\">195</td><td style = \"text-align: right;\">9000</td><td style = \"text-align: right;\">9390</td><td style = \"text-align: right;\">4</td></tr><tr><td class = \"rowNumber\" style = \"font-weight: bold; text-align: right;\">9</td><td style = \"text-align: right;\">1</td><td style = \"text-align: right;\">3</td><td style = \"text-align: right;\">151</td><td style = \"text-align: right;\">9000</td><td style = \"text-align: right;\">9302</td><td style = \"text-align: right;\">4</td></tr><tr><td class = \"rowNumber\" style = \"font-weight: bold; text-align: right;\">10</td><td style = \"text-align: right;\">2</td><td style = \"text-align: right;\">3</td><td style = \"text-align: right;\">384</td><td style = \"text-align: right;\">9000</td><td style = \"text-align: right;\">9768</td><td style = \"text-align: right;\">5</td></tr><tr><td class = \"rowNumber\" style = \"font-weight: bold; text-align: right;\">11</td><td style = \"text-align: right;\">3</td><td style = \"text-align: right;\">3</td><td style = \"text-align: right;\">20</td><td style = \"text-align: right;\">5000</td><td style = \"text-align: right;\">5040</td><td style = \"text-align: right;\">5</td></tr><tr><td class = \"rowNumber\" style = \"font-weight: bold; text-align: right;\">12</td><td style = \"text-align: right;\">4</td><td style = \"text-align: right;\">3</td><td style = \"text-align: right;\">52</td><td style = \"text-align: right;\">8000</td><td style = \"text-align: right;\">8104</td><td style = \"text-align: right;\">5</td></tr></tbody></table></div>"
      ],
      "text/latex": [
       "\\begin{tabular}{r|cccccc}\n",
       "\t& i & j & a & b & c & procid\\\\\n",
       "\t\\hline\n",
       "\t& Int64 & Int64 & Int64 & Int64 & Int64 & Int64\\\\\n",
       "\t\\hline\n",
       "\t1 & 1 & 1 & 441 & 5000 & 5882 & 2 \\\\\n",
       "\t2 & 2 & 1 & 378 & 7000 & 7756 & 2 \\\\\n",
       "\t3 & 3 & 1 & 476 & 3000 & 3952 & 2 \\\\\n",
       "\t4 & 4 & 1 & 263 & 4000 & 4526 & 3 \\\\\n",
       "\t5 & 1 & 2 & 444 & 6000 & 6888 & 3 \\\\\n",
       "\t6 & 2 & 2 & 269 & 7000 & 7538 & 3 \\\\\n",
       "\t7 & 3 & 2 & 25 & 7000 & 7050 & 4 \\\\\n",
       "\t8 & 4 & 2 & 195 & 9000 & 9390 & 4 \\\\\n",
       "\t9 & 1 & 3 & 151 & 9000 & 9302 & 4 \\\\\n",
       "\t10 & 2 & 3 & 384 & 9000 & 9768 & 5 \\\\\n",
       "\t11 & 3 & 3 & 20 & 5000 & 5040 & 5 \\\\\n",
       "\t12 & 4 & 3 & 52 & 8000 & 8104 & 5 \\\\\n",
       "\\end{tabular}\n"
      ],
      "text/plain": [
       "\u001b[1m12×6 DataFrame\u001b[0m\n",
       "\u001b[1m Row \u001b[0m│\u001b[1m i     \u001b[0m\u001b[1m j     \u001b[0m\u001b[1m a     \u001b[0m\u001b[1m b     \u001b[0m\u001b[1m c     \u001b[0m\u001b[1m procid \u001b[0m\n",
       "     │\u001b[90m Int64 \u001b[0m\u001b[90m Int64 \u001b[0m\u001b[90m Int64 \u001b[0m\u001b[90m Int64 \u001b[0m\u001b[90m Int64 \u001b[0m\u001b[90m Int64  \u001b[0m\n",
       "─────┼───────────────────────────────────────────\n",
       "   1 │     1      1    441   5000   5882       2\n",
       "   2 │     2      1    378   7000   7756       2\n",
       "   3 │     3      1    476   3000   3952       2\n",
       "   4 │     4      1    263   4000   4526       3\n",
       "   5 │     1      2    444   6000   6888       3\n",
       "   6 │     2      2    269   7000   7538       3\n",
       "   7 │     3      2     25   7000   7050       4\n",
       "   8 │     4      2    195   9000   9390       4\n",
       "   9 │     1      3    151   9000   9302       4\n",
       "  10 │     2      3    384   9000   9768       5\n",
       "  11 │     3      3     20   5000   5040       5\n",
       "  12 │     4      3     52   8000   8104       5"
      ]
     },
     "execution_count": 34,
     "metadata": {},
     "output_type": "execute_result"
    }
   ],
   "source": [
    "data = @distributed (append!) for (i, j) = vec(collect(Iterators.product(1:4, 1:3)))\n",
    "    a = rand(1:499)\n",
    "    b = rand(1:9)*1000\n",
    "    c = calc(a, b)\n",
    "    DataFrame(;i,j,a,b,c,procid = myid())\n",
    "end"
   ]
  },
  {
   "cell_type": "markdown",
   "id": "320ad9d4-78fb-4bfd-a192-e677d031b396",
   "metadata": {},
   "source": [
    "<a class=\"anchor\" id=\"simd\"></a>\n",
    "### (background material) Parallelize via Single Instruction Multiple Data (SIMD)\n",
    "---- [Return to table of contents](#toc) ---\n",
    "\n"
   ]
  },
  {
   "cell_type": "code",
   "execution_count": 35,
   "id": "a6acee57",
   "metadata": {},
   "outputs": [
    {
     "data": {
      "text/plain": [
       "dot1 (generic function with 1 method)"
      ]
     },
     "execution_count": 35,
     "metadata": {},
     "output_type": "execute_result"
    }
   ],
   "source": [
    "function dot1(x, y)\n",
    "    s = 0.0\n",
    "    for i in 1:length(x)\n",
    "        @inbounds s += x[i]*y[i]\n",
    "    end\n",
    "    s\n",
    "end"
   ]
  },
  {
   "cell_type": "code",
   "execution_count": 36,
   "id": "869b35dc",
   "metadata": {},
   "outputs": [
    {
     "data": {
      "text/plain": [
       "dot2 (generic function with 1 method)"
      ]
     },
     "execution_count": 36,
     "metadata": {},
     "output_type": "execute_result"
    }
   ],
   "source": [
    "function dot2(x, y)\n",
    "    s = 0.0\n",
    "    @simd for i in 1:length(x)\n",
    "        @inbounds s += x[i]*y[i]\n",
    "    end\n",
    "    s\n",
    "end"
   ]
  },
  {
   "cell_type": "code",
   "execution_count": 37,
   "id": "693abf6e",
   "metadata": {},
   "outputs": [
    {
     "name": "stdout",
     "output_type": "stream",
     "text": [
      "  4.000 μs (0 allocations: 0 bytes)\n",
      "  760.000 ns (0 allocations: 0 bytes)\n"
     ]
    },
    {
     "data": {
      "text/plain": [
       "2.479319049399765e7"
      ]
     },
     "execution_count": 37,
     "metadata": {},
     "output_type": "execute_result"
    }
   ],
   "source": [
    "x = 100*rand(10000)\n",
    "y = 100*rand(10000);\n",
    "\n",
    "@btime dot1($x, $y)\n",
    "@btime dot2($x, $y)"
   ]
  },
  {
   "cell_type": "code",
   "execution_count": 38,
   "id": "fceca0fa",
   "metadata": {},
   "outputs": [
    {
     "data": {
      "text/plain": [
       "2.4793190493997578e7"
      ]
     },
     "execution_count": 38,
     "metadata": {},
     "output_type": "execute_result"
    }
   ],
   "source": [
    "res1 =  dot1(x, y)"
   ]
  },
  {
   "cell_type": "code",
   "execution_count": 39,
   "id": "5dc2f9c3",
   "metadata": {
    "scrolled": true
   },
   "outputs": [
    {
     "data": {
      "text/plain": [
       "2.479319049399765e7"
      ]
     },
     "execution_count": 39,
     "metadata": {},
     "output_type": "execute_result"
    }
   ],
   "source": [
    "res2 =  dot2(x, y)"
   ]
  },
  {
   "cell_type": "code",
   "execution_count": 40,
   "id": "c05b2210",
   "metadata": {},
   "outputs": [
    {
     "data": {
      "text/plain": [
       "false"
      ]
     },
     "execution_count": 40,
     "metadata": {},
     "output_type": "execute_result"
    }
   ],
   "source": [
    "res1 == res2"
   ]
  },
  {
   "cell_type": "code",
   "execution_count": 41,
   "id": "290606ff",
   "metadata": {},
   "outputs": [
    {
     "name": "stdout",
     "output_type": "stream",
     "text": [
      "res1 = 2.4793190493997578e7\n",
      "res2 = 2.479319049399765e7\n"
     ]
    },
    {
     "data": {
      "text/plain": [
       "2.479319049399765e7"
      ]
     },
     "execution_count": 41,
     "metadata": {},
     "output_type": "execute_result"
    }
   ],
   "source": [
    "@show res1 \n",
    "@show res2"
   ]
  }
 ],
 "metadata": {
  "kernelspec": {
   "display_name": "Julia 1.10.0",
   "language": "julia",
   "name": "julia-1.10"
  },
  "language_info": {
   "file_extension": ".jl",
   "mimetype": "application/julia",
   "name": "julia",
   "version": "1.10.0"
  }
 },
 "nbformat": 4,
 "nbformat_minor": 5
}
