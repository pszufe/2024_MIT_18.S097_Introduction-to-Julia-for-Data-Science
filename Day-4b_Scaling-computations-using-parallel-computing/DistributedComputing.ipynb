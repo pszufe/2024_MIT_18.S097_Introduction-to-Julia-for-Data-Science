{
 "cells": [
  {
   "cell_type": "markdown",
   "id": "e4e18dfa",
   "metadata": {},
   "source": [
    "# Scaling computations using parallel computing\n",
    "\n",
    "## Przemysław Szufel"
   ]
  },
  {
   "cell_type": "code",
   "execution_count": 36,
   "id": "68b0836a",
   "metadata": {},
   "outputs": [
    {
     "name": "stdout",
     "output_type": "stream",
     "text": [
      "Number of threads that your Julia is run: ## 8\n"
     ]
    }
   ],
   "source": [
    "println(\"Number of threads that your Julia is run: ## $(Threads.nthreads())\")"
   ]
  },
  {
   "cell_type": "code",
   "execution_count": null,
   "id": "4aa1aaf0",
   "metadata": {},
   "outputs": [],
   "source": [
    "using BenchmarkTools, Distributed"
   ]
  },
  {
   "cell_type": "markdown",
   "id": "02a83007",
   "metadata": {},
   "source": [
    "### Parallelize via Single Instruction Multiple Data (SIMD)"
   ]
  },
  {
   "cell_type": "code",
   "execution_count": 37,
   "id": "a6acee57",
   "metadata": {},
   "outputs": [
    {
     "data": {
      "text/plain": [
       "dot1 (generic function with 1 method)"
      ]
     },
     "execution_count": 37,
     "metadata": {},
     "output_type": "execute_result"
    }
   ],
   "source": [
    "function dot1(x, y)\n",
    "    s = 0.0\n",
    "    for i in 1:length(x)\n",
    "        @inbounds s += x[i]*y[i]\n",
    "    end\n",
    "    s\n",
    "end"
   ]
  },
  {
   "cell_type": "code",
   "execution_count": 38,
   "id": "869b35dc",
   "metadata": {},
   "outputs": [
    {
     "data": {
      "text/plain": [
       "dot2 (generic function with 1 method)"
      ]
     },
     "execution_count": 38,
     "metadata": {},
     "output_type": "execute_result"
    }
   ],
   "source": [
    "function dot2(x, y)\n",
    "    s = 0.0\n",
    "    @simd for i in 1:length(x)\n",
    "        @inbounds s += x[i]*y[i]\n",
    "    end\n",
    "    s\n",
    "end"
   ]
  },
  {
   "cell_type": "code",
   "execution_count": 40,
   "id": "693abf6e",
   "metadata": {},
   "outputs": [],
   "source": [
    "x = 100*rand(10000)\n",
    "y = 100*rand(10000);\n",
    "\n",
    "#res1 = @btime dot1($x, $y)\n",
    "#res2 = @btime dot2($x, $y)\n",
    "\n",
    "#println(res1)\n",
    "#println(res2)"
   ]
  },
  {
   "cell_type": "code",
   "execution_count": 50,
   "id": "fceca0fa",
   "metadata": {},
   "outputs": [
    {
     "data": {
      "text/plain": [
       "2.426381729118624e7"
      ]
     },
     "execution_count": 50,
     "metadata": {},
     "output_type": "execute_result"
    }
   ],
   "source": [
    "res1 =  dot1(x, y)"
   ]
  },
  {
   "cell_type": "code",
   "execution_count": 51,
   "id": "5dc2f9c3",
   "metadata": {
    "scrolled": true
   },
   "outputs": [
    {
     "data": {
      "text/plain": [
       "2.4263817291186295e7"
      ]
     },
     "execution_count": 51,
     "metadata": {},
     "output_type": "execute_result"
    }
   ],
   "source": [
    "res2 =  dot2(x, y)"
   ]
  },
  {
   "cell_type": "code",
   "execution_count": 52,
   "id": "c05b2210",
   "metadata": {},
   "outputs": [
    {
     "data": {
      "text/plain": [
       "false"
      ]
     },
     "execution_count": 52,
     "metadata": {},
     "output_type": "execute_result"
    }
   ],
   "source": [
    "res1 == res2"
   ]
  },
  {
   "cell_type": "code",
   "execution_count": 53,
   "id": "290606ff",
   "metadata": {},
   "outputs": [
    {
     "name": "stdout",
     "output_type": "stream",
     "text": [
      "res1 = 2.426381729118624e7\n",
      "res2 = 2.4263817291186295e7\n"
     ]
    },
    {
     "data": {
      "text/plain": [
       "2.4263817291186295e7"
      ]
     },
     "execution_count": 53,
     "metadata": {},
     "output_type": "execute_result"
    }
   ],
   "source": [
    "@show res1 \n",
    "@show res2"
   ]
  },
  {
   "cell_type": "markdown",
   "id": "b939e997",
   "metadata": {},
   "source": [
    "### Green threading"
   ]
  },
  {
   "cell_type": "code",
   "execution_count": 54,
   "id": "f7da7625",
   "metadata": {},
   "outputs": [
    {
     "name": "stdout",
     "output_type": "stream",
     "text": [
      "  2.013307 seconds (61 allocations: 1.859 KiB)\n"
     ]
    }
   ],
   "source": [
    "@time sleep(2)"
   ]
  },
  {
   "cell_type": "code",
   "execution_count": 58,
   "id": "fe3275b2",
   "metadata": {
    "scrolled": true
   },
   "outputs": [
    {
     "name": "stdout",
     "output_type": "stream",
     "text": [
      "  0.000105 seconds (29 allocations: 2.164 KiB)\n"
     ]
    },
    {
     "data": {
      "text/plain": [
       "Task (runnable) @0x00000249e833f840"
      ]
     },
     "execution_count": 58,
     "metadata": {},
     "output_type": "execute_result"
    }
   ],
   "source": [
    "@time t = @async sleep(2)"
   ]
  },
  {
   "cell_type": "code",
   "execution_count": 60,
   "id": "011d996d",
   "metadata": {},
   "outputs": [
    {
     "data": {
      "text/plain": [
       "Task (done) @0x00000249e833f840"
      ]
     },
     "execution_count": 60,
     "metadata": {},
     "output_type": "execute_result"
    }
   ],
   "source": [
    "t"
   ]
  },
  {
   "cell_type": "code",
   "execution_count": null,
   "id": "572b606b",
   "metadata": {},
   "outputs": [],
   "source": [
    "function dojob(i)\n",
    "    val = round(rand(), digits=2)\n",
    "    sleep(val)   # this could be external computations with I/O\n",
    "    i, val\n",
    "end"
   ]
  },
  {
   "cell_type": "code",
   "execution_count": 71,
   "id": "6c96c8d7",
   "metadata": {},
   "outputs": [
    {
     "data": {
      "text/plain": [
       "8-element Vector{Tuple{Int64, Float64}}:\n",
       " (0, 6.95332130479936e-310)\n",
       " (140736790006112, 0.0)\n",
       " (140736789999776, 6.9533213044863e-310)\n",
       " (0, 6.95332097038016e-310)\n",
       " (140736783242288, 0.0)\n",
       " (140736783237392, 6.95332096896357e-310)\n",
       " (0, 6.95332097038016e-310)\n",
       " (140736783208720, 0.0)"
      ]
     },
     "execution_count": 71,
     "metadata": {},
     "output_type": "execute_result"
    }
   ],
   "source": [
    "result = Vector{Tuple{Int,Float64}}(undef, 8)"
   ]
  },
  {
   "cell_type": "code",
   "execution_count": 72,
   "id": "e127dc06",
   "metadata": {},
   "outputs": [
    {
     "name": "stdout",
     "output_type": "stream",
     "text": [
      "  3.326780 seconds (143 allocations: 4.172 KiB)\n"
     ]
    },
    {
     "data": {
      "text/plain": [
       "8-element Vector{Tuple{Int64, Float64}}:\n",
       " (1, 0.7)\n",
       " (2, 0.09)\n",
       " (3, 0.13)\n",
       " (4, 0.11)\n",
       " (5, 0.5)\n",
       " (6, 0.8)\n",
       " (7, 0.31)\n",
       " (8, 0.61)"
      ]
     },
     "execution_count": 72,
     "metadata": {},
     "output_type": "execute_result"
    }
   ],
   "source": [
    "@time for i=1:8\n",
    "    result[i] = dojob(i)\n",
    "end\n",
    "result"
   ]
  },
  {
   "cell_type": "code",
   "execution_count": 73,
   "id": "3bf5cf64",
   "metadata": {
    "scrolled": true
   },
   "outputs": [
    {
     "name": "stdout",
     "output_type": "stream",
     "text": [
      "  0.000106 seconds (83 allocations: 7.139 KiB)\n"
     ]
    },
    {
     "data": {
      "text/plain": [
       "8-element Vector{Tuple{Int64, Float64}}:\n",
       " (2517304857952, 1.2437138504313e-311)\n",
       " (2517304857984, 1.243713850447e-311)\n",
       " (140736823693760, 6.9533229691903e-310)\n",
       " (140736823693760, 6.9533229691903e-310)\n",
       " (140736823693760, 6.9533229691903e-310)\n",
       " (140736823693760, 6.9533229691903e-310)\n",
       " (140736823693760, 6.9533229691903e-310)\n",
       " (140736823693760, 6.9533229691903e-310)"
      ]
     },
     "execution_count": 73,
     "metadata": {},
     "output_type": "execute_result"
    }
   ],
   "source": [
    "result = Vector{Tuple{Int,Float64}}(undef, 8);\n",
    "@time for i=1:8\n",
    "   @async result[i] = dojob(i)\n",
    "end\n",
    "result"
   ]
  },
  {
   "cell_type": "code",
   "execution_count": 74,
   "id": "fd0646ec",
   "metadata": {},
   "outputs": [
    {
     "data": {
      "text/plain": [
       "8-element Vector{Tuple{Int64, Float64}}:\n",
       " (1, 0.51)\n",
       " (2, 0.27)\n",
       " (3, 0.38)\n",
       " (4, 0.27)\n",
       " (5, 0.45)\n",
       " (6, 0.44)\n",
       " (7, 0.43)\n",
       " (8, 0.11)"
      ]
     },
     "execution_count": 74,
     "metadata": {},
     "output_type": "execute_result"
    }
   ],
   "source": [
    "result"
   ]
  },
  {
   "cell_type": "code",
   "execution_count": 80,
   "id": "6bc95ae6",
   "metadata": {},
   "outputs": [
    {
     "name": "stdout",
     "output_type": "stream",
     "text": [
      "  0.972172 seconds (4.53 k allocations: 344.805 KiB, 1.63% compilation time)\n"
     ]
    },
    {
     "data": {
      "text/plain": [
       "8-element Vector{Tuple{Int64, Float64}}:\n",
       " (1, 0.17)\n",
       " (2, 0.95)\n",
       " (3, 0.91)\n",
       " (4, 0.36)\n",
       " (5, 0.87)\n",
       " (6, 0.63)\n",
       " (7, 0.6)\n",
       " (8, 0.8)"
      ]
     },
     "execution_count": 80,
     "metadata": {},
     "output_type": "execute_result"
    }
   ],
   "source": [
    "result = Vector{Tuple{Int,Float64}}(undef, 8);\n",
    "@time @sync for i=1:8\n",
    "   @async result[i] = dojob(i)\n",
    "end\n",
    "result"
   ]
  },
  {
   "cell_type": "markdown",
   "id": "b57767fa",
   "metadata": {},
   "source": [
    "#### Programming a simple web server\n",
    "You should be able to connect using the address <a href=\"http://localhost:9992/3+4\" target=\"about:blank\">http://localhost:9992/3+4</a>\n",
    "\n",
    "To stop web server click <a href=\"http://localhost:9992/stopme\" target=\"about:blank\">http://localhost:9992/stopme</a>"
   ]
  },
  {
   "cell_type": "code",
   "execution_count": 82,
   "id": "c6641220",
   "metadata": {},
   "outputs": [
    {
     "name": "stdout",
     "output_type": "stream",
     "text": [
      "Starting the web server...\n"
     ]
    },
    {
     "data": {
      "text/plain": [
       "Sockets.TCPServer(Base.Libc.WindowsRawSocket(0x00000000000004dc) active)"
      ]
     },
     "execution_count": 82,
     "metadata": {},
     "output_type": "execute_result"
    }
   ],
   "source": [
    "using Sockets\n",
    "println(\"Starting the web server...\")\n",
    "server = Sockets.listen(9992)"
   ]
  },
  {
   "cell_type": "code",
   "execution_count": 84,
   "id": "70a28d67",
   "metadata": {},
   "outputs": [
    {
     "data": {
      "text/plain": [
       "Task (runnable) @0x00000249e7e3be10"
      ]
     },
     "execution_count": 84,
     "metadata": {},
     "output_type": "execute_result"
    },
    {
     "name": "stdout",
     "output_type": "stream",
     "text": [
      "Got request:\n",
      "GET /3+4 HTTP/1.1\n",
      "Got request:\n",
      "GET /favicon.ico HTTP/1.1\n",
      "Got request:\n",
      "GET /3+400 HTTP/1.1\n",
      "Got request:\n",
      "GET /favicon.ico HTTP/1.1\n",
      "Got request:\n",
      "GET /3+4000 HTTP/1.1\n",
      "Got request:\n",
      "GET /favicon.ico HTTP/1.1\n",
      "Got request:\n",
      "GET /stopme HTTP/1.1\n",
      "Handling requests stopped\n",
      "Got request:\n",
      "GET /favicon.ico HTTP/1.1\n"
     ]
    }
   ],
   "source": [
    "@async begin\n",
    "    contt = Ref(true)\n",
    "    while contt[]\n",
    "        sock = Sockets.accept(server)\n",
    "        @async begin\n",
    "            data = readline(sock)\n",
    "            print(\"Got request:\\n\", data, \"\\n\")\n",
    "            cmd = split(data, \" \")[2][2:end]\n",
    "            println(sock, \"\\nHTTP/1.1 200 OK\\nContent-Type: text/html\\n\")\n",
    "            contt[] = contt[] && (!occursin(\"stopme\", data))\n",
    "            if contt[]\n",
    "                 println(sock, string(\"<html><body>\", cmd, \"=\", \n",
    "                     eval(Meta.parse(cmd)), \"</body></html>\"))\n",
    "            else\n",
    "                println(sock,\"<html><body>stopping</body></html>\")\n",
    "            end\n",
    "            close(sock)\n",
    "        end\n",
    "    end\n",
    "    println(\"Handling requests stopped\")\n",
    "end"
   ]
  },
  {
   "cell_type": "markdown",
   "id": "e0561254",
   "metadata": {},
   "source": [
    "### Multithreading"
   ]
  },
  {
   "cell_type": "code",
   "execution_count": 85,
   "id": "a2e3cdd9",
   "metadata": {},
   "outputs": [
    {
     "data": {
      "text/plain": [
       "8"
      ]
     },
     "execution_count": 85,
     "metadata": {},
     "output_type": "execute_result"
    }
   ],
   "source": [
    "Threads.nthreads()"
   ]
  },
  {
   "cell_type": "code",
   "execution_count": 86,
   "id": "61e1d1d1",
   "metadata": {},
   "outputs": [
    {
     "data": {
      "text/plain": [
       "ssum (generic function with 1 method)"
      ]
     },
     "execution_count": 86,
     "metadata": {},
     "output_type": "execute_result"
    }
   ],
   "source": [
    "function ssum(x)\n",
    "    r, c = size(x)\n",
    "    y = zeros(c)\n",
    "    for i in 1:c\n",
    "        for j in 1:r\n",
    "            @inbounds y[i] += x[j, i]\n",
    "        end\n",
    "    end\n",
    "    y\n",
    "end"
   ]
  },
  {
   "cell_type": "code",
   "execution_count": 87,
   "id": "e2a4a2e8",
   "metadata": {},
   "outputs": [
    {
     "data": {
      "text/plain": [
       "tsum (generic function with 1 method)"
      ]
     },
     "execution_count": 87,
     "metadata": {},
     "output_type": "execute_result"
    }
   ],
   "source": [
    "function tsum(x)\n",
    "    r, c = size(x)\n",
    "    y = zeros(c)\n",
    "    Threads.@threads for i in 1:c\n",
    "        for j in 1:r\n",
    "            @inbounds y[i] += x[j, i]\n",
    "        end\n",
    "    end\n",
    "    y\n",
    "end\n"
   ]
  },
  {
   "cell_type": "code",
   "execution_count": 93,
   "id": "2e4ebef5",
   "metadata": {},
   "outputs": [],
   "source": [
    "x = rand(1000,10000);"
   ]
  },
  {
   "cell_type": "code",
   "execution_count": 94,
   "id": "55526866",
   "metadata": {},
   "outputs": [
    {
     "name": "stdout",
     "output_type": "stream",
     "text": [
      "  0.008778 seconds (2 allocations: 78.172 KiB)\n",
      "  0.009669 seconds (2 allocations: 78.172 KiB)\n"
     ]
    }
   ],
   "source": [
    "@time ssum(x)\n",
    "@time ssum(x);"
   ]
  },
  {
   "cell_type": "code",
   "execution_count": 95,
   "id": "eed39ed8",
   "metadata": {},
   "outputs": [
    {
     "name": "stdout",
     "output_type": "stream",
     "text": [
      "  0.002482 seconds (53 allocations: 83.594 KiB)\n",
      "  0.002101 seconds (60 allocations: 83.953 KiB)\n"
     ]
    }
   ],
   "source": [
    "@time tsum(x)\n",
    "@time tsum(x);"
   ]
  },
  {
   "cell_type": "markdown",
   "id": "52d9f2a7",
   "metadata": {},
   "source": [
    "#### Locking mechanism for threads"
   ]
  },
  {
   "cell_type": "code",
   "execution_count": 96,
   "id": "5894cc29",
   "metadata": {},
   "outputs": [
    {
     "data": {
      "text/plain": [
       "f_bad (generic function with 1 method)"
      ]
     },
     "execution_count": 96,
     "metadata": {},
     "output_type": "execute_result"
    }
   ],
   "source": [
    "function f_bad()\n",
    "    x = 0\n",
    "    Threads.@threads for i in 1:10^6\n",
    "        x += 1\n",
    "    end\n",
    "    return x\n",
    "end\n"
   ]
  },
  {
   "cell_type": "code",
   "execution_count": 124,
   "id": "a5ed2555",
   "metadata": {},
   "outputs": [
    {
     "name": "stdout",
     "output_type": "stream",
     "text": [
      "  0.027474 seconds (999.22 k allocations: 15.251 MiB)\n"
     ]
    },
    {
     "data": {
      "text/plain": [
       "125866"
      ]
     },
     "execution_count": 124,
     "metadata": {},
     "output_type": "execute_result"
    }
   ],
   "source": [
    "@time f_bad()"
   ]
  },
  {
   "cell_type": "code",
   "execution_count": 129,
   "id": "de164cd7",
   "metadata": {},
   "outputs": [
    {
     "name": "stdout",
     "output_type": "stream",
     "text": [
      "  1.700 ns (0 allocations: 0 bytes)\n"
     ]
    },
    {
     "data": {
      "text/plain": [
       "10000000"
      ]
     },
     "execution_count": 129,
     "metadata": {},
     "output_type": "execute_result"
    }
   ],
   "source": [
    "function f_add()\n",
    "    x = 0 \n",
    "    for i in 1:10^7\n",
    "        x += 1\n",
    "    end\n",
    "    x\n",
    "end\n",
    "@btime f_add()\n",
    "    "
   ]
  },
  {
   "cell_type": "code",
   "execution_count": 126,
   "id": "eeb97516",
   "metadata": {},
   "outputs": [
    {
     "data": {
      "text/plain": [
       "1000000"
      ]
     },
     "execution_count": 126,
     "metadata": {},
     "output_type": "execute_result"
    }
   ],
   "source": [
    "function f_atomic()\n",
    "    x = Threads.Atomic{Int}(0)\n",
    "    Threads.@threads for i in 1:10^6\n",
    "        Threads.atomic_add!(x, 1)\n",
    "    end\n",
    "    return x[]\n",
    "end\n",
    "f_atomic()"
   ]
  },
  {
   "cell_type": "code",
   "execution_count": 133,
   "id": "d5359fcc",
   "metadata": {},
   "outputs": [
    {
     "data": {
      "text/plain": [
       "f_reentrant (generic function with 1 method)"
      ]
     },
     "execution_count": 133,
     "metadata": {},
     "output_type": "execute_result"
    }
   ],
   "source": [
    "\n",
    "\n",
    "function f_spin()\n",
    "    l = Threads.SpinLock()\n",
    "    x = 0\n",
    "    Threads.@threads for i in 1:10^6\n",
    "        Threads.lock(l) do\n",
    "            x += 1\n",
    "        end\n",
    "    end\n",
    "    return x\n",
    "end\n",
    "\n",
    "function f_reentrant()\n",
    "    l = ReentrantLock()\n",
    "    x = 0\n",
    "    Threads.@threads for i in 1:10^6\n",
    "        Threads.lock(l) do\n",
    "            x += 1\n",
    "        end\n",
    "    end\n",
    "    return x\n",
    "end\n"
   ]
  },
  {
   "cell_type": "code",
   "execution_count": 134,
   "id": "6c969c44",
   "metadata": {},
   "outputs": [
    {
     "name": "stdout",
     "output_type": "stream",
     "text": [
      "\u001b[1m8×4 DataFrame\u001b[0m\n",
      "\u001b[1m Row \u001b[0m│\u001b[1m f           \u001b[0m\u001b[1m i     \u001b[0m\u001b[1m value   \u001b[0m\u001b[1m timems    \u001b[0m\n",
      "     │\u001b[90m String      \u001b[0m\u001b[90m Int64 \u001b[0m\u001b[90m Int64   \u001b[0m\u001b[90m Float64   \u001b[0m\n",
      "─────┼────────────────────────────────────────\n",
      "   1 │ f_bad            1   128073    46.2\n",
      "   2 │ f_bad            2   125286    56.2839\n",
      "   3 │ f_atomic         1  1000000    23.9411\n",
      "   4 │ f_atomic         2  1000000    26.6469\n",
      "   5 │ f_spin           1  1000000   980.696\n",
      "   6 │ f_spin           2  1000000   572.184\n",
      "   7 │ f_reentrant      1  1000000  1533.87\n",
      "   8 │ f_reentrant      2  1000000  1305.01\n"
     ]
    }
   ],
   "source": [
    "using DataFrames\n",
    "stats = DataFrame()\n",
    "for f in [f_bad, f_atomic, f_spin, f_reentrant]\n",
    "    for i = 1:2\n",
    "        value, elapsedtime  = @timed f()\n",
    "        push!(stats, (f=string(f),i=i, value=value, timems=elapsedtime*1000))\n",
    "    end\n",
    "end\n",
    "println(stats)\n"
   ]
  },
  {
   "cell_type": "markdown",
   "id": "2846c599",
   "metadata": {},
   "source": [
    "### Multi-processing and distributed computing"
   ]
  },
  {
   "cell_type": "code",
   "execution_count": 135,
   "id": "b9e7cf7d",
   "metadata": {},
   "outputs": [],
   "source": [
    "using Distributed"
   ]
  },
  {
   "cell_type": "markdown",
   "id": "caf3b10c",
   "metadata": {},
   "source": [
    "This code adds 4 workers (and avoids adding more)"
   ]
  },
  {
   "cell_type": "code",
   "execution_count": 136,
   "id": "e0626f59",
   "metadata": {},
   "outputs": [],
   "source": [
    "addprocs(max(0, 5-nworkers()));"
   ]
  },
  {
   "cell_type": "code",
   "execution_count": 137,
   "id": "99b678b4",
   "metadata": {
    "scrolled": true
   },
   "outputs": [
    {
     "data": {
      "text/plain": [
       "5-element Vector{Int64}:\n",
       " 2\n",
       " 3\n",
       " 4\n",
       " 5\n",
       " 6"
      ]
     },
     "execution_count": 137,
     "metadata": {},
     "output_type": "execute_result"
    }
   ],
   "source": [
    "workers()"
   ]
  },
  {
   "cell_type": "code",
   "execution_count": 138,
   "id": "f0ffdc87",
   "metadata": {},
   "outputs": [
    {
     "name": "stdout",
     "output_type": "stream",
     "text": [
      "  0.487433 seconds (20.00 k allocations: 763.397 MiB, 23.77% gc time)\n",
      "  0.435563 seconds (20.00 k allocations: 763.397 MiB, 15.76% gc time)\n"
     ]
    },
    {
     "data": {
      "text/plain": [
       "4999.997426068711"
      ]
     },
     "execution_count": 138,
     "metadata": {},
     "output_type": "execute_result"
    }
   ],
   "source": [
    "function s_rand()\n",
    "    n = 10^4\n",
    "    x = 0.0\n",
    "    for i in 1:n\n",
    "        x += sum(rand(10^4))\n",
    "    end\n",
    "    x / n\n",
    "end\n",
    " \n",
    "@time s_rand()\n",
    "@time s_rand()\n"
   ]
  },
  {
   "cell_type": "code",
   "execution_count": null,
   "id": "5130481e",
   "metadata": {},
   "outputs": [],
   "source": []
  },
  {
   "cell_type": "code",
   "execution_count": 140,
   "id": "84ede908",
   "metadata": {},
   "outputs": [
    {
     "name": "stdout",
     "output_type": "stream",
     "text": [
      "  0.201967 seconds (20.00 k allocations: 1.005 MiB, 10.60% compilation time)\n",
      "  0.151015 seconds (493 allocations: 25.891 KiB)\n"
     ]
    },
    {
     "data": {
      "text/plain": [
       "4999.765402011155"
      ]
     },
     "execution_count": 140,
     "metadata": {},
     "output_type": "execute_result"
    }
   ],
   "source": [
    "using Distributed\n",
    " \n",
    " \n",
    "function p_rand()\n",
    "    n = 10^4\n",
    "    x = @distributed (+) for i in 1:n\n",
    "        #line\n",
    "        # but the last line will be aggregated\n",
    "        sum(rand(10^4))\n",
    "    end\n",
    "    x / n\n",
    "end\n",
    "\n",
    "@time p_rand()\n",
    "@time p_rand()\n"
   ]
  },
  {
   "cell_type": "code",
   "execution_count": 141,
   "id": "5fa09611",
   "metadata": {},
   "outputs": [
    {
     "data": {
      "text/plain": [
       "1×5 adjoint(::Vector{Int64}) with eltype Int64:\n",
       " 2  3  4  5  6"
      ]
     },
     "execution_count": 141,
     "metadata": {},
     "output_type": "execute_result"
    }
   ],
   "source": [
    "workers()'"
   ]
  },
  {
   "cell_type": "code",
   "execution_count": 143,
   "id": "123009f7",
   "metadata": {},
   "outputs": [
    {
     "data": {
      "text/plain": [
       "7"
      ]
     },
     "execution_count": 143,
     "metadata": {},
     "output_type": "execute_result"
    }
   ],
   "source": [
    "fetch(@spawnat 3 4+3)"
   ]
  },
  {
   "cell_type": "code",
   "execution_count": 148,
   "id": "bf74de87",
   "metadata": {
    "scrolled": true
   },
   "outputs": [
    {
     "name": "stdout",
     "output_type": "stream",
     "text": [
      "I am on worker 1\n"
     ]
    },
    {
     "data": {
      "text/plain": [
       "0.7399595040430285"
      ]
     },
     "execution_count": 148,
     "metadata": {},
     "output_type": "execute_result"
    }
   ],
   "source": [
    "@everywhere function f() \n",
    "    println(\"I am on worker \", myid())\n",
    "    rand()\n",
    "end\n",
    "f()"
   ]
  },
  {
   "cell_type": "code",
   "execution_count": 149,
   "id": "e4599a69",
   "metadata": {},
   "outputs": [
    {
     "name": "stdout",
     "output_type": "stream",
     "text": [
      "      From worker 4:\tI am on worker 4\n"
     ]
    },
    {
     "data": {
      "text/plain": [
       "0.6278477606839582"
      ]
     },
     "execution_count": 149,
     "metadata": {},
     "output_type": "execute_result"
    }
   ],
   "source": [
    "fetch(@spawnat 4 f())"
   ]
  },
  {
   "cell_type": "code",
   "execution_count": 150,
   "id": "c5269470",
   "metadata": {},
   "outputs": [
    {
     "data": {
      "text/plain": [
       "20-element Vector{Tuple{Int64, Int64}}:\n",
       " (1, 1)\n",
       " (2, 1)\n",
       " (3, 1)\n",
       " (4, 1)\n",
       " (1, 2)\n",
       " (2, 2)\n",
       " (3, 2)\n",
       " (4, 2)\n",
       " (1, 3)\n",
       " (2, 3)\n",
       " (3, 3)\n",
       " (4, 3)\n",
       " (1, 4)\n",
       " (2, 4)\n",
       " (3, 4)\n",
       " (4, 4)\n",
       " (1, 5)\n",
       " (2, 5)\n",
       " (3, 5)\n",
       " (4, 5)"
      ]
     },
     "execution_count": 150,
     "metadata": {},
     "output_type": "execute_result"
    }
   ],
   "source": [
    "vec(collect(Iterators.product(1:4, 1:5)))\n",
    "        "
   ]
  },
  {
   "cell_type": "code",
   "execution_count": 151,
   "id": "f281840e",
   "metadata": {},
   "outputs": [
    {
     "name": "stderr",
     "output_type": "stream",
     "text": [
      "\u001b[32m\u001b[1m  Activating\u001b[22m\u001b[39m project at `C:\\AAABIBLIOTEKA\\MIT_Boston\\MIT_18.S097_Introduction-to-Julia-for-Data-Science`\n"
     ]
    },
    {
     "name": "stdout",
     "output_type": "stream",
     "text": [
      "      From worker 6:\t\u001b[32m\u001b[1m  Activating\u001b[22m\u001b[39m project at `C:\\AAABIBLIOTEKA\\MIT_Boston\\MIT_18.S097_Introduction-to-Julia-for-Data-Science`\n",
      "      From worker 4:\t\u001b[32m\u001b[1m  Activating\u001b[22m\u001b[39m project at `C:\\AAABIBLIOTEKA\\MIT_Boston\\MIT_18.S097_Introduction-to-Julia-for-Data-Science`\n",
      "      From worker 3:\t\u001b[32m\u001b[1m  Activating\u001b[22m\u001b[39m project at `C:\\AAABIBLIOTEKA\\MIT_Boston\\MIT_18.S097_Introduction-to-Julia-for-Data-Science`\n",
      "      From worker 5:\t\u001b[32m\u001b[1m  Activating\u001b[22m\u001b[39m project at `C:\\AAABIBLIOTEKA\\MIT_Boston\\MIT_18.S097_Introduction-to-Julia-for-Data-Science`\n",
      "      From worker 2:\t\u001b[32m\u001b[1m  Activating\u001b[22m\u001b[39m project at `C:\\AAABIBLIOTEKA\\MIT_Boston\\MIT_18.S097_Introduction-to-Julia-for-Data-Science`\n"
     ]
    }
   ],
   "source": [
    "using Distributed\n",
    "@everywhere using Pkg\n",
    "@everywhere Pkg.activate(\"..\")\n",
    "@everywhere using Distributed, Random, DataFrames\n",
    "\n",
    "@everywhere function calc(x, y)\n",
    "    2x + y\n",
    "end\n",
    "\n",
    "@everywhere function init_worker()    \n",
    "   Random.seed!(myid())\n",
    "    # readding CSV file\n",
    "end\n",
    "\n",
    "@sync for wid in workers()\n",
    "    @async fetch(@spawnat wid init_worker())\n",
    "end\n"
   ]
  },
  {
   "cell_type": "markdown",
   "id": "10189162",
   "metadata": {},
   "source": [
    "Typically results are collected to a `DataFrame`"
   ]
  },
  {
   "cell_type": "code",
   "execution_count": 152,
   "id": "c636c081",
   "metadata": {},
   "outputs": [
    {
     "data": {
      "text/html": [
       "<div><div style = \"float: left;\"><span>20×6 DataFrame</span></div><div style = \"clear: both;\"></div></div><div class = \"data-frame\" style = \"overflow-x: scroll;\"><table class = \"data-frame\" style = \"margin-bottom: 6px;\"><thead><tr class = \"header\"><th class = \"rowNumber\" style = \"font-weight: bold; text-align: right;\">Row</th><th style = \"text-align: left;\">i</th><th style = \"text-align: left;\">j</th><th style = \"text-align: left;\">a</th><th style = \"text-align: left;\">b</th><th style = \"text-align: left;\">c</th><th style = \"text-align: left;\">procid</th></tr><tr class = \"subheader headerLastRow\"><th class = \"rowNumber\" style = \"font-weight: bold; text-align: right;\"></th><th title = \"Int64\" style = \"text-align: left;\">Int64</th><th title = \"Int64\" style = \"text-align: left;\">Int64</th><th title = \"Int64\" style = \"text-align: left;\">Int64</th><th title = \"Int64\" style = \"text-align: left;\">Int64</th><th title = \"Int64\" style = \"text-align: left;\">Int64</th><th title = \"Int64\" style = \"text-align: left;\">Int64</th></tr></thead><tbody><tr><td class = \"rowNumber\" style = \"font-weight: bold; text-align: right;\">1</td><td style = \"text-align: right;\">1</td><td style = \"text-align: right;\">1</td><td style = \"text-align: right;\">193</td><td style = \"text-align: right;\">1000</td><td style = \"text-align: right;\">1386</td><td style = \"text-align: right;\">2</td></tr><tr><td class = \"rowNumber\" style = \"font-weight: bold; text-align: right;\">2</td><td style = \"text-align: right;\">2</td><td style = \"text-align: right;\">1</td><td style = \"text-align: right;\">195</td><td style = \"text-align: right;\">4000</td><td style = \"text-align: right;\">4390</td><td style = \"text-align: right;\">2</td></tr><tr><td class = \"rowNumber\" style = \"font-weight: bold; text-align: right;\">3</td><td style = \"text-align: right;\">3</td><td style = \"text-align: right;\">1</td><td style = \"text-align: right;\">82</td><td style = \"text-align: right;\">9000</td><td style = \"text-align: right;\">9164</td><td style = \"text-align: right;\">2</td></tr><tr><td class = \"rowNumber\" style = \"font-weight: bold; text-align: right;\">4</td><td style = \"text-align: right;\">4</td><td style = \"text-align: right;\">1</td><td style = \"text-align: right;\">93</td><td style = \"text-align: right;\">5000</td><td style = \"text-align: right;\">5186</td><td style = \"text-align: right;\">2</td></tr><tr><td class = \"rowNumber\" style = \"font-weight: bold; text-align: right;\">5</td><td style = \"text-align: right;\">1</td><td style = \"text-align: right;\">2</td><td style = \"text-align: right;\">302</td><td style = \"text-align: right;\">8000</td><td style = \"text-align: right;\">8604</td><td style = \"text-align: right;\">3</td></tr><tr><td class = \"rowNumber\" style = \"font-weight: bold; text-align: right;\">6</td><td style = \"text-align: right;\">2</td><td style = \"text-align: right;\">2</td><td style = \"text-align: right;\">241</td><td style = \"text-align: right;\">2000</td><td style = \"text-align: right;\">2482</td><td style = \"text-align: right;\">3</td></tr><tr><td class = \"rowNumber\" style = \"font-weight: bold; text-align: right;\">7</td><td style = \"text-align: right;\">3</td><td style = \"text-align: right;\">2</td><td style = \"text-align: right;\">370</td><td style = \"text-align: right;\">1000</td><td style = \"text-align: right;\">1740</td><td style = \"text-align: right;\">3</td></tr><tr><td class = \"rowNumber\" style = \"font-weight: bold; text-align: right;\">8</td><td style = \"text-align: right;\">4</td><td style = \"text-align: right;\">2</td><td style = \"text-align: right;\">47</td><td style = \"text-align: right;\">8000</td><td style = \"text-align: right;\">8094</td><td style = \"text-align: right;\">3</td></tr><tr><td class = \"rowNumber\" style = \"font-weight: bold; text-align: right;\">9</td><td style = \"text-align: right;\">1</td><td style = \"text-align: right;\">3</td><td style = \"text-align: right;\">218</td><td style = \"text-align: right;\">2000</td><td style = \"text-align: right;\">2436</td><td style = \"text-align: right;\">4</td></tr><tr><td class = \"rowNumber\" style = \"font-weight: bold; text-align: right;\">10</td><td style = \"text-align: right;\">2</td><td style = \"text-align: right;\">3</td><td style = \"text-align: right;\">20</td><td style = \"text-align: right;\">3000</td><td style = \"text-align: right;\">3040</td><td style = \"text-align: right;\">4</td></tr><tr><td class = \"rowNumber\" style = \"font-weight: bold; text-align: right;\">11</td><td style = \"text-align: right;\">3</td><td style = \"text-align: right;\">3</td><td style = \"text-align: right;\">259</td><td style = \"text-align: right;\">6000</td><td style = \"text-align: right;\">6518</td><td style = \"text-align: right;\">4</td></tr><tr><td class = \"rowNumber\" style = \"font-weight: bold; text-align: right;\">12</td><td style = \"text-align: right;\">4</td><td style = \"text-align: right;\">3</td><td style = \"text-align: right;\">234</td><td style = \"text-align: right;\">5000</td><td style = \"text-align: right;\">5468</td><td style = \"text-align: right;\">4</td></tr><tr><td class = \"rowNumber\" style = \"font-weight: bold; text-align: right;\">13</td><td style = \"text-align: right;\">1</td><td style = \"text-align: right;\">4</td><td style = \"text-align: right;\">394</td><td style = \"text-align: right;\">6000</td><td style = \"text-align: right;\">6788</td><td style = \"text-align: right;\">5</td></tr><tr><td class = \"rowNumber\" style = \"font-weight: bold; text-align: right;\">14</td><td style = \"text-align: right;\">2</td><td style = \"text-align: right;\">4</td><td style = \"text-align: right;\">215</td><td style = \"text-align: right;\">3000</td><td style = \"text-align: right;\">3430</td><td style = \"text-align: right;\">5</td></tr><tr><td class = \"rowNumber\" style = \"font-weight: bold; text-align: right;\">15</td><td style = \"text-align: right;\">3</td><td style = \"text-align: right;\">4</td><td style = \"text-align: right;\">199</td><td style = \"text-align: right;\">1000</td><td style = \"text-align: right;\">1398</td><td style = \"text-align: right;\">5</td></tr><tr><td class = \"rowNumber\" style = \"font-weight: bold; text-align: right;\">16</td><td style = \"text-align: right;\">4</td><td style = \"text-align: right;\">4</td><td style = \"text-align: right;\">380</td><td style = \"text-align: right;\">9000</td><td style = \"text-align: right;\">9760</td><td style = \"text-align: right;\">5</td></tr><tr><td class = \"rowNumber\" style = \"font-weight: bold; text-align: right;\">17</td><td style = \"text-align: right;\">1</td><td style = \"text-align: right;\">5</td><td style = \"text-align: right;\">495</td><td style = \"text-align: right;\">6000</td><td style = \"text-align: right;\">6990</td><td style = \"text-align: right;\">6</td></tr><tr><td class = \"rowNumber\" style = \"font-weight: bold; text-align: right;\">18</td><td style = \"text-align: right;\">2</td><td style = \"text-align: right;\">5</td><td style = \"text-align: right;\">80</td><td style = \"text-align: right;\">7000</td><td style = \"text-align: right;\">7160</td><td style = \"text-align: right;\">6</td></tr><tr><td class = \"rowNumber\" style = \"font-weight: bold; text-align: right;\">19</td><td style = \"text-align: right;\">3</td><td style = \"text-align: right;\">5</td><td style = \"text-align: right;\">113</td><td style = \"text-align: right;\">2000</td><td style = \"text-align: right;\">2226</td><td style = \"text-align: right;\">6</td></tr><tr><td class = \"rowNumber\" style = \"font-weight: bold; text-align: right;\">20</td><td style = \"text-align: right;\">4</td><td style = \"text-align: right;\">5</td><td style = \"text-align: right;\">440</td><td style = \"text-align: right;\">3000</td><td style = \"text-align: right;\">3880</td><td style = \"text-align: right;\">6</td></tr></tbody></table></div>"
      ],
      "text/latex": [
       "\\begin{tabular}{r|cccccc}\n",
       "\t& i & j & a & b & c & procid\\\\\n",
       "\t\\hline\n",
       "\t& Int64 & Int64 & Int64 & Int64 & Int64 & Int64\\\\\n",
       "\t\\hline\n",
       "\t1 & 1 & 1 & 193 & 1000 & 1386 & 2 \\\\\n",
       "\t2 & 2 & 1 & 195 & 4000 & 4390 & 2 \\\\\n",
       "\t3 & 3 & 1 & 82 & 9000 & 9164 & 2 \\\\\n",
       "\t4 & 4 & 1 & 93 & 5000 & 5186 & 2 \\\\\n",
       "\t5 & 1 & 2 & 302 & 8000 & 8604 & 3 \\\\\n",
       "\t6 & 2 & 2 & 241 & 2000 & 2482 & 3 \\\\\n",
       "\t7 & 3 & 2 & 370 & 1000 & 1740 & 3 \\\\\n",
       "\t8 & 4 & 2 & 47 & 8000 & 8094 & 3 \\\\\n",
       "\t9 & 1 & 3 & 218 & 2000 & 2436 & 4 \\\\\n",
       "\t10 & 2 & 3 & 20 & 3000 & 3040 & 4 \\\\\n",
       "\t11 & 3 & 3 & 259 & 6000 & 6518 & 4 \\\\\n",
       "\t12 & 4 & 3 & 234 & 5000 & 5468 & 4 \\\\\n",
       "\t13 & 1 & 4 & 394 & 6000 & 6788 & 5 \\\\\n",
       "\t14 & 2 & 4 & 215 & 3000 & 3430 & 5 \\\\\n",
       "\t15 & 3 & 4 & 199 & 1000 & 1398 & 5 \\\\\n",
       "\t16 & 4 & 4 & 380 & 9000 & 9760 & 5 \\\\\n",
       "\t17 & 1 & 5 & 495 & 6000 & 6990 & 6 \\\\\n",
       "\t18 & 2 & 5 & 80 & 7000 & 7160 & 6 \\\\\n",
       "\t19 & 3 & 5 & 113 & 2000 & 2226 & 6 \\\\\n",
       "\t20 & 4 & 5 & 440 & 3000 & 3880 & 6 \\\\\n",
       "\\end{tabular}\n"
      ],
      "text/plain": [
       "\u001b[1m20×6 DataFrame\u001b[0m\n",
       "\u001b[1m Row \u001b[0m│\u001b[1m i     \u001b[0m\u001b[1m j     \u001b[0m\u001b[1m a     \u001b[0m\u001b[1m b     \u001b[0m\u001b[1m c     \u001b[0m\u001b[1m procid \u001b[0m\n",
       "     │\u001b[90m Int64 \u001b[0m\u001b[90m Int64 \u001b[0m\u001b[90m Int64 \u001b[0m\u001b[90m Int64 \u001b[0m\u001b[90m Int64 \u001b[0m\u001b[90m Int64  \u001b[0m\n",
       "─────┼───────────────────────────────────────────\n",
       "   1 │     1      1    193   1000   1386       2\n",
       "   2 │     2      1    195   4000   4390       2\n",
       "   3 │     3      1     82   9000   9164       2\n",
       "   4 │     4      1     93   5000   5186       2\n",
       "   5 │     1      2    302   8000   8604       3\n",
       "   6 │     2      2    241   2000   2482       3\n",
       "   7 │     3      2    370   1000   1740       3\n",
       "   8 │     4      2     47   8000   8094       3\n",
       "   9 │     1      3    218   2000   2436       4\n",
       "  10 │     2      3     20   3000   3040       4\n",
       "  11 │     3      3    259   6000   6518       4\n",
       "  12 │     4      3    234   5000   5468       4\n",
       "  13 │     1      4    394   6000   6788       5\n",
       "  14 │     2      4    215   3000   3430       5\n",
       "  15 │     3      4    199   1000   1398       5\n",
       "  16 │     4      4    380   9000   9760       5\n",
       "  17 │     1      5    495   6000   6990       6\n",
       "  18 │     2      5     80   7000   7160       6\n",
       "  19 │     3      5    113   2000   2226       6\n",
       "  20 │     4      5    440   3000   3880       6"
      ]
     },
     "execution_count": 152,
     "metadata": {},
     "output_type": "execute_result"
    }
   ],
   "source": [
    "data = @distributed (append!) for (i, j) = vec(collect(Iterators.product(1:4, 1:5)))\n",
    "    a = rand(1:499)\n",
    "    b = rand(1:9)*1000\n",
    "    c = calc(a, b)\n",
    "    DataFrame(;i,j,a,b,c,procid = myid())\n",
    "end"
   ]
  },
  {
   "cell_type": "markdown",
   "id": "1c625c64",
   "metadata": {},
   "source": [
    "#### Advanced Interprocess communication - cellular automaton example"
   ]
  },
  {
   "cell_type": "code",
   "execution_count": 157,
   "id": "f95065fc",
   "metadata": {},
   "outputs": [
    {
     "data": {
      "text/plain": [
       "1-element Vector{Int64}:\n",
       " 7"
      ]
     },
     "execution_count": 157,
     "metadata": {},
     "output_type": "execute_result"
    }
   ],
   "source": [
    "addprocs(1)"
   ]
  },
  {
   "cell_type": "code",
   "execution_count": 158,
   "id": "c8e469ce",
   "metadata": {},
   "outputs": [
    {
     "data": {
      "text/plain": [
       "runca (generic function with 1 method)"
      ]
     },
     "execution_count": 158,
     "metadata": {},
     "output_type": "execute_result"
    }
   ],
   "source": [
    "using Distributed\n",
    "@everywhere using ParallelDataTransfer, Distributed\n",
    "\n",
    "\n",
    "@everywhere function rule30()\n",
    "    lastv = Main.caa[1]\n",
    "    for i in 2:(length(Main.caa)-1)\n",
    "        current = Main.caa[i]\n",
    "        Main.caa[i] = xor(lastv, Main.caa[i] || Main.caa[i+1])\n",
    "        lastv = current\n",
    "    end\n",
    "end\n",
    "\n",
    "\n",
    "@everywhere function getcaa()\n",
    "    Main.caa\n",
    "end\n",
    "@everywhere function getsetborder()\n",
    "    #println(myid(),\"gs\");flush(stdout)\n",
    "    Main.caa[1] = (@fetchfrom Main.neighbours[1] getcaa()[15+1])\n",
    "    #println(myid(),\"gs1\");flush(stdout)\n",
    "    Main.caa[end] = (@fetchfrom Main.neighbours[2] getcaa()[2])\n",
    "    #println(myid(),\"gse\");flush(stdout)\n",
    "end\n",
    "\n",
    "function printsimdist(workers::Array{Int})\n",
    "    for w in workers\n",
    "        dat = @fetchfrom w caa\n",
    "        for b in dat[2:end-1]\n",
    "            print(b ? \"#\" : \" \")\n",
    "        end\n",
    "    end\n",
    "    println()\n",
    "    flush(stdout)\n",
    "end\n",
    "\n",
    "function runca(steps::Int, visualize::Bool)\n",
    "    @sync for w in workers()\n",
    "        @async @fetchfrom w fill!(caa, false)\n",
    "    end\n",
    "    @fetchfrom wks[Int(nwks/2)+1] caa[2]=true\n",
    "    visualize && printsimdist(workers())\n",
    "    for i in 1:steps\n",
    "        @sync for w in workers()\n",
    "            @async @fetchfrom w getsetborder()\n",
    "        end\n",
    "        @sync for w in workers()\n",
    "            @async @fetchfrom w rule30()\n",
    "        end\n",
    "        visualize && printsimdist(workers())\n",
    "    end\n",
    "end\n",
    "\n"
   ]
  },
  {
   "cell_type": "code",
   "execution_count": 159,
   "id": "b7794574",
   "metadata": {},
   "outputs": [
    {
     "name": "stdout",
     "output_type": "stream",
     "text": [
      "      From worker 2:\tWARNING: redefinition of constant caa. This may fail, cause incorrect answers, or produce other errors.\n",
      "      From worker 3:\tWARNING: redefinition of constant caa. This may fail, cause incorrect answers, or produce other errors.\n",
      "      From worker 4:\tWARNING: redefinition of constant caa. This may fail, cause incorrect answers, or produce other errors.\n",
      "      From worker 5:\tWARNING: redefinition of constant caa. This may fail, cause incorrect answers, or produce other errors.\n",
      "      From worker 6:\tWARNING: redefinition of constant caa. This may fail, cause incorrect answers, or produce other errors.\n",
      "                                             #                                            \n",
      "                                            ###                                           \n",
      "                                           ##  #                                          \n",
      "                                          ## ####                                         \n",
      "                                         ##  #   #                                        \n",
      "                                        ## #### ###                                       \n",
      "                                       ##  #    #  #                                      \n",
      "                                      ## ####  ######                                     \n",
      "                                     ##  #   ###     #                                    \n",
      "                                    ## #### ##  #   ###                                   \n",
      "                                   ##  #    # #### ##  #                                  \n",
      "                                  ## ####  ## #    # ####                                 \n",
      "                                 ##  #   ###  ##  ## #   #                                \n",
      "                                ## #### ##  ### ###  ## ###                               \n",
      "                               ##  #    # ###   #  ###  #  #                              \n",
      "                              ## ####  ## #  # #####  #######                             \n",
      "                             ##  #   ###  #### #    ###      #                            \n",
      "                            ## #### ##  ###    ##  ##  #    ###                           \n",
      "                           ##  #    # ###  #  ## ### ####  ##  #                          \n",
      "                          ## ####  ## #  ######  #   #   ### ####                         \n",
      "                         ##  #   ###  ####     #### ### ##   #   #                        \n"
     ]
    }
   ],
   "source": [
    "wks = workers()\n",
    "nwks = length(wks)\n",
    "for i in 1:nwks\n",
    "    sendto(wks[i], neighbours = (i==1 ? wks[nwks] : wks[i-1],\n",
    "                                i==nwks ? wks[1] : wks[i+1]))\n",
    "    fetch(@defineat wks[i] const caa = zeros(Bool, 15+2));\n",
    "end\n",
    "\n",
    "runca(20,true)\n"
   ]
  },
  {
   "cell_type": "markdown",
   "id": "16dd9a38",
   "metadata": {},
   "source": [
    "*Preparation of this workshop has been supported by the Polish National Agency for Academic Exchange under the Strategic Partnerships programme, grant number BPI/PST/2021/1/00069/U/00001.*\n",
    "\n",
    "![SGH & NAWA](logo.png)"
   ]
  }
 ],
 "metadata": {
  "kernelspec": {
   "display_name": "Julia 1.8.5",
   "language": "julia",
   "name": "julia-1.8"
  },
  "language_info": {
   "file_extension": ".jl",
   "mimetype": "application/julia",
   "name": "julia",
   "version": "1.8.5"
  }
 },
 "nbformat": 4,
 "nbformat_minor": 5
}
